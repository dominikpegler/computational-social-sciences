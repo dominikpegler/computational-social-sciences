{
 "cells": [
  {
   "cell_type": "markdown",
   "id": "583c2c4c-0d47-4d74-a3bf-b3dcd2aac2d2",
   "metadata": {},
   "source": [
    "Process Text from entire books\n",
    "===\n",
    "\n",
    "* This could be the first step of a possible final project  \n",
    "* In a further step text could be analyzed   \n",
    "* Books could be rated according to certain dimensions  \n",
    "* Find the music with the most similar lyrics to a book  "
   ]
  },
  {
   "cell_type": "raw",
   "id": "100daff4-f6e0-4b0f-a334-eee60ba1ac70",
   "metadata": {},
   "source": [
    "!pip install PyPDF2"
   ]
  },
  {
   "cell_type": "markdown",
   "id": "2c89a71e-6a24-47e6-882c-d914e55b41c5",
   "metadata": {},
   "source": [
    "## From PDF to Text"
   ]
  },
  {
   "cell_type": "raw",
   "id": "1f2cc29d-7460-4f9d-8579-3d1dcd860369",
   "metadata": {},
   "source": [
    "import PyPDF2\n",
    "\n",
    "pdffileobj=open('data/1.pdf','rb')\n",
    " \n",
    "pdfreader=PyPDF2.PdfFileReader(pdffileobj)\n",
    " \n",
    "x=pdfreader.numPages\n",
    " \n",
    "pageobj=pdfreader.getPage(x+1)\n",
    " \n",
    "text=pageobj.extractText()\n",
    " \n",
    "file1=open(r\"data/1.txt\",\"a\")\n",
    "file1.writelines(text)"
   ]
  },
  {
   "cell_type": "markdown",
   "id": "db54bd09-2446-43c7-8231-6219b719ea8d",
   "metadata": {},
   "source": [
    "## From Ebook to Text"
   ]
  },
  {
   "cell_type": "raw",
   "id": "16a1ab6e-47b5-4c9e-8296-2a223506d6f8",
   "metadata": {},
   "source": [
    "!pip install epub2txt"
   ]
  },
  {
   "cell_type": "raw",
   "id": "3bf08d35-9689-4416-b137-3ba8d3693191",
   "metadata": {},
   "source": [
    "from epub2txt import epub2txt\n",
    "# from a url to epub\n",
    "url = \"https://github.com/ffreemt/tmx2epub/raw/master/tests/1.tmx.epub\"\n",
    "res = epub2txt(url)\n",
    "\n",
    "# from a local epub file\n",
    "filepath = r\"tests\\test.epub\"\n",
    "res = epub2txt(filepath)"
   ]
  },
  {
   "cell_type": "markdown",
   "id": "c8519ee7-26c4-4c55-929c-8dc391fd2ac7",
   "metadata": {},
   "source": [
    "## Books that were already converted from to txt with calibre"
   ]
  },
  {
   "cell_type": "code",
   "execution_count": 3,
   "id": "b93aad73-564a-4ca4-a211-bd547f31b7bc",
   "metadata": {},
   "outputs": [
    {
     "data": {
      "text/plain": [
       "['data/Thomas Pynchon - V.txt',\n",
       " \"data/Thomas Pynchon - Gravity's rainbow.txt\",\n",
       " 'data/William Faulkner - The Sound and the Fury.txt']"
      ]
     },
     "execution_count": 3,
     "metadata": {},
     "output_type": "execute_result"
    }
   ],
   "source": [
    "from glob import glob\n",
    "\n",
    "books = glob(\"data/*.txt\")\n",
    "\n",
    "books"
   ]
  },
  {
   "cell_type": "code",
   "execution_count": null,
   "id": "f69b23fe-fdc2-44e5-a05c-382cfeeef7e0",
   "metadata": {},
   "outputs": [],
   "source": []
  }
 ],
 "metadata": {
  "kernelspec": {
   "display_name": "Python 3 (ipykernel)",
   "language": "python",
   "name": "python3"
  },
  "language_info": {
   "codemirror_mode": {
    "name": "ipython",
    "version": 3
   },
   "file_extension": ".py",
   "mimetype": "text/x-python",
   "name": "python",
   "nbconvert_exporter": "python",
   "pygments_lexer": "ipython3",
   "version": "3.9.13"
  }
 },
 "nbformat": 4,
 "nbformat_minor": 5
}
