{
 "cells": [
  {
   "cell_type": "markdown",
   "id": "583c2c4c-0d47-4d74-a3bf-b3dcd2aac2d2",
   "metadata": {},
   "source": [
    "Process text from entire books\n",
    "===\n",
    "\n",
    "* This could be the first step of a possible final project  \n",
    "* In a further step text could be analyzed   \n",
    "* Books could be rated according to certain dimensions  \n",
    "* Find the music with the most similar lyrics to a book  "
   ]
  },
  {
   "cell_type": "code",
   "execution_count": null,
   "id": "a26f7904-dfd3-4360-b8ff-12eb6fb1b592",
   "metadata": {},
   "outputs": [
    {
     "data": {
      "text/html": [
       "\n",
       "                <script type=\"application/javascript\" id=\"jupyter_black\">\n",
       "                (function() {\n",
       "                    if (window.IPython === undefined) {\n",
       "                        return\n",
       "                    }\n",
       "                    var msg = \"WARNING: it looks like you might have loaded \" +\n",
       "                        \"jupyter_black in a non-lab notebook with \" +\n",
       "                        \"`is_lab=True`. Please double check, and if \" +\n",
       "                        \"loading with `%load_ext` please review the README!\"\n",
       "                    console.log(msg)\n",
       "                    alert(msg)\n",
       "                })()\n",
       "                </script>\n",
       "                "
      ],
      "text/plain": [
       "<IPython.core.display.HTML object>"
      ]
     },
     "metadata": {},
     "output_type": "display_data"
    }
   ],
   "source": [
    "import jupyter_black\n",
    "\n",
    "jupyter_black"
   ]
  },
  {
   "cell_type": "raw",
   "id": "100daff4-f6e0-4b0f-a334-eee60ba1ac70",
   "metadata": {},
   "source": [
    "!pip install PyPDF2"
   ]
  },
  {
   "cell_type": "markdown",
   "id": "2c89a71e-6a24-47e6-882c-d914e55b41c5",
   "metadata": {},
   "source": [
    "## From PDF to Text"
   ]
  },
  {
   "cell_type": "raw",
   "id": "1f2cc29d-7460-4f9d-8579-3d1dcd860369",
   "metadata": {},
   "source": [
    "import PyPDF2\n",
    "\n",
    "pdffileobj=open('data/1.pdf','rb')\n",
    " \n",
    "pdfreader=PyPDF2.PdfFileReader(pdffileobj)\n",
    " \n",
    "x=pdfreader.numPages\n",
    " \n",
    "pageobj=pdfreader.getPage(x+1)\n",
    " \n",
    "text=pageobj.extractText()\n",
    " \n",
    "file1=open(r\"data/1.txt\",\"a\")\n",
    "file1.writelines(text)"
   ]
  },
  {
   "cell_type": "code",
   "execution_count": 1,
   "id": "82c8948d-af3d-4fac-a428-39541ee16579",
   "metadata": {},
   "outputs": [],
   "source": [
    "#\n",
    "#\n",
    "#"
   ]
  },
  {
   "cell_type": "markdown",
   "id": "db54bd09-2446-43c7-8231-6219b719ea8d",
   "metadata": {},
   "source": [
    "## From Ebook to Text"
   ]
  },
  {
   "cell_type": "raw",
   "id": "e418a493-4dca-48c9-8b25-d7784ffa29a6",
   "metadata": {},
   "source": [
    "!pip install epub2txt"
   ]
  },
  {
   "cell_type": "code",
   "execution_count": 43,
   "id": "60e1608d-9bcd-4786-814c-886da9698388",
   "metadata": {},
   "outputs": [],
   "source": [
    "# find epub files\n",
    "\n",
    "from glob import glob\n",
    "\n",
    "epubs = glob(\"/home/user/Dropbox/calibre/**/*.epub\", recursive=True)"
   ]
  },
  {
   "cell_type": "code",
   "execution_count": null,
   "id": "01656b13-c0a6-4592-8db0-2e79534ebc1f",
   "metadata": {},
   "outputs": [],
   "source": []
  },
  {
   "cell_type": "code",
   "execution_count": 60,
   "id": "46389be3-ef1f-4b03-a4e3-e643e88e49b9",
   "metadata": {},
   "outputs": [
    {
     "name": "stdout",
     "output_type": "stream",
     "text": [
      "couldn't convert Slow Learner - Thomas Pynchon: Entity 'nbsp' not defined, line 11, column 87 (<string>, line 11)\n"
     ]
    }
   ],
   "source": [
    "from epub2txt import epub2txt\n",
    "import os\n",
    "\n",
    "books_dir = \"data/books\"\n",
    "\n",
    "# idx of some books\n",
    "idx = [8, 9, 11, 12, 13, 14, 15, 16, 17]\n",
    "\n",
    "\n",
    "if os.path.exists(books_dir) == False:\n",
    "    os.makedirs(books_dir)\n",
    "\n",
    "for i in idx:\n",
    "    try:\n",
    "        filepath = epubs[i]\n",
    "        title = os.path.basename(filepath)[:-5]\n",
    "        res = epub2txt(filepath)\n",
    "        with open(books_dir + \"/\" + title + \".txt\", \"w\") as fo:\n",
    "            fo.write(res)\n",
    "    except Exception as e:\n",
    "        print(f\"couldn't convert {title}: {e}\")"
   ]
  },
  {
   "cell_type": "markdown",
   "id": "c8519ee7-26c4-4c55-929c-8dc391fd2ac7",
   "metadata": {},
   "source": [
    "## Books that were already converted to txt"
   ]
  },
  {
   "cell_type": "markdown",
   "id": "ee811da2-99ee-4179-baae-9ca526b9e92c",
   "metadata": {},
   "source": [
    "<div class=\"alert alert-warning\">It is probably a better idea to use calibre for the epub to txt conversion.</div>"
   ]
  },
  {
   "cell_type": "code",
   "execution_count": 62,
   "id": "b93aad73-564a-4ca4-a211-bd547f31b7bc",
   "metadata": {},
   "outputs": [
    {
     "data": {
      "text/plain": [
       "[\"data/books/Gravity's rainbow - Thomas Pynchon.txt\",\n",
       " 'data/books/V_ - Thomas Pynchon.txt',\n",
       " 'data/books/Against the Day - Thomas Pynchon.txt',\n",
       " 'data/books/The crying of lot 49 - Thomas Pynchon.txt',\n",
       " 'data/books/The Sound and the Fury - William Faulkner; David Minter.txt',\n",
       " 'data/books/Bleeding Edge - Pynchon, Thomas.txt',\n",
       " 'data/books/Inherent Vice - Thomas Pynchon.txt',\n",
       " 'data/books/Mason & Dixon - Thomas Pynchon.txt']"
      ]
     },
     "execution_count": 62,
     "metadata": {},
     "output_type": "execute_result"
    }
   ],
   "source": [
    "from glob import glob\n",
    "import numpy as np\n",
    "import matplotlib.pyplot as plt\n",
    "import regex as re\n",
    "import contractions\n",
    "\n",
    "\n",
    "books = glob(books_dir + \"/*.txt\")\n",
    "\n",
    "books"
   ]
  },
  {
   "cell_type": "code",
   "execution_count": 65,
   "id": "60af29ec-e541-4e60-b23b-738dde2e8a8e",
   "metadata": {},
   "outputs": [
    {
     "data": {
      "text/plain": [
       "'data/books/The Sound and the Fury - William Faulkner; David Minter.txt'"
      ]
     },
     "execution_count": 65,
     "metadata": {},
     "output_type": "execute_result"
    }
   ],
   "source": [
    "books[4]"
   ]
  },
  {
   "cell_type": "code",
   "execution_count": 84,
   "id": "fab7d4fc-b2cb-4ae6-99e9-5a586f604cbb",
   "metadata": {},
   "outputs": [
    {
     "name": "stdout",
     "output_type": "stream",
     "text": [
      "data/books/The Sound and the Fury - William Faulkner; David Minter.txt has 233 paragraphs.\n"
     ]
    }
   ],
   "source": [
    "with open(books[4], \"r\") as fo:\n",
    "    book = fo.readlines()\n",
    "\n",
    "print(f\"{books[4]} has {len(book)} paragraphs.\")"
   ]
  },
  {
   "cell_type": "markdown",
   "id": "df1fe75b-d43c-47fb-a562-d1d7180038cf",
   "metadata": {},
   "source": [
    "### Inspection\n",
    "1. Novel starts at paragraph 58\n",
    "2. There are meaningless numbers in the format \"1.8\" in between the text on single lines.\n",
    "3. Each paragraph ends with `\\n` which is not necessary here\n",
    "4. There are entirely empty lines"
   ]
  },
  {
   "cell_type": "markdown",
   "id": "a72b39af-fff3-4acc-9038-9180ebcd1285",
   "metadata": {},
   "source": [
    "#### 1.a Split more"
   ]
  },
  {
   "cell_type": "code",
   "execution_count": 88,
   "id": "f1028334-318b-41f3-afbe-fc7e27ad0b6f",
   "metadata": {},
   "outputs": [
    {
     "name": "stdout",
     "output_type": "stream",
     "text": [
      "6859 paragraphs\n"
     ]
    }
   ],
   "source": [
    "# another paragraph split character?\n",
    "\n",
    "spltchars = [\"\\xa0\\xa0\\xa0\\xa0\\xa0\", \"\\xa0\"]\n",
    "\n",
    "# split further\n",
    "for splch in spltchars:\n",
    "    book = [a for b in [s.split(splch) for s in book] for a in b]\n",
    "\n",
    "print(len(book), \"paragraphs\")"
   ]
  },
  {
   "cell_type": "markdown",
   "id": "e34e80fa-3f34-4397-8433-45b91c2c7244",
   "metadata": {},
   "source": [
    "#### 1.b Trim"
   ]
  },
  {
   "cell_type": "code",
   "execution_count": 94,
   "id": "2f600f5e-a61d-4ac1-ae15-acdbf8afe02a",
   "metadata": {},
   "outputs": [
    {
     "data": {
      "text/plain": [
       "18"
      ]
     },
     "execution_count": 94,
     "metadata": {},
     "output_type": "execute_result"
    }
   ],
   "source": [
    "book[4:].index(\"The Sound and the Fury\\n\")"
   ]
  },
  {
   "cell_type": "code",
   "execution_count": 96,
   "id": "cdb2c687-ebbc-4220-9c4c-b9bbdd4b61a1",
   "metadata": {},
   "outputs": [
    {
     "data": {
      "text/plain": [
       "'April 7, 1928'"
      ]
     },
     "execution_count": 96,
     "metadata": {},
     "output_type": "execute_result"
    }
   ],
   "source": [
    "book[23]"
   ]
  },
  {
   "cell_type": "code",
   "execution_count": 97,
   "id": "8ddcdbec-cdaf-49ad-848f-8ab14b1ba290",
   "metadata": {},
   "outputs": [],
   "source": [
    "book = book[23:]"
   ]
  },
  {
   "cell_type": "markdown",
   "id": "69eb8721-780c-46c9-8f78-0994638c896f",
   "metadata": {},
   "source": [
    "#### 2. Remove meaningless numbers and 3. remove `\\n`"
   ]
  },
  {
   "cell_type": "markdown",
   "id": "35fb536d-e085-453a-941c-ce567552b134",
   "metadata": {},
   "source": [
    "*Example*"
   ]
  },
  {
   "cell_type": "code",
   "execution_count": 98,
   "id": "65740fa5-c1cf-482b-b47f-c5fa010b92f5",
   "metadata": {},
   "outputs": [
    {
     "data": {
      "text/plain": [
       "'1.8\"Do you think buzzards are going to undress Damuddy.\" Caddy said. \"You\\'re crazy.\" \"You\\'re a skizzard.\" Jason said. He began to cry. \"You\\'re a knobnut.\" Caddy said. Jason cried. His hands were in his pockets. \"Jason going to be rich man.\" Versh said. \"He holding his money all the time.\" Jason cried. \"Now you\\'ve got him started.\" Caddy said. \"Hush up, Jason. How can buzzards get in where Damuddy is. Father wouldn\\'t let them. Would you let a buzzard undress you. Hush up, now.\" Jason hushed. \"Frony said it was a funeral.\" he said. \"Well it\\'s not.\" Caddy said. \"It\\'s a party. Frony dont know anything about it. He wants your lightning bugs, T.P. Let him hold it a while.\" T.P. gave me the bottle of lightning bugs. \"I bet if we go around to the parlor window we can see something.\" Caddy said. \"Then you\\'ll believe me.\" \"I already knows.\" Frony said. \"I dont need to see. \"You better hush your mouth, Frony.\" Versh said. \"Mammy going whip you.\" \"What is it.\" Caddy said. \"I knows what I knows.\" Frony said. \"Come on.\" Caddy said. \"Let\\'s go around to the front.\" We started to go. \"T P. wants his lightning bugs.\" Frony said. \"Let him hold it a while longer, T.P.\" Caddy said. \"We\\'ll bring it back.\" \"You all never caught them.\" Frony said. \"If I say you and T.P. can come too, will you let him hold it.\" Caddy said. \"Aint nobody said me and T.P. got to mind you.\" Frony said. \"If I say you dont have to, will you let him hold it.\" Caddy said. \"All right.\" Frony said. \"Let him hold it, T.P. We going to watch them moaning.\" \"They aint moaning.\" Caddy said. \"I tell you it\\'s a party. Are they moaning, Versh.\" \"We aint going to know what they doing, standing here.\" Versh said. \"Come on.\" Caddy said. \"Frony and T.P. dont have to mind me. But the rest of us do. You better carry him, Versh. It\\'s getting dark.\" Versh took me up and we went on around the kitchen. 10.2When we looked around the corner we could see the lights coming up the drive. T.P. went back to the cellar door and opened it.You know what\\'s down there, T.P. said. Soda water. I seen Mr Jason come up with both hands full of them. Wait here a minute.\\n'"
      ]
     },
     "execution_count": 98,
     "metadata": {},
     "output_type": "execute_result"
    }
   ],
   "source": [
    "book[22]"
   ]
  },
  {
   "cell_type": "code",
   "execution_count": 99,
   "id": "410be7c2-b8a2-4e68-b9a4-b28a5d7644c0",
   "metadata": {},
   "outputs": [
    {
     "data": {
      "text/plain": [
       "'April 7, 1928'"
      ]
     },
     "execution_count": 99,
     "metadata": {},
     "output_type": "execute_result"
    }
   ],
   "source": [
    "book[0]"
   ]
  },
  {
   "cell_type": "code",
   "execution_count": 100,
   "id": "80f9ab8b-7025-452a-bdbf-c9cf87bcfa3d",
   "metadata": {},
   "outputs": [],
   "source": [
    "rm_pattern_1 = \"^[0-9]*\\.[0-9]*\\\\n$\"\n",
    "rm_pattern_2 = \"\\\\n$\"\n",
    "\n",
    "for i, _ in enumerate(book):\n",
    "    book[i] = re.sub(rm_pattern_1, \"\", book[i])\n",
    "    book[i] = re.sub(rm_pattern_2, \"\", book[i])"
   ]
  },
  {
   "cell_type": "markdown",
   "id": "c0fb6b84-4cba-4924-af3c-ec26a68b4ae6",
   "metadata": {},
   "source": [
    "*Example*"
   ]
  },
  {
   "cell_type": "code",
   "execution_count": 101,
   "id": "78a3edb6-c2a5-41aa-a6b2-f604443723be",
   "metadata": {},
   "outputs": [
    {
     "data": {
      "text/plain": [
       "'1.8\"Do you think buzzards are going to undress Damuddy.\" Caddy said. \"You\\'re crazy.\" \"You\\'re a skizzard.\" Jason said. He began to cry. \"You\\'re a knobnut.\" Caddy said. Jason cried. His hands were in his pockets. \"Jason going to be rich man.\" Versh said. \"He holding his money all the time.\" Jason cried. \"Now you\\'ve got him started.\" Caddy said. \"Hush up, Jason. How can buzzards get in where Damuddy is. Father wouldn\\'t let them. Would you let a buzzard undress you. Hush up, now.\" Jason hushed. \"Frony said it was a funeral.\" he said. \"Well it\\'s not.\" Caddy said. \"It\\'s a party. Frony dont know anything about it. He wants your lightning bugs, T.P. Let him hold it a while.\" T.P. gave me the bottle of lightning bugs. \"I bet if we go around to the parlor window we can see something.\" Caddy said. \"Then you\\'ll believe me.\" \"I already knows.\" Frony said. \"I dont need to see. \"You better hush your mouth, Frony.\" Versh said. \"Mammy going whip you.\" \"What is it.\" Caddy said. \"I knows what I knows.\" Frony said. \"Come on.\" Caddy said. \"Let\\'s go around to the front.\" We started to go. \"T P. wants his lightning bugs.\" Frony said. \"Let him hold it a while longer, T.P.\" Caddy said. \"We\\'ll bring it back.\" \"You all never caught them.\" Frony said. \"If I say you and T.P. can come too, will you let him hold it.\" Caddy said. \"Aint nobody said me and T.P. got to mind you.\" Frony said. \"If I say you dont have to, will you let him hold it.\" Caddy said. \"All right.\" Frony said. \"Let him hold it, T.P. We going to watch them moaning.\" \"They aint moaning.\" Caddy said. \"I tell you it\\'s a party. Are they moaning, Versh.\" \"We aint going to know what they doing, standing here.\" Versh said. \"Come on.\" Caddy said. \"Frony and T.P. dont have to mind me. But the rest of us do. You better carry him, Versh. It\\'s getting dark.\" Versh took me up and we went on around the kitchen. 10.2When we looked around the corner we could see the lights coming up the drive. T.P. went back to the cellar door and opened it.You know what\\'s down there, T.P. said. Soda water. I seen Mr Jason come up with both hands full of them. Wait here a minute.'"
      ]
     },
     "execution_count": 101,
     "metadata": {},
     "output_type": "execute_result"
    }
   ],
   "source": [
    "book[22]"
   ]
  },
  {
   "cell_type": "code",
   "execution_count": 102,
   "id": "bd1c3225-ce4c-4a13-950b-72088d6d89e7",
   "metadata": {},
   "outputs": [
    {
     "data": {
      "text/plain": [
       "'April 7, 1928'"
      ]
     },
     "execution_count": 102,
     "metadata": {},
     "output_type": "execute_result"
    }
   ],
   "source": [
    "book[0]"
   ]
  },
  {
   "cell_type": "markdown",
   "id": "672a2c26-6c79-4e4d-8621-e5df7b91e9a7",
   "metadata": {},
   "source": [
    "#### 4. Remove empty lines"
   ]
  },
  {
   "cell_type": "markdown",
   "id": "515c0f58-65f1-4312-9d8f-67cfacb34bd9",
   "metadata": {},
   "source": [
    "*Before*"
   ]
  },
  {
   "cell_type": "code",
   "execution_count": 103,
   "id": "c2cb741b-37c1-41de-9db6-fd74055f62b7",
   "metadata": {},
   "outputs": [
    {
     "name": "stdout",
     "output_type": "stream",
     "text": [
      "April 7, 1928\n",
      "Through the fence, between the curling flower spaces, I could see them hitting. They were coming toward where the flag was and I went along the fence. Luster was hunting in the grass by the flower tree. They took the flag out, and they were hitting. Then they put the flag back and they went to the table, and he hit and the other hit. Then they went on, and I went along the fence. Luster came away from the flower tree and we went along the fence and they stopped and we stopped and I looked through the fence while Luster was hunting in the grass. \"Here, caddie.\" He hit. They went away across the pasture. I held to the fence and watched them going away. \"Listen at you, now.\" Luster said. \"Aint you something, thirty three years old, going on that way. After I done went all the way to town to buy you that cake. Hush up that moaning. Aint you going to help me find that quarter so I can go to the show tonight.\" They were hitting little, across the pasture. I went back along the fence to where the flag was. It flapped on the bright grass and the trees. \"Come on.\" Luster said. \"We done looked there. They aint no more coming right now. Les go down to the branch and find that quarter before them niggers finds it.\" It was red, flapping on the pasture. Then there was a bird slanting and tilting on it. Luster threw. The flag flapped on the bright grass and the trees. I held to the fence. \"Shut up that moaning.\" Luster said. \"I cant make them come if they aint coming, can I. If you dont hush up, mammy aint going to have no birthday for you. If you dont hush, you know what I going to do. I going to eat that cake all up. Eat them candles, too. Eat all them thirty three candles. Come on, les go down to the branch. I got to find my quarter. Maybe we can find one of they balls. Here. Here they is. Way over yonder. See.\" He came to the fence and pointed his arm. \"See them. They aint coming back here no more. Come on. We went along the fence and came to the garden fence, where our shadows were. My shadow was higher than Luster's on the fence. We came to the hroken place and went through it. \"Wait a minute.\" Luster said. \"You snagged on that nail again. Cant you never crawl through here without snagging on that nail.\" 4.1Caddy uncaught me and we crawled through. Uncle Maury said to not let anybody see us, so we better stoop over, Caddy said. Stoop over, Benjy. Like this, see. We stooped over and crossed the garden, where the flowers rasped and rattled against us. The ground was hard. We climbed the fence, where the pigs were grunting and snuffing. I expect they're sorry because one of them got killed today, Caddy said. The ground was hard, churned and knotted. Keep your hands in your pockets, Caddy said. Or they'll get froze. You dont want your hands froze on Christmas, do you.\n",
      "3.1\"It's too cold out there.\" Versh said. \"You dont want to go outdoors.\" \"What is it now.\" Mother said. \"He want to go out doors.\" Versh said. \"Let him go.\" Uncle Maury said. \"It's too cold.\" Mother said. \"He'd better stay in. Benjamin. Stop that, now.\" \"It wont hurt him.\" Uncle Maury said. \"You, Benjamin.\" Mother said. \"If vou dont be good, you'll have to go to the kitchen.\" \"Mammy say keep him out the kitchen today.\" Versh said. \"She say she got all that cooking to get done.\" \"Let him go, Caroline.\" Uncle Maury said. \"You'll worry yourself sick over him.\" \"I know it.\" Mother said. \"It's a judgment on me. I sometimes wonder.\" \"I know, I know.\" Uncle Maury said. \"You must keep your strength up. I'll make you a toddy.\" \"It just upsets me that much more.\" Mother said. \"Dont you know it does.\" \"You'll feel better. \" Uncle Maury said. \"Wrap him up good, boy, and take him out for a while.\" Uncle Maury went away. Versh went away. \"Please hush.\" Mother said. \"We're trying to get you out as fast as we can. I dont want you to get sick.\" Versh put my overshoes and overcoat on and we took my cap and went out. Uncle Maury was putting the bottle away in the sideboard in the diningroom. \"Keep him out about half an hour, boy.\" Uncle Maury said. \"Keep him in the yard, now.\" \"Yes, sir.\" Versh said. \"We dont never let him get off the place.\" We went out doors. The sun was cold and bright. \"Where you heading for.\" Versh said. \"You dont think you going to town, does you.\" We went through the rattling leaves. The gate was cold. \"You better keep them hands in your pockets.\" Versh said. \"You get them froze onto that gate, then what you do. Whyn't you wait for them in the house.\" He put my hands into my pockets. I could hear him rattling in the leaves. I could smell the cold. The gate was cold. \"Here some hickeynuts. Whooey. Git up that tree. Look here at this squirl, Benjy.\" I couldn't feel the gate at all, but I could smell the bright cold. \"You better put them hands back in your pockets.\" Caddy was walking. Then she was running, her booksatchel swinging and jouncing behind her. \"Hello, Benjy.\" Caddy said. She opened the gate and came in and stooped down. Caddy smelled like leaves. \"Did you come to meet me.\" she said. \"Did you come to meet Caddy. What did you let him get his hands so cold for, Versh.\" \"I told him to keep them in his pockets.\" Versh said. \"Holding on to that ahun gate.\" \"Did you come to meet Caddy.\" she said, rubbing my hands. \"What is it. What are you trying to tell Caddy.\" Caddy smelled like trees and like when she says we were asleep. 19.2What are you moaning about, Luster said. You can watch them again when we get to the branch. Here. Here's you a jimson weed. He gave me the flower. We went through the fence, into the lot.\n",
      "3.2\"What is it.\" Caddy said \"What are you trying to tell Caddy. Did they send him out, Versh.\" \"Couldn't keep him in.\" Versh said. \"He kept on until they let him go and he come right straight down here, looking through the gate.\" \"What is it.\" Caddy said. \"Did you think it would be Christmas when I came home from school. Is that what you thought. Christmas is the day after tomorrow. Santy Claus, Benjy. Santy Claus. Come on, let's run to the house and get warm.\" She took my hand and we ran through the bright rustling leaves. We ran up the steps and out of the bright cold, into the dark cold. Uncle Maury was putting the bottle back in the sideboard. He called Caddy. Caddy said, \"Take him in to the fire, Versh. Go with Versh.\" she said. \"I'll come in a minute.\" We went to the fire. Mother said, \"Is he cold, Versh.\" \"Nome.\" Versh said. \"Take his overcoat and overshoes off.\" Mother said. \"How many times do I have to tell you not to bring him into the house with his overshoes on. \"Yessum.\" Versh said. \"Hold still, now.\" He took my overshoes off and unbuttoned my coat. Caddy said, \"Wait, Versh. Cant he go out again, Mother. I want him to go with me. \"You'd better leave him here.\" Uncle Maury said. \"He's been out enough today.\" \"I think you'd both better stay in.\" Mother said. \"It's getting colder, Dilsey says.\" \"Oh, Mother.\" Caddy said. \"Nonsense.\" Uncle Maury said. \"She's been in school all day. She needs the fresh air. Run along, Candace.\" \"Let him go, Mother.\" Caddy said. \"Please. You know he'll cry.\" \"Then why did you mention it before him.\" Mother said. \"Why did you come in here. To give him some excuse to worry me again. You've been out enough today. I think you'd better sit down here and play with him.\" \"Let them go, Caroline.\" Uncle Maury said. \"A little cold wont hurt them. Remember, you've got to keep your strength up. \"I know.\" Mother said. \"Nobody knows how I dread Christmas. Nobody knows. I am not one of those women who can stand things. I wish for Jason's and the children's sakes I was stronger.\" \"You must do the best you can and not let them worry you. \" Uncle Maury said. \"Run along. you two. But dont stay out long, now. Your mother will worry.\" \"Yes, sir.\" Caddy said. \"Come on, Benjy. We're going out doors again.\" She buttoned my coat and we went toward the door. \"Are you going to take that baby out without his overshoes.\" Mother said. \"Do you want to make him sick, with the house full of company.\" \"I forgot.\" Caddy said. \"I thought he had them on. We went back. \"You must think.\" Mother said. Hold still now Versh said. He put my overshoes on. \"Someday I'll be gone, and you'll have to think for him.\" Now stomp Versh said. \"Come here and kiss Mother, Benjamin.\" Caddy took me to Mother's chair and Mother took my face in her hands and then she held me against her. \"My poor baby.\" she said. She let me go. \"You and Versh take good care of him, honey.\" \"Yessum.\" Caddy said. We went out. Caddy said, \"You needn't go, Versh. I'll keep him for a while.\" \"All right.\" Versh said. \"I aint going out in that cold for no fun.\" He went on and we stopped in the hall and Caddy knelt and put her arms around me and her cold bright face against mine. She smelled like trees. \"You're not a poor baby. Are you. Are you. You've got your Caddy. Haven't you got your Caddy.\" 19.3Cant you shut up that moaning and slobbering, Luster said. Aint you shamed of yourself, making all this racket. We passed the carriage house, where the carriage was. It had a new wheel.\n",
      "17.1\"Git in, now, and set still until your maw come.\" Dilsey said. She shoved me into the carriage. T.P. held the reins. \"Clare I dont see how come Jason wont get a new surrey.\" Dilsey said. \"This thing going to fall to pieces under you all some day. Look at them wheels.\" Mother came out, pulling her veil down. She had some flowers. \"Where's Roskus.\" she said. \"Roskus cant lift his arms, today.\" Dilsey said. \"T.P. can drive all right.\" \"I'm afraid to.\" Mother said. \"It seems to me you all could furnish me with a driver for the carriage once a week. It's little enough I ask, Lord knows.\" \"You know just as well as me that Roskus got the rheumatism too bad to do more than he have to, Miss Cahline.\" Dilsey said. \"You come on and get in, now. T.P. can drive you just as good as Roskus.\" \"I'm afraid to.\" Mother said. \"With the baby.\" Dilsey went up the steps. \"You calling that thing a baby.\" she said. She took Mother's arm. \"A man big as T.P. Come on, now, if you going.\" \"I'm afraid to.\" Mother said. They came down the steps and Dilsey helped Mother in. \"Perhaps it'll be the best thing, for all of us.\" Mother said. \"Aint you shamed, talking that way.\" Dilsey said. \"Dont you know it'll take more than a eighteen year old nigger to make Queenie run away. She older than him and Benjy put together. And dont you start no projecking with Queenie, you hear me. T.P. If you dont drive to suit Miss Cahline, I going to put Roskus on you. He aint too tied up to do that.\" \"Yessum.\" T.P. said. \"I just know something will happen.\" Mother said. \"Stop, Benjamin. \"Give him a flower to hold.\" Dilsey said. \"That what he wanting.\" She reached her hand in. \"No, no.\" Mother said. \"You'll have them all scattered.\" \"You hold them.\" Dilsey said. \"I'll get him one out.\" She gave me a flower and her hand went away. \"Go on now, fore Quentin see you and have to go too.\" Dilsey said. \"Where is she.\" Mother said. \"She down to the house playing with Luster.\" Dilsey said. \"Go on, T.P. Drive that surrey like Roskus told you, now. \"Yessum.\" T.P. said. \"Hum up, Queenie.\" \"Quentin.\" Mother said. \"Dont let \" \"Course I is.\" Dilsey said. The carriage jolted and crunched on the drive. \"I'm afraid to go and leave Quentin.\" Mother said. \"I'd better not go. T.P.\" We went through the gate, where it didn't jolt anymore. T.P. hit Queenie with the whip. \"You, T.P.\" Mother said. \"Got to get her going.\" T.P. said. \"Keep her wake up till we get back to the barn.\" \"Turn around.\" Mother said. \"I'm afraid to go and leave Quentin.\" \"Cant turn here.\" T.P. said. Then it was broader. \"Cant you turn here.\" Mother said. \"All right.\" T.P. said. We began to turn. \"You, T.P.\" Mother said, clutching me. \"I got to turn around some how.\" T.P. said. \"Whoa, Queenie.\" We stopped. \"You'll turn us over.\" Mother said. \"What you want to do, then.\" T.P. said. \"I'm afraid for you to try to turn around.\" Mother said. \"Get up, Queenie.\" T.P. said. We went on. \"I just know Dilsey will let something happen to Quentin while I'm gone.\" Mother said. \"We must hurry back.\" \"Hum up,' there.\" T.P. said. He hit Queenie with the whip. \"You, T.P.\" Mother said, clutching me. I could hear Qucenie's feet and the bright shapes went smooth and steady on both sides, the shadows of them flowing across Queenie's back. They went on like the bright tops of wheels. Then those on one side stopped at the tall white post where the soldier was. But on the other side they went on smooth and steady, but a little slower. \"What do you want.\" Jason said. He had his hands in his pockets and a pencil behind his ear. \"We're going to the cemetery.\" Mother said. \"All right.\" Jason said. \"I dont aim to stop you, do I. Was that all you wanted with me, just to tell me that.\" \"I know you wont come.\" Mother said. \"I'd feel safer if you would.\" \"Safe from what.\" Jason said. \"Father and Quentin cant hurt you.\" Mother put her handkerchief under her veil. \"Stop it, Mother.\" Jason said. \"Do you want to get that damn looney to bawling in the middle of the square. Drive on, T.P.\" \"Hum up, Queenie.\" T.P. said. \"It's a judgment on me.\" Mother said. \"But I'll be gone too, soon. \"Here.\" Jason said. \"Whoa.\" T.P. said. Jason said, \"Uncle Maury's drawing on you for fifty. What do you want to do about it.\" \"Why ask me.\" Mother said. \"I dont have any say so. I try not to worry you and Dilsey. I'll be gone soon, and then you \" \"Go on, T.P.\" Jason said. \"Hum up, Queenie.\" T.P. said. The shapes flowed on. The ones on thc other side began again, bright and fast and smooth, like when Caddy says we are going to sleep. 19.4Cry baby, Luster said. Aint you shamed. We went through the barn. The stalls were all open. You aint got no spotted pony to ride now, Luster said. The floor was dry and dusty. The roof was falling. The slanting holes were full of spinning yellow. What do you want to go that way, for. You want to get your head knocked off with one of them balls.\n",
      "4.2“Keep your hands in your pockets.\" Caddy said. \"Or they'll be froze. You dont want your hands froze on Christmas, do you.\" We went around the barn. The big cow and the little one were standing in the door, and we could hear Prince and Queenie and Fancy stomping inside the barn. \"If it wasn't so cold, we'd ride Fancy.\" Caddy said. \"But it's too cold to hold on today.\" Then we could seethe branch, where the smoke was blowing. \"That's where they are killing the pig.\" Caddy said. \"We can come back by there and see them.\" We went down the hill. \"You want to carry the letter.\" Caddy said. \"You can carry it.\" She took the letter out of her pocket and put it in mine. \"It's a Christmas present.\" Caddy said. \"Uncle Maury is going to surprise Mrs Patterson with it. We got to give it to her without letting anybody see it. Keep your hands in your pockets good, now.\" We came to the branch. \"It's froze.\" Caddy said. \"Look.\" She broke the top of the water and held a piece of it against my face. \"Ice. That means how cold it is.\" She helped me across and we went up the hill. \"We cant even tell Mother and Father. You know what I think it is. I think it's a surprise for Mother and Father and Mr Patterson both, because Mr Patterson sent you some candy. Do you remember when Mr Patterson sent you some candy last summer. There was a fence. The vine was dry, and the wind rattled in it. \"Only I dont see why Uncle Maury didn't send Versh.\" Caddy said. \"Versh wont tell.\" Mrs Patterson was looking out the window. \"You wait here.\" Caddy said. \"Wait right here, now. I'll be back in a minute. Give me the letter.\" She took the letter out of my pocket. \"Keep your hands in your pockets.\" She climbed the fence with the letter in her hand and went through the brown, rattling flowers. Mrs Patterson came to the door and opened it and stood there. 5.1Mr Patterson was chopping in the green flowers. He stopped chopping and looked at me. Mrs Patterson came across the garden, running. When I saw her eyes I began to cry. You idiot, Mrs Patterson said, I told him never to send you alone again. Give it to me. Quick. Mr Patterson came fast, with the hoc. Mrs Patterson leaned across the fence, reaching her hand. She was trying to climb the fence. Give it to me, she said, Give it to me. Mr Patterson climbed the fence. He took the letter. Mrs Patterson's dress was caught on the fence. I saw her eyes again and I ran down the hill.\n",
      "19.5\"They aint nothing over yonder but houses.\" Luster said. \"We going down to the branch.\" They were washing down at the branch. One of them was singing. I could smell the clothes flapping, and the smoke blowing across the branch. \"You stay down here.\" Luster said. \"You aint got no business up yonder. Them folks hit you, sho.\" \"What he want to do.\" \"He dont know what he want to do.\" Luster said. \"He think he want to go up yonder where they knocking that hall. You sit down here and play with your jimson weed. Look at them chillen playing in the branch, if you got to look at something. How come you cant behave yourself like folks.\" I sat down on the bank, where they were washing, and the smoke blowing blue. \"Is you all seen anything of a quarter down here.\" Luster said.\"What quarter.\" \"\"The one I had here this morning.\" Luster said. \"I lost it somewhere. It fell through this here hole in my pocket. If I dont find it I cant go to the show tonight.\" \"Where'd you get a quarter, boy. Find it in white folks' pocket while they aint looking.\" \"Got it at the getting place.\" Luster said \"Plenty more where that one come ftom. Only I got to find that one. Is you all found it yet.\" \"I aint studying no quarter. I got my own business to tend to.\" \"Come on here.\" Luster said. \"Help me look for it.\" \"He wouldn't know a quarter if he was to see it, would he.\"\"He can help look just the same.\" Luster said. \"You all going to the show tonight.\" \"Dont talk to me about no show. Time I get done over this here tub I be too tired to lift my hand to do nothing.\" \"I bet you be there.\" Luster said. \"I bet you was there last night. I bet you all be right there when that tent open.\"Be enough niggers there without me. Was last night.\" \"Nigger's money good as white folks, I reckon.\" \"White folks gives nigger money because know first white man comes along with a band going to get it all back, so nigger can go to work for some more.\" \"Aint nobody going make you go to that show.\" \"Aint yet. Aint thought of it, I reckon.\" \"What you got against white folks.\" \"Aint got nothing against them. I goes my way and lets white folks go theirs. I aint studying that show.\" \"Got a man in it can play a tune on a saw. Play it like a banjo.\" \"You go last night.\" Luster said. \"I going tonight If I can find where I lost that quarter.\" \"You going take him with you, I reckon.\" \"Me.\" Luster said. \"You reckon I be found anywhere with him, time he start bellering.\" \"What does you do when he start bellering.\" \"I whips him.\" Luster said. He sat down and rolled up his overalls. They played in the branch. \"You all found any balls yet.\" Luster said. \"Aint you talking biggity. I bet you better not let your grandmammy hear you talking like that.\" Luster got into the branch, where they were playing. He hunted in the water, along the bank. \"I had it when we was down here this morning.\" Luster said. \"Where bouts you lose it.\" \"Right out this here hole in my pocket.\" Luster said. They hunted in the branch. Then they all stood up quick and stopped, then they splashed and fought in the branch. Luster got it and they squatted in the water, looking up the hill through the bushes. \"Where is they.\" Luster said. \"Aint in sight yet.\" Luster put it in his pocket. They came down the hill. \"Did a hall come down here.\" \"It ought to be in the water. Didn't any of you boys see it or hear it.\" \"Aint heard nothing come down here.\" Luster said. \"Heard something hit that tree up yonder. Dont know which way it went.\" They looked in the branch. \"Hell. Look along the branch. It came down here. I saw it.\" They looked along the branch. Then they went back up the hill. \"Have you got that ball.\" the boy said. \"What I want with it.\" Luster said. \"I aint seen no ball.\" The boy got in the water. He went on. He turned and looked at Luster again. He went on down the branch. The man said \"Caddie\" up the hill. The boy got out of the water and went up the hill. \"Now, just listen at you.\" Luster said. \"Hush up.\" \"What he moaning about now.\" \"Lawd knows.\" Luster said. \"He just starts like that. He been at it all morning. Cause it his birthday, I reckon.\" \"How old he.\" \"He thirty three.\" Luster said. \"Thirty three this morning.\" \"You mean, he been three years old thirty years. \"I going by what mammy say.\" Luster said. \"I dont know. We going to have thirty three candles on a cake, anyway. Little cake. Wont hardly hold them. Hush up. Come on back here.\" He came and caught my arm. \"You old looney.\" he said. \"You want me to whip you.\" \"I bet you will.\" \"I is done it. Hush, now.\" Luster said. \"Aint I told you you cant go up there. They'll knock your head clean off with one of them balls. Come on, here.\" He pulled me back. \"Sit down.\" I sat down and he took off my shoes and rolled up my trousers. \"Now, git in that water and play and see can you stop that slobbering and moaning.\" I hushed and got in the water [...] 1.1\n"
     ]
    }
   ],
   "source": [
    "for p in book[:7]:\n",
    "    print(p)"
   ]
  },
  {
   "cell_type": "markdown",
   "id": "839c32b2-c233-4623-94d6-c499f6b91659",
   "metadata": {},
   "source": [
    "*After*"
   ]
  },
  {
   "cell_type": "code",
   "execution_count": 104,
   "id": "6b922f1d-758c-4f6f-99d7-891b7ecbf83d",
   "metadata": {},
   "outputs": [
    {
     "name": "stdout",
     "output_type": "stream",
     "text": [
      "April 7, 1928\n",
      "Through the fence, between the curling flower spaces, I could see them hitting. They were coming toward where the flag was and I went along the fence. Luster was hunting in the grass by the flower tree. They took the flag out, and they were hitting. Then they put the flag back and they went to the table, and he hit and the other hit. Then they went on, and I went along the fence. Luster came away from the flower tree and we went along the fence and they stopped and we stopped and I looked through the fence while Luster was hunting in the grass. \"Here, caddie.\" He hit. They went away across the pasture. I held to the fence and watched them going away. \"Listen at you, now.\" Luster said. \"Aint you something, thirty three years old, going on that way. After I done went all the way to town to buy you that cake. Hush up that moaning. Aint you going to help me find that quarter so I can go to the show tonight.\" They were hitting little, across the pasture. I went back along the fence to where the flag was. It flapped on the bright grass and the trees. \"Come on.\" Luster said. \"We done looked there. They aint no more coming right now. Les go down to the branch and find that quarter before them niggers finds it.\" It was red, flapping on the pasture. Then there was a bird slanting and tilting on it. Luster threw. The flag flapped on the bright grass and the trees. I held to the fence. \"Shut up that moaning.\" Luster said. \"I cant make them come if they aint coming, can I. If you dont hush up, mammy aint going to have no birthday for you. If you dont hush, you know what I going to do. I going to eat that cake all up. Eat them candles, too. Eat all them thirty three candles. Come on, les go down to the branch. I got to find my quarter. Maybe we can find one of they balls. Here. Here they is. Way over yonder. See.\" He came to the fence and pointed his arm. \"See them. They aint coming back here no more. Come on. We went along the fence and came to the garden fence, where our shadows were. My shadow was higher than Luster's on the fence. We came to the hroken place and went through it. \"Wait a minute.\" Luster said. \"You snagged on that nail again. Cant you never crawl through here without snagging on that nail.\" 4.1Caddy uncaught me and we crawled through. Uncle Maury said to not let anybody see us, so we better stoop over, Caddy said. Stoop over, Benjy. Like this, see. We stooped over and crossed the garden, where the flowers rasped and rattled against us. The ground was hard. We climbed the fence, where the pigs were grunting and snuffing. I expect they're sorry because one of them got killed today, Caddy said. The ground was hard, churned and knotted. Keep your hands in your pockets, Caddy said. Or they'll get froze. You dont want your hands froze on Christmas, do you.\n",
      "3.1\"It's too cold out there.\" Versh said. \"You dont want to go outdoors.\" \"What is it now.\" Mother said. \"He want to go out doors.\" Versh said. \"Let him go.\" Uncle Maury said. \"It's too cold.\" Mother said. \"He'd better stay in. Benjamin. Stop that, now.\" \"It wont hurt him.\" Uncle Maury said. \"You, Benjamin.\" Mother said. \"If vou dont be good, you'll have to go to the kitchen.\" \"Mammy say keep him out the kitchen today.\" Versh said. \"She say she got all that cooking to get done.\" \"Let him go, Caroline.\" Uncle Maury said. \"You'll worry yourself sick over him.\" \"I know it.\" Mother said. \"It's a judgment on me. I sometimes wonder.\" \"I know, I know.\" Uncle Maury said. \"You must keep your strength up. I'll make you a toddy.\" \"It just upsets me that much more.\" Mother said. \"Dont you know it does.\" \"You'll feel better. \" Uncle Maury said. \"Wrap him up good, boy, and take him out for a while.\" Uncle Maury went away. Versh went away. \"Please hush.\" Mother said. \"We're trying to get you out as fast as we can. I dont want you to get sick.\" Versh put my overshoes and overcoat on and we took my cap and went out. Uncle Maury was putting the bottle away in the sideboard in the diningroom. \"Keep him out about half an hour, boy.\" Uncle Maury said. \"Keep him in the yard, now.\" \"Yes, sir.\" Versh said. \"We dont never let him get off the place.\" We went out doors. The sun was cold and bright. \"Where you heading for.\" Versh said. \"You dont think you going to town, does you.\" We went through the rattling leaves. The gate was cold. \"You better keep them hands in your pockets.\" Versh said. \"You get them froze onto that gate, then what you do. Whyn't you wait for them in the house.\" He put my hands into my pockets. I could hear him rattling in the leaves. I could smell the cold. The gate was cold. \"Here some hickeynuts. Whooey. Git up that tree. Look here at this squirl, Benjy.\" I couldn't feel the gate at all, but I could smell the bright cold. \"You better put them hands back in your pockets.\" Caddy was walking. Then she was running, her booksatchel swinging and jouncing behind her. \"Hello, Benjy.\" Caddy said. She opened the gate and came in and stooped down. Caddy smelled like leaves. \"Did you come to meet me.\" she said. \"Did you come to meet Caddy. What did you let him get his hands so cold for, Versh.\" \"I told him to keep them in his pockets.\" Versh said. \"Holding on to that ahun gate.\" \"Did you come to meet Caddy.\" she said, rubbing my hands. \"What is it. What are you trying to tell Caddy.\" Caddy smelled like trees and like when she says we were asleep. 19.2What are you moaning about, Luster said. You can watch them again when we get to the branch. Here. Here's you a jimson weed. He gave me the flower. We went through the fence, into the lot.\n"
     ]
    }
   ],
   "source": [
    "book_trimmed = [p for p in book if p != \"\"]\n",
    "\n",
    "for p in book_trimmed[:3]:\n",
    "    print(p)"
   ]
  },
  {
   "cell_type": "markdown",
   "id": "e2a630a4-e227-48f3-aa6d-8904ee49b716",
   "metadata": {},
   "source": [
    "## Start analyzing the text"
   ]
  },
  {
   "cell_type": "markdown",
   "id": "a9d7d40f-cc19-4ea3-afd8-9e3ea89eda5b",
   "metadata": {},
   "source": [
    "### Fix contractions & lower case"
   ]
  },
  {
   "cell_type": "code",
   "execution_count": 105,
   "id": "b2f9bd2f-43dd-407a-8702-7d40cb4887f9",
   "metadata": {},
   "outputs": [],
   "source": [
    "for i, _ in enumerate(book_trimmed):\n",
    "    book_trimmed[i] = contractions.fix(book_trimmed[i]).lower()"
   ]
  },
  {
   "cell_type": "markdown",
   "id": "e2278405-6541-460e-bbaa-c9d19e45ffb5",
   "metadata": {},
   "source": [
    "### Tokenize paragraphs to sentences"
   ]
  },
  {
   "cell_type": "code",
   "execution_count": 106,
   "id": "35370eb9-8fae-4a16-b3f2-7ed95809ed0a",
   "metadata": {},
   "outputs": [],
   "source": [
    "import nltk\n",
    "from copy import deepcopy\n",
    "\n",
    "book_trimmed_tokenized = deepcopy(book_trimmed)\n",
    "\n",
    "for i, p in enumerate(book_trimmed):\n",
    "    book_trimmed_tokenized[i] = nltk.sent_tokenize(p)"
   ]
  },
  {
   "cell_type": "markdown",
   "id": "ab11e51a-cb48-4ac3-bef9-29ce8440ddec",
   "metadata": {},
   "source": [
    "### Sentiment scores for sentences"
   ]
  },
  {
   "cell_type": "code",
   "execution_count": 107,
   "id": "67cecca4-5eae-461c-a4d9-5e721935e9b7",
   "metadata": {},
   "outputs": [],
   "source": [
    "from nltk.sentiment.vader import SentimentIntensityAnalyzer\n",
    "\n",
    "sid = SentimentIntensityAnalyzer()"
   ]
  },
  {
   "cell_type": "markdown",
   "id": "e8903d66-b3d2-45c1-8ba6-39fc2abc56d3",
   "metadata": {},
   "source": [
    "<div class=\"alert alert-warning\">Let's see what is the difference between computing the score over the individual sentences or for the whole paragraph. It seems that this is an absolute value that accumulates the longer a text. High scores for long texts can thus be misleading. Is there a relative measure? Dividing by number of words or sentences? That would be necessary to make valid comparisons. I.e. 2 books could have both positive scores, but one has higher scores. Could it be because of its length?</div>"
   ]
  },
  {
   "cell_type": "markdown",
   "id": "68e0cee3-67fd-4219-90c5-c6b53d9405d5",
   "metadata": {},
   "source": [
    "#### One example paragraph"
   ]
  },
  {
   "cell_type": "code",
   "execution_count": 108,
   "id": "ec5fa3db-adb1-486b-af21-246c66408f7e",
   "metadata": {},
   "outputs": [
    {
     "name": "stdout",
     "output_type": "stream",
     "text": [
      "A) whole paragraph:\n",
      "\n",
      "19.5\"they are not nothing over yonder but houses.\" luster said. \"we going down to the branch.\" they were washing down at the branch. one of them was singing. i could smell the clothes flapping, and the smoke blowing across the branch. \"you stay down here.\" luster said. \"you are not got no business up yonder. them folks hit you, sho.\" \"what he want to do.\" \"he do not know what he want to do.\" luster said. \"he think he want to go up yonder where they knocking that hall. you sit down here and play with your jimson weed. look at them chillen playing in the branch, if you got to look at something. how come you cannot behave yourself like folks.\" i sat down on the bank, where they were washing, and the smoke blowing blue. \"is you all seen anything of a quarter down here.\" luster said.\"what quarter.\" \"\"the one i had here this morning.\" luster said. \"i lost it somewhere. it fell through this here hole in my pocket. if i do not find it i cannot go to the show tonight.\" \"where did you get a quarter, boy. find it in white folks' pocket while they are not looking.\" \"got it at the getting place.\" luster said \"plenty more where that one come ftom. only i got to find that one. is you all found it yet.\" \"i are not studying no quarter. i got my own business to tend to.\" \"come on here.\" luster said. \"help me look for it.\" \"he would not know a quarter if he was to see it, would he.\"\"he can help look just the same.\" luster said. \"you all going to the show tonight.\" \"do not talk to me about no show. time i get done over this here tub i be too tired to lift my hand to do nothing.\" \"i bet you be there.\" luster said. \"i bet you was there last night. i bet you all be right there when that tent open.\"be enough niggers there without me. was last night.\" \"nigger's money good as white folks, i reckon.\" \"white folks gives nigger money because know first white man comes along with a band going to get it all back, so nigger can go to work for some more.\" \"are not nobody going make you go to that show.\" \"are not yet. are not thought of it, i reckon.\" \"what you got against white folks.\" \"are not got nothing against them. i goes my way and let us white folks go theirs. i are not studying that show.\" \"got a man in it can play a tune on a saw. play it like a banjo.\" \"you go last night.\" luster said. \"i going tonight if i can find where i lost that quarter.\" \"you going take him with you, i reckon.\" \"me.\" luster said. \"you reckon i be found anywhere with him, time he start bellering.\" \"what does you do when he start bellering.\" \"i whips him.\" luster said. he sat down and rolled up his overalls. they played in the branch. \"you all found any balls yet.\" luster said. \"are not you talking biggity. i bet you better not let your grandmammy hear you talking like that.\" luster got into the branch, where they were playing. he hunted in the water, along the bank. \"i had it when we was down here this morning.\" luster said. \"where bouts you lose it.\" \"right out this here hole in my pocket.\" luster said. they hunted in the branch. then they all stood up quick and stopped, then they splashed and fought in the branch. luster got it and they squatted in the water, looking up the hill through the bushes. \"where is they.\" luster said. \"are not in sight yet.\" luster put it in his pocket. they came down the hill. \"did a hall come down here.\" \"it ought to be in the water. did not any of you boys see it or hear it.\" \"are not heard nothing come down here.\" luster said. \"heard something hit that tree up yonder. do not know which way it went.\" they looked in the branch. \"hell. look along the branch. it came down here. i saw it.\" they looked along the branch. then they went back up the hill. \"have you got that ball.\" the boy said. \"what i want with it.\" luster said. \"i are not seen no ball.\" the boy got in the water. he went on. he turned and looked at luster again. he went on down the branch. the man said \"caddie\" up the hill. the boy got out of the water and went up the hill. \"now, just listen at you.\" luster said. \"hush up.\" \"what he moaning about now.\" \"lawd knows.\" luster said. \"he just starts like that. he been at it all morning. because it his birthday, i reckon.\" \"how old he.\" \"he thirty three.\" luster said. \"thirty three this morning.\" \"you mean, he been three years old thirty years. \"i going by what mammy say.\" luster said. \"i do not know. we going to have thirty three candles on a cake, anyway. little cake. will not hardly hold them. hush up. come on back here.\" he came and caught my arm. \"you old looney.\" he said. \"you want me to whip you.\" \"i bet you will.\" \"i is done it. hush, now.\" luster said. \"are not i told you you cannot go up there. they will knock your head clean off with one of them balls. come on, here.\" he pulled me back. \"sit down.\" i sat down and he took off my shoes and rolled up my trousers. \"now, git in that water and play and see can you stop that slobbering and moaning.\" i hushed and got in the water [...] 1.1\n",
      "=> 0.8209\n",
      "\n",
      "B) single sentences:\n",
      "\n",
      "19.5\"they are not nothing over yonder but houses.\"\n",
      "=> 0.0\n",
      "luster said.\n",
      "=> 0.0\n",
      "\"we going down to the branch.\"\n",
      "=> 0.0\n",
      "they were washing down at the branch.\n",
      "=> 0.0\n",
      "one of them was singing.\n",
      "=> 0.0\n",
      "i could smell the clothes flapping, and the smoke blowing across the branch.\n",
      "=> 0.0\n",
      "\"you stay down here.\"\n",
      "=> 0.0\n",
      "luster said.\n",
      "=> 0.0\n",
      "\"you are not got no business up yonder.\n",
      "=> 0.2235\n",
      "them folks hit you, sho.\"\n",
      "=> 0.0\n",
      "\"what he want to do.\"\n",
      "=> 0.0772\n",
      "\"he do not know what he want to do.\"\n",
      "=> 0.0772\n",
      "luster said.\n",
      "=> 0.0\n",
      "\"he think he want to go up yonder where they knocking that hall.\n",
      "=> 0.0772\n",
      "you sit down here and play with your jimson weed.\n",
      "=> 0.34\n",
      "look at them chillen playing in the branch, if you got to look at something.\n",
      "=> 0.2023\n",
      "how come you cannot behave yourself like folks.\"\n",
      "=> -0.2755\n",
      "i sat down on the bank, where they were washing, and the smoke blowing blue.\n",
      "=> 0.0\n",
      "\"is you all seen anything of a quarter down here.\"\n",
      "=> 0.0\n",
      "luster said.\n",
      "=> 0.0\n",
      "\"what quarter.\"\n",
      "=> 0.0\n",
      "\"\"the one i had here this morning.\"\n",
      "=> 0.0\n",
      "luster said.\n",
      "=> 0.0\n",
      "\"i lost it somewhere.\n",
      "=> -0.3182\n",
      "it fell through this here hole in my pocket.\n",
      "=> 0.0\n",
      "if i do not find it i cannot go to the show tonight.\"\n",
      "=> 0.0\n",
      "\"where did you get a quarter, boy.\n",
      "=> 0.0\n",
      "find it in white folks' pocket while they are not looking.\"\n",
      "=> 0.0\n",
      "\"got it at the getting place.\"\n",
      "=> 0.0\n",
      "luster said \"plenty more where that one come ftom.\n",
      "=> 0.0\n",
      "only i got to find that one.\n",
      "=> 0.0\n",
      "is you all found it yet.\"\n",
      "=> 0.0\n",
      "\"i are not studying no quarter.\n",
      "=> 0.2235\n",
      "i got my own business to tend to.\"\n",
      "=> 0.0\n",
      "\"come on here.\"\n",
      "=> 0.0\n",
      "luster said.\n",
      "=> 0.0\n",
      "\"help me look for it.\"\n",
      "=> 0.4019\n",
      "\"he would not know a quarter if he was to see it, would he.\n",
      "=> 0.0\n",
      "\"\"he can help look just the same.\"\n",
      "=> 0.4019\n",
      "luster said.\n",
      "=> 0.0\n",
      "\"you all going to the show tonight.\"\n",
      "=> 0.0\n",
      "\"do not talk to me about no show.\n",
      "=> -0.296\n",
      "time i get done over this here tub i be too tired to lift my hand to do nothing.\"\n",
      "=> 0.0772\n",
      "\"i bet you be there.\"\n",
      "=> 0.0\n",
      "luster said.\n",
      "=> 0.0\n",
      "\"i bet you was there last night.\n",
      "=> 0.0\n",
      "i bet you all be right there when that tent open.\n",
      "=> 0.0\n",
      "\"be enough niggers there without me.\n",
      "=> 0.0\n",
      "was last night.\"\n",
      "=> 0.0\n",
      "\"nigger's money good as white folks, i reckon.\"\n",
      "=> 0.4404\n",
      "\"white folks gives nigger money because know first white man comes along with a band going to get it all back, so nigger can go to work for some more.\"\n",
      "=> -0.8625\n",
      "\"are not nobody going make you go to that show.\"\n",
      "=> 0.0\n",
      "\"are not yet.\n",
      "=> 0.0\n",
      "are not thought of it, i reckon.\"\n",
      "=> 0.0\n",
      "\"what you got against white folks.\"\n",
      "=> 0.0\n",
      "\"are not got nothing against them.\n",
      "=> 0.0\n",
      "i goes my way and let us white folks go theirs.\n",
      "=> 0.0\n",
      "i are not studying that show.\"\n",
      "=> 0.0\n",
      "\"got a man in it can play a tune on a saw.\n",
      "=> 0.34\n",
      "play it like a banjo.\"\n",
      "=> 0.5994\n",
      "\"you go last night.\"\n",
      "=> 0.0\n",
      "luster said.\n",
      "=> 0.0\n",
      "\"i going tonight if i can find where i lost that quarter.\"\n",
      "=> -0.3182\n",
      "\"you going take him with you, i reckon.\"\n",
      "=> 0.0\n",
      "\"me.\"\n",
      "=> 0.0\n",
      "luster said.\n",
      "=> 0.0\n",
      "\"you reckon i be found anywhere with him, time he start bellering.\"\n",
      "=> 0.0\n",
      "\"what does you do when he start bellering.\"\n",
      "=> 0.0\n",
      "\"i whips him.\"\n",
      "=> 0.0\n",
      "luster said.\n",
      "=> 0.0\n",
      "he sat down and rolled up his overalls.\n",
      "=> 0.0\n",
      "they played in the branch.\n",
      "=> 0.34\n",
      "\"you all found any balls yet.\"\n",
      "=> 0.0\n",
      "luster said.\n",
      "=> 0.0\n",
      "\"are not you talking biggity.\n",
      "=> 0.0\n",
      "i bet you better not let your grandmammy hear you talking like that.\"\n",
      "=> 0.6597\n",
      "luster got into the branch, where they were playing.\n",
      "=> 0.2023\n",
      "he hunted in the water, along the bank.\n",
      "=> 0.0\n",
      "\"i had it when we was down here this morning.\"\n",
      "=> 0.0\n",
      "luster said.\n",
      "=> 0.0\n",
      "\"where bouts you lose it.\"\n",
      "=> -0.4019\n",
      "\"right out this here hole in my pocket.\"\n",
      "=> 0.0\n",
      "luster said.\n",
      "=> 0.0\n",
      "they hunted in the branch.\n",
      "=> 0.0\n",
      "then they all stood up quick and stopped, then they splashed and fought in the branch.\n",
      "=> -0.4939\n",
      "luster got it and they squatted in the water, looking up the hill through the bushes.\n",
      "=> 0.0\n",
      "\"where is they.\"\n",
      "=> 0.0\n",
      "luster said.\n",
      "=> 0.0\n",
      "\"are not in sight yet.\"\n",
      "=> 0.0\n",
      "luster put it in his pocket.\n",
      "=> 0.0\n",
      "they came down the hill.\n",
      "=> 0.0\n",
      "\"did a hall come down here.\"\n",
      "=> 0.0\n",
      "\"it ought to be in the water.\n",
      "=> 0.0\n",
      "did not any of you boys see it or hear it.\"\n",
      "=> 0.0\n",
      "\"are not heard nothing come down here.\"\n",
      "=> 0.0\n",
      "luster said.\n",
      "=> 0.0\n",
      "\"heard something hit that tree up yonder.\n",
      "=> 0.0\n",
      "do not know which way it went.\"\n",
      "=> 0.0\n",
      "they looked in the branch.\n",
      "=> 0.0\n",
      "\"hell.\n",
      "=> 0.0\n",
      "look along the branch.\n",
      "=> 0.0\n",
      "it came down here.\n",
      "=> 0.0\n",
      "i saw it.\"\n",
      "=> 0.0\n",
      "they looked along the branch.\n",
      "=> 0.0\n",
      "then they went back up the hill.\n",
      "=> 0.0\n",
      "\"have you got that ball.\"\n",
      "=> 0.0\n",
      "the boy said.\n",
      "=> 0.0\n",
      "\"what i want with it.\"\n",
      "=> 0.0772\n",
      "luster said.\n",
      "=> 0.0\n",
      "\"i are not seen no ball.\"\n",
      "=> 0.2235\n",
      "the boy got in the water.\n",
      "=> 0.0\n",
      "he went on.\n",
      "=> 0.0\n",
      "he turned and looked at luster again.\n",
      "=> 0.0\n",
      "he went on down the branch.\n",
      "=> 0.0\n",
      "the man said \"caddie\" up the hill.\n",
      "=> 0.0\n",
      "the boy got out of the water and went up the hill.\n",
      "=> 0.0\n",
      "\"now, just listen at you.\"\n",
      "=> 0.0\n",
      "luster said.\n",
      "=> 0.0\n",
      "\"hush up.\"\n",
      "=> 0.0\n",
      "\"what he moaning about now.\"\n",
      "=> -0.1027\n",
      "\"lawd knows.\"\n",
      "=> 0.0\n",
      "luster said.\n",
      "=> 0.0\n",
      "\"he just starts like that.\n",
      "=> 0.3612\n",
      "he been at it all morning.\n",
      "=> 0.0\n",
      "because it his birthday, i reckon.\"\n",
      "=> 0.0\n",
      "\"how old he.\"\n",
      "=> 0.0\n",
      "\"he thirty three.\"\n",
      "=> 0.0\n",
      "luster said.\n",
      "=> 0.0\n",
      "\"thirty three this morning.\"\n",
      "=> 0.0\n",
      "\"you mean, he been three years old thirty years.\n",
      "=> 0.0\n",
      "\"i going by what mammy say.\"\n",
      "=> 0.0\n",
      "luster said.\n",
      "=> 0.0\n",
      "\"i do not know.\n",
      "=> 0.0\n",
      "we going to have thirty three candles on a cake, anyway.\n",
      "=> 0.0\n",
      "little cake.\n",
      "=> 0.0\n",
      "will not hardly hold them.\n",
      "=> 0.0\n",
      "hush up.\n",
      "=> 0.0\n",
      "come on back here.\"\n",
      "=> 0.0\n",
      "he came and caught my arm.\n",
      "=> 0.0\n",
      "\"you old looney.\"\n",
      "=> 0.0\n",
      "he said.\n",
      "=> 0.0\n",
      "\"you want me to whip you.\"\n",
      "=> 0.0772\n",
      "\"i bet you will.\"\n",
      "=> 0.0\n",
      "\"i is done it.\n",
      "=> 0.0\n",
      "hush, now.\"\n",
      "=> 0.0\n",
      "luster said.\n",
      "=> 0.0\n",
      "\"are not i told you you cannot go up there.\n",
      "=> 0.0\n",
      "they will knock your head clean off with one of them balls.\n",
      "=> 0.4019\n",
      "come on, here.\"\n",
      "=> 0.0\n",
      "he pulled me back.\n",
      "=> 0.0\n",
      "\"sit down.\"\n",
      "=> 0.0\n",
      "i sat down and he took off my shoes and rolled up my trousers.\n",
      "=> 0.0\n",
      "\"now, git in that water and play and see can you stop that slobbering and moaning.\"\n",
      "=> 0.0516\n",
      "i hushed and got in the water [...] 1.1\n",
      "=> 0.0\n"
     ]
    }
   ],
   "source": [
    "p_i = 6  # paragraph index\n",
    "\n",
    "print(\"A) whole paragraph:\\n\")\n",
    "print(book_trimmed[p_i])\n",
    "print(\"=>\", sid.polarity_scores(book_trimmed[p_i])[\"compound\"])\n",
    "\n",
    "print(\"\\nB) single sentences:\\n\")\n",
    "for sent in book_trimmed_tokenized[p_i]:\n",
    "    print(sent)\n",
    "    print(\"=>\", sid.polarity_scores(sent)[\"compound\"])"
   ]
  },
  {
   "cell_type": "markdown",
   "id": "82624ec3-525d-4d45-9c57-6d5efa94900b",
   "metadata": {},
   "source": [
    "#### Across all paragraphs"
   ]
  },
  {
   "cell_type": "code",
   "execution_count": 109,
   "id": "93bf0880-97d7-43e6-acef-2732047deda5",
   "metadata": {},
   "outputs": [],
   "source": [
    "scores = []\n",
    "\n",
    "for p in book_trimmed:\n",
    "    scores.append(sid.polarity_scores(p)[\"compound\"])"
   ]
  },
  {
   "cell_type": "markdown",
   "id": "dbc6a2d2-3734-444f-803f-105277e60b6d",
   "metadata": {},
   "source": [
    "##### Total score of this book"
   ]
  },
  {
   "cell_type": "code",
   "execution_count": 110,
   "id": "7b94988d-ee9c-44e1-bcbd-99eb7f949e45",
   "metadata": {},
   "outputs": [
    {
     "data": {
      "text/plain": [
       "15.675500000000003"
      ]
     },
     "execution_count": 110,
     "metadata": {},
     "output_type": "execute_result"
    }
   ],
   "source": [
    "np.sum(scores)"
   ]
  },
  {
   "cell_type": "markdown",
   "id": "0869fa70-fa2e-43ac-8f26-dced911b247a",
   "metadata": {},
   "source": [
    "##### Average score of this book"
   ]
  },
  {
   "cell_type": "code",
   "execution_count": 111,
   "id": "87bd0abe-d06a-4f96-8360-397cd3e7437c",
   "metadata": {},
   "outputs": [
    {
     "data": {
      "text/plain": [
       "0.004618591632292281"
      ]
     },
     "execution_count": 111,
     "metadata": {},
     "output_type": "execute_result"
    }
   ],
   "source": [
    "np.mean(scores)"
   ]
  },
  {
   "cell_type": "markdown",
   "id": "acfecfa7-4715-4afd-85f7-78c2b2a041ab",
   "metadata": {},
   "source": [
    "The book seems neutral according to the sentiment scores."
   ]
  },
  {
   "cell_type": "markdown",
   "id": "94e11a0a-b1f1-4626-88af-849cd633c095",
   "metadata": {},
   "source": [
    "##### Most positive paragraph in the book"
   ]
  },
  {
   "cell_type": "code",
   "execution_count": 112,
   "id": "8aa2ff9a-59ea-42f8-8b80-3927308b3d9a",
   "metadata": {},
   "outputs": [
    {
     "name": "stdout",
     "output_type": "stream",
     "text": [
      "1.3\"if we go slow, it will be dark when we get there.\" quentin said. \"i am not going slow.\" caddy said. we went up the hill, but quentin did not come. he was down at the branch when we got to where we could smell the pigs. they were grunting and snuffing in the trough in the comer. jason came behind us, with his hands in his pockets. roskus was milking the cow in the barn door. 10.1the cows came jumping out of the barn.\"go on.\" t.p. said. \"holler again. i going to holler myself. whooey.\" quentin kicked t.p. again. he kicked t.p. into the trough where the pigs ate and t.p. lay there. \"hot dog.\" t.p. said. \"did not he get me then. you see that white man kick me that time. whooey.\" i was not crying, but i could not stop. i was not crying, but the ground was not still, and then i was crying. the ground kept sloping up and the cows ran up the hill. t.p. tried to get up. he fell down again and the cows ran down the hill. quentin held my arm and we went toward the barn. then the barn was not there and we had to wait until it came back. i did not see it come back. it came behind us and quentin set me down in the trough where the cows ate. i held on to it. it was going away too, and i held to it. the cows ran down the hill again, across the door. i could not stop. quentin and t.p. came up the hill, fighting. t.p. was falling down the hill and quentin dragged him up the hill. quentin hit t.p. i could not stop. \"stand up.\" quentin said. \"you stay right here. do not you go away until i get back.\" \"me and benjy going back to the wedding.\" t.p. said. \"whooey.\" quentin hit t.p. again. then he began to thump t.p. against the wall t.p. was laughing. every time quentin thumped him against the wall he tried to say whooey, but he could not say it for laughing. i quit crying, but i could not stop. t.p. fell on me and the barn door went away. it went down the hill and t.p. was fighting by himself and he fell down again. he was still laughing, and i could not stop, and i tried to get up and i fell down, and i could not stop. versh said, \"you sho done it now. i will declare if you are not. shut up that yelling.\" t.p. was still laughing. he flopped on the door and laughed. \"whooey.\" he said. \"me and benjy going back to the wedding. sassprilluh.\" t.p. said. \"hush.\" versh said. \"where you get it.\" \"out the cellar.\" t.p. said. \"whooey.\" \"hush up.\" versh said. \"where bouts in the cellar.\" \"anywhere.\" t.p. said. he laughed some more. \"moren a hundred boftles lef. moren a million. look out, nigger, i going to holler.\" quentin said, \"lift him up.\" versh lifted me up. \"drink this, benjy.\" quentin said. the glass was hot. \"hush, now.\" quentin said. \"drink it.\" \"sassprilluh.\" t.p. said. \"let me drink it, mr quentin.\" \"you shut your mouth.\" versh said. \"mr quentin wear you out.\" \"hold him, versh.\" quentin said. they held me. it was hot on my chin and on my shirt. \"drink.\" quentin said. they held my head. it was hot inside me, and i began again. i was crying now, and something was happening inside me and i cried more, and they held me until it stopped happening. then i hushed. it was still going around, and then the shapes began. open the crib, versh. they were going slow. spread those empty sacks on the floor. they were going faster, almost fast enough. now. pick up his feet. they went on, smooth and bright. i could hear t.p. laughing. i went on with them, up the bright hill. 1.4at the top of the hill versh put me down. \"come on here, quentin.\" he called, looking back down the hill. quentin was still standing there by the branch. he was chunking into the shadows where the branch was. \"let the old skizzard stay there.\" caddy said. she took my hand and we went on past the barn and through the gate. there was a frog on the brick walk, squatting in the middle of it. caddy stepped over it and pulled me on. \"come on, maury.\" she said. it still squatted there until jason poked at it with his toe. \"he will make a wart on you.\" versh said. the frog hopped away. \"come on, maury.\" caddy said. \"they got company tonight.\" versh said. \"how do you know.\" caddy said. \"with all them lights on.\" versh said. \"light in every window.\" \"i reckon we can turn all the lights on without company, if we want to.\" caddy said. \"i bet it is company. \" versh said. \"you all befter go in the back and slip upstairs.\" \"i do not care.\" caddy said. \"i will walk right in the parlor where they are. \"i bet your pappy whip you if you do.\" versh said. \"i do not care.\" caddy said. \"i will walk right in the parlor. i will walk right in the dining room and eat supper.\" \"where you sit.\" versh said. \"i would sit in damuddy's chair.\" caddy said. \"she eats in bed.\" \"i am hungry. \" jason said. he passed us and ran on up the walk. he had his hands in his pockets and he fell down. versh went and picked him up. \"if you keep them hands out your pockets, you could stay on your feet.\" versh said. \"you cannot never get them out in time to catch yourself, fat as you is.\" father was standing by the kitchen steps. \"where is quentin.\" he said. \"he coming up the walk.\" versh said. quentin was coming slow. his shirt was a white blur. \"oh.\" father said. light fell down the steps, on him. \"caddy and quentin threw water on each other. \" jason said. we waited. \"they did.\" father said. quentin came, and father said, \"you can eat supper in the kitchen tonight.\" he stooped and took me up, and the light came tumbling down the steps on me too, and i could look down at caddy and jason and quentin and versh. father turned toward the steps. \"you must be quiet, though.\" he said. \"why must we be quiet, father.\" caddy said. \"have we got company. \"yes.\" father said. \"i told you they was company.\" versh said. \"you did not.\" caddy said. \"i was the one that said there was. i said i would \" \"hush.\" father said. they hushed and father opened the door and we crossed the back porch and went in to the kitchen. dilsey was there, and father put me in the chair and closed the apron down and pushed it to the table, where supper was. it was steaming up. \"you mind dilsey, now.\" father said. \"do not let them make any more noise than they can help, dilsey.\" \"yes, sir.\" dilsey said. father went away. \"remember to mind dilsey, now.\" he said behind us. i leaned my face over where the supper was. it steamed up on my face. \"let them mind me tonight, father.\" caddy said. \"i will not.\" jason said. \"i am going to mind dilsey.\" \"you will have to, if father says so.\" caddy said. \"let them mind me, father.\" \"i will not.\" jason said. \"i will not mind you.\" \"hush.\" father said. \"you all mind caddy, then. when they are done, bring them up the back stairs, dilsey.\" \"yes, sir.\" dilsey said. \"there.\" caddy said. \"now i guess you will mind me. \"you all hush, now.\" dilsey said. \"you got to be quiet tonight.\" \"why do we have to be quiet tonight.\" caddy whispered. \"never you mind.\" dilsey said. \"you will know in the lawd's own time.\" she brought my bowl. the steam from it came and tickled my face. \"come here, versh.\" dilsey said. \"when is the lawd's own time, dilsey.\" caddy said. \"it is sunday.\" quentin said. \"do not you know anything.\" \"shhhhhh.\" dilsey said. \"did not mr jason say for you all to be quiet. eat your supper, now. here, versh. git his spoon.\" versh's hand came with the spoon, into the bowl. the spoon came up to my mouth. the steam tickled into my mouth. then we quit eating and we looked at each other and we were quiet, and then we heard it again and i began to cry. \"what was that.\" caddy said. she put her hand on my hand. \"that was mother.\" quentin said. the spoon came up and i ate, then i cried again. \"hush.\" caddy said. but i did not hush and she came and put her arms around me. dilsey went and closed both the doors and then we could not hear it. \"hush, now.\" caddy said. i hushed and ate. quentin was not eating, but jason was. \"that was mother.\" quentin said. he got up. \"you set right down.\" dilsey said. \"they got company in there, and you in them muddy clothes. you set down too, caddy, and get done eating.\" \"she was crying.\" quentin said. \"it was somebody singing.\" caddy said. \"was not it, dilsey.\" \"you all eat your supper, now, like mr jason said.\" dilsey said. \"you will know in the lawd's own time.\" caddy went back to her chair. \"i told you it was a party.\" she said. versh said, \"he done et all that.\" \"bring his bowl here.\" dilsey said. the bowl went away. \"dilsey.\" caddy said. \"quentin's not eating his supper. has not he got to mind me.\" \"eat your supper, quentin.\" dilsey said. \"you all got to get done and get out of my kitchen.\" \"i do not want any more supper. quentin said. \"you have got to eat if i say you have.\" caddy said. \"has not he, dilsey.\" the bowl steamed up to my face, and versh's hand dipped the spoon in it and the steam tickled into my mouth. \"i do not want any more.\" quentin said. \"how can they have a party when damuddy's sick.\" \"they will have it down stairs.\" caddy said. \"she can come to the landing and see it. that is what i am going to do when i get my nightie on. \"mother was crying. \" quentin said. \"was not she crying, dilsey.\" \"do not you come pestering at me, boy.\" dilsey said. \"i got to get supper for all them folks soon as you all get done eating.\" after a while even jason was through eating, and he began to cry. \"now you got to tune up.\" dilsey said. \"he does it every night since damuddy was sick and he cannot sleep with her.\" caddy said. \"cry baby.\" \"i am going to tell on you.\" jason said. he was crying. \"you have already told.\" caddy said. \"there is not anything else you can tell, now.\" \"you all needs to go to bed.\" dilsey said. she came and lifted me down and wiped my face and hands with a warm cloth. \"versh, can you get them up the back stairs quiet. you, jason, shut up that crying.\" \"it is too early to go to bed now.\" caddy said. \"we do not ever have to go to bed this early.\" \"you is tonight.\" dilsey said. \"your paw say for you to come right on up stairs when you et supper. you heard him.\" \"he said to mind me. \" caddy said. \"i am not going to mind you.\" jason said. \"you have to.\" caddy said. \"come on, now. you have to do like i say. \"make them be quiet, versh.\" dilsey said. \"you all going to be quiet, are not you. \"what do we have to be so quiet for, tonight.\" caddy said. \"your mommer are not feeling well.\" dilsey said. \"you all go on with versh, now.\" \"i told you mother was crying. \" quentin said. versh took me up and opened the door onto the back porch. we went out and versh closed the door black. i could smell versh and feel him. you all be quiet, now. we are not going up stairs yet. mr jason said for you to come right up stairs. he said to mind me. i am not going to mind you. but he said for all of us to. did not he, quentin. i could feel versh's head. i could hear us. did not he, versh. yes, that right. then i say for us to go out doors a while. come on. versh opened the door and we went out. we went down the steps. \"i expect we would better go down to versh's house, so we will be quiet.\" caddy said. versh put me down and caddy took my hand and we went down the brick walk. \"come on.\" caddy said. \"that frog's gone. he is hopped way over to the garden, by now. maybe we will see another one.\" roskus came with the milk buckets. he went on. quentin was not coming with us. he was sitting on the kitchen steps. we went down to versh's house. i liked to smell versh's house. [...] 13.1\n",
      "=> 0.9981\n"
     ]
    }
   ],
   "source": [
    "print(book_trimmed[np.argmax(scores)])\n",
    "print(\"=>\", np.max(scores))"
   ]
  },
  {
   "cell_type": "markdown",
   "id": "7967d504-6404-417d-9fa6-018f45d8414f",
   "metadata": {},
   "source": [
    "##### Most negative paragraph in the book"
   ]
  },
  {
   "cell_type": "code",
   "execution_count": 113,
   "id": "32ed1bb5-4915-4dc8-92c4-78b4cf06c1d3",
   "metadata": {},
   "outputs": [
    {
     "name": "stdout",
     "output_type": "stream",
     "text": [
      "what have i done to have been given children like these benjamin was punishment enough and now for her to have no more regard for me her own mother i have suffered for her dreamed and planned and sacrificed i went down into the valley yet never since she opened her eyes has she given me one unselfish thought at times i look at her i wonder if she can be my child except jason he has never given me one moment's sorrow since i first held him in my arms i knew then that he was to be my joy and my salvation i thought that benjamin was punishment enough for any sins i have committed i thought he was my punishment for putting aside my pride and marrying a man who held himself above me i do not complain i loved him above all of them because of it because my duty though jason pulling at my heart all the while but i see now that i have not suffered enough i see now that i must pay for your sins as well as mine what have you done what sins have your high and mighty people visited upon me but you will take up for them you always have found excuses for your own blood only jason can do wrong because he is more bascomb than compson while your own daughter my little daughter my baby girl she is she is no better than that when i was a girl i was unfortunate i was only a bascomb i was taught that there is no halfway ground that a woman is either a lady or not but i never dreamed when i held her in my arms that any daughter of mine could let herself do not you know i can look at her eyes and tell you may think she would tell you but she does not tell things she is secretive you do not know her i know things she is done that i would die before i would have you know that is it go on criticise jason accuse me of setting him to watch her as if it were a crime while your own daughter can i know you do not love him that you wish to believe faults against him you never have yes ridicule him as you always have maury you cannot hurt me any more than your children already have and then i will be gone and jason with no one to love him shield him from this i look at him every day dreading to see this compson blood beginning to show in him at last with his sister slipping out to see what do you call it then have you ever laid eyes on him will you even let me try to find out who he is it is not for myself i could not bear to see him it is for your sake to protect you but who can fight against bad blood you will not let me try we are to sit back with our hands folded while she not only drags your name in the dirt but corrupts the very air your children breathe jason you must let me go away i cannot stand it let me have jason and you keep the others they are not my flesh and blood like he is strangers nothing of mine and i am afraid of them i can take jason and go where we are not known i will go down on my knees and pray for the absolution of my sins that he may escape this curse try to forget that the others ever were\n",
      "=> -0.9971\n"
     ]
    }
   ],
   "source": [
    "print(book_trimmed[np.argmin(scores)])\n",
    "print(\"=>\", np.min(scores))"
   ]
  },
  {
   "cell_type": "markdown",
   "id": "c4804205-1b48-49ae-bafe-9815f682da05",
   "metadata": {},
   "source": [
    "<div class=\"alert alert-warning\">With respect to what I wrote before about the sentiment score I am not surprised that both examples are very long paragraphs.</div>"
   ]
  },
  {
   "cell_type": "markdown",
   "id": "eaa0d0c4-3c6b-4520-a045-b3fa6e2545d0",
   "metadata": {},
   "source": [
    "##### How the score develops throughout the book"
   ]
  },
  {
   "cell_type": "code",
   "execution_count": 114,
   "id": "9bb24104-a56e-493d-b7de-d2291e5ee62d",
   "metadata": {},
   "outputs": [
    {
     "data": {
      "image/png": "[encoded data removed]",
      "text/plain": [
       "<Figure size 640x480 with 1 Axes>"
      ]
     },
     "metadata": {},
     "output_type": "display_data"
    }
   ],
   "source": [
    "plt.plot(np.cumsum(scores), color=\"steelblue\", label=\"Accumulated score\")\n",
    "plt.title(\"The sound and the fury\")\n",
    "plt.ylabel(\"Sentiment score\")\n",
    "plt.xlabel(\"Paragraph\")\n",
    "plt.legend();"
   ]
  },
  {
   "cell_type": "code",
   "execution_count": 115,
   "id": "c598fa8a-8abb-4348-a09b-146773c82c0b",
   "metadata": {},
   "outputs": [
    {
     "data": {
      "image/png": "[encoded data removed]",
      "text/plain": [
       "<Figure size 640x480 with 1 Axes>"
      ]
     },
     "metadata": {},
     "output_type": "display_data"
    }
   ],
   "source": [
    "def moving_average(x, w):\n",
    "    return np.convolve(x, np.ones(w), \"valid\") / w\n",
    "\n",
    "\n",
    "window = 300  # smoothness of convolution\n",
    "\n",
    "plt.plot(moving_average(scores, window), label=\"Moving average\", color=\"steelblue\")\n",
    "plt.axhline(np.mean(scores), label=\"Average\", color=\"salmon\", linestyle=\":\")\n",
    "plt.title(\"The sound and the fury\")\n",
    "plt.ylabel(\"Sentiment score\")\n",
    "plt.xlabel(\"Paragraph\")\n",
    "plt.legend();"
   ]
  },
  {
   "cell_type": "markdown",
   "id": "64eac2e0-21dc-4978-9db6-1c7df49bc6f8",
   "metadata": {},
   "source": [
    "Looks like we arrive emotionally to the first minimum around paragraph 700. There two more, one in the middle of the book and one close to the end.  "
   ]
  }
 ],
 "metadata": {
  "kernelspec": {
   "display_name": "Python 3 (ipykernel)",
   "language": "python",
   "name": "python3"
  },
  "language_info": {
   "codemirror_mode": {
    "name": "ipython",
    "version": 3
   },
   "file_extension": ".py",
   "mimetype": "text/x-python",
   "name": "python",
   "nbconvert_exporter": "python",
   "pygments_lexer": "ipython3",
   "version": "3.9.13"
  }
 },
 "nbformat": 4,
 "nbformat_minor": 5
}
