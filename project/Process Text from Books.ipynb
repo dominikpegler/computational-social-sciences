{
 "cells": [
  {
   "cell_type": "markdown",
   "id": "583c2c4c-0d47-4d74-a3bf-b3dcd2aac2d2",
   "metadata": {},
   "source": [
    "Process text from entire books\n",
    "===\n",
    "\n",
    "* This could be the first step of a possible final project  \n",
    "* In a further step text could be analyzed   \n",
    "* Books could be rated according to certain dimensions  \n",
    "* Find the music with the most similar lyrics to a book  "
   ]
  },
  {
   "cell_type": "raw",
   "id": "100daff4-f6e0-4b0f-a334-eee60ba1ac70",
   "metadata": {},
   "source": [
    "!pip install PyPDF2"
   ]
  },
  {
   "cell_type": "markdown",
   "id": "2c89a71e-6a24-47e6-882c-d914e55b41c5",
   "metadata": {},
   "source": [
    "## From PDF to Text"
   ]
  },
  {
   "cell_type": "raw",
   "id": "1f2cc29d-7460-4f9d-8579-3d1dcd860369",
   "metadata": {},
   "source": [
    "import PyPDF2\n",
    "\n",
    "pdffileobj=open('data/1.pdf','rb')\n",
    " \n",
    "pdfreader=PyPDF2.PdfFileReader(pdffileobj)\n",
    " \n",
    "x=pdfreader.numPages\n",
    " \n",
    "pageobj=pdfreader.getPage(x+1)\n",
    " \n",
    "text=pageobj.extractText()\n",
    " \n",
    "file1=open(r\"data/1.txt\",\"a\")\n",
    "file1.writelines(text)"
   ]
  },
  {
   "cell_type": "code",
   "execution_count": 1,
   "id": "82c8948d-af3d-4fac-a428-39541ee16579",
   "metadata": {},
   "outputs": [],
   "source": [
    "#\n",
    "#\n",
    "#"
   ]
  },
  {
   "cell_type": "markdown",
   "id": "db54bd09-2446-43c7-8231-6219b719ea8d",
   "metadata": {},
   "source": [
    "## From Ebook to Text"
   ]
  },
  {
   "cell_type": "raw",
   "id": "16a1ab6e-47b5-4c9e-8296-2a223506d6f8",
   "metadata": {},
   "source": [
    "!pip install epub2txt"
   ]
  },
  {
   "cell_type": "raw",
   "id": "3bf08d35-9689-4416-b137-3ba8d3693191",
   "metadata": {},
   "source": [
    "from epub2txt import epub2txt\n",
    "# from a url to epub\n",
    "url = \"https://github.com/ffreemt/tmx2epub/raw/master/tests/1.tmx.epub\"\n",
    "res = epub2txt(url)\n",
    "\n",
    "# from a local epub file\n",
    "filepath = r\"tests\\test.epub\"\n",
    "res = epub2txt(filepath)"
   ]
  },
  {
   "cell_type": "code",
   "execution_count": 2,
   "id": "5ad5d7e7-f62b-40fb-869b-c36359209947",
   "metadata": {},
   "outputs": [],
   "source": [
    "#\n",
    "#\n",
    "#"
   ]
  },
  {
   "cell_type": "markdown",
   "id": "c8519ee7-26c4-4c55-929c-8dc391fd2ac7",
   "metadata": {},
   "source": [
    "## Books that were already converted to txt"
   ]
  },
  {
   "cell_type": "code",
   "execution_count": 3,
   "id": "b93aad73-564a-4ca4-a211-bd547f31b7bc",
   "metadata": {},
   "outputs": [
    {
     "data": {
      "text/plain": [
       "['data/Thomas Pynchon - V.txt',\n",
       " \"data/Thomas Pynchon - Gravity's rainbow.txt\",\n",
       " 'data/William Faulkner - The Sound and the Fury.txt']"
      ]
     },
     "execution_count": 3,
     "metadata": {},
     "output_type": "execute_result"
    }
   ],
   "source": [
    "from glob import glob\n",
    "import numpy as np\n",
    "import matplotlib.pyplot as plt\n",
    "import regex as re\n",
    "import contractions\n",
    "\n",
    "\n",
    "books = glob(\"data/*.txt\")\n",
    "\n",
    "books"
   ]
  },
  {
   "cell_type": "code",
   "execution_count": 4,
   "id": "fab7d4fc-b2cb-4ae6-99e9-5a586f604cbb",
   "metadata": {},
   "outputs": [
    {
     "name": "stdout",
     "output_type": "stream",
     "text": [
      "Book has 6664 paragraphs.\n"
     ]
    }
   ],
   "source": [
    "with open('data/William Faulkner - The Sound and the Fury.txt', \"r\") as fo:\n",
    "    book = fo.readlines()\n",
    "\n",
    "print(f\"Book has {len(book)} paragraphs.\")"
   ]
  },
  {
   "cell_type": "markdown",
   "id": "df1fe75b-d43c-47fb-a562-d1d7180038cf",
   "metadata": {},
   "source": [
    "### Inspection\n",
    "1. Novel starts at paragraph 58\n",
    "2. There are meaningless numbers in the format \"1.8\" in between the text on single lines.\n",
    "3. Each paragraph ends with `\\n` which is not necessary here\n",
    "4. There are entirely empty lines"
   ]
  },
  {
   "cell_type": "markdown",
   "id": "e34e80fa-3f34-4397-8433-45b91c2c7244",
   "metadata": {},
   "source": [
    "#### 1. Trim"
   ]
  },
  {
   "cell_type": "code",
   "execution_count": 5,
   "id": "8ddcdbec-cdaf-49ad-848f-8ab14b1ba290",
   "metadata": {},
   "outputs": [],
   "source": [
    "book = book[58:]"
   ]
  },
  {
   "cell_type": "markdown",
   "id": "69eb8721-780c-46c9-8f78-0994638c896f",
   "metadata": {},
   "source": [
    "#### 2. Remove meaningless numbers and 3. remove `\\n`"
   ]
  },
  {
   "cell_type": "markdown",
   "id": "35fb536d-e085-453a-941c-ce567552b134",
   "metadata": {},
   "source": [
    "*Example*"
   ]
  },
  {
   "cell_type": "code",
   "execution_count": 6,
   "id": "65740fa5-c1cf-482b-b47f-c5fa010b92f5",
   "metadata": {},
   "outputs": [
    {
     "data": {
      "text/plain": [
       "'4.1\\n'"
      ]
     },
     "execution_count": 6,
     "metadata": {},
     "output_type": "execute_result"
    }
   ],
   "source": [
    "book[22]"
   ]
  },
  {
   "cell_type": "code",
   "execution_count": 7,
   "id": "410be7c2-b8a2-4e68-b9a4-b28a5d7644c0",
   "metadata": {},
   "outputs": [
    {
     "data": {
      "text/plain": [
       "'April 7, 1928\\n'"
      ]
     },
     "execution_count": 7,
     "metadata": {},
     "output_type": "execute_result"
    }
   ],
   "source": [
    "book[0]"
   ]
  },
  {
   "cell_type": "code",
   "execution_count": 8,
   "id": "80f9ab8b-7025-452a-bdbf-c9cf87bcfa3d",
   "metadata": {},
   "outputs": [],
   "source": [
    "rm_pattern_1 = \"^[0-9]*\\.[0-9]*\\\\n$\"\n",
    "rm_pattern_2 = \"\\\\n$\"\n",
    "\n",
    "for i, _ in enumerate(book):\n",
    "    book[i] = re.sub(rm_pattern_1, \"\", book[i]) \n",
    "    book[i] = re.sub(rm_pattern_2, \"\", book[i]) "
   ]
  },
  {
   "cell_type": "markdown",
   "id": "c0fb6b84-4cba-4924-af3c-ec26a68b4ae6",
   "metadata": {},
   "source": [
    "*Example*"
   ]
  },
  {
   "cell_type": "code",
   "execution_count": 9,
   "id": "78a3edb6-c2a5-41aa-a6b2-f604443723be",
   "metadata": {},
   "outputs": [
    {
     "data": {
      "text/plain": [
       "''"
      ]
     },
     "execution_count": 9,
     "metadata": {},
     "output_type": "execute_result"
    }
   ],
   "source": [
    "book[22]"
   ]
  },
  {
   "cell_type": "code",
   "execution_count": 10,
   "id": "bd1c3225-ce4c-4a13-950b-72088d6d89e7",
   "metadata": {},
   "outputs": [
    {
     "data": {
      "text/plain": [
       "'April 7, 1928'"
      ]
     },
     "execution_count": 10,
     "metadata": {},
     "output_type": "execute_result"
    }
   ],
   "source": [
    "book[0]"
   ]
  },
  {
   "cell_type": "markdown",
   "id": "672a2c26-6c79-4e4d-8621-e5df7b91e9a7",
   "metadata": {},
   "source": [
    "#### 4. Remove empty lines"
   ]
  },
  {
   "cell_type": "markdown",
   "id": "515c0f58-65f1-4312-9d8f-67cfacb34bd9",
   "metadata": {},
   "source": [
    "*Before*"
   ]
  },
  {
   "cell_type": "code",
   "execution_count": 11,
   "id": "c2cb741b-37c1-41de-9db6-fd74055f62b7",
   "metadata": {},
   "outputs": [
    {
     "name": "stdout",
     "output_type": "stream",
     "text": [
      "April 7, 1928\n",
      "\n",
      "\n",
      "\n",
      "Through the fence, between the curling flower spaces, I could see them hitting. They were coming toward where the flag was and I went along the fence. Luster was hunting in the grass by the flower tree. They took the flag out, and they were hitting. Then they put the flag back and they went to the table, and he hit and the other hit. Then they went on, and I went along the fence. Luster came away from the flower tree and we went along the fence and they stopped and we stopped and I looked through the fence while Luster was hunting in the grass.\n",
      "\n",
      "\"Here, caddie.\" He hit. They went away across the pasture. I held to the fence and watched them going away.\n"
     ]
    }
   ],
   "source": [
    "for p in book[:7]:\n",
    "    print(p)"
   ]
  },
  {
   "cell_type": "markdown",
   "id": "839c32b2-c233-4623-94d6-c499f6b91659",
   "metadata": {},
   "source": [
    "*After*"
   ]
  },
  {
   "cell_type": "code",
   "execution_count": 12,
   "id": "6b922f1d-758c-4f6f-99d7-891b7ecbf83d",
   "metadata": {},
   "outputs": [
    {
     "name": "stdout",
     "output_type": "stream",
     "text": [
      "April 7, 1928\n",
      "Through the fence, between the curling flower spaces, I could see them hitting. They were coming toward where the flag was and I went along the fence. Luster was hunting in the grass by the flower tree. They took the flag out, and they were hitting. Then they put the flag back and they went to the table, and he hit and the other hit. Then they went on, and I went along the fence. Luster came away from the flower tree and we went along the fence and they stopped and we stopped and I looked through the fence while Luster was hunting in the grass.\n",
      "\"Here, caddie.\" He hit. They went away across the pasture. I held to the fence and watched them going away.\n"
     ]
    }
   ],
   "source": [
    "book_trimmed = [p for p in book if p != '']\n",
    "\n",
    "for p in book_trimmed[:3]:\n",
    "    print(p)"
   ]
  },
  {
   "cell_type": "markdown",
   "id": "e2a630a4-e227-48f3-aa6d-8904ee49b716",
   "metadata": {},
   "source": [
    "## Start analyzing the text"
   ]
  },
  {
   "cell_type": "markdown",
   "id": "a9d7d40f-cc19-4ea3-afd8-9e3ea89eda5b",
   "metadata": {},
   "source": [
    "### Fix contractions & lower case"
   ]
  },
  {
   "cell_type": "code",
   "execution_count": 13,
   "id": "b2f9bd2f-43dd-407a-8702-7d40cb4887f9",
   "metadata": {},
   "outputs": [],
   "source": [
    "for i, _ in enumerate(book_trimmed):\n",
    "    book_trimmed[i] = contractions.fix(book_trimmed[i]).lower()"
   ]
  },
  {
   "cell_type": "markdown",
   "id": "e2278405-6541-460e-bbaa-c9d19e45ffb5",
   "metadata": {},
   "source": [
    "### Tokenize paragraphs to sentences"
   ]
  },
  {
   "cell_type": "code",
   "execution_count": 14,
   "id": "35370eb9-8fae-4a16-b3f2-7ed95809ed0a",
   "metadata": {},
   "outputs": [],
   "source": [
    "import nltk\n",
    "from copy import deepcopy\n",
    "\n",
    "book_trimmed_tokenized = deepcopy(book_trimmed)\n",
    "\n",
    "for i, p in enumerate(book_trimmed):\n",
    "    book_trimmed_tokenized[i] = nltk.sent_tokenize(p)"
   ]
  },
  {
   "cell_type": "markdown",
   "id": "ab11e51a-cb48-4ac3-bef9-29ce8440ddec",
   "metadata": {},
   "source": [
    "### Sentiment scores for sentences"
   ]
  },
  {
   "cell_type": "code",
   "execution_count": 15,
   "id": "67cecca4-5eae-461c-a4d9-5e721935e9b7",
   "metadata": {},
   "outputs": [],
   "source": [
    "from nltk.sentiment.vader import SentimentIntensityAnalyzer\n",
    "\n",
    "sid = SentimentIntensityAnalyzer()"
   ]
  },
  {
   "cell_type": "markdown",
   "id": "e8903d66-b3d2-45c1-8ba6-39fc2abc56d3",
   "metadata": {},
   "source": [
    "<div class=\"alert alert-warning\">Let's see what is the difference between computing the score over the individual sentences or for the whole paragraph. It seems that this is an absolute value that accumulates the longer a text. High scores for long texts can thus be misleading. Is there a relative measure? Dividing by number of words or sentences? That would be necessary to make valid comparisons. I.e. 2 books could have both positive scores, but one has higher scores. Could it be because of its length?</div>"
   ]
  },
  {
   "cell_type": "markdown",
   "id": "68e0cee3-67fd-4219-90c5-c6b53d9405d5",
   "metadata": {},
   "source": [
    "#### One example paragraph"
   ]
  },
  {
   "cell_type": "code",
   "execution_count": 16,
   "id": "ec5fa3db-adb1-486b-af21-246c66408f7e",
   "metadata": {},
   "outputs": [
    {
     "name": "stdout",
     "output_type": "stream",
     "text": [
      "A) whole paragraph:\n",
      "\n",
      "it was red, flapping on the pasture. then there was a bird slanting and tilting on it. luster threw. the flag flapped on the bright grass and the trees. i held to the fence.\n",
      "=> 0.4404\n",
      "\n",
      "B) single sentences:\n",
      "\n",
      "it was red, flapping on the pasture.\n",
      "=> 0.0\n",
      "then there was a bird slanting and tilting on it.\n",
      "=> 0.0\n",
      "luster threw.\n",
      "=> 0.0\n",
      "the flag flapped on the bright grass and the trees.\n",
      "=> 0.4404\n",
      "i held to the fence.\n",
      "=> 0.0\n"
     ]
    }
   ],
   "source": [
    "p_i = 6 # paragraph index\n",
    "\n",
    "print(\"A) whole paragraph:\\n\")\n",
    "print(book_trimmed[p_i])\n",
    "print(\"=>\", sid.polarity_scores(book_trimmed[p_i])['compound'])\n",
    "\n",
    "print(\"\\nB) single sentences:\\n\")\n",
    "for sent in book_trimmed_tokenized[p_i]:\n",
    "    print(sent)\n",
    "    print(\"=>\", sid.polarity_scores(sent)['compound'])"
   ]
  },
  {
   "cell_type": "markdown",
   "id": "82624ec3-525d-4d45-9c57-6d5efa94900b",
   "metadata": {},
   "source": [
    "#### Across all paragraphs"
   ]
  },
  {
   "cell_type": "code",
   "execution_count": 17,
   "id": "93bf0880-97d7-43e6-acef-2732047deda5",
   "metadata": {},
   "outputs": [],
   "source": [
    "scores = []\n",
    "\n",
    "for p in book_trimmed:\n",
    "    scores.append(sid.polarity_scores(p)['compound'])"
   ]
  },
  {
   "cell_type": "markdown",
   "id": "dbc6a2d2-3734-444f-803f-105277e60b6d",
   "metadata": {},
   "source": [
    "##### Total score of this book"
   ]
  },
  {
   "cell_type": "code",
   "execution_count": 18,
   "id": "7b94988d-ee9c-44e1-bcbd-99eb7f949e45",
   "metadata": {},
   "outputs": [
    {
     "data": {
      "text/plain": [
       "43.4318"
      ]
     },
     "execution_count": 18,
     "metadata": {},
     "output_type": "execute_result"
    }
   ],
   "source": [
    "np.sum(scores)"
   ]
  },
  {
   "cell_type": "markdown",
   "id": "0869fa70-fa2e-43ac-8f26-dced911b247a",
   "metadata": {},
   "source": [
    "##### Average score of this book"
   ]
  },
  {
   "cell_type": "code",
   "execution_count": 19,
   "id": "87bd0abe-d06a-4f96-8360-397cd3e7437c",
   "metadata": {},
   "outputs": [
    {
     "data": {
      "text/plain": [
       "0.013687929404349198"
      ]
     },
     "execution_count": 19,
     "metadata": {},
     "output_type": "execute_result"
    }
   ],
   "source": [
    "np.mean(scores)"
   ]
  },
  {
   "cell_type": "markdown",
   "id": "acfecfa7-4715-4afd-85f7-78c2b2a041ab",
   "metadata": {},
   "source": [
    "The book seems neutral according to the sentiment scores."
   ]
  },
  {
   "cell_type": "markdown",
   "id": "94e11a0a-b1f1-4626-88af-849cd633c095",
   "metadata": {},
   "source": [
    "##### Most positive paragraph in the book"
   ]
  },
  {
   "cell_type": "code",
   "execution_count": 20,
   "id": "8aa2ff9a-59ea-42f8-8b80-3927308b3d9a",
   "metadata": {},
   "outputs": [
    {
     "name": "stdout",
     "output_type": "stream",
     "text": [
      "candace (caddy). doomed and knew it, accepted the doom without either seeking or fleeing it. loved her brother despite him, loved not only him but loved in him that bitter prophet and inflexible corruptless judge of what he considered the family's honor and its doom, as he thought he loved but really hated in her what he considered the frail doomed vessel of its pride and the foul instrument of its disgrace, not only this, she loved him not only in spite of but because of the fact that he himself was incapable of love, accepting the fact that he must value above all not her but the virginity of which she was custodian and on which she placed no value whatever: the frail physical stricture which to her was no more than a hangnail would have been. knew the brother loved death best of all and was not jealous, would (and perhaps in the calculation and deliberation of her marriage did) have handed him the hypothetical hemlock. was two months pregnant with another man's child which regardless of what its sex would be she had already named quentin after the brother whom they both (she and her brother) knew was already the same as dead, when she married (1910) an extremely eligible young indianian she and her mother had met while vacationing at french lick the summer before. divorced by him 1911. married 1920 to a minor movingpicture magnate, hollywood california. divorced by mutual agreement, mexico 1925. vanished in paris with the german occupation, 1940, skill beautiful and probably still wealthy too since she did not look within fifteen years of her actual fortyeight, and was not heard of again. except there was a woman in jefferson, the county librarian, a mousesized and -colored woman who had never married who had passed through the city schools in the same class with candace compson and then spent the rest of her life trying to keep forever amber in its orderly overlapping avatars and jurgen and tom jones out of the hands of the highschool juniors and seniors who could reach them down without even having to tip-toe from the back shelves where she herself would have to stand on a box to hide them. one day in 1943, after a week of a distraction bordering on disintegration almost, during which those entering the library would find her always in the act of hurriedly closing her desk drawer and turning the key in it (so that the matrons, wives of the bankers and doctors and lawyers, some of whom had also been in that old highschool class, who came and went in the afternoons with the copies of the forever ambers and the volumes of thorne smith carefully wrapped from view in sheets of memphis and jackson newspapers, believed she was on the verge of illness or perhaps even loss of mind) she closed and locked the library in the middle of the afternoon and with her handbag clasped tightly under her arm and two feverish spots of determination in her ordinarily colorless cheeks, she entered the farmers' supply store where jason iv had started as a clerk and where he now owned his own business as a buyer of and dealer in cotton, striding on through that gloomy cavern which only men ever entered--a cavern cluttered and walled and stalagmitehung with plows and discs and loops of tracechain and singletrees and mulecollars and sidemeat and cheap shoes and horselinament and flour and molasses, gloomy because the goods it contained were not shown but hidden rather since those who supplied mississippi farmers or at least negro mississippi farmers for a share of the crop did not wish, until that crop was made and its value approximately computable, to show them what they could learn to want but only to supply them on specific demand with what they could not help but need--and strode on back to jason's particular domain in the rear: a railed enclosure cluttered with shelves and pigeonholes bearing spiked dust-and-lintgathering gin receipts and ledgers and cottonsamples and rank with the blended smell of cheese and kerosene and harnessoil and the tremendous iron stove against which chewed tobacco had been spat for almost a hundred years, and up to the long high sloping counter behind which jason stood and, not looking again at the overalled men who had quietly stopped talking and even chewing when she entered, with a kind of fainting desperation she opened the handbag and fumbled something out of it and laid it open on the counter and stood trembling and breathing rapidly while jason looked down at it--a picture, a photograph in color clipped obviously from a slick magazine--a picture filled with luxury and money and sunlight--a cannebière backdrop of mountains and palms and cypresses and the sea, an open powerful expensive chromium/rimmed sports car, the woman's face hatless between a rich scarf and a seal coat, ageless and beautiful, cold serene and damned; beside her a handsome lean man of middleage in the ribbons and tabs of a german staffgeneral--and the mousesized mousecolored spinster trembling and aghast at her own temerity, staring across it at the childless bachelor in whom ended that long line of men who had had something in them of decency and pride even after they had begun to fail at the integrity and the pride had become mostly vanity and selfpity: from the expatriate who had to flee his native land with little else except his life yet who still refused to accept defeat, through the man who gambled his life and his good name twice and lost twice and declined to accept that either, and the one who with only a clever small quarterhorse for tool avenged his dispossessed father and grandfather and gained a principality, and the brilliant and gallant governor and the general who though he failed at leading in battle brave and gallant men at least risked his own life too in the failing, to the cultured dipsomaniac who sold the last of his patrimony not to buy drink but to give one of his descendants at least the best chance in life he could think of.\n",
      "=> 0.9935\n"
     ]
    }
   ],
   "source": [
    "print(book_trimmed[np.argmax(scores)])\n",
    "print(\"=>\", np.max(scores))"
   ]
  },
  {
   "cell_type": "markdown",
   "id": "7967d504-6404-417d-9fa6-018f45d8414f",
   "metadata": {},
   "source": [
    "##### Most negative paragraph in the book"
   ]
  },
  {
   "cell_type": "code",
   "execution_count": 21,
   "id": "32ed1bb5-4915-4dc8-92c4-78b4cf06c1d3",
   "metadata": {},
   "outputs": [
    {
     "name": "stdout",
     "output_type": "stream",
     "text": [
      "what have i done to have been given children like these benjamin was punishment enough and now for her to have no more regard for me her own mother i have suffered for her dreamed and planned and sacrificed i went down into the valley yet never since she opened her eyes has she given me one unselfish thought at times i look at her i wonder if she can be my child except jason he has never given me one moment's sorrow since i first held him in my arms i knew then that he was to be my joy and my salvation i thought that benjamin was punishment enough for any sins i have committed i thought he was my punishment for putting aside my pride and marrying a man who held himself above me i do not complain i loved him above all of them because of it because my duty though jason pulling at my heart all the while but i see now that i have not suffered enough i see now that i must pay for your sins as well as mine what have you done what sins have your high and mighty people visited upon me but you will take up for them you always have found excuses for your own blood only jason can do wrong because he is more bascomb than compson while your own daughter my little daughter my baby girl she is she is no better than that when i was a girl i was unfortunate i was only a bascomb i was taught that there is no halfway ground that a woman is either a lady or not but i never dreamed when i held her in my arms that any daughter of mine could let herself do not you know i can look at her eyes and tell you may think she would tell you but she does not tell things she is secretive you do not know her i know things she is done that i would die before i would have you know that is it go on criticise jason accuse me of setting him to watch her as if it were a crime while your own daughter can i know you do not love him that you wish to believe faults against him you never have yes ridicule him as you always have maury you cannot hurt me any more than your children already have and then i will be gone and jason with no one to love him shield him from this i look at him every day dreading to see this compson blood beginning to show in him at last with his sister slipping out to see what do you call it then have you ever laid eyes on him will you even let me try to find out who he is it is not for myself i could not bear to see him it is for your sake to protect you but who can fight against bad blood you will not let me try we are to sit back with our hands folded while she not only drags your name in the dirt but corrupts the very air your children breathe jason you must let me go away i cannot stand it let me have jason and you keep the others they are not my flesh and blood like he is strangers nothing of mine and i am afraid of them i can take jason and go where we are not known i will go down on my knees and pray for the absolution of my sins that he may escape this curse try to forget that the others ever were\n",
      "=> -0.9971\n"
     ]
    }
   ],
   "source": [
    "print(book_trimmed[np.argmin(scores)])\n",
    "print(\"=>\", np.min(scores))"
   ]
  },
  {
   "cell_type": "markdown",
   "id": "c4804205-1b48-49ae-bafe-9815f682da05",
   "metadata": {},
   "source": [
    "<div class=\"alert alert-warning\">With respect to what I wrote before about the sentiment score I am not surprised that both examples are very long paragraphs.</div>"
   ]
  },
  {
   "cell_type": "markdown",
   "id": "eaa0d0c4-3c6b-4520-a045-b3fa6e2545d0",
   "metadata": {},
   "source": [
    "##### How the score develops throughout the book"
   ]
  },
  {
   "cell_type": "code",
   "execution_count": 22,
   "id": "9bb24104-a56e-493d-b7de-d2291e5ee62d",
   "metadata": {},
   "outputs": [
    {
     "data": {
      "image/png": "[encoded data removed]",
      "text/plain": [
       "<Figure size 640x480 with 1 Axes>"
      ]
     },
     "metadata": {},
     "output_type": "display_data"
    }
   ],
   "source": [
    "plt.plot(np.cumsum(scores), color=\"steelblue\", label=\"Accumulated score\")\n",
    "plt.title(\"The sound and the fury\")\n",
    "plt.ylabel(\"Sentiment score\")\n",
    "plt.xlabel(\"Paragraph\")\n",
    "plt.legend();"
   ]
  },
  {
   "cell_type": "code",
   "execution_count": 23,
   "id": "c598fa8a-8abb-4348-a09b-146773c82c0b",
   "metadata": {},
   "outputs": [
    {
     "data": {
      "image/png": "[encoded data removed]",
      "text/plain": [
       "<Figure size 640x480 with 1 Axes>"
      ]
     },
     "metadata": {},
     "output_type": "display_data"
    }
   ],
   "source": [
    "def moving_average(x, w):\n",
    "    return np.convolve(x, np.ones(w), 'valid') / w\n",
    "\n",
    "\n",
    "window = 300 # smoothness of convolution\n",
    "\n",
    "plt.plot(moving_average(scores, window), label=\"Moving average\", color=\"steelblue\")\n",
    "plt.axhline(np.mean(scores), label=\"Average\", color=\"salmon\", linestyle=\":\")\n",
    "plt.title(\"The sound and the fury\")\n",
    "plt.ylabel(\"Sentiment score\")\n",
    "plt.xlabel(\"Paragraph\")\n",
    "plt.legend();"
   ]
  },
  {
   "cell_type": "markdown",
   "id": "64eac2e0-21dc-4978-9db6-1c7df49bc6f8",
   "metadata": {},
   "source": [
    "Looks like we arrive emotionally to the first minimum around paragraph 700. There two more, one in the middle of the book and one close to the end.  "
   ]
  }
 ],
 "metadata": {
  "kernelspec": {
   "display_name": "Python 3 (ipykernel)",
   "language": "python",
   "name": "python3"
  },
  "language_info": {
   "codemirror_mode": {
    "name": "ipython",
    "version": 3
   },
   "file_extension": ".py",
   "mimetype": "text/x-python",
   "name": "python",
   "nbconvert_exporter": "python",
   "pygments_lexer": "ipython3",
   "version": "3.9.13"
  }
 },
 "nbformat": 4,
 "nbformat_minor": 5
}
