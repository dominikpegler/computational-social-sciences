{
 "cells": [
  {
   "cell_type": "markdown",
   "id": "8d6e9f5a-f7e1-4d46-bdaa-c1b51585ce8e",
   "metadata": {},
   "source": [
    "Social media scraping\n",
    "==="
   ]
  },
  {
   "cell_type": "code",
   "execution_count": 12,
   "id": "fd21ee82-8fd4-4c0f-bf38-37cab1108235",
   "metadata": {},
   "outputs": [],
   "source": [
    "import os\n",
    "import json\n",
    "\n",
    "data_dir = \"data/twitter\"\n",
    "\n",
    "if os.path.exists(data_dir) == False:\n",
    "    os.makedirs(data_dir)"
   ]
  },
  {
   "cell_type": "markdown",
   "id": "98b0c0f1-67cd-4491-8901-0330b8dbddf7",
   "metadata": {},
   "source": [
    "## Tweets by User"
   ]
  },
  {
   "cell_type": "markdown",
   "id": "d913f65b-3daf-480a-94ad-035d4eb8b5ca",
   "metadata": {},
   "source": [
    "Scrape the last 100 tweets from `@derstandard` and store in json file"
   ]
  },
  {
   "cell_type": "code",
   "execution_count": 30,
   "id": "5aed5418-d551-4429-a23d-0466f58c79ad",
   "metadata": {},
   "outputs": [],
   "source": [
    "!snscrape --jsonl --max-results 100 twitter-user derstandardat > data/twitter/user-derstandardat.json"
   ]
  },
  {
   "cell_type": "code",
   "execution_count": 38,
   "id": "09368b1d-5187-49f4-89a7-0bc6957aaf6a",
   "metadata": {},
   "outputs": [
    {
     "name": "stdout",
     "output_type": "stream",
     "text": [
      "2023-01-22T18:02:02+00:00 Weiterarbeiten im Pensionsalter: \"Meine Arbeit ist mein Leben\":  https://t.co/C1zpXtuZ9j None\n",
      "2023-01-22T18:02:01+00:00 Ältere sollen die Joblücke füllen. Aber wer will sie wirklich haben?:  https://t.co/a0yvyd7NAQ None\n",
      "2023-01-22T17:31:23+00:00 Julian Schütter: Kitzbühel-Opfer und Skifahrer for Future:  https://t.co/YEY11CcFhs None\n",
      "2023-01-22T17:31:22+00:00 Zum Jahrestag klingelt das FBI an Bidens Tür:  https://t.co/tNpiqpHV6R None\n",
      "2023-01-22T17:31:21+00:00 Kindesmissbrauch: Mehr Mittel für Polizei:  https://t.co/4bTDKfCe0L None\n",
      "2023-01-22T17:14:44+00:00 Sudoku mittel 5422a:  https://t.co/H3g7zKUt9u None\n",
      "2023-01-22T17:14:43+00:00 Musk soll 80 Prozent der Belegschaft von Twitter gekündigt haben:  https://t.co/kISWrtnWt5 None\n",
      "2023-01-22T17:14:42+00:00 Israels Überlebenskünstler:  https://t.co/rnz6TJzxqk None\n",
      "2023-01-22T17:01:18+00:00 Volksoper in der Blödelmaschine: Offenbachs \"Orpheus\" als Slapstick-Operette:  https://t.co/PvKGOfOqiv None\n",
      "2023-01-22T17:01:18+00:00 Wintereinbruch: Flocken-Flexibilität:  https://t.co/I64wLSBpQC None\n",
      "2023-01-22T17:01:16+00:00 Neuseelands \"intelligenter Kampfhund\" Hipkins folgt auf höfliche Ardern:  https://t.co/MZPScYqudz None\n",
      "2023-01-22T16:45:08+00:00 BVB gewinnt bei Hallers Comeback nach Krebserkrankung 4:3-Spektakel:  https://t.co/tTGXp4Exqm None\n",
      "2023-01-22T16:28:53+00:00 Neuer Puls 4-Senderchef Gruber: Weniger teure Shows, mehr Eigenproduktionen:  https://t.co/vC7UkcggYx None\n",
      "2023-01-22T16:28:52+00:00 Unerhörte Dissonanzen beim Festival für Alte Musik im Konzerthaus:  https://t.co/mmfkQch5WH None\n",
      "2023-01-22T16:28:51+00:00 Viel zu brave Gespenster-Soap am Grazer Schauspielhaus:  https://t.co/pyI5luMyHM None\n",
      "2023-01-22T16:28:50+00:00 Weitere Identifizierungen rund um Missbrauchsfall eines Lehrers laufen:  https://t.co/cinvlEjnZv None\n",
      "2023-01-22T16:12:08+00:00 Haaland serviert Wolverhampton mit Hattrick ab:  https://t.co/HyF6mxzwt2 None\n",
      "2023-01-22T16:12:08+00:00 Wie Musik klingt, die wir zum Einschlafen hören:  https://t.co/aX7IGD96SF None\n",
      "2023-01-22T16:12:06+00:00 Schweden und Türkei: In der Sackgasse:  https://t.co/UJVVCdzsmX None\n",
      "2023-01-22T16:12:05+00:00 Sollen Handy-Chats archiviert werden?:  https://t.co/VHZCx1vDxt None\n",
      "2023-01-22T15:43:32+00:00 Netanjahu feuert umstrittenen Minister nach Höchstgerichtsurteil:  https://t.co/OCN9Cwv9GM None\n",
      "2023-01-22T15:43:31+00:00 Winter bleibt erhalten: Schnee und Regen im Süden und Südosten:  https://t.co/5KUMfdY8UN None\n",
      "2023-01-22T15:29:38+00:00 In Peru rufen Demonstranten zum Bürgerkrieg auf:  https://t.co/m68aOuaQWc None\n",
      "2023-01-22T15:15:25+00:00 Mitarbeiter legten versehentlich den gesamten US-Flugverkehr lahm:  https://t.co/4vjlhmCG7u None\n",
      "2023-01-22T15:00:54+00:00 \"This is Africa\": Korruption statt humanitäre Hilfe auf der Budapest-Bamako-Amateurrallye:  https://t.co/PfK40E0Wyg None\n"
     ]
    }
   ],
   "source": [
    "with open(data_dir+\"/user-derstandardat.json\", \"r\") as fo:\n",
    "    derstandard_tweets = fo.readlines()\n",
    "\n",
    "derstandard_tweets = [json.loads(derstandard_tweets[i]) for i in range(0, len(derstandard_tweets))]\n",
    "\n",
    "\n",
    "for i in range(25):\n",
    "\n",
    "    print(derstandard_tweets[i][\"date\"], derstandard_tweets[i][\"rawContent\"], derstandard_tweets[i][\"hashtags\"])"
   ]
  },
  {
   "cell_type": "markdown",
   "id": "d1c83eac-718a-49b8-9e0e-d42f253c009d",
   "metadata": {},
   "source": [
    "## Tweets by Hashtag"
   ]
  },
  {
   "cell_type": "markdown",
   "id": "c3f37a6d-2dc0-4003-8c3c-0beced29fa5c",
   "metadata": {},
   "source": [
    "Scrape the last 100 tweets with `#chinesevirus` and store in txt file"
   ]
  },
  {
   "cell_type": "code",
   "execution_count": 39,
   "id": "31c9613d-a36e-48d9-91a9-b1a99801c1c0",
   "metadata": {},
   "outputs": [],
   "source": [
    "!snscrape --jsonl --max-results 100 twitter-hashtag chinesevirus > data/twitter/hashtag-chinesevirus.json"
   ]
  },
  {
   "cell_type": "code",
   "execution_count": 40,
   "id": "96f51e91-0582-41cf-b582-10346b75da39",
   "metadata": {},
   "outputs": [
    {
     "name": "stdout",
     "output_type": "stream",
     "text": [
      "2023-01-22T18:41:36+00:00 #chineseVirus ['chineseVirus']\n",
      "2023-01-22T15:30:19+00:00 #ChineseVirus update https://t.co/fkpN3sRSrL ['ChineseVirus']\n",
      "2023-01-22T15:02:11+00:00 @AmbassadeChine Year of Chinese BAT\n",
      "#chinesevirus ['chinesevirus']\n",
      "2023-01-22T13:10:58+00:00 #ChineseNewYear #ChineseVirus ['ChineseNewYear', 'ChineseVirus']\n",
      "2023-01-22T06:16:45+00:00 Fantastic. Instead of getting pissed off, it would be good to think about the points being brought up here with an open mind. You have been lied to.\n",
      "\n",
      "#CovidVaccines\n",
      "#VaccineDeath\n",
      "#vaccine\n",
      "#vaccinated\n",
      "#covid\n",
      "#covid19\n",
      "#chinesevirus ['CovidVaccines', 'VaccineDeath', 'vaccine', 'vaccinated', 'covid', 'covid19', 'chinesevirus']\n",
      "2023-01-21T14:14:23+00:00 @Fart47404663 More than 5.51 billion Ppl worldwide have received vaccines against #ChineseVirus or above 71.8% of the world population, like #China insulting our spiritual leader HH the Dalai Lama is hurting Tibetans feelings, have little more respect https://t.co/gFraCtbvN6 #FreeTibet #France ['ChineseVirus', 'China', 'FreeTibet', 'France']\n",
      "2023-01-21T09:07:50+00:00 Researchers suggest  genetic engineering on COVID SARS 2\n",
      "#chinesevirus ['chinesevirus']\n",
      "2023-01-21T08:38:10+00:00 The #Chinese #Virus Vaccine does not work. #ChineseVirus #WEF #WEF23 ['Chinese', 'Virus', 'ChineseVirus', 'WEF', 'WEF23']\n",
      "2023-01-20T11:17:17+00:00 #chinesevirus #kungflu #thankyouchina #stopthevaccinegenocide https://t.co/QEynnmFx03 ['chinesevirus', 'kungflu', 'thankyouchina', 'stopthevaccinegenocide']\n",
      "2023-01-20T11:14:11+00:00 Pfizer’s salesman in India Mr. @chetan_bhagat at least now you should apologise and accept your mistake.\n",
      "\n",
      "#PfizerFiles #PfizerCEO #Pfizer #ChineseVirus ['PfizerFiles', 'PfizerCEO', 'Pfizer', 'ChineseVirus']\n",
      "2023-01-20T07:05:08+00:00 @RonaldTooTall @WhiteHouse #chinesevirus #fakenews ['chinesevirus', 'fakenews']\n",
      "2023-01-20T07:03:25+00:00 @WhiteHouse #Chinesevirus #fakenews ['Chinesevirus', 'fakenews']\n",
      "2023-01-20T06:23:09+00:00 @globaltimesnews No need of article for criticism. Just publish real #ChineseVirus data in china for last 6 months. ['ChineseVirus']\n",
      "2023-01-19T05:59:31+00:00 The minor scandal hit a sore spot for prominent nationalists, many of whom attack foreign countries while taking advantage of what they have to offer.\n",
      "\n",
      "#CCP #ChineseVirus ['CCP', 'ChineseVirus']\n",
      "2023-01-19T05:59:29+00:00 Is it Promotion or Demotion?\n",
      "\n",
      "Lijian Zhao so called Wolf Warrior of CCP, now move from foreign ministry spokesperson to a backroom role reflects a diplomatic shift.\n",
      "\n",
      "#CCP #ChineseVirus #wolfwarrior https://t.co/SaOVNoshho ['CCP', 'ChineseVirus', 'wolfwarrior']\n",
      "2023-01-19T00:58:47+00:00 She was so harmful. Turned into a controlling fascist and all she needed was a #chinesevirus.   https://t.co/aiyQo93PUB ['chinesevirus']\n",
      "2023-01-18T20:52:12+00:00 Indeed, India under the able leadership of Sh @narendramodiji managed and contained #ChineseVirus like no other country ['ChineseVirus']\n",
      "2023-01-18T16:17:05+00:00 हमारी रेल्वे ने दुख में बहुत साथ दिया है चाहे वो कोरोना #ChineseVirus का भयानक समय हो या रक्त की कमी. \n",
      "राष्ट्रीय युवा दिवस पर @WesternRly @drmbct ने 440 यूनिट रक्त जमा किया. अतुलनीय कार्य। @indiacares_2020 @komaldev8484 @Ksih_foundation @itsmesabita @ParulAggarwal04 https://t.co/0J2hs9jzjP ['ChineseVirus']\n",
      "2023-01-18T14:08:31+00:00 Chinese Population are over aging plus lower birth rates &amp; its economic is stagnation, all these makes #CCP's Dictator #XiJinping disastrous, his days counting.\n",
      "\n",
      "#FreeTibet #FreeTaiwan #FreeHK #FreeET #UN #WHO #EU #UK #US #India #ChineseVirus #HoldChinaAccountable #BoycottSinovac ['CCP', 'XiJinping', 'FreeTibet', 'FreeTaiwan', 'FreeHK', 'FreeET', 'UN', 'WHO', 'EU', 'UK', 'US', 'India', 'ChineseVirus', 'HoldChinaAccountable', 'BoycottSinovac']\n",
      "2023-01-18T13:50:33+00:00 Chinese Doctors are urged to 'try not to' put #COVID19 on death certificates, a clear indication of #ChineseVirus is originated from #China https://t.co/c3z3VeuwWz #FreeTibet #FreeHK #XiJinping #UN #WHO #EU #HoldChinaAccountable #BoycottSinovac #BoycottSinopharm via @timesofindia ['COVID19', 'ChineseVirus', 'China', 'FreeTibet', 'FreeHK', 'XiJinping', 'UN', 'WHO', 'EU', 'HoldChinaAccountable', 'BoycottSinovac', 'BoycottSinopharm']\n",
      "2023-01-18T13:17:23+00:00 @hemirdesai There is no borders between #India &amp; #China, its #Tibet's border, those who saying this isn't serving  Indians interest &amp; its hurting Tibetans feelings.\n",
      "https://t.co/rOxKyOc3Eg \n",
      "#FreeTibet #XiJinping #DalaiLama #Arunachal #Ladakh #IndiaChinaFaceOff #PMModi #NewDelhi #ChineseVirus https://t.co/9qB5DdyfYY ['India', 'China', 'Tibet', 'FreeTibet', 'XiJinping', 'DalaiLama', 'Arunachal', 'Ladakh', 'IndiaChinaFaceOff', 'PMModi', 'NewDelhi', 'ChineseVirus']\n",
      "2023-01-18T12:45:41+00:00 @Iggy_Semmelweis What an international game @GretaThunberg\n",
      "has handler #LuisaMarieNeubauer a #Rothschild a favourite of \n",
      "@BillGates\n",
      "@georgesoros\n",
      "@BMGFIndia\n",
      "controls Indian&amp;world public health systems through various rings. Was also under scanner to shield @WHO\n",
      "a culprit in spread of #ChineseVirus ['LuisaMarieNeubauer', 'Rothschild', 'ChineseVirus']\n",
      "2023-01-18T04:05:17+00:00 #XiJinping is forced to eat shit and reverse #ZeroCovid policy.\n",
      "\n",
      "Close to a million innocent chinese have died in last one month alone due to #ChineseVirus\n",
      "\n",
      "#China backs off from supporting Pak bred anti-India terrorists\n",
      "\n",
      "#Pakistan begs India to come to dialogue table. ['XiJinping', 'ZeroCovid', 'ChineseVirus', 'China', 'Pakistan']\n",
      "2023-01-17T12:07:12+00:00 ചൈന പറയുന്നു കഴിഞ്ഞ മാസം 60000 ആളുകൾ മരിച്ചെന്നു..\n",
      "\n",
      "@WHO  പറയുന്നു ഇതുവരെ മരിച്ചവർ 34000 പേര് എന്ന്.. \n",
      "\n",
      "എന്തരോ ഏതോ .. 🤷🤷\n",
      "\n",
      "#ChineseVirus\n",
      "#Covid https://t.co/cVuVbqN8dx ['ChineseVirus', 'Covid']\n",
      "2023-01-17T09:30:09+00:00 @Synchro2021 Every country should ban Chinese companies buying property and land #chinesevirus ['chinesevirus']\n"
     ]
    }
   ],
   "source": [
    "with open(data_dir+\"/hashtag-chinesevirus.json\", \"r\") as fo:\n",
    "    tweets = fo.readlines()\n",
    "\n",
    "tweets = [json.loads(tweets[i]) for i in range(0, len(tweets))]\n",
    "\n",
    "\n",
    "for i in range(25):\n",
    "\n",
    "    print(tweets[i][\"date\"], tweets[i][\"rawContent\"], tweets[i][\"hashtags\"])"
   ]
  }
 ],
 "metadata": {
  "kernelspec": {
   "display_name": "Python 3 (ipykernel)",
   "language": "python",
   "name": "python3"
  },
  "language_info": {
   "codemirror_mode": {
    "name": "ipython",
    "version": 3
   },
   "file_extension": ".py",
   "mimetype": "text/x-python",
   "name": "python",
   "nbconvert_exporter": "python",
   "pygments_lexer": "ipython3",
   "version": "3.9.13"
  }
 },
 "nbformat": 4,
 "nbformat_minor": 5
}
