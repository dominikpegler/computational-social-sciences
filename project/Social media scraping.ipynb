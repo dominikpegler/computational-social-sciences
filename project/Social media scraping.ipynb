{
 "cells": [
  {
   "cell_type": "markdown",
   "id": "8d6e9f5a-f7e1-4d46-bdaa-c1b51585ce8e",
   "metadata": {},
   "source": [
    "Social media scraping\n",
    "==="
   ]
  },
  {
   "cell_type": "code",
   "execution_count": 10,
   "id": "fd21ee82-8fd4-4c0f-bf38-37cab1108235",
   "metadata": {},
   "outputs": [],
   "source": [
    "import os\n",
    "\n",
    "data_dir = \"data/twitter\"\n",
    "\n",
    "if os.path.exists(data_dir) == False:\n",
    "    os.makedirs(data_dir)"
   ]
  },
  {
   "cell_type": "markdown",
   "id": "d913f65b-3daf-480a-94ad-035d4eb8b5ca",
   "metadata": {},
   "source": [
    "Scrape the last 100 tweets from @derstandard and store in textfile"
   ]
  },
  {
   "cell_type": "code",
   "execution_count": 7,
   "id": "5d5b8b2b-c70e-424e-9068-2b5e859ae34f",
   "metadata": {},
   "outputs": [],
   "source": [
    "!snscrape --max-results 100 twitter-user derstandard > data/twitter/user-derstandard.txt"
   ]
  },
  {
   "cell_type": "markdown",
   "id": "c3f37a6d-2dc0-4003-8c3c-0beced29fa5c",
   "metadata": {},
   "source": [
    "Scrape the last 100 tweets with hashtag chinesevirus"
   ]
  },
  {
   "cell_type": "code",
   "execution_count": 9,
   "id": "31c9613d-a36e-48d9-91a9-b1a99801c1c0",
   "metadata": {},
   "outputs": [],
   "source": [
    "!snscrape --max-results 100 twitter-hashtag chinesevirus > data/twitter/hashtag-chinesevirus.txt"
   ]
  }
 ],
 "metadata": {
  "kernelspec": {
   "display_name": "Python 3 (ipykernel)",
   "language": "python",
   "name": "python3"
  },
  "language_info": {
   "codemirror_mode": {
    "name": "ipython",
    "version": 3
   },
   "file_extension": ".py",
   "mimetype": "text/x-python",
   "name": "python",
   "nbconvert_exporter": "python",
   "pygments_lexer": "ipython3",
   "version": "3.9.13"
  }
 },
 "nbformat": 4,
 "nbformat_minor": 5
}
