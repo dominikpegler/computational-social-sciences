{
 "cells": [
  {
   "cell_type": "markdown",
   "id": "8d6e9f5a-f7e1-4d46-bdaa-c1b51585ce8e",
   "metadata": {},
   "source": [
    "Social media scraping\n",
    "==="
   ]
  },
  {
   "cell_type": "code",
   "execution_count": 25,
   "id": "fd21ee82-8fd4-4c0f-bf38-37cab1108235",
   "metadata": {},
   "outputs": [],
   "source": [
    "import os\n",
    "import json\n",
    "import subprocess\n",
    "import pandas as pd\n",
    "import seaborn as sns\n",
    "\n",
    "\n",
    "data_dir = \"data/twitter\"\n",
    "\n",
    "if os.path.exists(data_dir) == False:\n",
    "    os.makedirs(data_dir)"
   ]
  },
  {
   "cell_type": "markdown",
   "id": "98b0c0f1-67cd-4491-8901-0330b8dbddf7",
   "metadata": {},
   "source": [
    "## Tweets by User"
   ]
  },
  {
   "cell_type": "code",
   "execution_count": 7,
   "id": "b3b68b13-8303-475b-b21a-dac0a1d16e5e",
   "metadata": {
    "tags": []
   },
   "outputs": [],
   "source": [
    "def dl_user(user, max_results=None, local=False):\n",
    "    \"\"\"\n",
    "    Function to download tweets by username.\n",
    "    Set local to True, if tweets have already\n",
    "    been downloaded and are available in data_dir.\n",
    "    \n",
    "    Returns a DataFrame.\n",
    "\n",
    "    \"\"\"\n",
    "    \n",
    "    if local == False:\n",
    "        with open(data_dir + f\"/user-{user}.json\", \"w+\") as fo:\n",
    "            if max_results == None:\n",
    "                cmd_list = [\"snscrape\", \"--jsonl\", \"twitter-user\", user]\n",
    "            else:\n",
    "                cmd_list = [\n",
    "                    \"snscrape\",\n",
    "                    \"--jsonl\",\n",
    "                    \"-n \" + str(max_results),\n",
    "                    \"twitter-user\",\n",
    "                    user,\n",
    "                ]\n",
    "            p = subprocess.Popen(cmd_list, stdout=fo)\n",
    "            p.wait()\n",
    "\n",
    "    with open(data_dir + f\"/user-{user}.json\", \"r\") as fo:\n",
    "        tweets = fo.readlines()\n",
    "\n",
    "    tweets = [json.loads(tweets[i]) for i in range(0, len(tweets))]\n",
    "    print(\"loaded\", len(tweets), \"tweets\\n\")\n",
    "    \n",
    "    df_tweets = pd.DataFrame(tweets)\n",
    "    df_tweets[\"date\"] = pd.to_datetime(df_tweets[\"date\"])\n",
    "\n",
    "    return df_tweets"
   ]
  },
  {
   "cell_type": "markdown",
   "id": "d913f65b-3daf-480a-94ad-035d4eb8b5ca",
   "metadata": {},
   "source": [
    "Scrape the last 100 tweets from `@derstandard` and store in json file"
   ]
  },
  {
   "cell_type": "code",
   "execution_count": 8,
   "id": "a19df21c-a13d-4e28-b349-422754a9b31a",
   "metadata": {},
   "outputs": [
    {
     "name": "stdout",
     "output_type": "stream",
     "text": [
      "loaded 100 tweets\n",
      "\n"
     ]
    },
    {
     "data": {
      "text/html": [
       "<div>\n",
       "<style scoped>\n",
       "    .dataframe tbody tr th:only-of-type {\n",
       "        vertical-align: middle;\n",
       "    }\n",
       "\n",
       "    .dataframe tbody tr th {\n",
       "        vertical-align: top;\n",
       "    }\n",
       "\n",
       "    .dataframe thead th {\n",
       "        text-align: right;\n",
       "    }\n",
       "</style>\n",
       "<table border=\"1\" class=\"dataframe\">\n",
       "  <thead>\n",
       "    <tr style=\"text-align: right;\">\n",
       "      <th></th>\n",
       "      <th>date</th>\n",
       "      <th>rawContent</th>\n",
       "      <th>hashtags</th>\n",
       "    </tr>\n",
       "  </thead>\n",
       "  <tbody>\n",
       "    <tr>\n",
       "      <th>0</th>\n",
       "      <td>2023-01-25 09:33:54+00:00</td>\n",
       "      <td>\"IBES\" 2023: Jana ist raus – Werden Sie sie ve...</td>\n",
       "      <td>None</td>\n",
       "    </tr>\n",
       "    <tr>\n",
       "      <th>1</th>\n",
       "      <td>2023-01-25 09:04:32+00:00</td>\n",
       "      <td>Chanels Haute Couture: Show führte in den Zirk...</td>\n",
       "      <td>None</td>\n",
       "    </tr>\n",
       "    <tr>\n",
       "      <th>2</th>\n",
       "      <td>2023-01-25 09:04:31+00:00</td>\n",
       "      <td>Künstliche Intelligenz soll neue Gerüche entde...</td>\n",
       "      <td>None</td>\n",
       "    </tr>\n",
       "    <tr>\n",
       "      <th>3</th>\n",
       "      <td>2023-01-25 09:04:30+00:00</td>\n",
       "      <td>Regierung einigt sich auf höhere Strafen für D...</td>\n",
       "      <td>None</td>\n",
       "    </tr>\n",
       "    <tr>\n",
       "      <th>4</th>\n",
       "      <td>2023-01-25 08:51:15+00:00</td>\n",
       "      <td>Freigabe: Investor IFM darf weitere 9,99 Proze...</td>\n",
       "      <td>None</td>\n",
       "    </tr>\n",
       "  </tbody>\n",
       "</table>\n",
       "</div>"
      ],
      "text/plain": [
       "                       date  \\\n",
       "0 2023-01-25 09:33:54+00:00   \n",
       "1 2023-01-25 09:04:32+00:00   \n",
       "2 2023-01-25 09:04:31+00:00   \n",
       "3 2023-01-25 09:04:30+00:00   \n",
       "4 2023-01-25 08:51:15+00:00   \n",
       "\n",
       "                                          rawContent hashtags  \n",
       "0  \"IBES\" 2023: Jana ist raus – Werden Sie sie ve...     None  \n",
       "1  Chanels Haute Couture: Show führte in den Zirk...     None  \n",
       "2  Künstliche Intelligenz soll neue Gerüche entde...     None  \n",
       "3  Regierung einigt sich auf höhere Strafen für D...     None  \n",
       "4  Freigabe: Investor IFM darf weitere 9,99 Proze...     None  "
      ]
     },
     "execution_count": 8,
     "metadata": {},
     "output_type": "execute_result"
    }
   ],
   "source": [
    "df_tweets = dl_user(\"derstandardat\", 100) \n",
    "\n",
    "df_tweets[[\"date\", \"rawContent\", \"hashtags\"]].head()"
   ]
  },
  {
   "cell_type": "markdown",
   "id": "d1c83eac-718a-49b8-9e0e-d42f253c009d",
   "metadata": {},
   "source": [
    "## Tweets by Hashtag"
   ]
  },
  {
   "cell_type": "code",
   "execution_count": 9,
   "id": "5004933c-5da1-4881-9e3b-eee04ecd6252",
   "metadata": {},
   "outputs": [],
   "source": [
    "def dl_hashtag(hashtag, max_results=None, local=False):\n",
    "    \"\"\"\n",
    "    Function to download tweets by hashtag.\n",
    "    Set local to True, if tweets have already\n",
    "    been downloaded and are available in data_dir.\n",
    "    \n",
    "    \"\"\"\n",
    "    \n",
    "    if local==False:\n",
    "        with open(data_dir + f\"/hashtag-{hashtag}.json\", \"w+\") as fo:\n",
    "            if max_results == None:\n",
    "                cmd_list = [\"snscrape\", \"--jsonl\", \"twitter-hashtag\", hashtag]\n",
    "            else:\n",
    "                cmd_list = [\"snscrape\", \"--jsonl\", \"-n \" + str(max_results), \"twitter-hashtag\", hashtag]\n",
    "            p = subprocess.Popen(\n",
    "                cmd_list, stdout=fo\n",
    "            )\n",
    "            p.wait()\n",
    "            \n",
    "    with open(data_dir+f\"/hashtag-{hashtag}.json\", \"r\") as fo:\n",
    "        tweets = fo.readlines()\n",
    "\n",
    "    tweets = [json.loads(tweets[i]) for i in range(0, len(tweets))]\n",
    "    print(\"loaded\", len(tweets), \"tweets\\n\")\n",
    "\n",
    "    df_tweets = pd.DataFrame(tweets)\n",
    "    df_tweets[\"date\"] = pd.to_datetime(df_tweets[\"date\"])\n",
    "\n",
    "    return df_tweets"
   ]
  },
  {
   "cell_type": "markdown",
   "id": "c1eab29f-efe6-49da-978c-02498267add0",
   "metadata": {},
   "source": [
    "Scrape the last 100 tweets with `#chinesevirus` and store in json file"
   ]
  },
  {
   "cell_type": "code",
   "execution_count": 10,
   "id": "af9b6e08-9467-4875-acdc-c67f67c46379",
   "metadata": {},
   "outputs": [
    {
     "name": "stdout",
     "output_type": "stream",
     "text": [
      "loaded 100 tweets\n",
      "\n"
     ]
    },
    {
     "data": {
      "text/html": [
       "<div>\n",
       "<style scoped>\n",
       "    .dataframe tbody tr th:only-of-type {\n",
       "        vertical-align: middle;\n",
       "    }\n",
       "\n",
       "    .dataframe tbody tr th {\n",
       "        vertical-align: top;\n",
       "    }\n",
       "\n",
       "    .dataframe thead th {\n",
       "        text-align: right;\n",
       "    }\n",
       "</style>\n",
       "<table border=\"1\" class=\"dataframe\">\n",
       "  <thead>\n",
       "    <tr style=\"text-align: right;\">\n",
       "      <th></th>\n",
       "      <th>date</th>\n",
       "      <th>rawContent</th>\n",
       "      <th>hashtags</th>\n",
       "    </tr>\n",
       "  </thead>\n",
       "  <tbody>\n",
       "    <tr>\n",
       "      <th>0</th>\n",
       "      <td>2023-01-25 03:03:00+00:00</td>\n",
       "      <td>@visitmaldives And finally the #ChineseVirus w...</td>\n",
       "      <td>[ChineseVirus]</td>\n",
       "    </tr>\n",
       "    <tr>\n",
       "      <th>1</th>\n",
       "      <td>2023-01-24 20:34:49+00:00</td>\n",
       "      <td>@zhang_heqing #chineseVirus</td>\n",
       "      <td>[chineseVirus]</td>\n",
       "    </tr>\n",
       "    <tr>\n",
       "      <th>2</th>\n",
       "      <td>2023-01-24 05:10:21+00:00</td>\n",
       "      <td>@visitmaldives Welcoming first batch of #Chine...</td>\n",
       "      <td>[ChineseVirus]</td>\n",
       "    </tr>\n",
       "    <tr>\n",
       "      <th>3</th>\n",
       "      <td>2023-01-23 21:50:41+00:00</td>\n",
       "      <td>Kammie, sweety...#ChineseVirus!!\\nAny other si...</td>\n",
       "      <td>[ChineseVirus]</td>\n",
       "    </tr>\n",
       "    <tr>\n",
       "      <th>4</th>\n",
       "      <td>2023-01-23 13:28:54+00:00</td>\n",
       "      <td>3 years to the deadly outbreak @ Wuhan and eve...</td>\n",
       "      <td>[ChineseVirus, WuhanVirus]</td>\n",
       "    </tr>\n",
       "  </tbody>\n",
       "</table>\n",
       "</div>"
      ],
      "text/plain": [
       "                       date  \\\n",
       "0 2023-01-25 03:03:00+00:00   \n",
       "1 2023-01-24 20:34:49+00:00   \n",
       "2 2023-01-24 05:10:21+00:00   \n",
       "3 2023-01-23 21:50:41+00:00   \n",
       "4 2023-01-23 13:28:54+00:00   \n",
       "\n",
       "                                          rawContent  \\\n",
       "0  @visitmaldives And finally the #ChineseVirus w...   \n",
       "1                        @zhang_heqing #chineseVirus   \n",
       "2  @visitmaldives Welcoming first batch of #Chine...   \n",
       "3  Kammie, sweety...#ChineseVirus!!\\nAny other si...   \n",
       "4  3 years to the deadly outbreak @ Wuhan and eve...   \n",
       "\n",
       "                     hashtags  \n",
       "0              [ChineseVirus]  \n",
       "1              [chineseVirus]  \n",
       "2              [ChineseVirus]  \n",
       "3              [ChineseVirus]  \n",
       "4  [ChineseVirus, WuhanVirus]  "
      ]
     },
     "execution_count": 10,
     "metadata": {},
     "output_type": "execute_result"
    }
   ],
   "source": [
    "df_tweets = dl_hashtag(\"chinesevirus\", 100)  # max_results=None for all (default)\n",
    "\n",
    "df_tweets[[\"date\", \"rawContent\", \"hashtags\"]].head()"
   ]
  },
  {
   "cell_type": "code",
   "execution_count": 11,
   "id": "27f79835-af01-4cd1-a022-4e90b1bfc968",
   "metadata": {},
   "outputs": [
    {
     "name": "stdout",
     "output_type": "stream",
     "text": [
      "loaded 100 tweets\n",
      "\n"
     ]
    },
    {
     "data": {
      "text/html": [
       "<div>\n",
       "<style scoped>\n",
       "    .dataframe tbody tr th:only-of-type {\n",
       "        vertical-align: middle;\n",
       "    }\n",
       "\n",
       "    .dataframe tbody tr th {\n",
       "        vertical-align: top;\n",
       "    }\n",
       "\n",
       "    .dataframe thead th {\n",
       "        text-align: right;\n",
       "    }\n",
       "</style>\n",
       "<table border=\"1\" class=\"dataframe\">\n",
       "  <thead>\n",
       "    <tr style=\"text-align: right;\">\n",
       "      <th></th>\n",
       "      <th>date</th>\n",
       "      <th>rawContent</th>\n",
       "      <th>hashtags</th>\n",
       "    </tr>\n",
       "  </thead>\n",
       "  <tbody>\n",
       "    <tr>\n",
       "      <th>0</th>\n",
       "      <td>2023-01-25 09:32:53+00:00</td>\n",
       "      <td>@MartinStamer Du nervst #Panimache\\n#CoronaSca...</td>\n",
       "      <td>[Panimache, CoronaScam, CoronaIstNurEinMachtin...</td>\n",
       "    </tr>\n",
       "    <tr>\n",
       "      <th>1</th>\n",
       "      <td>2023-01-25 09:04:42+00:00</td>\n",
       "      <td>@DigitalerC @zeitonline Heute am Jahrestag der...</td>\n",
       "      <td>[Plandemie, Immunsystem, Wieler, BioNTech]</td>\n",
       "    </tr>\n",
       "    <tr>\n",
       "      <th>2</th>\n",
       "      <td>2023-01-25 08:34:11+00:00</td>\n",
       "      <td>@DilanYesilgoz #goedemorgen #woensdag #koffie ...</td>\n",
       "      <td>[goedemorgen, woensdag, koffie, wordwakker, de...</td>\n",
       "    </tr>\n",
       "    <tr>\n",
       "      <th>3</th>\n",
       "      <td>2023-01-25 07:03:14+00:00</td>\n",
       "      <td>@UteLehmann5 Die Altbestände müssen vernichtet...</td>\n",
       "      <td>[plandemie, ploetzlichundunerwartet]</td>\n",
       "    </tr>\n",
       "    <tr>\n",
       "      <th>4</th>\n",
       "      <td>2023-01-25 01:13:11+00:00</td>\n",
       "      <td>Seit der ganzen #Plandemie und #Putin haben wi...</td>\n",
       "      <td>[Plandemie, Putin, Erdogan]</td>\n",
       "    </tr>\n",
       "  </tbody>\n",
       "</table>\n",
       "</div>"
      ],
      "text/plain": [
       "                       date  \\\n",
       "0 2023-01-25 09:32:53+00:00   \n",
       "1 2023-01-25 09:04:42+00:00   \n",
       "2 2023-01-25 08:34:11+00:00   \n",
       "3 2023-01-25 07:03:14+00:00   \n",
       "4 2023-01-25 01:13:11+00:00   \n",
       "\n",
       "                                          rawContent  \\\n",
       "0  @MartinStamer Du nervst #Panimache\\n#CoronaSca...   \n",
       "1  @DigitalerC @zeitonline Heute am Jahrestag der...   \n",
       "2  @DilanYesilgoz #goedemorgen #woensdag #koffie ...   \n",
       "3  @UteLehmann5 Die Altbestände müssen vernichtet...   \n",
       "4  Seit der ganzen #Plandemie und #Putin haben wi...   \n",
       "\n",
       "                                            hashtags  \n",
       "0  [Panimache, CoronaScam, CoronaIstNurEinMachtin...  \n",
       "1         [Plandemie, Immunsystem, Wieler, BioNTech]  \n",
       "2  [goedemorgen, woensdag, koffie, wordwakker, de...  \n",
       "3               [plandemie, ploetzlichundunerwartet]  \n",
       "4                        [Plandemie, Putin, Erdogan]  "
      ]
     },
     "execution_count": 11,
     "metadata": {},
     "output_type": "execute_result"
    }
   ],
   "source": [
    "df_tweets = dl_hashtag(\"plandemie\", 100)\n",
    "\n",
    "df_tweets[[\"date\", \"rawContent\", \"hashtags\"]].head()"
   ]
  },
  {
   "cell_type": "markdown",
   "id": "8380fdfd-7d75-427c-8c83-34fdce53167a",
   "metadata": {},
   "source": [
    "All"
   ]
  },
  {
   "cell_type": "code",
   "execution_count": null,
   "id": "67a759d5-7093-44be-872f-6cd5e6fa35c6",
   "metadata": {},
   "outputs": [],
   "source": [
    "df_tweets = dl_hashtag(\"plandemic\", None, False)\n",
    "\n",
    "df_tweets[[\"date\", \"rawContent\", \"hashtags\"]].head()"
   ]
  },
  {
   "cell_type": "code",
   "execution_count": null,
   "id": "502b613f-5e8b-42ed-8242-1fdd54a78cb8",
   "metadata": {},
   "outputs": [],
   "source": [
    "plandemic = df_tweets.copy()\n",
    "\n",
    "df_plandemic = pd.DataFrame(plandemic)\n",
    "\n",
    "df_plandemic[\"date\"] = pd.to_datetime(df_plandemic.date)\n",
    "\n",
    "df_plandemic[\"year\"] = df_plandemic.date.dt.year\n",
    "df_plandemic[\"month\"] = df_plandemic.date.dt.month\n",
    "\n",
    "df_grp = df_plandemic.groupby([\"year\", \"month\"]).count()[[\"id\"]].reset_index()\n",
    "\n",
    "sns.lineplot(df_grp.id)"
   ]
  }
 ],
 "metadata": {
  "kernelspec": {
   "display_name": "Python 3 (ipykernel)",
   "language": "python",
   "name": "python3"
  },
  "language_info": {
   "codemirror_mode": {
    "name": "ipython",
    "version": 3
   },
   "file_extension": ".py",
   "mimetype": "text/x-python",
   "name": "python",
   "nbconvert_exporter": "python",
   "pygments_lexer": "ipython3",
   "version": "3.9.13"
  }
 },
 "nbformat": 4,
 "nbformat_minor": 5
}
