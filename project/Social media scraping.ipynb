{
 "cells": [
  {
   "cell_type": "markdown",
   "id": "8d6e9f5a-f7e1-4d46-bdaa-c1b51585ce8e",
   "metadata": {},
   "source": [
    "Social media scraping\n",
    "==="
   ]
  },
  {
   "cell_type": "code",
   "execution_count": 12,
   "id": "fd21ee82-8fd4-4c0f-bf38-37cab1108235",
   "metadata": {},
   "outputs": [],
   "source": [
    "import os\n",
    "import json\n",
    "\n",
    "data_dir = \"data/twitter\"\n",
    "\n",
    "if os.path.exists(data_dir) == False:\n",
    "    os.makedirs(data_dir)"
   ]
  },
  {
   "cell_type": "markdown",
   "id": "98b0c0f1-67cd-4491-8901-0330b8dbddf7",
   "metadata": {},
   "source": [
    "## Tweets by User"
   ]
  },
  {
   "cell_type": "markdown",
   "id": "d913f65b-3daf-480a-94ad-035d4eb8b5ca",
   "metadata": {},
   "source": [
    "Scrape the last 100 tweets from `@derstandard` and store in json file"
   ]
  },
  {
   "cell_type": "code",
   "execution_count": 43,
   "id": "a19df21c-a13d-4e28-b349-422754a9b31a",
   "metadata": {},
   "outputs": [
    {
     "name": "stdout",
     "output_type": "stream",
     "text": [
      "2023-01-22T18:02:02+00:00 Weiterarbeiten im Pensionsalter: \"Meine Arbeit ist mein Leben\":  https://t.co/C1zpXtuZ9j None\n",
      "2023-01-22T18:02:01+00:00 Ältere sollen die Joblücke füllen. Aber wer will sie wirklich haben?:  https://t.co/a0yvyd7NAQ None\n",
      "2023-01-22T17:31:23+00:00 Julian Schütter: Kitzbühel-Opfer und Skifahrer for Future:  https://t.co/YEY11CcFhs None\n",
      "2023-01-22T17:31:22+00:00 Zum Jahrestag klingelt das FBI an Bidens Tür:  https://t.co/tNpiqpHV6R None\n",
      "2023-01-22T17:31:21+00:00 Kindesmissbrauch: Mehr Mittel für Polizei:  https://t.co/4bTDKfCe0L None\n"
     ]
    }
   ],
   "source": [
    "!snscrape --jsonl --max-results 100 twitter-user derstandardat > data/twitter/user-derstandardat.json\n",
    "\n",
    "\n",
    "with open(data_dir+\"/user-derstandardat.json\", \"r\") as fo:\n",
    "    derstandard_tweets = fo.readlines()\n",
    "\n",
    "derstandard_tweets = [json.loads(derstandard_tweets[i]) for i in range(0, len(derstandard_tweets))]\n",
    "\n",
    "\n",
    "# print the first 5\n",
    "for i in range(5):\n",
    "    print(derstandard_tweets[i][\"date\"], derstandard_tweets[i][\"rawContent\"], derstandard_tweets[i][\"hashtags\"])"
   ]
  },
  {
   "cell_type": "markdown",
   "id": "d1c83eac-718a-49b8-9e0e-d42f253c009d",
   "metadata": {},
   "source": [
    "## Tweets by Hashtag"
   ]
  },
  {
   "cell_type": "markdown",
   "id": "c3f37a6d-2dc0-4003-8c3c-0beced29fa5c",
   "metadata": {},
   "source": [
    "Scrape the last 100 tweets with `#chinesevirus` and store in json file"
   ]
  },
  {
   "cell_type": "code",
   "execution_count": 44,
   "id": "10c7c878-d5f3-4af3-bed6-81ae2ebb541c",
   "metadata": {},
   "outputs": [
    {
     "name": "stdout",
     "output_type": "stream",
     "text": [
      "2023-01-22T18:41:36+00:00 #chineseVirus ['chineseVirus']\n",
      "2023-01-22T15:30:19+00:00 #ChineseVirus update https://t.co/fkpN3sRSrL ['ChineseVirus']\n",
      "2023-01-22T15:02:11+00:00 @AmbassadeChine Year of Chinese BAT\n",
      "#chinesevirus ['chinesevirus']\n",
      "2023-01-22T13:10:58+00:00 #ChineseNewYear #ChineseVirus ['ChineseNewYear', 'ChineseVirus']\n",
      "2023-01-22T06:16:45+00:00 Fantastic. Instead of getting pissed off, it would be good to think about the points being brought up here with an open mind. You have been lied to.\n",
      "\n",
      "#CovidVaccines\n",
      "#VaccineDeath\n",
      "#vaccine\n",
      "#vaccinated\n",
      "#covid\n",
      "#covid19\n",
      "#chinesevirus ['CovidVaccines', 'VaccineDeath', 'vaccine', 'vaccinated', 'covid', 'covid19', 'chinesevirus']\n"
     ]
    }
   ],
   "source": [
    "!snscrape --jsonl --max-results 100 twitter-hashtag chinesevirus > data/twitter/hashtag-chinesevirus.json\n",
    "\n",
    "\n",
    "with open(data_dir+\"/hashtag-chinesevirus.json\", \"r\") as fo:\n",
    "    tweets = fo.readlines()\n",
    "\n",
    "tweets = [json.loads(tweets[i]) for i in range(0, len(tweets))]\n",
    "\n",
    "\n",
    "# print the first 5\n",
    "for i in range(5):\n",
    "    print(tweets[i][\"date\"], tweets[i][\"rawContent\"], tweets[i][\"hashtags\"])"
   ]
  }
 ],
 "metadata": {
  "kernelspec": {
   "display_name": "Python 3 (ipykernel)",
   "language": "python",
   "name": "python3"
  },
  "language_info": {
   "codemirror_mode": {
    "name": "ipython",
    "version": 3
   },
   "file_extension": ".py",
   "mimetype": "text/x-python",
   "name": "python",
   "nbconvert_exporter": "python",
   "pygments_lexer": "ipython3",
   "version": "3.9.13"
  }
 },
 "nbformat": 4,
 "nbformat_minor": 5
}
