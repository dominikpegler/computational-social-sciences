{
 "cells": [
  {
   "cell_type": "markdown",
   "id": "1b13c189-8fc2-4931-ac00-264e88281a26",
   "metadata": {},
   "source": [
    "Scraping song lyrics\n",
    "==="
   ]
  },
  {
   "cell_type": "markdown",
   "id": "9d0266ee-5c79-4195-b2e8-9b6e033e2e26",
   "metadata": {},
   "source": [
    "## Setup"
   ]
  },
  {
   "cell_type": "code",
   "execution_count": 101,
   "id": "d2cc0123-c3ba-4a15-8179-6e18da3cc060",
   "metadata": {},
   "outputs": [],
   "source": [
    "# Make HTTP requests\n",
    "import requests# Scrape data from an HTML document\n",
    "from bs4 import BeautifulSoup# I/O\n",
    "import os# Search and manipulate strings\n",
    "import re\n",
    "import pandas as pd\n",
    "\n",
    "\n",
    "GENIUS_API_TOKEN = open(\"GENIUS_API_TOKEN.txt\", \"r\").readlines()[0]"
   ]
  },
  {
   "cell_type": "markdown",
   "id": "336fa011-30de-494e-aefc-fc33c2e9224b",
   "metadata": {},
   "source": [
    "## Functions"
   ]
  },
  {
   "cell_type": "code",
   "execution_count": 95,
   "id": "d07f3fb6-3292-4c90-be18-575415cf6e22",
   "metadata": {},
   "outputs": [],
   "source": [
    "def request_artist_info(artist_name, page):\n",
    "    \"\"\"\n",
    "    Get artist object from Genius API\n",
    "    \n",
    "    \"\"\"\n",
    "    base_url = 'https://api.genius.com'\n",
    "    headers = {'Authorization': 'Bearer ' + GENIUS_API_TOKEN}\n",
    "    search_url = base_url + '/search?per_page=10&page=' + str(page)\n",
    "    data = {'q': artist_name}\n",
    "    response = requests.get(search_url, data=data, headers=headers)\n",
    "    return response# Get Genius.com song url's from artist object\n",
    "\n",
    "\n",
    "def request_song_url(artist_name, song_cap):\n",
    "    \"\"\"\n",
    "    Get url for song\n",
    "    \n",
    "    \"\"\"\n",
    "    page = 1\n",
    "    songs = []\n",
    "    \n",
    "    while True:\n",
    "        response = request_artist_info(artist_name, page)\n",
    "        json = response.json()        # Collect up to song_cap song objects from artist\n",
    "        song_info = []\n",
    "        for hit in json['response']['hits']:\n",
    "            if artist_name.lower() in hit['result']['primary_artist']['name'].lower():\n",
    "                song_info.append(hit)\n",
    "    \n",
    "        # Collect song URL's from song objects\n",
    "        for song in song_info:\n",
    "            if (len(songs) < song_cap):\n",
    "                url = song['result']['url']\n",
    "                songs.append(url)\n",
    "            \n",
    "        if (len(songs) == song_cap):\n",
    "            break\n",
    "        else:\n",
    "            page += 1\n",
    "        \n",
    "    print('Found {} songs by {}'.format(len(songs), artist_name))\n",
    "    \n",
    "    return songs\n",
    "    \n",
    "\n",
    "def scrape_song_lyrics(url):\n",
    "    \"\"\"\n",
    "    Scrape lyrics from a Genius.com song URL\n",
    "    \n",
    "    \"\"\"\n",
    "    page = requests.get(url)\n",
    "    html = BeautifulSoup(page.text, 'html.parser')\n",
    "    html_text = html.select('div[class^=\"Lyrics__Container\"], .song_body-lyrics p')\n",
    "    lyrics = []\n",
    "    for line in html_text:\n",
    "        line = str(line)\n",
    "        to_clean = re.compile('<.*?>')\n",
    "        remove_chorus = re.compile('\\[.*?\\]')\n",
    "\n",
    "        line = re.sub('<br/>', '\\n', line)\n",
    "        line = re.sub(to_clean, '', line)\n",
    "        line = re.sub(remove_chorus, '', line)\n",
    "        lyrics.append(line)\n",
    "        \n",
    "    return \"\\n\".join(lyrics)"
   ]
  },
  {
   "cell_type": "markdown",
   "id": "59a123a7-6beb-4abe-b2e7-69a1692cb5ee",
   "metadata": {},
   "source": [
    "## Scrape"
   ]
  },
  {
   "cell_type": "code",
   "execution_count": 96,
   "id": "7ef03c6e-5ae0-4b52-a689-a5d629565703",
   "metadata": {},
   "outputs": [
    {
     "name": "stdout",
     "output_type": "stream",
     "text": [
      "Found 5 songs by ho99o9\n"
     ]
    },
    {
     "data": {
      "text/plain": [
       "['https://genius.com/Ho99o9-bone-collector-lyrics',\n",
       " 'https://genius.com/Ho99o9-war-is-hell-lyrics',\n",
       " 'https://genius.com/Ho99o9-and-ghostemane-twist-of-fate-cobra-lyrics',\n",
       " 'https://genius.com/Ho99o9-bite-my-face-lyrics',\n",
       " 'https://genius.com/Ho99o9-street-power-lyrics']"
      ]
     },
     "execution_count": 96,
     "metadata": {},
     "output_type": "execute_result"
    }
   ],
   "source": [
    "song_urls = request_song_url('ho99o9', 5)\n",
    "\n",
    "song_urls"
   ]
  },
  {
   "cell_type": "code",
   "execution_count": 97,
   "id": "7ef724ef-1918-4c98-8113-7fb8771b0e20",
   "metadata": {},
   "outputs": [
    {
     "name": "stdout",
     "output_type": "stream",
     "text": [
      "\n",
      "Anarchy and chaos\n",
      "Bombs come and shake the ground\n",
      "Horror world collide\n",
      "Might die with the thunder sound\n",
      "I'll break it down with fire rounds\n",
      "Rolling through to lay you down\n",
      "Pound for pound\n",
      "Get up in your ass\n",
      "Slash\n",
      "Buck and a half\n",
      "Reap what you sow\n",
      "When the guns start blazing\n",
      "Full time motherfuckin' maniac\n",
      "Hell-raisin'\n",
      "Givin' birth to my seeds\n",
      "Meet the children of the corn\n",
      "Act up\n",
      "Wrong move\n",
      "Caught slippin'\n",
      "Now you're gone\n",
      "\n",
      "You pray to God I pray for hell (pray for hell)\n",
      "'Cause niggas like me go to hell (go to hell)\n",
      "If I could rewind time\n",
      "They'd probably lock me in the cage\n",
      "For fuckin' white bitches out in Columbine\n",
      "Since this nigga's off the leash (I'm off the leash)\n",
      "It's dinner time\n",
      "Homies on this side\n",
      "That's homicide on any side\n",
      "We livin' on the edge\n",
      "Of your government\n",
      "Supreme schemes\n",
      "I've beat and killed your pastor in wet dreams\n",
      "This evil shit\n",
      "\n",
      "\n",
      "World power\n",
      "Rest In Peace\n",
      "Fuck the pigs\n",
      "Love your enemies\n",
      "Eat the rich\n",
      "'Til you make 'em bleed\n",
      "Then you kill 'em all\n",
      "Then repeat\n",
      "\n",
      "\n",
      "War is hell\n",
      "And the flame burns eternal\n",
      "I say, war is hell\n",
      "And the flame burns eternal\n",
      "And the flame burns eternal\n",
      "\n",
      "\n",
      "Do you believe in\n",
      "Angels, demons, and gods?\n",
      "For when you bleed\n",
      "The devil evens the odds\n",
      "No matter where you go\n",
      "You losing your mind\n",
      "I catch you slippin' in your Jesus slippers\n",
      "Welcome to the deathkult\n",
      "Pledge allegiance to the triple nines\n",
      "Cause  will leave you naked\n",
      "Stretch yo pussy, fuck yo judge up the ass\n",
      "I'm cryin', beggin' for the pig in the back\n",
      "I'm just a nigga with belligerent past\n",
      "I move the masses\n",
      "Show you goth shit\n",
      "With wolverine coffins\n",
      "This evil shit\n",
      "\n",
      "\n",
      "Suicidal thoughts\n",
      "Killing without feelings bitch\n",
      "Everybody preys on the dead\n",
      "'Cept the children\n",
      "Million dead, just wishin' that\n",
      "They could resurrect\n",
      "Hang 'em high from the ceiling\n",
      "How it feel, broke your neck\n",
      "Double threat\n",
      "World destruction\n",
      "Creeping death\n",
      "I be on the ominous survival of the fittest\n",
      "Still above the rest\n",
      "Guerilla warfare\n",
      "Blazin' bodies, bullet, burning through the bridge\n",
      "Bitches dying slow\n",
      "Welcome to death row\n",
      "\n",
      "\n",
      "War is hell\n",
      "And the flame burns eternal\n",
      "I say, war is hell\n",
      "And the flame burns eternal\n",
      "And the flame burns eternal\n"
     ]
    }
   ],
   "source": [
    "lyrics = scrape_song_lyrics(song_urls[1])\n",
    "\n",
    "print(lyrics)"
   ]
  },
  {
   "cell_type": "markdown",
   "id": "ce6926ba-fa1c-44e5-b1b0-2d1cb82e4dd2",
   "metadata": {},
   "source": [
    "## Scrape billboard charts"
   ]
  },
  {
   "cell_type": "code",
   "execution_count": 104,
   "id": "fd2d9b27-f862-47a1-984c-53ccb7ec5283",
   "metadata": {},
   "outputs": [
    {
     "data": {
      "text/plain": [
       "Timestamp('2018-08-04 00:00:00')"
      ]
     },
     "execution_count": 104,
     "metadata": {},
     "output_type": "execute_result"
    }
   ],
   "source": [
    "end_date = pd.Timestamp(\"2018-08-04\")\n",
    "end_date"
   ]
  },
  {
   "cell_type": "code",
   "execution_count": 128,
   "id": "4772a8b4-9530-4e37-9bb9-51067972982c",
   "metadata": {},
   "outputs": [],
   "source": [
    "date_list = []\n",
    "\n",
    "n_timestamps = 70\n",
    "\n",
    "for i in range(n_timestamps):\n",
    "    date_list.append(end_date - pd.Timedelta(f\"{i} y\"))"
   ]
  },
  {
   "cell_type": "code",
   "execution_count": 144,
   "id": "2afd56fc-d05c-4057-be62-ea9c3a40e2a9",
   "metadata": {},
   "outputs": [],
   "source": [
    "df = pd.DataFrame(columns=[\"date\", \"rank\", \"author\", \"title\"])\n",
    "\n",
    "for billboard_date in date_list:\n",
    "\n",
    "    url = f\"https://www.billboard.com/charts/billboard-200/{billboard_date.strftime('%Y-%m-%d')}/\"\n",
    "    res = requests.get(url)\n",
    "    soup = BeautifulSoup(res.text)\n",
    "\n",
    "    data = []\n",
    "\n",
    "    for e in soup.find_all(attrs={'class':'o-chart-results-list-row-container'}):\n",
    "        data.append({\n",
    "            'title':e.h3.get_text(strip=True),\n",
    "            'author':e.h3.find_next('span').get_text(strip=True)\n",
    "        })\n",
    "\n",
    "    df_append = pd.DataFrame(data).reset_index().rename(columns={\"index\":\"rank\"})\n",
    "    df_append[\"rank\"]+=1\n",
    "    df_append[\"date\"] = billboard_date\n",
    "\n",
    "    df = pd.concat([df, df_append], sort=False)\n",
    "  \n",
    "\n",
    "df"
   ]
  },
  {
   "cell_type": "code",
   "execution_count": 147,
   "id": "9b4b62de-2925-438d-98d8-21d6ce3100f3",
   "metadata": {},
   "outputs": [],
   "source": [
    "df.to_csv(f\"billboard_{min(date_list).strftime('%Y-%m-%d')}-{max(date_list).strftime('%Y-%m-%d')}.csv\", index=False)"
   ]
  }
 ],
 "metadata": {
  "kernelspec": {
   "display_name": "Python 3 (ipykernel)",
   "language": "python",
   "name": "python3"
  },
  "language_info": {
   "codemirror_mode": {
    "name": "ipython",
    "version": 3
   },
   "file_extension": ".py",
   "mimetype": "text/x-python",
   "name": "python",
   "nbconvert_exporter": "python",
   "pygments_lexer": "ipython3",
   "version": "3.9.13"
  }
 },
 "nbformat": 4,
 "nbformat_minor": 5
}
