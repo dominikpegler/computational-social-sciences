{
 "cells": [
  {
   "cell_type": "markdown",
   "id": "1b13c189-8fc2-4931-ac00-264e88281a26",
   "metadata": {},
   "source": [
    "Scraping song lyrics\n",
    "==="
   ]
  },
  {
   "cell_type": "markdown",
   "id": "9d0266ee-5c79-4195-b2e8-9b6e033e2e26",
   "metadata": {},
   "source": [
    "## Setup"
   ]
  },
  {
   "cell_type": "code",
   "execution_count": 1,
   "id": "d2cc0123-c3ba-4a15-8179-6e18da3cc060",
   "metadata": {},
   "outputs": [],
   "source": [
    "import requests\n",
    "from bs4 import BeautifulSoup#\n",
    "import os\n",
    "import re\n",
    "import pandas as pd\n",
    "\n",
    "\n",
    "GENIUS_API_TOKEN = open(\"GENIUS_API_TOKEN.txt\", \"r\").readlines()[0]"
   ]
  },
  {
   "cell_type": "markdown",
   "id": "336fa011-30de-494e-aefc-fc33c2e9224b",
   "metadata": {},
   "source": [
    "## Functions"
   ]
  },
  {
   "cell_type": "code",
   "execution_count": 12,
   "id": "d07f3fb6-3292-4c90-be18-575415cf6e22",
   "metadata": {},
   "outputs": [],
   "source": [
    "def request_artist_info(artist_name, page):\n",
    "    \"\"\"\n",
    "    Get artist object from Genius API\n",
    "    \n",
    "    \"\"\"\n",
    "    base_url = 'https://api.genius.com'\n",
    "    headers = {'Authorization': 'Bearer ' + GENIUS_API_TOKEN}\n",
    "    search_url = base_url + '/search?per_page=10&page=' + str(page)\n",
    "    data = {'q': artist_name}\n",
    "    response = requests.get(search_url, data=data, headers=headers)\n",
    "    return response# Get Genius.com song url's from artist object\n",
    "\n",
    "   \n",
    "    \n",
    "def request_song_url(artist_name, title):\n",
    "    \"\"\"\n",
    "    Get url for song\n",
    "    \n",
    "    \"\"\"\n",
    "    \n",
    "    page = 0\n",
    "    url = None\n",
    "    \n",
    "    while True:\n",
    "        response = request_artist_info(artist_name, page)\n",
    "        json = response.json()        # Collect up to song_cap song objects from artist\n",
    "        song_info = []\n",
    "        for hit in json['response']['hits']:\n",
    "            if artist_name.lower() in hit['result']['primary_artist']['name'].lower():\n",
    "                song_info.append(hit)\n",
    "    \n",
    "        # Collect song URL's from song objects\n",
    "        for song in song_info:\n",
    "            if (song['result']['title'].lower() == title.lower()):\n",
    "                url = song['result']['url']\n",
    "        \n",
    "        page += 1\n",
    "        if url != None:\n",
    "            break\n",
    "        if len(json[\"response\"][\"hits\"]) == 0:\n",
    "            url = \"\"\n",
    "            break\n",
    "            \n",
    "    return url\n",
    "    \n",
    "\n",
    "def scrape_song_lyrics(url):\n",
    "    \"\"\"\n",
    "    Scrape lyrics from a Genius.com song URL\n",
    "    \n",
    "    \"\"\"\n",
    "    if url != \"\":\n",
    "        page = requests.get(url)\n",
    "        html = BeautifulSoup(page.text, 'html.parser')\n",
    "        html_text = html.select('div[class^=\"Lyrics__Container\"], .song_body-lyrics p')\n",
    "        lyrics = []\n",
    "        for line in html_text:\n",
    "            line = str(line)\n",
    "            to_clean = re.compile('<.*?>')\n",
    "            remove_chorus = re.compile('\\[.*?\\]')\n",
    "\n",
    "            line = re.sub('<br/>', '\\n', line)\n",
    "            line = re.sub(to_clean, '', line)\n",
    "            line = re.sub(remove_chorus, '', line)\n",
    "            lyrics.append(line)\n",
    "        lyrics = \"\\n\".join(lyrics)\n",
    "    else:\n",
    "        lyrics = \"\"\n",
    "    \n",
    "    return lyrics"
   ]
  },
  {
   "cell_type": "markdown",
   "id": "59a123a7-6beb-4abe-b2e7-69a1692cb5ee",
   "metadata": {},
   "source": [
    "## Scrape"
   ]
  },
  {
   "cell_type": "code",
   "execution_count": 6,
   "id": "7ef724ef-1918-4c98-8113-7fb8771b0e20",
   "metadata": {},
   "outputs": [
    {
     "name": "stdout",
     "output_type": "stream",
     "text": [
      "got hits for nine inch nails: 10\n",
      "got url for hurt\n",
      "\n",
      "I hurt myself today\n",
      "To see if I still feel\n",
      "I focus on the pain\n",
      "The only thing that's real\n",
      "The needle tears a hole\n",
      "The old familiar sting\n",
      "Try to kill it all away\n",
      "But I remember everything\n",
      "\n",
      "\n",
      "What have I become?\n",
      "My sweetest friend\n",
      "Everyone I know\n",
      "Goes away in the end\n",
      "\n",
      "You could have it all\n",
      "My empire of dirt\n",
      "I will let you down\n",
      "I will make you hurt\n",
      "\n",
      "\n",
      "I wear this crown of shit\n",
      "Upon my liar's chair\n",
      "Full of broken thoughts\n",
      "I cannot repair\n",
      "Beneath the stains of time\n",
      "The feelings disappear\n",
      "You are someone else\n",
      "I am still right here\n",
      "\n",
      "\n",
      "What have I become?\n",
      "My sweetest friend\n",
      "Everyone I know\n",
      "Goes away in the end\n",
      "\n",
      "\n",
      "And you could have it all\n",
      "My empire of dirt\n",
      "I will let you down\n",
      "I will make you hurt\n",
      "\n",
      "\n",
      "If I could start again\n",
      "A million miles away\n",
      "I would keep myself\n",
      "I would find a way\n"
     ]
    }
   ],
   "source": [
    "artist_name = 'nine inch nails'\n",
    "title = 'hurt'\n",
    "\n",
    "lyrics = scrape_song_lyrics(request_song_url(artist_name, title))\n",
    "\n",
    "print(lyrics)"
   ]
  },
  {
   "cell_type": "markdown",
   "id": "ce6926ba-fa1c-44e5-b1b0-2d1cb82e4dd2",
   "metadata": {},
   "source": [
    "## Scrape billboard charts"
   ]
  },
  {
   "cell_type": "code",
   "execution_count": 7,
   "id": "fd2d9b27-f862-47a1-984c-53ccb7ec5283",
   "metadata": {},
   "outputs": [
    {
     "data": {
      "text/plain": [
       "Timestamp('2018-08-04 00:00:00')"
      ]
     },
     "execution_count": 7,
     "metadata": {},
     "output_type": "execute_result"
    }
   ],
   "source": [
    "end_date = pd.Timestamp(\"2018-08-04\")\n",
    "end_date"
   ]
  },
  {
   "cell_type": "code",
   "execution_count": 8,
   "id": "4772a8b4-9530-4e37-9bb9-51067972982c",
   "metadata": {},
   "outputs": [
    {
     "name": "stderr",
     "output_type": "stream",
     "text": [
      "/home/user/miniconda3/envs/css/lib/python3.9/site-packages/IPython/core/interactiveshell.py:3553: FutureWarning: Units 'M', 'Y' and 'y' do not represent unambiguous timedelta values and will be removed in a future version.\n",
      "  exec(code_obj, self.user_global_ns, self.user_ns)\n"
     ]
    }
   ],
   "source": [
    "date_list = []\n",
    "\n",
    "n_timestamps = 70\n",
    "\n",
    "for i in range(n_timestamps):\n",
    "    date_list.append(end_date - pd.Timedelta(f\"{i} y\"))"
   ]
  },
  {
   "cell_type": "code",
   "execution_count": 120,
   "id": "2afd56fc-d05c-4057-be62-ea9c3a40e2a9",
   "metadata": {},
   "outputs": [
    {
     "data": {
      "text/html": [
       "<div>\n",
       "<style scoped>\n",
       "    .dataframe tbody tr th:only-of-type {\n",
       "        vertical-align: middle;\n",
       "    }\n",
       "\n",
       "    .dataframe tbody tr th {\n",
       "        vertical-align: top;\n",
       "    }\n",
       "\n",
       "    .dataframe thead th {\n",
       "        text-align: right;\n",
       "    }\n",
       "</style>\n",
       "<table border=\"1\" class=\"dataframe\">\n",
       "  <thead>\n",
       "    <tr style=\"text-align: right;\">\n",
       "      <th></th>\n",
       "      <th>date</th>\n",
       "      <th>rank</th>\n",
       "      <th>author</th>\n",
       "      <th>title</th>\n",
       "    </tr>\n",
       "  </thead>\n",
       "  <tbody>\n",
       "    <tr>\n",
       "      <th>0</th>\n",
       "      <td>2018-08-04 00:00:00</td>\n",
       "      <td>1</td>\n",
       "      <td>Drake</td>\n",
       "      <td>In My Feelings</td>\n",
       "    </tr>\n",
       "    <tr>\n",
       "      <th>1</th>\n",
       "      <td>2018-08-04 00:00:00</td>\n",
       "      <td>2</td>\n",
       "      <td>Cardi B, Bad Bunny &amp; J Balvin</td>\n",
       "      <td>I Like It</td>\n",
       "    </tr>\n",
       "    <tr>\n",
       "      <th>2</th>\n",
       "      <td>2018-08-04 00:00:00</td>\n",
       "      <td>3</td>\n",
       "      <td>Maroon 5 Featuring Cardi B</td>\n",
       "      <td>Girls Like You</td>\n",
       "    </tr>\n",
       "    <tr>\n",
       "      <th>3</th>\n",
       "      <td>2018-08-04 00:00:00</td>\n",
       "      <td>4</td>\n",
       "      <td>6ix9ine Featuring Nicki Minaj &amp; Murda Beatz</td>\n",
       "      <td>FEFE</td>\n",
       "    </tr>\n",
       "    <tr>\n",
       "      <th>4</th>\n",
       "      <td>2018-08-04 00:00:00</td>\n",
       "      <td>5</td>\n",
       "      <td>Post Malone</td>\n",
       "      <td>Better Now</td>\n",
       "    </tr>\n",
       "    <tr>\n",
       "      <th>...</th>\n",
       "      <td>...</td>\n",
       "      <td>...</td>\n",
       "      <td>...</td>\n",
       "      <td>...</td>\n",
       "    </tr>\n",
       "    <tr>\n",
       "      <th>95</th>\n",
       "      <td>1949-08-04 06:25:12</td>\n",
       "      <td>96</td>\n",
       "      <td>Thurston Harris</td>\n",
       "      <td>Over And Over</td>\n",
       "    </tr>\n",
       "    <tr>\n",
       "      <th>96</th>\n",
       "      <td>1949-08-04 06:25:12</td>\n",
       "      <td>97</td>\n",
       "      <td>Robert &amp; Johnny</td>\n",
       "      <td>I Believe In You</td>\n",
       "    </tr>\n",
       "    <tr>\n",
       "      <th>97</th>\n",
       "      <td>1949-08-04 06:25:12</td>\n",
       "      <td>98</td>\n",
       "      <td>The Ames Brothers</td>\n",
       "      <td>Little Serenade</td>\n",
       "    </tr>\n",
       "    <tr>\n",
       "      <th>98</th>\n",
       "      <td>1949-08-04 06:25:12</td>\n",
       "      <td>99</td>\n",
       "      <td>Billy Williams</td>\n",
       "      <td>I'll Get By (As Long As I Have You)</td>\n",
       "    </tr>\n",
       "    <tr>\n",
       "      <th>99</th>\n",
       "      <td>1949-08-04 06:25:12</td>\n",
       "      <td>100</td>\n",
       "      <td>Frankie Vaughan</td>\n",
       "      <td>Judy</td>\n",
       "    </tr>\n",
       "  </tbody>\n",
       "</table>\n",
       "<p>7000 rows × 4 columns</p>\n",
       "</div>"
      ],
      "text/plain": [
       "                  date rank                                       author  \\\n",
       "0  2018-08-04 00:00:00    1                                        Drake   \n",
       "1  2018-08-04 00:00:00    2                Cardi B, Bad Bunny & J Balvin   \n",
       "2  2018-08-04 00:00:00    3                   Maroon 5 Featuring Cardi B   \n",
       "3  2018-08-04 00:00:00    4  6ix9ine Featuring Nicki Minaj & Murda Beatz   \n",
       "4  2018-08-04 00:00:00    5                                  Post Malone   \n",
       "..                 ...  ...                                          ...   \n",
       "95 1949-08-04 06:25:12   96                              Thurston Harris   \n",
       "96 1949-08-04 06:25:12   97                              Robert & Johnny   \n",
       "97 1949-08-04 06:25:12   98                            The Ames Brothers   \n",
       "98 1949-08-04 06:25:12   99                               Billy Williams   \n",
       "99 1949-08-04 06:25:12  100                              Frankie Vaughan   \n",
       "\n",
       "                                  title  \n",
       "0                        In My Feelings  \n",
       "1                             I Like It  \n",
       "2                        Girls Like You  \n",
       "3                                  FEFE  \n",
       "4                            Better Now  \n",
       "..                                  ...  \n",
       "95                        Over And Over  \n",
       "96                     I Believe In You  \n",
       "97                      Little Serenade  \n",
       "98  I'll Get By (As Long As I Have You)  \n",
       "99                                 Judy  \n",
       "\n",
       "[7000 rows x 4 columns]"
      ]
     },
     "execution_count": 120,
     "metadata": {},
     "output_type": "execute_result"
    }
   ],
   "source": [
    "df = pd.DataFrame(columns=[\"date\", \"rank\", \"author\", \"title\"])\n",
    "\n",
    "for billboard_date in date_list:\n",
    "\n",
    "    url = f\"https://www.billboard.com/charts/hot-100/{billboard_date.strftime('%Y-%m-%d')}/\"\n",
    "    res = requests.get(url)\n",
    "    soup = BeautifulSoup(res.text)\n",
    "\n",
    "    data = []\n",
    "\n",
    "    for e in soup.find_all(attrs={'class':'o-chart-results-list-row-container'}):\n",
    "        data.append({\n",
    "            'title':e.h3.get_text(strip=True),\n",
    "            'author':e.h3.find_next('span').get_text(strip=True)\n",
    "        })\n",
    "\n",
    "    df_append = pd.DataFrame(data).reset_index().rename(columns={\"index\":\"rank\"})\n",
    "    df_append[\"rank\"]+=1\n",
    "    df_append[\"date\"] = billboard_date\n",
    "\n",
    "    df = pd.concat([df, df_append], sort=False)\n",
    "  \n",
    "\n",
    "df"
   ]
  },
  {
   "cell_type": "markdown",
   "id": "69b99551-892d-4149-b05e-415ffb069b23",
   "metadata": {},
   "source": [
    "Save to file"
   ]
  },
  {
   "cell_type": "code",
   "execution_count": 122,
   "id": "3af9ba46-2d22-433a-9b4f-dcdcf4f298cf",
   "metadata": {},
   "outputs": [],
   "source": [
    "csv_filename = f\"billboard_{min(date_list).strftime('%Y-%m-%d')}-{max(date_list).strftime('%Y-%m-%d')}.csv\"\n",
    "\n",
    "idx = 0\n",
    "\n",
    "while os.path.exists(csv_filename):\n",
    "    idx += 1\n",
    "    csv_filename = f\"billboard_{min(date_list).strftime('%Y-%m-%d')}-{max(date_list).strftime('%Y-%m-%d')}_{str(idx).zfill(2)}.csv\"\n",
    "\n",
    "df.to_csv(csv_filename, index=False)"
   ]
  },
  {
   "cell_type": "markdown",
   "id": "e467c882-b25f-43ac-98bf-645aad289e56",
   "metadata": {
    "tags": []
   },
   "source": [
    "Load from file"
   ]
  },
  {
   "cell_type": "code",
   "execution_count": 9,
   "id": "f584e395-1aac-4d5e-9daf-0cf308c3596f",
   "metadata": {},
   "outputs": [],
   "source": [
    "df = pd.read_csv(\"billboard_1949-08-04-2018-08-04.csv\")"
   ]
  },
  {
   "cell_type": "markdown",
   "id": "c3fee04f-5757-482b-b907-db29160662dd",
   "metadata": {},
   "source": [
    "## Get lyrics of songs from billboard charts"
   ]
  },
  {
   "cell_type": "code",
   "execution_count": 10,
   "id": "87dbf9c9-223e-4869-b456-89df98f9af5d",
   "metadata": {},
   "outputs": [],
   "source": [
    "songs = df[[\"author\", \"title\"]].copy()\n",
    "\n",
    "songs = songs.drop_duplicates(keep=\"first\")"
   ]
  },
  {
   "cell_type": "code",
   "execution_count": 17,
   "id": "fa619533-2f81-4708-94e7-46039483f77d",
   "metadata": {},
   "outputs": [],
   "source": [
    "for song in songs.itertuples():\n",
    "    i = song[0]\n",
    "    artist_name = song[1]\n",
    "    title = song[2]\n",
    "    \n",
    "    lyrics = scrape_song_lyrics(request_song_url(artist_name, title))\n",
    "    \n",
    "    songs.loc[i, \"lyrics\"] = lyrics"
   ]
  },
  {
   "cell_type": "code",
   "execution_count": 18,
   "id": "568cb8ab-e2e1-4096-b2c8-faa15014ac08",
   "metadata": {},
   "outputs": [
    {
     "data": {
      "text/html": [
       "<div>\n",
       "<style scoped>\n",
       "    .dataframe tbody tr th:only-of-type {\n",
       "        vertical-align: middle;\n",
       "    }\n",
       "\n",
       "    .dataframe tbody tr th {\n",
       "        vertical-align: top;\n",
       "    }\n",
       "\n",
       "    .dataframe thead th {\n",
       "        text-align: right;\n",
       "    }\n",
       "</style>\n",
       "<table border=\"1\" class=\"dataframe\">\n",
       "  <thead>\n",
       "    <tr style=\"text-align: right;\">\n",
       "      <th></th>\n",
       "      <th>author</th>\n",
       "      <th>title</th>\n",
       "      <th>lyrics</th>\n",
       "    </tr>\n",
       "  </thead>\n",
       "  <tbody>\n",
       "    <tr>\n",
       "      <th>0</th>\n",
       "      <td>Drake</td>\n",
       "      <td>In My Feelings</td>\n",
       "      <td>\\nTrap, TrapMoneyBenny\\nThis shit got me in my...</td>\n",
       "    </tr>\n",
       "    <tr>\n",
       "      <th>1</th>\n",
       "      <td>Cardi B, Bad Bunny &amp; J Balvin</td>\n",
       "      <td>I Like It</td>\n",
       "      <td>\\nYeah, baby, I like it like that\\nYou gotta b...</td>\n",
       "    </tr>\n",
       "    <tr>\n",
       "      <th>2</th>\n",
       "      <td>Maroon 5 Featuring Cardi B</td>\n",
       "      <td>Girls Like You</td>\n",
       "      <td></td>\n",
       "    </tr>\n",
       "    <tr>\n",
       "      <th>3</th>\n",
       "      <td>6ix9ine Featuring Nicki Minaj &amp; Murda Beatz</td>\n",
       "      <td>FEFE</td>\n",
       "      <td></td>\n",
       "    </tr>\n",
       "    <tr>\n",
       "      <th>4</th>\n",
       "      <td>Post Malone</td>\n",
       "      <td>Better Now</td>\n",
       "      <td>\\nYou prolly think that you are better now, be...</td>\n",
       "    </tr>\n",
       "    <tr>\n",
       "      <th>5</th>\n",
       "      <td>Drake</td>\n",
       "      <td>Nice For What</td>\n",
       "      <td>\\nI wanna know who mothafuckin' representin' i...</td>\n",
       "    </tr>\n",
       "    <tr>\n",
       "      <th>6</th>\n",
       "      <td>Ella Mai</td>\n",
       "      <td>Boo'd Up</td>\n",
       "      <td></td>\n",
       "    </tr>\n",
       "    <tr>\n",
       "      <th>7</th>\n",
       "      <td>Juice WRLD</td>\n",
       "      <td>Lucid Dreams</td>\n",
       "      <td>\\nEnviyon on the mix\\nNo, no, no, no\\nNo-no, n...</td>\n",
       "    </tr>\n",
       "    <tr>\n",
       "      <th>8</th>\n",
       "      <td>Post Malone Featuring Ty Dolla $ign</td>\n",
       "      <td>Psycho</td>\n",
       "      <td></td>\n",
       "    </tr>\n",
       "    <tr>\n",
       "      <th>9</th>\n",
       "      <td>Tyga Featuring Offset</td>\n",
       "      <td>Taste</td>\n",
       "      <td></td>\n",
       "    </tr>\n",
       "    <tr>\n",
       "      <th>10</th>\n",
       "      <td>Ariana Grande</td>\n",
       "      <td>No Tears Left To Cry</td>\n",
       "      <td></td>\n",
       "    </tr>\n",
       "    <tr>\n",
       "      <th>11</th>\n",
       "      <td>Taylor Swift</td>\n",
       "      <td>Delicate</td>\n",
       "      <td>\\nThis ain't for the best\\nMy reputation's nev...</td>\n",
       "    </tr>\n",
       "    <tr>\n",
       "      <th>12</th>\n",
       "      <td>Drake</td>\n",
       "      <td>God's Plan</td>\n",
       "      <td></td>\n",
       "    </tr>\n",
       "    <tr>\n",
       "      <th>13</th>\n",
       "      <td>Lil Baby &amp; Drake</td>\n",
       "      <td>Yes Indeed</td>\n",
       "      <td>\\nYeah\\nWheezy outta here\\n\\n\\nThe dash, it's ...</td>\n",
       "    </tr>\n",
       "    <tr>\n",
       "      <th>14</th>\n",
       "      <td>Zedd, Maren Morris &amp; Grey</td>\n",
       "      <td>The Middle</td>\n",
       "      <td>\\nTake a seat\\nRight over there, sat on the st...</td>\n",
       "    </tr>\n",
       "    <tr>\n",
       "      <th>15</th>\n",
       "      <td>Marshmello &amp; Anne-Marie</td>\n",
       "      <td>Friends</td>\n",
       "      <td>\\nOoh-oh, ooh-woh\\nOoh-oh, ooh-woh\\n\\n\\nYou sa...</td>\n",
       "    </tr>\n",
       "    <tr>\n",
       "      <th>16</th>\n",
       "      <td>Ed Sheeran</td>\n",
       "      <td>Perfect</td>\n",
       "      <td>\\nI found a love for me\\nOh, darling, just div...</td>\n",
       "    </tr>\n",
       "    <tr>\n",
       "      <th>17</th>\n",
       "      <td>Khalid &amp; Normani</td>\n",
       "      <td>Love Lies</td>\n",
       "      <td>\\nSorry if it's hard to catch my vibe, mmm\\nI ...</td>\n",
       "    </tr>\n",
       "    <tr>\n",
       "      <th>18</th>\n",
       "      <td>XXXTENTACION</td>\n",
       "      <td>Sad!</td>\n",
       "      <td>\\nYeah\\n\\n\\nWho am I? Someone that's afraid to...</td>\n",
       "    </tr>\n",
       "    <tr>\n",
       "      <th>19</th>\n",
       "      <td>Bebe Rexha &amp; Florida Georgia Line</td>\n",
       "      <td>Meant To Be</td>\n",
       "      <td>\\nBaby, lay on back and relax\\nKick your prett...</td>\n",
       "    </tr>\n",
       "    <tr>\n",
       "      <th>20</th>\n",
       "      <td>Ariana Grande</td>\n",
       "      <td>God Is A Woman</td>\n",
       "      <td></td>\n",
       "    </tr>\n",
       "    <tr>\n",
       "      <th>21</th>\n",
       "      <td>Bazzi</td>\n",
       "      <td>Mine</td>\n",
       "      <td>\\nHuh, yeah, naw I just, had a lil' bit too mu...</td>\n",
       "    </tr>\n",
       "    <tr>\n",
       "      <th>22</th>\n",
       "      <td>Shawn Mendes</td>\n",
       "      <td>In My Blood</td>\n",
       "      <td>\\nHelp me, it's like the walls are caving in\\n...</td>\n",
       "    </tr>\n",
       "    <tr>\n",
       "      <th>23</th>\n",
       "      <td>Dan + Shay</td>\n",
       "      <td>Tequila</td>\n",
       "      <td>\\nI can still shut down a party\\nI can hang wi...</td>\n",
       "    </tr>\n",
       "    <tr>\n",
       "      <th>24</th>\n",
       "      <td>5 Seconds Of Summer</td>\n",
       "      <td>Youngblood</td>\n",
       "      <td>\\nRemember the words you told me\\n\"Love me til...</td>\n",
       "    </tr>\n",
       "  </tbody>\n",
       "</table>\n",
       "</div>"
      ],
      "text/plain": [
       "                                         author                 title  \\\n",
       "0                                         Drake        In My Feelings   \n",
       "1                 Cardi B, Bad Bunny & J Balvin             I Like It   \n",
       "2                    Maroon 5 Featuring Cardi B        Girls Like You   \n",
       "3   6ix9ine Featuring Nicki Minaj & Murda Beatz                  FEFE   \n",
       "4                                   Post Malone            Better Now   \n",
       "5                                         Drake         Nice For What   \n",
       "6                                      Ella Mai              Boo'd Up   \n",
       "7                                    Juice WRLD          Lucid Dreams   \n",
       "8           Post Malone Featuring Ty Dolla $ign                Psycho   \n",
       "9                         Tyga Featuring Offset                 Taste   \n",
       "10                                Ariana Grande  No Tears Left To Cry   \n",
       "11                                 Taylor Swift              Delicate   \n",
       "12                                        Drake            God's Plan   \n",
       "13                             Lil Baby & Drake            Yes Indeed   \n",
       "14                    Zedd, Maren Morris & Grey            The Middle   \n",
       "15                      Marshmello & Anne-Marie               Friends   \n",
       "16                                   Ed Sheeran               Perfect   \n",
       "17                             Khalid & Normani             Love Lies   \n",
       "18                                 XXXTENTACION                  Sad!   \n",
       "19            Bebe Rexha & Florida Georgia Line           Meant To Be   \n",
       "20                                Ariana Grande        God Is A Woman   \n",
       "21                                        Bazzi                  Mine   \n",
       "22                                 Shawn Mendes           In My Blood   \n",
       "23                                   Dan + Shay               Tequila   \n",
       "24                          5 Seconds Of Summer            Youngblood   \n",
       "\n",
       "                                               lyrics  \n",
       "0   \\nTrap, TrapMoneyBenny\\nThis shit got me in my...  \n",
       "1   \\nYeah, baby, I like it like that\\nYou gotta b...  \n",
       "2                                                      \n",
       "3                                                      \n",
       "4   \\nYou prolly think that you are better now, be...  \n",
       "5   \\nI wanna know who mothafuckin' representin' i...  \n",
       "6                                                      \n",
       "7   \\nEnviyon on the mix\\nNo, no, no, no\\nNo-no, n...  \n",
       "8                                                      \n",
       "9                                                      \n",
       "10                                                     \n",
       "11  \\nThis ain't for the best\\nMy reputation's nev...  \n",
       "12                                                     \n",
       "13  \\nYeah\\nWheezy outta here\\n\\n\\nThe dash, it's ...  \n",
       "14  \\nTake a seat\\nRight over there, sat on the st...  \n",
       "15  \\nOoh-oh, ooh-woh\\nOoh-oh, ooh-woh\\n\\n\\nYou sa...  \n",
       "16  \\nI found a love for me\\nOh, darling, just div...  \n",
       "17  \\nSorry if it's hard to catch my vibe, mmm\\nI ...  \n",
       "18  \\nYeah\\n\\n\\nWho am I? Someone that's afraid to...  \n",
       "19  \\nBaby, lay on back and relax\\nKick your prett...  \n",
       "20                                                     \n",
       "21  \\nHuh, yeah, naw I just, had a lil' bit too mu...  \n",
       "22  \\nHelp me, it's like the walls are caving in\\n...  \n",
       "23  \\nI can still shut down a party\\nI can hang wi...  \n",
       "24  \\nRemember the words you told me\\n\"Love me til...  "
      ]
     },
     "execution_count": 18,
     "metadata": {},
     "output_type": "execute_result"
    }
   ],
   "source": [
    "songs.head(25)"
   ]
  },
  {
   "cell_type": "markdown",
   "id": "a44be5f0-4c47-4d6f-a8bf-9253494552c7",
   "metadata": {},
   "source": [
    "Save to file"
   ]
  },
  {
   "cell_type": "code",
   "execution_count": 20,
   "id": "ab56de47-8bf9-4790-a43e-c0885f257ded",
   "metadata": {},
   "outputs": [],
   "source": [
    "csv_filename = f\"billboard_songs_{min(date_list).strftime('%Y-%m-%d')}-{max(date_list).strftime('%Y-%m-%d')}.csv\"\n",
    "\n",
    "idx = 0\n",
    "\n",
    "while os.path.exists(csv_filename):\n",
    "    idx += 1\n",
    "    csv_filename = f\"billboard_songs_{min(date_list).strftime('%Y-%m-%d')}-{max(date_list).strftime('%Y-%m-%d')}_{str(idx).zfill(2)}.csv\"\n",
    "\n",
    "songs.to_csv(csv_filename, index=False)"
   ]
  },
  {
   "cell_type": "markdown",
   "id": "fd1d7d78-aaf4-43ee-a193-f286690ea9bf",
   "metadata": {
    "tags": []
   },
   "source": [
    "Load from file"
   ]
  },
  {
   "cell_type": "code",
   "execution_count": 25,
   "id": "948ec3f8-5a88-481e-8ba9-9ace8db6e52c",
   "metadata": {},
   "outputs": [],
   "source": [
    "songs = pd.read_csv(\"billboard_songs_1949-08-04-2018-08-04.csv\")"
   ]
  },
  {
   "cell_type": "code",
   "execution_count": 28,
   "id": "c518a9f9-d80d-404b-9364-13aea8960a71",
   "metadata": {},
   "outputs": [
    {
     "data": {
      "text/plain": [
       "576"
      ]
     },
     "execution_count": 28,
     "metadata": {},
     "output_type": "execute_result"
    }
   ],
   "source": [
    "sum(pd.notna(songs.lyrics))"
   ]
  },
  {
   "cell_type": "code",
   "execution_count": 31,
   "id": "6d8f31f1-82b4-457d-bf75-a58e0018b330",
   "metadata": {},
   "outputs": [
    {
     "data": {
      "text/plain": [
       "5507"
      ]
     },
     "execution_count": 31,
     "metadata": {},
     "output_type": "execute_result"
    }
   ],
   "source": [
    "sum(pd.isna(songs.lyrics))"
   ]
  },
  {
   "cell_type": "markdown",
   "id": "4051a594-2a65-4338-9c74-da9aa9effe30",
   "metadata": {},
   "source": [
    "Found lyrics only for less than 10% of the songs!!!"
   ]
  }
 ],
 "metadata": {
  "kernelspec": {
   "display_name": "Python 3 (ipykernel)",
   "language": "python",
   "name": "python3"
  },
  "language_info": {
   "codemirror_mode": {
    "name": "ipython",
    "version": 3
   },
   "file_extension": ".py",
   "mimetype": "text/x-python",
   "name": "python",
   "nbconvert_exporter": "python",
   "pygments_lexer": "ipython3",
   "version": "3.9.13"
  }
 },
 "nbformat": 4,
 "nbformat_minor": 5
}
