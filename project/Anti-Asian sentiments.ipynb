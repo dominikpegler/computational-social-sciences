{
 "cells": [
  {
   "cell_type": "markdown",
   "id": "a37a6278-06d3-48d2-bb41-0d193a307539",
   "metadata": {
    "tags": []
   },
   "source": [
    "Anti-Asian Sentiments after Trump-Tweet\n",
    "===\n",
    "\n",
    "https://ajph.aphapublications.org/doi/10.2105/AJPH.2021.306154\n",
    "\n",
    "- Hypothesis 1: The tweets with the hashtag #chinesevirus will contain a greater proportion of anti-Asian hashtags than the tweets with the hashtag #covid19.\n",
    "\n",
    "- Hypothesis 2: Anti-Asian hashtags will rise after the president’s tweet of “Chinese Virus.”\n",
    "\n",
    "- Hypothesis 3: The rise in anti-Asian hashtags will be more pronounced among tweets with #chinesevirus compared with #covid19.\n",
    "\n",
    "\n",
    "<div class=\"alert alert-info\">Data were from March 9 to 23, 2020, corresponding to the week before and week after the president’s tweet with the phrase, “Chinese Virus.” After excluding non-English tweets and hashtags, our analysis sample consisted of 668 597 tweets and 1 273 141 hashtags. In addition, we collected the timestamp of tweets and users (i.e., tweeters).</div>\n",
    "\n",
    "<div class=\"alert alert-info\">Examples of anti-Asian hashtags included #bateatingchinese, #yellowmanfever, #makethecommiechinesepay, #disgustingchinese, #commieflu, #chopstickchins, and #chinkflu.\n",
    "\n",
    "We coded as “other” the remaining hashtags, including those that\n",
    "\n",
    "- were neutral (e.g., #washhands) or positive (e.g., #saferathome);\n",
    "\n",
    "- demonstrated hostility toward other racial groups (e.g., #nonrentingtoblacks);\n",
    "\n",
    "- were antiimmigrant (e.g., #secureourborders) but not specific to Asians;\n",
    "\n",
    "- criticized policies implemented by the Chinese government about Hong Kong, Taiwan, and Tibet (e.g., #tibetpolicestate); and\n",
    "\n",
    "- were conspiracy stories (e.g., #wuhancoverup).\n",
    "    </div>"
   ]
  }
 ],
 "metadata": {
  "kernelspec": {
   "display_name": "Python 3 (ipykernel)",
   "language": "python",
   "name": "python3"
  },
  "language_info": {
   "codemirror_mode": {
    "name": "ipython",
    "version": 3
   },
   "file_extension": ".py",
   "mimetype": "text/x-python",
   "name": "python",
   "nbconvert_exporter": "python",
   "pygments_lexer": "ipython3",
   "version": "3.9.13"
  }
 },
 "nbformat": 4,
 "nbformat_minor": 5
}
