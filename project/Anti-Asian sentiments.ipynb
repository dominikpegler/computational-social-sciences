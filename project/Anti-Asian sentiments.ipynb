{
 "cells": [
  {
   "cell_type": "markdown",
   "id": "a37a6278-06d3-48d2-bb41-0d193a307539",
   "metadata": {},
   "source": [
    "Anti-Asian Sentiments after Trump-Tweet\n",
    "===\n",
    "\n",
    "https://ajph.aphapublications.org/doi/10.2105/AJPH.2021.306154"
   ]
  }
 ],
 "metadata": {
  "kernelspec": {
   "display_name": "Python 3 (ipykernel)",
   "language": "python",
   "name": "python3"
  },
  "language_info": {
   "codemirror_mode": {
    "name": "ipython",
    "version": 3
   },
   "file_extension": ".py",
   "mimetype": "text/x-python",
   "name": "python",
   "nbconvert_exporter": "python",
   "pygments_lexer": "ipython3",
   "version": "3.9.13"
  }
 },
 "nbformat": 4,
 "nbformat_minor": 5
}
