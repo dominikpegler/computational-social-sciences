{
 "cells": [
  {
   "cell_type": "markdown",
   "id": "a37a6278-06d3-48d2-bb41-0d193a307539",
   "metadata": {
    "tags": []
   },
   "source": [
    "Anti-Asian Sentiments after Trump-Tweet\n",
    "===\n",
    "\n",
    "https://ajph.aphapublications.org/doi/10.2105/AJPH.2021.306154\n",
    "\n",
    "- Hypothesis 1: The tweets with the hashtag #chinesevirus will contain a greater proportion of anti-Asian hashtags than the tweets with the hashtag #covid19.\n",
    "\n",
    "- Hypothesis 2: Anti-Asian hashtags will rise after the president’s tweet of “Chinese Virus.”\n",
    "\n",
    "- Hypothesis 3: The rise in anti-Asian hashtags will be more pronounced among tweets with #chinesevirus compared with #covid19.\n",
    "\n",
    "\n",
    "<div class=\"alert alert-info\">Data were from March 9 to 23, 2020, corresponding to the week before and week after the president’s tweet with the phrase, “Chinese Virus.” After excluding non-English tweets and hashtags, our analysis sample consisted of 668 597 tweets and 1 273 141 hashtags. In addition, we collected the timestamp of tweets and users (i.e., tweeters).</div>\n",
    "\n",
    "<div class=\"alert alert-info\">Examples of anti-Asian hashtags included #bateatingchinese, #yellowmanfever, #makethecommiechinesepay, #disgustingchinese, #commieflu, #chopstickchins, and #chinkflu.\n",
    "\n",
    "We coded as “other” the remaining hashtags, including those that\n",
    "\n",
    "- were neutral (e.g., #washhands) or positive (e.g., #saferathome);\n",
    "\n",
    "- demonstrated hostility toward other racial groups (e.g., #nonrentingtoblacks);\n",
    "\n",
    "- were antiimmigrant (e.g., #secureourborders) but not specific to Asians;\n",
    "\n",
    "- criticized policies implemented by the Chinese government about Hong Kong, Taiwan, and Tibet (e.g., #tibetpolicestate); and\n",
    "\n",
    "- were conspiracy stories (e.g., #wuhancoverup).\n",
    "    </div>"
   ]
  },
  {
   "cell_type": "code",
   "execution_count": 1,
   "id": "70643272-307a-486d-b822-3201f49c1400",
   "metadata": {},
   "outputs": [
    {
     "data": {
      "text/html": [
       "\n",
       "                <script type=\"application/javascript\" id=\"jupyter_black\">\n",
       "                (function() {\n",
       "                    if (window.IPython === undefined) {\n",
       "                        return\n",
       "                    }\n",
       "                    var msg = \"WARNING: it looks like you might have loaded \" +\n",
       "                        \"jupyter_black in a non-lab notebook with \" +\n",
       "                        \"`is_lab=True`. Please double check, and if \" +\n",
       "                        \"loading with `%load_ext` please review the README!\"\n",
       "                    console.log(msg)\n",
       "                    alert(msg)\n",
       "                })()\n",
       "                </script>\n",
       "                "
      ],
      "text/plain": [
       "<IPython.core.display.HTML object>"
      ]
     },
     "metadata": {},
     "output_type": "display_data"
    }
   ],
   "source": [
    "import jupyter_black\n",
    "jupyter_black.load()"
   ]
  },
  {
   "cell_type": "code",
   "execution_count": 20,
   "id": "b1ba2294-8143-4fcd-b24e-3c851a24dc19",
   "metadata": {},
   "outputs": [],
   "source": [
    "import os\n",
    "import json\n",
    "import subprocess\n",
    "\n",
    "\n",
    "data_dir = \"data/twitter\"\n",
    "\n",
    "if os.path.exists(data_dir) == False:\n",
    "    os.makedirs(data_dir)\n",
    "\n",
    "\n",
    "def dl_hashtag(hashtag, max_results, local=False):\n",
    "    \"\"\"\n",
    "    Function to download tweets by hashtag.\n",
    "    Set local to True, if tweets have already\n",
    "    been downloaded and are available in data_dir.\n",
    "\n",
    "    \"\"\"\n",
    "\n",
    "    if local == False:\n",
    "        with open(data_dir + f\"/hashtag-{hashtag}.json\", \"w+\") as fo:\n",
    "            p = subprocess.Popen(\n",
    "                [\"snscrape\", \"--jsonl\", max_results, \"twitter-hashtag\", hashtag],\n",
    "                stdout=fo,\n",
    "            )\n",
    "            p.wait()\n",
    "\n",
    "    with open(data_dir + f\"/hashtag-{hashtag}.json\", \"r\") as fo:\n",
    "        tweets = fo.readlines()\n",
    "\n",
    "    tweets = [json.loads(tweets[i]) for i in range(0, len(tweets))]\n",
    "    print(\"loaded\", len(tweets), \"tweets\\n\")\n",
    "\n",
    "    return tweets"
   ]
  },
  {
   "cell_type": "markdown",
   "id": "104cddad-3d3a-432f-8b60-1a66c78f0102",
   "metadata": {},
   "source": [
    "Scrape tweets with specific hashtag"
   ]
  },
  {
   "cell_type": "code",
   "execution_count": 21,
   "id": "2e6017e5-ab13-4bfe-8fd7-b4ebd254fd97",
   "metadata": {},
   "outputs": [
    {
     "name": "stdout",
     "output_type": "stream",
     "text": [
      "loaded 100 tweets\n",
      "\n",
      "2023-01-22T20:19:11+00:00 #ChinaVirus ['ChinaVirus']\n",
      "2023-01-22T16:55:43+00:00 #China people 🇨🇳 should be banned from traveling abroad.\n",
      "#ChinaVirus ['China', 'ChinaVirus']\n",
      "2023-01-22T16:24:18+00:00 @GenFlynn @gatewaypundit @GrantCardone @RogerJStoneJr @EmeraldRobinson @DC_Draino And the #ChinaVirus had Great Timing.\n",
      "\n",
      "Just Sayin. https://t.co/m2khuPMJFT ['ChinaVirus']\n",
      "2023-01-22T15:44:07+00:00 Every commercial for a new drug lists and states all adverse side effect…the #chinavirus jab…only propaganda to get it. ['chinavirus']\n",
      "2023-01-22T15:34:44+00:00 @GBNEWS I'm just curious (albeit I haven't been in #Britain since #December 2019 because of #ChinaVirus #lockdown #undemocratic rules which blocked #UK #citizens): Does the so-called #bufferzone around abortion clinics include #public #pavements? If so, isn't that #illegal? ['Britain', 'December', 'ChinaVirus', 'lockdown', 'undemocratic', 'UK', 'citizens', 'bufferzone', 'public', 'pavements', 'illegal']\n"
     ]
    }
   ],
   "source": [
    "tweets = dl_hashtag(\"chinavirus\", \"-n 100\", False)  # \"\" for all, \"-n 100\" for 100\n",
    "\n",
    "\n",
    "# print the first 5\n",
    "for i in range(min(5, len(tweets))):\n",
    "    print(tweets[i][\"date\"], tweets[i][\"rawContent\"], tweets[i][\"hashtags\"])"
   ]
  },
  {
   "cell_type": "code",
   "execution_count": null,
   "id": "32f5ec24-0839-4f86-a032-7ef10b7f1525",
   "metadata": {},
   "outputs": [],
   "source": []
  }
 ],
 "metadata": {
  "kernelspec": {
   "display_name": "Python 3 (ipykernel)",
   "language": "python",
   "name": "python3"
  },
  "language_info": {
   "codemirror_mode": {
    "name": "ipython",
    "version": 3
   },
   "file_extension": ".py",
   "mimetype": "text/x-python",
   "name": "python",
   "nbconvert_exporter": "python",
   "pygments_lexer": "ipython3",
   "version": "3.9.13"
  }
 },
 "nbformat": 4,
 "nbformat_minor": 5
}
