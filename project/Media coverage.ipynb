{
 "cells": [
  {
   "cell_type": "markdown",
   "id": "4f2ebc25-2803-4203-94f7-2fbc0792bba5",
   "metadata": {},
   "source": [
    "Analyzing Media Coverage Of Other Countries in Austria\n",
    "===\n",
    "\n",
    "\n",
    "The aim of this project is to find out how reporting in Austria's print media about certain countries has changed over time (sentiment, which topics). In two further steps, I would also like to go down to the level of the individual newspapers and their authors and take an explorative look at whether there are tendencies/bias here. As countries of interest I choose Balkan countries because of their proximity to Austria and their long history of conflict.\n",
    "\n",
    "    Text corpora: Austrian newspaper articles (or their respective twitter posts)\n",
    "    Language: German\n",
    "    Time: 2000–2022\n",
    "    Method: Adding country labels to the articles, Sentiment Scores (, extracting underlying topics of the articles, e.g. with fuzzy topic modeling) \n",
    "    \n",
    "According to https://de.wikipedia.org/wiki/Liste_%C3%B6sterreichischer_Zeitungen_und_Zeitschriften derstandard.at and krone.at reach the most people online, they also cover Austrian society quite well. So, initially, I will focus on these two and might add some more newspapers at a later stage."
   ]
  },
  {
   "cell_type": "markdown",
   "id": "081e0c21-e47d-40aa-9380-68ee2f79db70",
   "metadata": {},
   "source": [
    "* Focus on 2 countries: Serbia and Croatia (like Austria now a EU country)\n",
    "* I will label an article with \"Serbia\" if the ratio of amount of words that relate to \"Serbia\"  compared to words that relate to \"Croatia\" is greater than 4\n",
    "* I will also try to find out if there are certain authors who are responsible for a certain tendency.\n",
    "* Another analysis could be build upon the ratio of \"Serbia\" and \"Albania\" or \"Kosovo\"\n",
    "\n",
    "**Hypothesis 1: Tweets about Croatia are on average more positive than tweets about Serbia**"
   ]
  },
  {
   "cell_type": "code",
   "execution_count": 1,
   "id": "eec6929b-dce0-4b83-9ca8-604f4cb90b92",
   "metadata": {
    "tags": []
   },
   "outputs": [
    {
     "data": {
      "text/html": [
       "\n",
       "                <script type=\"application/javascript\" id=\"jupyter_black\">\n",
       "                (function() {\n",
       "                    if (window.IPython === undefined) {\n",
       "                        return\n",
       "                    }\n",
       "                    var msg = \"WARNING: it looks like you might have loaded \" +\n",
       "                        \"jupyter_black in a non-lab notebook with \" +\n",
       "                        \"`is_lab=True`. Please double check, and if \" +\n",
       "                        \"loading with `%load_ext` please review the README!\"\n",
       "                    console.log(msg)\n",
       "                    alert(msg)\n",
       "                })()\n",
       "                </script>\n",
       "                "
      ],
      "text/plain": [
       "<IPython.core.display.HTML object>"
      ]
     },
     "metadata": {},
     "output_type": "display_data"
    }
   ],
   "source": [
    "import jupyter_black\n",
    "\n",
    "jupyter_black.load()"
   ]
  },
  {
   "cell_type": "code",
   "execution_count": 178,
   "id": "e94fe83f-5986-4487-87b0-69c28beffad0",
   "metadata": {},
   "outputs": [],
   "source": [
    "import os\n",
    "import json\n",
    "import subprocess\n",
    "import pandas as pd\n",
    "import seaborn as sns\n",
    "import matplotlib.pyplot as plt\n",
    "\n",
    "\n",
    "data_dir = \"data/twitter\"\n",
    "\n",
    "if os.path.exists(data_dir) == False:\n",
    "    os.makedirs(data_dir)\n",
    "\n",
    "\n",
    "def dl_user(user, max_results=None, local=False):\n",
    "    \"\"\"\n",
    "    Function to download tweets by username.\n",
    "    Set local to True, if tweets have already\n",
    "    been downloaded and are available in data_dir.\n",
    "\n",
    "    Returns a DataFrame.\n",
    "\n",
    "    \"\"\"\n",
    "\n",
    "    if local == False:\n",
    "        with open(data_dir + f\"/user-{user}.json\", \"w+\") as fo:\n",
    "            if max_results == None:\n",
    "                cmd_list = [\"snscrape\", \"--jsonl\", \"twitter-user\", user]\n",
    "            else:\n",
    "                cmd_list = [\n",
    "                    \"snscrape\",\n",
    "                    \"--jsonl\",\n",
    "                    \"-n \" + str(max_results),\n",
    "                    \"twitter-user\",\n",
    "                    user,\n",
    "                ]\n",
    "            p = subprocess.Popen(cmd_list, stdout=fo)\n",
    "            p.wait()\n",
    "\n",
    "    with open(data_dir + f\"/user-{user}.json\", \"r\") as fo:\n",
    "        tweets = fo.readlines()\n",
    "\n",
    "    tweets = [json.loads(tweets[i]) for i in range(0, len(tweets))]\n",
    "    print(\"loaded\", len(tweets), \"tweets\\n\")\n",
    "\n",
    "    df_tweets = pd.DataFrame(tweets)\n",
    "    df_tweets[\"date\"] = pd.to_datetime(df_tweets[\"date\"])\n",
    "\n",
    "    return df_tweets"
   ]
  },
  {
   "cell_type": "markdown",
   "id": "e241f950-b2f3-4d09-afd5-7f97137af3f3",
   "metadata": {},
   "source": [
    "# 1. Scraping newspaper articles\n",
    "\n",
    "## 1.1. derStandard.at\n"
   ]
  },
  {
   "cell_type": "code",
   "execution_count": 53,
   "id": "81c012de-9c75-4cf2-8645-5d26f9e466f1",
   "metadata": {},
   "outputs": [
    {
     "name": "stdout",
     "output_type": "stream",
     "text": [
      "loaded 272281 tweets\n",
      "\n"
     ]
    },
    {
     "data": {
      "text/html": [
       "<div>\n",
       "<style scoped>\n",
       "    .dataframe tbody tr th:only-of-type {\n",
       "        vertical-align: middle;\n",
       "    }\n",
       "\n",
       "    .dataframe tbody tr th {\n",
       "        vertical-align: top;\n",
       "    }\n",
       "\n",
       "    .dataframe thead th {\n",
       "        text-align: right;\n",
       "    }\n",
       "</style>\n",
       "<table border=\"1\" class=\"dataframe\">\n",
       "  <thead>\n",
       "    <tr style=\"text-align: right;\">\n",
       "      <th></th>\n",
       "      <th>date</th>\n",
       "      <th>rawContent</th>\n",
       "      <th>hashtags</th>\n",
       "    </tr>\n",
       "  </thead>\n",
       "  <tbody>\n",
       "    <tr>\n",
       "      <th>0</th>\n",
       "      <td>2023-01-25 09:50:19+00:00</td>\n",
       "      <td>Massive Ausfälle bei Microsoft Teams und Outlo...</td>\n",
       "      <td>None</td>\n",
       "    </tr>\n",
       "    <tr>\n",
       "      <th>1</th>\n",
       "      <td>2023-01-25 09:50:18+00:00</td>\n",
       "      <td>ÖSV-Techniktrainer Kroisleitner: \"Potenzial de...</td>\n",
       "      <td>None</td>\n",
       "    </tr>\n",
       "    <tr>\n",
       "      <th>2</th>\n",
       "      <td>2023-01-25 09:50:17+00:00</td>\n",
       "      <td>Leopard-Lieferung: Selenskyj will mehr als \"ze...</td>\n",
       "      <td>None</td>\n",
       "    </tr>\n",
       "    <tr>\n",
       "      <th>3</th>\n",
       "      <td>2023-01-25 09:33:54+00:00</td>\n",
       "      <td>\"IBES\" 2023: Jana ist raus – Werden Sie sie ve...</td>\n",
       "      <td>None</td>\n",
       "    </tr>\n",
       "    <tr>\n",
       "      <th>4</th>\n",
       "      <td>2023-01-25 09:04:32+00:00</td>\n",
       "      <td>Chanels Haute Couture: Show führte in den Zirk...</td>\n",
       "      <td>None</td>\n",
       "    </tr>\n",
       "  </tbody>\n",
       "</table>\n",
       "</div>"
      ],
      "text/plain": [
       "                       date  \\\n",
       "0 2023-01-25 09:50:19+00:00   \n",
       "1 2023-01-25 09:50:18+00:00   \n",
       "2 2023-01-25 09:50:17+00:00   \n",
       "3 2023-01-25 09:33:54+00:00   \n",
       "4 2023-01-25 09:04:32+00:00   \n",
       "\n",
       "                                          rawContent hashtags  \n",
       "0  Massive Ausfälle bei Microsoft Teams und Outlo...     None  \n",
       "1  ÖSV-Techniktrainer Kroisleitner: \"Potenzial de...     None  \n",
       "2  Leopard-Lieferung: Selenskyj will mehr als \"ze...     None  \n",
       "3  \"IBES\" 2023: Jana ist raus – Werden Sie sie ve...     None  \n",
       "4  Chanels Haute Couture: Show führte in den Zirk...     None  "
      ]
     },
     "execution_count": 53,
     "metadata": {},
     "output_type": "execute_result"
    }
   ],
   "source": [
    "df_tweets = dl_user(\"derstandardat\", max_results=None, local=True)\n",
    "\n",
    "\n",
    "df_tweets[[\"date\", \"rawContent\", \"hashtags\"]].head()"
   ]
  },
  {
   "cell_type": "markdown",
   "id": "2fe07524-ce69-4cd3-862c-a1d7ebf403a0",
   "metadata": {},
   "source": [
    "### Compute sentiment scores for all tweets"
   ]
  },
  {
   "cell_type": "code",
   "execution_count": 308,
   "id": "38ae376b-07da-4609-abaa-41d991d1309d",
   "metadata": {},
   "outputs": [],
   "source": [
    "from textblob import TextBlob\n",
    "from nltk.sentiment.vader import SentimentIntensityAnalyzer\n",
    "\n",
    "sid = SentimentIntensityAnalyzer()\n",
    "\n",
    "\n",
    "df_tweets[\"sentiment_textblob\"] = df_tweets.renderedContent.apply(\n",
    "    lambda x: TextBlob(x).polarity\n",
    ")\n",
    "df_tweets[\"sentiment_vader\"] = df_tweets.renderedContent.apply(\n",
    "    lambda x: sid.polarity_scores(x)[\"compound\"]\n",
    ")"
   ]
  },
  {
   "cell_type": "markdown",
   "id": "47896d33-d51e-4da8-8278-40139dc424a8",
   "metadata": {},
   "source": [
    "### Which hashtags are most often used by this user"
   ]
  },
  {
   "cell_type": "code",
   "execution_count": 309,
   "id": "58842c11-bdc5-45f6-a7b8-99a09904a098",
   "metadata": {},
   "outputs": [
    {
     "data": {
      "text/plain": [
       "260302"
      ]
     },
     "execution_count": 309,
     "metadata": {},
     "output_type": "execute_result"
    }
   ],
   "source": [
    "len_nohashtags = sum(pd.isna(df_tweets.hashtags))\n",
    "len_nohashtags"
   ]
  },
  {
   "cell_type": "code",
   "execution_count": 310,
   "id": "04a99d47-f10e-4b93-947c-52467434261c",
   "metadata": {},
   "outputs": [],
   "source": [
    "hashtags = list(df_tweets.hashtags.dropna())"
   ]
  },
  {
   "cell_type": "code",
   "execution_count": 311,
   "id": "c0be9f96-2be6-4f6d-875f-1b4cf078cb8f",
   "metadata": {},
   "outputs": [
    {
     "data": {
      "text/plain": [
       "11979"
      ]
     },
     "execution_count": 311,
     "metadata": {},
     "output_type": "execute_result"
    }
   ],
   "source": [
    "len(hashtags)"
   ]
  },
  {
   "cell_type": "code",
   "execution_count": 312,
   "id": "0047c260-fd04-41fa-8a7d-839afa2e1a1c",
   "metadata": {},
   "outputs": [
    {
     "data": {
      "text/plain": [
       "['Bundespressedienst']"
      ]
     },
     "execution_count": 312,
     "metadata": {},
     "output_type": "execute_result"
    }
   ],
   "source": [
    "hashtags[623]"
   ]
  },
  {
   "cell_type": "code",
   "execution_count": 313,
   "id": "cd2ff2c4-5a2d-457d-aa0d-31ebbfbb2229",
   "metadata": {},
   "outputs": [
    {
     "data": {
      "text/plain": [
       "15147"
      ]
     },
     "execution_count": 313,
     "metadata": {},
     "output_type": "execute_result"
    }
   ],
   "source": [
    "hashtags_flat = [item for sublist in hashtags for item in sublist]\n",
    "\n",
    "len(hashtags_flat)"
   ]
  },
  {
   "cell_type": "code",
   "execution_count": 314,
   "id": "7ac2dbf9-7145-491d-800c-c520924c3c52",
   "metadata": {},
   "outputs": [
    {
     "data": {
      "image/png": "[encoded data removed]",
      "text/plain": [
       "<Figure size 640x480 with 1 Axes>"
      ]
     },
     "metadata": {},
     "output_type": "display_data"
    }
   ],
   "source": [
    "df_hashtags = pd.concat(\n",
    "    [\n",
    "        pd.DataFrame(hashtags_flat, columns=[\"hashtags\"]),\n",
    "        df_tweets.loc[pd.isna(df_tweets.hashtags), [\"hashtags\"]],\n",
    "    ],\n",
    "    sort=False,\n",
    ").astype(str)\n",
    "\n",
    "df_hashtags[\"count\"] = 1\n",
    "df_hashtags = (\n",
    "    df_hashtags.groupby([\"hashtags\"])\n",
    "    .count()\n",
    "    .sort_values(\"count\", ascending=False)\n",
    "    .reset_index()\n",
    ")\n",
    "\n",
    "# all the ones tha occur only few times and label them as \"other\" and group again\n",
    "df_hashtags.loc[df_hashtags[\"count\"] <= 50, \"hashtags\"] = \"other\"\n",
    "df_hashtags = (\n",
    "    df_hashtags.groupby([\"hashtags\"])\n",
    "    .sum()\n",
    "    .sort_values(\"count\", ascending=False)\n",
    "    .reset_index()\n",
    ")\n",
    "\n",
    "# drop the first 2 most frequently hashtags (None, other)\n",
    "sns.barplot(x=\"hashtags\", y=\"count\", data=df_hashtags.drop(0, axis=0).drop(1, axis=0))\n",
    "plt.xticks(rotation=90);"
   ]
  },
  {
   "cell_type": "markdown",
   "id": "f9704697-3b4d-440c-9e37-12769f1b0326",
   "metadata": {},
   "source": [
    "### Which countries are the tweets referring to (Serbia, Croatia)?"
   ]
  },
  {
   "cell_type": "code",
   "execution_count": 456,
   "id": "f012ada4-7f27-4577-87df-48c931dfa8ad",
   "metadata": {},
   "outputs": [],
   "source": [
    "countries = dict(\n",
    "    serbia=[\"serbien\", \"serbe\", \"serbin\", \"serbisch\", \"serbo\"],\n",
    "    croatia=[\"kroatien\", \"kroate\", \"kroatin\", \"kroatisch\", \"kroato\"],\n",
    "    romania=[\"rumänien\", \"rumäne\", \"rumänin\", \"rumänisch\"],\n",
    "    hungary=[\"ungarn\", \"ungar\", \"ungarin\", \"ungarisch\", \"ungaro\"],\n",
    "    finland=[\"finnland\", \"finne\", \"finnin\", \"finnisch\", \"finno\"],\n",
    "    norway=[\"norwegen\", \"norweger\", \"norwegisch\"],\n",
    "    sweden=[\"schweden\", \"schwedin\", \"schwedisch\"],\n",
    "    danmark=[\"dänisch\", \"dänen\", \"dänin\", \"dänisch\"],\n",
    "    poland=[\"polen\", \"pole\", \"polin\", \"polnisch\"],\n",
    "    bulgaria=[\"bulgarien\", \"bulgare\", \"bulgarin\", \"bulgarisch\"],\n",
    "    russia=[\"russland\", \"russe\", \"russin\", \"russen\", \"russisch\"],\n",
    "    ukraine=[\"ukraine\", \"ukrainisch\"],\n",
    "    germany=[\"deutschland\", \"deutsche\"],\n",
    "    frankreich=[\"frankreich\", \"franzose\", \"französi\"],\n",
    "    slovenia=[\"slowenien\", \"slowene\", \"sloweni\"],\n",
    "    italy=[\"italien\"],\n",
    "    spain=[\"spanien\", \"spanier\", \"spanisch\"],\n",
    "    portugal=[\"portual\", \"portugiese\", \"portugiesin\", \"portugiesisch\"],\n",
    "    switzerland=[\"schweiz\"],\n",
    "    austria=[\"österreich\"],\n",
    "    slovakia=[\"slowakei\", \"slowake\", \"slowakin\", \"slowakisch\"],\n",
    "    czechia=[\"tschechien\", \"tscheche\", \"tschechin\", \"tschechisch\"],\n",
    "    belarus=[\n",
    "        \"belarus\",\n",
    "        \"weißrussland\",\n",
    "        \"weissrussland\",\n",
    "        \"weißrussisch\",\n",
    "        \"weissrussisch\",\n",
    "        \"weißrusse\",\n",
    "        \"weissrusse\",\n",
    "        \"weißrussin\",\n",
    "        \"weissrussin\",\n",
    "    ],\n",
    "    bosnia=[\"bosnien\", \"bosnisch\", \"herzegowina\", \"bosnier\", \"herzegowinisch\"],\n",
    "    montenegro=[\"montenegro\", \"montenegriner\", \"montenegrinisch\"],\n",
    "    albania=[\"albanien\", \"albaner\", \"albanisch\"],\n",
    ")"
   ]
  },
  {
   "cell_type": "markdown",
   "id": "7d5d8dba-2da0-469f-8051-532ad7b662f0",
   "metadata": {},
   "source": [
    "#### Function for finding tweets about countries"
   ]
  },
  {
   "cell_type": "code",
   "execution_count": 457,
   "id": "310e1985-fe36-403b-9fe2-e818f7f98ff2",
   "metadata": {},
   "outputs": [],
   "source": [
    "def get_country(df_tweets, country, not_country=None, and_country=None):\n",
    "    \"\"\"\n",
    "\n",
    "    Filters DataFrame with tweets to country-\n",
    "    specific tweets.\n",
    "\n",
    "    Optional: Can exclude tweeds of specific other countries\n",
    "    via not_country variable.\n",
    "\n",
    "    \"\"\"\n",
    "\n",
    "    df_country = df_tweets[\n",
    "        [\"date\", \"renderedContent\", \"sentiment_vader\", \"sentiment_textblob\"]\n",
    "    ].copy()\n",
    "\n",
    "    if not_country != None:\n",
    "\n",
    "        df_country = df_country.loc[\n",
    "            df_country.renderedContent.str.lower().str.contains(\n",
    "                \"|\".join(country), regex=True\n",
    "            )\n",
    "            & ~df_country.renderedContent.str.lower().str.contains(\n",
    "                \"|\".join(not_country), regex=True\n",
    "            )\n",
    "        ].reset_index(drop=True)\n",
    "\n",
    "    else:\n",
    "        df_country = df_country.loc[\n",
    "            df_country.renderedContent.str.lower().str.contains(\n",
    "                \"|\".join(country), regex=True\n",
    "            )\n",
    "        ].reset_index(drop=True)\n",
    "\n",
    "    return df_country"
   ]
  },
  {
   "cell_type": "markdown",
   "id": "a9e7ee74-a641-4837-a10a-f7ecb322c4c8",
   "metadata": {},
   "source": [
    "### Compare sentiments betweens countries"
   ]
  },
  {
   "cell_type": "code",
   "execution_count": 463,
   "id": "dea4ada2-4b32-444e-aabf-8e53c6ca1555",
   "metadata": {},
   "outputs": [
    {
     "data": {
      "image/png": "[encoded data removed]",
      "text/plain": [
       "<Figure size 1000x1000 with 1 Axes>"
      ]
     },
     "metadata": {},
     "output_type": "display_data"
    }
   ],
   "source": [
    "df_scores = pd.DataFrame()\n",
    "\n",
    "for key in countries.keys():\n",
    "    df_scores_tmp = get_country(df_tweets, countries[key])[\n",
    "        [\"sentiment_vader\", \"sentiment_textblob\"]\n",
    "    ]\n",
    "    count = len(df_scores_tmp)\n",
    "    df_scores_tmp = pd.DataFrame(\n",
    "        df_scores_tmp.mean(),\n",
    "        columns=[key],\n",
    "    ).T\n",
    "    df_scores_tmp[\"count\"] = count\n",
    "    df_scores = pd.concat([df_scores, df_scores_tmp], sort=False)\n",
    "\n",
    "df_scores = df_scores.reset_index().rename(columns={\"index\": \"country\"})\n",
    "\n",
    "plt.figure(figsize=(10, 10))\n",
    "sns.scatterplot(\n",
    "    data=df_scores,\n",
    "    x=\"sentiment_vader\",\n",
    "    y=\"sentiment_textblob\",\n",
    "    hue=\"country\",\n",
    "    size=\"count\",\n",
    "    sizes=(40, 1600),\n",
    "    legend=False,\n",
    "    alpha=0.4,\n",
    ")\n",
    "\n",
    "for tup in df_scores.itertuples():\n",
    "    plt.annotate(tup[1].upper(), (tup[2], tup[3]))\n",
    "\n",
    "plt.tight_layout()"
   ]
  },
  {
   "cell_type": "markdown",
   "id": "3fa60eb0-6b7c-4bff-b8cf-5310131b3a07",
   "metadata": {},
   "source": [
    "#### Find tweets about Serbia (but not Croatia)"
   ]
  },
  {
   "cell_type": "code",
   "execution_count": 458,
   "id": "eefe604f-9a7b-400b-8f8c-8e5a50c72497",
   "metadata": {},
   "outputs": [
    {
     "data": {
      "text/html": [
       "<div>\n",
       "<style scoped>\n",
       "    .dataframe tbody tr th:only-of-type {\n",
       "        vertical-align: middle;\n",
       "    }\n",
       "\n",
       "    .dataframe tbody tr th {\n",
       "        vertical-align: top;\n",
       "    }\n",
       "\n",
       "    .dataframe thead th {\n",
       "        text-align: right;\n",
       "    }\n",
       "</style>\n",
       "<table border=\"1\" class=\"dataframe\">\n",
       "  <thead>\n",
       "    <tr style=\"text-align: right;\">\n",
       "      <th></th>\n",
       "      <th>date</th>\n",
       "      <th>renderedContent</th>\n",
       "      <th>sentiment_vader</th>\n",
       "      <th>sentiment_textblob</th>\n",
       "    </tr>\n",
       "  </thead>\n",
       "  <tbody>\n",
       "    <tr>\n",
       "      <th>0</th>\n",
       "      <td>2023-01-23 21:45:59+00:00</td>\n",
       "      <td>Serbiens Präsident Vučić in Kosovo-Frage für \"...</td>\n",
       "      <td>0.0</td>\n",
       "      <td>0.0</td>\n",
       "    </tr>\n",
       "    <tr>\n",
       "      <th>1</th>\n",
       "      <td>2023-01-07 16:13:24+00:00</td>\n",
       "      <td>Spannungen im Nordkosovo: \"Serbien muss nun vo...</td>\n",
       "      <td>0.0</td>\n",
       "      <td>0.0</td>\n",
       "    </tr>\n",
       "    <tr>\n",
       "      <th>2</th>\n",
       "      <td>2023-01-06 20:24:57+00:00</td>\n",
       "      <td>Soldat im Kosovo verwundet Serben – Sorgen vor...</td>\n",
       "      <td>0.0</td>\n",
       "      <td>0.0</td>\n",
       "    </tr>\n",
       "    <tr>\n",
       "      <th>3</th>\n",
       "      <td>2022-12-29 16:58:50+00:00</td>\n",
       "      <td>Konflikt zwischen Kosovo und Serbien: Schlecht...</td>\n",
       "      <td>0.0</td>\n",
       "      <td>0.0</td>\n",
       "    </tr>\n",
       "    <tr>\n",
       "      <th>4</th>\n",
       "      <td>2022-12-28 17:12:47+00:00</td>\n",
       "      <td>Karl Schwarzenberg: \"Österreich muss eine klar...</td>\n",
       "      <td>0.0</td>\n",
       "      <td>0.0</td>\n",
       "    </tr>\n",
       "  </tbody>\n",
       "</table>\n",
       "</div>"
      ],
      "text/plain": [
       "                       date  \\\n",
       "0 2023-01-23 21:45:59+00:00   \n",
       "1 2023-01-07 16:13:24+00:00   \n",
       "2 2023-01-06 20:24:57+00:00   \n",
       "3 2022-12-29 16:58:50+00:00   \n",
       "4 2022-12-28 17:12:47+00:00   \n",
       "\n",
       "                                     renderedContent  sentiment_vader  \\\n",
       "0  Serbiens Präsident Vučić in Kosovo-Frage für \"...              0.0   \n",
       "1  Spannungen im Nordkosovo: \"Serbien muss nun vo...              0.0   \n",
       "2  Soldat im Kosovo verwundet Serben – Sorgen vor...              0.0   \n",
       "3  Konflikt zwischen Kosovo und Serbien: Schlecht...              0.0   \n",
       "4  Karl Schwarzenberg: \"Österreich muss eine klar...              0.0   \n",
       "\n",
       "   sentiment_textblob  \n",
       "0                 0.0  \n",
       "1                 0.0  \n",
       "2                 0.0  \n",
       "3                 0.0  \n",
       "4                 0.0  "
      ]
     },
     "execution_count": 458,
     "metadata": {},
     "output_type": "execute_result"
    }
   ],
   "source": [
    "df_serbien = get_country(df_tweets, serbia, croatia)\n",
    "\n",
    "\n",
    "df_serbien.head()"
   ]
  },
  {
   "cell_type": "markdown",
   "id": "b0889901-572f-4e2e-a8c8-b0293557a55c",
   "metadata": {},
   "source": [
    "#### Find tweets about Croatia (but not Serbia)"
   ]
  },
  {
   "cell_type": "code",
   "execution_count": 459,
   "id": "396fff99-d3cb-4fd1-9143-2f0c5a6e5a30",
   "metadata": {
    "tags": []
   },
   "outputs": [
    {
     "data": {
      "text/html": [
       "<div>\n",
       "<style scoped>\n",
       "    .dataframe tbody tr th:only-of-type {\n",
       "        vertical-align: middle;\n",
       "    }\n",
       "\n",
       "    .dataframe tbody tr th {\n",
       "        vertical-align: top;\n",
       "    }\n",
       "\n",
       "    .dataframe thead th {\n",
       "        text-align: right;\n",
       "    }\n",
       "</style>\n",
       "<table border=\"1\" class=\"dataframe\">\n",
       "  <thead>\n",
       "    <tr style=\"text-align: right;\">\n",
       "      <th></th>\n",
       "      <th>date</th>\n",
       "      <th>renderedContent</th>\n",
       "      <th>sentiment_vader</th>\n",
       "      <th>sentiment_textblob</th>\n",
       "    </tr>\n",
       "  </thead>\n",
       "  <tbody>\n",
       "    <tr>\n",
       "      <th>0</th>\n",
       "      <td>2023-01-23 09:54:51+00:00</td>\n",
       "      <td>Thiem gibt vor Davis-Cup-Duell mit Kroatien En...</td>\n",
       "      <td>0.0</td>\n",
       "      <td>0.0</td>\n",
       "    </tr>\n",
       "    <tr>\n",
       "      <th>1</th>\n",
       "      <td>2023-01-06 11:28:36+00:00</td>\n",
       "      <td>Österreich in Bestbesetzung ins Davis-Cup-Duel...</td>\n",
       "      <td>0.0</td>\n",
       "      <td>0.0</td>\n",
       "    </tr>\n",
       "    <tr>\n",
       "      <th>2</th>\n",
       "      <td>2023-01-04 05:14:58+00:00</td>\n",
       "      <td>Großer Ansturm? Was der Schengen-Beitritt Kroa...</td>\n",
       "      <td>0.0</td>\n",
       "      <td>0.0</td>\n",
       "    </tr>\n",
       "    <tr>\n",
       "      <th>3</th>\n",
       "      <td>2023-01-03 13:32:51+00:00</td>\n",
       "      <td>Kritik in Kroatien über Preiserhöhungen infolg...</td>\n",
       "      <td>0.0</td>\n",
       "      <td>0.0</td>\n",
       "    </tr>\n",
       "    <tr>\n",
       "      <th>4</th>\n",
       "      <td>2023-01-01 06:54:57+00:00</td>\n",
       "      <td>Kroatien führt den Euro ein und wird Schengenl...</td>\n",
       "      <td>0.0</td>\n",
       "      <td>0.0</td>\n",
       "    </tr>\n",
       "  </tbody>\n",
       "</table>\n",
       "</div>"
      ],
      "text/plain": [
       "                       date  \\\n",
       "0 2023-01-23 09:54:51+00:00   \n",
       "1 2023-01-06 11:28:36+00:00   \n",
       "2 2023-01-04 05:14:58+00:00   \n",
       "3 2023-01-03 13:32:51+00:00   \n",
       "4 2023-01-01 06:54:57+00:00   \n",
       "\n",
       "                                     renderedContent  sentiment_vader  \\\n",
       "0  Thiem gibt vor Davis-Cup-Duell mit Kroatien En...              0.0   \n",
       "1  Österreich in Bestbesetzung ins Davis-Cup-Duel...              0.0   \n",
       "2  Großer Ansturm? Was der Schengen-Beitritt Kroa...              0.0   \n",
       "3  Kritik in Kroatien über Preiserhöhungen infolg...              0.0   \n",
       "4  Kroatien führt den Euro ein und wird Schengenl...              0.0   \n",
       "\n",
       "   sentiment_textblob  \n",
       "0                 0.0  \n",
       "1                 0.0  \n",
       "2                 0.0  \n",
       "3                 0.0  \n",
       "4                 0.0  "
      ]
     },
     "execution_count": 459,
     "metadata": {},
     "output_type": "execute_result"
    }
   ],
   "source": [
    "df_kroatien = get_country(df_tweets, croatia, serbia)\n",
    "\n",
    "\n",
    "df_kroatien.head()"
   ]
  },
  {
   "cell_type": "markdown",
   "id": "ab9b5104-1475-4fe7-93d2-64f604353e40",
   "metadata": {},
   "source": [
    "#### Find tweets about both Serbia and Croatia"
   ]
  },
  {
   "cell_type": "code",
   "execution_count": 460,
   "id": "37898f0b-18a5-4fe7-bf96-2de67927f998",
   "metadata": {},
   "outputs": [
    {
     "name": "stdout",
     "output_type": "stream",
     "text": [
      "15 tweets\n"
     ]
    },
    {
     "data": {
      "text/html": [
       "<div>\n",
       "<style scoped>\n",
       "    .dataframe tbody tr th:only-of-type {\n",
       "        vertical-align: middle;\n",
       "    }\n",
       "\n",
       "    .dataframe tbody tr th {\n",
       "        vertical-align: top;\n",
       "    }\n",
       "\n",
       "    .dataframe thead th {\n",
       "        text-align: right;\n",
       "    }\n",
       "</style>\n",
       "<table border=\"1\" class=\"dataframe\">\n",
       "  <thead>\n",
       "    <tr style=\"text-align: right;\">\n",
       "      <th></th>\n",
       "      <th>date</th>\n",
       "      <th>renderedContent</th>\n",
       "      <th>sentiment_vader</th>\n",
       "      <th>sentiment_textblob</th>\n",
       "    </tr>\n",
       "  </thead>\n",
       "  <tbody>\n",
       "    <tr>\n",
       "      <th>0</th>\n",
       "      <td>2022-12-07 19:56:37+00:00</td>\n",
       "      <td>Fifa bestraft Kroatien, Serbien und Saudi-Arab...</td>\n",
       "      <td>0.0</td>\n",
       "      <td>0.0</td>\n",
       "    </tr>\n",
       "    <tr>\n",
       "      <th>1</th>\n",
       "      <td>2020-06-17 05:03:48+00:00</td>\n",
       "      <td>\"Kosmo\" künftig auf Deutsch und Bosnisch/Kroat...</td>\n",
       "      <td>0.0</td>\n",
       "      <td>0.0</td>\n",
       "    </tr>\n",
       "    <tr>\n",
       "      <th>2</th>\n",
       "      <td>2020-03-30 10:17:37+00:00</td>\n",
       "      <td>In Kroatien verurteilter serbischer Ex-Milizen...</td>\n",
       "      <td>0.0</td>\n",
       "      <td>0.0</td>\n",
       "    </tr>\n",
       "    <tr>\n",
       "      <th>3</th>\n",
       "      <td>2020-03-15 15:54:06+00:00</td>\n",
       "      <td>Informationen zum Coronavirus in Bosnisch/Kroa...</td>\n",
       "      <td>0.0</td>\n",
       "      <td>0.0</td>\n",
       "    </tr>\n",
       "    <tr>\n",
       "      <th>4</th>\n",
       "      <td>2019-09-09 15:22:25+00:00</td>\n",
       "      <td>Neue Spannungen zwischen Kroatien und Serbien:...</td>\n",
       "      <td>0.0</td>\n",
       "      <td>0.0</td>\n",
       "    </tr>\n",
       "  </tbody>\n",
       "</table>\n",
       "</div>"
      ],
      "text/plain": [
       "                       date  \\\n",
       "0 2022-12-07 19:56:37+00:00   \n",
       "1 2020-06-17 05:03:48+00:00   \n",
       "2 2020-03-30 10:17:37+00:00   \n",
       "3 2020-03-15 15:54:06+00:00   \n",
       "4 2019-09-09 15:22:25+00:00   \n",
       "\n",
       "                                     renderedContent  sentiment_vader  \\\n",
       "0  Fifa bestraft Kroatien, Serbien und Saudi-Arab...              0.0   \n",
       "1  \"Kosmo\" künftig auf Deutsch und Bosnisch/Kroat...              0.0   \n",
       "2  In Kroatien verurteilter serbischer Ex-Milizen...              0.0   \n",
       "3  Informationen zum Coronavirus in Bosnisch/Kroa...              0.0   \n",
       "4  Neue Spannungen zwischen Kroatien und Serbien:...              0.0   \n",
       "\n",
       "   sentiment_textblob  \n",
       "0                 0.0  \n",
       "1                 0.0  \n",
       "2                 0.0  \n",
       "3                 0.0  \n",
       "4                 0.0  "
      ]
     },
     "execution_count": 460,
     "metadata": {},
     "output_type": "execute_result"
    }
   ],
   "source": [
    "df_both = df_tweets[\n",
    "    [\"date\", \"renderedContent\", \"sentiment_vader\", \"sentiment_textblob\"]\n",
    "].copy()\n",
    "\n",
    "df_both = df_both.loc[\n",
    "    df_both.renderedContent.str.lower().str.contains(\"|\".join(croatia), regex=True)\n",
    "    & df_both.renderedContent.str.lower().str.contains(\"|\".join(serbia), regex=True)\n",
    "].reset_index(drop=True)\n",
    "\n",
    "\n",
    "print(len(df_both), \"tweets\")\n",
    "\n",
    "\n",
    "df_both.head()"
   ]
  },
  {
   "cell_type": "markdown",
   "id": "9a9ef801-bd21-4942-847e-326156502f38",
   "metadata": {},
   "source": [
    "#### Controls: Find tweets about other countries (Romania, Hungary, Finland)"
   ]
  },
  {
   "cell_type": "code",
   "execution_count": 461,
   "id": "1b06440a-d861-4a48-b881-93bc540ec873",
   "metadata": {},
   "outputs": [
    {
     "data": {
      "text/html": [
       "<div>\n",
       "<style scoped>\n",
       "    .dataframe tbody tr th:only-of-type {\n",
       "        vertical-align: middle;\n",
       "    }\n",
       "\n",
       "    .dataframe tbody tr th {\n",
       "        vertical-align: top;\n",
       "    }\n",
       "\n",
       "    .dataframe thead th {\n",
       "        text-align: right;\n",
       "    }\n",
       "</style>\n",
       "<table border=\"1\" class=\"dataframe\">\n",
       "  <thead>\n",
       "    <tr style=\"text-align: right;\">\n",
       "      <th></th>\n",
       "      <th>date</th>\n",
       "      <th>renderedContent</th>\n",
       "      <th>sentiment_vader</th>\n",
       "      <th>sentiment_textblob</th>\n",
       "    </tr>\n",
       "  </thead>\n",
       "  <tbody>\n",
       "    <tr>\n",
       "      <th>0</th>\n",
       "      <td>2023-01-20 14:55:06+00:00</td>\n",
       "      <td>Influencer Tate weiterhin in U-Haft in Rumänie...</td>\n",
       "      <td>0.0</td>\n",
       "      <td>0.0</td>\n",
       "    </tr>\n",
       "    <tr>\n",
       "      <th>1</th>\n",
       "      <td>2023-01-20 08:37:35+00:00</td>\n",
       "      <td>Rumänien: Auf Populismus folgt Populismus im S...</td>\n",
       "      <td>0.0</td>\n",
       "      <td>0.0</td>\n",
       "    </tr>\n",
       "    <tr>\n",
       "      <th>2</th>\n",
       "      <td>2023-01-19 15:11:34+00:00</td>\n",
       "      <td>Rumäniens Botschafter kehrt auf Posten in Wien...</td>\n",
       "      <td>0.0</td>\n",
       "      <td>0.0</td>\n",
       "    </tr>\n",
       "    <tr>\n",
       "      <th>3</th>\n",
       "      <td>2023-01-17 12:08:56+00:00</td>\n",
       "      <td>Gewalt an der Grenze: Der rumänische Bauernauf...</td>\n",
       "      <td>0.0</td>\n",
       "      <td>0.0</td>\n",
       "    </tr>\n",
       "    <tr>\n",
       "      <th>4</th>\n",
       "      <td>2023-01-15 11:30:47+00:00</td>\n",
       "      <td>Luxusautos von Frauenhasser Andrew Tate in Rum...</td>\n",
       "      <td>0.0</td>\n",
       "      <td>0.0</td>\n",
       "    </tr>\n",
       "  </tbody>\n",
       "</table>\n",
       "</div>"
      ],
      "text/plain": [
       "                       date  \\\n",
       "0 2023-01-20 14:55:06+00:00   \n",
       "1 2023-01-20 08:37:35+00:00   \n",
       "2 2023-01-19 15:11:34+00:00   \n",
       "3 2023-01-17 12:08:56+00:00   \n",
       "4 2023-01-15 11:30:47+00:00   \n",
       "\n",
       "                                     renderedContent  sentiment_vader  \\\n",
       "0  Influencer Tate weiterhin in U-Haft in Rumänie...              0.0   \n",
       "1  Rumänien: Auf Populismus folgt Populismus im S...              0.0   \n",
       "2  Rumäniens Botschafter kehrt auf Posten in Wien...              0.0   \n",
       "3  Gewalt an der Grenze: Der rumänische Bauernauf...              0.0   \n",
       "4  Luxusautos von Frauenhasser Andrew Tate in Rum...              0.0   \n",
       "\n",
       "   sentiment_textblob  \n",
       "0                 0.0  \n",
       "1                 0.0  \n",
       "2                 0.0  \n",
       "3                 0.0  \n",
       "4                 0.0  "
      ]
     },
     "execution_count": 461,
     "metadata": {},
     "output_type": "execute_result"
    }
   ],
   "source": [
    "df_rumanien = get_country(df_tweets, romania)\n",
    "\n",
    "\n",
    "df_rumanien.head()"
   ]
  },
  {
   "cell_type": "code",
   "execution_count": 462,
   "id": "035bcff6-8e72-41ae-b7bc-c496ee13cd0e",
   "metadata": {},
   "outputs": [
    {
     "data": {
      "text/html": [
       "<div>\n",
       "<style scoped>\n",
       "    .dataframe tbody tr th:only-of-type {\n",
       "        vertical-align: middle;\n",
       "    }\n",
       "\n",
       "    .dataframe tbody tr th {\n",
       "        vertical-align: top;\n",
       "    }\n",
       "\n",
       "    .dataframe thead th {\n",
       "        text-align: right;\n",
       "    }\n",
       "</style>\n",
       "<table border=\"1\" class=\"dataframe\">\n",
       "  <thead>\n",
       "    <tr style=\"text-align: right;\">\n",
       "      <th></th>\n",
       "      <th>date</th>\n",
       "      <th>renderedContent</th>\n",
       "      <th>sentiment_vader</th>\n",
       "      <th>sentiment_textblob</th>\n",
       "    </tr>\n",
       "  </thead>\n",
       "  <tbody>\n",
       "    <tr>\n",
       "      <th>0</th>\n",
       "      <td>2023-01-17 13:09:14+00:00</td>\n",
       "      <td>EU friert Erasmusmittel für ungarische Privatu...</td>\n",
       "      <td>0.0</td>\n",
       "      <td>0.0</td>\n",
       "    </tr>\n",
       "    <tr>\n",
       "      <th>1</th>\n",
       "      <td>2023-01-17 08:11:51+00:00</td>\n",
       "      <td>Schattendorf will den Grenzübergang zu Ungarn ...</td>\n",
       "      <td>0.0</td>\n",
       "      <td>0.0</td>\n",
       "    </tr>\n",
       "    <tr>\n",
       "      <th>2</th>\n",
       "      <td>2023-01-16 09:59:40+00:00</td>\n",
       "      <td>Ungarischer Philosoph Gáspár Miklós Tamás gest...</td>\n",
       "      <td>0.0</td>\n",
       "      <td>0.0</td>\n",
       "    </tr>\n",
       "    <tr>\n",
       "      <th>3</th>\n",
       "      <td>2023-01-05 09:38:03+00:00</td>\n",
       "      <td>Ungarischer Verleger und Schauspieler Geza Mor...</td>\n",
       "      <td>0.0</td>\n",
       "      <td>0.0</td>\n",
       "    </tr>\n",
       "    <tr>\n",
       "      <th>4</th>\n",
       "      <td>2022-12-28 17:12:47+00:00</td>\n",
       "      <td>Karl Schwarzenberg: \"Österreich muss eine klar...</td>\n",
       "      <td>0.0</td>\n",
       "      <td>0.0</td>\n",
       "    </tr>\n",
       "  </tbody>\n",
       "</table>\n",
       "</div>"
      ],
      "text/plain": [
       "                       date  \\\n",
       "0 2023-01-17 13:09:14+00:00   \n",
       "1 2023-01-17 08:11:51+00:00   \n",
       "2 2023-01-16 09:59:40+00:00   \n",
       "3 2023-01-05 09:38:03+00:00   \n",
       "4 2022-12-28 17:12:47+00:00   \n",
       "\n",
       "                                     renderedContent  sentiment_vader  \\\n",
       "0  EU friert Erasmusmittel für ungarische Privatu...              0.0   \n",
       "1  Schattendorf will den Grenzübergang zu Ungarn ...              0.0   \n",
       "2  Ungarischer Philosoph Gáspár Miklós Tamás gest...              0.0   \n",
       "3  Ungarischer Verleger und Schauspieler Geza Mor...              0.0   \n",
       "4  Karl Schwarzenberg: \"Österreich muss eine klar...              0.0   \n",
       "\n",
       "   sentiment_textblob  \n",
       "0                 0.0  \n",
       "1                 0.0  \n",
       "2                 0.0  \n",
       "3                 0.0  \n",
       "4                 0.0  "
      ]
     },
     "execution_count": 462,
     "metadata": {},
     "output_type": "execute_result"
    }
   ],
   "source": [
    "df_ungarn = get_country(df_tweets, hungary)\n",
    "\n",
    "\n",
    "df_ungarn.head()"
   ]
  },
  {
   "cell_type": "code",
   "execution_count": 331,
   "id": "c62fd111-dbee-4fe3-a9ef-5db37de48390",
   "metadata": {},
   "outputs": [
    {
     "name": "stdout",
     "output_type": "stream",
     "text": [
      "201 tweets\n"
     ]
    },
    {
     "data": {
      "text/html": [
       "<div>\n",
       "<style scoped>\n",
       "    .dataframe tbody tr th:only-of-type {\n",
       "        vertical-align: middle;\n",
       "    }\n",
       "\n",
       "    .dataframe tbody tr th {\n",
       "        vertical-align: top;\n",
       "    }\n",
       "\n",
       "    .dataframe thead th {\n",
       "        text-align: right;\n",
       "    }\n",
       "</style>\n",
       "<table border=\"1\" class=\"dataframe\">\n",
       "  <thead>\n",
       "    <tr style=\"text-align: right;\">\n",
       "      <th></th>\n",
       "      <th>date</th>\n",
       "      <th>renderedContent</th>\n",
       "      <th>sentiment_vader</th>\n",
       "      <th>sentiment_textblob</th>\n",
       "    </tr>\n",
       "  </thead>\n",
       "  <tbody>\n",
       "    <tr>\n",
       "      <th>0</th>\n",
       "      <td>2023-01-24 09:57:36+00:00</td>\n",
       "      <td>Finnland öffnet sich für mögliche Nato-Mitglie...</td>\n",
       "      <td>0.0000</td>\n",
       "      <td>0.0</td>\n",
       "    </tr>\n",
       "    <tr>\n",
       "      <th>1</th>\n",
       "      <td>2022-12-23 11:16:41+00:00</td>\n",
       "      <td>Zwei Favoriten für den Chefinnenposten bei der...</td>\n",
       "      <td>0.0000</td>\n",
       "      <td>0.0</td>\n",
       "    </tr>\n",
       "    <tr>\n",
       "      <th>2</th>\n",
       "      <td>2022-12-15 16:55:34+00:00</td>\n",
       "      <td>Salzburger Softwarefirma Findologic an finnisc...</td>\n",
       "      <td>0.0000</td>\n",
       "      <td>0.0</td>\n",
       "    </tr>\n",
       "    <tr>\n",
       "      <th>3</th>\n",
       "      <td>2022-11-18 09:44:31+00:00</td>\n",
       "      <td>Levi ruft die Frauen: Slalom-Doppel in Finnlan...</td>\n",
       "      <td>-0.5994</td>\n",
       "      <td>0.0</td>\n",
       "    </tr>\n",
       "    <tr>\n",
       "      <th>4</th>\n",
       "      <td>2022-11-15 09:59:35+00:00</td>\n",
       "      <td>\"Helsinki-Syndrom\": Arte-Serie über finnische ...</td>\n",
       "      <td>0.0000</td>\n",
       "      <td>0.0</td>\n",
       "    </tr>\n",
       "  </tbody>\n",
       "</table>\n",
       "</div>"
      ],
      "text/plain": [
       "                       date  \\\n",
       "0 2023-01-24 09:57:36+00:00   \n",
       "1 2022-12-23 11:16:41+00:00   \n",
       "2 2022-12-15 16:55:34+00:00   \n",
       "3 2022-11-18 09:44:31+00:00   \n",
       "4 2022-11-15 09:59:35+00:00   \n",
       "\n",
       "                                     renderedContent  sentiment_vader  \\\n",
       "0  Finnland öffnet sich für mögliche Nato-Mitglie...           0.0000   \n",
       "1  Zwei Favoriten für den Chefinnenposten bei der...           0.0000   \n",
       "2  Salzburger Softwarefirma Findologic an finnisc...           0.0000   \n",
       "3  Levi ruft die Frauen: Slalom-Doppel in Finnlan...          -0.5994   \n",
       "4  \"Helsinki-Syndrom\": Arte-Serie über finnische ...           0.0000   \n",
       "\n",
       "   sentiment_textblob  \n",
       "0                 0.0  \n",
       "1                 0.0  \n",
       "2                 0.0  \n",
       "3                 0.0  \n",
       "4                 0.0  "
      ]
     },
     "execution_count": 331,
     "metadata": {},
     "output_type": "execute_result"
    }
   ],
   "source": [
    "df_finnland = get_country(df_tweets, finland)\n",
    "\n",
    "\n",
    "df_finnland.head()"
   ]
  },
  {
   "cell_type": "code",
   "execution_count": 290,
   "id": "aa5a722d-1629-4b17-becc-5257da6a0c4e",
   "metadata": {},
   "outputs": [],
   "source": [
    "from scipy.stats import ttest_ind\n",
    "from pingouin import ttest"
   ]
  },
  {
   "cell_type": "markdown",
   "id": "422f57ef-f5c5-4ef2-af5c-aebb72a684d8",
   "metadata": {},
   "source": [
    "*t*-Test"
   ]
  },
  {
   "cell_type": "code",
   "execution_count": 296,
   "id": "a3872b3b-c09a-4c05-bb0c-cf11224616b7",
   "metadata": {},
   "outputs": [
    {
     "data": {
      "text/html": [
       "<div>\n",
       "<style scoped>\n",
       "    .dataframe tbody tr th:only-of-type {\n",
       "        vertical-align: middle;\n",
       "    }\n",
       "\n",
       "    .dataframe tbody tr th {\n",
       "        vertical-align: top;\n",
       "    }\n",
       "\n",
       "    .dataframe thead th {\n",
       "        text-align: right;\n",
       "    }\n",
       "</style>\n",
       "<table border=\"1\" class=\"dataframe\">\n",
       "  <thead>\n",
       "    <tr style=\"text-align: right;\">\n",
       "      <th></th>\n",
       "      <th>T</th>\n",
       "      <th>dof</th>\n",
       "      <th>alternative</th>\n",
       "      <th>p-val</th>\n",
       "      <th>CI95%</th>\n",
       "      <th>cohen-d</th>\n",
       "      <th>BF10</th>\n",
       "      <th>power</th>\n",
       "    </tr>\n",
       "  </thead>\n",
       "  <tbody>\n",
       "    <tr>\n",
       "      <th>T-test</th>\n",
       "      <td>2.40124</td>\n",
       "      <td>714.20459</td>\n",
       "      <td>greater</td>\n",
       "      <td>0.008297</td>\n",
       "      <td>[0.0, inf]</td>\n",
       "      <td>0.166272</td>\n",
       "      <td>2.636</td>\n",
       "      <td>0.766431</td>\n",
       "    </tr>\n",
       "  </tbody>\n",
       "</table>\n",
       "</div>"
      ],
      "text/plain": [
       "              T        dof alternative     p-val       CI95%   cohen-d   BF10  \\\n",
       "T-test  2.40124  714.20459     greater  0.008297  [0.0, inf]  0.166272  2.636   \n",
       "\n",
       "           power  \n",
       "T-test  0.766431  "
      ]
     },
     "execution_count": 296,
     "metadata": {},
     "output_type": "execute_result"
    }
   ],
   "source": [
    "ttest(df_kroatien.textblob, df_serbien.textblob, alternative=\"greater\")"
   ]
  },
  {
   "cell_type": "markdown",
   "id": "61e8fad7-2301-4783-bd41-6d1d3f6fbd1b",
   "metadata": {},
   "source": [
    "Permutation test"
   ]
  },
  {
   "cell_type": "code",
   "execution_count": 294,
   "id": "ca612c45-f64e-42f8-8521-d8a235ed4bf9",
   "metadata": {},
   "outputs": [
    {
     "data": {
      "text/plain": [
       "Ttest_indResult(statistic=2.3739712585793256, pvalue=0.00758)"
      ]
     },
     "execution_count": 294,
     "metadata": {},
     "output_type": "execute_result"
    }
   ],
   "source": [
    "ttest_ind(\n",
    "    df_kroatien.textblob,\n",
    "    df_serbien.textblob,\n",
    "    permutations=100_000,\n",
    "    alternative=\"greater\",\n",
    ")"
   ]
  },
  {
   "cell_type": "markdown",
   "id": "eba31db3-6a3e-44c2-b99c-0ff5dadaa8f5",
   "metadata": {},
   "source": [
    "<div class=\"alert alert-info\">More positive coverage of Croatia over Serbia is significant, but the difference is small.</div>"
   ]
  },
  {
   "cell_type": "markdown",
   "id": "2aa91aae-77bb-4c2f-8428-6eb7848d11fd",
   "metadata": {},
   "source": [
    "*t*-Tests vs baseline"
   ]
  },
  {
   "cell_type": "code",
   "execution_count": 276,
   "id": "ce659fba-d8a2-4b11-9dd7-dbdf98dee0af",
   "metadata": {},
   "outputs": [],
   "source": [
    "df_tweets[\"textblob\"] = df_tweets.renderedContent.apply(lambda x: TextBlob(x).polarity)\n",
    "\n",
    "df_tweets.textblob.mean()"
   ]
  },
  {
   "cell_type": "code",
   "execution_count": 279,
   "id": "662b3ef3-41ac-4428-ae88-33ba3d6f9126",
   "metadata": {},
   "outputs": [
    {
     "data": {
      "text/plain": [
       "Ttest_indResult(statistic=1.0841799157571503, pvalue=0.27828599339664145)"
      ]
     },
     "execution_count": 279,
     "metadata": {},
     "output_type": "execute_result"
    }
   ],
   "source": [
    "ttest_ind(df_kroatien.textblob, df_tweets.textblob)"
   ]
  },
  {
   "cell_type": "code",
   "execution_count": 280,
   "id": "46fcea95-2e3d-47d1-8725-e14001b8e41d",
   "metadata": {},
   "outputs": [
    {
     "data": {
      "text/plain": [
       "Ttest_indResult(statistic=-0.9645822727402891, pvalue=0.33475493745064844)"
      ]
     },
     "execution_count": 280,
     "metadata": {},
     "output_type": "execute_result"
    }
   ],
   "source": [
    "ttest_ind(df_serbien.textblob, df_tweets.textblob)"
   ]
  }
 ],
 "metadata": {
  "kernelspec": {
   "display_name": "Python 3 (ipykernel)",
   "language": "python",
   "name": "python3"
  },
  "language_info": {
   "codemirror_mode": {
    "name": "ipython",
    "version": 3
   },
   "file_extension": ".py",
   "mimetype": "text/x-python",
   "name": "python",
   "nbconvert_exporter": "python",
   "pygments_lexer": "ipython3",
   "version": "3.9.13"
  }
 },
 "nbformat": 4,
 "nbformat_minor": 5
}
