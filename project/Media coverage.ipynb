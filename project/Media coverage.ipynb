{
 "cells": [
  {
   "cell_type": "markdown",
   "id": "4f2ebc25-2803-4203-94f7-2fbc0792bba5",
   "metadata": {},
   "source": [
    "Analyzing Media Coverage Of Other Countries in Austria\n",
    "===\n",
    "\n",
    "\n",
    "The aim of this project is to find out how reporting in Austria's print media about certain countries has changed over time (sentiment, which topics). In two further steps, I would also like to go down to the level of the individual newspapers and their authors and take an explorative look at whether there are tendencies/bias here. As countries of interest I choose Balkan countries because of their proximity to Austria and their long history of conflict.\n",
    "\n",
    "    Text corpora: Austrian newspaper articles (or their respective twitter posts)\n",
    "    Language: German\n",
    "    Time: 2000–2022\n",
    "    Method: Adding country labels to the articles, Sentiment Scores (, extracting underlying topics of the articles, e.g. with fuzzy topic modeling) \n",
    "    \n",
    "According to https://de.wikipedia.org/wiki/Liste_%C3%B6sterreichischer_Zeitungen_und_Zeitschriften derstandard.at and krone.at reach the most people online, they also cover Austrian society quite well. So, initially, I will focus on these two and might add some more newspapers at a later stage."
   ]
  },
  {
   "cell_type": "markdown",
   "id": "081e0c21-e47d-40aa-9380-68ee2f79db70",
   "metadata": {},
   "source": [
    "* Focus on 2 countries: Serbia and Croatia (like Austria now a EU country)\n",
    "* I will label an article with \"Serbia\" if the ratio of amount of words that relate to \"Serbia\"  compared to words that relate to \"Croatia\" is greater than 4\n",
    "* I will also try to find out if there are certain authors who are responsible for a certain tendency.\n",
    "* Another analysis could be build upon the ratio of \"Serbia\" and \"Albania\" or \"Kosovo\" "
   ]
  },
  {
   "cell_type": "code",
   "execution_count": 1,
   "id": "eec6929b-dce0-4b83-9ca8-604f4cb90b92",
   "metadata": {
    "tags": []
   },
   "outputs": [
    {
     "data": {
      "text/html": [
       "\n",
       "                <script type=\"application/javascript\" id=\"jupyter_black\">\n",
       "                (function() {\n",
       "                    if (window.IPython === undefined) {\n",
       "                        return\n",
       "                    }\n",
       "                    var msg = \"WARNING: it looks like you might have loaded \" +\n",
       "                        \"jupyter_black in a non-lab notebook with \" +\n",
       "                        \"`is_lab=True`. Please double check, and if \" +\n",
       "                        \"loading with `%load_ext` please review the README!\"\n",
       "                    console.log(msg)\n",
       "                    alert(msg)\n",
       "                })()\n",
       "                </script>\n",
       "                "
      ],
      "text/plain": [
       "<IPython.core.display.HTML object>"
      ]
     },
     "metadata": {},
     "output_type": "display_data"
    }
   ],
   "source": [
    "import jupyter_black\n",
    "\n",
    "jupyter_black.load()"
   ]
  },
  {
   "cell_type": "code",
   "execution_count": 178,
   "id": "e94fe83f-5986-4487-87b0-69c28beffad0",
   "metadata": {},
   "outputs": [],
   "source": [
    "import os\n",
    "import json\n",
    "import subprocess\n",
    "import pandas as pd\n",
    "import seaborn as sns\n",
    "import matplotlib.pyplot as plt\n",
    "\n",
    "\n",
    "data_dir = \"data/twitter\"\n",
    "\n",
    "if os.path.exists(data_dir) == False:\n",
    "    os.makedirs(data_dir)\n",
    "\n",
    "\n",
    "def dl_user(user, max_results=None, local=False):\n",
    "    \"\"\"\n",
    "    Function to download tweets by username.\n",
    "    Set local to True, if tweets have already\n",
    "    been downloaded and are available in data_dir.\n",
    "\n",
    "    Returns a DataFrame.\n",
    "\n",
    "    \"\"\"\n",
    "\n",
    "    if local == False:\n",
    "        with open(data_dir + f\"/user-{user}.json\", \"w+\") as fo:\n",
    "            if max_results == None:\n",
    "                cmd_list = [\"snscrape\", \"--jsonl\", \"twitter-user\", user]\n",
    "            else:\n",
    "                cmd_list = [\n",
    "                    \"snscrape\",\n",
    "                    \"--jsonl\",\n",
    "                    \"-n \" + str(max_results),\n",
    "                    \"twitter-user\",\n",
    "                    user,\n",
    "                ]\n",
    "            p = subprocess.Popen(cmd_list, stdout=fo)\n",
    "            p.wait()\n",
    "\n",
    "    with open(data_dir + f\"/user-{user}.json\", \"r\") as fo:\n",
    "        tweets = fo.readlines()\n",
    "\n",
    "    tweets = [json.loads(tweets[i]) for i in range(0, len(tweets))]\n",
    "    print(\"loaded\", len(tweets), \"tweets\\n\")\n",
    "\n",
    "    df_tweets = pd.DataFrame(tweets)\n",
    "    df_tweets[\"date\"] = pd.to_datetime(df_tweets[\"date\"])\n",
    "\n",
    "    return df_tweets"
   ]
  },
  {
   "cell_type": "markdown",
   "id": "e241f950-b2f3-4d09-afd5-7f97137af3f3",
   "metadata": {},
   "source": [
    "# 1. Scraping newspaper articles\n",
    "\n",
    "## 1.1. derStandard.at\n"
   ]
  },
  {
   "cell_type": "code",
   "execution_count": 53,
   "id": "81c012de-9c75-4cf2-8645-5d26f9e466f1",
   "metadata": {},
   "outputs": [
    {
     "name": "stdout",
     "output_type": "stream",
     "text": [
      "loaded 272281 tweets\n",
      "\n"
     ]
    },
    {
     "data": {
      "text/html": [
       "<div>\n",
       "<style scoped>\n",
       "    .dataframe tbody tr th:only-of-type {\n",
       "        vertical-align: middle;\n",
       "    }\n",
       "\n",
       "    .dataframe tbody tr th {\n",
       "        vertical-align: top;\n",
       "    }\n",
       "\n",
       "    .dataframe thead th {\n",
       "        text-align: right;\n",
       "    }\n",
       "</style>\n",
       "<table border=\"1\" class=\"dataframe\">\n",
       "  <thead>\n",
       "    <tr style=\"text-align: right;\">\n",
       "      <th></th>\n",
       "      <th>date</th>\n",
       "      <th>rawContent</th>\n",
       "      <th>hashtags</th>\n",
       "    </tr>\n",
       "  </thead>\n",
       "  <tbody>\n",
       "    <tr>\n",
       "      <th>0</th>\n",
       "      <td>2023-01-25 09:50:19+00:00</td>\n",
       "      <td>Massive Ausfälle bei Microsoft Teams und Outlo...</td>\n",
       "      <td>None</td>\n",
       "    </tr>\n",
       "    <tr>\n",
       "      <th>1</th>\n",
       "      <td>2023-01-25 09:50:18+00:00</td>\n",
       "      <td>ÖSV-Techniktrainer Kroisleitner: \"Potenzial de...</td>\n",
       "      <td>None</td>\n",
       "    </tr>\n",
       "    <tr>\n",
       "      <th>2</th>\n",
       "      <td>2023-01-25 09:50:17+00:00</td>\n",
       "      <td>Leopard-Lieferung: Selenskyj will mehr als \"ze...</td>\n",
       "      <td>None</td>\n",
       "    </tr>\n",
       "    <tr>\n",
       "      <th>3</th>\n",
       "      <td>2023-01-25 09:33:54+00:00</td>\n",
       "      <td>\"IBES\" 2023: Jana ist raus – Werden Sie sie ve...</td>\n",
       "      <td>None</td>\n",
       "    </tr>\n",
       "    <tr>\n",
       "      <th>4</th>\n",
       "      <td>2023-01-25 09:04:32+00:00</td>\n",
       "      <td>Chanels Haute Couture: Show führte in den Zirk...</td>\n",
       "      <td>None</td>\n",
       "    </tr>\n",
       "  </tbody>\n",
       "</table>\n",
       "</div>"
      ],
      "text/plain": [
       "                       date  \\\n",
       "0 2023-01-25 09:50:19+00:00   \n",
       "1 2023-01-25 09:50:18+00:00   \n",
       "2 2023-01-25 09:50:17+00:00   \n",
       "3 2023-01-25 09:33:54+00:00   \n",
       "4 2023-01-25 09:04:32+00:00   \n",
       "\n",
       "                                          rawContent hashtags  \n",
       "0  Massive Ausfälle bei Microsoft Teams und Outlo...     None  \n",
       "1  ÖSV-Techniktrainer Kroisleitner: \"Potenzial de...     None  \n",
       "2  Leopard-Lieferung: Selenskyj will mehr als \"ze...     None  \n",
       "3  \"IBES\" 2023: Jana ist raus – Werden Sie sie ve...     None  \n",
       "4  Chanels Haute Couture: Show führte in den Zirk...     None  "
      ]
     },
     "execution_count": 53,
     "metadata": {},
     "output_type": "execute_result"
    }
   ],
   "source": [
    "df_tweets = dl_user(\"derstandardat\", max_results=None, local=True)\n",
    "\n",
    "\n",
    "df_tweets[[\"date\", \"rawContent\", \"hashtags\"]].head()"
   ]
  },
  {
   "cell_type": "markdown",
   "id": "47896d33-d51e-4da8-8278-40139dc424a8",
   "metadata": {},
   "source": [
    "### Which hashtags are most often used by this user"
   ]
  },
  {
   "cell_type": "code",
   "execution_count": 112,
   "id": "58842c11-bdc5-45f6-a7b8-99a09904a098",
   "metadata": {},
   "outputs": [
    {
     "data": {
      "text/plain": [
       "260302"
      ]
     },
     "execution_count": 112,
     "metadata": {},
     "output_type": "execute_result"
    }
   ],
   "source": [
    "len_nohashtags = sum(pd.isna(df_tweets.hashtags))\n",
    "len_nohashtags"
   ]
  },
  {
   "cell_type": "code",
   "execution_count": 113,
   "id": "04a99d47-f10e-4b93-947c-52467434261c",
   "metadata": {},
   "outputs": [],
   "source": [
    "hashtags = list(df_tweets.hashtags.dropna())"
   ]
  },
  {
   "cell_type": "code",
   "execution_count": 114,
   "id": "c0be9f96-2be6-4f6d-875f-1b4cf078cb8f",
   "metadata": {},
   "outputs": [
    {
     "data": {
      "text/plain": [
       "11979"
      ]
     },
     "execution_count": 114,
     "metadata": {},
     "output_type": "execute_result"
    }
   ],
   "source": [
    "len(hashtags)"
   ]
  },
  {
   "cell_type": "code",
   "execution_count": 115,
   "id": "0047c260-fd04-41fa-8a7d-839afa2e1a1c",
   "metadata": {},
   "outputs": [
    {
     "data": {
      "text/plain": [
       "['Bundespressedienst']"
      ]
     },
     "execution_count": 115,
     "metadata": {},
     "output_type": "execute_result"
    }
   ],
   "source": [
    "hashtags[623]"
   ]
  },
  {
   "cell_type": "code",
   "execution_count": 119,
   "id": "cd2ff2c4-5a2d-457d-aa0d-31ebbfbb2229",
   "metadata": {},
   "outputs": [
    {
     "data": {
      "text/plain": [
       "15147"
      ]
     },
     "execution_count": 119,
     "metadata": {},
     "output_type": "execute_result"
    }
   ],
   "source": [
    "hashtags_flat = [item for sublist in hashtags for item in sublist]\n",
    "\n",
    "len(hashtags_flat)"
   ]
  },
  {
   "cell_type": "code",
   "execution_count": 180,
   "id": "7ac2dbf9-7145-491d-800c-c520924c3c52",
   "metadata": {},
   "outputs": [
    {
     "data": {
      "image/png": "[encoded data removed]",
      "text/plain": [
       "<Figure size 640x480 with 1 Axes>"
      ]
     },
     "metadata": {},
     "output_type": "display_data"
    }
   ],
   "source": [
    "df_hashtags = pd.concat(\n",
    "    [\n",
    "        pd.DataFrame(hashtags_flat, columns=[\"hashtags\"]),\n",
    "        df_tweets.loc[pd.isna(df_tweets.hashtags), [\"hashtags\"]],\n",
    "    ],\n",
    "    sort=False,\n",
    ").astype(str)\n",
    "\n",
    "df_hashtags[\"count\"] = 1\n",
    "df_hashtags = (\n",
    "    df_hashtags.groupby([\"hashtags\"])\n",
    "    .count()\n",
    "    .sort_values(\"count\", ascending=False)\n",
    "    .reset_index()\n",
    ")\n",
    "\n",
    "# all the ones tha occur only few times and label them as \"other\" and group again\n",
    "df_hashtags.loc[df_hashtags[\"count\"] <= 50, \"hashtags\"] = \"other\"\n",
    "df_hashtags = (\n",
    "    df_hashtags.groupby([\"hashtags\"])\n",
    "    .sum()\n",
    "    .sort_values(\"count\", ascending=False)\n",
    "    .reset_index()\n",
    ")\n",
    "\n",
    "# drop the first 2 most frequently hashtags (None, other)\n",
    "sns.barplot(x=\"hashtags\", y=\"count\", data=df_hashtags.drop(0, axis=0).drop(1, axis=0))\n",
    "plt.xticks(rotation=90);"
   ]
  },
  {
   "cell_type": "markdown",
   "id": "f9704697-3b4d-440c-9e37-12769f1b0326",
   "metadata": {},
   "source": [
    "### Which countries are the tweets referring to?\n",
    "\n",
    "words to filter for:\n",
    "- serbien  \n",
    "- serbe\n",
    "- serbin\n",
    "- serben\n",
    "- serbisch\n",
    "- serbo"
   ]
  },
  {
   "cell_type": "code",
   "execution_count": 203,
   "id": "89050836-cec6-4dc2-9676-6aceedb1deeb",
   "metadata": {
    "tags": []
   },
   "outputs": [
    {
     "data": {
      "text/html": [
       "<div>\n",
       "<style scoped>\n",
       "    .dataframe tbody tr th:only-of-type {\n",
       "        vertical-align: middle;\n",
       "    }\n",
       "\n",
       "    .dataframe tbody tr th {\n",
       "        vertical-align: top;\n",
       "    }\n",
       "\n",
       "    .dataframe thead th {\n",
       "        text-align: right;\n",
       "    }\n",
       "</style>\n",
       "<table border=\"1\" class=\"dataframe\">\n",
       "  <thead>\n",
       "    <tr style=\"text-align: right;\">\n",
       "      <th></th>\n",
       "      <th>date</th>\n",
       "      <th>renderedContent</th>\n",
       "      <th>hashtags</th>\n",
       "    </tr>\n",
       "  </thead>\n",
       "  <tbody>\n",
       "    <tr>\n",
       "      <th>0</th>\n",
       "      <td>2023-01-23 21:45:59+00:00</td>\n",
       "      <td>Serbiens Präsident Vučić in Kosovo-Frage für \"...</td>\n",
       "      <td>None</td>\n",
       "    </tr>\n",
       "    <tr>\n",
       "      <th>1</th>\n",
       "      <td>2023-01-07 16:13:24+00:00</td>\n",
       "      <td>Spannungen im Nordkosovo: \"Serbien muss nun vo...</td>\n",
       "      <td>None</td>\n",
       "    </tr>\n",
       "    <tr>\n",
       "      <th>2</th>\n",
       "      <td>2023-01-06 20:24:57+00:00</td>\n",
       "      <td>Soldat im Kosovo verwundet Serben – Sorgen vor...</td>\n",
       "      <td>None</td>\n",
       "    </tr>\n",
       "    <tr>\n",
       "      <th>3</th>\n",
       "      <td>2022-12-29 16:58:50+00:00</td>\n",
       "      <td>Konflikt zwischen Kosovo und Serbien: Schlecht...</td>\n",
       "      <td>None</td>\n",
       "    </tr>\n",
       "    <tr>\n",
       "      <th>4</th>\n",
       "      <td>2022-12-28 17:12:47+00:00</td>\n",
       "      <td>Karl Schwarzenberg: \"Österreich muss eine klar...</td>\n",
       "      <td>None</td>\n",
       "    </tr>\n",
       "  </tbody>\n",
       "</table>\n",
       "</div>"
      ],
      "text/plain": [
       "                       date  \\\n",
       "0 2023-01-23 21:45:59+00:00   \n",
       "1 2023-01-07 16:13:24+00:00   \n",
       "2 2023-01-06 20:24:57+00:00   \n",
       "3 2022-12-29 16:58:50+00:00   \n",
       "4 2022-12-28 17:12:47+00:00   \n",
       "\n",
       "                                     renderedContent hashtags  \n",
       "0  Serbiens Präsident Vučić in Kosovo-Frage für \"...     None  \n",
       "1  Spannungen im Nordkosovo: \"Serbien muss nun vo...     None  \n",
       "2  Soldat im Kosovo verwundet Serben – Sorgen vor...     None  \n",
       "3  Konflikt zwischen Kosovo und Serbien: Schlecht...     None  \n",
       "4  Karl Schwarzenberg: \"Österreich muss eine klar...     None  "
      ]
     },
     "execution_count": 203,
     "metadata": {},
     "output_type": "execute_result"
    }
   ],
   "source": [
    "df_serbien = (\n",
    "    df_tweets.copy()\n",
    "    .loc[\n",
    "        df_tweets.renderedContent.str.lower().str.contains(\"serbien\")\n",
    "        | df_tweets.renderedContent.str.lower().str.contains(\"serbe\")  # incl. serben\n",
    "        | df_tweets.renderedContent.str.lower().str.contains(\"serbin\")\n",
    "        | df_tweets.renderedContent.str.lower().str.contains(\"serbisch\")\n",
    "        | df_tweets.renderedContent.str.lower().str.contains(\"serbo\"),\n",
    "        [\"date\", \"renderedContent\", \"hashtags\"],\n",
    "    ]\n",
    "    .reset_index(drop=True)\n",
    ")\n",
    "\n",
    "df_serbien.head()"
   ]
  },
  {
   "cell_type": "markdown",
   "id": "ebf76469-d9c3-4cdf-9344-e3e5c5d17d4f",
   "metadata": {},
   "source": [
    "words to filter for:\n",
    "- kroatien\n",
    "- kroate\n",
    "- kroatin\n",
    "- kroaten\n",
    "- kroatisch\n",
    "- kroato"
   ]
  },
  {
   "cell_type": "code",
   "execution_count": 202,
   "id": "56f86589-1e0f-4f1d-8861-f62674f6b5d4",
   "metadata": {
    "tags": []
   },
   "outputs": [
    {
     "data": {
      "text/html": [
       "<div>\n",
       "<style scoped>\n",
       "    .dataframe tbody tr th:only-of-type {\n",
       "        vertical-align: middle;\n",
       "    }\n",
       "\n",
       "    .dataframe tbody tr th {\n",
       "        vertical-align: top;\n",
       "    }\n",
       "\n",
       "    .dataframe thead th {\n",
       "        text-align: right;\n",
       "    }\n",
       "</style>\n",
       "<table border=\"1\" class=\"dataframe\">\n",
       "  <thead>\n",
       "    <tr style=\"text-align: right;\">\n",
       "      <th></th>\n",
       "      <th>date</th>\n",
       "      <th>renderedContent</th>\n",
       "      <th>hashtags</th>\n",
       "    </tr>\n",
       "  </thead>\n",
       "  <tbody>\n",
       "    <tr>\n",
       "      <th>0</th>\n",
       "      <td>2023-01-23 09:54:51+00:00</td>\n",
       "      <td>Thiem gibt vor Davis-Cup-Duell mit Kroatien En...</td>\n",
       "      <td>None</td>\n",
       "    </tr>\n",
       "    <tr>\n",
       "      <th>1</th>\n",
       "      <td>2023-01-06 11:28:36+00:00</td>\n",
       "      <td>Österreich in Bestbesetzung ins Davis-Cup-Duel...</td>\n",
       "      <td>None</td>\n",
       "    </tr>\n",
       "    <tr>\n",
       "      <th>2</th>\n",
       "      <td>2023-01-04 05:14:58+00:00</td>\n",
       "      <td>Großer Ansturm? Was der Schengen-Beitritt Kroa...</td>\n",
       "      <td>None</td>\n",
       "    </tr>\n",
       "    <tr>\n",
       "      <th>3</th>\n",
       "      <td>2023-01-03 13:32:51+00:00</td>\n",
       "      <td>Kritik in Kroatien über Preiserhöhungen infolg...</td>\n",
       "      <td>None</td>\n",
       "    </tr>\n",
       "    <tr>\n",
       "      <th>4</th>\n",
       "      <td>2023-01-01 06:54:57+00:00</td>\n",
       "      <td>Kroatien führt den Euro ein und wird Schengenl...</td>\n",
       "      <td>None</td>\n",
       "    </tr>\n",
       "  </tbody>\n",
       "</table>\n",
       "</div>"
      ],
      "text/plain": [
       "                       date  \\\n",
       "0 2023-01-23 09:54:51+00:00   \n",
       "1 2023-01-06 11:28:36+00:00   \n",
       "2 2023-01-04 05:14:58+00:00   \n",
       "3 2023-01-03 13:32:51+00:00   \n",
       "4 2023-01-01 06:54:57+00:00   \n",
       "\n",
       "                                     renderedContent hashtags  \n",
       "0  Thiem gibt vor Davis-Cup-Duell mit Kroatien En...     None  \n",
       "1  Österreich in Bestbesetzung ins Davis-Cup-Duel...     None  \n",
       "2  Großer Ansturm? Was der Schengen-Beitritt Kroa...     None  \n",
       "3  Kritik in Kroatien über Preiserhöhungen infolg...     None  \n",
       "4  Kroatien führt den Euro ein und wird Schengenl...     None  "
      ]
     },
     "execution_count": 202,
     "metadata": {},
     "output_type": "execute_result"
    }
   ],
   "source": [
    "df_kroatien = (\n",
    "    df_tweets.copy()\n",
    "    .loc[\n",
    "        df_tweets.renderedContent.str.lower().str.contains(\"kroatien\")\n",
    "        | df_tweets.renderedContent.str.lower().str.contains(\"kroate\")  # incl. serben\n",
    "        | df_tweets.renderedContent.str.lower().str.contains(\"kroatin\")\n",
    "        | df_tweets.renderedContent.str.lower().str.contains(\"kroatisch\")\n",
    "        | df_tweets.renderedContent.str.lower().str.contains(\"kroato\"),\n",
    "        [\"date\", \"renderedContent\", \"hashtags\"],\n",
    "    ]\n",
    "    .reset_index(drop=True)\n",
    ")\n",
    "\n",
    "df_kroatien.head()"
   ]
  },
  {
   "cell_type": "code",
   "execution_count": null,
   "id": "37898f0b-18a5-4fe7-bf96-2de67927f998",
   "metadata": {},
   "outputs": [],
   "source": []
  }
 ],
 "metadata": {
  "kernelspec": {
   "display_name": "Python 3 (ipykernel)",
   "language": "python",
   "name": "python3"
  },
  "language_info": {
   "codemirror_mode": {
    "name": "ipython",
    "version": 3
   },
   "file_extension": ".py",
   "mimetype": "text/x-python",
   "name": "python",
   "nbconvert_exporter": "python",
   "pygments_lexer": "ipython3",
   "version": "3.9.13"
  }
 },
 "nbformat": 4,
 "nbformat_minor": 5
}
