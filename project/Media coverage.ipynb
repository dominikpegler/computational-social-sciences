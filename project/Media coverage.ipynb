{
 "cells": [
  {
   "cell_type": "markdown",
   "id": "4f2ebc25-2803-4203-94f7-2fbc0792bba5",
   "metadata": {
    "tags": []
   },
   "source": [
    "Analyzing Media Coverage Of Other Countries in Austria\n",
    "===\n",
    "\n",
    "\n",
    "The aim of this project is to find out how reporting in Austria's print media about certain countries has changed over time (sentiment, which topics). In two further steps, I would also like to go down to the level of the individual newspapers and their authors and take an explorative look at whether there are tendencies/bias here. As countries of interest I choose Balkan countries because of their proximity to Austria and their long history of conflict.\n",
    "\n",
    "    Text corpora: Austrian newspaper articles (or their respective twitter posts)\n",
    "    Language: German\n",
    "    Time: 2000–2022\n",
    "    Method: Adding country labels to the articles, Sentiment Scores (, extracting underlying topics of the articles, e.g. with fuzzy topic modeling) \n",
    "    \n",
    "According to https://de.wikipedia.org/wiki/Liste_%C3%B6sterreichischer_Zeitungen_und_Zeitschriften derstandard.at and krone.at reach the most people online, they also cover Austrian society quite well. So, initially, I will focus on these two and might add some more newspapers at a later stage."
   ]
  },
  {
   "cell_type": "markdown",
   "id": "081e0c21-e47d-40aa-9380-68ee2f79db70",
   "metadata": {},
   "source": [
    "* Focus on 2 countries: Serbia and Croatia (like Austria now a EU country)\n",
    "* I will label an article with \"Serbia\" if the ratio of amount of words that relate to \"Serbia\"  compared to words that relate to \"Croatia\" is greater than 4\n",
    "* I will also try to find out if there are certain authors who are responsible for a certain tendency.\n",
    "* Another analysis could be build upon the ratio of \"Serbia\" and \"Albania\" or \"Kosovo\"\n",
    "\n",
    "**Hypothesis 1: Tweets about Croatia are on average more positive than tweets about Serbia**"
   ]
  },
  {
   "cell_type": "markdown",
   "id": "e8e1d347-48c9-4879-b923-50b743f59f79",
   "metadata": {},
   "source": [
    "Inspiration:\n",
    "https://www.brookings.edu/blog/africa-in-focus/2017/08/08/exploring-media-sentiment-around-africa-country-analysis/"
   ]
  },
  {
   "cell_type": "code",
   "execution_count": 1,
   "id": "eec6929b-dce0-4b83-9ca8-604f4cb90b92",
   "metadata": {
    "tags": []
   },
   "outputs": [
    {
     "data": {
      "text/html": [
       "\n",
       "                <script type=\"application/javascript\" id=\"jupyter_black\">\n",
       "                (function() {\n",
       "                    if (window.IPython === undefined) {\n",
       "                        return\n",
       "                    }\n",
       "                    var msg = \"WARNING: it looks like you might have loaded \" +\n",
       "                        \"jupyter_black in a non-lab notebook with \" +\n",
       "                        \"`is_lab=True`. Please double check, and if \" +\n",
       "                        \"loading with `%load_ext` please review the README!\"\n",
       "                    console.log(msg)\n",
       "                    alert(msg)\n",
       "                })()\n",
       "                </script>\n",
       "                "
      ],
      "text/plain": [
       "<IPython.core.display.HTML object>"
      ]
     },
     "metadata": {},
     "output_type": "display_data"
    }
   ],
   "source": [
    "import jupyter_black\n",
    "\n",
    "jupyter_black.load()"
   ]
  },
  {
   "cell_type": "code",
   "execution_count": 2,
   "id": "e94fe83f-5986-4487-87b0-69c28beffad0",
   "metadata": {},
   "outputs": [],
   "source": [
    "import os\n",
    "import json\n",
    "import subprocess\n",
    "import pandas as pd\n",
    "import seaborn as sns\n",
    "import matplotlib.pyplot as plt\n",
    "import regex as re\n",
    "from bs4 import BeautifulSoup\n",
    "import requests\n",
    "\n",
    "\n",
    "data_dir = \"data/twitter\"\n",
    "\n",
    "if os.path.exists(data_dir) == False:\n",
    "    os.makedirs(data_dir)\n",
    "\n",
    "\n",
    "def dl_user(user, max_results=None, local=False):\n",
    "    \"\"\"\n",
    "    Function to download tweets by username.\n",
    "    Set local to True, if tweets have already\n",
    "    been downloaded and are available in data_dir.\n",
    "\n",
    "    Returns a DataFrame.\n",
    "\n",
    "    \"\"\"\n",
    "\n",
    "    if local == False:\n",
    "        with open(data_dir + f\"/user-{user}.json\", \"w+\") as fo:\n",
    "            if max_results == None:\n",
    "                cmd_list = [\"snscrape\", \"--jsonl\", \"twitter-user\", user]\n",
    "            else:\n",
    "                cmd_list = [\n",
    "                    \"snscrape\",\n",
    "                    \"--jsonl\",\n",
    "                    \"-n \" + str(max_results),\n",
    "                    \"twitter-user\",\n",
    "                    user,\n",
    "                ]\n",
    "            p = subprocess.Popen(cmd_list, stdout=fo)\n",
    "            p.wait()\n",
    "\n",
    "    with open(data_dir + f\"/user-{user}.json\", \"r\") as fo:\n",
    "        tweets = fo.readlines()\n",
    "\n",
    "    tweets = [json.loads(tweets[i]) for i in range(0, len(tweets))]\n",
    "    print(\"loaded\", len(tweets), \"tweets\\n\")\n",
    "\n",
    "    df_tweets = pd.DataFrame(tweets)\n",
    "    df_tweets[\"date\"] = pd.to_datetime(df_tweets[\"date\"])\n",
    "\n",
    "    return df_tweets[[\"date\", \"rawContent\"]]"
   ]
  },
  {
   "cell_type": "markdown",
   "id": "e241f950-b2f3-4d09-afd5-7f97137af3f3",
   "metadata": {},
   "source": [
    "# 1. Scraping newspaper articles\n",
    "\n",
    "## 1.1. derStandard.at\n"
   ]
  },
  {
   "cell_type": "code",
   "execution_count": 3,
   "id": "81c012de-9c75-4cf2-8645-5d26f9e466f1",
   "metadata": {},
   "outputs": [
    {
     "name": "stdout",
     "output_type": "stream",
     "text": [
      "loaded 272281 tweets\n",
      "\n"
     ]
    },
    {
     "data": {
      "text/html": [
       "<div>\n",
       "<style scoped>\n",
       "    .dataframe tbody tr th:only-of-type {\n",
       "        vertical-align: middle;\n",
       "    }\n",
       "\n",
       "    .dataframe tbody tr th {\n",
       "        vertical-align: top;\n",
       "    }\n",
       "\n",
       "    .dataframe thead th {\n",
       "        text-align: right;\n",
       "    }\n",
       "</style>\n",
       "<table border=\"1\" class=\"dataframe\">\n",
       "  <thead>\n",
       "    <tr style=\"text-align: right;\">\n",
       "      <th></th>\n",
       "      <th>date</th>\n",
       "      <th>rawContent</th>\n",
       "    </tr>\n",
       "  </thead>\n",
       "  <tbody>\n",
       "    <tr>\n",
       "      <th>0</th>\n",
       "      <td>2023-01-25 09:50:19+00:00</td>\n",
       "      <td>Massive Ausfälle bei Microsoft Teams und Outlo...</td>\n",
       "    </tr>\n",
       "    <tr>\n",
       "      <th>1</th>\n",
       "      <td>2023-01-25 09:50:18+00:00</td>\n",
       "      <td>ÖSV-Techniktrainer Kroisleitner: \"Potenzial de...</td>\n",
       "    </tr>\n",
       "    <tr>\n",
       "      <th>2</th>\n",
       "      <td>2023-01-25 09:50:17+00:00</td>\n",
       "      <td>Leopard-Lieferung: Selenskyj will mehr als \"ze...</td>\n",
       "    </tr>\n",
       "    <tr>\n",
       "      <th>3</th>\n",
       "      <td>2023-01-25 09:33:54+00:00</td>\n",
       "      <td>\"IBES\" 2023: Jana ist raus – Werden Sie sie ve...</td>\n",
       "    </tr>\n",
       "    <tr>\n",
       "      <th>4</th>\n",
       "      <td>2023-01-25 09:04:32+00:00</td>\n",
       "      <td>Chanels Haute Couture: Show führte in den Zirk...</td>\n",
       "    </tr>\n",
       "  </tbody>\n",
       "</table>\n",
       "</div>"
      ],
      "text/plain": [
       "                       date                                         rawContent\n",
       "0 2023-01-25 09:50:19+00:00  Massive Ausfälle bei Microsoft Teams und Outlo...\n",
       "1 2023-01-25 09:50:18+00:00  ÖSV-Techniktrainer Kroisleitner: \"Potenzial de...\n",
       "2 2023-01-25 09:50:17+00:00  Leopard-Lieferung: Selenskyj will mehr als \"ze...\n",
       "3 2023-01-25 09:33:54+00:00  \"IBES\" 2023: Jana ist raus – Werden Sie sie ve...\n",
       "4 2023-01-25 09:04:32+00:00  Chanels Haute Couture: Show führte in den Zirk..."
      ]
     },
     "execution_count": 3,
     "metadata": {},
     "output_type": "execute_result"
    }
   ],
   "source": [
    "df_tweets = dl_user(\"derstandardat\", max_results=None, local=True)\n",
    "\n",
    "df_tweets.head()"
   ]
  },
  {
   "cell_type": "markdown",
   "id": "a76d04a4-d432-4514-8e7a-da3e7e1fd088",
   "metadata": {},
   "source": [
    "### Extract urls for complete articles"
   ]
  },
  {
   "cell_type": "markdown",
   "id": "3ccd8680-87ce-4d79-89d4-254a5423eb2e",
   "metadata": {},
   "source": [
    "<div class=\"alert alert-warning\">Takes ages! Speed this up!!!</div>"
   ]
  },
  {
   "cell_type": "code",
   "execution_count": 4,
   "id": "9788923b-da54-45f1-847d-5718885c07dd",
   "metadata": {},
   "outputs": [],
   "source": [
    "def get_url(txt):\n",
    "    \"\"\"\n",
    "    Get url from tweet.\n",
    "\n",
    "    \"\"\"\n",
    "\n",
    "    try:\n",
    "        return re.search(\"(?P<url>https?://[^\\s]+)\", txt).captures()[0]\n",
    "    except:\n",
    "        return \"\"\n",
    "\n",
    "\n",
    "from time import sleep\n",
    "\n",
    "\n",
    "def get_direct_url(url):\n",
    "    \"\"\"\n",
    "    Direct url\n",
    "\n",
    "    \"\"\"\n",
    "\n",
    "    url_direct = None\n",
    "\n",
    "    if url != \"\":\n",
    "        while url_direct == None:\n",
    "            print(\".\", end=\"\")\n",
    "            try:\n",
    "                page = requests.get(\n",
    "                    url, headers={\"User-Agent\": \"Mozilla/5.0\"}, timeout=(0.5, 27)\n",
    "                )\n",
    "                html = BeautifulSoup(page.text, \"html.parser\")\n",
    "                url_direct = html.find(\"link\")\n",
    "                if url_direct == None:\n",
    "                    url_direct = \"\"\n",
    "                else:\n",
    "                    url_direct = url_direct.get(\"href\")\n",
    "            except Exception as e:\n",
    "                ...\n",
    "        print(\"1\", end=\"\")\n",
    "\n",
    "        sleep(0.5)\n",
    "\n",
    "        return url_direct\n",
    "\n",
    "    else:\n",
    "        print(\"0\", end=\"\")\n",
    "        return url"
   ]
  },
  {
   "cell_type": "markdown",
   "id": "8720c15a-9c18-423d-a930-9005345fc6dc",
   "metadata": {},
   "source": [
    "First tep: Get short url from text"
   ]
  },
  {
   "cell_type": "code",
   "execution_count": 11,
   "id": "b9f73b42-8604-496d-af20-577444241afc",
   "metadata": {},
   "outputs": [
    {
     "name": "stdout",
     "output_type": "stream",
     "text": [
      "CPU times: user 2.8 s, sys: 9.62 ms, total: 2.81 s\n",
      "Wall time: 2.81 s\n"
     ]
    }
   ],
   "source": [
    "%%time\n",
    "\n",
    "\n",
    "df_tweets[\"url\"] = df_tweets[\"rawContent\"].apply(lambda x: get_url(x))"
   ]
  },
  {
   "cell_type": "markdown",
   "id": "8b9c0496-cc94-42d6-a37d-feb1e90e554e",
   "metadata": {},
   "source": [
    "### Preprocess text\n",
    "\n",
    "<div class=\"alert alert-warning\">Necessary?</div>"
   ]
  },
  {
   "cell_type": "code",
   "execution_count": 19,
   "id": "fc59be2e-f422-4e72-8c56-18b5c6119a83",
   "metadata": {},
   "outputs": [],
   "source": [
    "#\n",
    "#\n",
    "#"
   ]
  },
  {
   "cell_type": "markdown",
   "id": "a35ad424-218f-4749-bf97-21c0d6f80f63",
   "metadata": {},
   "source": [
    "### Save to file"
   ]
  },
  {
   "cell_type": "code",
   "execution_count": 14,
   "id": "45305dc1-78e1-472f-a43a-9b11d00adbba",
   "metadata": {},
   "outputs": [],
   "source": [
    "df_tweets.to_csv(data_dir + \"/media_coverage_with_url.csv\", index=False)"
   ]
  },
  {
   "cell_type": "markdown",
   "id": "98cab103-62ac-433d-bfb9-47950d8a58a0",
   "metadata": {},
   "source": [
    "### Load from file"
   ]
  },
  {
   "cell_type": "code",
   "execution_count": 5,
   "id": "a801b063-e755-425c-822c-b684cdc863d4",
   "metadata": {},
   "outputs": [
    {
     "data": {
      "text/html": [
       "<div>\n",
       "<style scoped>\n",
       "    .dataframe tbody tr th:only-of-type {\n",
       "        vertical-align: middle;\n",
       "    }\n",
       "\n",
       "    .dataframe tbody tr th {\n",
       "        vertical-align: top;\n",
       "    }\n",
       "\n",
       "    .dataframe thead th {\n",
       "        text-align: right;\n",
       "    }\n",
       "</style>\n",
       "<table border=\"1\" class=\"dataframe\">\n",
       "  <thead>\n",
       "    <tr style=\"text-align: right;\">\n",
       "      <th></th>\n",
       "      <th>date</th>\n",
       "      <th>rawContent</th>\n",
       "      <th>url</th>\n",
       "    </tr>\n",
       "  </thead>\n",
       "  <tbody>\n",
       "    <tr>\n",
       "      <th>272432</th>\n",
       "      <td>2009-05-13 13:14:27+00:00</td>\n",
       "      <td>Mölzer im Chat: \"Kulturkampf zwischen Christen...</td>\n",
       "      <td>http://derStandard.at/EU</td>\n",
       "    </tr>\n",
       "    <tr>\n",
       "      <th>272433</th>\n",
       "      <td>2009-05-12 14:24:59+00:00</td>\n",
       "      <td>Morgen geht es weiter mit den EU-Chats. Andrea...</td>\n",
       "      <td>http://derStandard.at/EU</td>\n",
       "    </tr>\n",
       "    <tr>\n",
       "      <th>272434</th>\n",
       "      <td>2009-05-12 14:23:09+00:00</td>\n",
       "      <td>\"Wenn wir die EU nicht hätten, müssten wir sie...</td>\n",
       "      <td>NaN</td>\n",
       "    </tr>\n",
       "    <tr>\n",
       "      <th>272435</th>\n",
       "      <td>2009-03-26 16:16:10+00:00</td>\n",
       "      <td>Neu: Permalinks für Postings, Artikel und Schw...</td>\n",
       "      <td>http://tinyurl.com/deqklo</td>\n",
       "    </tr>\n",
       "    <tr>\n",
       "      <th>272436</th>\n",
       "      <td>2009-03-26 15:49:04+00:00</td>\n",
       "      <td>First tweet!</td>\n",
       "      <td>NaN</td>\n",
       "    </tr>\n",
       "  </tbody>\n",
       "</table>\n",
       "</div>"
      ],
      "text/plain": [
       "                             date  \\\n",
       "272432  2009-05-13 13:14:27+00:00   \n",
       "272433  2009-05-12 14:24:59+00:00   \n",
       "272434  2009-05-12 14:23:09+00:00   \n",
       "272435  2009-03-26 16:16:10+00:00   \n",
       "272436  2009-03-26 15:49:04+00:00   \n",
       "\n",
       "                                               rawContent  \\\n",
       "272432  Mölzer im Chat: \"Kulturkampf zwischen Christen...   \n",
       "272433  Morgen geht es weiter mit den EU-Chats. Andrea...   \n",
       "272434  \"Wenn wir die EU nicht hätten, müssten wir sie...   \n",
       "272435  Neu: Permalinks für Postings, Artikel und Schw...   \n",
       "272436                                       First tweet!   \n",
       "\n",
       "                              url  \n",
       "272432   http://derStandard.at/EU  \n",
       "272433   http://derStandard.at/EU  \n",
       "272434                        NaN  \n",
       "272435  http://tinyurl.com/deqklo  \n",
       "272436                        NaN  "
      ]
     },
     "execution_count": 5,
     "metadata": {},
     "output_type": "execute_result"
    }
   ],
   "source": [
    "df_tweets = pd.read_csv(data_dir + \"/media_coverage_with_url.csv\")\n",
    "df_tweets.tail()"
   ]
  },
  {
   "cell_type": "markdown",
   "id": "2fe07524-ce69-4cd3-862c-a1d7ebf403a0",
   "metadata": {
    "tags": []
   },
   "source": [
    "\n",
    "### Compute sentiment scores for all tweets"
   ]
  },
  {
   "cell_type": "markdown",
   "id": "e0a86bc2-d0c6-42ec-89fd-e1c5e9ebcafc",
   "metadata": {},
   "source": [
    "#### Textblob"
   ]
  },
  {
   "cell_type": "code",
   "execution_count": 67,
   "id": "38ae376b-07da-4609-abaa-41d991d1309d",
   "metadata": {},
   "outputs": [],
   "source": [
    "from textblob_de import TextBlobDE as TextBlob\n",
    "\n",
    "\n",
    "df_tweets[\"sentiment_textblob\"] = df_tweets.rawContent.apply(\n",
    "    lambda x: TextBlob(x).polarity\n",
    ")"
   ]
  },
  {
   "cell_type": "markdown",
   "id": "ebdc4865-b1b9-40ed-abf3-a1e25c1d59a9",
   "metadata": {},
   "source": [
    "Save"
   ]
  },
  {
   "cell_type": "code",
   "execution_count": 73,
   "id": "a51156d0-fc54-46fd-9ed9-37b970f2bd48",
   "metadata": {},
   "outputs": [],
   "source": [
    "df_tweets.to_csv(data_dir + \"/media_coverage_with_sentiment.csv\", index=False)"
   ]
  },
  {
   "cell_type": "markdown",
   "id": "83deb961-500f-470d-b3b0-899386f5ed4a",
   "metadata": {},
   "source": [
    "Load"
   ]
  },
  {
   "cell_type": "code",
   "execution_count": 74,
   "id": "8d965ea9-640f-4ccc-9ad8-76575beaee73",
   "metadata": {},
   "outputs": [
    {
     "data": {
      "text/html": [
       "<div>\n",
       "<style scoped>\n",
       "    .dataframe tbody tr th:only-of-type {\n",
       "        vertical-align: middle;\n",
       "    }\n",
       "\n",
       "    .dataframe tbody tr th {\n",
       "        vertical-align: top;\n",
       "    }\n",
       "\n",
       "    .dataframe thead th {\n",
       "        text-align: right;\n",
       "    }\n",
       "</style>\n",
       "<table border=\"1\" class=\"dataframe\">\n",
       "  <thead>\n",
       "    <tr style=\"text-align: right;\">\n",
       "      <th></th>\n",
       "      <th>date</th>\n",
       "      <th>rawContent</th>\n",
       "      <th>url</th>\n",
       "      <th>sentiment_textblob</th>\n",
       "    </tr>\n",
       "  </thead>\n",
       "  <tbody>\n",
       "    <tr>\n",
       "      <th>0</th>\n",
       "      <td>2023-01-25 09:50:19+00:00</td>\n",
       "      <td>Massive Ausfälle bei Microsoft Teams und Outlo...</td>\n",
       "      <td>https://t.co/8vICahGNxr</td>\n",
       "      <td>-1.0</td>\n",
       "    </tr>\n",
       "    <tr>\n",
       "      <th>1</th>\n",
       "      <td>2023-01-25 09:50:18+00:00</td>\n",
       "      <td>ÖSV-Techniktrainer Kroisleitner: \"Potenzial de...</td>\n",
       "      <td>https://t.co/84r4nazixi</td>\n",
       "      <td>0.0</td>\n",
       "    </tr>\n",
       "    <tr>\n",
       "      <th>2</th>\n",
       "      <td>2023-01-25 09:50:17+00:00</td>\n",
       "      <td>Leopard-Lieferung: Selenskyj will mehr als \"ze...</td>\n",
       "      <td>https://t.co/YnMS20JJ6X</td>\n",
       "      <td>0.0</td>\n",
       "    </tr>\n",
       "    <tr>\n",
       "      <th>3</th>\n",
       "      <td>2023-01-25 09:33:54+00:00</td>\n",
       "      <td>\"IBES\" 2023: Jana ist raus – Werden Sie sie ve...</td>\n",
       "      <td>https://t.co/RKk4pRXw1Y</td>\n",
       "      <td>0.0</td>\n",
       "    </tr>\n",
       "    <tr>\n",
       "      <th>4</th>\n",
       "      <td>2023-01-25 09:04:32+00:00</td>\n",
       "      <td>Chanels Haute Couture: Show führte in den Zirk...</td>\n",
       "      <td>https://t.co/mg2CIOEm7c</td>\n",
       "      <td>0.0</td>\n",
       "    </tr>\n",
       "  </tbody>\n",
       "</table>\n",
       "</div>"
      ],
      "text/plain": [
       "                        date  \\\n",
       "0  2023-01-25 09:50:19+00:00   \n",
       "1  2023-01-25 09:50:18+00:00   \n",
       "2  2023-01-25 09:50:17+00:00   \n",
       "3  2023-01-25 09:33:54+00:00   \n",
       "4  2023-01-25 09:04:32+00:00   \n",
       "\n",
       "                                          rawContent                      url  \\\n",
       "0  Massive Ausfälle bei Microsoft Teams und Outlo...  https://t.co/8vICahGNxr   \n",
       "1  ÖSV-Techniktrainer Kroisleitner: \"Potenzial de...  https://t.co/84r4nazixi   \n",
       "2  Leopard-Lieferung: Selenskyj will mehr als \"ze...  https://t.co/YnMS20JJ6X   \n",
       "3  \"IBES\" 2023: Jana ist raus – Werden Sie sie ve...  https://t.co/RKk4pRXw1Y   \n",
       "4  Chanels Haute Couture: Show führte in den Zirk...  https://t.co/mg2CIOEm7c   \n",
       "\n",
       "   sentiment_textblob  \n",
       "0                -1.0  \n",
       "1                 0.0  \n",
       "2                 0.0  \n",
       "3                 0.0  \n",
       "4                 0.0  "
      ]
     },
     "execution_count": 74,
     "metadata": {},
     "output_type": "execute_result"
    }
   ],
   "source": [
    "df_tweets = pd.read_csv(\n",
    "    data_dir + \"/media_coverage_with_sentiment.csv\",\n",
    "    parse_dates=[\"date\"],\n",
    ")\n",
    "df_tweets.head()"
   ]
  },
  {
   "cell_type": "markdown",
   "id": "3739b510-55a4-4c06-9f56-b4b3c9002270",
   "metadata": {},
   "source": [
    "#### germansentiment"
   ]
  },
  {
   "cell_type": "code",
   "execution_count": 169,
   "id": "d6a90c30-7114-4e5f-a836-dfc31b4d62ef",
   "metadata": {},
   "outputs": [],
   "source": [
    "from germansentiment import SentimentModel\n",
    "\n",
    "gsm = SentimentModel()\n",
    "\n",
    "\n",
    "def german_sentiment(txt):\n",
    "    \"\"\"\n",
    "\n",
    "    returns sentiment score for\n",
    "    German language.\n",
    "\n",
    "    \"\"\"\n",
    "\n",
    "    classes, [probs] = gsm.predict_sentiment([txt], output_probabilities=True)\n",
    "    probs = dict(probs)\n",
    "\n",
    "    return probs[\"positive\"] - probs[\"negative\"]"
   ]
  },
  {
   "cell_type": "code",
   "execution_count": 182,
   "id": "da5701b3-cc2e-4e26-b007-7455da989455",
   "metadata": {},
   "outputs": [
    {
     "name": "stdout",
     "output_type": "stream",
     "text": [
      "CPU times: user 13h 18min 26s, sys: 6min 35s, total: 13h 25min 2s\n",
      "Wall time: 3h 22min 38s\n"
     ]
    }
   ],
   "source": [
    "%%time\n",
    "\n",
    "df_tweets[\"sentiment_gs\"] = df_tweets.rawContent.apply(lambda x: german_sentiment(x))"
   ]
  },
  {
   "cell_type": "code",
   "execution_count": 193,
   "id": "400a9d51-fcf5-4765-9dfe-d8a1ca1a18bf",
   "metadata": {},
   "outputs": [
    {
     "data": {
      "text/html": [
       "<div>\n",
       "<style scoped>\n",
       "    .dataframe tbody tr th:only-of-type {\n",
       "        vertical-align: middle;\n",
       "    }\n",
       "\n",
       "    .dataframe tbody tr th {\n",
       "        vertical-align: top;\n",
       "    }\n",
       "\n",
       "    .dataframe thead th {\n",
       "        text-align: right;\n",
       "    }\n",
       "</style>\n",
       "<table border=\"1\" class=\"dataframe\">\n",
       "  <thead>\n",
       "    <tr style=\"text-align: right;\">\n",
       "      <th></th>\n",
       "      <th>sentiment_textblob</th>\n",
       "      <th>sentiment_gs</th>\n",
       "    </tr>\n",
       "  </thead>\n",
       "  <tbody>\n",
       "    <tr>\n",
       "      <th>sentiment_textblob</th>\n",
       "      <td>1.000000</td>\n",
       "      <td>0.111037</td>\n",
       "    </tr>\n",
       "    <tr>\n",
       "      <th>sentiment_gs</th>\n",
       "      <td>0.111037</td>\n",
       "      <td>1.000000</td>\n",
       "    </tr>\n",
       "  </tbody>\n",
       "</table>\n",
       "</div>"
      ],
      "text/plain": [
       "                    sentiment_textblob  sentiment_gs\n",
       "sentiment_textblob            1.000000      0.111037\n",
       "sentiment_gs                  0.111037      1.000000"
      ]
     },
     "execution_count": 193,
     "metadata": {},
     "output_type": "execute_result"
    }
   ],
   "source": [
    "# Quick check of correlation between the 2 kind of sentiment scores\n",
    "\n",
    "df_tweets[[\"sentiment_textblob\", \"sentiment_gs\"]].corr()"
   ]
  },
  {
   "cell_type": "markdown",
   "id": "1fc82b75-a117-44a6-8091-8c60e7f746e9",
   "metadata": {},
   "source": [
    "Save"
   ]
  },
  {
   "cell_type": "code",
   "execution_count": 183,
   "id": "85ff13bc-0915-4faa-9ee2-da30b03629ce",
   "metadata": {},
   "outputs": [],
   "source": [
    "df_tweets.to_csv(data_dir + \"/media_coverage_with_sentiment2.csv\", index=False)"
   ]
  },
  {
   "cell_type": "markdown",
   "id": "f4b04ac6-13b4-4aa9-b873-a354e904e73a",
   "metadata": {},
   "source": [
    "Load"
   ]
  },
  {
   "cell_type": "code",
   "execution_count": 184,
   "id": "d838cbd1-4ef0-4c66-a7e6-89c8f143a9df",
   "metadata": {},
   "outputs": [
    {
     "data": {
      "text/html": [
       "<div>\n",
       "<style scoped>\n",
       "    .dataframe tbody tr th:only-of-type {\n",
       "        vertical-align: middle;\n",
       "    }\n",
       "\n",
       "    .dataframe tbody tr th {\n",
       "        vertical-align: top;\n",
       "    }\n",
       "\n",
       "    .dataframe thead th {\n",
       "        text-align: right;\n",
       "    }\n",
       "</style>\n",
       "<table border=\"1\" class=\"dataframe\">\n",
       "  <thead>\n",
       "    <tr style=\"text-align: right;\">\n",
       "      <th></th>\n",
       "      <th>date</th>\n",
       "      <th>rawContent</th>\n",
       "      <th>url</th>\n",
       "      <th>sentiment_textblob</th>\n",
       "      <th>sentiment_gs</th>\n",
       "    </tr>\n",
       "  </thead>\n",
       "  <tbody>\n",
       "    <tr>\n",
       "      <th>0</th>\n",
       "      <td>2023-01-25 09:50:19+00:00</td>\n",
       "      <td>Massive Ausfälle bei Microsoft Teams und Outlo...</td>\n",
       "      <td>https://t.co/8vICahGNxr</td>\n",
       "      <td>-1.0</td>\n",
       "      <td>-0.995497</td>\n",
       "    </tr>\n",
       "    <tr>\n",
       "      <th>1</th>\n",
       "      <td>2023-01-25 09:50:18+00:00</td>\n",
       "      <td>ÖSV-Techniktrainer Kroisleitner: \"Potenzial de...</td>\n",
       "      <td>https://t.co/84r4nazixi</td>\n",
       "      <td>0.0</td>\n",
       "      <td>-0.002756</td>\n",
       "    </tr>\n",
       "    <tr>\n",
       "      <th>2</th>\n",
       "      <td>2023-01-25 09:50:17+00:00</td>\n",
       "      <td>Leopard-Lieferung: Selenskyj will mehr als \"ze...</td>\n",
       "      <td>https://t.co/YnMS20JJ6X</td>\n",
       "      <td>0.0</td>\n",
       "      <td>-0.000083</td>\n",
       "    </tr>\n",
       "    <tr>\n",
       "      <th>3</th>\n",
       "      <td>2023-01-25 09:33:54+00:00</td>\n",
       "      <td>\"IBES\" 2023: Jana ist raus – Werden Sie sie ve...</td>\n",
       "      <td>https://t.co/RKk4pRXw1Y</td>\n",
       "      <td>0.0</td>\n",
       "      <td>-0.001618</td>\n",
       "    </tr>\n",
       "    <tr>\n",
       "      <th>4</th>\n",
       "      <td>2023-01-25 09:04:32+00:00</td>\n",
       "      <td>Chanels Haute Couture: Show führte in den Zirk...</td>\n",
       "      <td>https://t.co/mg2CIOEm7c</td>\n",
       "      <td>0.0</td>\n",
       "      <td>-0.000021</td>\n",
       "    </tr>\n",
       "  </tbody>\n",
       "</table>\n",
       "</div>"
      ],
      "text/plain": [
       "                        date  \\\n",
       "0  2023-01-25 09:50:19+00:00   \n",
       "1  2023-01-25 09:50:18+00:00   \n",
       "2  2023-01-25 09:50:17+00:00   \n",
       "3  2023-01-25 09:33:54+00:00   \n",
       "4  2023-01-25 09:04:32+00:00   \n",
       "\n",
       "                                          rawContent                      url  \\\n",
       "0  Massive Ausfälle bei Microsoft Teams und Outlo...  https://t.co/8vICahGNxr   \n",
       "1  ÖSV-Techniktrainer Kroisleitner: \"Potenzial de...  https://t.co/84r4nazixi   \n",
       "2  Leopard-Lieferung: Selenskyj will mehr als \"ze...  https://t.co/YnMS20JJ6X   \n",
       "3  \"IBES\" 2023: Jana ist raus – Werden Sie sie ve...  https://t.co/RKk4pRXw1Y   \n",
       "4  Chanels Haute Couture: Show führte in den Zirk...  https://t.co/mg2CIOEm7c   \n",
       "\n",
       "   sentiment_textblob  sentiment_gs  \n",
       "0                -1.0     -0.995497  \n",
       "1                 0.0     -0.002756  \n",
       "2                 0.0     -0.000083  \n",
       "3                 0.0     -0.001618  \n",
       "4                 0.0     -0.000021  "
      ]
     },
     "execution_count": 184,
     "metadata": {},
     "output_type": "execute_result"
    }
   ],
   "source": [
    "df_tweets = pd.read_csv(\n",
    "    data_dir + \"/media_coverage_with_sentiment2.csv\",\n",
    "    parse_dates=[\"date\"],\n",
    ")\n",
    "df_tweets.head()"
   ]
  },
  {
   "cell_type": "markdown",
   "id": "d4150be4-3d1f-4ee8-8fdd-0b10b0cb7770",
   "metadata": {},
   "source": [
    "#### Flair (currently only classifies into OTHER and OFFENSIVE)"
   ]
  },
  {
   "cell_type": "raw",
   "id": "78423af4-d9d5-4bad-9794-f1ebcb44c82f",
   "metadata": {},
   "source": [
    "#!pip install flair\n",
    "\n",
    "from flair.models import TextClassifier\n",
    "from flair.data import Sentence\n",
    "\n",
    "classifier = TextClassifier.load(\"de-offensive-language\")\n",
    "\n",
    "\n",
    "def scale(val, input_range, output_range):\n",
    "    \"\"\"\n",
    "    returns scaled value for given\n",
    "    input and output range (tuple\n",
    "    with min and max value)\n",
    "\n",
    "    \"\"\"\n",
    "\n",
    "    if (val > input_range[1]) | (val < input_range[0]):\n",
    "        raise Exception(\"Value not in given input range!\")\n",
    "\n",
    "    scaled_value = (\n",
    "        (val - input_range[0])\n",
    "        * (output_range[1] - output_range[0])\n",
    "        / (input_range[1] - input_range[0])\n",
    "    ) + output_range[0]\n",
    "\n",
    "    return scaled_value\n",
    "\n",
    "\n",
    "def get_flair_score(txt):\n",
    "    \"\"\"\n",
    "    computes flair score and\n",
    "    makes it range fm 0 to 1\n",
    "    with 0 begin 100% negative and\n",
    "    1 being 100% positive.\n",
    "    \"\"\"\n",
    "    if txt == \"\":\n",
    "        val = 0.5\n",
    "    else:\n",
    "        s = Sentence(txt)\n",
    "        classifier.predict(s)\n",
    "        total_sentiment = s.labels[0]\n",
    "        assert total_sentiment.value in [\"POSITIVE\", \"NEGATIVE\", \"OTHER\"]\n",
    "\n",
    "        if total_sentiment.value == \"POSITIVE\":\n",
    "            val = total_sentiment.score\n",
    "        elif total_sentiment.value == \"NEGATIVE\":\n",
    "            val = 1 - total_sentiment.score\n",
    "        else:\n",
    "            val = 0.5  # other (neutral)\n",
    "\n",
    "    scaled_value = scale(val, (0, 1), (-1, 1))\n",
    "\n",
    "    return scaled_value"
   ]
  },
  {
   "cell_type": "raw",
   "id": "58537377-32a0-4662-bd50-b5f1762f1280",
   "metadata": {},
   "source": [
    "df_tweets[\"sentiment_flair\"] = df_tweets.rawContent.apply(\n",
    "    lambda x: get_flair_score(x)\n",
    ")"
   ]
  },
  {
   "cell_type": "markdown",
   "id": "f9704697-3b4d-440c-9e37-12769f1b0326",
   "metadata": {},
   "source": [
    "### Which countries are the tweets referring to (Serbia, Croatia)?"
   ]
  },
  {
   "cell_type": "code",
   "execution_count": 5,
   "id": "f012ada4-7f27-4577-87df-48c931dfa8ad",
   "metadata": {},
   "outputs": [],
   "source": [
    "countries = dict(\n",
    "    serbia=[\"serbien\", \"serbe\", \"serbin\", \"serbisch\", \"serbo\"],\n",
    "    croatia=[\"kroatien\", \"kroate\", \"kroatin\", \"kroatisch\", \"kroato\"],\n",
    "    romania=[\"rumänien\", \"rumäne\", \"rumänin\", \"rumänisch\"],\n",
    "    hungary=[\"ungarn\", \"ungar\", \"ungarin\", \"ungarisch\", \"ungaro\"],\n",
    "    finland=[\"finnland\", \"finne\", \"finnin\", \"finnisch\", \"finno\"],\n",
    "    norway=[\"norwegen\", \"norweger\", \"norwegisch\"],\n",
    "    sweden=[\"schweden\", \"schwedin\", \"schwedisch\"],\n",
    "    danmark=[\"dänisch\", \"dänen\", \"dänin\", \"dänisch\"],\n",
    "    poland=[\"polen\", \"pole\", \"polin\", \"polnisch\"],\n",
    "    bulgaria=[\"bulgarien\", \"bulgare\", \"bulgarin\", \"bulgarisch\"],\n",
    "    russia=[\"russland\", \"russe\", \"russin\", \"russen\", \"russisch\"],\n",
    "    ukraine=[\"ukraine\", \"ukrainisch\"],\n",
    "    germany=[\"deutschland\", \"deutsche\"],\n",
    "    frankreich=[\"frankreich\", \"franzose\", \"französi\"],\n",
    "    slovenia=[\"slowenien\", \"slowene\", \"sloweni\"],\n",
    "    italy=[\"italien\"],\n",
    "    spain=[\"spanien\", \"spanier\", \"spanisch\"],\n",
    "    portugal=[\"portual\", \"portugiese\", \"portugiesin\", \"portugiesisch\"],\n",
    "    switzerland=[\"schweiz\"],\n",
    "    austria=[\"österreich\"],\n",
    "    slovakia=[\"slowakei\", \"slowake\", \"slowakin\", \"slowakisch\"],\n",
    "    czechia=[\"tschechien\", \"tscheche\", \"tschechin\", \"tschechisch\"],\n",
    "    belarus=[\n",
    "        \"belarus\",\n",
    "        \"weißrussland\",\n",
    "        \"weissrussland\",\n",
    "        \"weißrussisch\",\n",
    "        \"weissrussisch\",\n",
    "        \"weißrusse\",\n",
    "        \"weissrusse\",\n",
    "        \"weißrussin\",\n",
    "        \"weissrussin\",\n",
    "    ],\n",
    "    bosnia=[\"bosnien\", \"bosnisch\", \"herzegowina\", \"bosnier\", \"herzegowinisch\"],\n",
    "    montenegro=[\"montenegro\", \"montenegriner\", \"montenegrinisch\"],\n",
    "    albania=[\"albanien\", \"albaner\", \"albanisch\"],\n",
    ")"
   ]
  },
  {
   "cell_type": "markdown",
   "id": "7d5d8dba-2da0-469f-8051-532ad7b662f0",
   "metadata": {},
   "source": [
    "#### Function for finding tweets about countries"
   ]
  },
  {
   "cell_type": "code",
   "execution_count": 6,
   "id": "310e1985-fe36-403b-9fe2-e818f7f98ff2",
   "metadata": {},
   "outputs": [],
   "source": [
    "def get_country(df_tweets, country, not_country=None, and_country=None):\n",
    "    \"\"\"\n",
    "\n",
    "    Filters DataFrame with tweets to country-\n",
    "    specific tweets.\n",
    "\n",
    "    Optional: Can exclude tweeds of specific other countries\n",
    "    via not_country variable.\n",
    "\n",
    "    \"\"\"\n",
    "    df_country = df_tweets[\n",
    "        [\"date\", \"rawContent\", \"url\", \"sentiment_gs\", \"sentiment_textblob\"]\n",
    "    ].copy()\n",
    "\n",
    "    if not_country != None:\n",
    "\n",
    "        df_country = df_country.loc[\n",
    "            df_country.rawContent.str.lower().str.contains(\n",
    "                \"|\".join(country), regex=True\n",
    "            )\n",
    "            & ~df_country.rawContent.str.lower().str.contains(\n",
    "                \"|\".join(not_country), regex=True\n",
    "            )\n",
    "        ].reset_index(drop=True)\n",
    "\n",
    "    else:\n",
    "        df_country = df_country.loc[\n",
    "            df_country.rawContent.str.lower().str.contains(\n",
    "                \"|\".join(country), regex=True\n",
    "            )\n",
    "        ].reset_index(drop=True)\n",
    "\n",
    "    return df_country"
   ]
  },
  {
   "cell_type": "markdown",
   "id": "a9e7ee74-a641-4837-a10a-f7ecb322c4c8",
   "metadata": {},
   "source": [
    "### Compare sentiments betweens countries"
   ]
  },
  {
   "cell_type": "code",
   "execution_count": 189,
   "id": "6a9dc806-6eee-4673-b0a6-fdcba0ca555a",
   "metadata": {},
   "outputs": [
    {
     "data": {
      "image/png": "[encoded data removed]",
      "text/plain": [
       "<Figure size 1000x1000 with 1 Axes>"
      ]
     },
     "metadata": {},
     "output_type": "display_data"
    }
   ],
   "source": [
    "df_scores = pd.DataFrame()\n",
    "\n",
    "for key in countries.keys():\n",
    "    df_scores_tmp = get_country(df_tweets, countries[key])[\n",
    "        [\"sentiment_gs\", \"sentiment_textblob\"]\n",
    "    ]\n",
    "    count = len(df_scores_tmp)\n",
    "    df_scores_tmp = pd.DataFrame(\n",
    "        df_scores_tmp.mean(),\n",
    "        columns=[key],\n",
    "    ).T\n",
    "    df_scores_tmp[\"count\"] = count\n",
    "    df_scores = pd.concat([df_scores, df_scores_tmp], sort=False)\n",
    "\n",
    "df_scores = df_scores.reset_index().rename(columns={\"index\": \"country\"})\n",
    "\n",
    "plt.figure(figsize=(10, 10))\n",
    "sns.scatterplot(\n",
    "    data=df_scores,\n",
    "    x=\"sentiment_gs\",\n",
    "    y=\"sentiment_textblob\",\n",
    "    hue=\"country\",\n",
    "    size=\"count\",\n",
    "    sizes=(40, 1600),\n",
    "    legend=False,\n",
    "    alpha=0.4,\n",
    ")\n",
    "\n",
    "for tup in df_scores.itertuples():\n",
    "    plt.annotate(tup[1].upper(), (tup[2], tup[3]))\n",
    "\n",
    "plt.tight_layout()"
   ]
  },
  {
   "cell_type": "code",
   "execution_count": 195,
   "id": "d4f54441-19f1-441b-894f-b718ed162eac",
   "metadata": {},
   "outputs": [
    {
     "data": {
      "text/html": [
       "<div>\n",
       "<style scoped>\n",
       "    .dataframe tbody tr th:only-of-type {\n",
       "        vertical-align: middle;\n",
       "    }\n",
       "\n",
       "    .dataframe tbody tr th {\n",
       "        vertical-align: top;\n",
       "    }\n",
       "\n",
       "    .dataframe thead th {\n",
       "        text-align: right;\n",
       "    }\n",
       "</style>\n",
       "<table border=\"1\" class=\"dataframe\">\n",
       "  <thead>\n",
       "    <tr style=\"text-align: right;\">\n",
       "      <th></th>\n",
       "      <th>sentiment_textblob</th>\n",
       "      <th>sentiment_gs</th>\n",
       "    </tr>\n",
       "  </thead>\n",
       "  <tbody>\n",
       "    <tr>\n",
       "      <th>sentiment_textblob</th>\n",
       "      <td>1.000000</td>\n",
       "      <td>0.065768</td>\n",
       "    </tr>\n",
       "    <tr>\n",
       "      <th>sentiment_gs</th>\n",
       "      <td>0.065768</td>\n",
       "      <td>1.000000</td>\n",
       "    </tr>\n",
       "  </tbody>\n",
       "</table>\n",
       "</div>"
      ],
      "text/plain": [
       "                    sentiment_textblob  sentiment_gs\n",
       "sentiment_textblob            1.000000      0.065768\n",
       "sentiment_gs                  0.065768      1.000000"
      ]
     },
     "execution_count": 195,
     "metadata": {},
     "output_type": "execute_result"
    }
   ],
   "source": [
    "# check correlation of sentiment scores fr these countries\n",
    "df_scores[[\"sentiment_textblob\", \"sentiment_gs\"]].corr()"
   ]
  },
  {
   "cell_type": "markdown",
   "id": "3fa60eb0-6b7c-4bff-b8cf-5310131b3a07",
   "metadata": {},
   "source": [
    "#### Find tweets about Serbia (but not Croatia)"
   ]
  },
  {
   "cell_type": "code",
   "execution_count": null,
   "id": "eefe604f-9a7b-400b-8f8c-8e5a50c72497",
   "metadata": {},
   "outputs": [],
   "source": [
    "%%time\n",
    "\n",
    "df_serbien = get_country(df_tweets, countries[\"serbia\"], countries[\"croatia\"])\n",
    "df_serbien[\"direct_url\"] = df_serbien[\"url\"].apply(lambda x: get_direct_url(x))\n",
    "\n",
    "df_serbien.head()"
   ]
  },
  {
   "cell_type": "markdown",
   "id": "b0889901-572f-4e2e-a8c8-b0293557a55c",
   "metadata": {},
   "source": [
    "#### Find tweets about Croatia (but not Serbia)"
   ]
  },
  {
   "cell_type": "code",
   "execution_count": null,
   "id": "396fff99-d3cb-4fd1-9143-2f0c5a6e5a30",
   "metadata": {
    "tags": []
   },
   "outputs": [],
   "source": [
    "%%time\n",
    "\n",
    "df_kroatien = get_country(df_tweets, countries[\"croatia\"], countries[\"serbia\"])\n",
    "df_kroatien[\"direct_url\"] = df_kroatien[\"url\"].apply(lambda x: get_direct_url(x))\n",
    "\n",
    "df_kroatien.head()"
   ]
  },
  {
   "cell_type": "markdown",
   "id": "ab9b5104-1475-4fe7-93d2-64f604353e40",
   "metadata": {},
   "source": [
    "#### Find tweets about both Serbia and Croatia"
   ]
  },
  {
   "cell_type": "code",
   "execution_count": null,
   "id": "37898f0b-18a5-4fe7-bf96-2de67927f998",
   "metadata": {},
   "outputs": [],
   "source": [
    "%%time\n",
    "\n",
    "df_both = df_tweets[\n",
    "    [\"date\", \"rawContent\", \"sentiment_gs\", \"sentiment_textblob\", \"url\"]\n",
    "].copy()\n",
    "\n",
    "df_both = df_both.loc[\n",
    "    df_both.rawContent.str.lower().str.contains(\n",
    "        \"|\".join(countries[\"croatia\"]), regex=True\n",
    "    )\n",
    "    & df_both.rawContent.str.lower().str.contains(\n",
    "        \"|\".join(countries[\"serbia\"]), regex=True\n",
    "    )\n",
    "].reset_index(drop=True)\n",
    "df_both[\"direct_url\"] = df_both[\"url\"].apply(lambda x: get_direct_url(x))\n",
    "\n",
    "print(len(df_both), \"tweets\")\n",
    "\n",
    "df_both.head()"
   ]
  },
  {
   "cell_type": "markdown",
   "id": "844fbafa-3b59-4426-a37e-a905912aa4bb",
   "metadata": {},
   "source": [
    "Save"
   ]
  },
  {
   "cell_type": "code",
   "execution_count": 220,
   "id": "c6fed7bc-e201-4f3a-852a-a465c58b14dc",
   "metadata": {},
   "outputs": [],
   "source": [
    "df_both.to_csv(data_dir + \"/df_both.csv\", index=False)\n",
    "df_serbien.to_csv(data_dir + \"/df_serbien.csv\", index=False)\n",
    "df_kroatien.to_csv(data_dir + \"/df_kroatien.csv\", index=False)"
   ]
  },
  {
   "cell_type": "markdown",
   "id": "e4827560-4487-4524-9f1c-f020096b8c7b",
   "metadata": {},
   "source": [
    "Load"
   ]
  },
  {
   "cell_type": "code",
   "execution_count": 221,
   "id": "608f23bf-d652-48e0-b9db-125403623bc1",
   "metadata": {},
   "outputs": [],
   "source": [
    "df_both = pd.read_csv(data_dir + \"/df_both.csv\")\n",
    "df_serbien = pd.read_csv(data_dir + \"/df_serbien.csv\")\n",
    "df_kroatien = pd.read_csv(data_dir + \"/df_kroatien.csv\")"
   ]
  },
  {
   "cell_type": "markdown",
   "id": "9a9ef801-bd21-4942-847e-326156502f38",
   "metadata": {},
   "source": [
    "#### Controls: Find tweets about other countries (Romania, Hungary, Finland)"
   ]
  },
  {
   "cell_type": "code",
   "execution_count": null,
   "id": "1b06440a-d861-4a48-b881-93bc540ec873",
   "metadata": {},
   "outputs": [],
   "source": [
    "df_rumanien = get_country(df_tweets, countries[\"romania\"])\n",
    "\n",
    "\n",
    "df_rumanien.head()"
   ]
  },
  {
   "cell_type": "code",
   "execution_count": null,
   "id": "035bcff6-8e72-41ae-b7bc-c496ee13cd0e",
   "metadata": {},
   "outputs": [],
   "source": [
    "df_ungarn = get_country(df_tweets, countries[\"hungary\"])\n",
    "\n",
    "\n",
    "df_ungarn.head()"
   ]
  },
  {
   "cell_type": "code",
   "execution_count": null,
   "id": "c62fd111-dbee-4fe3-a9ef-5db37de48390",
   "metadata": {},
   "outputs": [],
   "source": [
    "df_finnland = get_country(df_tweets, countries[\"finland\"])\n",
    "\n",
    "\n",
    "df_finnland.head()"
   ]
  },
  {
   "cell_type": "code",
   "execution_count": null,
   "id": "aa5a722d-1629-4b17-becc-5257da6a0c4e",
   "metadata": {},
   "outputs": [],
   "source": [
    "from scipy.stats import ttest_ind\n",
    "from pingouin import ttest"
   ]
  },
  {
   "cell_type": "markdown",
   "id": "422f57ef-f5c5-4ef2-af5c-aebb72a684d8",
   "metadata": {},
   "source": [
    "*t*-Test"
   ]
  },
  {
   "cell_type": "code",
   "execution_count": null,
   "id": "a3872b3b-c09a-4c05-bb0c-cf11224616b7",
   "metadata": {},
   "outputs": [],
   "source": [
    "ttest(\n",
    "    df_kroatien.sentiment_textblob, df_serbien.sentiment_textblob, alternative=\"greater\"\n",
    ")"
   ]
  },
  {
   "cell_type": "markdown",
   "id": "61e8fad7-2301-4783-bd41-6d1d3f6fbd1b",
   "metadata": {},
   "source": [
    "Permutation test"
   ]
  },
  {
   "cell_type": "code",
   "execution_count": null,
   "id": "ca612c45-f64e-42f8-8521-d8a235ed4bf9",
   "metadata": {},
   "outputs": [],
   "source": [
    "ttest_ind(\n",
    "    df_kroatien.sentiment_textblob,\n",
    "    df_serbien.sentiment_textblob,\n",
    "    permutations=100_000,\n",
    "    alternative=\"greater\",\n",
    ")"
   ]
  },
  {
   "cell_type": "markdown",
   "id": "eba31db3-6a3e-44c2-b99c-0ff5dadaa8f5",
   "metadata": {},
   "source": [
    "<div class=\"alert alert-info\">More positive coverage of Croatia over Serbia is significant, but the difference is small.</div>"
   ]
  },
  {
   "cell_type": "markdown",
   "id": "2aa91aae-77bb-4c2f-8428-6eb7848d11fd",
   "metadata": {},
   "source": [
    "*t*-Tests vs baseline"
   ]
  },
  {
   "cell_type": "code",
   "execution_count": null,
   "id": "ce659fba-d8a2-4b11-9dd7-dbdf98dee0af",
   "metadata": {},
   "outputs": [],
   "source": [
    "df_tweets[\"sentiment_textblob\"] = df_tweets.rawContent.apply(\n",
    "    lambda x: TextBlob(x).polarity\n",
    ")\n",
    "\n",
    "df_tweets.sentiment_textblob.mean()"
   ]
  },
  {
   "cell_type": "code",
   "execution_count": null,
   "id": "662b3ef3-41ac-4428-ae88-33ba3d6f9126",
   "metadata": {},
   "outputs": [],
   "source": [
    "ttest_ind(df_kroatien.sentiment_textblob, df_tweets.sentiment_textblob)"
   ]
  },
  {
   "cell_type": "code",
   "execution_count": null,
   "id": "46fcea95-2e3d-47d1-8725-e14001b8e41d",
   "metadata": {},
   "outputs": [],
   "source": [
    "ttest_ind(df_serbien.sentiment_textblob, df_tweets.sentiment_textblob)"
   ]
  },
  {
   "cell_type": "markdown",
   "id": "f5f4a5b3-ee7a-4208-910f-7beced036663",
   "metadata": {},
   "source": [
    "### Scrape the complete articles"
   ]
  },
  {
   "cell_type": "code",
   "execution_count": null,
   "id": "fc1c75e7-cdd3-4d0c-80bd-67f791be9f41",
   "metadata": {},
   "outputs": [],
   "source": [
    "from bs4 import BeautifulSoup\n",
    "\n",
    "\n",
    "def get_text(url):\n",
    "    try:\n",
    "        soup = BeautifulSoup(requests.get(url).content, \"html.parser\")\n",
    "        txt = soup.find_all(\"div\", class_=\"article-text\")[0].text\n",
    "    except:\n",
    "        txt = \"\"\n",
    "    return txt\n",
    "\n",
    "\n",
    "df_both[\"article_text\"] = df_both[\"direct_url\"].apply(lambda x: get_text(x))\n",
    "df_serbien[\"article_text\"] = df_serbien[\"direct_url\"].apply(lambda x: get_text(x))\n",
    "df_kroatien[\"article_text\"] = df_kroatien[\"direct_url\"].apply(lambda x: get_text(x))"
   ]
  },
  {
   "cell_type": "markdown",
   "id": "40abb9f7-ca9e-4cfc-9171-9a3dc7611474",
   "metadata": {},
   "source": [
    "Save"
   ]
  },
  {
   "cell_type": "code",
   "execution_count": 223,
   "id": "86ed6bef-7c0e-41ed-8d79-d0710400767b",
   "metadata": {},
   "outputs": [],
   "source": [
    "df_both.to_csv(data_dir + \"/df_both_with_article_short.csv\", index=False)\n",
    "df_serbien.to_csv(data_dir + \"/df_serbien_with_article_short.csv\", index=False)\n",
    "df_kroatien.to_csv(data_dir + \"/df_kroatien_with_article_short.csv\", index=False)"
   ]
  },
  {
   "cell_type": "markdown",
   "id": "cf8c8019-f78a-4b75-8d6f-1d7da72fe75b",
   "metadata": {},
   "source": [
    "Load"
   ]
  },
  {
   "cell_type": "code",
   "execution_count": 7,
   "id": "071f8cc2-d905-4466-8f39-7192afcafcd7",
   "metadata": {},
   "outputs": [],
   "source": [
    "df_both = pd.read_csv(data_dir + \"/df_both_with_article_short.csv\")\n",
    "df_serbien = pd.read_csv(data_dir + \"/df_serbien_with_article_short.csv\")\n",
    "df_kroatien = pd.read_csv(data_dir + \"/df_kroatien_with_article_short.csv\")"
   ]
  },
  {
   "cell_type": "markdown",
   "id": "7e3913ac-e8fa-49bd-ae55-e7de764cafac",
   "metadata": {},
   "source": [
    "Some preprocessing. Maybe this has to be fixed. Evaluate only sentence by sentence and make this column a list of sentence? Adapt the functions fo building the sentiment scores then."
   ]
  },
  {
   "cell_type": "code",
   "execution_count": 227,
   "id": "6ef797e9-c2a6-4c68-bcad-205d5e5f66f6",
   "metadata": {},
   "outputs": [],
   "source": [
    "df_serbien[\"article_text\"] = df_serbien.article_text.fillna(\"\")\n",
    "df_kroatien[\"article_text\"] = df_kroatien.article_text.fillna(\"\")\n",
    "df_both[\"article_text\"] = df_both.article_text.fillna(\"\")\n",
    "\n",
    "df_serbien[\"article_text\"] = df_serbien.article_text.str.replace(\"\\n\", \"\")\n",
    "df_kroatien[\"article_text\"] = df_kroatien.article_text.str.replace(\"\\n\", \"\")\n",
    "df_both[\"article_text\"] = df_both.article_text.str.replace(\"\\n\", \"\")"
   ]
  },
  {
   "cell_type": "markdown",
   "id": "463862f3-83eb-4e26-80d0-c343443bc762",
   "metadata": {},
   "source": [
    "### Compute the sentiment scores for articles (articles incomplete here)"
   ]
  },
  {
   "cell_type": "raw",
   "id": "70d1706f-4b93-487b-b581-3104208f02d7",
   "metadata": {},
   "source": [
    "df_serbien[\"sentiment_textblob_2\"] = df_serbien.article_text.apply(\n",
    "    lambda x: TextBlob(x).polarity\n",
    ")\n",
    "\n",
    "df_serbien[\"sentiment_gs_2\"] = df_serbien.article_text.apply(\n",
    "    lambda x: german_sentiment(x)\n",
    ")\n",
    "\n",
    "df_kroatien[\"sentiment_textblob_2\"] = df_kroatien.article_text.apply(\n",
    "    lambda x: TextBlob(x).polarity\n",
    ")\n",
    "\n",
    "df_kroatien[\"sentiment_gs_2\"] = df_kroatien.article_text.apply(\n",
    "    lambda x: german_sentiment(x)\n",
    ")\n",
    "\n",
    "df_both[\"sentiment_textblob_2\"] = df_both.article_text.apply(\n",
    "    lambda x: TextBlob(x).polarity\n",
    ")\n",
    "\n",
    "df_both[\"sentiment_gs_2\"] = df_both.article_text.apply(lambda x: german_sentiment(x))"
   ]
  },
  {
   "cell_type": "markdown",
   "id": "53980adf-e98d-484a-9785-39235ab729c6",
   "metadata": {},
   "source": [
    "Build means"
   ]
  },
  {
   "cell_type": "raw",
   "id": "c9b3f2e1-fcd7-48be-80af-8cf8eabf0272",
   "metadata": {},
   "source": [
    "sent_cols = [\n",
    "    \"sentiment_textblob\",\n",
    "    \"sentiment_textblob_2\",\n",
    "    \"sentiment_gs\",\n",
    "    \"sentiment_gs_2\",\n",
    "]"
   ]
  },
  {
   "cell_type": "raw",
   "id": "b1f5e89b-3a3f-4a18-b704-429b841b0ef1",
   "metadata": {},
   "source": [
    "df_serbien[sent_cols].mean()"
   ]
  },
  {
   "cell_type": "raw",
   "id": "5dbdb01a-35f2-46bd-a436-587215bca81d",
   "metadata": {},
   "source": [
    "df_kroatien[sent_cols].mean()"
   ]
  },
  {
   "cell_type": "raw",
   "id": "b7094cc7-0513-4522-8713-bb1d65132fce",
   "metadata": {},
   "source": [
    "df_both[sent_cols].mean()"
   ]
  },
  {
   "cell_type": "markdown",
   "id": "52b7bf7e-2312-4579-9332-876c772bcd16",
   "metadata": {},
   "source": [
    "Compute means by year and plot"
   ]
  },
  {
   "cell_type": "raw",
   "id": "5b8d118a-6397-41de-a945-57cb51bcffcd",
   "metadata": {},
   "source": [
    "df_serbien[\"year\"] = pd.to_datetime(df_serbien.date).dt.year\n",
    "df_kroatien[\"year\"] = pd.to_datetime(df_kroatien.date).dt.year\n",
    "df_both[\"year\"] = pd.to_datetime(df_both.date).dt.year\n",
    "\n",
    "df_serbien_grp = df_serbien.groupby(\"year\").mean()[sent_cols].reset_index()\n",
    "\n",
    "df_kroatien_grp = df_kroatien.groupby(\"year\").mean()[sent_cols].reset_index()\n",
    "\n",
    "df_both_grp = df_both.groupby(\"year\").mean()[sent_cols].reset_index()\n",
    "\n",
    "df_both_grp[\"country\"] = \"both\"\n",
    "df_serbien_grp[\"country\"] = \"serbia\"\n",
    "df_kroatien_grp[\"country\"] = \"croatia\"\n",
    "\n",
    "df_grp = pd.concat([df_serbien_grp, df_kroatien_grp], sort=False)"
   ]
  },
  {
   "cell_type": "raw",
   "id": "d9ec3ce1-28ce-46d2-8fa9-67a8e42d4f64",
   "metadata": {},
   "source": [
    "sns.regplot(\n",
    "    data=df_grp.loc[df_grp.country == \"serbia\"],\n",
    "    x=\"year\",\n",
    "    y=\"sentiment_textblob_2\",\n",
    "    label=\"serbia\",\n",
    ")\n",
    "sns.regplot(\n",
    "    data=df_grp.loc[df_grp.country == \"croatia\"],\n",
    "    x=\"year\",\n",
    "    y=\"sentiment_textblob_2\",\n",
    "    label=\"croatia\",\n",
    ")\n",
    "plt.title(\"Article-based sentiment scores\")\n",
    "plt.legend()"
   ]
  },
  {
   "cell_type": "raw",
   "id": "0f07b6e2-71ff-421c-814d-ae71c6cc21bf",
   "metadata": {},
   "source": [
    "sns.lineplot(data=df_grp, x=\"year\", y=\"sentiment_gs\", hue=\"country\")\n",
    "plt.title(\"Tweet-based sentiment scores\")"
   ]
  },
  {
   "cell_type": "raw",
   "id": "b5b65b07-c80c-4c0d-abf7-6255bd104d75",
   "metadata": {},
   "source": [
    "sns.lineplot(data=df_grp, x=\"year\", y=\"sentiment_gs_2\", hue=\"country\")\n",
    "plt.title(\"Article-based sentiment scores\")"
   ]
  },
  {
   "cell_type": "raw",
   "id": "80d9bc0e-b2dd-4fa3-9655-b663cf4784ac",
   "metadata": {},
   "source": [
    "sns.regplot(\n",
    "    data=df_grp.loc[df_grp.country == \"serbia\"],\n",
    "    x=\"year\",\n",
    "    y=\"sentiment_gs_2\",\n",
    "    label=\"serbia\",\n",
    ")\n",
    "sns.regplot(\n",
    "    data=df_grp.loc[df_grp.country == \"croatia\"],\n",
    "    x=\"year\",\n",
    "    y=\"sentiment_gs_2\",\n",
    "    label=\"croatia\",\n",
    ")\n",
    "plt.title(\"Article-based sentiment scores\")\n",
    "plt.legend()"
   ]
  },
  {
   "cell_type": "markdown",
   "id": "e0c02795-9055-4f8a-9643-427572a6b916",
   "metadata": {},
   "source": [
    "## A new attempt to newspaper scraping"
   ]
  },
  {
   "cell_type": "markdown",
   "id": "3e862c7c-7a6e-44f3-8af4-55274a97ed11",
   "metadata": {},
   "source": [
    "Selenium"
   ]
  },
  {
   "cell_type": "code",
   "execution_count": 8,
   "id": "f27b936f-d238-4c76-b58f-f6f4c6ed071a",
   "metadata": {},
   "outputs": [],
   "source": [
    "url = df_serbien.direct_url[3]"
   ]
  },
  {
   "cell_type": "code",
   "execution_count": 9,
   "id": "bef4934b-046e-4001-83f0-2a08b70902d5",
   "metadata": {},
   "outputs": [
    {
     "name": "stdout",
     "output_type": "stream",
     "text": [
      "Konflikt zwischen Kosovo und Serbien: Schlecht für den Rechtsstaat\n",
      "Durch die Art der Konfliktlösung der EU wurde das wichtigste Gut westlicher Demokratien, die Rechtsstaatlichkeit, verhandelbar\n",
      "Der Abbau der Barrikaden im Norden des Kosovo bringt keinen nachhaltigen Weihnachtsfrieden. Besonders verstörend ist, dass die EU und die Nato auf Bedingungen von militanten Aktivisten, die unter der Kontrolle des serbischen Präsidenten Aleksandar Vučić stehen und kein Verhandlungsmandat haben, eingingen.\n",
      "Durch diese Art der Konfliktlösung der EU wurde nämlich das wichtigste Gut westlicher Demokratien, die Rechtsstaatlichkeit, verhandelbar. Die Bilanz der inszenierten Serbien-Kosovo-Krise ist verheerend: Der Kosovo darf nicht dafür sorgen, dass alle Kfz-Besitzer die vorgesehenen Nummerntafeln verwenden, und er kann nicht zeitgerecht Wahlen abhalten. Leute, die illegalerweise den Verkehr zum Stillstand bringen, können nicht dafür belangt werden, und die eigene Polizei darf ihr Gewaltmonopol nicht umsetzen.\n",
      "Gleichzeitig geht die serbische Regierung mit einem größeren Verhandlungskapital in den EU-geführten Dialog. Vučić will schon lange die Teilung des Kosovo und Grenzen nach ethnischen Kriterien durchsetzen. Hilfe bekommt er aus dem Kreml. Serbien könne sich \"bei der Verteidigung seiner rechtlichen Interessen im Kosovo\" auf Moskau verlassen, heißt es dort. Der Kreml profitiert davon, wenn Aufmerksamkeit und Ressourcen der EU, Nato und USA auf dem Balkan – und nicht nur für die Ukraine – verwendet werden. In Moskau macht man sich zudem über die \"unfähigen Europäer\" lustig. (Adelheid Wölfl, 29.12.2022)\n",
      "Zum Nachlesen:\n"
     ]
    }
   ],
   "source": [
    "from selenium import webdriver\n",
    "from selenium.webdriver.common.keys import Keys\n",
    "from selenium.webdriver.common.by import By\n",
    "from selenium.webdriver.support.ui import WebDriverWait\n",
    "from selenium.webdriver.support import expected_conditions as EC\n",
    "from selenium.common.exceptions import TimeoutException\n",
    "\n",
    "driver = webdriver.Firefox()\n",
    "\n",
    "driver.get(url)\n",
    "\n",
    "iframes = driver.find_elements(By.TAG_NAME, \"iframe\")\n",
    "\n",
    "# wait for both iframes to appear\n",
    "while len(iframes) < 2:\n",
    "    iframes = driver.find_elements(By.TAG_NAME, \"iframe\")\n",
    "\n",
    "iframe = iframes[1]\n",
    "\n",
    "\n",
    "WebDriverWait(driver, 20).until(EC.frame_to_be_available_and_switch_to_it(iframe))\n",
    "WebDriverWait(driver, 20).until(\n",
    "    EC.element_to_be_clickable((By.CSS_SELECTOR, \".primary\"))\n",
    ").click()\n",
    "\n",
    "# switch to new window\n",
    "new_window = driver.window_handles\n",
    "driver.switch_to.window(new_window[0])\n",
    "\n",
    "from time import sleep\n",
    "\n",
    "sleep(2)\n",
    "\n",
    "article_title = driver.find_element(By.CLASS_NAME, \"article-title\")\n",
    "article_subtitle = driver.find_element(By.CLASS_NAME, \"article-subtitle\")\n",
    "article_body = driver.find_element(By.CLASS_NAME, \"article-body\")\n",
    "\n",
    "print(article_title.text)\n",
    "\n",
    "print(article_subtitle.text)\n",
    "\n",
    "for p in article_body.find_elements(By.TAG_NAME, \"p\"):\n",
    "    print(p.text)\n",
    "\n",
    "driver.quit()"
   ]
  },
  {
   "cell_type": "markdown",
   "id": "dc48d093-c9c0-46ab-b807-6a27f6859e01",
   "metadata": {},
   "source": [
    "### Function"
   ]
  },
  {
   "cell_type": "code",
   "execution_count": 10,
   "id": "aa9cb7b7-772b-4c05-b78c-a507e1fd3acb",
   "metadata": {},
   "outputs": [],
   "source": [
    "from time import sleep\n",
    "\n",
    "\n",
    "def get_derstandard_article(url):\n",
    "    \"\"\"\n",
    "\n",
    "    Scrapes article from derstandard.at\n",
    "    and return title, subtitle and\n",
    "    complete article text\n",
    "\n",
    "    \"\"\"\n",
    "\n",
    "    driver = webdriver.Firefox()\n",
    "\n",
    "    driver.set_script_timeout(30)\n",
    "    try:\n",
    "        driver.get(url)\n",
    "\n",
    "    except:\n",
    "        print(\"Could not process url:\", url)\n",
    "        return \"\", \"\", \"\"\n",
    "\n",
    "    # switch to iframe (when it is avilable) with button and click it\n",
    "    iframes = driver.find_elements(By.TAG_NAME, \"iframe\")\n",
    "\n",
    "    # wait for both iframes to appear\n",
    "    while len(iframes) < 2:\n",
    "        iframes = driver.find_elements(By.TAG_NAME, \"iframe\")\n",
    "\n",
    "    iframe = iframes[1]\n",
    "    WebDriverWait(driver, 20).until(EC.frame_to_be_available_and_switch_to_it(iframe))\n",
    "    WebDriverWait(driver, 20).until(\n",
    "        EC.element_to_be_clickable((By.CSS_SELECTOR, \".primary\"))\n",
    "    ).click()\n",
    "\n",
    "    # switch to new window\n",
    "    new_window = driver.window_handles\n",
    "    driver.switch_to.window(new_window[0])\n",
    "\n",
    "    sleep(2)\n",
    "\n",
    "    try:\n",
    "        article_title = driver.find_element(By.CLASS_NAME, \"article-title\").text\n",
    "        article_subtitle = driver.find_element(By.CLASS_NAME, \"article-subtitle\").text\n",
    "        article_body = driver.find_element(By.CLASS_NAME, \"article-body\")\n",
    "        article_text = [p.text for p in article_body.find_elements(By.TAG_NAME, \"p\")]\n",
    "        article_text = \"\\n\".join(article_text)\n",
    "\n",
    "    except:\n",
    "        article_title = \"\"\n",
    "        article_subtitle = \"\"\n",
    "        article_text = \"\"\n",
    "\n",
    "    driver.quit()\n",
    "\n",
    "    return article_title, article_subtitle, article_text"
   ]
  },
  {
   "cell_type": "markdown",
   "id": "34e16490-ed6b-4849-ad00-20acc648befd",
   "metadata": {},
   "source": [
    "Run Function on one url"
   ]
  },
  {
   "cell_type": "code",
   "execution_count": 11,
   "id": "a95cb038-ff09-47fe-943f-795dfc2403fe",
   "metadata": {},
   "outputs": [
    {
     "data": {
      "text/plain": [
       "'Eine KFOR-Streife überwacht im Dezember eine Straßenblockade im Kosovo.\\nPristina – Im Kosovo hat ein Soldat außerhalb seiner Dienstzeit zwei ethnische Serben mit Schüssen verwundet und damit Sorgen vor einem Wiederaufflammen der ethnischen Konflikte ausgelöst. Der 33 Jahre alte Soldat der Kosovo-Sicherheitskräfte sei festgenommen worden. Die beiden Opfer – ein 21-jähriger Mann und ein 11-jähriger Junge – wurden im Krankenhaus operiert und sind außer Lebensgefahr.\\nDer Soldat hatte im Ski-Ort Shterpce im Südkosovo das Feuer auf den 11-jährigen und den 21-jährigen Serben eröffnet. Im Gebiet um Strpce leben mehrheitlich Serben. Einige Serben blockierten nach dem Vorfall die Hauptverbindungsstraße von Shterpce zum Rest des Landes. Nach Angaben der serbischen Regierung trugen die beiden Cousins einen Eichenstamm, der traditionell von serbisch-orthodoxen Christen zum orthodoxen Weihnachtsfest am 7. Jänner geschlagen wird.\\nDie kosovarische Präsidentin Vjosa Osmani und Ministerpräsident Albin Kurti verurteilten die Tat. \"Ich verurteile auf das Schärfste den Angriff auf zwei Bürger des Kosovo\", erklärte Kurti am Freitagabend. Er sei tief besorgt über die Verwundungen der Opfer. Die serbische Regierung sprach von einem \"Mordversuch\".\\nErst vor einer Woche konnte eine Krise zwischen den Bevölkerungsgruppen und zwischen Serbien und dem Kosovo nach der Festnahme eines serbischen Polizisten beigelegt werden.\\nIm 1,8-Millionen-Einwohner-Land Kosovo mit mehrheitlich albanischer Bevölkerung leben rund 100.000 Serben, davon die Hälfte im Norden. Die meisten dieser rund 50.000 Serben weigern sich seit Jahren, die Regierung in Pristina und den Kosovo als Staat anzuerkennen.\\nDie im Kosovo stationierte Nato-geführte Schutztruppe KFOR lehnt es nach Darstellung des serbischen Präsidenten Aleksandar Vučić ab, dass bis zu 1.000 serbische Soldaten in das unabhängige Kosovo einrücken. Dies teilte Vučić am Sonntag im regierungsnahen Privat-Sender Pink TV mit. Vučić hatte die Entsendung der serbischen Truppen in die frühere serbische Provinz noch vor Jahresende beantragt. Er warf dem KFOR-Kommando vor, die Serben mit der abschlägigen Antwort zu demütigen.\\nAuch Serbien erkennt wie die fünf EU-Länder Spanien, Slowakei, Rumänien, Griechenland und Zypern die Unabhängigkeit der Region nicht an und bezeichnet den Kosovo bis heute als autonome Provinz Serbiens und abtrünniges serbisches Gebiet. Belgrad bestärkt die Mitglieder der serbischen Minderheit im Norden des Kosovo zudem in ihren Versuchen, sich der Autorität der Regierung in Pristina zu widersetzen.\\nDer Konflikt schwelt seit mehr als 20 Jahren. 2008 hatte sich der Kosovo mit westlicher Unterstützung für unabhängig erklärt. Vorausgegangen war ein Krieg in den Jahren 1998 und 1999, in den die NATO zum Schutz der albanisch-stämmigen Bevölkerung eingriff. Der Kosovo wurde in der Folge unter Uno-Verwaltung gestellt, eine Nato-geführte Friedenstruppe sorgt immer noch für die Sicherheit im Land. (Reuters, 6.1.2022)\\nDieser Artikel wurde mehrmals aktualisiert, zuletzt am 7.1. um 11.33 Uhr.'"
      ]
     },
     "execution_count": 11,
     "metadata": {},
     "output_type": "execute_result"
    }
   ],
   "source": [
    "url = df_serbien.direct_url[2]\n",
    "a_title, a_subtitle, a_text = get_derstandard_article(url)\n",
    "\n",
    "a_text"
   ]
  },
  {
   "cell_type": "markdown",
   "id": "d5ec2364-29df-48ff-85fe-aa89958c45ea",
   "metadata": {},
   "source": [
    "Run function on dataframe"
   ]
  },
  {
   "cell_type": "raw",
   "id": "0384fc3e-6561-4a17-9b41-7cb5f64d83d9",
   "metadata": {},
   "source": [
    "df_serbien[[\"article_title\", \"article_subtitle\", \"article_text\"]] = df_serbien[\n",
    "    \"direct_url\"\n",
    "].apply(lambda x: pd.Series(get_derstandard_article(x)))"
   ]
  },
  {
   "cell_type": "markdown",
   "id": "dc698dbf-323d-4a10-be9d-e5b7144814b6",
   "metadata": {},
   "source": [
    "Do it iteratively"
   ]
  },
  {
   "cell_type": "code",
   "execution_count": null,
   "id": "10a77cc3-1f82-4897-acdf-ddd05ddc7b6e",
   "metadata": {},
   "outputs": [],
   "source": [
    "for i, row in df_serbien.iterrows():\n",
    "    df_serbien.loc[i, [\"article_title\", \"article_subtitle\", \"article_text\"]] = get_derstandard_article(row.direct_url)"
   ]
  }
 ],
 "metadata": {
  "kernelspec": {
   "display_name": "Python 3 (ipykernel)",
   "language": "python",
   "name": "python3"
  },
  "language_info": {
   "codemirror_mode": {
    "name": "ipython",
    "version": 3
   },
   "file_extension": ".py",
   "mimetype": "text/x-python",
   "name": "python",
   "nbconvert_exporter": "python",
   "pygments_lexer": "ipython3",
   "version": "3.9.13"
  }
 },
 "nbformat": 4,
 "nbformat_minor": 5
}
