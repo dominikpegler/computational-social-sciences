{
 "cells": [
  {
   "cell_type": "markdown",
   "id": "4f2ebc25-2803-4203-94f7-2fbc0792bba5",
   "metadata": {
    "tags": []
   },
   "source": [
    "Analyzing Media Coverage Of Other Countries in Austria\n",
    "===\n",
    "\n",
    "\n",
    "The aim of this project is to find out how reporting in Austria's print media about certain countries has changed over time (sentiment, which topics). In two further steps, I would also like to go down to the level of the individual newspapers and their authors and take an explorative look at whether there are tendencies/bias here. As countries of interest I choose Balkan countries because of their proximity to Austria and their long history of conflict.\n",
    "\n",
    "    Text corpora: Austrian newspaper articles (or their respective twitter posts)\n",
    "    Language: German\n",
    "    Time: 2000–2022\n",
    "    Method: Adding country labels to the articles, Sentiment Scores (, extracting underlying topics of the articles, e.g. with fuzzy topic modeling) \n",
    "    \n",
    "According to https://de.wikipedia.org/wiki/Liste_%C3%B6sterreichischer_Zeitungen_und_Zeitschriften derstandard.at and krone.at reach the most people online, they also cover Austrian society quite well. So, initially, I will focus on these two and might add some more newspapers at a later stage."
   ]
  },
  {
   "cell_type": "markdown",
   "id": "081e0c21-e47d-40aa-9380-68ee2f79db70",
   "metadata": {},
   "source": [
    "* Focus on 2 countries: Serbia and Croatia (like Austria now a EU country)\n",
    "* I will label an article with \"Serbia\" if the ratio of amount of words that relate to \"Serbia\"  compared to words that relate to \"Croatia\" is greater than 4\n",
    "* I will also try to find out if there are certain authors who are responsible for a certain tendency.\n",
    "* Another analysis could be build upon the ratio of \"Serbia\" and \"Albania\" or \"Kosovo\"\n",
    "\n",
    "**Hypothesis 1: Tweets about Croatia are on average more positive than tweets about Serbia**"
   ]
  },
  {
   "cell_type": "code",
   "execution_count": 36,
   "id": "eec6929b-dce0-4b83-9ca8-604f4cb90b92",
   "metadata": {
    "tags": []
   },
   "outputs": [],
   "source": [
    "import jupyter_black\n",
    "\n",
    "jupyter_black.load()"
   ]
  },
  {
   "cell_type": "code",
   "execution_count": 37,
   "id": "e94fe83f-5986-4487-87b0-69c28beffad0",
   "metadata": {},
   "outputs": [],
   "source": [
    "import os\n",
    "import json\n",
    "import subprocess\n",
    "import pandas as pd\n",
    "import seaborn as sns\n",
    "import matplotlib.pyplot as plt\n",
    "import regex as re\n",
    "from bs4 import BeautifulSoup\n",
    "import requests\n",
    "\n",
    "\n",
    "data_dir = \"data/twitter\"\n",
    "\n",
    "if os.path.exists(data_dir) == False:\n",
    "    os.makedirs(data_dir)\n",
    "\n",
    "\n",
    "def dl_user(user, max_results=None, local=False):\n",
    "    \"\"\"\n",
    "    Function to download tweets by username.\n",
    "    Set local to True, if tweets have already\n",
    "    been downloaded and are available in data_dir.\n",
    "\n",
    "    Returns a DataFrame.\n",
    "\n",
    "    \"\"\"\n",
    "\n",
    "    if local == False:\n",
    "        with open(data_dir + f\"/user-{user}.json\", \"w+\") as fo:\n",
    "            if max_results == None:\n",
    "                cmd_list = [\"snscrape\", \"--jsonl\", \"twitter-user\", user]\n",
    "            else:\n",
    "                cmd_list = [\n",
    "                    \"snscrape\",\n",
    "                    \"--jsonl\",\n",
    "                    \"-n \" + str(max_results),\n",
    "                    \"twitter-user\",\n",
    "                    user,\n",
    "                ]\n",
    "            p = subprocess.Popen(cmd_list, stdout=fo)\n",
    "            p.wait()\n",
    "\n",
    "    with open(data_dir + f\"/user-{user}.json\", \"r\") as fo:\n",
    "        tweets = fo.readlines()\n",
    "\n",
    "    tweets = [json.loads(tweets[i]) for i in range(0, len(tweets))]\n",
    "    print(\"loaded\", len(tweets), \"tweets\\n\")\n",
    "\n",
    "    df_tweets = pd.DataFrame(tweets)\n",
    "    df_tweets[\"date\"] = pd.to_datetime(df_tweets[\"date\"])\n",
    "\n",
    "    return df_tweets[[\"date\", \"rawContent\", \"hashtags\"]]"
   ]
  },
  {
   "cell_type": "markdown",
   "id": "e241f950-b2f3-4d09-afd5-7f97137af3f3",
   "metadata": {},
   "source": [
    "# 1. Scraping newspaper articles\n",
    "\n",
    "## 1.1. derStandard.at\n"
   ]
  },
  {
   "cell_type": "code",
   "execution_count": 38,
   "id": "81c012de-9c75-4cf2-8645-5d26f9e466f1",
   "metadata": {},
   "outputs": [
    {
     "name": "stdout",
     "output_type": "stream",
     "text": [
      "loaded 272281 tweets\n",
      "\n"
     ]
    },
    {
     "data": {
      "text/html": [
       "<div>\n",
       "<style scoped>\n",
       "    .dataframe tbody tr th:only-of-type {\n",
       "        vertical-align: middle;\n",
       "    }\n",
       "\n",
       "    .dataframe tbody tr th {\n",
       "        vertical-align: top;\n",
       "    }\n",
       "\n",
       "    .dataframe thead th {\n",
       "        text-align: right;\n",
       "    }\n",
       "</style>\n",
       "<table border=\"1\" class=\"dataframe\">\n",
       "  <thead>\n",
       "    <tr style=\"text-align: right;\">\n",
       "      <th></th>\n",
       "      <th>date</th>\n",
       "      <th>rawContent</th>\n",
       "      <th>hashtags</th>\n",
       "    </tr>\n",
       "  </thead>\n",
       "  <tbody>\n",
       "    <tr>\n",
       "      <th>0</th>\n",
       "      <td>2023-01-25 09:50:19+00:00</td>\n",
       "      <td>Massive Ausfälle bei Microsoft Teams und Outlo...</td>\n",
       "      <td>None</td>\n",
       "    </tr>\n",
       "    <tr>\n",
       "      <th>1</th>\n",
       "      <td>2023-01-25 09:50:18+00:00</td>\n",
       "      <td>ÖSV-Techniktrainer Kroisleitner: \"Potenzial de...</td>\n",
       "      <td>None</td>\n",
       "    </tr>\n",
       "    <tr>\n",
       "      <th>2</th>\n",
       "      <td>2023-01-25 09:50:17+00:00</td>\n",
       "      <td>Leopard-Lieferung: Selenskyj will mehr als \"ze...</td>\n",
       "      <td>None</td>\n",
       "    </tr>\n",
       "    <tr>\n",
       "      <th>3</th>\n",
       "      <td>2023-01-25 09:33:54+00:00</td>\n",
       "      <td>\"IBES\" 2023: Jana ist raus – Werden Sie sie ve...</td>\n",
       "      <td>None</td>\n",
       "    </tr>\n",
       "    <tr>\n",
       "      <th>4</th>\n",
       "      <td>2023-01-25 09:04:32+00:00</td>\n",
       "      <td>Chanels Haute Couture: Show führte in den Zirk...</td>\n",
       "      <td>None</td>\n",
       "    </tr>\n",
       "  </tbody>\n",
       "</table>\n",
       "</div>"
      ],
      "text/plain": [
       "                       date  \\\n",
       "0 2023-01-25 09:50:19+00:00   \n",
       "1 2023-01-25 09:50:18+00:00   \n",
       "2 2023-01-25 09:50:17+00:00   \n",
       "3 2023-01-25 09:33:54+00:00   \n",
       "4 2023-01-25 09:04:32+00:00   \n",
       "\n",
       "                                          rawContent hashtags  \n",
       "0  Massive Ausfälle bei Microsoft Teams und Outlo...     None  \n",
       "1  ÖSV-Techniktrainer Kroisleitner: \"Potenzial de...     None  \n",
       "2  Leopard-Lieferung: Selenskyj will mehr als \"ze...     None  \n",
       "3  \"IBES\" 2023: Jana ist raus – Werden Sie sie ve...     None  \n",
       "4  Chanels Haute Couture: Show führte in den Zirk...     None  "
      ]
     },
     "execution_count": 38,
     "metadata": {},
     "output_type": "execute_result"
    }
   ],
   "source": [
    "df_tweets = dl_user(\"derstandardat\", max_results=None, local=True)\n",
    "\n",
    "df_tweets.head()"
   ]
  },
  {
   "cell_type": "markdown",
   "id": "a76d04a4-d432-4514-8e7a-da3e7e1fd088",
   "metadata": {},
   "source": [
    "### Extract urls for complete articles"
   ]
  },
  {
   "cell_type": "markdown",
   "id": "3ccd8680-87ce-4d79-89d4-254a5423eb2e",
   "metadata": {},
   "source": [
    "<div class=\"alert alert-warning\">Takes ages! Speed this up!!!</div>"
   ]
  },
  {
   "cell_type": "code",
   "execution_count": 39,
   "id": "9788923b-da54-45f1-847d-5718885c07dd",
   "metadata": {},
   "outputs": [],
   "source": [
    "def get_url(txt):\n",
    "    \"\"\"\n",
    "    Get url from tweet.\n",
    "\n",
    "    \"\"\"\n",
    "\n",
    "    try:\n",
    "        return re.search(\"(?P<url>https?://[^\\s]+)\", txt).captures()[0]\n",
    "    except:\n",
    "        return \"\"\n",
    "\n",
    "\n",
    "from time import sleep\n",
    "\n",
    "\n",
    "def get_direct_url(url):\n",
    "    \"\"\"\n",
    "    Direct url\n",
    "\n",
    "    \"\"\"\n",
    "\n",
    "    url_direct = None\n",
    "\n",
    "    if url != \"\":\n",
    "        while url_direct == None:\n",
    "            print(\".\", end=\"\")\n",
    "            try:\n",
    "                page = requests.get(\n",
    "                    url, headers={\"User-Agent\": \"Mozilla/5.0\"}, timeout=(0.5, 27)\n",
    "                )\n",
    "                html = BeautifulSoup(page.text, \"html.parser\")\n",
    "                url_direct = html.find(\"link\")\n",
    "                if url_direct == None:\n",
    "                    url_direct = \"\"\n",
    "                else:\n",
    "                    url_direct = url_direct.get(\"href\")\n",
    "            except Exception as e:\n",
    "                ...\n",
    "        print(\"1\", end=\"\")\n",
    "\n",
    "        sleep(0.5)\n",
    "\n",
    "        return url_direct\n",
    "\n",
    "    else:\n",
    "        print(\"0\", end=\"\")\n",
    "        return url"
   ]
  },
  {
   "cell_type": "markdown",
   "id": "8720c15a-9c18-423d-a930-9005345fc6dc",
   "metadata": {},
   "source": [
    "First tep: Get short url from text"
   ]
  },
  {
   "cell_type": "code",
   "execution_count": 40,
   "id": "b9f73b42-8604-496d-af20-577444241afc",
   "metadata": {},
   "outputs": [
    {
     "name": "stdout",
     "output_type": "stream",
     "text": [
      "CPU times: user 1.58 s, sys: 0 ns, total: 1.58 s\n",
      "Wall time: 1.58 s\n"
     ]
    }
   ],
   "source": [
    "%%time\n",
    "\n",
    "\n",
    "df_tweets[\"url\"] = df_tweets[\"rawContent\"].apply(lambda x: get_url(x))"
   ]
  },
  {
   "cell_type": "markdown",
   "id": "5b2e0948-db72-43ab-9257-926ede2831a7",
   "metadata": {},
   "source": [
    "Takes too long"
   ]
  },
  {
   "cell_type": "raw",
   "id": "7c642154-2691-48f2-a50d-a3027484420e",
   "metadata": {},
   "source": [
    "%%time\n",
    "\n",
    "\n",
    "df_tweets[\"direct_url\"] = df_tweets[\"url\"].apply(lambda x: get_direct_url(x))"
   ]
  },
  {
   "cell_type": "code",
   "execution_count": 41,
   "id": "45305dc1-78e1-472f-a43a-9b11d00adbba",
   "metadata": {},
   "outputs": [],
   "source": [
    "df_tweets.to_csv(data_dir + \"/media_coverage_with_url.csv\", index=False)"
   ]
  },
  {
   "cell_type": "markdown",
   "id": "b28c3f8f-515f-4747-a415-d4db783217ea",
   "metadata": {},
   "source": [
    "Load"
   ]
  },
  {
   "cell_type": "code",
   "execution_count": 29,
   "id": "a801b063-e755-425c-822c-b684cdc863d4",
   "metadata": {},
   "outputs": [
    {
     "data": {
      "text/html": [
       "<div>\n",
       "<style scoped>\n",
       "    .dataframe tbody tr th:only-of-type {\n",
       "        vertical-align: middle;\n",
       "    }\n",
       "\n",
       "    .dataframe tbody tr th {\n",
       "        vertical-align: top;\n",
       "    }\n",
       "\n",
       "    .dataframe thead th {\n",
       "        text-align: right;\n",
       "    }\n",
       "</style>\n",
       "<table border=\"1\" class=\"dataframe\">\n",
       "  <thead>\n",
       "    <tr style=\"text-align: right;\">\n",
       "      <th></th>\n",
       "      <th>date</th>\n",
       "      <th>rawContent</th>\n",
       "      <th>hashtags</th>\n",
       "      <th>url</th>\n",
       "    </tr>\n",
       "  </thead>\n",
       "  <tbody>\n",
       "    <tr>\n",
       "      <th>0</th>\n",
       "      <td>2023-01-25 09:50:19+00:00</td>\n",
       "      <td>Massive Ausfälle bei Microsoft Teams und Outlo...</td>\n",
       "      <td>NaN</td>\n",
       "      <td>https://t.co/8vICahGNxr</td>\n",
       "    </tr>\n",
       "    <tr>\n",
       "      <th>1</th>\n",
       "      <td>2023-01-25 09:50:18+00:00</td>\n",
       "      <td>ÖSV-Techniktrainer Kroisleitner: \"Potenzial de...</td>\n",
       "      <td>NaN</td>\n",
       "      <td>https://t.co/84r4nazixi</td>\n",
       "    </tr>\n",
       "    <tr>\n",
       "      <th>2</th>\n",
       "      <td>2023-01-25 09:50:17+00:00</td>\n",
       "      <td>Leopard-Lieferung: Selenskyj will mehr als \"ze...</td>\n",
       "      <td>NaN</td>\n",
       "      <td>https://t.co/YnMS20JJ6X</td>\n",
       "    </tr>\n",
       "    <tr>\n",
       "      <th>3</th>\n",
       "      <td>2023-01-25 09:33:54+00:00</td>\n",
       "      <td>\"IBES\" 2023: Jana ist raus – Werden Sie sie ve...</td>\n",
       "      <td>NaN</td>\n",
       "      <td>https://t.co/RKk4pRXw1Y</td>\n",
       "    </tr>\n",
       "    <tr>\n",
       "      <th>4</th>\n",
       "      <td>2023-01-25 09:04:32+00:00</td>\n",
       "      <td>Chanels Haute Couture: Show führte in den Zirk...</td>\n",
       "      <td>NaN</td>\n",
       "      <td>https://t.co/mg2CIOEm7c</td>\n",
       "    </tr>\n",
       "  </tbody>\n",
       "</table>\n",
       "</div>"
      ],
      "text/plain": [
       "                        date  \\\n",
       "0  2023-01-25 09:50:19+00:00   \n",
       "1  2023-01-25 09:50:18+00:00   \n",
       "2  2023-01-25 09:50:17+00:00   \n",
       "3  2023-01-25 09:33:54+00:00   \n",
       "4  2023-01-25 09:04:32+00:00   \n",
       "\n",
       "                                          rawContent hashtags  \\\n",
       "0  Massive Ausfälle bei Microsoft Teams und Outlo...      NaN   \n",
       "1  ÖSV-Techniktrainer Kroisleitner: \"Potenzial de...      NaN   \n",
       "2  Leopard-Lieferung: Selenskyj will mehr als \"ze...      NaN   \n",
       "3  \"IBES\" 2023: Jana ist raus – Werden Sie sie ve...      NaN   \n",
       "4  Chanels Haute Couture: Show führte in den Zirk...      NaN   \n",
       "\n",
       "                       url  \n",
       "0  https://t.co/8vICahGNxr  \n",
       "1  https://t.co/84r4nazixi  \n",
       "2  https://t.co/YnMS20JJ6X  \n",
       "3  https://t.co/RKk4pRXw1Y  \n",
       "4  https://t.co/mg2CIOEm7c  "
      ]
     },
     "execution_count": 29,
     "metadata": {},
     "output_type": "execute_result"
    }
   ],
   "source": [
    "df_tweets = pd.read_csv(\n",
    "    data_dir + \"/media_coverage_with_url.csv\",\n",
    "    parse_dates=[\"date\"],\n",
    ")\n",
    "df_tweets.head()"
   ]
  },
  {
   "cell_type": "markdown",
   "id": "2fe07524-ce69-4cd3-862c-a1d7ebf403a0",
   "metadata": {
    "tags": []
   },
   "source": [
    "### Compute sentiment scores for all tweets"
   ]
  },
  {
   "cell_type": "code",
   "execution_count": 43,
   "id": "38ae376b-07da-4609-abaa-41d991d1309d",
   "metadata": {},
   "outputs": [],
   "source": [
    "from textblob import TextBlob\n",
    "from nltk.sentiment.vader import SentimentIntensityAnalyzer\n",
    "\n",
    "sid = SentimentIntensityAnalyzer()\n",
    "\n",
    "\n",
    "df_tweets[\"sentiment_textblob\"] = df_tweets.rawContent.apply(\n",
    "    lambda x: TextBlob(x).polarity\n",
    ")\n",
    "df_tweets[\"sentiment_vader\"] = df_tweets.rawContent.apply(\n",
    "    lambda x: sid.polarity_scores(x)[\"compound\"]\n",
    ")"
   ]
  },
  {
   "cell_type": "markdown",
   "id": "ebdc4865-b1b9-40ed-abf3-a1e25c1d59a9",
   "metadata": {},
   "source": [
    "Save"
   ]
  },
  {
   "cell_type": "code",
   "execution_count": 44,
   "id": "a51156d0-fc54-46fd-9ed9-37b970f2bd48",
   "metadata": {},
   "outputs": [],
   "source": [
    "df_tweets.to_csv(data_dir + \"/media_coverage_with_sentiment.csv\", index=False)"
   ]
  },
  {
   "cell_type": "markdown",
   "id": "83deb961-500f-470d-b3b0-899386f5ed4a",
   "metadata": {},
   "source": [
    "Load"
   ]
  },
  {
   "cell_type": "code",
   "execution_count": 29,
   "id": "8d965ea9-640f-4ccc-9ad8-76575beaee73",
   "metadata": {},
   "outputs": [
    {
     "data": {
      "text/html": [
       "<div>\n",
       "<style scoped>\n",
       "    .dataframe tbody tr th:only-of-type {\n",
       "        vertical-align: middle;\n",
       "    }\n",
       "\n",
       "    .dataframe tbody tr th {\n",
       "        vertical-align: top;\n",
       "    }\n",
       "\n",
       "    .dataframe thead th {\n",
       "        text-align: right;\n",
       "    }\n",
       "</style>\n",
       "<table border=\"1\" class=\"dataframe\">\n",
       "  <thead>\n",
       "    <tr style=\"text-align: right;\">\n",
       "      <th></th>\n",
       "      <th>date</th>\n",
       "      <th>rawContent</th>\n",
       "      <th>hashtags</th>\n",
       "      <th>url</th>\n",
       "    </tr>\n",
       "  </thead>\n",
       "  <tbody>\n",
       "    <tr>\n",
       "      <th>0</th>\n",
       "      <td>2023-01-25 09:50:19+00:00</td>\n",
       "      <td>Massive Ausfälle bei Microsoft Teams und Outlo...</td>\n",
       "      <td>NaN</td>\n",
       "      <td>https://t.co/8vICahGNxr</td>\n",
       "    </tr>\n",
       "    <tr>\n",
       "      <th>1</th>\n",
       "      <td>2023-01-25 09:50:18+00:00</td>\n",
       "      <td>ÖSV-Techniktrainer Kroisleitner: \"Potenzial de...</td>\n",
       "      <td>NaN</td>\n",
       "      <td>https://t.co/84r4nazixi</td>\n",
       "    </tr>\n",
       "    <tr>\n",
       "      <th>2</th>\n",
       "      <td>2023-01-25 09:50:17+00:00</td>\n",
       "      <td>Leopard-Lieferung: Selenskyj will mehr als \"ze...</td>\n",
       "      <td>NaN</td>\n",
       "      <td>https://t.co/YnMS20JJ6X</td>\n",
       "    </tr>\n",
       "    <tr>\n",
       "      <th>3</th>\n",
       "      <td>2023-01-25 09:33:54+00:00</td>\n",
       "      <td>\"IBES\" 2023: Jana ist raus – Werden Sie sie ve...</td>\n",
       "      <td>NaN</td>\n",
       "      <td>https://t.co/RKk4pRXw1Y</td>\n",
       "    </tr>\n",
       "    <tr>\n",
       "      <th>4</th>\n",
       "      <td>2023-01-25 09:04:32+00:00</td>\n",
       "      <td>Chanels Haute Couture: Show führte in den Zirk...</td>\n",
       "      <td>NaN</td>\n",
       "      <td>https://t.co/mg2CIOEm7c</td>\n",
       "    </tr>\n",
       "  </tbody>\n",
       "</table>\n",
       "</div>"
      ],
      "text/plain": [
       "                        date  \\\n",
       "0  2023-01-25 09:50:19+00:00   \n",
       "1  2023-01-25 09:50:18+00:00   \n",
       "2  2023-01-25 09:50:17+00:00   \n",
       "3  2023-01-25 09:33:54+00:00   \n",
       "4  2023-01-25 09:04:32+00:00   \n",
       "\n",
       "                                          rawContent hashtags  \\\n",
       "0  Massive Ausfälle bei Microsoft Teams und Outlo...      NaN   \n",
       "1  ÖSV-Techniktrainer Kroisleitner: \"Potenzial de...      NaN   \n",
       "2  Leopard-Lieferung: Selenskyj will mehr als \"ze...      NaN   \n",
       "3  \"IBES\" 2023: Jana ist raus – Werden Sie sie ve...      NaN   \n",
       "4  Chanels Haute Couture: Show führte in den Zirk...      NaN   \n",
       "\n",
       "                       url  \n",
       "0  https://t.co/8vICahGNxr  \n",
       "1  https://t.co/84r4nazixi  \n",
       "2  https://t.co/YnMS20JJ6X  \n",
       "3  https://t.co/RKk4pRXw1Y  \n",
       "4  https://t.co/mg2CIOEm7c  "
      ]
     },
     "execution_count": 29,
     "metadata": {},
     "output_type": "execute_result"
    }
   ],
   "source": [
    "df_tweets = pd.read_csv(\n",
    "    data_dir + \"/media_coverage_with_sentiment.csv\",\n",
    "    parse_dates=[\"date\"],\n",
    ")\n",
    "df_tweets.head()"
   ]
  },
  {
   "cell_type": "markdown",
   "id": "47896d33-d51e-4da8-8278-40139dc424a8",
   "metadata": {},
   "source": [
    "### Which hashtags are most often used by this user"
   ]
  },
  {
   "cell_type": "code",
   "execution_count": 45,
   "id": "58842c11-bdc5-45f6-a7b8-99a09904a098",
   "metadata": {},
   "outputs": [
    {
     "data": {
      "text/plain": [
       "260302"
      ]
     },
     "execution_count": 45,
     "metadata": {},
     "output_type": "execute_result"
    }
   ],
   "source": [
    "len_nohashtags = sum(pd.isna(df_tweets.hashtags))\n",
    "len_nohashtags"
   ]
  },
  {
   "cell_type": "code",
   "execution_count": 46,
   "id": "04a99d47-f10e-4b93-947c-52467434261c",
   "metadata": {},
   "outputs": [],
   "source": [
    "hashtags = list(df_tweets.hashtags.dropna())"
   ]
  },
  {
   "cell_type": "code",
   "execution_count": 47,
   "id": "c0be9f96-2be6-4f6d-875f-1b4cf078cb8f",
   "metadata": {},
   "outputs": [
    {
     "data": {
      "text/plain": [
       "11979"
      ]
     },
     "execution_count": 47,
     "metadata": {},
     "output_type": "execute_result"
    }
   ],
   "source": [
    "len(hashtags)"
   ]
  },
  {
   "cell_type": "code",
   "execution_count": 48,
   "id": "0047c260-fd04-41fa-8a7d-839afa2e1a1c",
   "metadata": {},
   "outputs": [
    {
     "data": {
      "text/plain": [
       "['Bundespressedienst']"
      ]
     },
     "execution_count": 48,
     "metadata": {},
     "output_type": "execute_result"
    }
   ],
   "source": [
    "hashtags[623]"
   ]
  },
  {
   "cell_type": "code",
   "execution_count": 49,
   "id": "cd2ff2c4-5a2d-457d-aa0d-31ebbfbb2229",
   "metadata": {},
   "outputs": [
    {
     "data": {
      "text/plain": [
       "15147"
      ]
     },
     "execution_count": 49,
     "metadata": {},
     "output_type": "execute_result"
    }
   ],
   "source": [
    "hashtags_flat = [item for sublist in hashtags for item in sublist]\n",
    "\n",
    "len(hashtags_flat)"
   ]
  },
  {
   "cell_type": "code",
   "execution_count": 50,
   "id": "7ac2dbf9-7145-491d-800c-c520924c3c52",
   "metadata": {},
   "outputs": [
    {
     "data": {
      "image/png": "[encoded data removed]",
      "text/plain": [
       "<Figure size 640x480 with 1 Axes>"
      ]
     },
     "metadata": {},
     "output_type": "display_data"
    }
   ],
   "source": [
    "df_hashtags = pd.concat(\n",
    "    [\n",
    "        pd.DataFrame(hashtags_flat, columns=[\"hashtags\"]),\n",
    "        df_tweets.loc[pd.isna(df_tweets.hashtags), [\"hashtags\"]],\n",
    "    ],\n",
    "    sort=False,\n",
    ").astype(str)\n",
    "\n",
    "df_hashtags[\"count\"] = 1\n",
    "df_hashtags = (\n",
    "    df_hashtags.groupby([\"hashtags\"])\n",
    "    .count()\n",
    "    .sort_values(\"count\", ascending=False)\n",
    "    .reset_index()\n",
    ")\n",
    "\n",
    "# all the ones tha occur only few times and label them as \"other\" and group again\n",
    "df_hashtags.loc[df_hashtags[\"count\"] <= 50, \"hashtags\"] = \"other\"\n",
    "df_hashtags = (\n",
    "    df_hashtags.groupby([\"hashtags\"])\n",
    "    .sum()\n",
    "    .sort_values(\"count\", ascending=False)\n",
    "    .reset_index()\n",
    ")\n",
    "\n",
    "# drop the first 2 most frequently hashtags (None, other)\n",
    "sns.barplot(x=\"hashtags\", y=\"count\", data=df_hashtags.drop(0, axis=0).drop(1, axis=0))\n",
    "plt.xticks(rotation=90);"
   ]
  },
  {
   "cell_type": "markdown",
   "id": "f9704697-3b4d-440c-9e37-12769f1b0326",
   "metadata": {},
   "source": [
    "### Which countries are the tweets referring to (Serbia, Croatia)?"
   ]
  },
  {
   "cell_type": "code",
   "execution_count": 51,
   "id": "f012ada4-7f27-4577-87df-48c931dfa8ad",
   "metadata": {},
   "outputs": [],
   "source": [
    "countries = dict(\n",
    "    serbia=[\"serbien\", \"serbe\", \"serbin\", \"serbisch\", \"serbo\"],\n",
    "    croatia=[\"kroatien\", \"kroate\", \"kroatin\", \"kroatisch\", \"kroato\"],\n",
    "    romania=[\"rumänien\", \"rumäne\", \"rumänin\", \"rumänisch\"],\n",
    "    hungary=[\"ungarn\", \"ungar\", \"ungarin\", \"ungarisch\", \"ungaro\"],\n",
    "    finland=[\"finnland\", \"finne\", \"finnin\", \"finnisch\", \"finno\"],\n",
    "    norway=[\"norwegen\", \"norweger\", \"norwegisch\"],\n",
    "    sweden=[\"schweden\", \"schwedin\", \"schwedisch\"],\n",
    "    danmark=[\"dänisch\", \"dänen\", \"dänin\", \"dänisch\"],\n",
    "    poland=[\"polen\", \"pole\", \"polin\", \"polnisch\"],\n",
    "    bulgaria=[\"bulgarien\", \"bulgare\", \"bulgarin\", \"bulgarisch\"],\n",
    "    russia=[\"russland\", \"russe\", \"russin\", \"russen\", \"russisch\"],\n",
    "    ukraine=[\"ukraine\", \"ukrainisch\"],\n",
    "    germany=[\"deutschland\", \"deutsche\"],\n",
    "    frankreich=[\"frankreich\", \"franzose\", \"französi\"],\n",
    "    slovenia=[\"slowenien\", \"slowene\", \"sloweni\"],\n",
    "    italy=[\"italien\"],\n",
    "    spain=[\"spanien\", \"spanier\", \"spanisch\"],\n",
    "    portugal=[\"portual\", \"portugiese\", \"portugiesin\", \"portugiesisch\"],\n",
    "    switzerland=[\"schweiz\"],\n",
    "    austria=[\"österreich\"],\n",
    "    slovakia=[\"slowakei\", \"slowake\", \"slowakin\", \"slowakisch\"],\n",
    "    czechia=[\"tschechien\", \"tscheche\", \"tschechin\", \"tschechisch\"],\n",
    "    belarus=[\n",
    "        \"belarus\",\n",
    "        \"weißrussland\",\n",
    "        \"weissrussland\",\n",
    "        \"weißrussisch\",\n",
    "        \"weissrussisch\",\n",
    "        \"weißrusse\",\n",
    "        \"weissrusse\",\n",
    "        \"weißrussin\",\n",
    "        \"weissrussin\",\n",
    "    ],\n",
    "    bosnia=[\"bosnien\", \"bosnisch\", \"herzegowina\", \"bosnier\", \"herzegowinisch\"],\n",
    "    montenegro=[\"montenegro\", \"montenegriner\", \"montenegrinisch\"],\n",
    "    albania=[\"albanien\", \"albaner\", \"albanisch\"],\n",
    ")"
   ]
  },
  {
   "cell_type": "markdown",
   "id": "7d5d8dba-2da0-469f-8051-532ad7b662f0",
   "metadata": {},
   "source": [
    "#### Function for finding tweets about countries"
   ]
  },
  {
   "cell_type": "code",
   "execution_count": 52,
   "id": "310e1985-fe36-403b-9fe2-e818f7f98ff2",
   "metadata": {},
   "outputs": [],
   "source": [
    "def get_country(df_tweets, country, not_country=None, and_country=None):\n",
    "    \"\"\"\n",
    "\n",
    "    Filters DataFrame with tweets to country-\n",
    "    specific tweets.\n",
    "\n",
    "    Optional: Can exclude tweeds of specific other countries\n",
    "    via not_country variable.\n",
    "\n",
    "    \"\"\"\n",
    "\n",
    "    df_country = df_tweets[\n",
    "        [\"date\", \"rawContent\", \"url\", \"sentiment_vader\", \"sentiment_textblob\"]\n",
    "    ].copy()\n",
    "\n",
    "    if not_country != None:\n",
    "\n",
    "        df_country = df_country.loc[\n",
    "            df_country.rawContent.str.lower().str.contains(\n",
    "                \"|\".join(country), regex=True\n",
    "            )\n",
    "            & ~df_country.rawContent.str.lower().str.contains(\n",
    "                \"|\".join(not_country), regex=True\n",
    "            )\n",
    "        ].reset_index(drop=True)\n",
    "\n",
    "    else:\n",
    "        df_country = df_country.loc[\n",
    "            df_country.rawContent.str.lower().str.contains(\n",
    "                \"|\".join(country), regex=True\n",
    "            )\n",
    "        ].reset_index(drop=True)\n",
    "\n",
    "    return df_country"
   ]
  },
  {
   "cell_type": "markdown",
   "id": "a9e7ee74-a641-4837-a10a-f7ecb322c4c8",
   "metadata": {},
   "source": [
    "### Compare sentiments betweens countries"
   ]
  },
  {
   "cell_type": "code",
   "execution_count": 53,
   "id": "dea4ada2-4b32-444e-aabf-8e53c6ca1555",
   "metadata": {},
   "outputs": [
    {
     "data": {
      "image/png": "[encoded data removed]",
      "text/plain": [
       "<Figure size 1000x1000 with 1 Axes>"
      ]
     },
     "metadata": {},
     "output_type": "display_data"
    }
   ],
   "source": [
    "df_scores = pd.DataFrame()\n",
    "\n",
    "for key in countries.keys():\n",
    "    df_scores_tmp = get_country(df_tweets, countries[key])[\n",
    "        [\"sentiment_vader\", \"sentiment_textblob\"]\n",
    "    ]\n",
    "    count = len(df_scores_tmp)\n",
    "    df_scores_tmp = pd.DataFrame(\n",
    "        df_scores_tmp.mean(),\n",
    "        columns=[key],\n",
    "    ).T\n",
    "    df_scores_tmp[\"count\"] = count\n",
    "    df_scores = pd.concat([df_scores, df_scores_tmp], sort=False)\n",
    "\n",
    "df_scores = df_scores.reset_index().rename(columns={\"index\": \"country\"})\n",
    "\n",
    "plt.figure(figsize=(10, 10))\n",
    "sns.scatterplot(\n",
    "    data=df_scores,\n",
    "    x=\"sentiment_vader\",\n",
    "    y=\"sentiment_textblob\",\n",
    "    hue=\"country\",\n",
    "    size=\"count\",\n",
    "    sizes=(40, 1600),\n",
    "    legend=False,\n",
    "    alpha=0.4,\n",
    ")\n",
    "\n",
    "for tup in df_scores.itertuples():\n",
    "    plt.annotate(tup[1].upper(), (tup[2], tup[3]))\n",
    "\n",
    "plt.tight_layout()"
   ]
  },
  {
   "cell_type": "markdown",
   "id": "3fa60eb0-6b7c-4bff-b8cf-5310131b3a07",
   "metadata": {},
   "source": [
    "#### Find tweets about Serbia (but not Croatia)"
   ]
  },
  {
   "cell_type": "code",
   "execution_count": null,
   "id": "eefe604f-9a7b-400b-8f8c-8e5a50c72497",
   "metadata": {},
   "outputs": [],
   "source": [
    "%%time\n",
    "\n",
    "df_serbien = get_country(df_tweets, countries[\"serbia\"], countries[\"croatia\"])\n",
    "df_serbien[\"direct_url\"] = df_serbien[\"url\"].apply(lambda x: get_direct_url(x))\n",
    "\n",
    "df_serbien.head()"
   ]
  },
  {
   "cell_type": "markdown",
   "id": "b0889901-572f-4e2e-a8c8-b0293557a55c",
   "metadata": {},
   "source": [
    "#### Find tweets about Croatia (but not Serbia)"
   ]
  },
  {
   "cell_type": "code",
   "execution_count": null,
   "id": "396fff99-d3cb-4fd1-9143-2f0c5a6e5a30",
   "metadata": {
    "tags": []
   },
   "outputs": [],
   "source": [
    "%%time\n",
    "\n",
    "df_kroatien = get_country(df_tweets, countries[\"croatia\"], countries[\"serbia\"])\n",
    "df_kroatien[\"direct_url\"] = df_kroatien[\"url\"].apply(lambda x: get_direct_url(x))\n",
    "\n",
    "df_kroatien.head()"
   ]
  },
  {
   "cell_type": "markdown",
   "id": "ab9b5104-1475-4fe7-93d2-64f604353e40",
   "metadata": {},
   "source": [
    "#### Find tweets about both Serbia and Croatia"
   ]
  },
  {
   "cell_type": "code",
   "execution_count": null,
   "id": "37898f0b-18a5-4fe7-bf96-2de67927f998",
   "metadata": {},
   "outputs": [],
   "source": [
    "%%time\n",
    "\n",
    "df_both = df_tweets[\n",
    "    [\"date\", \"rawContent\", \"sentiment_vader\", \"sentiment_textblob\", \"url\"]\n",
    "].copy()\n",
    "\n",
    "df_both = df_both.loc[\n",
    "    df_both.rawContent.str.lower().str.contains(\n",
    "        \"|\".join(countries[\"croatia\"]), regex=True\n",
    "    )\n",
    "    & df_both.rawContent.str.lower().str.contains(\n",
    "        \"|\".join(countries[\"serbia\"]), regex=True\n",
    "    )\n",
    "].reset_index(drop=True)\n",
    "df_both[\"direct_url\"] = df_both[\"url\"].apply(lambda x: get_direct_url(x))\n",
    "\n",
    "print(len(df_both), \"tweets\")\n",
    "\n",
    "df_both.head()"
   ]
  },
  {
   "cell_type": "markdown",
   "id": "844fbafa-3b59-4426-a37e-a905912aa4bb",
   "metadata": {},
   "source": [
    "Save"
   ]
  },
  {
   "cell_type": "code",
   "execution_count": 57,
   "id": "c6fed7bc-e201-4f3a-852a-a465c58b14dc",
   "metadata": {},
   "outputs": [],
   "source": [
    "df_both.to_csv(data_dir + \"/df_both.csv\", index=False)\n",
    "df_serbien.to_csv(data_dir + \"/df_serbien.csv\", index=False)\n",
    "df_kroatien.to_csv(data_dir + \"/df_kroatien.csv\", index=False)"
   ]
  },
  {
   "cell_type": "markdown",
   "id": "e4827560-4487-4524-9f1c-f020096b8c7b",
   "metadata": {},
   "source": [
    "Load"
   ]
  },
  {
   "cell_type": "code",
   "execution_count": 119,
   "id": "608f23bf-d652-48e0-b9db-125403623bc1",
   "metadata": {},
   "outputs": [],
   "source": [
    "df_both = pd.read_csv(data_dir + \"/df_both.csv\")\n",
    "df_serbien = pd.read_csv(data_dir + \"/df_serbien.csv\")\n",
    "df_kroatien = pd.read_csv(data_dir + \"/df_kroatien.csv\")"
   ]
  },
  {
   "cell_type": "markdown",
   "id": "9a9ef801-bd21-4942-847e-326156502f38",
   "metadata": {},
   "source": [
    "#### Controls: Find tweets about other countries (Romania, Hungary, Finland)"
   ]
  },
  {
   "cell_type": "code",
   "execution_count": null,
   "id": "1b06440a-d861-4a48-b881-93bc540ec873",
   "metadata": {},
   "outputs": [],
   "source": [
    "df_rumanien = get_country(df_tweets, countries[\"romania\"])\n",
    "\n",
    "\n",
    "df_rumanien.head()"
   ]
  },
  {
   "cell_type": "code",
   "execution_count": null,
   "id": "035bcff6-8e72-41ae-b7bc-c496ee13cd0e",
   "metadata": {},
   "outputs": [],
   "source": [
    "df_ungarn = get_country(df_tweets, countries[\"hungary\"])\n",
    "\n",
    "\n",
    "df_ungarn.head()"
   ]
  },
  {
   "cell_type": "code",
   "execution_count": null,
   "id": "c62fd111-dbee-4fe3-a9ef-5db37de48390",
   "metadata": {},
   "outputs": [],
   "source": [
    "df_finnland = get_country(df_tweets, countries[\"finland\"])\n",
    "\n",
    "\n",
    "df_finnland.head()"
   ]
  },
  {
   "cell_type": "code",
   "execution_count": null,
   "id": "aa5a722d-1629-4b17-becc-5257da6a0c4e",
   "metadata": {},
   "outputs": [],
   "source": [
    "from scipy.stats import ttest_ind\n",
    "from pingouin import ttest"
   ]
  },
  {
   "cell_type": "markdown",
   "id": "422f57ef-f5c5-4ef2-af5c-aebb72a684d8",
   "metadata": {},
   "source": [
    "*t*-Test"
   ]
  },
  {
   "cell_type": "code",
   "execution_count": null,
   "id": "a3872b3b-c09a-4c05-bb0c-cf11224616b7",
   "metadata": {},
   "outputs": [],
   "source": [
    "ttest(\n",
    "    df_kroatien.sentiment_textblob, df_serbien.sentiment_textblob, alternative=\"greater\"\n",
    ")"
   ]
  },
  {
   "cell_type": "markdown",
   "id": "61e8fad7-2301-4783-bd41-6d1d3f6fbd1b",
   "metadata": {},
   "source": [
    "Permutation test"
   ]
  },
  {
   "cell_type": "code",
   "execution_count": null,
   "id": "ca612c45-f64e-42f8-8521-d8a235ed4bf9",
   "metadata": {},
   "outputs": [],
   "source": [
    "ttest_ind(\n",
    "    df_kroatien.sentiment_textblob,\n",
    "    df_serbien.sentiment_textblob,\n",
    "    permutations=100_000,\n",
    "    alternative=\"greater\",\n",
    ")"
   ]
  },
  {
   "cell_type": "markdown",
   "id": "eba31db3-6a3e-44c2-b99c-0ff5dadaa8f5",
   "metadata": {},
   "source": [
    "<div class=\"alert alert-info\">More positive coverage of Croatia over Serbia is significant, but the difference is small.</div>"
   ]
  },
  {
   "cell_type": "markdown",
   "id": "2aa91aae-77bb-4c2f-8428-6eb7848d11fd",
   "metadata": {},
   "source": [
    "*t*-Tests vs baseline"
   ]
  },
  {
   "cell_type": "code",
   "execution_count": null,
   "id": "ce659fba-d8a2-4b11-9dd7-dbdf98dee0af",
   "metadata": {},
   "outputs": [],
   "source": [
    "df_tweets[\"sentiment_textblob\"] = df_tweets.rawContent.apply(\n",
    "    lambda x: TextBlob(x).polarity\n",
    ")\n",
    "\n",
    "df_tweets.sentiment_textblob.mean()"
   ]
  },
  {
   "cell_type": "code",
   "execution_count": null,
   "id": "662b3ef3-41ac-4428-ae88-33ba3d6f9126",
   "metadata": {},
   "outputs": [],
   "source": [
    "ttest_ind(df_kroatien.sentiment_textblob, df_tweets.sentiment_textblob)"
   ]
  },
  {
   "cell_type": "code",
   "execution_count": null,
   "id": "46fcea95-2e3d-47d1-8725-e14001b8e41d",
   "metadata": {},
   "outputs": [],
   "source": [
    "ttest_ind(df_serbien.sentiment_textblob, df_tweets.sentiment_textblob)"
   ]
  },
  {
   "cell_type": "markdown",
   "id": "f5f4a5b3-ee7a-4208-910f-7beced036663",
   "metadata": {},
   "source": [
    "### Scrape the complete articles"
   ]
  },
  {
   "cell_type": "code",
   "execution_count": null,
   "id": "fc1c75e7-cdd3-4d0c-80bd-67f791be9f41",
   "metadata": {},
   "outputs": [],
   "source": [
    "from bs4 import BeautifulSoup\n",
    "\n",
    "\n",
    "def get_text(url):\n",
    "    try:\n",
    "        soup = BeautifulSoup(requests.get(url).content, \"html.parser\")\n",
    "        txt = soup.find_all(\"div\", class_=\"article-text\")[0].text\n",
    "    except:\n",
    "        txt = \"\"\n",
    "    return txt\n",
    "\n",
    "\n",
    "df_both[\"article_text\"] = df_both[\"direct_url\"].apply(lambda x: get_text(x))\n",
    "df_serbien[\"article_text\"] = df_serbien[\"direct_url\"].apply(lambda x: get_text(x))\n",
    "df_kroatien[\"article_text\"] = df_kroatien[\"direct_url\"].apply(lambda x: get_text(x))"
   ]
  },
  {
   "cell_type": "markdown",
   "id": "40abb9f7-ca9e-4cfc-9171-9a3dc7611474",
   "metadata": {},
   "source": [
    "Save"
   ]
  },
  {
   "cell_type": "code",
   "execution_count": null,
   "id": "86ed6bef-7c0e-41ed-8d79-d0710400767b",
   "metadata": {},
   "outputs": [],
   "source": [
    "df_both.to_csv(data_dir + \"/df_both_with_article_short.csv\", index=False)\n",
    "df_serbien.to_csv(data_dir + \"/df_serbien_with_article_short.csv\", index=False)\n",
    "df_kroatien.to_csv(data_dir + \"/df_kroatien_with_article_short.csv\", index=False)"
   ]
  },
  {
   "cell_type": "markdown",
   "id": "cf8c8019-f78a-4b75-8d6f-1d7da72fe75b",
   "metadata": {},
   "source": [
    "Load"
   ]
  },
  {
   "cell_type": "code",
   "execution_count": 139,
   "id": "071f8cc2-d905-4466-8f39-7192afcafcd7",
   "metadata": {},
   "outputs": [],
   "source": [
    "df_both = pd.read_csv(data_dir + \"/df_both_with_article_short.csv\")\n",
    "df_serbien = pd.read_csv(data_dir + \"/df_serbien_with_article_short.csv\")\n",
    "df_kroatien = pd.read_csv(data_dir + \"/df_kroatien_with_article_short.csv\")"
   ]
  },
  {
   "cell_type": "code",
   "execution_count": 140,
   "id": "8b303203-fe58-4b09-9b83-f3297ade8d34",
   "metadata": {},
   "outputs": [],
   "source": [
    "df_serbien[\"article_text\"] = df_serbien.article_text.fillna(\"\")\n",
    "df_kroatien[\"article_text\"] = df_kroatien.article_text.fillna(\"\")\n",
    "df_both[\"article_text\"] = df_both.article_text.fillna(\"\")"
   ]
  },
  {
   "cell_type": "code",
   "execution_count": 141,
   "id": "8ae3d15d-2eb3-4f7c-b59a-194234ab5579",
   "metadata": {},
   "outputs": [],
   "source": [
    "df_serbien[\"sentiment_textblob_2\"] = df_serbien.article_text.apply(\n",
    "    lambda x: TextBlob(x).polarity\n",
    ")\n",
    "df_serbien[\"sentiment_vader_2\"] = df_serbien.article_text.apply(\n",
    "    lambda x: sid.polarity_scores(x)[\"compound\"]\n",
    ")\n",
    "\n",
    "\n",
    "df_kroatien[\"sentiment_textblob_2\"] = df_kroatien.article_text.apply(\n",
    "    lambda x: TextBlob(x).polarity\n",
    ")\n",
    "df_kroatien[\"sentiment_vader_2\"] = df_kroatien.article_text.apply(\n",
    "    lambda x: sid.polarity_scores(x)[\"compound\"]\n",
    ")\n",
    "\n",
    "\n",
    "df_both[\"sentiment_textblob_2\"] = df_both.article_text.apply(\n",
    "    lambda x: TextBlob(x).polarity\n",
    ")\n",
    "df_both[\"sentiment_vader_2\"] = df_both.article_text.apply(\n",
    "    lambda x: sid.polarity_scores(x)[\"compound\"]\n",
    ")"
   ]
  },
  {
   "cell_type": "markdown",
   "id": "3c1960b1-d0b7-4086-9ab0-ed8180802da3",
   "metadata": {},
   "source": [
    "Trying a diffferent sentiment method"
   ]
  },
  {
   "cell_type": "code",
   "execution_count": null,
   "id": "a9b4c584-5fe0-477f-8bf1-3b3e80eafc87",
   "metadata": {},
   "outputs": [],
   "source": []
  },
  {
   "cell_type": "code",
   "execution_count": null,
   "id": "d23476bf-5fe6-4a2b-bd53-f7778140f85f",
   "metadata": {},
   "outputs": [],
   "source": [
    "#!pip install flair"
   ]
  },
  {
   "cell_type": "code",
   "execution_count": null,
   "id": "04bd3df3-9d98-4e15-917a-1ffa17025072",
   "metadata": {},
   "outputs": [],
   "source": [
    "from flair.models import TextClassifier\n",
    "from flair.data import Sentence\n",
    "classifier = TextClassifier.load('en-sentiment')"
   ]
  },
  {
   "cell_type": "code",
   "execution_count": 106,
   "id": "d1159552-f7c4-406e-99ef-947207568545",
   "metadata": {},
   "outputs": [],
   "source": [
    "def get_flair_score(txt):\n",
    "    if txt != \"\":\n",
    "        txt = Sentence(txt)\n",
    "        classifier.predict(txt)\n",
    "        return txt.score\n",
    "    else:\n",
    "        return None"
   ]
  },
  {
   "cell_type": "code",
   "execution_count": 149,
   "id": "f6e3266e-3783-4e1f-8685-2445e4ea60f2",
   "metadata": {},
   "outputs": [],
   "source": [
    "df_serbien[\"article_text\"] = df_serbien.article_text.str.replace(\"\\n\", \"\")\n",
    "df_kroatien[\"article_text\"] = df_kroatien.article_text.str.replace(\"\\n\", \"\")\n",
    "df_both[\"article_text\"] = df_both.article_text.str.replace(\"\\n\", \"\")"
   ]
  },
  {
   "cell_type": "code",
   "execution_count": 151,
   "id": "7d303717-c03b-4694-a245-a031d2722d70",
   "metadata": {},
   "outputs": [],
   "source": [
    "df_serbien[\"sentiment_flair_2\"] = df_serbien.article_text.apply(\n",
    "    lambda x: get_flair_score(x)\n",
    ")"
   ]
  },
  {
   "cell_type": "code",
   "execution_count": 152,
   "id": "2bc1a45d-775a-4db5-b6d0-cbccbebe6a82",
   "metadata": {},
   "outputs": [],
   "source": [
    "df_kroatien[\"sentiment_flair_2\"] = df_kroatien.article_text.apply(\n",
    "    lambda x: get_flair_score(x)\n",
    ")\n",
    "\n",
    "df_both[\"sentiment_flair_2\"] = df_both.article_text.apply(lambda x: get_flair_score(x))"
   ]
  },
  {
   "cell_type": "code",
   "execution_count": 153,
   "id": "5e77458c-c567-42f7-b9c8-a6b5351ad721",
   "metadata": {},
   "outputs": [
    {
     "data": {
      "text/plain": [
       "sentiment_vader_2      -0.376056\n",
       "sentiment_textblob_2   -0.005198\n",
       "sentiment_flair_2       0.915754\n",
       "dtype: float64"
      ]
     },
     "execution_count": 153,
     "metadata": {},
     "output_type": "execute_result"
    }
   ],
   "source": [
    "df_serbien[[\"sentiment_vader_2\", \"sentiment_textblob_2\", \"sentiment_flair_2\"]].mean()"
   ]
  },
  {
   "cell_type": "code",
   "execution_count": 154,
   "id": "54a09456-4167-40d9-ab61-0c930af39b82",
   "metadata": {},
   "outputs": [
    {
     "data": {
      "text/plain": [
       "sentiment_vader_2      -0.363010\n",
       "sentiment_textblob_2    0.001320\n",
       "sentiment_flair_2       0.937064\n",
       "dtype: float64"
      ]
     },
     "execution_count": 154,
     "metadata": {},
     "output_type": "execute_result"
    }
   ],
   "source": [
    "df_kroatien[[\"sentiment_vader_2\", \"sentiment_textblob_2\", \"sentiment_flair_2\"]].mean()"
   ]
  },
  {
   "cell_type": "code",
   "execution_count": 155,
   "id": "4fb91d73-074d-4a90-800f-65bf020377d9",
   "metadata": {},
   "outputs": [
    {
     "data": {
      "text/plain": [
       "sentiment_vader_2      -0.196267\n",
       "sentiment_textblob_2    0.000000\n",
       "sentiment_flair_2       0.887214\n",
       "dtype: float64"
      ]
     },
     "execution_count": 155,
     "metadata": {},
     "output_type": "execute_result"
    }
   ],
   "source": [
    "df_both[[\"sentiment_vader_2\", \"sentiment_textblob_2\", \"sentiment_flair_2\"]].mean()"
   ]
  },
  {
   "cell_type": "code",
   "execution_count": 156,
   "id": "26671604-a08b-45a8-b202-61b7432b8b94",
   "metadata": {},
   "outputs": [],
   "source": [
    "df_serbien[\"year\"] = pd.to_datetime(df_serbien.date).dt.year\n",
    "df_kroatien[\"year\"] = pd.to_datetime(df_kroatien.date).dt.year\n",
    "df_both[\"year\"] = pd.to_datetime(df_both.date).dt.year\n",
    "\n",
    "df_serbien_grp = (\n",
    "    df_serbien.groupby(\"year\")\n",
    "    .mean()[[\"sentiment_textblob_2\", \"sentiment_vader_2\", \"sentiment_flair_2\"]]\n",
    "    .reset_index()\n",
    ")\n",
    "\n",
    "df_kroatien_grp = (\n",
    "    df_kroatien.groupby(\"year\")\n",
    "    .mean()[[\"sentiment_textblob_2\", \"sentiment_vader_2\", \"sentiment_flair_2\"]]\n",
    "    .reset_index()\n",
    ")\n",
    "\n",
    "df_both_grp = (\n",
    "    df_both.groupby(\"year\")\n",
    "    .mean()[[\"sentiment_textblob_2\", \"sentiment_vader_2\", \"sentiment_flair_2\"]]\n",
    "    .reset_index()\n",
    ")\n",
    "\n",
    "df_both_grp[\"country\"] = \"both\"\n",
    "df_serbien_grp[\"country\"] = \"serbia\"\n",
    "df_kroatien_grp[\"country\"] = \"croatia\"\n",
    "\n",
    "df_grp = pd.concat([df_serbien_grp, df_kroatien_grp], sort=False)"
   ]
  },
  {
   "cell_type": "code",
   "execution_count": 157,
   "id": "c4b4ee2a-c1da-4538-9609-a4c1a4e9592d",
   "metadata": {},
   "outputs": [
    {
     "data": {
      "text/plain": [
       "<AxesSubplot:xlabel='year', ylabel='sentiment_textblob_2'>"
      ]
     },
     "execution_count": 157,
     "metadata": {},
     "output_type": "execute_result"
    },
    {
     "data": {
      "image/png": "[encoded data removed]",
      "text/plain": [
       "<Figure size 640x480 with 1 Axes>"
      ]
     },
     "metadata": {},
     "output_type": "display_data"
    }
   ],
   "source": [
    "sns.lineplot(data=df_grp, x=\"year\", y=\"sentiment_textblob_2\", hue=\"country\")"
   ]
  },
  {
   "cell_type": "code",
   "execution_count": 158,
   "id": "95fcfb53-e2be-49da-a4c3-649cf29ee504",
   "metadata": {},
   "outputs": [
    {
     "data": {
      "text/plain": [
       "<AxesSubplot:xlabel='year', ylabel='sentiment_vader_2'>"
      ]
     },
     "execution_count": 158,
     "metadata": {},
     "output_type": "execute_result"
    },
    {
     "data": {
      "image/png": "[encoded data removed]",
      "text/plain": [
       "<Figure size 640x480 with 1 Axes>"
      ]
     },
     "metadata": {},
     "output_type": "display_data"
    }
   ],
   "source": [
    "sns.lineplot(data=df_grp, x=\"year\", y=\"sentiment_vader_2\", hue=\"country\")"
   ]
  },
  {
   "cell_type": "markdown",
   "id": "1f2a793e-59e9-40ab-8df3-d28ffcca745f",
   "metadata": {},
   "source": [
    "using 0 form missing values is not a good decisions"
   ]
  },
  {
   "cell_type": "code",
   "execution_count": 161,
   "id": "9a3e1d54-d002-4ce9-b2e9-67cad9bbb5ad",
   "metadata": {},
   "outputs": [],
   "source": [
    "df_grp.sentiment_flair_2 = df_grp.sentiment_flair_2.fillna(0)"
   ]
  },
  {
   "cell_type": "code",
   "execution_count": 162,
   "id": "e4aa341c-4e5a-4e5d-9d1d-5d42d5196857",
   "metadata": {},
   "outputs": [
    {
     "data": {
      "text/plain": [
       "<AxesSubplot:xlabel='year', ylabel='sentiment_flair_2'>"
      ]
     },
     "execution_count": 162,
     "metadata": {},
     "output_type": "execute_result"
    },
    {
     "data": {
      "image/png": "[encoded data removed]",
      "text/plain": [
       "<Figure size 640x480 with 1 Axes>"
      ]
     },
     "metadata": {},
     "output_type": "display_data"
    }
   ],
   "source": [
    "sns.lineplot(data=df_grp, x=\"year\", y=\"sentiment_flair_2\", hue=\"country\")"
   ]
  },
  {
   "cell_type": "code",
   "execution_count": null,
   "id": "bd8e141f-63c7-4ea0-b67a-13b93b68913e",
   "metadata": {},
   "outputs": [],
   "source": []
  }
 ],
 "metadata": {
  "kernelspec": {
   "display_name": "Python 3 (ipykernel)",
   "language": "python",
   "name": "python3"
  },
  "language_info": {
   "codemirror_mode": {
    "name": "ipython",
    "version": 3
   },
   "file_extension": ".py",
   "mimetype": "text/x-python",
   "name": "python",
   "nbconvert_exporter": "python",
   "pygments_lexer": "ipython3",
   "version": "3.9.13"
  }
 },
 "nbformat": 4,
 "nbformat_minor": 5
}
