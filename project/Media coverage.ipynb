{
 "cells": [
  {
   "cell_type": "markdown",
   "id": "4f2ebc25-2803-4203-94f7-2fbc0792bba5",
   "metadata": {
    "tags": []
   },
   "source": [
    "Analyzing Media Coverage Of Other Countries in Austria\n",
    "===\n",
    "\n",
    "\n",
    "The aim of this project is to find out how reporting in Austria's print media about certain countries has changed over time (sentiment, which topics). In two further steps, I would also like to go down to the level of the individual newspapers and their authors and take an explorative look at whether there are tendencies/bias here. As countries of interest I choose Balkan countries because of their proximity to Austria and their long history of conflict.\n",
    "\n",
    "    Text corpora: Austrian newspaper articles (or their respective twitter posts)\n",
    "    Language: German\n",
    "    Time: 2000–2022\n",
    "    Method: Adding country labels to the articles, Sentiment Scores (, extracting underlying topics of the articles, e.g. with fuzzy topic modeling) \n",
    "    \n",
    "According to https://de.wikipedia.org/wiki/Liste_%C3%B6sterreichischer_Zeitungen_und_Zeitschriften derstandard.at and krone.at reach the most people online, they also cover Austrian society quite well. So, initially, I will focus on these two and might add some more newspapers at a later stage."
   ]
  },
  {
   "cell_type": "markdown",
   "id": "081e0c21-e47d-40aa-9380-68ee2f79db70",
   "metadata": {},
   "source": [
    "* Focus on 2 countries: Serbia and Croatia (like Austria now a EU country)\n",
    "* I will label an article with \"Serbia\" if the ratio of amount of words that relate to \"Serbia\"  compared to words that relate to \"Croatia\" is greater than 4\n",
    "* I will also try to find out if there are certain authors who are responsible for a certain tendency.\n",
    "* Another analysis could be build upon the ratio of \"Serbia\" and \"Albania\" or \"Kosovo\"\n",
    "\n",
    "**Hypothesis 1: Tweets about Croatia are on average more positive than tweets about Serbia**"
   ]
  },
  {
   "cell_type": "markdown",
   "id": "e8e1d347-48c9-4879-b923-50b743f59f79",
   "metadata": {},
   "source": [
    "Inspiration:\n",
    "https://www.brookings.edu/blog/africa-in-focus/2017/08/08/exploring-media-sentiment-around-africa-country-analysis/"
   ]
  },
  {
   "cell_type": "code",
   "execution_count": 1,
   "id": "eec6929b-dce0-4b83-9ca8-604f4cb90b92",
   "metadata": {
    "tags": []
   },
   "outputs": [
    {
     "data": {
      "text/html": [
       "\n",
       "                <script type=\"application/javascript\" id=\"jupyter_black\">\n",
       "                (function() {\n",
       "                    if (window.IPython === undefined) {\n",
       "                        return\n",
       "                    }\n",
       "                    var msg = \"WARNING: it looks like you might have loaded \" +\n",
       "                        \"jupyter_black in a non-lab notebook with \" +\n",
       "                        \"`is_lab=True`. Please double check, and if \" +\n",
       "                        \"loading with `%load_ext` please review the README!\"\n",
       "                    console.log(msg)\n",
       "                    alert(msg)\n",
       "                })()\n",
       "                </script>\n",
       "                "
      ],
      "text/plain": [
       "<IPython.core.display.HTML object>"
      ]
     },
     "metadata": {},
     "output_type": "display_data"
    }
   ],
   "source": [
    "import jupyter_black\n",
    "\n",
    "jupyter_black.load()"
   ]
  },
  {
   "cell_type": "code",
   "execution_count": 2,
   "id": "e94fe83f-5986-4487-87b0-69c28beffad0",
   "metadata": {},
   "outputs": [],
   "source": [
    "import os\n",
    "import json\n",
    "import subprocess\n",
    "import pandas as pd\n",
    "import seaborn as sns\n",
    "import matplotlib.pyplot as plt\n",
    "import regex as re\n",
    "from bs4 import BeautifulSoup\n",
    "import requests\n",
    "\n",
    "\n",
    "data_dir = \"data/twitter\"\n",
    "\n",
    "if os.path.exists(data_dir) == False:\n",
    "    os.makedirs(data_dir)\n",
    "\n",
    "\n",
    "def dl_user(user, max_results=None, local=False):\n",
    "    \"\"\"\n",
    "    Function to download tweets by username.\n",
    "    Set local to True, if tweets have already\n",
    "    been downloaded and are available in data_dir.\n",
    "\n",
    "    Returns a DataFrame.\n",
    "\n",
    "    \"\"\"\n",
    "\n",
    "    if local == False:\n",
    "        with open(data_dir + f\"/user-{user}.json\", \"w+\") as fo:\n",
    "            if max_results == None:\n",
    "                cmd_list = [\"snscrape\", \"--jsonl\", \"twitter-user\", user]\n",
    "            else:\n",
    "                cmd_list = [\n",
    "                    \"snscrape\",\n",
    "                    \"--jsonl\",\n",
    "                    \"-n \" + str(max_results),\n",
    "                    \"twitter-user\",\n",
    "                    user,\n",
    "                ]\n",
    "            p = subprocess.Popen(cmd_list, stdout=fo)\n",
    "            p.wait()\n",
    "\n",
    "    with open(data_dir + f\"/user-{user}.json\", \"r\") as fo:\n",
    "        tweets = fo.readlines()\n",
    "\n",
    "    tweets = [json.loads(tweets[i]) for i in range(0, len(tweets))]\n",
    "    print(\"loaded\", len(tweets), \"tweets\\n\")\n",
    "\n",
    "    df_tweets = pd.DataFrame(tweets)\n",
    "    df_tweets[\"date\"] = pd.to_datetime(df_tweets[\"date\"])\n",
    "\n",
    "    return df_tweets[[\"date\", \"rawContent\"]]"
   ]
  },
  {
   "cell_type": "markdown",
   "id": "e241f950-b2f3-4d09-afd5-7f97137af3f3",
   "metadata": {},
   "source": [
    "# 1. Scraping newspaper articles\n",
    "\n",
    "## 1.1. derStandard.at"
   ]
  },
  {
   "cell_type": "code",
   "execution_count": null,
   "id": "81c012de-9c75-4cf2-8645-5d26f9e466f1",
   "metadata": {},
   "outputs": [],
   "source": [
    "df_tweets = dl_user(\"derstandardat\", max_results=None, local=False)\n",
    "\n",
    "df_tweets.head()"
   ]
  },
  {
   "cell_type": "markdown",
   "id": "a76d04a4-d432-4514-8e7a-da3e7e1fd088",
   "metadata": {},
   "source": [
    "### Extract urls for complete articles"
   ]
  },
  {
   "cell_type": "markdown",
   "id": "3ccd8680-87ce-4d79-89d4-254a5423eb2e",
   "metadata": {},
   "source": [
    "<div class=\"alert alert-warning\">Takes ages! Speed this up!!!</div>"
   ]
  },
  {
   "cell_type": "code",
   "execution_count": 5,
   "id": "9788923b-da54-45f1-847d-5718885c07dd",
   "metadata": {},
   "outputs": [],
   "source": [
    "def get_url(txt):\n",
    "    \"\"\"\n",
    "    Get url from tweet.\n",
    "\n",
    "    \"\"\"\n",
    "\n",
    "    try:\n",
    "        return re.search(\"(?P<url>https?://[^\\s]+)\", txt).captures()[0]\n",
    "    except:\n",
    "        return \"\"\n",
    "\n",
    "\n",
    "from time import sleep\n",
    "\n",
    "\n",
    "def get_direct_url(url):\n",
    "    \"\"\"\n",
    "    Direct url\n",
    "\n",
    "    \"\"\"\n",
    "\n",
    "    url_direct = None\n",
    "\n",
    "    if url != \"\":\n",
    "        while url_direct == None:\n",
    "            print(\".\", end=\"\")\n",
    "            try:\n",
    "                page = requests.get(\n",
    "                    url, headers={\"User-Agent\": \"Mozilla/5.0\"}, timeout=(0.5, 27)\n",
    "                )\n",
    "                html = BeautifulSoup(page.text, \"html.parser\")\n",
    "                url_direct = html.find(\"link\")\n",
    "                if url_direct == None:\n",
    "                    url_direct = \"\"\n",
    "                else:\n",
    "                    url_direct = url_direct.get(\"href\")\n",
    "            except Exception as e:\n",
    "                ...\n",
    "        print(\"1\", end=\"\")\n",
    "\n",
    "        sleep(0.5)\n",
    "\n",
    "        return url_direct\n",
    "\n",
    "    else:\n",
    "        print(\"0\", end=\"\")\n",
    "        return url"
   ]
  },
  {
   "cell_type": "markdown",
   "id": "8720c15a-9c18-423d-a930-9005345fc6dc",
   "metadata": {},
   "source": [
    "First tep: Get short url from text"
   ]
  },
  {
   "cell_type": "code",
   "execution_count": 11,
   "id": "b9f73b42-8604-496d-af20-577444241afc",
   "metadata": {},
   "outputs": [
    {
     "name": "stdout",
     "output_type": "stream",
     "text": [
      "CPU times: user 2.8 s, sys: 9.62 ms, total: 2.81 s\n",
      "Wall time: 2.81 s\n"
     ]
    }
   ],
   "source": [
    "%%time\n",
    "\n",
    "\n",
    "df_tweets[\"url\"] = df_tweets[\"rawContent\"].apply(lambda x: get_url(x))"
   ]
  },
  {
   "cell_type": "markdown",
   "id": "8b9c0496-cc94-42d6-a37d-feb1e90e554e",
   "metadata": {},
   "source": [
    "### Preprocess text\n",
    "\n",
    "<div class=\"alert alert-warning\">Necessary?</div>"
   ]
  },
  {
   "cell_type": "code",
   "execution_count": 19,
   "id": "fc59be2e-f422-4e72-8c56-18b5c6119a83",
   "metadata": {},
   "outputs": [],
   "source": [
    "#\n",
    "#\n",
    "#"
   ]
  },
  {
   "cell_type": "markdown",
   "id": "a35ad424-218f-4749-bf97-21c0d6f80f63",
   "metadata": {},
   "source": [
    "### Save to file"
   ]
  },
  {
   "cell_type": "code",
   "execution_count": 14,
   "id": "45305dc1-78e1-472f-a43a-9b11d00adbba",
   "metadata": {},
   "outputs": [],
   "source": [
    "df_tweets.to_csv(data_dir + \"/media_coverage_with_url.csv\", index=False)"
   ]
  },
  {
   "cell_type": "markdown",
   "id": "98cab103-62ac-433d-bfb9-47950d8a58a0",
   "metadata": {},
   "source": [
    "### Load from file"
   ]
  },
  {
   "cell_type": "code",
   "execution_count": 5,
   "id": "a801b063-e755-425c-822c-b684cdc863d4",
   "metadata": {},
   "outputs": [
    {
     "data": {
      "text/html": [
       "<div>\n",
       "<style scoped>\n",
       "    .dataframe tbody tr th:only-of-type {\n",
       "        vertical-align: middle;\n",
       "    }\n",
       "\n",
       "    .dataframe tbody tr th {\n",
       "        vertical-align: top;\n",
       "    }\n",
       "\n",
       "    .dataframe thead th {\n",
       "        text-align: right;\n",
       "    }\n",
       "</style>\n",
       "<table border=\"1\" class=\"dataframe\">\n",
       "  <thead>\n",
       "    <tr style=\"text-align: right;\">\n",
       "      <th></th>\n",
       "      <th>date</th>\n",
       "      <th>rawContent</th>\n",
       "      <th>url</th>\n",
       "    </tr>\n",
       "  </thead>\n",
       "  <tbody>\n",
       "    <tr>\n",
       "      <th>272432</th>\n",
       "      <td>2009-05-13 13:14:27+00:00</td>\n",
       "      <td>Mölzer im Chat: \"Kulturkampf zwischen Christen...</td>\n",
       "      <td>http://derStandard.at/EU</td>\n",
       "    </tr>\n",
       "    <tr>\n",
       "      <th>272433</th>\n",
       "      <td>2009-05-12 14:24:59+00:00</td>\n",
       "      <td>Morgen geht es weiter mit den EU-Chats. Andrea...</td>\n",
       "      <td>http://derStandard.at/EU</td>\n",
       "    </tr>\n",
       "    <tr>\n",
       "      <th>272434</th>\n",
       "      <td>2009-05-12 14:23:09+00:00</td>\n",
       "      <td>\"Wenn wir die EU nicht hätten, müssten wir sie...</td>\n",
       "      <td>NaN</td>\n",
       "    </tr>\n",
       "    <tr>\n",
       "      <th>272435</th>\n",
       "      <td>2009-03-26 16:16:10+00:00</td>\n",
       "      <td>Neu: Permalinks für Postings, Artikel und Schw...</td>\n",
       "      <td>http://tinyurl.com/deqklo</td>\n",
       "    </tr>\n",
       "    <tr>\n",
       "      <th>272436</th>\n",
       "      <td>2009-03-26 15:49:04+00:00</td>\n",
       "      <td>First tweet!</td>\n",
       "      <td>NaN</td>\n",
       "    </tr>\n",
       "  </tbody>\n",
       "</table>\n",
       "</div>"
      ],
      "text/plain": [
       "                             date  \\\n",
       "272432  2009-05-13 13:14:27+00:00   \n",
       "272433  2009-05-12 14:24:59+00:00   \n",
       "272434  2009-05-12 14:23:09+00:00   \n",
       "272435  2009-03-26 16:16:10+00:00   \n",
       "272436  2009-03-26 15:49:04+00:00   \n",
       "\n",
       "                                               rawContent  \\\n",
       "272432  Mölzer im Chat: \"Kulturkampf zwischen Christen...   \n",
       "272433  Morgen geht es weiter mit den EU-Chats. Andrea...   \n",
       "272434  \"Wenn wir die EU nicht hätten, müssten wir sie...   \n",
       "272435  Neu: Permalinks für Postings, Artikel und Schw...   \n",
       "272436                                       First tweet!   \n",
       "\n",
       "                              url  \n",
       "272432   http://derStandard.at/EU  \n",
       "272433   http://derStandard.at/EU  \n",
       "272434                        NaN  \n",
       "272435  http://tinyurl.com/deqklo  \n",
       "272436                        NaN  "
      ]
     },
     "execution_count": 5,
     "metadata": {},
     "output_type": "execute_result"
    }
   ],
   "source": [
    "df_tweets = pd.read_csv(data_dir + \"/media_coverage_with_url.csv\")\n",
    "df_tweets.tail()"
   ]
  },
  {
   "cell_type": "markdown",
   "id": "f9704697-3b4d-440c-9e37-12769f1b0326",
   "metadata": {},
   "source": [
    "### Which countries are the tweets referring to (Serbia, Croatia)?"
   ]
  },
  {
   "cell_type": "code",
   "execution_count": 9,
   "id": "f012ada4-7f27-4577-87df-48c931dfa8ad",
   "metadata": {},
   "outputs": [],
   "source": [
    "countries = dict(\n",
    "    serbia=[\"serbien\", \"serbe\", \"serbin\", \"serbisch\", \"serbo\"],\n",
    "    croatia=[\"kroatien\", \"kroate\", \"kroatin\", \"kroatisch\", \"kroato\"],\n",
    "    romania=[\"rumänien\", \"rumäne\", \"rumänin\", \"rumänisch\"],\n",
    "    hungary=[\"ungarn\", \"ungar\", \"ungarin\", \"ungarisch\", \"ungaro\"],\n",
    "    finland=[\"finnland\", \"finne\", \"finnin\", \"finnisch\", \"finno\"],\n",
    "    norway=[\"norwegen\", \"norweger\", \"norwegisch\"],\n",
    "    sweden=[\"schweden\", \"schwedin\", \"schwedisch\"],\n",
    "    danmark=[\"dänisch\", \"dänen\", \"dänin\", \"dänisch\"],\n",
    "    poland=[\"polen\", \"pole\", \"polin\", \"polnisch\"],\n",
    "    bulgaria=[\"bulgarien\", \"bulgare\", \"bulgarin\", \"bulgarisch\"],\n",
    "    russia=[\"russland\", \"russe\", \"russin\", \"russen\", \"russisch\"],\n",
    "    ukraine=[\"ukraine\", \"ukrainisch\"],\n",
    "    germany=[\"deutschland\", \"deutsche\"],\n",
    "    frankreich=[\"frankreich\", \"franzose\", \"französi\"],\n",
    "    slovenia=[\"slowenien\", \"slowene\", \"sloweni\"],\n",
    "    italy=[\"italien\"],\n",
    "    spain=[\"spanien\", \"spanier\", \"spanisch\"],\n",
    "    portugal=[\"portual\", \"portugiese\", \"portugiesin\", \"portugiesisch\"],\n",
    "    switzerland=[\"schweiz\"],\n",
    "    austria=[\"österreich\"],\n",
    "    slovakia=[\"slowakei\", \"slowake\", \"slowakin\", \"slowakisch\"],\n",
    "    czechia=[\"tschechien\", \"tscheche\", \"tschechin\", \"tschechisch\"],\n",
    "    belarus=[\n",
    "        \"belarus\",\n",
    "        \"weißrussland\",\n",
    "        \"weissrussland\",\n",
    "        \"weißrussisch\",\n",
    "        \"weissrussisch\",\n",
    "        \"weißrusse\",\n",
    "        \"weissrusse\",\n",
    "        \"weißrussin\",\n",
    "        \"weissrussin\",\n",
    "    ],\n",
    "    bosnia=[\"bosnien\", \"bosnisch\", \"herzegowina\", \"bosnier\", \"herzegowinisch\"],\n",
    "    montenegro=[\"montenegro\", \"montenegriner\", \"montenegrinisch\"],\n",
    "    albania=[\"albanien\", \"albaner\", \"albanisch\"],\n",
    ")"
   ]
  },
  {
   "cell_type": "markdown",
   "id": "7d5d8dba-2da0-469f-8051-532ad7b662f0",
   "metadata": {},
   "source": [
    "#### Function for finding tweets about countries"
   ]
  },
  {
   "cell_type": "code",
   "execution_count": 10,
   "id": "310e1985-fe36-403b-9fe2-e818f7f98ff2",
   "metadata": {},
   "outputs": [],
   "source": [
    "def get_country(df_tweets, country, not_country=None, and_country=None):\n",
    "    \"\"\"\n",
    "\n",
    "    Filters DataFrame with tweets to country-\n",
    "    specific tweets.\n",
    "\n",
    "    Optional: Can exclude tweeds of specific other countries\n",
    "    via not_country variable.\n",
    "\n",
    "    \"\"\"\n",
    "    df_country = df_tweets[\n",
    "        [\"date\", \"rawContent\", \"url\", \"sentiment_gs\", \"sentiment_textblob\"]\n",
    "    ].copy()\n",
    "\n",
    "    if not_country != None:\n",
    "        df_country = df_country.loc[\n",
    "            df_country.rawContent.str.lower().str.contains(\n",
    "                \"|\".join(country), regex=True\n",
    "            )\n",
    "            & ~df_country.rawContent.str.lower().str.contains(\n",
    "                \"|\".join(not_country), regex=True\n",
    "            )\n",
    "        ].reset_index(drop=True)\n",
    "\n",
    "    else:\n",
    "        df_country = df_country.loc[\n",
    "            df_country.rawContent.str.lower().str.contains(\n",
    "                \"|\".join(country), regex=True\n",
    "            )\n",
    "        ].reset_index(drop=True)\n",
    "\n",
    "    return df_country"
   ]
  },
  {
   "cell_type": "markdown",
   "id": "a9e7ee74-a641-4837-a10a-f7ecb322c4c8",
   "metadata": {},
   "source": [
    "### Compare sentiments betweens countries"
   ]
  },
  {
   "cell_type": "code",
   "execution_count": 189,
   "id": "6a9dc806-6eee-4673-b0a6-fdcba0ca555a",
   "metadata": {},
   "outputs": [
    {
     "data": {
      "image/png": "[encoded data removed]",
      "text/plain": [
       "<Figure size 1000x1000 with 1 Axes>"
      ]
     },
     "metadata": {},
     "output_type": "display_data"
    }
   ],
   "source": [
    "df_scores = pd.DataFrame()\n",
    "\n",
    "for key in countries.keys():\n",
    "    df_scores_tmp = get_country(df_tweets, countries[key])[\n",
    "        [\"sentiment_gs\", \"sentiment_textblob\"]\n",
    "    ]\n",
    "    count = len(df_scores_tmp)\n",
    "    df_scores_tmp = pd.DataFrame(\n",
    "        df_scores_tmp.mean(),\n",
    "        columns=[key],\n",
    "    ).T\n",
    "    df_scores_tmp[\"count\"] = count\n",
    "    df_scores = pd.concat([df_scores, df_scores_tmp], sort=False)\n",
    "\n",
    "df_scores = df_scores.reset_index().rename(columns={\"index\": \"country\"})\n",
    "\n",
    "plt.figure(figsize=(10, 10))\n",
    "sns.scatterplot(\n",
    "    data=df_scores,\n",
    "    x=\"sentiment_gs\",\n",
    "    y=\"sentiment_textblob\",\n",
    "    hue=\"country\",\n",
    "    size=\"count\",\n",
    "    sizes=(40, 1600),\n",
    "    legend=False,\n",
    "    alpha=0.4,\n",
    ")\n",
    "\n",
    "for tup in df_scores.itertuples():\n",
    "    plt.annotate(tup[1].upper(), (tup[2], tup[3]))\n",
    "\n",
    "plt.tight_layout()"
   ]
  },
  {
   "cell_type": "code",
   "execution_count": 195,
   "id": "d4f54441-19f1-441b-894f-b718ed162eac",
   "metadata": {},
   "outputs": [
    {
     "data": {
      "text/html": [
       "<div>\n",
       "<style scoped>\n",
       "    .dataframe tbody tr th:only-of-type {\n",
       "        vertical-align: middle;\n",
       "    }\n",
       "\n",
       "    .dataframe tbody tr th {\n",
       "        vertical-align: top;\n",
       "    }\n",
       "\n",
       "    .dataframe thead th {\n",
       "        text-align: right;\n",
       "    }\n",
       "</style>\n",
       "<table border=\"1\" class=\"dataframe\">\n",
       "  <thead>\n",
       "    <tr style=\"text-align: right;\">\n",
       "      <th></th>\n",
       "      <th>sentiment_textblob</th>\n",
       "      <th>sentiment_gs</th>\n",
       "    </tr>\n",
       "  </thead>\n",
       "  <tbody>\n",
       "    <tr>\n",
       "      <th>sentiment_textblob</th>\n",
       "      <td>1.000000</td>\n",
       "      <td>0.065768</td>\n",
       "    </tr>\n",
       "    <tr>\n",
       "      <th>sentiment_gs</th>\n",
       "      <td>0.065768</td>\n",
       "      <td>1.000000</td>\n",
       "    </tr>\n",
       "  </tbody>\n",
       "</table>\n",
       "</div>"
      ],
      "text/plain": [
       "                    sentiment_textblob  sentiment_gs\n",
       "sentiment_textblob            1.000000      0.065768\n",
       "sentiment_gs                  0.065768      1.000000"
      ]
     },
     "execution_count": 195,
     "metadata": {},
     "output_type": "execute_result"
    }
   ],
   "source": [
    "# check correlation of sentiment scores fr these countries\n",
    "df_scores[[\"sentiment_textblob\", \"sentiment_gs\"]].corr()"
   ]
  },
  {
   "cell_type": "markdown",
   "id": "3fa60eb0-6b7c-4bff-b8cf-5310131b3a07",
   "metadata": {},
   "source": [
    "#### Find tweets about Serbia (but not Croatia)"
   ]
  },
  {
   "cell_type": "code",
   "execution_count": null,
   "id": "eefe604f-9a7b-400b-8f8c-8e5a50c72497",
   "metadata": {},
   "outputs": [],
   "source": [
    "%%time\n",
    "\n",
    "df_serbien = get_country(df_tweets, countries[\"serbia\"], countries[\"croatia\"])\n",
    "df_serbien[\"direct_url\"] = df_serbien[\"url\"].apply(lambda x: get_direct_url(x))\n",
    "\n",
    "df_serbien.head()"
   ]
  },
  {
   "cell_type": "markdown",
   "id": "b0889901-572f-4e2e-a8c8-b0293557a55c",
   "metadata": {},
   "source": [
    "#### Find tweets about Croatia (but not Serbia)"
   ]
  },
  {
   "cell_type": "code",
   "execution_count": null,
   "id": "396fff99-d3cb-4fd1-9143-2f0c5a6e5a30",
   "metadata": {
    "tags": []
   },
   "outputs": [],
   "source": [
    "%%time\n",
    "\n",
    "df_kroatien = get_country(df_tweets, countries[\"croatia\"], countries[\"serbia\"])\n",
    "df_kroatien[\"direct_url\"] = df_kroatien[\"url\"].apply(lambda x: get_direct_url(x))\n",
    "\n",
    "df_kroatien.head()"
   ]
  },
  {
   "cell_type": "markdown",
   "id": "ab9b5104-1475-4fe7-93d2-64f604353e40",
   "metadata": {},
   "source": [
    "#### Find tweets about both Serbia and Croatia"
   ]
  },
  {
   "cell_type": "code",
   "execution_count": null,
   "id": "37898f0b-18a5-4fe7-bf96-2de67927f998",
   "metadata": {},
   "outputs": [],
   "source": [
    "%%time\n",
    "\n",
    "df_both = df_tweets[\n",
    "    [\"date\", \"rawContent\", \"sentiment_gs\", \"sentiment_textblob\", \"url\"]\n",
    "].copy()\n",
    "\n",
    "df_both = df_both.loc[\n",
    "    df_both.rawContent.str.lower().str.contains(\n",
    "        \"|\".join(countries[\"croatia\"]), regex=True\n",
    "    )\n",
    "    & df_both.rawContent.str.lower().str.contains(\n",
    "        \"|\".join(countries[\"serbia\"]), regex=True\n",
    "    )\n",
    "].reset_index(drop=True)\n",
    "df_both[\"direct_url\"] = df_both[\"url\"].apply(lambda x: get_direct_url(x))\n",
    "\n",
    "print(len(df_both), \"tweets\")\n",
    "\n",
    "df_both.head()"
   ]
  },
  {
   "cell_type": "markdown",
   "id": "844fbafa-3b59-4426-a37e-a905912aa4bb",
   "metadata": {},
   "source": [
    "Save"
   ]
  },
  {
   "cell_type": "code",
   "execution_count": 220,
   "id": "c6fed7bc-e201-4f3a-852a-a465c58b14dc",
   "metadata": {},
   "outputs": [],
   "source": [
    "df_both.to_csv(data_dir + \"/df_both.csv\", index=False)\n",
    "df_serbien.to_csv(data_dir + \"/df_serbien.csv\", index=False)\n",
    "df_kroatien.to_csv(data_dir + \"/df_kroatien.csv\", index=False)"
   ]
  },
  {
   "cell_type": "markdown",
   "id": "e4827560-4487-4524-9f1c-f020096b8c7b",
   "metadata": {},
   "source": [
    "Load"
   ]
  },
  {
   "cell_type": "code",
   "execution_count": 12,
   "id": "608f23bf-d652-48e0-b9db-125403623bc1",
   "metadata": {},
   "outputs": [],
   "source": [
    "df_both = pd.read_csv(data_dir + \"/df_both.csv\")\n",
    "df_serbien = pd.read_csv(data_dir + \"/df_serbien.csv\")\n",
    "df_kroatien = pd.read_csv(data_dir + \"/df_kroatien.csv\")"
   ]
  },
  {
   "cell_type": "markdown",
   "id": "e0c02795-9055-4f8a-9643-427572a6b916",
   "metadata": {},
   "source": [
    "## Download articles"
   ]
  },
  {
   "cell_type": "markdown",
   "id": "3e862c7c-7a6e-44f3-8af4-55274a97ed11",
   "metadata": {},
   "source": [
    "### Import Selenium"
   ]
  },
  {
   "cell_type": "code",
   "execution_count": 13,
   "id": "bef4934b-046e-4001-83f0-2a08b70902d5",
   "metadata": {},
   "outputs": [],
   "source": [
    "from selenium import webdriver\n",
    "from selenium.webdriver.common.keys import Keys\n",
    "from selenium.webdriver.common.by import By\n",
    "from selenium.webdriver.support.ui import WebDriverWait\n",
    "from selenium.webdriver.support import expected_conditions as EC\n",
    "from selenium.common.exceptions import TimeoutException\n",
    "from selenium.webdriver.firefox.options import Options"
   ]
  },
  {
   "cell_type": "markdown",
   "id": "dc48d093-c9c0-46ab-b807-6a27f6859e01",
   "metadata": {},
   "source": [
    "### Function for fetching articles from derstandard.at"
   ]
  },
  {
   "cell_type": "code",
   "execution_count": 14,
   "id": "aa9cb7b7-772b-4c05-b78c-a507e1fd3acb",
   "metadata": {},
   "outputs": [],
   "source": [
    "from time import sleep\n",
    "\n",
    "\n",
    "def get_derstandard_article(url):\n",
    "    \"\"\"\n",
    "\n",
    "    Scrapes article from derstandard.at\n",
    "    and returns title, subtitle and\n",
    "    complete article text\n",
    "\n",
    "    \"\"\"\n",
    "\n",
    "    options = Options()\n",
    "    options.add_argument(\"-headless\")\n",
    "\n",
    "    driver = webdriver.Firefox(options=options)\n",
    "\n",
    "    driver.set_script_timeout(30)\n",
    "    try:\n",
    "        driver.get(url)\n",
    "\n",
    "    except:\n",
    "        driver.quit()\n",
    "        print(\"Could not process url:\", url)\n",
    "        return \"\", \"\", \"\"\n",
    "\n",
    "    # switch to iframe (when it is avilable) with button and click it\n",
    "    iframes = driver.find_elements(By.TAG_NAME, \"iframe\")\n",
    "\n",
    "    # wait for both iframes to appear\n",
    "    while len(iframes) < 2:\n",
    "        iframes = driver.find_elements(By.TAG_NAME, \"iframe\")\n",
    "\n",
    "    iframe = iframes[1]\n",
    "    WebDriverWait(driver, 20).until(EC.frame_to_be_available_and_switch_to_it(iframe))\n",
    "    WebDriverWait(driver, 20).until(\n",
    "        EC.element_to_be_clickable((By.CSS_SELECTOR, \".primary\"))\n",
    "    ).click()\n",
    "\n",
    "    # switch to new window\n",
    "    new_window = driver.window_handles\n",
    "    driver.switch_to.window(new_window[0])\n",
    "\n",
    "    sleep(2)\n",
    "\n",
    "    try:\n",
    "        article_title = driver.find_element(By.CLASS_NAME, \"article-title\").text\n",
    "        article_subtitle = driver.find_element(By.CLASS_NAME, \"article-subtitle\").text\n",
    "        article_body = driver.find_element(By.CLASS_NAME, \"article-body\")\n",
    "        article_text = [p.text for p in article_body.find_elements(By.TAG_NAME, \"p\")]\n",
    "        article_text = \"\\n\".join(article_text)\n",
    "\n",
    "    except:\n",
    "        article_title = \"\"\n",
    "        article_subtitle = \"\"\n",
    "        article_text = \"\"\n",
    "\n",
    "    driver.quit()\n",
    "\n",
    "    return article_title, article_subtitle, article_text"
   ]
  },
  {
   "cell_type": "markdown",
   "id": "d5ec2364-29df-48ff-85fe-aa89958c45ea",
   "metadata": {},
   "source": [
    "### Download articles and save to json files"
   ]
  },
  {
   "cell_type": "markdown",
   "id": "85e4c695-f064-4cad-8c05-6a61ddd3fd8f",
   "metadata": {},
   "source": [
    "Articles about Serbia (but not Croatia)"
   ]
  },
  {
   "cell_type": "code",
   "execution_count": null,
   "id": "1685c917-00f4-4706-881f-f73bd07b7a6e",
   "metadata": {
    "tags": []
   },
   "outputs": [],
   "source": [
    "if os.path.exists(data_dir + \"/serbien\") == False:\n",
    "    os.makedirs(data_dir + \"/serbien\")\n",
    "\n",
    "\n",
    "for i, row in df_serbien.iterrows():\n",
    "    a_title, a_subtitle, a_text = get_derstandard_article(row.direct_url)\n",
    "    with open(data_dir + f\"/serbien/{i}.json\", \"w\") as fp:\n",
    "        json.dump(dict(title=a_title, subtitle=a_subtitle, text=a_text), fp)"
   ]
  },
  {
   "cell_type": "markdown",
   "id": "8ca20d56-9714-48a2-be41-f1079b6b277d",
   "metadata": {},
   "source": [
    "Articles about Croatia (but not Serbia)"
   ]
  },
  {
   "cell_type": "code",
   "execution_count": null,
   "id": "e5d80360-b364-4a09-93c7-8bc7d0f3ecd1",
   "metadata": {},
   "outputs": [],
   "source": [
    "if os.path.exists(data_dir + \"/kroatien\") == False:\n",
    "    os.makedirs(data_dir + \"/kroatien\")\n",
    "\n",
    "\n",
    "for i, row in df_kroatien.iterrows():\n",
    "    a_title, a_subtitle, a_text = get_derstandard_article(row.direct_url)\n",
    "    with open(data_dir + f\"/kroatien/{i}.json\", \"w\") as fp:\n",
    "        json.dump(dict(title=a_title, subtitle=a_subtitle, text=a_text), fp)"
   ]
  },
  {
   "cell_type": "markdown",
   "id": "7e6d984b-edd1-4f18-b125-167ea877657e",
   "metadata": {},
   "source": [
    "Articles about both"
   ]
  },
  {
   "cell_type": "code",
   "execution_count": null,
   "id": "347ac0fa-8712-4ad4-83e4-13c8fb154c0b",
   "metadata": {},
   "outputs": [],
   "source": [
    "if os.path.exists(data_dir + \"/both\") == False:\n",
    "    os.makedirs(data_dir + \"/both\")\n",
    "\n",
    "\n",
    "for i, row in df_both.iterrows():\n",
    "    a_title, a_subtitle, a_text = get_derstandard_article(row.direct_url)\n",
    "    with open(data_dir + f\"/both/{i}.json\", \"w\") as fp:\n",
    "        json.dump(dict(title=a_title, subtitle=a_subtitle, text=a_text), fp)"
   ]
  },
  {
   "cell_type": "markdown",
   "id": "e8df86ed-127a-4d25-8874-aaade86a1589",
   "metadata": {},
   "source": [
    "### Compute sentiment scores"
   ]
  },
  {
   "cell_type": "markdown",
   "id": "3e0ca613-8ab4-461c-90dd-d5e3268c0166",
   "metadata": {},
   "source": [
    "#### TextBlobDE and germansentiment"
   ]
  },
  {
   "cell_type": "code",
   "execution_count": 6,
   "id": "d6a90c30-7114-4e5f-a836-dfc31b4d62ef",
   "metadata": {},
   "outputs": [],
   "source": [
    "from germansentiment import SentimentModel\n",
    "from textblob_de import TextBlobDE as TextBlob\n",
    "\n",
    "gsm = SentimentModel()\n",
    "\n",
    "\n",
    "def german_sentiment(txt):\n",
    "    \"\"\"\n",
    "\n",
    "    returns sentiment score for\n",
    "    German language.\n",
    "\n",
    "    \"\"\"\n",
    "\n",
    "    classes, [probs] = gsm.predict_sentiment([txt], output_probabilities=True)\n",
    "    probs = dict(probs)\n",
    "\n",
    "    return probs[\"positive\"] - probs[\"negative\"]"
   ]
  },
  {
   "cell_type": "markdown",
   "id": "00354620-823c-40ec-b447-022e44b687d0",
   "metadata": {},
   "source": [
    "#### Serbien"
   ]
  },
  {
   "cell_type": "code",
   "execution_count": 24,
   "id": "dff645f1-2578-4830-ae65-fc8fbe0d8e25",
   "metadata": {},
   "outputs": [],
   "source": [
    "for i in df_serbien.index:\n",
    "\n",
    "    with open(data_dir + f\"/serbien/{i}.json\", \"r\") as fp:\n",
    "        txt = json.load(fp)\n",
    "\n",
    "    df_serbien.loc[i, \"sentiment_textblob\"] = TextBlob(\n",
    "        txt[\"title\"] + \"\\n\" + txt[\"subtitle\"] + \"\\n\" + txt[\"text\"]\n",
    "    ).polarity\n",
    "\n",
    "    df_serbien.loc[i, \"sentiment_gs\"] = german_sentiment(\n",
    "        txt[\"title\"] + \"\\n\" + txt[\"subtitle\"] + \"\\n\" + txt[\"text\"]\n",
    "    )"
   ]
  },
  {
   "cell_type": "markdown",
   "id": "040a9146-a78e-4cbe-a52f-e1e81ee8bc74",
   "metadata": {},
   "source": [
    "#### Kroatien"
   ]
  },
  {
   "cell_type": "code",
   "execution_count": 25,
   "id": "5242a678-1bc9-4221-be24-ccca90faa7d1",
   "metadata": {},
   "outputs": [],
   "source": [
    "for i in df_kroatien.index:\n",
    "\n",
    "    with open(data_dir + f\"/kroatien/{i}.json\", \"r\") as fp:\n",
    "        txt = json.load(fp)\n",
    "\n",
    "    df_kroatien.loc[i, \"sentiment_textblob\"] = TextBlob(\n",
    "        txt[\"title\"] + \"\\n\" + txt[\"subtitle\"] + \"\\n\" + txt[\"text\"]\n",
    "    ).polarity\n",
    "\n",
    "    df_kroatien.loc[i, \"sentiment_gs\"] = german_sentiment(\n",
    "        txt[\"title\"] + \"\\n\" + txt[\"subtitle\"] + \"\\n\" + txt[\"text\"]\n",
    "    )"
   ]
  },
  {
   "cell_type": "markdown",
   "id": "eba98444-e551-4724-9c25-e641e86f131c",
   "metadata": {},
   "source": [
    "#### both"
   ]
  },
  {
   "cell_type": "code",
   "execution_count": 28,
   "id": "1966fc1d-e315-43e8-89f5-a371db2b2e57",
   "metadata": {},
   "outputs": [],
   "source": [
    "for i in df_both.index:\n",
    "\n",
    "    with open(data_dir + f\"/both/{i}.json\", \"r\") as fp:\n",
    "        txt = json.load(fp)\n",
    "\n",
    "    df_both.loc[i, \"sentiment_textblob\"] = TextBlob(\n",
    "        txt[\"title\"] + \"\\n\" + txt[\"subtitle\"] + \"\\n\" + txt[\"text\"]\n",
    "    ).polarity\n",
    "\n",
    "    df_both.loc[i, \"sentiment_gs\"] = german_sentiment(\n",
    "        txt[\"title\"] + \"\\n\" + txt[\"subtitle\"] + \"\\n\" + txt[\"text\"]\n",
    "    )"
   ]
  },
  {
   "cell_type": "markdown",
   "id": "93869afb-5658-4a1b-917a-abcc80a21ed6",
   "metadata": {},
   "source": [
    "#### Save"
   ]
  },
  {
   "cell_type": "code",
   "execution_count": 220,
   "id": "2905198d-3252-4726-8aff-863f1f500cdf",
   "metadata": {},
   "outputs": [],
   "source": [
    "df_both.to_csv(data_dir + \"/df_both.csv\", index=False)\n",
    "df_serbien.to_csv(data_dir + \"/df_serbien.csv\", index=False)\n",
    "df_kroatien.to_csv(data_dir + \"/df_kroatien.csv\", index=False)"
   ]
  },
  {
   "cell_type": "markdown",
   "id": "207ba9bb-0bc9-426e-8fef-d629d637b602",
   "metadata": {},
   "source": [
    "#### Load"
   ]
  },
  {
   "cell_type": "code",
   "execution_count": 12,
   "id": "d3f623b1-b2e1-4128-b5b9-a9b0aec17bf5",
   "metadata": {},
   "outputs": [],
   "source": [
    "df_both = pd.read_csv(data_dir + \"/df_both.csv\")\n",
    "df_serbien = pd.read_csv(data_dir + \"/df_serbien.csv\")\n",
    "df_kroatien = pd.read_csv(data_dir + \"/df_kroatien.csv\")"
   ]
  },
  {
   "cell_type": "markdown",
   "id": "e0c26889-62d0-441b-85e3-a6979c6b7969",
   "metadata": {},
   "source": [
    "### Test for difference"
   ]
  },
  {
   "cell_type": "markdown",
   "id": "fff66ae8-b668-431e-9061-c5a089e4ece6",
   "metadata": {},
   "source": [
    "##### Controls: Find tweets about other countries (Romania, Hungary, Finland)"
   ]
  },
  {
   "cell_type": "code",
   "execution_count": null,
   "id": "1b06440a-d861-4a48-b881-93bc540ec873",
   "metadata": {},
   "outputs": [],
   "source": [
    "df_rumanien = get_country(df_tweets, countries[\"romania\"])\n",
    "\n",
    "\n",
    "df_rumanien.head()"
   ]
  },
  {
   "cell_type": "code",
   "execution_count": null,
   "id": "035bcff6-8e72-41ae-b7bc-c496ee13cd0e",
   "metadata": {},
   "outputs": [],
   "source": [
    "df_ungarn = get_country(df_tweets, countries[\"hungary\"])\n",
    "\n",
    "\n",
    "df_ungarn.head()"
   ]
  },
  {
   "cell_type": "code",
   "execution_count": null,
   "id": "c62fd111-dbee-4fe3-a9ef-5db37de48390",
   "metadata": {},
   "outputs": [],
   "source": [
    "df_finnland = get_country(df_tweets, countries[\"finland\"])\n",
    "\n",
    "\n",
    "df_finnland.head()"
   ]
  },
  {
   "cell_type": "code",
   "execution_count": 29,
   "id": "aa5a722d-1629-4b17-becc-5257da6a0c4e",
   "metadata": {},
   "outputs": [],
   "source": [
    "from scipy.stats import ttest_ind\n",
    "from pingouin import ttest"
   ]
  },
  {
   "cell_type": "markdown",
   "id": "ff79c9c8-f13a-42cd-96fe-265057f0e15d",
   "metadata": {},
   "source": [
    "*t*-Test"
   ]
  },
  {
   "cell_type": "code",
   "execution_count": 33,
   "id": "a3872b3b-c09a-4c05-bb0c-cf11224616b7",
   "metadata": {},
   "outputs": [
    {
     "data": {
      "text/html": [
       "<div>\n",
       "<style scoped>\n",
       "    .dataframe tbody tr th:only-of-type {\n",
       "        vertical-align: middle;\n",
       "    }\n",
       "\n",
       "    .dataframe tbody tr th {\n",
       "        vertical-align: top;\n",
       "    }\n",
       "\n",
       "    .dataframe thead th {\n",
       "        text-align: right;\n",
       "    }\n",
       "</style>\n",
       "<table border=\"1\" class=\"dataframe\">\n",
       "  <thead>\n",
       "    <tr style=\"text-align: right;\">\n",
       "      <th></th>\n",
       "      <th>T</th>\n",
       "      <th>dof</th>\n",
       "      <th>alternative</th>\n",
       "      <th>p-val</th>\n",
       "      <th>CI95%</th>\n",
       "      <th>cohen-d</th>\n",
       "      <th>BF10</th>\n",
       "      <th>power</th>\n",
       "    </tr>\n",
       "  </thead>\n",
       "  <tbody>\n",
       "    <tr>\n",
       "      <th>T-test</th>\n",
       "      <td>0.521249</td>\n",
       "      <td>812.852971</td>\n",
       "      <td>two-sided</td>\n",
       "      <td>0.602335</td>\n",
       "      <td>[-0.01, 0.02]</td>\n",
       "      <td>0.036418</td>\n",
       "      <td>0.089</td>\n",
       "      <td>0.081429</td>\n",
       "    </tr>\n",
       "  </tbody>\n",
       "</table>\n",
       "</div>"
      ],
      "text/plain": [
       "               T         dof alternative     p-val          CI95%   cohen-d  \\\n",
       "T-test  0.521249  812.852971   two-sided  0.602335  [-0.01, 0.02]  0.036418   \n",
       "\n",
       "         BF10     power  \n",
       "T-test  0.089  0.081429  "
      ]
     },
     "execution_count": 33,
     "metadata": {},
     "output_type": "execute_result"
    }
   ],
   "source": [
    "ttest(\n",
    "    df_kroatien.sentiment_textblob,\n",
    "    df_serbien.sentiment_textblob,\n",
    "    alternative=\"two-sided\",\n",
    ")"
   ]
  },
  {
   "cell_type": "code",
   "execution_count": 32,
   "id": "e259b12b-d14e-4ba3-bb68-a44aa2f40926",
   "metadata": {},
   "outputs": [
    {
     "data": {
      "text/html": [
       "<div>\n",
       "<style scoped>\n",
       "    .dataframe tbody tr th:only-of-type {\n",
       "        vertical-align: middle;\n",
       "    }\n",
       "\n",
       "    .dataframe tbody tr th {\n",
       "        vertical-align: top;\n",
       "    }\n",
       "\n",
       "    .dataframe thead th {\n",
       "        text-align: right;\n",
       "    }\n",
       "</style>\n",
       "<table border=\"1\" class=\"dataframe\">\n",
       "  <thead>\n",
       "    <tr style=\"text-align: right;\">\n",
       "      <th></th>\n",
       "      <th>T</th>\n",
       "      <th>dof</th>\n",
       "      <th>alternative</th>\n",
       "      <th>p-val</th>\n",
       "      <th>CI95%</th>\n",
       "      <th>cohen-d</th>\n",
       "      <th>BF10</th>\n",
       "      <th>power</th>\n",
       "    </tr>\n",
       "  </thead>\n",
       "  <tbody>\n",
       "    <tr>\n",
       "      <th>T-test</th>\n",
       "      <td>-0.788184</td>\n",
       "      <td>811.957657</td>\n",
       "      <td>two-sided</td>\n",
       "      <td>0.430819</td>\n",
       "      <td>[-0.07, 0.03]</td>\n",
       "      <td>0.055198</td>\n",
       "      <td>0.106</td>\n",
       "      <td>0.123446</td>\n",
       "    </tr>\n",
       "  </tbody>\n",
       "</table>\n",
       "</div>"
      ],
      "text/plain": [
       "               T         dof alternative     p-val          CI95%   cohen-d  \\\n",
       "T-test -0.788184  811.957657   two-sided  0.430819  [-0.07, 0.03]  0.055198   \n",
       "\n",
       "         BF10     power  \n",
       "T-test  0.106  0.123446  "
      ]
     },
     "execution_count": 32,
     "metadata": {},
     "output_type": "execute_result"
    }
   ],
   "source": [
    "ttest(df_kroatien.sentiment_gs, df_serbien.sentiment_gs, alternative=\"two-sided\")"
   ]
  },
  {
   "cell_type": "markdown",
   "id": "862e61b9-ee77-4295-870f-5a2a7858cf29",
   "metadata": {},
   "source": [
    "Permutation test"
   ]
  },
  {
   "cell_type": "code",
   "execution_count": 34,
   "id": "ca612c45-f64e-42f8-8521-d8a235ed4bf9",
   "metadata": {},
   "outputs": [
    {
     "data": {
      "text/plain": [
       "Ttest_indResult(statistic=0.5199651315468766, pvalue=0.60535)"
      ]
     },
     "execution_count": 34,
     "metadata": {},
     "output_type": "execute_result"
    }
   ],
   "source": [
    "ttest_ind(\n",
    "    df_kroatien.sentiment_textblob,\n",
    "    df_serbien.sentiment_textblob,\n",
    "    permutations=100_000,\n",
    "    alternative=\"two-sided\",\n",
    ")"
   ]
  },
  {
   "cell_type": "markdown",
   "id": "3371677f-8f9e-45c1-bbb6-fecb516cd573",
   "metadata": {},
   "source": [
    "<div class=\"alert alert-info\">No significant difference</div>"
   ]
  },
  {
   "cell_type": "markdown",
   "id": "9cb6e7f2-a785-4fd6-8451-aaa548659ce3",
   "metadata": {},
   "source": [
    "*t*-Tests vs baseline"
   ]
  },
  {
   "cell_type": "raw",
   "id": "06e39d7f-ec8b-4003-a5d8-2cf64dd14ba2",
   "metadata": {},
   "source": [
    "df_tweets[\"sentiment_textblob\"] = df_tweets.rawContent.apply(\n",
    "    lambda x: TextBlob(x).polarity\n",
    ")\n",
    "\n",
    "df_tweets.sentiment_textblob.mean()"
   ]
  },
  {
   "cell_type": "raw",
   "id": "c5c8cad5-aac7-4c49-af08-950387399ec6",
   "metadata": {},
   "source": [
    "ttest_ind(df_kroatien.sentiment_textblob, df_tweets.sentiment_textblob)"
   ]
  },
  {
   "cell_type": "raw",
   "id": "23b8395b-b4e4-4955-a357-565496d1f75d",
   "metadata": {},
   "source": [
    "ttest_ind(df_serbien.sentiment_textblob, df_tweets.sentiment_textblob)"
   ]
  },
  {
   "cell_type": "markdown",
   "id": "f2e32620-b555-41f3-9ecf-2df64c8e2f7b",
   "metadata": {},
   "source": [
    "Build means"
   ]
  },
  {
   "cell_type": "code",
   "execution_count": 35,
   "id": "7fe7eb66-236d-435a-b86c-b6f9bc5f6d8a",
   "metadata": {},
   "outputs": [],
   "source": [
    "sent_cols = [\n",
    "    \"sentiment_textblob\",\n",
    "    \"sentiment_gs\",\n",
    "]"
   ]
  },
  {
   "cell_type": "code",
   "execution_count": 36,
   "id": "19daea6c-cb01-4657-837d-b2b0439d1bfd",
   "metadata": {},
   "outputs": [
    {
     "data": {
      "text/plain": [
       "sentiment_textblob    0.017912\n",
       "sentiment_gs         -0.415631\n",
       "dtype: float64"
      ]
     },
     "execution_count": 36,
     "metadata": {},
     "output_type": "execute_result"
    }
   ],
   "source": [
    "df_serbien[sent_cols].mean()"
   ]
  },
  {
   "cell_type": "code",
   "execution_count": 37,
   "id": "447d55aa-58fb-499d-8e77-61e47a76efc6",
   "metadata": {},
   "outputs": [
    {
     "data": {
      "text/plain": [
       "sentiment_textblob    0.021723\n",
       "sentiment_gs         -0.435795\n",
       "dtype: float64"
      ]
     },
     "execution_count": 37,
     "metadata": {},
     "output_type": "execute_result"
    }
   ],
   "source": [
    "df_kroatien[sent_cols].mean()"
   ]
  },
  {
   "cell_type": "code",
   "execution_count": 38,
   "id": "3f05c81d-b13a-42c6-8bf3-3fd7fc6616cb",
   "metadata": {},
   "outputs": [
    {
     "data": {
      "text/plain": [
       "sentiment_textblob   -0.034269\n",
       "sentiment_gs         -0.498414\n",
       "dtype: float64"
      ]
     },
     "execution_count": 38,
     "metadata": {},
     "output_type": "execute_result"
    }
   ],
   "source": [
    "df_both[sent_cols].mean()"
   ]
  },
  {
   "cell_type": "markdown",
   "id": "b3ebcea5-cd9e-403b-bf79-71ced9719cc4",
   "metadata": {},
   "source": [
    "Compute means by year and plot"
   ]
  },
  {
   "cell_type": "code",
   "execution_count": 39,
   "id": "0a480f5f-39f8-4cff-b63f-251dffb6df5c",
   "metadata": {},
   "outputs": [],
   "source": [
    "df_serbien[\"year\"] = pd.to_datetime(df_serbien.date).dt.year\n",
    "df_kroatien[\"year\"] = pd.to_datetime(df_kroatien.date).dt.year\n",
    "df_both[\"year\"] = pd.to_datetime(df_both.date).dt.year\n",
    "\n",
    "df_serbien_grp = df_serbien.groupby(\"year\").mean()[sent_cols].reset_index()\n",
    "\n",
    "df_kroatien_grp = df_kroatien.groupby(\"year\").mean()[sent_cols].reset_index()\n",
    "\n",
    "df_both_grp = df_both.groupby(\"year\").mean()[sent_cols].reset_index()\n",
    "\n",
    "df_both_grp[\"country\"] = \"both\"\n",
    "df_serbien_grp[\"country\"] = \"serbia\"\n",
    "df_kroatien_grp[\"country\"] = \"croatia\"\n",
    "\n",
    "df_grp = pd.concat([df_serbien_grp, df_kroatien_grp], sort=False)"
   ]
  },
  {
   "cell_type": "code",
   "execution_count": 45,
   "id": "99453f7b-228e-4d97-ba59-00bf1127287f",
   "metadata": {},
   "outputs": [
    {
     "data": {
      "text/plain": [
       "Text(0.5, 1.0, 'Tweet-based sentiment scores')"
      ]
     },
     "execution_count": 45,
     "metadata": {},
     "output_type": "execute_result"
    },
    {
     "data": {
      "image/png": "[encoded data removed]",
      "text/plain": [
       "<Figure size 640x480 with 1 Axes>"
      ]
     },
     "metadata": {},
     "output_type": "display_data"
    }
   ],
   "source": [
    "sns.lineplot(data=df_grp, x=\"year\", y=sent_cols[0], hue=\"country\")\n",
    "plt.title(\"Tweet-based sentiment scores\")"
   ]
  },
  {
   "cell_type": "code",
   "execution_count": 42,
   "id": "a0d33479-f9d5-473c-b07b-01b93d4c0098",
   "metadata": {},
   "outputs": [
    {
     "data": {
      "text/plain": [
       "<matplotlib.legend.Legend at 0x7f81e56084f0>"
      ]
     },
     "execution_count": 42,
     "metadata": {},
     "output_type": "execute_result"
    },
    {
     "data": {
      "image/png": "[encoded data removed]",
      "text/plain": [
       "<Figure size 640x480 with 1 Axes>"
      ]
     },
     "metadata": {},
     "output_type": "display_data"
    }
   ],
   "source": [
    "sns.regplot(\n",
    "    data=df_grp.loc[df_grp.country == \"serbia\"],\n",
    "    x=\"year\",\n",
    "    y=sent_cols[0],\n",
    "    label=\"serbia\",\n",
    ")\n",
    "sns.regplot(\n",
    "    data=df_grp.loc[df_grp.country == \"croatia\"],\n",
    "    x=\"year\",\n",
    "    y=sent_cols[0],\n",
    "    label=\"croatia\",\n",
    ")\n",
    "plt.title(\"Article-based sentiment scores\")\n",
    "plt.legend()"
   ]
  },
  {
   "cell_type": "code",
   "execution_count": 43,
   "id": "031bb0b9-a21c-4d8a-8742-e10f0bdc6bc1",
   "metadata": {},
   "outputs": [
    {
     "data": {
      "text/plain": [
       "Text(0.5, 1.0, 'Tweet-based sentiment scores')"
      ]
     },
     "execution_count": 43,
     "metadata": {},
     "output_type": "execute_result"
    },
    {
     "data": {
      "image/png": "[encoded data removed]",
      "text/plain": [
       "<Figure size 640x480 with 1 Axes>"
      ]
     },
     "metadata": {},
     "output_type": "display_data"
    }
   ],
   "source": [
    "sns.lineplot(data=df_grp, x=\"year\", y=sent_cols[1], hue=\"country\")\n",
    "plt.title(\"Tweet-based sentiment scores\")"
   ]
  },
  {
   "cell_type": "code",
   "execution_count": 44,
   "id": "f9c97e03-d475-416c-94e2-8796ac0543a1",
   "metadata": {},
   "outputs": [
    {
     "data": {
      "text/plain": [
       "<matplotlib.legend.Legend at 0x7f81e549ac10>"
      ]
     },
     "execution_count": 44,
     "metadata": {},
     "output_type": "execute_result"
    },
    {
     "data": {
      "image/png": "[encoded data removed]",
      "text/plain": [
       "<Figure size 640x480 with 1 Axes>"
      ]
     },
     "metadata": {},
     "output_type": "display_data"
    }
   ],
   "source": [
    "sns.regplot(\n",
    "    data=df_grp.loc[df_grp.country == \"serbia\"],\n",
    "    x=\"year\",\n",
    "    y=sent_cols[1],\n",
    "    label=\"serbia\",\n",
    ")\n",
    "sns.regplot(\n",
    "    data=df_grp.loc[df_grp.country == \"croatia\"],\n",
    "    x=\"year\",\n",
    "    y=sent_cols[1],\n",
    "    label=\"croatia\",\n",
    ")\n",
    "plt.title(\"Article-based sentiment scores\")\n",
    "plt.legend()"
   ]
  }
 ],
 "metadata": {
  "kernelspec": {
   "display_name": "Python 3 (ipykernel)",
   "language": "python",
   "name": "python3"
  },
  "language_info": {
   "codemirror_mode": {
    "name": "ipython",
    "version": 3
   },
   "file_extension": ".py",
   "mimetype": "text/x-python",
   "name": "python",
   "nbconvert_exporter": "python",
   "pygments_lexer": "ipython3",
   "version": "3.9.13"
  }
 },
 "nbformat": 4,
 "nbformat_minor": 5
}
