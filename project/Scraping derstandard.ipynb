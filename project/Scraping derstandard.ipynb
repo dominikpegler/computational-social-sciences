{
 "cells": [
  {
   "cell_type": "markdown",
   "id": "e9a116cc-4412-472e-8d9c-8671587ddb57",
   "metadata": {
    "tags": []
   },
   "source": [
    "Scraping newspaper articles from derstandard.at\n",
    "===\n",
    "\n",
    "* relating to\n",
    "    * Croatia\n",
    "    * Serbia\n",
    "    * Hungary (control I)\n",
    "    * Slowakia (control II)\n",
    "* direct search (no intermediate search step via twitter)"
   ]
  },
  {
   "cell_type": "code",
   "execution_count": 197,
   "id": "bea70733-918a-4004-83b0-759e80aaf4c7",
   "metadata": {
    "tags": []
   },
   "outputs": [],
   "source": [
    "import jupyter_black\n",
    "\n",
    "jupyter_black.load()"
   ]
  },
  {
   "cell_type": "markdown",
   "id": "1e820559-e173-4440-a3c3-18be65800c00",
   "metadata": {},
   "source": [
    "## Imports and functions"
   ]
  },
  {
   "cell_type": "code",
   "execution_count": 275,
   "id": "e0c83ad9-56c2-46a9-a1a9-76d9992c8388",
   "metadata": {},
   "outputs": [],
   "source": [
    "import os\n",
    "import json\n",
    "import subprocess\n",
    "import pandas as pd\n",
    "import seaborn as sns\n",
    "import matplotlib.pyplot as plt\n",
    "from selenium import webdriver\n",
    "from selenium.webdriver.common.keys import Keys\n",
    "from selenium.webdriver.common.by import By\n",
    "from selenium.webdriver.support.ui import WebDriverWait\n",
    "from selenium.webdriver.support import expected_conditions as EC\n",
    "from selenium.common.exceptions import TimeoutException\n",
    "from selenium.webdriver.firefox.options import Options\n",
    "from time import sleep\n",
    "\n",
    "\n",
    "data_dir = \"data/derstandard\"\n",
    "\n",
    "if os.path.exists(data_dir) == False:\n",
    "    os.makedirs(data_dir)\n",
    "\n",
    "\n",
    "def get_derstandard_article(url):\n",
    "    \"\"\"\n",
    "\n",
    "    Scrapes article from derstandard.at\n",
    "    and returns title, subtitle and\n",
    "    complete article text\n",
    "\n",
    "    \"\"\"\n",
    "\n",
    "    options = Options()\n",
    "    options.add_argument(\"-headless\")\n",
    "\n",
    "    driver = webdriver.Firefox(options=options)\n",
    "\n",
    "    driver.set_script_timeout(30)\n",
    "    try:\n",
    "        driver.get(url)\n",
    "\n",
    "    except:\n",
    "        driver.quit()\n",
    "        print(\"Could not process url:\", url)\n",
    "        return \"\", \"\", \"\"\n",
    "\n",
    "    # switch to iframe (when it is avilable) with button and click it\n",
    "    iframes = driver.find_elements(By.TAG_NAME, \"iframe\")\n",
    "\n",
    "    # wait for both iframes to appear\n",
    "    while len(iframes) < 2:\n",
    "        iframes = driver.find_elements(By.TAG_NAME, \"iframe\")\n",
    "\n",
    "    iframe = iframes[1]\n",
    "    WebDriverWait(driver, 20).until(EC.frame_to_be_available_and_switch_to_it(iframe))\n",
    "    WebDriverWait(driver, 20).until(\n",
    "        EC.element_to_be_clickable((By.CSS_SELECTOR, \".primary\"))\n",
    "    ).click()\n",
    "\n",
    "    # switch to new window\n",
    "    new_window = driver.window_handles\n",
    "    driver.switch_to.window(new_window[0])\n",
    "\n",
    "    sleep(2)\n",
    "\n",
    "    try:\n",
    "\n",
    "        if url[:45] == \"https://www.derstandard.at/jetzt/livebericht/\":\n",
    "            article_title = driver.find_element(By.ID, \"content-header\").text\n",
    "            article_subtitle = \"\"\n",
    "            article_text = driver.find_element(By.ID, \"content-main\").text\n",
    "\n",
    "        else:\n",
    "            article_title = driver.find_element(By.CLASS_NAME, \"article-title\").text\n",
    "            article_subtitle = driver.find_element(\n",
    "                By.CLASS_NAME, \"article-subtitle\"\n",
    "            ).text\n",
    "            article_body = driver.find_element(By.CLASS_NAME, \"article-body\")\n",
    "            #        article_text = [p.text for p in article_body.find_elements(By.TAG_NAME, \"p\")]\n",
    "            #        article_text = \"\\n\".join(article_text)\n",
    "            article_text = article_body.text\n",
    "\n",
    "    except:\n",
    "        article_title = \"\"\n",
    "        article_subtitle = \"\"\n",
    "        article_text = \"\"\n",
    "\n",
    "    driver.quit()\n",
    "\n",
    "    return article_title, article_subtitle, article_text"
   ]
  },
  {
   "cell_type": "markdown",
   "id": "40eb92c5-efe7-4f0a-a125-e612b1771519",
   "metadata": {},
   "source": [
    "## Search"
   ]
  },
  {
   "cell_type": "markdown",
   "id": "33829ee6-b961-4b0c-8489-a00a57621c62",
   "metadata": {},
   "source": [
    "### Search words for countries"
   ]
  },
  {
   "cell_type": "code",
   "execution_count": 199,
   "id": "2a97315e-c37e-49fb-9ebe-f59481cfbc84",
   "metadata": {},
   "outputs": [],
   "source": [
    "countries = dict(\n",
    "    serbia=[\"serbien\", \"serbe\", \"serbin\", \"serbisch\", \"serbo\"],\n",
    "    croatia=[\"kroatien\", \"kroate\", \"kroatin\", \"kroatisch\", \"kroato\"],\n",
    "    romania=[\"rumänien\", \"rumäne\", \"rumänin\", \"rumänisch\"],\n",
    "    hungary=[\"ungarn\", \"ungar\", \"ungarin\", \"ungarisch\", \"ungaro\"],\n",
    "    finland=[\"finnland\", \"finne\", \"finnin\", \"finnisch\", \"finno\"],\n",
    "    norway=[\"norwegen\", \"norweger\", \"norwegisch\"],\n",
    "    sweden=[\"schweden\", \"schwedin\", \"schwedisch\"],\n",
    "    danmark=[\"dänisch\", \"dänen\", \"dänin\", \"dänisch\"],\n",
    "    poland=[\"polen\", \"pole\", \"polin\", \"polnisch\"],\n",
    "    bulgaria=[\"bulgarien\", \"bulgare\", \"bulgarin\", \"bulgarisch\"],\n",
    "    russia=[\"russland\", \"russe\", \"russin\", \"russen\", \"russisch\"],\n",
    "    ukraine=[\"ukraine\", \"ukrainisch\"],\n",
    "    germany=[\"deutschland\", \"deutsche\"],\n",
    "    frankreich=[\"frankreich\", \"franzose\", \"französi\"],\n",
    "    slovenia=[\"slowenien\", \"slowene\", \"sloweni\"],\n",
    "    italy=[\"italien\"],\n",
    "    spain=[\"spanien\", \"spanier\", \"spanisch\"],\n",
    "    portugal=[\"portual\", \"portugiese\", \"portugiesin\", \"portugiesisch\"],\n",
    "    switzerland=[\"schweiz\"],\n",
    "    austria=[\"österreich\"],\n",
    "    slovakia=[\"slowakei\", \"slowake\", \"slowakin\", \"slowakisch\"],\n",
    "    czechia=[\"tschechien\", \"tscheche\", \"tschechin\", \"tschechisch\"],\n",
    "    belarus=[\n",
    "        \"belarus\",\n",
    "        \"weißrussland\",\n",
    "        \"weissrussland\",\n",
    "        \"weißrussisch\",\n",
    "        \"weissrussisch\",\n",
    "        \"weißrusse\",\n",
    "        \"weissrusse\",\n",
    "        \"weißrussin\",\n",
    "        \"weissrussin\",\n",
    "    ],\n",
    "    bosnia=[\"bosnien\", \"bosnisch\", \"herzegowina\", \"bosnier\", \"herzegowinisch\"],\n",
    "    montenegro=[\"montenegro\", \"montenegriner\", \"montenegrinisch\"],\n",
    "    albania=[\"albanien\", \"albaner\", \"albanisch\"],\n",
    ")"
   ]
  },
  {
   "cell_type": "markdown",
   "id": "aac101d8-264a-4b43-96d6-ac64e5126acb",
   "metadata": {},
   "source": [
    "### A minimal search word list, search only for country name\n",
    "\n",
    "translating to German searchword"
   ]
  },
  {
   "cell_type": "code",
   "execution_count": 200,
   "id": "3b667733-f2a9-4521-9884-904db0588e32",
   "metadata": {},
   "outputs": [],
   "source": [
    "countries_min = dict(\n",
    "    serbia=\"serbien\",\n",
    "    croatia=\"kroatien\",\n",
    "    slovakia=\"slowakei\",\n",
    "    hungary=\"ungarn\",\n",
    "    albania=\"albanien\",\n",
    "    austria=\"österreich\",\n",
    "    bosnia=\"bosnien\",\n",
    "    montenegro=\"montenegro\",\n",
    "    spain=\"spanien\",\n",
    ")"
   ]
  },
  {
   "cell_type": "markdown",
   "id": "49022c43-480f-4d4f-980d-7e1cd0891fc3",
   "metadata": {},
   "source": [
    "### Define countries of interest"
   ]
  },
  {
   "cell_type": "code",
   "execution_count": 201,
   "id": "5deed696-02d1-4417-bcb3-b36557a30121",
   "metadata": {},
   "outputs": [],
   "source": [
    "cois = [\"serbia\", \"croatia\", \"slovakia\", \"hungary\", \"albania\"]"
   ]
  },
  {
   "cell_type": "markdown",
   "id": "4d79b6c7-7b6d-4f08-b99e-367a18371442",
   "metadata": {},
   "source": [
    "### Retrieve urls of relevant articles and store them in textfiles"
   ]
  },
  {
   "cell_type": "code",
   "execution_count": 12,
   "id": "a4e2ec71-1dd1-48d1-9464-4276111f06e0",
   "metadata": {},
   "outputs": [],
   "source": [
    "# iterate over countries\n",
    "for coi in cois:\n",
    "\n",
    "    country = countries_min[coi]\n",
    "\n",
    "    # iterate over years\n",
    "    for year in range(1997, 2023 + 1):\n",
    "\n",
    "        page = 0\n",
    "\n",
    "        # iterate over pages\n",
    "        while True:\n",
    "\n",
    "            page += 1\n",
    "\n",
    "            url = f\"https://www.derstandard.at/search?n=&fd={year}-01-01&td={year}-12-31&s=date&query={country}&p={page}\"\n",
    "\n",
    "            options = Options()\n",
    "            options.add_argument(\"-headless\")\n",
    "            driver = webdriver.Firefox(options=options)\n",
    "            driver.set_script_timeout(30)\n",
    "\n",
    "            driver.get(url)\n",
    "\n",
    "            # switch to iframe (when it is avilable) with button and click it\n",
    "            iframes = driver.find_elements(By.TAG_NAME, \"iframe\")\n",
    "\n",
    "            # wait for both iframes to appear\n",
    "            while len(iframes) < 2:\n",
    "                iframes = driver.find_elements(By.TAG_NAME, \"iframe\")\n",
    "\n",
    "            iframe = iframes[1]\n",
    "\n",
    "            WebDriverWait(driver, 20).until(\n",
    "                EC.frame_to_be_available_and_switch_to_it(iframe)\n",
    "            )\n",
    "\n",
    "            WebDriverWait(driver, 20).until(\n",
    "                EC.element_to_be_clickable((By.CSS_SELECTOR, \".primary\"))\n",
    "            ).click()\n",
    "\n",
    "            # switch to new window\n",
    "            driver.get(url)\n",
    "\n",
    "            sleep(2)\n",
    "\n",
    "            article_elements = driver.find_elements(By.CLASS_NAME, \"teaser-inner\")\n",
    "\n",
    "            if len(article_elements) == 0:\n",
    "                driver.quit()\n",
    "                break\n",
    "\n",
    "            urls = [\n",
    "                article.find_element(By.TAG_NAME, \"a\").get_attribute(\"href\")\n",
    "                for article in article_elements\n",
    "            ]\n",
    "\n",
    "            with open(data_dir + f\"/{country}_{year}_{page}.txt\", \"w\") as fp:\n",
    "                fp.writelines(\"\\n\".join(urls))\n",
    "\n",
    "            driver.quit()"
   ]
  },
  {
   "cell_type": "markdown",
   "id": "1263bff1-c5b0-4984-be3e-3552c26c9624",
   "metadata": {},
   "source": [
    "### Create dataframe from textfiles"
   ]
  },
  {
   "cell_type": "code",
   "execution_count": 202,
   "id": "a184f266-9f92-4baa-9e13-f4b0981867aa",
   "metadata": {},
   "outputs": [],
   "source": [
    "import glob\n",
    "\n",
    "\n",
    "txt_files = glob.glob(data_dir + \"/*.txt\")\n",
    "l = []\n",
    "\n",
    "for f in txt_files:\n",
    "    df_tmp = pd.read_csv(f, names=[\"url\"])\n",
    "    x = f.replace(data_dir, \"\")[1:-4]\n",
    "    df_tmp[[\"country\", \"year\", \"page\"]] = x.split(\"_\")\n",
    "    df_tmp[\"id\"] = df_tmp[\"url\"].apply(\n",
    "        lambda x: x.split(\"/\")[5] if x.split(\"/\")[3] == \"jetzt\" else x.split(\"/\")[4]\n",
    "    )\n",
    "    l.append(df_tmp)\n",
    "\n",
    "df = pd.concat(l, axis=0, ignore_index=True)\n",
    "df = df.drop(\"page\", axis=1)\n",
    "\n",
    "# Drop duplicates (some articles appeared on more than one search result page)\n",
    "df = df.drop_duplicates(keep=\"first\").reset_index(drop=True)"
   ]
  },
  {
   "cell_type": "code",
   "execution_count": 203,
   "id": "15e8a02e-c515-4cc3-883e-70291d6ca73d",
   "metadata": {},
   "outputs": [
    {
     "data": {
      "text/html": [
       "<div>\n",
       "<style scoped>\n",
       "    .dataframe tbody tr th:only-of-type {\n",
       "        vertical-align: middle;\n",
       "    }\n",
       "\n",
       "    .dataframe tbody tr th {\n",
       "        vertical-align: top;\n",
       "    }\n",
       "\n",
       "    .dataframe thead th {\n",
       "        text-align: right;\n",
       "    }\n",
       "</style>\n",
       "<table border=\"1\" class=\"dataframe\">\n",
       "  <thead>\n",
       "    <tr style=\"text-align: right;\">\n",
       "      <th></th>\n",
       "      <th>url</th>\n",
       "    </tr>\n",
       "    <tr>\n",
       "      <th>country</th>\n",
       "      <th></th>\n",
       "    </tr>\n",
       "  </thead>\n",
       "  <tbody>\n",
       "    <tr>\n",
       "      <th>albanien</th>\n",
       "      <td>3889</td>\n",
       "    </tr>\n",
       "    <tr>\n",
       "      <th>kroatien</th>\n",
       "      <td>15802</td>\n",
       "    </tr>\n",
       "    <tr>\n",
       "      <th>serbien</th>\n",
       "      <td>14901</td>\n",
       "    </tr>\n",
       "    <tr>\n",
       "      <th>slowakei</th>\n",
       "      <td>14204</td>\n",
       "    </tr>\n",
       "    <tr>\n",
       "      <th>ungarn</th>\n",
       "      <td>26957</td>\n",
       "    </tr>\n",
       "  </tbody>\n",
       "</table>\n",
       "</div>"
      ],
      "text/plain": [
       "            url\n",
       "country        \n",
       "albanien   3889\n",
       "kroatien  15802\n",
       "serbien   14901\n",
       "slowakei  14204\n",
       "ungarn    26957"
      ]
     },
     "execution_count": 203,
     "metadata": {},
     "output_type": "execute_result"
    }
   ],
   "source": [
    "df.groupby(\"country\").count()[[\"url\"]]"
   ]
  },
  {
   "cell_type": "code",
   "execution_count": 204,
   "id": "87505a26-e3c8-4c03-b307-5aff5f98fbaa",
   "metadata": {},
   "outputs": [
    {
     "data": {
      "text/plain": [
       "<seaborn.axisgrid.FacetGrid at 0x7f729ab42850>"
      ]
     },
     "execution_count": 204,
     "metadata": {},
     "output_type": "execute_result"
    },
    {
     "data": {
      "image/png": "[encoded data removed]",
      "text/plain": [
       "<Figure size 800x600 with 5 Axes>"
      ]
     },
     "metadata": {},
     "output_type": "display_data"
    }
   ],
   "source": [
    "import matplotlib.pyplot as plt\n",
    "import seaborn as sns\n",
    "\n",
    "df_plt = df.groupby([\"country\", \"year\"]).count()[[\"url\"]].reset_index()\n",
    "df_plt.year = df_plt.year.astype(int)\n",
    "\n",
    "# Plot each year's time series in its own facet\n",
    "g = sns.relplot(\n",
    "    data=df_plt,\n",
    "    x=\"year\",\n",
    "    y=\"url\",\n",
    "    col=\"country\",\n",
    "    hue=\"country\",\n",
    "    kind=\"line\",\n",
    "    palette=\"crest\",\n",
    "    linewidth=4,\n",
    "    zorder=5,\n",
    "    col_wrap=2,\n",
    "    height=2,\n",
    "    aspect=2,\n",
    "    legend=False,\n",
    ")\n",
    "\n",
    "# Iterate over each subplot to customize further\n",
    "for country, ax in g.axes_dict.items():\n",
    "    # Add the title as an annotation within the plot\n",
    "    ax.text(0.8, 0.85, country, transform=ax.transAxes, fontweight=\"bold\")\n",
    "\n",
    "\n",
    "# Reduce the frequency of the x axis ticks\n",
    "ax.set_xticks(ax.get_xticks()[::2])\n",
    "\n",
    "# Tweak the supporting aspects of the plot\n",
    "g.set_titles(\"\")\n",
    "g.set_axis_labels(\"\", \"count articles\")\n",
    "g.tight_layout()"
   ]
  },
  {
   "cell_type": "markdown",
   "id": "2bca364a-df46-4795-9656-46c7b59770fc",
   "metadata": {},
   "source": [
    "Create grouped dataframe"
   ]
  },
  {
   "cell_type": "code",
   "execution_count": 205,
   "id": "1338b881-d853-4f7d-8e6c-69a154e846e5",
   "metadata": {},
   "outputs": [],
   "source": [
    "df_grp = (\n",
    "    df.sort_values(\"country\")\n",
    "    .groupby([\"id\", \"year\", \"url\"])[\"country\"]\n",
    "    .apply(list)\n",
    "    .reset_index()\n",
    ")\n",
    "\n",
    "\n",
    "df_grp[\"country\"] = df_grp[\"country\"].apply(lambda x: \"_\".join(x))"
   ]
  },
  {
   "cell_type": "markdown",
   "id": "aadb4466-f97b-40a6-9ed9-5afcffbad1ee",
   "metadata": {},
   "source": [
    "The 10 most common country constellations"
   ]
  },
  {
   "cell_type": "code",
   "execution_count": 206,
   "id": "d1ada902-05db-4c04-a38d-bfcacac4217b",
   "metadata": {},
   "outputs": [
    {
     "data": {
      "text/html": [
       "<div>\n",
       "<style scoped>\n",
       "    .dataframe tbody tr th:only-of-type {\n",
       "        vertical-align: middle;\n",
       "    }\n",
       "\n",
       "    .dataframe tbody tr th {\n",
       "        vertical-align: top;\n",
       "    }\n",
       "\n",
       "    .dataframe thead th {\n",
       "        text-align: right;\n",
       "    }\n",
       "</style>\n",
       "<table border=\"1\" class=\"dataframe\">\n",
       "  <thead>\n",
       "    <tr style=\"text-align: right;\">\n",
       "      <th></th>\n",
       "      <th>id</th>\n",
       "    </tr>\n",
       "    <tr>\n",
       "      <th>country</th>\n",
       "      <th></th>\n",
       "    </tr>\n",
       "  </thead>\n",
       "  <tbody>\n",
       "    <tr>\n",
       "      <th>ungarn</th>\n",
       "      <td>18683</td>\n",
       "    </tr>\n",
       "    <tr>\n",
       "      <th>serbien</th>\n",
       "      <td>9390</td>\n",
       "    </tr>\n",
       "    <tr>\n",
       "      <th>kroatien</th>\n",
       "      <td>9372</td>\n",
       "    </tr>\n",
       "    <tr>\n",
       "      <th>slowakei</th>\n",
       "      <td>7788</td>\n",
       "    </tr>\n",
       "    <tr>\n",
       "      <th>slowakei_ungarn</th>\n",
       "      <td>3583</td>\n",
       "    </tr>\n",
       "    <tr>\n",
       "      <th>albanien</th>\n",
       "      <td>1991</td>\n",
       "    </tr>\n",
       "    <tr>\n",
       "      <th>kroatien_serbien</th>\n",
       "      <td>1875</td>\n",
       "    </tr>\n",
       "    <tr>\n",
       "      <th>kroatien_ungarn</th>\n",
       "      <td>1223</td>\n",
       "    </tr>\n",
       "    <tr>\n",
       "      <th>serbien_ungarn</th>\n",
       "      <td>913</td>\n",
       "    </tr>\n",
       "    <tr>\n",
       "      <th>kroatien_slowakei_ungarn</th>\n",
       "      <td>823</td>\n",
       "    </tr>\n",
       "  </tbody>\n",
       "</table>\n",
       "</div>"
      ],
      "text/plain": [
       "                             id\n",
       "country                        \n",
       "ungarn                    18683\n",
       "serbien                    9390\n",
       "kroatien                   9372\n",
       "slowakei                   7788\n",
       "slowakei_ungarn            3583\n",
       "albanien                   1991\n",
       "kroatien_serbien           1875\n",
       "kroatien_ungarn            1223\n",
       "serbien_ungarn              913\n",
       "kroatien_slowakei_ungarn    823"
      ]
     },
     "execution_count": 206,
     "metadata": {},
     "output_type": "execute_result"
    }
   ],
   "source": [
    "df_grp.groupby(\"country\").count()[[\"id\"]].sort_values(\"id\", ascending=False).head(10)"
   ]
  },
  {
   "cell_type": "markdown",
   "id": "da131ffa-bd13-44e7-b719-9a5eb3d610d9",
   "metadata": {},
   "source": [
    "## Download"
   ]
  },
  {
   "cell_type": "code",
   "execution_count": null,
   "id": "57804949-cabb-45a9-a6a7-68aff6c7caf1",
   "metadata": {
    "tags": []
   },
   "outputs": [],
   "source": [
    "for country in df_grp.country.unique():\n",
    "    \n",
    "    print(\"Downloading articles for\", country)\n",
    "\n",
    "    df_country = df_grp.copy().loc[df_grp.country==country]\n",
    "\n",
    "\n",
    "    if os.path.exists(data_dir + \"/\" + country) == False:\n",
    "        os.makedirs(data_dir + \"/\" + country)\n",
    "\n",
    "\n",
    "    for _, row in df_country.iterrows():\n",
    "        a_title, a_subtitle, a_text = get_derstandard_article(row.url)\n",
    "        with open(data_dir + f\"/{country}/{row.id}.json\", \"w\") as fp:\n",
    "            json.dump(dict(title=a_title, subtitle=a_subtitle, text=a_text), fp)"
   ]
  },
  {
   "cell_type": "markdown",
   "id": "7a99e2be-9f6b-48de-b862-bbf74476fdec",
   "metadata": {},
   "source": [
    "## Preprocess text"
   ]
  },
  {
   "cell_type": "code",
   "execution_count": null,
   "id": "aacab6a6-91f7-47ea-a576-b616a53cb8be",
   "metadata": {},
   "outputs": [],
   "source": [
    "def clean_url(input):\n",
    "    output = re.sub(r\"http\\S+\", \"\", input)\n",
    "    return output\n",
    "\n",
    "\n",
    "def fix_contraction(input):\n",
    "    output = contractions.fix(input)\n",
    "    return output\n",
    "\n",
    "\n",
    "def clean_non_alphanumeric(input):\n",
    "    output = re.sub(r\"[^a-zA-Z0-9]\", \" \", input)\n",
    "    return output\n",
    "\n",
    "\n",
    "def clean_tokenization(input):\n",
    "    output = nltk.word_tokenize(input)\n",
    "    return output\n",
    "\n",
    "\n",
    "def clean_stopwords(input):\n",
    "    output = [item for item in input if item not in stop_words]\n",
    "    return output\n",
    "\n",
    "\n",
    "def numbers_to_words(input):\n",
    "    output = []\n",
    "    for item in input:\n",
    "        if item.isnumeric() == True:\n",
    "            output += [p.number_to_words(item)]\n",
    "        else:\n",
    "            output += [item]\n",
    "    return output\n",
    "\n",
    "\n",
    "def clean_lowercase(input):\n",
    "    output = str(input).lower()\n",
    "    return output\n",
    "\n",
    "\n",
    "def clean_lemmatization(input):\n",
    "    output = [lemma.lemmatize(word=w, pos=\"v\") for w in input]\n",
    "    return output\n",
    "\n",
    "\n",
    "def clean_length(input):\n",
    "    output = [word for word in input if len(word) > 2]\n",
    "    return output\n",
    "\n",
    "\n",
    "def convert_to_string(input):\n",
    "    output = \" \".join(input)\n",
    "    return output\n",
    "\n",
    "\n",
    "def preprocessing(text, remove_stopwords=True):\n",
    "    \"\"\"\n",
    "    Preprocessing pipeline.\n",
    "    \"\"\"\n",
    "    text = clean_url(text)\n",
    "    text = fix_contraction(text)\n",
    "    text = clean_non_alphanumeric(text)\n",
    "    text = clean_lowercase(text)\n",
    "    text = clean_tokenization(text)\n",
    "    text = numbers_to_words(text)\n",
    "    if remove_stopwords:\n",
    "        text = clean_stopwords(text)\n",
    "    text = clean_lemmatization(text)\n",
    "    text = clean_length(text)\n",
    "    text = convert_to_string(text)\n",
    "    return text"
   ]
  },
  {
   "cell_type": "code",
   "execution_count": null,
   "id": "5c03ced9-0ec9-4ece-abab-3500768544ed",
   "metadata": {},
   "outputs": [],
   "source": [
    "#\n",
    "#\n",
    "#"
   ]
  },
  {
   "cell_type": "markdown",
   "id": "3f525b98-2a1f-44b7-9adb-10e8494e0c15",
   "metadata": {},
   "source": [
    "## Sentiment analysis"
   ]
  },
  {
   "cell_type": "code",
   "execution_count": 14,
   "id": "9faf2653-8caa-4770-9575-2f9ed2f3044f",
   "metadata": {},
   "outputs": [],
   "source": [
    "#\n",
    "#\n",
    "#"
   ]
  }
 ],
 "metadata": {
  "kernelspec": {
   "display_name": "Python 3 (ipykernel)",
   "language": "python",
   "name": "python3"
  },
  "language_info": {
   "codemirror_mode": {
    "name": "ipython",
    "version": 3
   },
   "file_extension": ".py",
   "mimetype": "text/x-python",
   "name": "python",
   "nbconvert_exporter": "python",
   "pygments_lexer": "ipython3",
   "version": "3.9.13"
  }
 },
 "nbformat": 4,
 "nbformat_minor": 5
}
