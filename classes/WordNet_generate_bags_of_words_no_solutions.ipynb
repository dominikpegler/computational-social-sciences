{
 "cells": [
  {
   "cell_type": "markdown",
   "metadata": {
    "id": "QK7hpiLKm3_I"
   },
   "source": [
    "Dictionary Tools - WordNet\n",
    "===\n",
    "\n",
    "If you are a user jump to section 3 (where you simply have to add seed word to the function and obtain the bag of words"
   ]
  },
  {
   "cell_type": "raw",
   "metadata": {},
   "source": [
    "import jupyter_black\n",
    "\n",
    "jupyter_black.load()"
   ]
  },
  {
   "cell_type": "markdown",
   "metadata": {},
   "source": [
    "## Imports"
   ]
  },
  {
   "cell_type": "code",
   "execution_count": 79,
   "metadata": {
    "colab": {
     "base_uri": "https://localhost:8080/"
    },
    "id": "NjcysBREk7wW",
    "outputId": "4f6fea2a-d2d1-4151-df95-23080e257a7c"
   },
   "outputs": [],
   "source": [
    "##import the module\n",
    "import nltk\n",
    "\n",
    "# nltk.download('all')\n",
    "from nltk.corpus import wordnet as wn"
   ]
  },
  {
   "cell_type": "markdown",
   "metadata": {
    "colab": {
     "base_uri": "https://localhost:8080/"
    },
    "id": "NjcysBREk7wW",
    "outputId": "4f6fea2a-d2d1-4151-df95-23080e257a7c"
   },
   "source": [
    "## Synsets\n",
    "Synsets are the set possible **meanings** of the word, this is a function from WordNet (wn). First we take meanings which can be Part of Speech, Nouns, Verbs, or Adjectives"
   ]
  },
  {
   "cell_type": "markdown",
   "metadata": {
    "colab": {
     "base_uri": "https://localhost:8080/"
    },
    "id": "uktTadBLy-rr",
    "outputId": "e45d08ee-0b30-4a80-8bea-720346d0a4b8"
   },
   "source": [
    "### List of available languages"
   ]
  },
  {
   "cell_type": "code",
   "execution_count": 84,
   "metadata": {
    "colab": {
     "base_uri": "https://localhost:8080/"
    },
    "id": "uktTadBLy-rr",
    "outputId": "e45d08ee-0b30-4a80-8bea-720346d0a4b8"
   },
   "outputs": [
    {
     "data": {
      "text/plain": [
       "dict_keys(['eng', 'als', 'arb', 'bul', 'cmn', 'dan', 'ell', 'fin', 'fra', 'heb', 'hrv', 'isl', 'ita', 'ita_iwn', 'jpn', 'cat', 'eus', 'glg', 'spa', 'ind', 'zsm', 'nld', 'nno', 'nob', 'pol', 'por', 'ron', 'lit', 'slk', 'slv', 'swe', 'tha'])"
      ]
     },
     "execution_count": 84,
     "metadata": {},
     "output_type": "execute_result"
    }
   ],
   "source": [
    "wn.langs()"
   ]
  },
  {
   "cell_type": "code",
   "execution_count": 85,
   "metadata": {
    "colab": {
     "base_uri": "https://localhost:8080/"
    },
    "id": "NjcysBREk7wW",
    "outputId": "4f6fea2a-d2d1-4151-df95-23080e257a7c"
   },
   "outputs": [
    {
     "name": "stdout",
     "output_type": "stream",
     "text": [
      "anger Synset('anger.n.01') a strong emotion; a feeling that is oriented toward some real or supposed grievance\n",
      "anger Synset('anger.n.02') the state of being angry\n",
      "anger Synset('wrath.n.02') belligerence aroused by a real or supposed wrong (personified as one of the deadly sins)\n",
      "anger Synset('anger.v.01') make angry\n",
      "anger Synset('anger.v.02') become angry\n"
     ]
    }
   ],
   "source": [
    "word = \"anger\"\n",
    "language = \"eng\"\n",
    "\n",
    "\n",
    "meanings = wn.synsets(word, pos=wn.NOUN + wn.VERB + wn.ADJ, lang=language)\n",
    "\n",
    "for meaning in meanings:\n",
    "    print(word, meaning, meaning.definition())"
   ]
  },
  {
   "cell_type": "markdown",
   "metadata": {
    "colab": {
     "base_uri": "https://localhost:8080/"
    },
    "id": "5SGwqN1Bkqi4",
    "outputId": "2cfc3076-a32c-4635-f974-f3876745e9d5"
   },
   "source": [
    "## Synonyms obtained with lemmas()"
   ]
  },
  {
   "cell_type": "code",
   "execution_count": 86,
   "metadata": {
    "colab": {
     "base_uri": "https://localhost:8080/"
    },
    "id": "5SGwqN1Bkqi4",
    "outputId": "2cfc3076-a32c-4635-f974-f3876745e9d5"
   },
   "outputs": [
    {
     "name": "stdout",
     "output_type": "stream",
     "text": [
      "anger.n.01\n"
     ]
    },
    {
     "data": {
      "text/plain": [
       "[Lemma('anger.n.01.anger'),\n",
       " Lemma('anger.n.01.choler'),\n",
       " Lemma('anger.n.01.ire')]"
      ]
     },
     "execution_count": 86,
     "metadata": {},
     "output_type": "execute_result"
    }
   ],
   "source": [
    "## here we pick up the first synset of the list.\n",
    "print(meanings[0].name())\n",
    "\n",
    "wn.synset(meanings[0].name()).lemmas(language)"
   ]
  },
  {
   "cell_type": "code",
   "execution_count": 87,
   "metadata": {
    "colab": {
     "base_uri": "https://localhost:8080/",
     "height": 35
    },
    "id": "I2j3eKRV0Bfu",
    "outputId": "e1fcf9f0-0af8-44dc-8802-29b22f531ed3"
   },
   "outputs": [
    {
     "data": {
      "text/plain": [
       "'ire'"
      ]
     },
     "execution_count": 87,
     "metadata": {},
     "output_type": "execute_result"
    }
   ],
   "source": [
    "## access the word of the synonym\n",
    "\n",
    "## here we pick up the third lemma of the list\n",
    "## Note that the output writes capital Lemma, but input is with lowercase lemma\n",
    "wn.lemma(\"anger.n.01.ire\").name()"
   ]
  },
  {
   "cell_type": "markdown",
   "metadata": {},
   "source": [
    "## Hyponyms\n",
    "Obtaining hyponyms (words that are semantically lower in the hierarchy) for example dogs and cats are hyponyms of animals. Below are specific kinds of anger"
   ]
  },
  {
   "cell_type": "code",
   "execution_count": 88,
   "metadata": {
    "colab": {
     "base_uri": "https://localhost:8080/"
    },
    "id": "A3Y2nwZm1IOC",
    "outputId": "c3e4c88e-2ce5-4422-97a5-cc765d691672"
   },
   "outputs": [
    {
     "data": {
      "text/plain": [
       "[Synset('annoyance.n.02'),\n",
       " Synset('bad_temper.n.01'),\n",
       " Synset('dander.n.02'),\n",
       " Synset('fury.n.01'),\n",
       " Synset('huffiness.n.01'),\n",
       " Synset('indignation.n.01'),\n",
       " Synset('infuriation.n.01'),\n",
       " Synset('umbrage.n.01')]"
      ]
     },
     "execution_count": 88,
     "metadata": {},
     "output_type": "execute_result"
    }
   ],
   "source": [
    "wn.synset(\"anger.n.01\").hyponyms()"
   ]
  },
  {
   "cell_type": "markdown",
   "metadata": {
    "colab": {
     "base_uri": "https://localhost:8080/"
    },
    "id": "SHrWwG9zIkCu",
    "outputId": "3205f83e-2a00-40ff-c70a-72bdc205ac10"
   },
   "source": [
    "### Looping down the hierarchy with `.closure()`\n",
    "\n",
    "Like this we can navigate the hierarchy all the way to the bottom"
   ]
  },
  {
   "cell_type": "code",
   "execution_count": 90,
   "metadata": {
    "colab": {
     "base_uri": "https://localhost:8080/"
    },
    "id": "SHrWwG9zIkCu",
    "outputId": "3205f83e-2a00-40ff-c70a-72bdc205ac10"
   },
   "outputs": [
    {
     "name": "stdout",
     "output_type": "stream",
     "text": [
      "Synset('annoyance.n.02')\n",
      "Synset('bad_temper.n.01')\n",
      "Synset('dander.n.02')\n",
      "Synset('fury.n.01')\n",
      "Synset('huffiness.n.01')\n",
      "Synset('indignation.n.01')\n",
      "Synset('infuriation.n.01')\n",
      "Synset('umbrage.n.01')\n",
      "Synset('aggravation.n.01')\n",
      "Synset('displeasure.n.01')\n",
      "Synset('frustration.n.03')\n",
      "Synset('harassment.n.01')\n",
      "Synset('pique.n.02')\n",
      "Synset('fit.n.01')\n",
      "Synset('irascibility.n.01')\n",
      "Synset('lividity.n.01')\n",
      "Synset('wrath.n.01')\n",
      "Synset('dudgeon.n.01')\n"
     ]
    }
   ],
   "source": [
    "meaning = wn.synset(\"anger.n.01\")\n",
    "\n",
    "for item in meaning.closure(lambda s: s.hyponyms()):\n",
    "    print(item)"
   ]
  },
  {
   "cell_type": "markdown",
   "metadata": {
    "colab": {
     "base_uri": "https://localhost:8080/"
    },
    "id": "c01krzhi9_hb",
    "outputId": "af1312a1-49b8-4c6b-fd66-da6b0906ae72"
   },
   "source": [
    "## Hypernyms\n",
    "Obtaining hypernym (words that are semantically higher in the hierarchy). For example dogs and cats are hyponyms of animals. Below are specific kinds of anger"
   ]
  },
  {
   "cell_type": "code",
   "execution_count": 36,
   "metadata": {
    "colab": {
     "base_uri": "https://localhost:8080/"
    },
    "id": "c01krzhi9_hb",
    "outputId": "af1312a1-49b8-4c6b-fd66-da6b0906ae72"
   },
   "outputs": [
    {
     "data": {
      "text/plain": [
       "[Synset('emotion.n.01')]"
      ]
     },
     "execution_count": 36,
     "metadata": {},
     "output_type": "execute_result"
    }
   ],
   "source": [
    "wn.synset(\"anger.n.01\").hypernyms()"
   ]
  },
  {
   "cell_type": "code",
   "execution_count": 91,
   "metadata": {
    "colab": {
     "base_uri": "https://localhost:8080/"
    },
    "id": "qXYVMRge-d8N",
    "outputId": "a328b100-fd40-4e35-ade2-8d2622a9343c"
   },
   "outputs": [
    {
     "data": {
      "text/plain": [
       "[Synset('entity.n.01')]"
      ]
     },
     "execution_count": 91,
     "metadata": {},
     "output_type": "execute_result"
    }
   ],
   "source": [
    "wn.synset(\"anger.n.01\").root_hypernyms()"
   ]
  },
  {
   "cell_type": "markdown",
   "metadata": {
    "id": "hZFoB9mX5lXm"
   },
   "source": [
    "## Generate all synonyms and hyponyms of a word\n"
   ]
  },
  {
   "cell_type": "code",
   "execution_count": 132,
   "metadata": {
    "colab": {
     "base_uri": "https://localhost:8080/"
    },
    "id": "Qk2ce-Ei6peZ",
    "outputId": "924d8133-98fd-402f-d2f1-b8d7dc4877ef"
   },
   "outputs": [
    {
     "name": "stdout",
     "output_type": "stream",
     "text": [
      "Generating all synonyms for: neglect\n",
      "\n",
      " ### Synset no. 1 ###\n",
      "\n",
      "Meaning: disregard.n.01\n",
      "Definition: lack of attention and due care\n",
      "\n",
      "- Lemmas:\n",
      "  - disregard\n",
      "  - neglect\n",
      "\n",
      "- Hyponyms:\n",
      "\n",
      "  - omission.n.04\n",
      "\n",
      "     - Definition: neglecting to do something; leaving out or passing over something\n",
      "\n",
      "     - Lemmas:\n",
      "        - omission\n",
      "\n",
      "  - exception.n.01\n",
      "\n",
      "     - Definition: a deliberate act of omission\n",
      "\n",
      "     - Lemmas:\n",
      "        - exception\n",
      "        - exclusion\n",
      "        - elision\n",
      "\n",
      "  - oversight.n.01\n",
      "\n",
      "     - Definition: an unintentional omission resulting from failure to notice something\n",
      "\n",
      "     - Lemmas:\n",
      "        - oversight\n",
      "        - inadvertence\n",
      "\n",
      "  - pretermission.n.01\n",
      "\n",
      "     - Definition: letting pass without notice\n",
      "\n",
      "     - Lemmas:\n",
      "        - pretermission\n",
      "\n",
      " ### Synset no. 2 ###\n",
      "\n",
      "Meaning: neglect.n.02\n",
      "Definition: the state of something that has been unused and neglected\n",
      "\n",
      "- Lemmas:\n",
      "  - neglect\n",
      "  - disuse\n",
      "\n",
      "- Hyponyms:\n",
      "\n",
      "  - omission.n.02\n",
      "\n",
      "     - Definition: something that has been omitted\n",
      "\n",
      "     - Lemmas:\n",
      "        - omission\n",
      "\n",
      " ### Synset no. 3 ###\n",
      "\n",
      "Meaning: disregard.n.02\n",
      "Definition: willful lack of care and attention\n",
      "\n",
      "- Lemmas:\n",
      "  - disregard\n",
      "  - neglect\n",
      "\n",
      "- Hyponyms:\n",
      "\n",
      "  - despite.n.02\n",
      "\n",
      "     - Definition: contemptuous disregard\n",
      "\n",
      "     - Lemmas:\n",
      "        - despite\n",
      "\n",
      " ### Synset no. 4 ###\n",
      "\n",
      "Meaning: negligence.n.02\n",
      "Definition: the trait of neglecting responsibilities and lacking concern\n",
      "\n",
      "- Lemmas:\n",
      "  - negligence\n",
      "  - neglect\n",
      "  - neglectfulness\n",
      "\n",
      "- Hyponyms:\n",
      "\n",
      "  - delinquency.n.02\n",
      "\n",
      "     - Definition: a tendency to be negligent and uncaring\n",
      "\n",
      "     - Lemmas:\n",
      "        - delinquency\n",
      "        - dereliction\n",
      "        - willful_neglect\n",
      "\n",
      "  - laxness.n.01\n",
      "\n",
      "     - Definition: the quality of being lax and neglectful\n",
      "\n",
      "     - Lemmas:\n",
      "        - laxness\n",
      "        - laxity\n",
      "        - remissness\n",
      "        - slackness\n",
      "\n",
      " ### Synset no. 5 ###\n",
      "\n",
      "Meaning: negligence.n.01\n",
      "Definition: failure to act with the prudence that a reasonable person would exercise under the same circumstances\n",
      "\n",
      "- Lemmas:\n",
      "  - negligence\n",
      "  - carelessness\n",
      "  - neglect\n",
      "  - nonperformance\n",
      "\n",
      "- Hyponyms:\n",
      "\n",
      "  - comparative_negligence.n.01\n",
      "\n",
      "     - Definition: (law) negligence allocated between the plaintiff and the defendant with a corresponding reduction in damages paid to the plaintiff\n",
      "\n",
      "     - Lemmas:\n",
      "        - comparative_negligence\n",
      "\n",
      "  - concurrent_negligence.n.01\n",
      "\n",
      "     - Definition: (law) negligence of two of more persons acting independently; the plaintiff may sue both together or separately\n",
      "\n",
      "     - Lemmas:\n",
      "        - concurrent_negligence\n",
      "\n",
      "  - contributory_negligence.n.01\n",
      "\n",
      "     - Definition: (law) behavior by the plaintiff that contributes to the harm resulting from the defendant's negligence\n",
      "\n",
      "     - Lemmas:\n",
      "        - contributory_negligence\n",
      "\n",
      "  - criminal_negligence.n.01\n",
      "\n",
      "     - Definition: (law) recklessly acting without reasonable caution and putting another person at risk of injury or death (or failing to do something with the same consequences)\n",
      "\n",
      "     - Lemmas:\n",
      "        - criminal_negligence\n",
      "        - culpable_negligence\n",
      "\n",
      "  - dereliction.n.02\n",
      "\n",
      "     - Definition: willful negligence\n",
      "\n",
      "     - Lemmas:\n",
      "        - dereliction\n",
      "\n",
      "  - evasion.n.03\n",
      "\n",
      "     - Definition: nonperformance of something distasteful (as by deceit or trickery) that you are supposed to do\n",
      "\n",
      "     - Lemmas:\n",
      "        - evasion\n",
      "        - escape\n",
      "        - dodging\n",
      "\n",
      "  - neglect_of_duty.n.01\n",
      "\n",
      "     - Definition: (law) breach of a duty\n",
      "\n",
      "     - Lemmas:\n",
      "        - neglect_of_duty\n",
      "\n",
      "  - nonfeasance.n.01\n",
      "\n",
      "     - Definition: a failure to act when under an obligation to do so; a refusal (without sufficient excuse) to do that which it is your legal duty to do\n",
      "\n",
      "     - Lemmas:\n",
      "        - nonfeasance\n",
      "\n",
      "  - circumvention.n.01\n",
      "\n",
      "     - Definition: the act of evading by going around\n",
      "\n",
      "     - Lemmas:\n",
      "        - circumvention\n",
      "\n",
      "  - escape_mechanism.n.01\n",
      "\n",
      "     - Definition: a form of behavior that evades unpleasant realities\n",
      "\n",
      "     - Lemmas:\n",
      "        - escape_mechanism\n",
      "\n",
      "  - malingering.n.01\n",
      "\n",
      "     - Definition: evading duty or work by pretending to be incapacitated\n",
      "\n",
      "     - Lemmas:\n",
      "        - malingering\n",
      "        - skulking\n",
      "\n",
      "  - shirking.n.01\n",
      "\n",
      "     - Definition: the evasion of work or duty\n",
      "\n",
      "     - Lemmas:\n",
      "        - shirking\n",
      "        - slacking\n",
      "        - soldiering\n",
      "        - goofing_off\n",
      "        - goldbricking\n",
      "\n",
      " ### Synset no. 6 ###\n",
      "\n",
      "Meaning: neglect.v.01\n",
      "Definition: leave undone or leave out\n",
      "\n",
      "- Lemmas:\n",
      "  - neglect\n",
      "  - pretermit\n",
      "  - omit\n",
      "  - drop\n",
      "  - miss\n",
      "  - leave_out\n",
      "  - overlook\n",
      "  - overleap\n",
      "\n",
      "- Hyponyms:\n",
      "\n",
      "  - forget.v.03\n",
      "\n",
      "     - Definition: forget to do something\n",
      "\n",
      "     - Lemmas:\n",
      "        - forget\n",
      "\n",
      "  - jump.v.13\n",
      "\n",
      "     - Definition: bypass\n",
      "\n",
      "     - Lemmas:\n",
      "        - jump\n",
      "        - pass_over\n",
      "        - skip\n",
      "        - skip_over\n",
      "\n",
      " ### Synset no. 7 ###\n",
      "\n",
      "Meaning: fail.v.01\n",
      "Definition: fail to do something; leave something undone\n",
      "\n",
      "- Lemmas:\n",
      "  - fail\n",
      "  - neglect\n",
      "\n",
      "- Hyponyms:\n",
      "\n",
      "  - choke.v.06\n",
      "\n",
      "     - Definition: fail to perform adequately due to tension or agitation\n",
      "\n",
      "     - Lemmas:\n",
      "        - choke\n",
      "\n",
      "  - default.v.01\n",
      "\n",
      "     - Definition: fail to pay up\n",
      "\n",
      "     - Lemmas:\n",
      "        - default\n",
      "        - default_on\n",
      "\n",
      "  - lose_track.v.01\n",
      "\n",
      "     - Definition: fail to keep informed or aware\n",
      "\n",
      "     - Lemmas:\n",
      "        - lose_track\n",
      "\n",
      "  - miss.v.03\n",
      "\n",
      "     - Definition: fail to attend an event or activity\n",
      "\n",
      "     - Lemmas:\n",
      "        - miss\n",
      "\n",
      "  - muff.v.01\n",
      "\n",
      "     - Definition: fail to catch, as of a ball\n",
      "\n",
      "     - Lemmas:\n",
      "        - muff\n",
      "\n",
      "  - strike_out.v.02\n",
      "\n",
      "     - Definition: put out or be put out by a strikeout\n",
      "\n",
      "     - Lemmas:\n",
      "        - strike_out\n",
      "\n",
      "  - cut.v.11\n",
      "\n",
      "     - Definition: intentionally fail to attend\n",
      "\n",
      "     - Lemmas:\n",
      "        - cut\n",
      "        - skip\n",
      "\n",
      "  - fan.v.01\n",
      "\n",
      "     - Definition: strike out (a batter), (of a pitcher)\n",
      "\n",
      "     - Lemmas:\n",
      "        - fan\n",
      "\n",
      "  - whiff.v.03\n",
      "\n",
      "     - Definition: strike out by swinging and missing the pitch charged as the third\n",
      "\n",
      "     - Lemmas:\n",
      "        - whiff\n",
      "\n",
      "  - bunk_off.v.01\n",
      "\n",
      "     - Definition: play truant from work or school\n",
      "\n",
      "     - Lemmas:\n",
      "        - bunk_off\n",
      "        - play_hooky\n",
      "\n",
      " ### Synset no. 8 ###\n",
      "\n",
      "Meaning: neglect.v.03\n",
      "Definition: fail to attend to\n",
      "\n",
      "- Lemmas:\n",
      "  - neglect\n",
      "\n",
      "- Hyponyms:\n",
      "\n",
      "  - slack.v.02\n",
      "\n",
      "     - Definition: be inattentive to, or neglect\n",
      "\n",
      "     - Lemmas:\n",
      "        - slack\n",
      "\n",
      " ### Synset no. 9 ###\n",
      "\n",
      "Meaning: neglect.v.04\n",
      "Definition: give little or no attention to\n",
      "\n",
      "- Lemmas:\n",
      "  - neglect\n",
      "  - ignore\n",
      "  - disregard\n",
      "\n",
      "- Hyponyms:\n",
      "\n",
      "  - pretermit.v.01\n",
      "\n",
      "     - Definition: disregard intentionally or let pass\n",
      "\n",
      "     - Lemmas:\n",
      "        - pretermit\n"
     ]
    }
   ],
   "source": [
    "word = \"neglect\"\n",
    "language = \"eng\"\n",
    "\n",
    "print(\"Generating all synonyms for:\", word)\n",
    "\n",
    "meanings = wn.synsets(word, pos=wn.NOUN + wn.VERB + wn.ADJ, lang=language)\n",
    "list_of_lemmas = []\n",
    "\n",
    "for i, meaning in enumerate(meanings):\n",
    "    print(\"\\n\", \"### Synset no.\", i + 1, \"###\\n\")\n",
    "    print(\"Meaning:\", meaning.name())\n",
    "    print(\"Definition:\", meaning.definition())\n",
    "\n",
    "    print(\"\\n- Lemmas:\")\n",
    "\n",
    "    for j, lemma in enumerate(meaning.lemmas(language)):\n",
    "        ##convert lemma to synset\n",
    "        print(\"  -\", lemma.name())\n",
    "        list_of_lemmas += [lemma.name()]\n",
    "\n",
    "    print(\"\\n- Hyponyms:\")\n",
    "\n",
    "    for hyponym in meaning.closure(lambda s: s.hyponyms()):\n",
    "        print(\"\\n  -\", hyponym.name())\n",
    "        print(\"\\n     - Definition:\", hyponym.definition())\n",
    "        print(\"\\n     - Lemmas:\")\n",
    "        for lemma in hyponym.lemmas(language):\n",
    "            ##convert lemma to synset\n",
    "            print(\"        -\", lemma.name())\n",
    "            list_of_lemmas += [lemma.name()]"
   ]
  },
  {
   "cell_type": "code",
   "execution_count": 141,
   "metadata": {
    "colab": {
     "base_uri": "https://localhost:8080/"
    },
    "id": "hskvHuu9A2Zz",
    "outputId": "85239818-be0d-4f9b-9f62-4b751afeeca9"
   },
   "outputs": [
    {
     "name": "stdout",
     "output_type": "stream",
     "text": [
      "set_of_lemmas:\n",
      "\n",
      " ['aggravate', 'aggravation', 'anger', 'angriness', 'annoyance', 'bad_temper', 'bridle', 'chafe', 'choler', 'combust', 'conniption', 'dander', 'displeasure', 'dudgeon', 'enrage', 'enragement', 'exacerbate', 'exasperate', 'exasperation', 'fit', 'frustration', 'fury', 'gall', 'hackles', 'harassment', 'high_dudgeon', 'huffiness', 'ill_temper', 'incense', 'indignation', 'infuriate', 'infuriation', 'ira', 'irascibility', 'ire', 'irk', 'irritation', 'lividity', 'madden', 'madness', 'miff', 'offence', 'offend', 'offense', 'outrage', 'pique', 'quick_temper', 'rage', 'raise_the_roof', 'scene', 'see_red', 'short_temper', 'spleen', 'steam', 'tantrum', 'temper', 'torment', 'umbrage', 'vexation', 'wrath']\n",
      "\n",
      "Length: 60\n"
     ]
    }
   ],
   "source": [
    "##eliminate list duplations by applying the set transformation & sort alphabetically\n",
    "set_of_lemmas = sorted([*set(list_of_lemmas)])\n",
    "\n",
    "print(\"set_of_lemmas:\\n\\n\", set_of_lemmas)\n",
    "print(\"\\nLength:\", len(set_of_lemmas))"
   ]
  },
  {
   "cell_type": "code",
   "execution_count": 142,
   "metadata": {
    "colab": {
     "base_uri": "https://localhost:8080/"
    },
    "id": "jIjJX_Xh8wtw",
    "outputId": "00aebbb1-6544-4b58-a3a8-b95e4fb09c5e"
   },
   "outputs": [
    {
     "name": "stdout",
     "output_type": "stream",
     "text": [
      "Synset('anger.n.01') a strong emotion; a feeling that is oriented toward some real or supposed grievance\n",
      "Synset('annoyance.n.02') anger produced by some annoying irritation\n",
      "Synset('bad_temper.n.01') a persisting angry mood\n",
      "Synset('dander.n.02') a feeling of anger and animosity\n",
      "Synset('fury.n.01') a feeling of intense anger\n",
      "Synset('huffiness.n.01') a passing state of anger and resentment\n",
      "Synset('indignation.n.01') a feeling of righteous anger\n",
      "Synset('infuriation.n.01') a feeling of intense anger\n",
      "Synset('umbrage.n.01') a feeling of anger caused by being offended\n",
      "Synset('aggravation.n.01') an exasperated feeling of annoyance\n",
      "Synset('displeasure.n.01') the feeling of being displeased or annoyed or dissatisfied with someone or something\n",
      "Synset('frustration.n.03') a feeling of annoyance at being hindered or criticized\n",
      "Synset('harassment.n.01') a feeling of intense annoyance caused by being tormented\n",
      "Synset('pique.n.02') a sudden outburst of anger\n",
      "Synset('fit.n.01') a display of bad temper\n",
      "Synset('irascibility.n.01') a feeling of resentful anger\n",
      "Synset('lividity.n.01') a state of fury so great the face becomes discolored\n",
      "Synset('wrath.n.01') intense anger (usually on an epic scale)\n",
      "Synset('dudgeon.n.01') a feeling of intense indignation (now used only in the phrase `in high dudgeon')\n",
      "Synset('anger.n.02') the state of being angry\n",
      "Synset('rage.n.02') a state of extreme anger\n",
      "Synset('wrath.n.02') belligerence aroused by a real or supposed wrong (personified as one of the deadly sins)\n",
      "Synset('anger.v.01') make angry\n",
      "Synset('combust.v.04') cause to become violent or angry\n",
      "Synset('enrage.v.01') put into a rage; make violently angry\n",
      "Synset('exacerbate.v.02') exasperate or irritate\n",
      "Synset('gall.v.02') irritate or vex\n",
      "Synset('infuriate.v.01') make furious\n",
      "Synset('madden.v.03') make mad\n",
      "Synset('miff.v.01') cause to be annoyed\n",
      "Synset('pique.v.01') cause to feel resentment or indignation\n",
      "Synset('anger.v.02') become angry\n",
      "Synset('bridle.v.01') anger or take offense\n",
      "Synset('raise_the_roof.v.01') get very angry\n",
      "Synset('steam.v.04') get very angry\n",
      "\n",
      "set_of_lemmas:\n",
      "\n",
      " ['aggravate', 'aggravation', 'anger', 'angriness', 'annoyance', 'bad_temper', 'bridle', 'chafe', 'choler', 'combust', 'conniption', 'dander', 'displeasure', 'dudgeon', 'enrage', 'enragement', 'exacerbate', 'exasperate', 'exasperation', 'fit', 'frustration', 'fury', 'gall', 'hackles', 'harassment', 'high_dudgeon', 'huffiness', 'ill_temper', 'incense', 'indignation', 'infuriate', 'infuriation', 'ira', 'irascibility', 'ire', 'irk', 'irritation', 'lividity', 'madden', 'madness', 'miff', 'offence', 'offend', 'offense', 'outrage', 'pique', 'quick_temper', 'rage', 'raise_the_roof', 'scene', 'see_red', 'short_temper', 'spleen', 'steam', 'tantrum', 'temper', 'torment', 'umbrage', 'vexation', 'wrath']\n",
      "\n",
      "Length: 60\n"
     ]
    }
   ],
   "source": [
    "## re-write with simpler loops and filters\n",
    "\n",
    "## free parameters, seed word and language\n",
    "seed_word = \"anger\"\n",
    "\n",
    "## we create an empty list to store the final word list\n",
    "list_of_lemmas = []\n",
    "\n",
    "## a function to add a word to a list\n",
    "add_to_list = lambda list1, item1: list1.append(item1)\n",
    "\n",
    "## a function to return the hyponyms of a synset\n",
    "hypos = lambda s: s.hyponyms()\n",
    "\n",
    "## wn.synset obtains the list of synonyms and meanings for that word, in different syntactic categories\n",
    "meanings = wn.synsets(seed_word, pos=wn.NOUN + wn.VERB + wn.ADJ)\n",
    "\n",
    "## loop over set of meanings in synset\n",
    "for meaning in meanings:\n",
    "\n",
    "    ## print the definition of that meaning\n",
    "    print(meaning, meaning.definition())\n",
    "\n",
    "    ## append all synonyms (lemmas()) of that meaning to the list_of_lemmas\n",
    "    [add_to_list(list_of_lemmas, lemma.name()) for lemma in meaning.lemmas(language)]\n",
    "\n",
    "    ## loop over the list of all possible hyponyms\n",
    "    for hyponym in meaning.closure(hypos):\n",
    "\n",
    "        ## print the definition of each hyponym\n",
    "        print(hyponym, hyponym.definition())\n",
    "\n",
    "        ## append all synonyms (lemmas()) of that hyponym to the list_of_lemmas\n",
    "        [\n",
    "            add_to_list(list_of_lemmas, lemma.name())\n",
    "            for lemma in hyponym.lemmas(language)\n",
    "        ]\n",
    "\n",
    "##eliminate list duplations by applying the set transformation & sort alphabetically\n",
    "set_of_lemmas = sorted([*set(list_of_lemmas)])\n",
    "\n",
    "print(\"\\nset_of_lemmas:\\n\\n\", set_of_lemmas)\n",
    "print(\"\\nLength:\", len(set_of_lemmas))"
   ]
  },
  {
   "cell_type": "markdown",
   "metadata": {
    "id": "EJZUfj0XHIFS"
   },
   "source": [
    "#### 2.1 Exercise. Write the previous cell as a def function, and use the function to obtain a list of words of all terms related to joy\n",
    "\n",
    "#### call should be like generate_word_list(seed_word, language)"
   ]
  },
  {
   "cell_type": "code",
   "execution_count": 41,
   "metadata": {
    "id": "u_bHRWzOVS1N"
   },
   "outputs": [],
   "source": [
    "#\n",
    "#\n",
    "#"
   ]
  },
  {
   "cell_type": "markdown",
   "metadata": {
    "id": "jcmXGg5GVs8m"
   },
   "source": [
    "In order to analyze the lemmas in relation to their synset, we can re-write the function"
   ]
  },
  {
   "cell_type": "code",
   "execution_count": 42,
   "metadata": {
    "id": "blzWIyZ6MQCM"
   },
   "outputs": [],
   "source": [
    "## define the function\n",
    "\n",
    "\n",
    "def generate_word_list(seed_word, language):\n",
    "\n",
    "    ## we create an empty list to store the final word list\n",
    "    list_of_lemmas = []\n",
    "\n",
    "    ## a function to add a word to a list\n",
    "    add_to_list = lambda list1, item1: list1.append(item1)\n",
    "\n",
    "    ## a function to return the hyponyms of a synset\n",
    "    hypos = lambda s: s.hyponyms()\n",
    "\n",
    "    ## wn.synset obtains the list of synonyms and meanings for that word, in different syntactic categories\n",
    "    meanings = wn.synsets(seed_word, pos=wn.NOUN + wn.VERB + wn.ADJ)\n",
    "\n",
    "    ## loop over set of meanings in synset\n",
    "    for meaning in meanings:\n",
    "\n",
    "        ## print the definition of that meaning, depicts the base word .name() for each lemma in the meaning list\n",
    "        print(\n",
    "            meaning,\n",
    "            meaning.definition(),\n",
    "            [lemma.name() for lemma in meaning.lemmas(language)],\n",
    "        )\n",
    "\n",
    "        ## append all synonyms (lemmas()) of that meaning to the list_of_lemmas\n",
    "        [\n",
    "            add_to_list(list_of_lemmas, lemma.name())\n",
    "            for lemma in meaning.lemmas(language)\n",
    "        ]\n",
    "\n",
    "        ## loop over the list of all possible hyponyms\n",
    "        for hyponym in meaning.closure(hypos):\n",
    "\n",
    "            ## print the definition of each hyponym, depicts the base word .name() for each lemma in the hyponym list\n",
    "            print(\n",
    "                hyponym,\n",
    "                hyponym.definition(),\n",
    "                [lemma.name() for lemma in hyponym.lemmas(language)],\n",
    "            )\n",
    "\n",
    "            ## append all synonyms (lemmas()) of that hyponym to the list_of_lemmas\n",
    "            [\n",
    "                add_to_list(list_of_lemmas, lemma.name())\n",
    "                for lemma in hyponym.lemmas(language)\n",
    "            ]\n",
    "\n",
    "    ##eliminate list duplations by applying the set transformation\n",
    "    set_of_lemmas = [*set(list_of_lemmas)]\n",
    "\n",
    "    ## sort alphabetically\n",
    "    set_of_lemmas.sort()\n",
    "\n",
    "    ##length\n",
    "    length = len(set_of_lemmas)\n",
    "\n",
    "    return (list_of_lemmas, length)"
   ]
  },
  {
   "cell_type": "code",
   "execution_count": 43,
   "metadata": {
    "colab": {
     "base_uri": "https://localhost:8080/"
    },
    "id": "Xmqoxv6QMpoO",
    "outputId": "c8bfbca4-a58c-4e18-dda4-28725de5278f"
   },
   "outputs": [
    {
     "name": "stdout",
     "output_type": "stream",
     "text": [
      "Synset('anger.n.01') a strong emotion; a feeling that is oriented toward some real or supposed grievance ['anger', 'choler', 'ire']\n",
      "Synset('annoyance.n.02') anger produced by some annoying irritation ['annoyance', 'chafe', 'vexation']\n",
      "Synset('bad_temper.n.01') a persisting angry mood ['bad_temper', 'ill_temper']\n",
      "Synset('dander.n.02') a feeling of anger and animosity ['dander', 'hackles']\n",
      "Synset('fury.n.01') a feeling of intense anger ['fury', 'rage', 'madness']\n",
      "Synset('huffiness.n.01') a passing state of anger and resentment ['huffiness']\n",
      "Synset('indignation.n.01') a feeling of righteous anger ['indignation', 'outrage']\n",
      "Synset('infuriation.n.01') a feeling of intense anger ['infuriation', 'enragement']\n",
      "Synset('umbrage.n.01') a feeling of anger caused by being offended ['umbrage', 'offense', 'offence']\n",
      "Synset('aggravation.n.01') an exasperated feeling of annoyance ['aggravation', 'exasperation']\n",
      "Synset('displeasure.n.01') the feeling of being displeased or annoyed or dissatisfied with someone or something ['displeasure']\n",
      "Synset('frustration.n.03') a feeling of annoyance at being hindered or criticized ['frustration']\n",
      "Synset('harassment.n.01') a feeling of intense annoyance caused by being tormented ['harassment', 'torment']\n",
      "Synset('pique.n.02') a sudden outburst of anger ['pique', 'temper', 'irritation']\n",
      "Synset('fit.n.01') a display of bad temper ['fit', 'tantrum', 'scene', 'conniption']\n",
      "Synset('irascibility.n.01') a feeling of resentful anger ['irascibility', 'short_temper', 'spleen', 'quick_temper']\n",
      "Synset('lividity.n.01') a state of fury so great the face becomes discolored ['lividity']\n",
      "Synset('wrath.n.01') intense anger (usually on an epic scale) ['wrath']\n",
      "Synset('dudgeon.n.01') a feeling of intense indignation (now used only in the phrase `in high dudgeon') ['dudgeon', 'high_dudgeon']\n",
      "Synset('anger.n.02') the state of being angry ['anger', 'angriness']\n",
      "Synset('rage.n.02') a state of extreme anger ['rage']\n",
      "Synset('wrath.n.02') belligerence aroused by a real or supposed wrong (personified as one of the deadly sins) ['wrath', 'anger', 'ire', 'ira']\n",
      "Synset('anger.v.01') make angry ['anger']\n",
      "Synset('combust.v.04') cause to become violent or angry ['combust']\n",
      "Synset('enrage.v.01') put into a rage; make violently angry ['enrage']\n",
      "Synset('exacerbate.v.02') exasperate or irritate ['exacerbate', 'exasperate', 'aggravate']\n",
      "Synset('gall.v.02') irritate or vex ['gall', 'irk']\n",
      "Synset('infuriate.v.01') make furious ['infuriate', 'exasperate', 'incense']\n",
      "Synset('madden.v.03') make mad ['madden']\n",
      "Synset('miff.v.01') cause to be annoyed ['miff']\n",
      "Synset('pique.v.01') cause to feel resentment or indignation ['pique', 'offend']\n",
      "Synset('anger.v.02') become angry ['anger', 'see_red']\n",
      "Synset('bridle.v.01') anger or take offense ['bridle']\n",
      "Synset('raise_the_roof.v.01') get very angry ['raise_the_roof']\n",
      "Synset('steam.v.04') get very angry ['steam']\n",
      "['anger', 'choler', 'ire', 'annoyance', 'chafe', 'vexation', 'bad_temper', 'ill_temper', 'dander', 'hackles', 'fury', 'rage', 'madness', 'huffiness', 'indignation', 'outrage', 'infuriation', 'enragement', 'umbrage', 'offense', 'offence', 'aggravation', 'exasperation', 'displeasure', 'frustration', 'harassment', 'torment', 'pique', 'temper', 'irritation', 'fit', 'tantrum', 'scene', 'conniption', 'irascibility', 'short_temper', 'spleen', 'quick_temper', 'lividity', 'wrath', 'dudgeon', 'high_dudgeon', 'anger', 'angriness', 'rage', 'wrath', 'anger', 'ire', 'ira', 'anger', 'combust', 'enrage', 'exacerbate', 'exasperate', 'aggravate', 'gall', 'irk', 'infuriate', 'exasperate', 'incense', 'madden', 'miff', 'pique', 'offend', 'anger', 'see_red', 'bridle', 'raise_the_roof', 'steam']\n",
      "60\n"
     ]
    }
   ],
   "source": [
    "## free parameters, seed word and language\n",
    "word = \"joy\"\n",
    "language = \"eng\"\n",
    "\n",
    "##execute\n",
    "list_words, length = generate_word_list(seed_word, language)\n",
    "print(list_words)\n",
    "print(length)"
   ]
  },
  {
   "cell_type": "markdown",
   "metadata": {
    "id": "EN5Xm9bFWRGp"
   },
   "source": [
    "In order to create select a list of meanings, we create a the list of synsets"
   ]
  },
  {
   "cell_type": "code",
   "execution_count": 44,
   "metadata": {
    "id": "pbAq5_10KKGE"
   },
   "outputs": [],
   "source": [
    "## define the function\n",
    "\n",
    "\n",
    "def generate_word_list(seed_word, language):\n",
    "\n",
    "    ## we create an empty list to store the final word list\n",
    "    list_of_lemmas = []\n",
    "    list_of_meanings = []\n",
    "\n",
    "    ## a function to add a word to a list\n",
    "    add_to_list = lambda list1, item1: list1.append(item1)\n",
    "\n",
    "    ## a function to return the hyponyms of a synset\n",
    "    hypos = lambda s: s.hyponyms()\n",
    "\n",
    "    ## wn.synset obtains the list of synonyms and meanings for that word, in different syntactic categories\n",
    "    meanings = wn.synsets(seed_word, pos=wn.NOUN + wn.VERB + wn.ADJ)\n",
    "\n",
    "    ## loop over set of meanings in synset\n",
    "    for meaning in meanings:\n",
    "\n",
    "        ## print the definition of that meaning\n",
    "        print(\n",
    "            meaning,\n",
    "            meaning.definition(),\n",
    "            [lemma.name() for lemma in meaning.lemmas(language)],\n",
    "        )\n",
    "        list_of_meanings += [\n",
    "            [\n",
    "                meaning,\n",
    "                meaning.definition(),\n",
    "                [lemma.name() for lemma in meaning.lemmas(language)],\n",
    "            ]\n",
    "        ]\n",
    "\n",
    "        ## append all synonyms (lemmas()) of that meaning to the list_of_lemmas\n",
    "        [\n",
    "            add_to_list(list_of_lemmas, lemma.name())\n",
    "            for lemma in meaning.lemmas(language)\n",
    "        ]\n",
    "\n",
    "        ## loop over the list of all possible hyponyms\n",
    "        for hyponym in meaning.closure(hypos):\n",
    "\n",
    "            ## print the definition of each hyponym\n",
    "            print(\n",
    "                hyponym,\n",
    "                hyponym.definition(),\n",
    "                [lemma.name() for lemma in hyponym.lemmas(language)],\n",
    "            )\n",
    "            list_of_meanings += [\n",
    "                [\n",
    "                    hyponym,\n",
    "                    hyponym.definition(),\n",
    "                    [lemma.name() for lemma in hyponym.lemmas(language)],\n",
    "                ]\n",
    "            ]\n",
    "\n",
    "            ## append all synonyms (lemmas()) of that hyponym to the list_of_lemmas\n",
    "            [\n",
    "                add_to_list(list_of_lemmas, lemma.name())\n",
    "                for lemma in hyponym.lemmas(language)\n",
    "            ]\n",
    "\n",
    "    ##eliminate list duplations by applying the set transformation\n",
    "    set_of_lemmas = [*set(list_of_lemmas)]\n",
    "\n",
    "    ## sort alphabetically\n",
    "    set_of_lemmas.sort()\n",
    "\n",
    "    ##length\n",
    "    length = len(set_of_lemmas)\n",
    "\n",
    "    return (list_of_lemmas, length, list_of_meanings)"
   ]
  },
  {
   "cell_type": "code",
   "execution_count": 45,
   "metadata": {
    "colab": {
     "base_uri": "https://localhost:8080/"
    },
    "id": "qThpYMayK6yH",
    "outputId": "d25d9ced-131b-40c4-c43a-bf6000d72079"
   },
   "outputs": [
    {
     "name": "stdout",
     "output_type": "stream",
     "text": [
      "Synset('joy.n.01') the emotion of great happiness ['joy', 'joyousness', 'joyfulness']\n",
      "Synset('elation.n.02') a feeling of joy and pride ['elation', 'high_spirits', 'lightness']\n",
      "Synset('exhilaration.n.01') the feeling of lively and cheerful joy ['exhilaration', 'excitement']\n",
      "Synset('exuberance.n.01') joyful enthusiasm ['exuberance']\n",
      "Synset('exultation.n.01') a feeling of extreme joy ['exultation', 'jubilance', 'jubilancy', 'jubilation']\n",
      "Synset('euphoria.n.01') a feeling of great (usually exaggerated) elation ['euphoria', 'euphory']\n",
      "Synset('bang.n.04') the swift release of a store of affective force ['bang', 'boot', 'charge', 'rush', 'flush', 'thrill', 'kick']\n",
      "Synset('intoxication.n.03') excitement and elation beyond the bounds of sobriety ['intoxication']\n",
      "Synset('titillation.n.01') a tingling feeling of excitement (as from teasing or tickling) ['titillation']\n",
      "Synset('triumph.n.02') the exultation of victory ['triumph']\n",
      "Synset('joy.n.02') something or someone that provides a source of happiness ['joy', 'delight', 'pleasure']\n",
      "Synset('rejoice.v.01') feel happiness or joy ['rejoice', 'joy']\n",
      "Synset('cheer.v.04') become cheerful ['cheer', 'cheer_up', 'chirk_up']\n",
      "Synset('exult.v.01') feel extreme happiness or elation ['exult', 'walk_on_air', 'be_on_cloud_nine', 'jump_for_joy']\n",
      "Synset('gladden.v.02') become glad or happy ['gladden']\n",
      "Synset('exuberate.v.01') to express great joy ['exuberate', 'exult', 'rejoice', 'triumph', 'jubilate']\n",
      "Synset('lighten.v.03') become more cheerful ['lighten', 'lighten_up', 'buoy_up']\n",
      "Synset('wallow.v.04') be ecstatic with joy ['wallow', 'rejoice', 'triumph']\n",
      "Synset('glory.v.01') rejoice proudly ['glory']\n",
      "Synset('gladden.v.01') make glad or happy ['gladden', 'joy']\n",
      "Synset('overjoy.v.01') cause to feel extremely joyful or happy ['overjoy']\n",
      "[[Synset('joy.n.01'), 'the emotion of great happiness', ['joy', 'joyousness', 'joyfulness']], [Synset('elation.n.02'), 'a feeling of joy and pride', ['elation', 'high_spirits', 'lightness']], [Synset('exhilaration.n.01'), 'the feeling of lively and cheerful joy', ['exhilaration', 'excitement']], [Synset('exuberance.n.01'), 'joyful enthusiasm', ['exuberance']], [Synset('exultation.n.01'), 'a feeling of extreme joy', ['exultation', 'jubilance', 'jubilancy', 'jubilation']], [Synset('euphoria.n.01'), 'a feeling of great (usually exaggerated) elation', ['euphoria', 'euphory']], [Synset('bang.n.04'), 'the swift release of a store of affective force', ['bang', 'boot', 'charge', 'rush', 'flush', 'thrill', 'kick']], [Synset('intoxication.n.03'), 'excitement and elation beyond the bounds of sobriety', ['intoxication']], [Synset('titillation.n.01'), 'a tingling feeling of excitement (as from teasing or tickling)', ['titillation']], [Synset('triumph.n.02'), 'the exultation of victory', ['triumph']], [Synset('joy.n.02'), 'something or someone that provides a source of happiness', ['joy', 'delight', 'pleasure']], [Synset('rejoice.v.01'), 'feel happiness or joy', ['rejoice', 'joy']], [Synset('cheer.v.04'), 'become cheerful', ['cheer', 'cheer_up', 'chirk_up']], [Synset('exult.v.01'), 'feel extreme happiness or elation', ['exult', 'walk_on_air', 'be_on_cloud_nine', 'jump_for_joy']], [Synset('gladden.v.02'), 'become glad or happy', ['gladden']], [Synset('exuberate.v.01'), 'to express great joy', ['exuberate', 'exult', 'rejoice', 'triumph', 'jubilate']], [Synset('lighten.v.03'), 'become more cheerful', ['lighten', 'lighten_up', 'buoy_up']], [Synset('wallow.v.04'), 'be ecstatic with joy', ['wallow', 'rejoice', 'triumph']], [Synset('glory.v.01'), 'rejoice proudly', ['glory']], [Synset('gladden.v.01'), 'make glad or happy', ['gladden', 'joy']], [Synset('overjoy.v.01'), 'cause to feel extremely joyful or happy', ['overjoy']]]\n"
     ]
    }
   ],
   "source": [
    "## free parameters, seed word and language\n",
    "seed_word = \"joy\"\n",
    "language = \"eng\"\n",
    "\n",
    "##execute\n",
    "list_words, length, list_meanings = generate_word_list(seed_word, language)\n",
    "print(list_meanings)"
   ]
  },
  {
   "cell_type": "markdown",
   "metadata": {
    "id": "0H2buv-cWfEY"
   },
   "source": [
    "We can use the python inbuild function input() to collect a keypress from the user a return a behavior:\n",
    "\n",
    "x = input()\n",
    "\n",
    "if x == '1': do something"
   ]
  },
  {
   "cell_type": "code",
   "execution_count": 46,
   "metadata": {
    "id": "5cOtpmKTPMBf"
   },
   "outputs": [],
   "source": [
    "## decide which meanings to keep and which to remove\n",
    "## this function iterates over the set of meanings\n",
    "## for each meaning we are asked to type 1 if we want to keep the meaning, otherwise is not kept\n",
    "## the input is a list of meanings\n",
    "\n",
    "\n",
    "def select_meanings(list_meanings):\n",
    "\n",
    "    ## an empty list for the final selected words\n",
    "    selected_word_list = []\n",
    "\n",
    "    ## we print the length of the list for reference - how long is it\n",
    "    print(\"the list has:\", len(list_meanings), \"items\")\n",
    "\n",
    "    ## we set a counter to know where in the list we arre\n",
    "    count = 0\n",
    "\n",
    "    ##loop over the list\n",
    "    for item in list_meanings:\n",
    "\n",
    "        ## update the count\n",
    "        count += 1\n",
    "\n",
    "        ## print the count and the item\n",
    "        print(count, item)\n",
    "\n",
    "        ## print an instruction\n",
    "        print(\"type 1 if the meaning is adequate, 0 otherwise\")\n",
    "\n",
    "        ## collect the response using input\n",
    "        x = input()\n",
    "\n",
    "        ##if response is 1, add the words in the item to the final list\n",
    "        if x == \"1\":\n",
    "            selected_word_list += item[2]\n",
    "\n",
    "        ##otherwise continue the loop\n",
    "        else:\n",
    "            continue\n",
    "\n",
    "    return selected_word_list"
   ]
  },
  {
   "cell_type": "code",
   "execution_count": 47,
   "metadata": {
    "colab": {
     "base_uri": "https://localhost:8080/"
    },
    "id": "5k4RK0z4QLvK",
    "outputId": "82980514-e102-46dc-c212-52615ebadaeb"
   },
   "outputs": [
    {
     "name": "stdout",
     "output_type": "stream",
     "text": [
      "the list has: 21 items\n",
      "1 [Synset('joy.n.01'), 'the emotion of great happiness', ['joy', 'joyousness', 'joyfulness']]\n",
      "type 1 if the meaning is adequate, 0 otherwise\n"
     ]
    },
    {
     "name": "stdin",
     "output_type": "stream",
     "text": [
      " 0\n"
     ]
    },
    {
     "name": "stdout",
     "output_type": "stream",
     "text": [
      "2 [Synset('elation.n.02'), 'a feeling of joy and pride', ['elation', 'high_spirits', 'lightness']]\n",
      "type 1 if the meaning is adequate, 0 otherwise\n"
     ]
    },
    {
     "name": "stdin",
     "output_type": "stream",
     "text": [
      " 0\n"
     ]
    },
    {
     "name": "stdout",
     "output_type": "stream",
     "text": [
      "3 [Synset('exhilaration.n.01'), 'the feeling of lively and cheerful joy', ['exhilaration', 'excitement']]\n",
      "type 1 if the meaning is adequate, 0 otherwise\n"
     ]
    },
    {
     "name": "stdin",
     "output_type": "stream",
     "text": [
      " 0\n"
     ]
    },
    {
     "name": "stdout",
     "output_type": "stream",
     "text": [
      "4 [Synset('exuberance.n.01'), 'joyful enthusiasm', ['exuberance']]\n",
      "type 1 if the meaning is adequate, 0 otherwise\n"
     ]
    },
    {
     "name": "stdin",
     "output_type": "stream",
     "text": [
      " 0\n"
     ]
    },
    {
     "name": "stdout",
     "output_type": "stream",
     "text": [
      "5 [Synset('exultation.n.01'), 'a feeling of extreme joy', ['exultation', 'jubilance', 'jubilancy', 'jubilation']]\n",
      "type 1 if the meaning is adequate, 0 otherwise\n"
     ]
    },
    {
     "name": "stdin",
     "output_type": "stream",
     "text": [
      " 0\n"
     ]
    },
    {
     "name": "stdout",
     "output_type": "stream",
     "text": [
      "6 [Synset('euphoria.n.01'), 'a feeling of great (usually exaggerated) elation', ['euphoria', 'euphory']]\n",
      "type 1 if the meaning is adequate, 0 otherwise\n"
     ]
    },
    {
     "name": "stdin",
     "output_type": "stream",
     "text": [
      " 0\n"
     ]
    },
    {
     "name": "stdout",
     "output_type": "stream",
     "text": [
      "7 [Synset('bang.n.04'), 'the swift release of a store of affective force', ['bang', 'boot', 'charge', 'rush', 'flush', 'thrill', 'kick']]\n",
      "type 1 if the meaning is adequate, 0 otherwise\n"
     ]
    },
    {
     "name": "stdin",
     "output_type": "stream",
     "text": [
      " 0\n"
     ]
    },
    {
     "name": "stdout",
     "output_type": "stream",
     "text": [
      "8 [Synset('intoxication.n.03'), 'excitement and elation beyond the bounds of sobriety', ['intoxication']]\n",
      "type 1 if the meaning is adequate, 0 otherwise\n"
     ]
    },
    {
     "name": "stdin",
     "output_type": "stream",
     "text": [
      " 0\n"
     ]
    },
    {
     "name": "stdout",
     "output_type": "stream",
     "text": [
      "9 [Synset('titillation.n.01'), 'a tingling feeling of excitement (as from teasing or tickling)', ['titillation']]\n",
      "type 1 if the meaning is adequate, 0 otherwise\n"
     ]
    },
    {
     "name": "stdin",
     "output_type": "stream",
     "text": [
      " 0\n"
     ]
    },
    {
     "name": "stdout",
     "output_type": "stream",
     "text": [
      "10 [Synset('triumph.n.02'), 'the exultation of victory', ['triumph']]\n",
      "type 1 if the meaning is adequate, 0 otherwise\n"
     ]
    },
    {
     "name": "stdin",
     "output_type": "stream",
     "text": [
      " 0\n"
     ]
    },
    {
     "name": "stdout",
     "output_type": "stream",
     "text": [
      "11 [Synset('joy.n.02'), 'something or someone that provides a source of happiness', ['joy', 'delight', 'pleasure']]\n",
      "type 1 if the meaning is adequate, 0 otherwise\n"
     ]
    },
    {
     "name": "stdin",
     "output_type": "stream",
     "text": [
      " 00\n"
     ]
    },
    {
     "name": "stdout",
     "output_type": "stream",
     "text": [
      "12 [Synset('rejoice.v.01'), 'feel happiness or joy', ['rejoice', 'joy']]\n",
      "type 1 if the meaning is adequate, 0 otherwise\n"
     ]
    },
    {
     "name": "stdin",
     "output_type": "stream",
     "text": [
      " 0\n"
     ]
    },
    {
     "name": "stdout",
     "output_type": "stream",
     "text": [
      "13 [Synset('cheer.v.04'), 'become cheerful', ['cheer', 'cheer_up', 'chirk_up']]\n",
      "type 1 if the meaning is adequate, 0 otherwise\n"
     ]
    },
    {
     "name": "stdin",
     "output_type": "stream",
     "text": [
      " 0\n"
     ]
    },
    {
     "name": "stdout",
     "output_type": "stream",
     "text": [
      "14 [Synset('exult.v.01'), 'feel extreme happiness or elation', ['exult', 'walk_on_air', 'be_on_cloud_nine', 'jump_for_joy']]\n",
      "type 1 if the meaning is adequate, 0 otherwise\n"
     ]
    },
    {
     "name": "stdin",
     "output_type": "stream",
     "text": [
      " 0\n"
     ]
    },
    {
     "name": "stdout",
     "output_type": "stream",
     "text": [
      "15 [Synset('gladden.v.02'), 'become glad or happy', ['gladden']]\n",
      "type 1 if the meaning is adequate, 0 otherwise\n"
     ]
    },
    {
     "name": "stdin",
     "output_type": "stream",
     "text": [
      " 0\n"
     ]
    },
    {
     "name": "stdout",
     "output_type": "stream",
     "text": [
      "16 [Synset('exuberate.v.01'), 'to express great joy', ['exuberate', 'exult', 'rejoice', 'triumph', 'jubilate']]\n",
      "type 1 if the meaning is adequate, 0 otherwise\n"
     ]
    },
    {
     "name": "stdin",
     "output_type": "stream",
     "text": [
      " \n"
     ]
    },
    {
     "name": "stdout",
     "output_type": "stream",
     "text": [
      "17 [Synset('lighten.v.03'), 'become more cheerful', ['lighten', 'lighten_up', 'buoy_up']]\n",
      "type 1 if the meaning is adequate, 0 otherwise\n"
     ]
    },
    {
     "name": "stdin",
     "output_type": "stream",
     "text": [
      " 0\n"
     ]
    },
    {
     "name": "stdout",
     "output_type": "stream",
     "text": [
      "18 [Synset('wallow.v.04'), 'be ecstatic with joy', ['wallow', 'rejoice', 'triumph']]\n",
      "type 1 if the meaning is adequate, 0 otherwise\n"
     ]
    },
    {
     "name": "stdin",
     "output_type": "stream",
     "text": [
      " 0\n"
     ]
    },
    {
     "name": "stdout",
     "output_type": "stream",
     "text": [
      "19 [Synset('glory.v.01'), 'rejoice proudly', ['glory']]\n",
      "type 1 if the meaning is adequate, 0 otherwise\n"
     ]
    },
    {
     "name": "stdin",
     "output_type": "stream",
     "text": [
      " 0\n"
     ]
    },
    {
     "name": "stdout",
     "output_type": "stream",
     "text": [
      "20 [Synset('gladden.v.01'), 'make glad or happy', ['gladden', 'joy']]\n",
      "type 1 if the meaning is adequate, 0 otherwise\n"
     ]
    },
    {
     "name": "stdin",
     "output_type": "stream",
     "text": [
      " 0\n"
     ]
    },
    {
     "name": "stdout",
     "output_type": "stream",
     "text": [
      "21 [Synset('overjoy.v.01'), 'cause to feel extremely joyful or happy', ['overjoy']]\n",
      "type 1 if the meaning is adequate, 0 otherwise\n"
     ]
    },
    {
     "name": "stdin",
     "output_type": "stream",
     "text": [
      " 0\n"
     ]
    }
   ],
   "source": [
    "## execture the function\n",
    "filtered_list = select_meanings(list_meanings)"
   ]
  },
  {
   "cell_type": "code",
   "execution_count": 48,
   "metadata": {
    "colab": {
     "base_uri": "https://localhost:8080/"
    },
    "id": "zxdtGPw0S7Lw",
    "outputId": "299230f0-8327-4274-fb90-5f30f04b86c2"
   },
   "outputs": [
    {
     "name": "stdout",
     "output_type": "stream",
     "text": [
      "[]\n"
     ]
    }
   ],
   "source": [
    "## print the final list\n",
    "print(filtered_list)"
   ]
  },
  {
   "cell_type": "markdown",
   "metadata": {
    "id": "bsPl3XFmRCCu"
   },
   "source": [
    "## 3. Let's put all together so that we can basically input a seed word and have the pipeline run automatically\n",
    " "
   ]
  },
  {
   "cell_type": "raw",
   "metadata": {
    "colab": {
     "base_uri": "https://localhost:8080/"
    },
    "id": "HcXqpwTlSLLB",
    "outputId": "4a467372-59eb-451f-e8f9-d14a13c71dc3"
   },
   "source": [
    "##import the module\n",
    "import nltk\n",
    "\n",
    "#nltk.download(\"all\")\n",
    "from nltk.corpus import wordnet as wn"
   ]
  },
  {
   "cell_type": "code",
   "execution_count": 55,
   "metadata": {
    "id": "bgMw5a8_RO5C"
   },
   "outputs": [],
   "source": [
    "## declare the functions\n",
    "\n",
    "## Function 1\n",
    "## input is a seed word and a language, output is a list of words, length of the list, and a list of synsets\n",
    "def generate_word_list(seed_word, language):\n",
    "\n",
    "    ## we create an empty list to store the final word list\n",
    "    list_of_lemmas = []\n",
    "    list_of_meanings = []\n",
    "\n",
    "    ## a function to add a word to a list\n",
    "    add_to_list = lambda list1, item1: list1.append(item1)\n",
    "\n",
    "    ## a function to return the hyponyms of a synset\n",
    "    hypos = lambda s: s.hyponyms()\n",
    "\n",
    "    ## wn.synset obtains the list of synonyms and meanings for that word, in different syntactic categories\n",
    "    meanings = wn.synsets(seed_word, pos=wn.NOUN + wn.VERB + wn.ADJ)\n",
    "\n",
    "    ## loop over set of meanings in synset\n",
    "    for meaning in meanings:\n",
    "\n",
    "        ## print the definition of that meaning\n",
    "        # print(meaning, meaning.definition(), [lemma.name() for lemma in meaning.lemmas(language)])\n",
    "        list_of_meanings += [\n",
    "            [\n",
    "                meaning,\n",
    "                meaning.definition(),\n",
    "                [lemma.name() for lemma in meaning.lemmas(language)],\n",
    "            ]\n",
    "        ]\n",
    "\n",
    "        ## append all synonyms (lemmas()) of that meaning to the list_of_lemmas\n",
    "        [\n",
    "            add_to_list(list_of_lemmas, lemma.name())\n",
    "            for lemma in meaning.lemmas(language)\n",
    "        ]\n",
    "\n",
    "        ## loop over the list of all possible hyponyms\n",
    "        for hyponym in meaning.closure(hypos):\n",
    "\n",
    "            ## print the definition of each hyponym\n",
    "            # print(hyponym, hyponym.definition(), [lemma.name() for lemma in hyponym.lemmas(language)])\n",
    "            list_of_meanings += [\n",
    "                [\n",
    "                    hyponym,\n",
    "                    hyponym.definition(),\n",
    "                    [lemma.name() for lemma in hyponym.lemmas(language)],\n",
    "                ]\n",
    "            ]\n",
    "\n",
    "            ## append all synonyms (lemmas()) of that hyponym to the list_of_lemmas\n",
    "            [\n",
    "                add_to_list(list_of_lemmas, lemma.name())\n",
    "                for lemma in hyponym.lemmas(language)\n",
    "            ]\n",
    "\n",
    "    ##eliminate list duplations by applying the set transformation\n",
    "    set_of_lemmas = [*set(list_of_lemmas)]\n",
    "\n",
    "    ## sort alphabetically\n",
    "    set_of_lemmas.sort()\n",
    "\n",
    "    ##length\n",
    "    length = len(set_of_lemmas)\n",
    "\n",
    "    return (list_of_lemmas, length, list_of_meanings)\n",
    "\n",
    "\n",
    "## Function 2\n",
    "## decide which meanings to keep and which to remove\n",
    "## this function iterates over the set of meanings\n",
    "## for each meaning we are asked to type 1 if we want to keep the meaning, otherwise is not kept\n",
    "## the input is a list of meanings\n",
    "\n",
    "\n",
    "def select_meanings(list_meanings):\n",
    "\n",
    "    ## an empty list for the final selected words\n",
    "    selected_word_list = []\n",
    "\n",
    "    ## we print the length of the list for reference - how long is it\n",
    "    print(\"the list has:\", len(list_meanings), \"items\")\n",
    "\n",
    "    ## we set a counter to know where in the list we arre\n",
    "    count = 0\n",
    "\n",
    "    ##loop over the list\n",
    "    for item in list_meanings:\n",
    "\n",
    "        ## update the count\n",
    "        count += 1\n",
    "\n",
    "        ## print the count and the item\n",
    "        print(count, item)\n",
    "\n",
    "        ## print an instruction\n",
    "        print(\"type 1 if the meaning is adequate, 0 otherwise\")\n",
    "\n",
    "        ## collect the response using input\n",
    "        x = input()\n",
    "\n",
    "        ##if response is 1, add the words in the item to the final list\n",
    "        if x == \"1\":\n",
    "            try:\n",
    "                selected_word_list += item[2]\n",
    "            except TypeError:\n",
    "                continue\n",
    "\n",
    "        ##otherwise continue the loop\n",
    "        else:\n",
    "            continue\n",
    "\n",
    "    ##eliminate list duplations by applying the set transformation\n",
    "    selected_word_list = [*set(selected_word_list)]\n",
    "\n",
    "    ## sort alphabetically\n",
    "    selected_word_list.sort()\n",
    "\n",
    "    return selected_word_list\n",
    "\n",
    "\n",
    "## Function 3, we put together functions 1 and 2\n",
    "def generate_and_filter(seed_word, language):\n",
    "    list_of_synsets = generate_word_list(seed_word, language)[2]\n",
    "    filtered_list = select_meanings(list_of_synsets)\n",
    "\n",
    "    return filtered_list"
   ]
  },
  {
   "cell_type": "code",
   "execution_count": null,
   "metadata": {
    "colab": {
     "base_uri": "https://localhost:8080/"
    },
    "id": "2dO3gXEmSTmx",
    "outputId": "f73affbd-e5f7-4e42-f37f-33a8cc79e783"
   },
   "outputs": [],
   "source": [
    "# free parameters, seed word and language\n",
    "seed_word = \"anger\"\n",
    "language = \"eng\"\n",
    "\n",
    "## execute\n",
    "filtered_list = generate_and_filter(seed_word, language)\n",
    "print(\"the final list is: \", filtered_list)"
   ]
  },
  {
   "cell_type": "markdown",
   "metadata": {
    "id": "Uv23QFKCKJG4"
   },
   "source": [
    "## 4. Bag of words approach\n",
    "\n",
    "We want to compute words within a bag of words are common in a certain text\n"
   ]
  },
  {
   "cell_type": "code",
   "execution_count": 61,
   "metadata": {
    "id": "McY6_DpMeq4K"
   },
   "outputs": [],
   "source": [
    "text1 = \"john threw a tantrum so big that made his mother explode with fury, not only towards him but also towards the exasperating gods who angered her every day\"\n",
    "text2 = \"at first, the bright day made him feel alive, and then dead, then alive again, ultimately all was an illusion, including the inappropriate love that he now felt for his sister\""
   ]
  },
  {
   "cell_type": "code",
   "execution_count": 62,
   "metadata": {
    "colab": {
     "base_uri": "https://localhost:8080/"
    },
    "id": "3W8DqiCqhGgY",
    "outputId": "69c7ea4b-1fc4-450c-e0cf-34b591fb2577"
   },
   "outputs": [
    {
     "name": "stdout",
     "output_type": "stream",
     "text": [
      "['aggravate', 'aggravation', 'anger', 'angriness', 'annoyance', 'bad_temper', 'bridle', 'chafe', 'choler', 'combust', 'conniption', 'dander', 'displeasure', 'dudgeon', 'enrage', 'enragement', 'exacerbate', 'exasperate', 'exasperation', 'fit', 'frustration', 'fury', 'gall', 'hackles', 'harassment', 'high_dudgeon', 'huffiness', 'ill_temper', 'incense', 'indignation', 'infuriate', 'infuriation', 'ira', 'irascibility', 'ire', 'irk', 'irritation', 'lividity', 'madden', 'madness', 'miff', 'offence', 'offend', 'offense', 'outrage', 'pique', 'quick_temper', 'rage', 'raise_the_roof', 'scene', 'see_red', 'short_temper', 'spleen', 'steam', 'tantrum', 'temper', 'torment', 'umbrage', 'vexation', 'wrath']\n"
     ]
    }
   ],
   "source": [
    "## anger bag of words\n",
    "\n",
    "bag_of_words = filtered_list\n",
    "\n",
    "print(bag_of_words)"
   ]
  },
  {
   "cell_type": "code",
   "execution_count": 63,
   "metadata": {
    "colab": {
     "base_uri": "https://localhost:8080/"
    },
    "id": "A_6YCMwPiW3s",
    "outputId": "0b2d830e-81e0-428e-9c93-ed634ccf2bf3"
   },
   "outputs": [
    {
     "name": "stdout",
     "output_type": "stream",
     "text": [
      "[('towards', 2), ('john', 1), ('threw', 1), ('a', 1), ('tantrum', 1), ('so', 1), ('big', 1), ('that', 1), ('made', 1), ('his', 1), ('mother', 1), ('explode', 1), ('with', 1), ('fury', 1), (',', 1), ('not', 1), ('only', 1), ('him', 1), ('but', 1), ('also', 1), ('the', 1), ('exasperating', 1), ('gods', 1), ('who', 1), ('angered', 1), ('her', 1), ('every', 1), ('day', 1)]\n"
     ]
    }
   ],
   "source": [
    "# first we tokenize the text\n",
    "tokenized_text = nltk.word_tokenize(text1)\n",
    "\n",
    "# we get the frequency distributions\n",
    "freqs = nltk.FreqDist(tokenized_text)\n",
    "\n",
    "# now we show the counts of each word in text1\n",
    "counts = freqs.most_common()\n",
    "\n",
    "print(counts)"
   ]
  },
  {
   "cell_type": "code",
   "execution_count": 64,
   "metadata": {
    "colab": {
     "base_uri": "https://localhost:8080/"
    },
    "id": "A6BahnBOhTib",
    "outputId": "4d16c5b5-4c4a-48cb-a12a-d00f91b4f812"
   },
   "outputs": [
    {
     "name": "stdout",
     "output_type": "stream",
     "text": [
      "0\n",
      "0\n",
      "0\n",
      "0\n",
      "tantrum\n",
      "1\n",
      "1\n",
      "1\n",
      "1\n",
      "1\n",
      "1\n",
      "1\n",
      "1\n",
      "1\n",
      "fury\n",
      "2\n",
      "2\n",
      "2\n",
      "2\n",
      "2\n",
      "2\n",
      "2\n",
      "2\n",
      "2\n",
      "2\n",
      "2\n",
      "2\n",
      "2\n",
      "2\n",
      "2\n"
     ]
    }
   ],
   "source": [
    "import nltk\n",
    "\n",
    "## create a variable to count the instances of words in the bag of words which appear in the text\n",
    "bag_of_words_count = 0\n",
    "\n",
    "## loop over the words in the frequency distribution list of the text\n",
    "for word_count in counts:\n",
    "    word = word_count[0]\n",
    "    count = word_count[1]\n",
    "\n",
    "    ##if the word is in bag of words, add the count of words to the counter\n",
    "    if word in bag_of_words:\n",
    "\n",
    "        print(word)\n",
    "        bag_of_words_count += count\n",
    "    print(bag_of_words_count)"
   ]
  },
  {
   "cell_type": "markdown",
   "metadata": {
    "id": "nr7eizAEmWBp"
   },
   "source": [
    "4.1. Exercise - write a function to calculate the frequency of a bag of words in a text"
   ]
  },
  {
   "cell_type": "markdown",
   "metadata": {
    "id": "H_LoT97JI0KP"
   },
   "source": [
    "# Gold standard tool to perform bag of words approach\n",
    "\n",
    "https://www.liwc.app/\n"
   ]
  }
 ],
 "metadata": {
  "colab": {
   "collapsed_sections": [],
   "provenance": []
  },
  "kernelspec": {
   "display_name": "Python 3 (ipykernel)",
   "language": "python",
   "name": "python3"
  },
  "language_info": {
   "codemirror_mode": {
    "name": "ipython",
    "version": 3
   },
   "file_extension": ".py",
   "mimetype": "text/x-python",
   "name": "python",
   "nbconvert_exporter": "python",
   "pygments_lexer": "ipython3",
   "version": "3.9.13"
  }
 },
 "nbformat": 4,
 "nbformat_minor": 4
}
