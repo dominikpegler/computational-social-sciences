{
 "cells": [
  {
   "cell_type": "markdown",
   "metadata": {},
   "source": [
    "Week 3\n",
    "==="
   ]
  },
  {
   "cell_type": "markdown",
   "metadata": {
    "id": "uIddMbzAvaeD"
   },
   "source": [
    "In this class we will finish covering functions, and also talk about dictionaries and modules. In particular, we will look at how to use the natural language processing module (nltk) to:\n",
    " -  do simple sentiment analysis\n",
    " - calculate word frequencies\n",
    " - use dictionary tools. \n",
    "\n",
    "After these examples, we will learn how to clear the text using pre-processing functions, and finally add it all together\n",
    "\n",
    "\n",
    "1.6. Functions\n",
    "\n",
    "*1.6. exercise*\n",
    "\n",
    "Create a function that calculates the **frequency** of the vowel 'a' in the list of sentences\n",
    "\n",
    "list_of_sentences = ['I am ultrasonic', 'Peter likes to pantomime','I only play the ukulele in the beach','but I love beer anytime','my preferences are orthogonal to my skill']\n",
    "\n"
   ]
  },
  {
   "cell_type": "raw",
   "metadata": {},
   "source": [
    "import jupyter_black\n",
    "\n",
    "jupyter_black.load()"
   ]
  },
  {
   "cell_type": "code",
   "execution_count": 1,
   "metadata": {
    "id": "A1LWbuH_R_03"
   },
   "outputs": [
    {
     "name": "stdout",
     "output_type": "stream",
     "text": [
      "I am ultrasonic ; frequency of a is: (2, 0.13333333333333333)\n",
      "Peter likes to pantomime ; frequency of a is: (1, 0.041666666666666664)\n",
      "I only play the ukulele in the beach ; frequency of a is: (2, 0.05555555555555555)\n",
      "but I love beer anytime ; frequency of a is: (1, 0.043478260869565216)\n",
      "my preferences are orthogonal to my skill ; frequency of a is: (2, 0.04878048780487805)\n"
     ]
    }
   ],
   "source": [
    "## define list of sentences\n",
    "\n",
    "list_of_sentences = [\n",
    "    \"I am ultrasonic\",\n",
    "    \"Peter likes to pantomime\",\n",
    "    \"I only play the ukulele in the beach\",\n",
    "    \"but I love beer anytime\",\n",
    "    \"my preferences are orthogonal to my skill\",\n",
    "]\n",
    "\n",
    "## creating function1\n",
    "def sentence_to_letterList(sentence):\n",
    "\n",
    "    ##empty list\n",
    "    list_wien = []\n",
    "\n",
    "    ##loop\n",
    "    for item in sentence:\n",
    "        ## add item to the list_wien\n",
    "        list_wien += [item]\n",
    "\n",
    "    ## output the list\n",
    "    return list_wien\n",
    "\n",
    "\n",
    "## creating function2\n",
    "def vowel_frequency(sentence):\n",
    "\n",
    "    ##use function1 created above to generate a list of letters\n",
    "    word_list = sentence_to_letterList(sentence)\n",
    "\n",
    "    ##get length of that list\n",
    "    length = len(word_list)\n",
    "\n",
    "    ## count isntances of 'a'\n",
    "    counts = sentence.count(\"a\")\n",
    "\n",
    "    ## compute the frequency\n",
    "    frequency = counts / length\n",
    "\n",
    "    ## output both the counts and the frequency\n",
    "    return (counts, frequency)\n",
    "\n",
    "\n",
    "## execute the function\n",
    "list_of_sentences = [\n",
    "    \"I am ultrasonic\",\n",
    "    \"Peter likes to pantomime\",\n",
    "    \"I only play the ukulele in the beach\",\n",
    "    \"but I love beer anytime\",\n",
    "    \"my preferences are orthogonal to my skill\",\n",
    "]\n",
    "\n",
    "for sentence in list_of_sentences:\n",
    "\n",
    "    ## create a variable vowel frequency-vf to store the output of function2 -counts and frequency\n",
    "    vf = vowel_frequency(sentence)\n",
    "\n",
    "    ## print the sentence and the output of the function vowel_frequency\n",
    "    print(sentence, \"; frequency of a is:\", vf)"
   ]
  },
  {
   "cell_type": "markdown",
   "metadata": {
    "id": "eEFpayXeylK1"
   },
   "source": [
    "*1.6. exercise*\n",
    "\n",
    "Create a function that calculates the **frequency** of the vowels ['a','e','i','o','u'] in the list of sentences\n",
    "\n",
    "list_of_sentences = ['I am ultrasonic', 'Peter likes to pantomime','I only play the ukulele in the beach','but I love beer anytime','my preferences are orthogonal to my skill']"
   ]
  },
  {
   "cell_type": "code",
   "execution_count": 2,
   "metadata": {
    "id": "QtFGOPgw0yK6"
   },
   "outputs": [
    {
     "name": "stdout",
     "output_type": "stream",
     "text": [
      "I am ultrasonic ; frequencies of a e i o u, are: [0.13333333333333333, 0.0, 0.06666666666666667, 0.06666666666666667, 0.06666666666666667]\n",
      "Peter likes to pantomime ; frequencies of a e i o u, are: [0.041666666666666664, 0.16666666666666666, 0.08333333333333333, 0.08333333333333333, 0.0]\n",
      "I only play the ukulele in the beach ; frequencies of a e i o u, are: [0.05555555555555555, 0.1388888888888889, 0.027777777777777776, 0.027777777777777776, 0.05555555555555555]\n",
      "but I love beer anytime ; frequencies of a e i o u, are: [0.043478260869565216, 0.17391304347826086, 0.043478260869565216, 0.043478260869565216, 0.043478260869565216]\n",
      "my preferences are orthogonal to my skill ; frequencies of a e i o u, are: [0.04878048780487805, 0.12195121951219512, 0.024390243902439025, 0.0975609756097561, 0.0]\n"
     ]
    }
   ],
   "source": [
    "## define list of sentences\n",
    "list_of_sentences = [\n",
    "    \"I am ultrasonic\",\n",
    "    \"Peter likes to pantomime\",\n",
    "    \"I only play the ukulele in the beach\",\n",
    "    \"but I love beer anytime\",\n",
    "    \"my preferences are orthogonal to my skill\",\n",
    "]\n",
    "\n",
    "## define list of vowels\n",
    "vowels = [\"a\", \"e\", \"i\", \"o\", \"u\"]\n",
    "\n",
    "## define function3\n",
    "\n",
    "\n",
    "def vowel_frequency(sentence, vowels):\n",
    "\n",
    "    ## input is a sentence and a list of vowels\n",
    "    ## output is the frequency of all vowels\n",
    "\n",
    "    word_list = sentence_to_letterList(sentence)\n",
    "    length = len(sentence)\n",
    "\n",
    "    ## create list to store the vowel frequencies\n",
    "    vowel_freqs = []\n",
    "\n",
    "    ## iterate over list of vowels\n",
    "    for vowel in vowels:\n",
    "        counts = sentence.count(vowel)\n",
    "        frequency = counts / length\n",
    "        vowel_freqs += [frequency]\n",
    "\n",
    "    return vowel_freqs\n",
    "\n",
    "\n",
    "## run function3 for each sentence\n",
    "\n",
    "for sentence in list_of_sentences:\n",
    "    vf = vowel_frequency(sentence, vowels)\n",
    "    print(sentence, \"; frequencies of a e i o u, are:\", vf)"
   ]
  },
  {
   "cell_type": "markdown",
   "metadata": {
    "id": "Bntx1FK10xbM"
   },
   "source": [
    "# 1.7 Dictionaries"
   ]
  },
  {
   "cell_type": "code",
   "execution_count": 3,
   "metadata": {
    "id": "hNtUnFdn1ekZ"
   },
   "outputs": [
    {
     "data": {
      "text/plain": [
       "0.5"
      ]
     },
     "execution_count": 3,
     "metadata": {},
     "output_type": "execute_result"
    }
   ],
   "source": [
    "dictionary_vowels = {\"a\": 0.2, \"e\": 0.3, \"i\": 0.0, \"o\": 0.8, \"u\": 0.5}\n",
    "\n",
    "dictionary_vowels[\"u\"]"
   ]
  },
  {
   "cell_type": "code",
   "execution_count": 4,
   "metadata": {
    "id": "wuwgoaK81kfi"
   },
   "outputs": [
    {
     "data": {
      "text/plain": [
       "{}"
      ]
     },
     "execution_count": 4,
     "metadata": {},
     "output_type": "execute_result"
    }
   ],
   "source": [
    "dictionary_vowels = {}\n",
    "dictionary_vowels"
   ]
  },
  {
   "cell_type": "code",
   "execution_count": 5,
   "metadata": {
    "id": "UKIXzaHy1oB-"
   },
   "outputs": [
    {
     "data": {
      "text/plain": [
       "{'a': 0.2}"
      ]
     },
     "execution_count": 5,
     "metadata": {},
     "output_type": "execute_result"
    }
   ],
   "source": [
    "dictionary_vowels[\"a\"] = 0.2\n",
    "dictionary_vowels"
   ]
  },
  {
   "cell_type": "code",
   "execution_count": 6,
   "metadata": {
    "id": "RqWehCX41tUn"
   },
   "outputs": [
    {
     "data": {
      "text/plain": [
       "{'a': 0.2, 'e': 0.3, 'i': 0.0, 'o': 0.8, 'u': 0.5}"
      ]
     },
     "execution_count": 6,
     "metadata": {},
     "output_type": "execute_result"
    }
   ],
   "source": [
    "dictionary_vowels[\"e\"] = 0.3\n",
    "dictionary_vowels[\"i\"] = 0.0\n",
    "dictionary_vowels[\"o\"] = 0.8\n",
    "dictionary_vowels[\"u\"] = 0.5\n",
    "\n",
    "dictionary_vowels"
   ]
  },
  {
   "cell_type": "markdown",
   "metadata": {
    "id": "FKllta5M1sXa"
   },
   "source": [
    "## 1.7. exercise\n",
    "Get frequencies of vowels per sentence, but use dictionary instead of list, \n",
    "####e.g. {'a': 0.2, 'e': 0.3, 'i': 0.0, 'o': 0.8, 'u': 0.5 }"
   ]
  },
  {
   "cell_type": "code",
   "execution_count": 7,
   "metadata": {
    "id": "hXlh2f3c15YW"
   },
   "outputs": [
    {
     "name": "stdout",
     "output_type": "stream",
     "text": [
      "I am ultrasonic ; frequencies are: {'a': 0.13333333333333333, 'e': 0.0, 'i': 0.06666666666666667, 'o': 0.06666666666666667, 'u': 0.06666666666666667}\n",
      "Peter likes to pantomime ; frequencies are: {'a': 0.041666666666666664, 'e': 0.16666666666666666, 'i': 0.08333333333333333, 'o': 0.08333333333333333, 'u': 0.0}\n",
      "I only play the ukulele in the beach ; frequencies are: {'a': 0.05555555555555555, 'e': 0.1388888888888889, 'i': 0.027777777777777776, 'o': 0.027777777777777776, 'u': 0.05555555555555555}\n",
      "but I love beer anytime ; frequencies are: {'a': 0.043478260869565216, 'e': 0.17391304347826086, 'i': 0.043478260869565216, 'o': 0.043478260869565216, 'u': 0.043478260869565216}\n",
      "my preferences are orthogonal to my skill ; frequencies are: {'a': 0.04878048780487805, 'e': 0.12195121951219512, 'i': 0.024390243902439025, 'o': 0.0975609756097561, 'u': 0.0}\n"
     ]
    }
   ],
   "source": [
    "def vowel_frequency(sentence, vowels):\n",
    "\n",
    "    ## input is a sentence and a list of vowels\n",
    "    ## output is the frequency of all vowels\n",
    "\n",
    "    word_list = sentence_to_letterList(sentence)\n",
    "    length = len(sentence)\n",
    "\n",
    "    ## create list to store the vowel frequencies\n",
    "    vowel_freqs = {}\n",
    "\n",
    "    ## iterate over list of vowels\n",
    "    for vowel in vowels:\n",
    "        counts = sentence.count(vowel)\n",
    "        frequency = counts / length\n",
    "        vowel_freqs[vowel] = frequency\n",
    "\n",
    "    return vowel_freqs\n",
    "\n",
    "\n",
    "## run function3 for each sentence\n",
    "\n",
    "for sentence in list_of_sentences:\n",
    "    vf = vowel_frequency(sentence, vowels)\n",
    "    print(sentence, \"; frequencies are:\", vf)"
   ]
  },
  {
   "cell_type": "markdown",
   "metadata": {
    "id": "pbrugRiICVFO"
   },
   "source": [
    "## 1.7.5 LAMBDA functions\n",
    "\n",
    "#### **Python Lambda Functions** are anonymous function means that the function is without a name. As we already know that the def keyword is used to define a normal function in Python. Similarly, the lambda keyword is used to define an anonymous function in Python. \n"
   ]
  },
  {
   "cell_type": "code",
   "execution_count": 8,
   "metadata": {
    "id": "zjZ9MhacKYek"
   },
   "outputs": [
    {
     "name": "stdout",
     "output_type": "stream",
     "text": [
      "1\n",
      "4\n",
      "9\n",
      "16\n",
      "25\n"
     ]
    }
   ],
   "source": [
    "numbers = [1, 2, 3, 4, 5]\n",
    "\n",
    "# function to calculate the square of a number\n",
    "\n",
    "\n",
    "def square(input1):\n",
    "    return input1 * input1\n",
    "\n",
    "\n",
    "## compute the square for each number in the list\n",
    "for num in numbers:\n",
    "    print(square(num))"
   ]
  },
  {
   "cell_type": "markdown",
   "metadata": {
    "id": "koirGyDEMkb4"
   },
   "source": [
    "\n",
    "##### Python Lambda Function Syntax:\n",
    "##### lambda arguments: expression\n",
    "\n",
    "*This function can have any number of arguments but only one expression, which is evaluated and returned.\n",
    "One is free to use lambda functions wherever function objects are required.\n",
    "You need to keep in your knowledge that lambda functions are syntactically restricted to a single expression.\n",
    "It has various uses in particular fields of programming, besides other types of expressions in functions.*\n",
    "\n",
    "\n"
   ]
  },
  {
   "cell_type": "code",
   "execution_count": 9,
   "metadata": {
    "id": "LrzeuIvfFP6h"
   },
   "outputs": [
    {
     "name": "stdout",
     "output_type": "stream",
     "text": [
      "1\n",
      "4\n",
      "9\n",
      "16\n",
      "25\n"
     ]
    }
   ],
   "source": [
    "## The LAMBDA way to write a function\n",
    "## it takes input var1 (on the left ot :), and generates var1*var1 (on the right of :)\n",
    "\n",
    "funct = lambda var1: var1 * var1\n",
    "\n",
    "for num in numbers:\n",
    "    print(funct(num))"
   ]
  },
  {
   "cell_type": "code",
   "execution_count": 10,
   "metadata": {
    "id": "rk4sIXDeLpMR"
   },
   "outputs": [
    {
     "name": "stdout",
     "output_type": "stream",
     "text": [
      "1\n",
      "4\n",
      "9\n",
      "16\n",
      "25\n"
     ]
    }
   ],
   "source": [
    "## the advantage is that we can use the function is situ\n",
    "\n",
    "for num in numbers:\n",
    "    square = lambda var1: var1 * var1\n",
    "    print(square(num))"
   ]
  },
  {
   "cell_type": "code",
   "execution_count": 11,
   "metadata": {
    "id": "xMQ_XNRAMjP3"
   },
   "outputs": [
    {
     "name": "stdout",
     "output_type": "stream",
     "text": [
      "num  1 + previous result 1 is:  2\n",
      "num  2 + previous result 2 is:  4\n",
      "num  3 + previous result 4 is:  7\n",
      "num  4 + previous result 7 is:  11\n",
      "num  5 + previous result 11 is:  16\n"
     ]
    }
   ],
   "source": [
    "## for example function that takes\n",
    "\n",
    "numbers = [1, 2, 3, 4, 5]\n",
    "\n",
    "result = 1\n",
    "\n",
    "for num in numbers:\n",
    "\n",
    "    ## lambda function takes 2 variables: var1 and var2 and sums them\n",
    "    square = lambda var1, var2: var1 + var2\n",
    "\n",
    "    ## takes each element of the list numbers\n",
    "    ## sums the list element with the result of the previous sum\n",
    "    result = square(num, result)\n",
    "\n",
    "    print(\"num \", num, \"+\", \"previous result\", result - num, \"is: \", result)"
   ]
  },
  {
   "cell_type": "markdown",
   "metadata": {
    "id": "ZEoiRgovjupu"
   },
   "source": [
    "1.8. Using conditional expressions to filter lists, and simple ways to write conditional loops"
   ]
  },
  {
   "cell_type": "code",
   "execution_count": 12,
   "metadata": {
    "id": "ReWB_I2WC-9T"
   },
   "outputs": [
    {
     "name": "stdout",
     "output_type": "stream",
     "text": [
      "3\n",
      "4\n",
      "5\n"
     ]
    }
   ],
   "source": [
    "## how to write simple loops with conditional expressions\n",
    "\n",
    "numbers = [1, 2, 3, 4, 5]\n",
    "\n",
    "for num in numbers:\n",
    "\n",
    "    ## if expression filters the output\n",
    "    if num > 2:\n",
    "        print(num)"
   ]
  },
  {
   "cell_type": "code",
   "execution_count": 13,
   "metadata": {
    "id": "6T1ShEE0mOoR"
   },
   "outputs": [
    {
     "name": "stdout",
     "output_type": "stream",
     "text": [
      "3\n",
      "4\n"
     ]
    }
   ],
   "source": [
    "## how to write simple loops with conditional expressions\n",
    "\n",
    "numbers = [1, 2, 3, 4, 5]\n",
    "\n",
    "for num in numbers:\n",
    "\n",
    "    ## if expression filters the output\n",
    "    if num > 2 and num < 5:\n",
    "        print(num)"
   ]
  },
  {
   "cell_type": "code",
   "execution_count": 14,
   "metadata": {
    "id": "pM6em5sNOxIi"
   },
   "outputs": [
    {
     "name": "stdout",
     "output_type": "stream",
     "text": [
      "[3, 4]\n"
     ]
    }
   ],
   "source": [
    "## create a filtered list\n",
    "\n",
    "##original list\n",
    "numbers = [1, 2, 3, 4, 5]\n",
    "\n",
    "## empty list to add information later\n",
    "filtered_list = []\n",
    "\n",
    "##iterate overlist of numbers\n",
    "for num in numbers:\n",
    "    ## filter out numbers smaller than 3 and bigger than 5\n",
    "    if num > 2 and num < 5:\n",
    "\n",
    "        ## if num is not filtered out, add it to the new list\n",
    "        filtered_list += [num]\n",
    "\n",
    "print(filtered_list)"
   ]
  },
  {
   "cell_type": "code",
   "execution_count": 15,
   "metadata": {
    "id": "97mkIipSOBY-"
   },
   "outputs": [
    {
     "name": "stdout",
     "output_type": "stream",
     "text": [
      "[3, 4]\n"
     ]
    }
   ],
   "source": [
    "## filter in one line\n",
    "\n",
    "filtered_list = [num for num in numbers if num > 2 and num < 5]\n",
    "\n",
    "print(filtered_list)"
   ]
  },
  {
   "cell_type": "code",
   "execution_count": 16,
   "metadata": {
    "id": "OItgnDQNPiZV"
   },
   "outputs": [
    {
     "name": "stdout",
     "output_type": "stream",
     "text": [
      "[9, 16]\n"
     ]
    }
   ],
   "source": [
    "##  combine with lambda functions\n",
    "numbers = [1, 2, 3, 4, 5]\n",
    "\n",
    "## function to calculate square\n",
    "funct = lambda var1: var1 * var1\n",
    "\n",
    "## we apply the fucntion lambda before adding it to the filtered list\n",
    "filtered_list = [funct(num) for num in numbers if num > 2 and num < 5]\n",
    "\n",
    "print(filtered_list)"
   ]
  },
  {
   "cell_type": "markdown",
   "metadata": {
    "id": "CZzsWrxE1ip3"
   },
   "source": [
    "## 1.9 Modules"
   ]
  },
  {
   "cell_type": "markdown",
   "metadata": {
    "id": "r3zK2Kkc5Jiv"
   },
   "source": [
    "### 1.9.1 NLTK "
   ]
  },
  {
   "cell_type": "code",
   "execution_count": 17,
   "metadata": {
    "id": "bFkGkQaZ3OId"
   },
   "outputs": [
    {
     "name": "stdout",
     "output_type": "stream",
     "text": [
      "['Hello Mr. Smith, how are you doing today?', 'The weather is great, and city is awesome.', 'The sky is pinkish-blue.', \"You shouldn't eat cardboard\"]\n",
      "Hello Mr. Smith, how are you doing today?\n",
      "The weather is great, and city is awesome.\n",
      "The sky is pinkish-blue.\n",
      "You shouldn't eat cardboard\n"
     ]
    }
   ],
   "source": [
    "import nltk\n",
    "\n",
    "# nltk.download('all')\n",
    "\n",
    "## function to create a list of sentences: sent_tokenize()\n",
    "\n",
    "text = \"Hello Mr. Smith, how are you doing today? The weather is great, and city is awesome. The sky is pinkish-blue. You shouldn't eat cardboard\"\n",
    "\n",
    "tokenized_text = nltk.sent_tokenize(text)\n",
    "\n",
    "print(tokenized_text)\n",
    "\n",
    "for sentence in tokenized_text:\n",
    "    print(sentence)"
   ]
  },
  {
   "cell_type": "code",
   "execution_count": 18,
   "metadata": {
    "id": "0URnkYo03g96"
   },
   "outputs": [
    {
     "name": "stdout",
     "output_type": "stream",
     "text": [
      "['Hello', 'Mr.', 'Smith', ',', 'how', 'are', 'you', 'doing', 'today', '?', 'The', 'weather', 'is', 'great', ',', 'and', 'city', 'is', 'awesome', '.', 'The', 'sky', 'is', 'pinkish-blue', '.', 'You', 'should', \"n't\", 'eat', 'cardboard']\n"
     ]
    }
   ],
   "source": [
    "## function to create a list of words: word_tokenize()\n",
    "\n",
    "tokenized_word = nltk.word_tokenize(text)\n",
    "\n",
    "print(tokenized_word)"
   ]
  },
  {
   "cell_type": "code",
   "execution_count": 19,
   "metadata": {
    "id": "xIpwCcWF3tbR"
   },
   "outputs": [
    {
     "data": {
      "text/plain": [
       "[('is', 3), (',', 2), ('The', 2), ('.', 2), ('Hello', 1)]"
      ]
     },
     "execution_count": 19,
     "metadata": {},
     "output_type": "execute_result"
    }
   ],
   "source": [
    "## function to calculate frequency distribution FreqDist\n",
    "\n",
    "fdist = nltk.FreqDist(tokenized_word)\n",
    "\n",
    "## the object FreqDist has tupples with the word and its counts\n",
    "fdist.most_common(5)"
   ]
  },
  {
   "cell_type": "code",
   "execution_count": 20,
   "metadata": {
    "id": "COKLBBJT4PLo"
   },
   "outputs": [
    {
     "data": {
      "text/plain": [
       "[('this', 'DT'), ('is', 'VBZ'), ('a', 'DT'), ('sentence', 'NN')]"
      ]
     },
     "execution_count": 20,
     "metadata": {},
     "output_type": "execute_result"
    }
   ],
   "source": [
    "## Parts of Speech - grammatical categorization of a words in a sentence, input is a sentence\n",
    "## the function is pos_tag()\n",
    "\n",
    "sentence = \"this is a sentence\"\n",
    "tokenized_word = nltk.word_tokenize(sentence)\n",
    "\n",
    "nltk.pos_tag(tokenized_word)"
   ]
  },
  {
   "cell_type": "code",
   "execution_count": 21,
   "metadata": {
    "id": "uIH71zsGBdjV"
   },
   "outputs": [
    {
     "data": {
      "text/plain": [
       "'ascend'"
      ]
     },
     "execution_count": 21,
     "metadata": {},
     "output_type": "execute_result"
    }
   ],
   "source": [
    "## Now it is time to lemmatize the tokens of out list\n",
    "## Lemmatizing is to transform related words into their root, so that they are counted as several instances of the same word.\n",
    "## for example run, running , ran are all different words but they should be counted as 3 instances of the verb 'run'\n",
    "## in order to avoid that python takes them as the different words, we need to lemmatize our list of tokens\n",
    "\n",
    "## first we import the lemmatizer\n",
    "from nltk.stem import WordNetLemmatizer\n",
    "\n",
    "## we need to store the lemmatizer into a variable\n",
    "lemma = WordNetLemmatizer()\n",
    "\n",
    "w1 = \"ascended\"\n",
    "\n",
    "lemma.lemmatize(word=w1, pos=\"v\")"
   ]
  },
  {
   "cell_type": "markdown",
   "metadata": {
    "id": "VnuCdhZH5gHJ"
   },
   "source": [
    "1.9.2. Simple Plots - Matplotlib "
   ]
  },
  {
   "cell_type": "code",
   "execution_count": 22,
   "metadata": {
    "id": "3Fa0G7bO4SaM"
   },
   "outputs": [
    {
     "data": {
      "image/png": "[encoded data removed]",
      "text/plain": [
       "<Figure size 640x480 with 1 Axes>"
      ]
     },
     "metadata": {},
     "output_type": "display_data"
    }
   ],
   "source": [
    "# Frequency Distribution Plot\n",
    "## the module is called matplotlit and we can import it with the name plt\n",
    "import matplotlib.pyplot as plt\n",
    "\n",
    "## we can plot our frequency distribution\n",
    "fdist.plot(10, cumulative=False)\n",
    "\n",
    "## to display a plot we need to type plt.show()\n",
    "plt.show()"
   ]
  },
  {
   "cell_type": "markdown",
   "metadata": {
    "id": "WTupx8dp7Xod"
   },
   "source": [
    "1.9.3. Simple Sentiment Analysis - Vader "
   ]
  },
  {
   "cell_type": "code",
   "execution_count": 23,
   "metadata": {
    "id": "EkN1CLcO4g7X"
   },
   "outputs": [
    {
     "data": {
      "text/plain": [
       "{'neg': 0.0, 'neu': 0.386, 'pos': 0.614, 'compound': 0.7488}"
      ]
     },
     "execution_count": 23,
     "metadata": {},
     "output_type": "execute_result"
    }
   ],
   "source": [
    "## modules for sentiment analysis\n",
    "\n",
    "from nltk.sentiment.vader import SentimentIntensityAnalyzer\n",
    "\n",
    "## the analyzer needs to be stored in a variable\n",
    "sid = SentimentIntensityAnalyzer()\n",
    "\n",
    "## we can calculate polarity scores, these are a dictionary\n",
    "sid.polarity_scores(\"this sentence is the absolute best!!!\")"
   ]
  },
  {
   "cell_type": "code",
   "execution_count": 24,
   "metadata": {
    "id": "uQUOS33PsB2l"
   },
   "outputs": [
    {
     "data": {
      "text/plain": [
       "0.7488"
      ]
     },
     "execution_count": 24,
     "metadata": {},
     "output_type": "execute_result"
    }
   ],
   "source": [
    "## we can calculate polarity scores, these are a dictionary\n",
    "sid.polarity_scores(\"this sentence is the absolute best!!!\")[\"compound\"]"
   ]
  },
  {
   "cell_type": "markdown",
   "metadata": {
    "id": "H9G2hFd27y59"
   },
   "source": [
    "1.9.4. Contractions and Inflections"
   ]
  },
  {
   "cell_type": "raw",
   "metadata": {
    "id": "pA0FK_ZX7v4q"
   },
   "source": [
    "!pip install contractions"
   ]
  },
  {
   "cell_type": "code",
   "execution_count": 25,
   "metadata": {
    "id": "t4QxvG9U4-st"
   },
   "outputs": [
    {
     "data": {
      "text/plain": [
       "'You should not eat cardboard'"
      ]
     },
     "execution_count": 25,
     "metadata": {},
     "output_type": "execute_result"
    }
   ],
   "source": [
    "import contractions\n",
    "\n",
    "## fix contractions in english\n",
    "contractions.fix(\"You shouldn't eat cardboard\")"
   ]
  },
  {
   "cell_type": "code",
   "execution_count": 26,
   "metadata": {
    "id": "xLojD8nv8qdt"
   },
   "outputs": [
    {
     "data": {
      "text/plain": [
       "'four thousand, two hundred and thirty-seven'"
      ]
     },
     "execution_count": 26,
     "metadata": {},
     "output_type": "execute_result"
    }
   ],
   "source": [
    "## This function turns numeric values into words, \"6\" into \"six\"\n",
    "## we need to use the module inflect for this\n",
    "\n",
    "import inflect\n",
    "\n",
    "## we create a variable for the engine of the module inflect\n",
    "p = inflect.engine()\n",
    "\n",
    "p.number_to_words(4237)"
   ]
  },
  {
   "cell_type": "markdown",
   "metadata": {
    "id": "PKpRpMmC825D"
   },
   "source": [
    "## 1.10. VERY IMPORTANT MODULE - RE - Regular Expression Operations\n",
    "\n",
    "#### https://docs.python.org/3/howto/regex.html\n",
    "https://www.oreilly.com/content/an-introduction-to-regular-expressions/#:~:text=A%20regular%20expression%20matches%20a,%2C%20substring%2C%20or%20split%20text.\n",
    "\n",
    "https://www3.ntu.edu.sg/home/ehchua/programming/howto/Regexe.html\n",
    "\n",
    "Regular expressions (called REs, or regexes, or regex patterns) are essentially a tiny, highly specialized programming language embedded inside Python and made available through the re module. Using this little language, you specify the rules for the set of possible strings that you want to match; this set might contain English sentences, or e-mail addresses, or TeX commands, or anything you like. You can then ask questions such as “Does this string match the pattern?”, or “Is there a match for the pattern anywhere in this string?”. You can also use REs to modify a string or to split it apart in various ways.\n"
   ]
  },
  {
   "cell_type": "code",
   "execution_count": 27,
   "metadata": {
    "id": "2AA1ew5y-xAF"
   },
   "outputs": [
    {
     "data": {
      "text/plain": [
       "['I',\n",
       " ' ',\n",
       " 'l',\n",
       " 'o',\n",
       " 'v',\n",
       " 'e',\n",
       " ' ',\n",
       " 'b',\n",
       " 'e',\n",
       " 'e',\n",
       " 'f',\n",
       " ' ',\n",
       " '1',\n",
       " '0',\n",
       " '0',\n",
       " '%']"
      ]
     },
     "execution_count": 27,
     "metadata": {},
     "output_type": "execute_result"
    }
   ],
   "source": [
    "import re\n",
    "\n",
    "## findall() returns characters that fit the conditions\n",
    "## '.' means any kind of character, i.e. there is no filter\n",
    "re.findall(\".\", \"I love beef 100%\")"
   ]
  },
  {
   "cell_type": "code",
   "execution_count": 28,
   "metadata": {
    "id": "cFH_nWLLV1PD"
   },
   "outputs": [
    {
     "data": {
      "text/plain": [
       "['I ', 'lo', 've', ' b', 'ee', 'f ', '10', '0%']"
      ]
     },
     "execution_count": 28,
     "metadata": {},
     "output_type": "execute_result"
    }
   ],
   "source": [
    "## '..' means any bigram\n",
    "re.findall(\"..\", \"I love beef 100%\")"
   ]
  },
  {
   "cell_type": "code",
   "execution_count": 29,
   "metadata": {
    "id": "gqPG4wnfWEG2"
   },
   "outputs": [
    {
     "data": {
      "text/plain": [
       "['I l', 'ove', ' be', 'ef ', '100']"
      ]
     },
     "execution_count": 29,
     "metadata": {},
     "output_type": "execute_result"
    }
   ],
   "source": [
    "##returns a list of all trigrams\n",
    "re.findall(\"...\", \"I love beef 100%\")"
   ]
  },
  {
   "cell_type": "code",
   "execution_count": 30,
   "metadata": {
    "id": "PYkTI8ems7Wk"
   },
   "outputs": [
    {
     "data": {
      "text/plain": [
       "['ve ', 'bee']"
      ]
     },
     "execution_count": 30,
     "metadata": {},
     "output_type": "execute_result"
    }
   ],
   "source": [
    "## 'ee' means trigrams with e in the middle\n",
    "re.findall(\".e.\", \"I love beef 100%\")"
   ]
  },
  {
   "cell_type": "code",
   "execution_count": 31,
   "metadata": {
    "id": "t_7sbktLVc44"
   },
   "outputs": [
    {
     "data": {
      "text/plain": [
       "['e', 'a']"
      ]
     },
     "execution_count": 31,
     "metadata": {},
     "output_type": "execute_result"
    }
   ],
   "source": [
    "## with [] inside the '' we can filter in particular objects, for example, only letters between a and e\n",
    "re.findall(\"[a-e]\", \"I love soja 100%\")"
   ]
  },
  {
   "cell_type": "code",
   "execution_count": 32,
   "metadata": {
    "id": "3_Ns49BwWp7f"
   },
   "outputs": [
    {
     "data": {
      "text/plain": [
       "['I', ' ', 'l', 'o', 'v', ' ', 's', 'o', 'j', ' ', '1', '0', '0', '%']"
      ]
     },
     "execution_count": 32,
     "metadata": {},
     "output_type": "execute_result"
    }
   ],
   "source": [
    "## or we can filter them out with ^\n",
    "re.findall(\"[^a-e]\", \"I love soja 100%\")"
   ]
  },
  {
   "cell_type": "code",
   "execution_count": 33,
   "metadata": {
    "id": "I3Tqz7fdVdFC"
   },
   "outputs": [
    {
     "data": {
      "text/plain": [
       "['l', 'o', 'v', 'e', 'b', 'e', 'e', 'f']"
      ]
     },
     "execution_count": 33,
     "metadata": {},
     "output_type": "execute_result"
    }
   ],
   "source": [
    "##only lower case alphabetic\n",
    "re.findall(\"[a-z]\", \"I love beef 100%\")"
   ]
  },
  {
   "cell_type": "code",
   "execution_count": 34,
   "metadata": {
    "id": "fpj2TGCWW1h8"
   },
   "outputs": [
    {
     "data": {
      "text/plain": [
       "['I', 'l', 'o', 'v', 'e', 'b', 'e', 'e', 'f']"
      ]
     },
     "execution_count": 34,
     "metadata": {},
     "output_type": "execute_result"
    }
   ],
   "source": [
    "##both lower case and upper case alphabetic\n",
    "re.findall(\"[a-zA-Z]\", \"I love beef 100%\")"
   ]
  },
  {
   "cell_type": "code",
   "execution_count": 35,
   "metadata": {
    "id": "Z9tyBVMvXAhr"
   },
   "outputs": [
    {
     "data": {
      "text/plain": [
       "['I', ' ', 'l', 'o', 'v', 'e', ' ', 'b', 'e', 'e', 'f', ' ', '1', '0', '0']"
      ]
     },
     "execution_count": 35,
     "metadata": {},
     "output_type": "execute_result"
    }
   ],
   "source": [
    "##all alphanumeric including spaces\n",
    "re.findall(\"[a-zA-Z0-9 ]\", \"I love beef 100%\")"
   ]
  },
  {
   "cell_type": "code",
   "execution_count": 36,
   "metadata": {
    "id": "etKvncSZX_T_"
   },
   "outputs": [
    {
     "name": "stdout",
     "output_type": "stream",
     "text": [
      "This sentence is A mess because I just looove   to write gibberish   just check me out at httpwwwmauricioIZdaBestawesome\n"
     ]
    }
   ],
   "source": [
    "## an important function from re is sub - which can filter out directly in the text characters that we dont want\n",
    "\n",
    "sentence = \"This sentence is A mess b-e-c-a-u-s-e I just looove <3 <3 to write gibberish !!! ***, just check me out at http://www.mauricioIZdaBest.awesome\"\n",
    "\n",
    "## substitute non-alphabetic with empty\n",
    "filtered_sentence = re.sub(r\"[^a-zA-Z ]\", \"\", sentence)\n",
    "print(filtered_sentence)"
   ]
  },
  {
   "cell_type": "code",
   "execution_count": 37,
   "metadata": {
    "id": "Kt3OsmdQA3xt"
   },
   "outputs": [
    {
     "name": "stdout",
     "output_type": "stream",
     "text": [
      "This sentence is A mess b-e-c-a-u-s-e I just looove <3 <3 to write gibberish !!! ***, just check me out at \n"
     ]
    }
   ],
   "source": [
    "## filter out expressions starting with http\\ until they it finds a non-white space\n",
    "## \\S means non-white space\n",
    "\n",
    "filtered_sentence = re.sub(r\"http\\S+\", \"\", sentence)\n",
    "print(filtered_sentence)"
   ]
  },
  {
   "cell_type": "markdown",
   "metadata": {
    "id": "vPm-eyJYZc_I"
   },
   "source": [
    "## Exercise: generate and print the lower cased sentence below with only alphabetic characters, without websites and without double spaces"
   ]
  },
  {
   "cell_type": "code",
   "execution_count": 38,
   "metadata": {
    "id": "s1z_mZkVA6Ag"
   },
   "outputs": [
    {
     "name": "stdout",
     "output_type": "stream",
     "text": [
      "this sentence is a mess because i just looove to write gibberish just check me out at \n"
     ]
    }
   ],
   "source": [
    "## sequential filtering\n",
    "\n",
    "sentence = \"This sentence is A mess b-e-c-a-u-s-e I just    looove    <3 <3 to write gibberish !!! ***, just check me out at http://www.mauricioIZdaBest.awesome\"\n",
    "\n",
    "s1 = sentence.lower()\n",
    "s2 = re.sub(\"http\\S+\", \"\", s1)\n",
    "s3 = re.sub(\"[^a-z ]\", \"\", s2)\n",
    "\n",
    "## the expression \\s+ finds all white spaces bigger than 1\n",
    "s4 = re.sub(\" \\s+\", \" \", s3)\n",
    "print(s4)"
   ]
  },
  {
   "cell_type": "markdown",
   "metadata": {
    "id": "SkcwA5VOcKpz"
   },
   "source": [
    "Exercise: \n",
    "\n",
    "using Vader, calculate the sentiment scores of each sentence of the following text\n",
    "\n",
    "sentence = \"My LIFE just changed for the better thousand times over... You won't believe how much this APP is A-M-A-Z-I-N_G. This ain't no joke.  I love it *****. You will love it too. The only bad thing is that it is EXPENSIVE. AND my mom doesn't like it.\"\n",
    "\n",
    "IMPORTANT:\n",
    "\n",
    "- resolve inflections (import and use the right modules).\n",
    "- generate a list of the lowercased sentences, with alphabetic characters and single spaces.\n",
    "\n",
    "NOTE: you need . to separate sentences, so don't remove .'s before separating the sentences.\n"
   ]
  },
  {
   "cell_type": "code",
   "execution_count": 39,
   "metadata": {
    "id": "h60yKLtxijvh"
   },
   "outputs": [],
   "source": [
    "sentence = \"My LIFE just changed for the better thousand times over... You won't believe how much this APP is A-M-A-Z-I-N_G. This ain't no joke. I love it *****. You will love it too. The only bad thing is that it is EXPENSIVE. AND my mom doesn't like it.\""
   ]
  },
  {
   "cell_type": "markdown",
   "metadata": {},
   "source": [
    "To lower case, replace ellipsis by dot"
   ]
  },
  {
   "cell_type": "code",
   "execution_count": 54,
   "metadata": {},
   "outputs": [],
   "source": [
    "sentence = sentence.lower().replace(\"...\", \".\")"
   ]
  },
  {
   "cell_type": "code",
   "execution_count": 56,
   "metadata": {},
   "outputs": [
    {
     "data": {
      "text/plain": [
       "\"my life just changed for the better thousand times over. you won't believe how much this app is a-m-a-z-i-n_g. this ain't no joke. i love it . you will love it too. the only bad thing is that it is expensive. and my mom doesn't like it.\""
      ]
     },
     "execution_count": 56,
     "metadata": {},
     "output_type": "execute_result"
    }
   ],
   "source": [
    "re.sub('\\*', '', sentence)"
   ]
  },
  {
   "cell_type": "code",
   "execution_count": 40,
   "metadata": {},
   "outputs": [
    {
     "name": "stdout",
     "output_type": "stream",
     "text": [
      "[\"My LIFE just changed for the better thousand times over... You won't believe how much this APP is A-M-A-Z-I-N_G.\", \"This ain't no joke.\", 'I love it *****.', 'You will love it too.', 'The only bad thing is that it is EXPENSIVE.', \"AND my mom doesn't like it.\"]\n"
     ]
    }
   ],
   "source": [
    "import nltk\n",
    "\n",
    "tokenized_sentence = nltk.sent_tokenize(sentence)\n",
    "\n",
    "print(tokenized_sentence)"
   ]
  },
  {
   "cell_type": "code",
   "execution_count": 41,
   "metadata": {},
   "outputs": [
    {
     "name": "stdout",
     "output_type": "stream",
     "text": [
      "My LIFE just changed for the better thousand times over... You won't believe how much this APP is A-M-A-Z-I-N_G.\n",
      "This ain't no joke.\n",
      "I love it *****.\n",
      "You will love it too.\n",
      "The only bad thing is that it is EXPENSIVE.\n",
      "AND my mom doesn't like it.\n"
     ]
    }
   ],
   "source": [
    "for seg in tokenized_sentence:\n",
    "    print(seg)"
   ]
  },
  {
   "cell_type": "code",
   "execution_count": 42,
   "metadata": {},
   "outputs": [
    {
     "data": {
      "text/plain": [
       "['My LIFE just changed for the better thousand times over',\n",
       " \"You won't believe how much this APP is A-M-A-Z-I-N_G.\",\n",
       " \"This ain't no joke.\",\n",
       " 'I love it *****.',\n",
       " 'You will love it too.',\n",
       " 'The only bad thing is that it is EXPENSIVE.',\n",
       " \"AND my mom doesn't like it.\"]"
      ]
     },
     "execution_count": 42,
     "metadata": {},
     "output_type": "execute_result"
    }
   ],
   "source": [
    "tokenized_sentence = [\n",
    "    a for b in [s.split(\"... \") for s in tokenized_sentence] for a in b\n",
    "]\n",
    "tokenized_sentence"
   ]
  },
  {
   "cell_type": "code",
   "execution_count": 47,
   "metadata": {},
   "outputs": [
    {
     "name": "stdout",
     "output_type": "stream",
     "text": [
      "My LIFE just changed for the better thousand times over\n"
     ]
    },
    {
     "data": {
      "text/plain": [
       "{'neg': 0.0, 'neu': 0.756, 'pos': 0.244, 'compound': 0.4404}"
      ]
     },
     "execution_count": 47,
     "metadata": {},
     "output_type": "execute_result"
    }
   ],
   "source": [
    "i = 0\n",
    "print(tokenized_sentence[i])\n",
    "sid.polarity_scores(tokenized_sentence[i])"
   ]
  },
  {
   "cell_type": "code",
   "execution_count": 48,
   "metadata": {},
   "outputs": [
    {
     "name": "stdout",
     "output_type": "stream",
     "text": [
      "You won't believe how much this APP is A-M-A-Z-I-N_G.\n"
     ]
    },
    {
     "data": {
      "text/plain": [
       "{'neg': 0.0, 'neu': 1.0, 'pos': 0.0, 'compound': 0.0}"
      ]
     },
     "execution_count": 48,
     "metadata": {},
     "output_type": "execute_result"
    }
   ],
   "source": [
    "i = 1\n",
    "print(tokenized_sentence[i])\n",
    "sid.polarity_scores(tokenized_sentence[i])"
   ]
  }
 ],
 "metadata": {
  "colab": {
   "collapsed_sections": [],
   "provenance": []
  },
  "kernelspec": {
   "display_name": "Python 3 (ipykernel)",
   "language": "python",
   "name": "python3"
  },
  "language_info": {
   "codemirror_mode": {
    "name": "ipython",
    "version": 3
   },
   "file_extension": ".py",
   "mimetype": "text/x-python",
   "name": "python",
   "nbconvert_exporter": "python",
   "pygments_lexer": "ipython3",
   "version": "3.9.13"
  }
 },
 "nbformat": 4,
 "nbformat_minor": 4
}
