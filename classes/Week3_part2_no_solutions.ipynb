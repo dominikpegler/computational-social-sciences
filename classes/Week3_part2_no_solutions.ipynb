{
 "cells": [
  {
   "cell_type": "markdown",
   "metadata": {},
   "source": [
    "Week 3 Part II\n",
    "==="
   ]
  },
  {
   "cell_type": "markdown",
   "metadata": {
    "id": "QK7hpiLKm3_I"
   },
   "source": [
    "## 2. Dictionary Tools - WordNet"
   ]
  },
  {
   "cell_type": "code",
   "execution_count": null,
   "metadata": {
    "id": "K8u334Qzm7M_"
   },
   "outputs": [],
   "source": [
    "##import the module\n",
    "import nltk\n",
    "nltk.download('all')\n",
    "from nltk.corpus import wordnet as wn"
   ]
  },
  {
   "cell_type": "code",
   "execution_count": null,
   "metadata": {
    "id": "NjcysBREk7wW"
   },
   "outputs": [],
   "source": [
    "word = 'anger'\n",
    "\n",
    "# synsets are the set possible meanings of the word, this is a function from WordNet (wn)\n",
    "# first we take meanings which can be Part of Speech, Noincs, Verbs, or Adjectives\n",
    "\n",
    "meanings = wn.synsets(word, pos=wn.NOUN+wn.VERB+wn.ADJ)\n",
    "print(meanings)\n",
    "\n",
    "for meaning in meanings:\n",
    "    print(word, meaning, meaning.definition())"
   ]
  },
  {
   "cell_type": "code",
   "execution_count": null,
   "metadata": {
    "id": "uktTadBLy-rr"
   },
   "outputs": [],
   "source": [
    "## list of languages\n",
    "\n",
    "wn.langs()\n"
   ]
  },
  {
   "cell_type": "code",
   "execution_count": null,
   "metadata": {
    "id": "5SGwqN1Bkqi4"
   },
   "outputs": [],
   "source": [
    "## synonyms obtained with lemmas()\n",
    "\n",
    "language = 'eng'\n",
    "\n",
    "## here we pick up the first synset of the list.\n",
    "## Note that the output writes capital Synset, but input is with lowercase synset\n",
    "\n",
    "wn.synset('anger.n.01').lemmas(language)\n"
   ]
  },
  {
   "cell_type": "code",
   "execution_count": null,
   "metadata": {
    "id": "I2j3eKRV0Bfu"
   },
   "outputs": [],
   "source": [
    "## access the word of the synonym\n",
    "\n",
    "## here we pick up the third lemma of the list\n",
    "## Note that the output writes capital Lemma, but input is with lowercase lemma\n",
    "wn.lemma('anger.n.01.ire').name()\n"
   ]
  },
  {
   "cell_type": "code",
   "execution_count": null,
   "metadata": {
    "id": "A3Y2nwZm1IOC"
   },
   "outputs": [],
   "source": [
    "## obtaining hyponyms (words that are semantically lower in the hierarchy)\n",
    "## for example dogs and cats are hyponyms of animals.\n",
    "## below are specific kinds of anger\n",
    "\n",
    "wn.synset('anger.n.01').hyponyms()"
   ]
  },
  {
   "cell_type": "code",
   "execution_count": null,
   "metadata": {
    "id": "SHrWwG9zIkCu"
   },
   "outputs": [],
   "source": [
    "## with closure() we can navigate the hierarchy all the way to the bottom\n",
    "\n",
    "meaning = wn.synset('anger.n.01')\n",
    "\n",
    "hypos = lambda s:s.hyponyms()\n",
    "for item in meaning.closure(hypos):\n",
    "  print(item)"
   ]
  },
  {
   "cell_type": "code",
   "execution_count": null,
   "metadata": {
    "id": "c01krzhi9_hb"
   },
   "outputs": [],
   "source": [
    "## obtaining hypernym (words that are semantically higher in the hierarchy)\n",
    "## for example dogs and cats are hyponyms of animals.\n",
    "## below are specific kinds of anger\n",
    "\n",
    "wn.synset('anger.n.01').hypernyms()"
   ]
  },
  {
   "cell_type": "code",
   "execution_count": null,
   "metadata": {
    "id": "qXYVMRge-d8N"
   },
   "outputs": [],
   "source": [
    "## obtaining hypernym (words that are semantically higher in the hierarchy)\n",
    "## for example dogs and cats are hyponyms of animals.\n",
    "## below are specific kinds of anger\n",
    "\n",
    "wn.synset('anger.n.01').root_hypernyms()"
   ]
  },
  {
   "cell_type": "markdown",
   "metadata": {
    "id": "hZFoB9mX5lXm"
   },
   "source": [
    "## 2.1. Generate all synonyms and hyponyms of a word\n"
   ]
  },
  {
   "cell_type": "code",
   "execution_count": null,
   "metadata": {
    "id": "Qk2ce-Ei6peZ"
   },
   "outputs": [],
   "source": [
    "word = 'joy'\n",
    "language='eng'\n",
    "\n",
    "meanings = wn.synsets(word, pos=wn.NOUN+wn.VERB+wn.ADJ)\n",
    "list_of_lemmas = []\n",
    "\n",
    "\n",
    "for meaning in meanings:\n",
    "  print(meaning, meaning.definition())\n",
    "\n",
    "  for lemma in meaning.lemmas(language):\n",
    "    ##convert lemma to synset\n",
    "    print(lemma, lemma.name())\n",
    "    list_of_lemmas += [lemma.name()]\n",
    "\n",
    "  hypos = lambda s:s.hyponyms()\n",
    "  for hyponym in meaning.closure(hypos):\n",
    "    print(hyponym, hyponym.definition())\n",
    "\n",
    "    for lemma in hyponym.lemmas(language):\n",
    "    ##convert lemma to synset\n",
    "      print(lemma, lemma.name())\n",
    "      list_of_lemmas += [lemma.name()]\n"
   ]
  },
  {
   "cell_type": "code",
   "execution_count": null,
   "metadata": {
    "id": "hskvHuu9A2Zz"
   },
   "outputs": [],
   "source": [
    "\n",
    "##eliminate list duplations by applying the set transformation\n",
    "set_of_lemmas= [*set(list_of_lemmas)]\n",
    "\n",
    "## sort alphabetically\n",
    "set_of_lemmas.sort()\n",
    "\n",
    "##length\n",
    "length = len(set_of_lemmas)\n",
    "\n",
    "##print\n",
    "print(set_of_lemmas)\n",
    "print(length)"
   ]
  },
  {
   "cell_type": "code",
   "execution_count": null,
   "metadata": {
    "id": "jIjJX_Xh8wtw"
   },
   "outputs": [],
   "source": [
    "## re-wite with simpler loops and filters\n",
    "\n",
    "## free parameters, seed word and language\n",
    "seed_word = 'anger'\n",
    "language='eng'\n",
    "\n",
    "## we create an empty list to store the final word list\n",
    "list_of_lemmas = []\n",
    "\n",
    "## a function to add a word to a list\n",
    "add_to_list = lambda list1, item1: list1.append(item1)\n",
    "\n",
    "## a function to return the hyponyms of a synset\n",
    "hypos = lambda s:s.hyponyms()\n",
    "\n",
    "## wn.synset obtains the list of synonyms and meanings for that word, in different syntactic categories\n",
    "meanings = wn.synsets(seed_word, pos=wn.NOUN+wn.VERB+wn.ADJ)\n",
    "\n",
    "## loop over set of meanings in synset\n",
    "for meaning in meanings:\n",
    "\n",
    "  ## print the definition of that meaning\n",
    "  print(meaning, meaning.definition())\n",
    "\n",
    "  ## append all synonyms (lemmas()) of that meaning to the list_of_lemmas \n",
    "  [add_to_list(list_of_lemmas,lemma.name()) for lemma in meaning.lemmas(language)]\n",
    "\n",
    "  ## loop over the list of all possible hyponyms\n",
    "  for hyponym in meaning.closure(hypos):\n",
    "\n",
    "    ## print the definition of each hyponym\n",
    "    print(hyponym, hyponym.definition())\n",
    "\n",
    "    ## append all synonyms (lemmas()) of that hyponym to the list_of_lemmas \n",
    "    [add_to_list(list_of_lemmas,lemma.name()) for lemma in hyponym.lemmas(language)]\n",
    "\n",
    "##eliminate list duplations by applying the set transformation\n",
    "set_of_lemmas= [*set(list_of_lemmas)]\n",
    "\n",
    "## sort alphabetically\n",
    "set_of_lemmas.sort()\n",
    "\n",
    "##length\n",
    "length = len(set_of_lemmas)\n",
    "\n",
    "##print\n",
    "print(set_of_lemmas)\n",
    "print(length)\n"
   ]
  },
  {
   "cell_type": "markdown",
   "metadata": {
    "id": "EJZUfj0XHIFS"
   },
   "source": [
    "####2.1 Exercise. Write the previous cell as a def function, and use the function to obtain a list of words of all terms related to joy\n",
    "\n",
    "#### call should be like generate_word_list(seed_word, language)"
   ]
  },
  {
   "cell_type": "code",
   "execution_count": null,
   "metadata": {
    "id": "RxYkfyJpHT0Y"
   },
   "outputs": [],
   "source": []
  },
  {
   "cell_type": "code",
   "execution_count": null,
   "metadata": {
    "id": "yoS4nDLRDgKe"
   },
   "outputs": [],
   "source": [
    "\n"
   ]
  },
  {
   "cell_type": "code",
   "execution_count": null,
   "metadata": {
    "id": "blzWIyZ6MQCM"
   },
   "outputs": [],
   "source": [
    "## define the function\n",
    "\n",
    "def generate_word_list(seed_word, language):\n",
    "  \n",
    "  ## we create an empty list to store the final word list\n",
    "  list_of_lemmas = []\n",
    "\n",
    "  ## a function to add a word to a list\n",
    "  add_to_list = lambda list1, item1: list1.append(item1)\n",
    "\n",
    "  ## a function to return the hyponyms of a synset\n",
    "  hypos = lambda s:s.hyponyms()\n",
    "\n",
    "  ## wn.synset obtains the list of synonyms and meanings for that word, in different syntactic categories\n",
    "  meanings = wn.synsets(word, pos=wn.NOUN+wn.VERB+wn.ADJ)\n",
    "\n",
    "  ## loop over set of meanings in synset\n",
    "  for meaning in meanings:\n",
    "\n",
    "    ## print the definition of that meaning, depicts the base word .name() for each lemma in the meaning list\n",
    "    print(meaning, meaning.definition(), [lemma.name() for lemma in meaning.lemmas(language)])\n",
    "\n",
    "    ## append all synonyms (lemmas()) of that meaning to the list_of_lemmas \n",
    "    [add_to_list(list_of_lemmas,lemma.name()) for lemma in meaning.lemmas(language)]\n",
    "\n",
    "    ## loop over the list of all possible hyponyms\n",
    "    for hyponym in meaning.closure(hypos):\n",
    "\n",
    "      ## print the definition of each hyponym, depicts the base word .name() for each lemma in the hyponym list\n",
    "      print(hyponym, hyponym.definition(), [lemma.name() for lemma in hyponym.lemmas(language)])\n",
    "\n",
    "      ## append all synonyms (lemmas()) of that hyponym to the list_of_lemmas \n",
    "      [add_to_list(list_of_lemmas,lemma.name()) for lemma in hyponym.lemmas(language)]\n",
    "\n",
    "  ##eliminate list duplations by applying the set transformation\n",
    "  set_of_lemmas= [*set(list_of_lemmas)]\n",
    "\n",
    "  ## sort alphabetically\n",
    "  set_of_lemmas.sort()\n",
    "\n",
    "  ##length\n",
    "  length = len(set_of_lemmas)\n",
    "\n",
    "  return(list_of_lemmas,length)"
   ]
  },
  {
   "cell_type": "code",
   "execution_count": null,
   "metadata": {
    "id": "Xmqoxv6QMpoO"
   },
   "outputs": [],
   "source": [
    "## free parameters, seed word and language\n",
    "word = 'joy'\n",
    "language='eng'\n",
    "\n",
    "##execute\n",
    "list_words, length = generate_word_list(seed_word, language)\n",
    "print(list_words)\n",
    "print(length)"
   ]
  },
  {
   "cell_type": "code",
   "execution_count": null,
   "metadata": {
    "id": "pbAq5_10KKGE"
   },
   "outputs": [],
   "source": [
    "## define the function\n",
    "\n",
    "def generate_word_list(seed_word, language):\n",
    "  \n",
    "  ## we create an empty list to store the final word list\n",
    "  list_of_lemmas = []\n",
    "  list_of_meanings = []\n",
    "\n",
    "  ## a function to add a word to a list\n",
    "  add_to_list = lambda list1, item1: list1.append(item1)\n",
    "\n",
    "  ## a function to return the hyponyms of a synset\n",
    "  hypos = lambda s:s.hyponyms()\n",
    "\n",
    "  ## wn.synset obtains the list of synonyms and meanings for that word, in different syntactic categories\n",
    "  meanings = wn.synsets(word, pos=wn.NOUN+wn.VERB+wn.ADJ)\n",
    "\n",
    "  ## loop over set of meanings in synset\n",
    "  for meaning in meanings:\n",
    "\n",
    "    ## print the definition of that meaning\n",
    "    print(meaning, meaning.definition(), [lemma.name() for lemma in meaning.lemmas(language)])\n",
    "    list_of_meanings += [[meaning, meaning.definition(), [lemma.name() for lemma in meaning.lemmas(language)]]]\n",
    "\n",
    "    ## append all synonyms (lemmas()) of that meaning to the list_of_lemmas \n",
    "    [add_to_list(list_of_lemmas,lemma.name()) for lemma in meaning.lemmas(language)]\n",
    "\n",
    "    ## loop over the list of all possible hyponyms\n",
    "    for hyponym in meaning.closure(hypos):\n",
    "\n",
    "      ## print the definition of each hyponym\n",
    "      print(hyponym, hyponym.definition(), [lemma.name() for lemma in hyponym.lemmas(language)])\n",
    "      list_of_meanings += [[hyponym, hyponym.definition(), [lemma.name() for lemma in hyponym.lemmas(language)]]]\n",
    "\n",
    "      ## append all synonyms (lemmas()) of that hyponym to the list_of_lemmas \n",
    "      [add_to_list(list_of_lemmas,lemma.name()) for lemma in hyponym.lemmas(language)]\n",
    "\n",
    "  ##eliminate list duplations by applying the set transformation\n",
    "  set_of_lemmas= [*set(list_of_lemmas)]\n",
    "\n",
    "  ## sort alphabetically\n",
    "  set_of_lemmas.sort()\n",
    "\n",
    "  ##length\n",
    "  length = len(set_of_lemmas)\n",
    "\n",
    "  return(list_of_lemmas,length,list_of_meanings)"
   ]
  },
  {
   "cell_type": "code",
   "execution_count": null,
   "metadata": {
    "id": "qThpYMayK6yH"
   },
   "outputs": [],
   "source": [
    "## free parameters, seed word and language\n",
    "word = 'joy'\n",
    "language='eng'\n",
    "\n",
    "##execute\n",
    "list_words, length, list_meanings = generate_word_list(seed_word, language)\n",
    "print(list_meanings)\n"
   ]
  },
  {
   "cell_type": "code",
   "execution_count": null,
   "metadata": {
    "id": "5cOtpmKTPMBf"
   },
   "outputs": [],
   "source": [
    "## decide which meanings to keep and which to remove\n",
    "## this function iterates over the set of meanings\n",
    "## for each meaning we are asked to type 1 if we want to keep the meaning, otherwise is not kept\n",
    "## the input is a list of meanings\n",
    "\n",
    "def select_meanings(list_meanings):\n",
    "\n",
    "  ## an empty list for the final selected words\n",
    "  selected_word_list = []\n",
    "\n",
    "  ## we print the length of the list for reference - how long is it\n",
    "  print(\"the list has:\", len(list_meanings), \"items\")\n",
    "\n",
    "  ## we set a counter to know where in the list we arre\n",
    "  count = 0\n",
    "\n",
    "  ##loop over the list\n",
    "  for item in list_meanings:\n",
    "   \n",
    "    ## update the count\n",
    "    count+=1\n",
    "\n",
    "    ## print the count and the item\n",
    "    print(count, item)\n",
    "\n",
    "    ## print an instruction\n",
    "    print(\"type 1 if the meaning is adequate, 0 otherwise\")\n",
    "    \n",
    "    ## collect the response using input\n",
    "    x = input()\n",
    "\n",
    "    ##if response is 1, add the words in the item to the final list\n",
    "    if x == '1':\n",
    "        selected_word_list += item[2]\n",
    "\n",
    "    ##otherwise continue the loop\n",
    "    else:\n",
    "      continue\n",
    "\n",
    "  return(selected_word_list)"
   ]
  },
  {
   "cell_type": "code",
   "execution_count": null,
   "metadata": {
    "id": "5k4RK0z4QLvK"
   },
   "outputs": [],
   "source": [
    "111\n",
    "1\n",
    "## execture the function\n",
    "filtered_list = select_meanings(list_meanings)"
   ]
  },
  {
   "cell_type": "code",
   "execution_count": null,
   "metadata": {
    "id": "zxdtGPw0S7Lw"
   },
   "outputs": [],
   "source": [
    "## print the final list\n",
    "print(filtered_list)"
   ]
  },
  {
   "cell_type": "markdown",
   "metadata": {
    "id": "Uv23QFKCKJG4"
   },
   "source": []
  }
 ],
 "metadata": {
  "colab": {
   "collapsed_sections": [],
   "provenance": []
  },
  "kernelspec": {
   "display_name": "Python 3 (ipykernel)",
   "language": "python",
   "name": "python3"
  },
  "language_info": {
   "codemirror_mode": {
    "name": "ipython",
    "version": 3
   },
   "file_extension": ".py",
   "mimetype": "text/x-python",
   "name": "python",
   "nbconvert_exporter": "python",
   "pygments_lexer": "ipython3",
   "version": "3.9.13"
  }
 },
 "nbformat": 4,
 "nbformat_minor": 4
}
