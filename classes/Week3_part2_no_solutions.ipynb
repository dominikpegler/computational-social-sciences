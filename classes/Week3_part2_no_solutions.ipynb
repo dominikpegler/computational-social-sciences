{
 "cells": [
  {
   "cell_type": "markdown",
   "metadata": {},
   "source": [
    "Week 3 Part II\n",
    "==="
   ]
  },
  {
   "cell_type": "markdown",
   "metadata": {
    "id": "QK7hpiLKm3_I"
   },
   "source": [
    "## 2. Dictionary Tools - WordNet"
   ]
  },
  {
   "cell_type": "raw",
   "metadata": {},
   "source": [
    "import jupyter_black\n",
    "\n",
    "jupyter_black.load()"
   ]
  },
  {
   "cell_type": "code",
   "execution_count": 24,
   "metadata": {
    "id": "NjcysBREk7wW"
   },
   "outputs": [
    {
     "name": "stdout",
     "output_type": "stream",
     "text": [
      "[Synset('anger.n.01'), Synset('anger.n.02'), Synset('wrath.n.02'), Synset('anger.v.01'), Synset('anger.v.02')]\n",
      "anger Synset('anger.n.01') a strong emotion; a feeling that is oriented toward some real or supposed grievance\n",
      "anger Synset('anger.n.02') the state of being angry\n",
      "anger Synset('wrath.n.02') belligerence aroused by a real or supposed wrong (personified as one of the deadly sins)\n",
      "anger Synset('anger.v.01') make angry\n",
      "anger Synset('anger.v.02') become angry\n"
     ]
    }
   ],
   "source": [
    "##import the module\n",
    "import nltk\n",
    "\n",
    "# nltk.download('all')\n",
    "from nltk.corpus import wordnet as wn\n",
    "\n",
    "word = \"anger\"\n",
    "\n",
    "# synsets are the set possible meanings of the word, this is a function from WordNet (wn)\n",
    "# first we take meanings which can be Part of Speech, Noincs, Verbs, or Adjectives\n",
    "\n",
    "meanings = wn.synsets(word, pos=wn.NOUN + wn.VERB + wn.ADJ)\n",
    "print(meanings)\n",
    "\n",
    "for meaning in meanings:\n",
    "    print(word, meaning, meaning.definition())"
   ]
  },
  {
   "cell_type": "code",
   "execution_count": 25,
   "metadata": {
    "id": "uktTadBLy-rr"
   },
   "outputs": [
    {
     "data": {
      "text/plain": [
       "dict_keys(['eng', 'als', 'arb', 'bul', 'cmn', 'dan', 'ell', 'fin', 'fra', 'heb', 'hrv', 'isl', 'ita', 'ita_iwn', 'jpn', 'cat', 'eus', 'glg', 'spa', 'ind', 'zsm', 'nld', 'nno', 'nob', 'pol', 'por', 'ron', 'lit', 'slk', 'slv', 'swe', 'tha'])"
      ]
     },
     "execution_count": 25,
     "metadata": {},
     "output_type": "execute_result"
    }
   ],
   "source": [
    "## list of languages\n",
    "\n",
    "wn.langs()"
   ]
  },
  {
   "cell_type": "code",
   "execution_count": 26,
   "metadata": {
    "id": "5SGwqN1Bkqi4"
   },
   "outputs": [
    {
     "data": {
      "text/plain": [
       "[Lemma('anger.n.01.anger'),\n",
       " Lemma('anger.n.01.choler'),\n",
       " Lemma('anger.n.01.ire')]"
      ]
     },
     "execution_count": 26,
     "metadata": {},
     "output_type": "execute_result"
    }
   ],
   "source": [
    "## synonyms obtained with lemmas()\n",
    "\n",
    "language = \"eng\"\n",
    "\n",
    "## here we pick up the first synset of the list.\n",
    "## Note that the output writes capital Synset, but input is with lowercase synset\n",
    "\n",
    "wn.synset(\"anger.n.01\").lemmas(language)"
   ]
  },
  {
   "cell_type": "code",
   "execution_count": 27,
   "metadata": {
    "id": "I2j3eKRV0Bfu"
   },
   "outputs": [
    {
     "data": {
      "text/plain": [
       "'ire'"
      ]
     },
     "execution_count": 27,
     "metadata": {},
     "output_type": "execute_result"
    }
   ],
   "source": [
    "## access the word of the synonym\n",
    "\n",
    "## here we pick up the third lemma of the list\n",
    "## Note that the output writes capital Lemma, but input is with lowercase lemma\n",
    "wn.lemma(\"anger.n.01.ire\").name()"
   ]
  },
  {
   "cell_type": "code",
   "execution_count": 28,
   "metadata": {
    "id": "A3Y2nwZm1IOC"
   },
   "outputs": [
    {
     "data": {
      "text/plain": [
       "[Synset('annoyance.n.02'),\n",
       " Synset('bad_temper.n.01'),\n",
       " Synset('dander.n.02'),\n",
       " Synset('fury.n.01'),\n",
       " Synset('huffiness.n.01'),\n",
       " Synset('indignation.n.01'),\n",
       " Synset('infuriation.n.01'),\n",
       " Synset('umbrage.n.01')]"
      ]
     },
     "execution_count": 28,
     "metadata": {},
     "output_type": "execute_result"
    }
   ],
   "source": [
    "## obtaining hyponyms (words that are semantically lower in the hierarchy)\n",
    "## for example dogs and cats are hyponyms of animals.\n",
    "## below are specific kinds of anger\n",
    "\n",
    "wn.synset(\"anger.n.01\").hyponyms()"
   ]
  },
  {
   "cell_type": "code",
   "execution_count": 29,
   "metadata": {
    "id": "SHrWwG9zIkCu"
   },
   "outputs": [
    {
     "name": "stdout",
     "output_type": "stream",
     "text": [
      "Synset('annoyance.n.02')\n",
      "Synset('bad_temper.n.01')\n",
      "Synset('dander.n.02')\n",
      "Synset('fury.n.01')\n",
      "Synset('huffiness.n.01')\n",
      "Synset('indignation.n.01')\n",
      "Synset('infuriation.n.01')\n",
      "Synset('umbrage.n.01')\n",
      "Synset('aggravation.n.01')\n",
      "Synset('displeasure.n.01')\n",
      "Synset('frustration.n.03')\n",
      "Synset('harassment.n.01')\n",
      "Synset('pique.n.02')\n",
      "Synset('fit.n.01')\n",
      "Synset('irascibility.n.01')\n",
      "Synset('lividity.n.01')\n",
      "Synset('wrath.n.01')\n",
      "Synset('dudgeon.n.01')\n"
     ]
    }
   ],
   "source": [
    "## with closure() we can navigate the hierarchy all the way to the bottom\n",
    "\n",
    "meaning = wn.synset(\"anger.n.01\")\n",
    "\n",
    "hypos = lambda s: s.hyponyms()\n",
    "for item in meaning.closure(hypos):\n",
    "    print(item)"
   ]
  },
  {
   "cell_type": "code",
   "execution_count": 30,
   "metadata": {
    "id": "c01krzhi9_hb"
   },
   "outputs": [
    {
     "data": {
      "text/plain": [
       "[Synset('emotion.n.01')]"
      ]
     },
     "execution_count": 30,
     "metadata": {},
     "output_type": "execute_result"
    }
   ],
   "source": [
    "## obtaining hypernym (words that are semantically higher in the hierarchy)\n",
    "## for example dogs and cats are hyponyms of animals.\n",
    "## below are specific kinds of anger\n",
    "\n",
    "wn.synset(\"anger.n.01\").hypernyms()"
   ]
  },
  {
   "cell_type": "code",
   "execution_count": 31,
   "metadata": {
    "id": "qXYVMRge-d8N"
   },
   "outputs": [
    {
     "data": {
      "text/plain": [
       "[Synset('entity.n.01')]"
      ]
     },
     "execution_count": 31,
     "metadata": {},
     "output_type": "execute_result"
    }
   ],
   "source": [
    "## obtaining hypernym (words that are semantically higher in the hierarchy)\n",
    "## for example dogs and cats are hyponyms of animals.\n",
    "## below are specific kinds of anger\n",
    "\n",
    "wn.synset(\"anger.n.01\").root_hypernyms()"
   ]
  },
  {
   "cell_type": "markdown",
   "metadata": {
    "id": "hZFoB9mX5lXm"
   },
   "source": [
    "## 2.1. Generate all synonyms and hyponyms of a word\n"
   ]
  },
  {
   "cell_type": "code",
   "execution_count": 32,
   "metadata": {
    "id": "Qk2ce-Ei6peZ"
   },
   "outputs": [
    {
     "name": "stdout",
     "output_type": "stream",
     "text": [
      "Synset('joy.n.01') the emotion of great happiness\n",
      "Lemma('joy.n.01.joy') joy\n",
      "Lemma('joy.n.01.joyousness') joyousness\n",
      "Lemma('joy.n.01.joyfulness') joyfulness\n",
      "Synset('elation.n.02') a feeling of joy and pride\n",
      "Synset('exhilaration.n.01') the feeling of lively and cheerful joy\n",
      "Synset('exuberance.n.01') joyful enthusiasm\n",
      "Synset('exultation.n.01') a feeling of extreme joy\n",
      "Synset('euphoria.n.01') a feeling of great (usually exaggerated) elation\n",
      "Synset('bang.n.04') the swift release of a store of affective force\n",
      "Synset('intoxication.n.03') excitement and elation beyond the bounds of sobriety\n",
      "Synset('titillation.n.01') a tingling feeling of excitement (as from teasing or tickling)\n",
      "Synset('triumph.n.02') the exultation of victory\n",
      "Lemma('triumph.n.02.triumph') triumph\n",
      "Synset('joy.n.02') something or someone that provides a source of happiness\n",
      "Lemma('joy.n.02.joy') joy\n",
      "Lemma('joy.n.02.delight') delight\n",
      "Lemma('joy.n.02.pleasure') pleasure\n",
      "Lemma('triumph.n.02.triumph') triumph\n",
      "Synset('rejoice.v.01') feel happiness or joy\n",
      "Lemma('rejoice.v.01.rejoice') rejoice\n",
      "Lemma('rejoice.v.01.joy') joy\n",
      "Synset('cheer.v.04') become cheerful\n",
      "Synset('exult.v.01') feel extreme happiness or elation\n",
      "Synset('gladden.v.02') become glad or happy\n",
      "Synset('exuberate.v.01') to express great joy\n",
      "Synset('lighten.v.03') become more cheerful\n",
      "Synset('wallow.v.04') be ecstatic with joy\n",
      "Synset('glory.v.01') rejoice proudly\n",
      "Lemma('glory.v.01.glory') glory\n",
      "Synset('gladden.v.01') make glad or happy\n",
      "Lemma('gladden.v.01.gladden') gladden\n",
      "Lemma('gladden.v.01.joy') joy\n",
      "Synset('overjoy.v.01') cause to feel extremely joyful or happy\n",
      "Lemma('overjoy.v.01.overjoy') overjoy\n"
     ]
    }
   ],
   "source": [
    "word = \"joy\"\n",
    "language = \"eng\"\n",
    "\n",
    "meanings = wn.synsets(word, pos=wn.NOUN + wn.VERB + wn.ADJ)\n",
    "list_of_lemmas = []\n",
    "\n",
    "\n",
    "for meaning in meanings:\n",
    "    print(meaning, meaning.definition())\n",
    "\n",
    "    for lemma in meaning.lemmas(language):\n",
    "        ##convert lemma to synset\n",
    "        print(lemma, lemma.name())\n",
    "        list_of_lemmas += [lemma.name()]\n",
    "\n",
    "    hypos = lambda s: s.hyponyms()\n",
    "\n",
    "    for hyponym in meaning.closure(hypos):\n",
    "        print(hyponym, hyponym.definition())\n",
    "\n",
    "    for lemma in hyponym.lemmas(language):\n",
    "        ##convert lemma to synset\n",
    "        print(lemma, lemma.name())\n",
    "        list_of_lemmas += [lemma.name()]"
   ]
  },
  {
   "cell_type": "code",
   "execution_count": 33,
   "metadata": {
    "id": "hskvHuu9A2Zz"
   },
   "outputs": [
    {
     "name": "stdout",
     "output_type": "stream",
     "text": [
      "['delight', 'gladden', 'glory', 'joy', 'joyfulness', 'joyousness', 'overjoy', 'pleasure', 'rejoice', 'triumph']\n",
      "10\n"
     ]
    }
   ],
   "source": [
    "##eliminate list duplations by applying the set transformation\n",
    "set_of_lemmas = [*set(list_of_lemmas)]\n",
    "\n",
    "## sort alphabetically\n",
    "set_of_lemmas.sort()\n",
    "\n",
    "##length\n",
    "length = len(set_of_lemmas)\n",
    "\n",
    "##print\n",
    "print(set_of_lemmas)\n",
    "print(length)"
   ]
  },
  {
   "cell_type": "code",
   "execution_count": 34,
   "metadata": {
    "id": "jIjJX_Xh8wtw"
   },
   "outputs": [
    {
     "name": "stdout",
     "output_type": "stream",
     "text": [
      "Synset('anger.n.01') a strong emotion; a feeling that is oriented toward some real or supposed grievance\n",
      "Synset('annoyance.n.02') anger produced by some annoying irritation\n",
      "Synset('bad_temper.n.01') a persisting angry mood\n",
      "Synset('dander.n.02') a feeling of anger and animosity\n",
      "Synset('fury.n.01') a feeling of intense anger\n",
      "Synset('huffiness.n.01') a passing state of anger and resentment\n",
      "Synset('indignation.n.01') a feeling of righteous anger\n",
      "Synset('infuriation.n.01') a feeling of intense anger\n",
      "Synset('umbrage.n.01') a feeling of anger caused by being offended\n",
      "Synset('aggravation.n.01') an exasperated feeling of annoyance\n",
      "Synset('displeasure.n.01') the feeling of being displeased or annoyed or dissatisfied with someone or something\n",
      "Synset('frustration.n.03') a feeling of annoyance at being hindered or criticized\n",
      "Synset('harassment.n.01') a feeling of intense annoyance caused by being tormented\n",
      "Synset('pique.n.02') a sudden outburst of anger\n",
      "Synset('fit.n.01') a display of bad temper\n",
      "Synset('irascibility.n.01') a feeling of resentful anger\n",
      "Synset('lividity.n.01') a state of fury so great the face becomes discolored\n",
      "Synset('wrath.n.01') intense anger (usually on an epic scale)\n",
      "Synset('dudgeon.n.01') a feeling of intense indignation (now used only in the phrase `in high dudgeon')\n",
      "Synset('anger.n.02') the state of being angry\n",
      "Synset('rage.n.02') a state of extreme anger\n",
      "Synset('wrath.n.02') belligerence aroused by a real or supposed wrong (personified as one of the deadly sins)\n",
      "Synset('anger.v.01') make angry\n",
      "Synset('combust.v.04') cause to become violent or angry\n",
      "Synset('enrage.v.01') put into a rage; make violently angry\n",
      "Synset('exacerbate.v.02') exasperate or irritate\n",
      "Synset('gall.v.02') irritate or vex\n",
      "Synset('infuriate.v.01') make furious\n",
      "Synset('madden.v.03') make mad\n",
      "Synset('miff.v.01') cause to be annoyed\n",
      "Synset('pique.v.01') cause to feel resentment or indignation\n",
      "Synset('anger.v.02') become angry\n",
      "Synset('bridle.v.01') anger or take offense\n",
      "Synset('raise_the_roof.v.01') get very angry\n",
      "Synset('steam.v.04') get very angry\n",
      "['aggravate', 'aggravation', 'anger', 'angriness', 'annoyance', 'bad_temper', 'bridle', 'chafe', 'choler', 'combust', 'conniption', 'dander', 'displeasure', 'dudgeon', 'enrage', 'enragement', 'exacerbate', 'exasperate', 'exasperation', 'fit', 'frustration', 'fury', 'gall', 'hackles', 'harassment', 'high_dudgeon', 'huffiness', 'ill_temper', 'incense', 'indignation', 'infuriate', 'infuriation', 'ira', 'irascibility', 'ire', 'irk', 'irritation', 'lividity', 'madden', 'madness', 'miff', 'offence', 'offend', 'offense', 'outrage', 'pique', 'quick_temper', 'rage', 'raise_the_roof', 'scene', 'see_red', 'short_temper', 'spleen', 'steam', 'tantrum', 'temper', 'torment', 'umbrage', 'vexation', 'wrath']\n",
      "60\n"
     ]
    }
   ],
   "source": [
    "## re-wite with simpler loops and filters\n",
    "\n",
    "## free parameters, seed word and language\n",
    "seed_word = \"anger\"\n",
    "language = \"eng\"\n",
    "\n",
    "## we create an empty list to store the final word list\n",
    "list_of_lemmas = []\n",
    "\n",
    "## a function to add a word to a list\n",
    "add_to_list = lambda list1, item1: list1.append(item1)\n",
    "\n",
    "## a function to return the hyponyms of a synset\n",
    "hypos = lambda s: s.hyponyms()\n",
    "\n",
    "## wn.synset obtains the list of synonyms and meanings for that word, in different syntactic categories\n",
    "meanings = wn.synsets(seed_word, pos=wn.NOUN + wn.VERB + wn.ADJ)\n",
    "\n",
    "## loop over set of meanings in synset\n",
    "for meaning in meanings:\n",
    "\n",
    "    ## print the definition of that meaning\n",
    "    print(meaning, meaning.definition())\n",
    "\n",
    "    ## append all synonyms (lemmas()) of that meaning to the list_of_lemmas\n",
    "    [add_to_list(list_of_lemmas, lemma.name()) for lemma in meaning.lemmas(language)]\n",
    "\n",
    "    ## loop over the list of all possible hyponyms\n",
    "    for hyponym in meaning.closure(hypos):\n",
    "\n",
    "        ## print the definition of each hyponym\n",
    "        print(hyponym, hyponym.definition())\n",
    "\n",
    "        ## append all synonyms (lemmas()) of that hyponym to the list_of_lemmas\n",
    "        [\n",
    "            add_to_list(list_of_lemmas, lemma.name())\n",
    "            for lemma in hyponym.lemmas(language)\n",
    "        ]\n",
    "\n",
    "##eliminate list duplations by applying the set transformation\n",
    "set_of_lemmas = [*set(list_of_lemmas)]\n",
    "\n",
    "## sort alphabetically\n",
    "set_of_lemmas.sort()\n",
    "\n",
    "##length\n",
    "length = len(set_of_lemmas)\n",
    "\n",
    "##print\n",
    "print(set_of_lemmas)\n",
    "print(length)"
   ]
  },
  {
   "cell_type": "markdown",
   "metadata": {
    "id": "EJZUfj0XHIFS"
   },
   "source": [
    "#### 2.1 Exercise. Write the previous cell as a def function, and use the function to obtain a list of words of all terms related to joy\n",
    "\n",
    "#### call should be like generate_word_list(seed_word, language)"
   ]
  },
  {
   "cell_type": "code",
   "execution_count": 35,
   "metadata": {
    "id": "blzWIyZ6MQCM"
   },
   "outputs": [],
   "source": [
    "def generate_word_list(seed_word, language):\n",
    "\n",
    "    ## we create an empty list to store the final word list\n",
    "    list_of_lemmas = []\n",
    "\n",
    "    ## a function to add a word to a list\n",
    "    add_to_list = lambda list1, item1: list1.append(item1)\n",
    "\n",
    "    ## a function to return the hyponyms of a synset\n",
    "    hypos = lambda s: s.hyponyms()\n",
    "\n",
    "    ## wn.synset obtains the list of synonyms and meanings for that word, in different syntactic categories\n",
    "    meanings = wn.synsets(word, pos=wn.NOUN + wn.VERB + wn.ADJ)\n",
    "\n",
    "    ## loop over set of meanings in synset\n",
    "    for meaning in meanings:\n",
    "\n",
    "        ## print the definition of that meaning, depicts the base word .name() for each lemma in the meaning list\n",
    "        print(\n",
    "            meaning,\n",
    "            meaning.definition(),\n",
    "            [lemma.name() for lemma in meaning.lemmas(language)],\n",
    "        )\n",
    "\n",
    "        ## append all synonyms (lemmas()) of that meaning to the list_of_lemmas\n",
    "        [\n",
    "            add_to_list(list_of_lemmas, lemma.name())\n",
    "            for lemma in meaning.lemmas(language)\n",
    "        ]\n",
    "\n",
    "        ## loop over the list of all possible hyponyms\n",
    "        for hyponym in meaning.closure(hypos):\n",
    "\n",
    "            ## print the definition of each hyponym, depicts the base word .name() for each lemma in the hyponym list\n",
    "            print(\n",
    "                hyponym,\n",
    "                hyponym.definition(),\n",
    "                [lemma.name() for lemma in hyponym.lemmas(language)],\n",
    "            )\n",
    "\n",
    "            ## append all synonyms (lemmas()) of that hyponym to the list_of_lemmas\n",
    "            [\n",
    "                add_to_list(list_of_lemmas, lemma.name())\n",
    "                for lemma in hyponym.lemmas(language)\n",
    "            ]\n",
    "\n",
    "    ##eliminate list duplations by applying the set transformation\n",
    "    set_of_lemmas = [*set(list_of_lemmas)]\n",
    "\n",
    "    ## sort alphabetically\n",
    "    set_of_lemmas.sort()\n",
    "\n",
    "    ##length\n",
    "    length = len(set_of_lemmas)\n",
    "\n",
    "    return (list_of_lemmas, length)"
   ]
  },
  {
   "cell_type": "code",
   "execution_count": 36,
   "metadata": {
    "id": "Xmqoxv6QMpoO"
   },
   "outputs": [
    {
     "name": "stdout",
     "output_type": "stream",
     "text": [
      "Synset('joy.n.01') the emotion of great happiness ['joy', 'joyousness', 'joyfulness']\n",
      "Synset('elation.n.02') a feeling of joy and pride ['elation', 'high_spirits', 'lightness']\n",
      "Synset('exhilaration.n.01') the feeling of lively and cheerful joy ['exhilaration', 'excitement']\n",
      "Synset('exuberance.n.01') joyful enthusiasm ['exuberance']\n",
      "Synset('exultation.n.01') a feeling of extreme joy ['exultation', 'jubilance', 'jubilancy', 'jubilation']\n",
      "Synset('euphoria.n.01') a feeling of great (usually exaggerated) elation ['euphoria', 'euphory']\n",
      "Synset('bang.n.04') the swift release of a store of affective force ['bang', 'boot', 'charge', 'rush', 'flush', 'thrill', 'kick']\n",
      "Synset('intoxication.n.03') excitement and elation beyond the bounds of sobriety ['intoxication']\n",
      "Synset('titillation.n.01') a tingling feeling of excitement (as from teasing or tickling) ['titillation']\n",
      "Synset('triumph.n.02') the exultation of victory ['triumph']\n",
      "Synset('joy.n.02') something or someone that provides a source of happiness ['joy', 'delight', 'pleasure']\n",
      "Synset('rejoice.v.01') feel happiness or joy ['rejoice', 'joy']\n",
      "Synset('cheer.v.04') become cheerful ['cheer', 'cheer_up', 'chirk_up']\n",
      "Synset('exult.v.01') feel extreme happiness or elation ['exult', 'walk_on_air', 'be_on_cloud_nine', 'jump_for_joy']\n",
      "Synset('gladden.v.02') become glad or happy ['gladden']\n",
      "Synset('exuberate.v.01') to express great joy ['exuberate', 'exult', 'rejoice', 'triumph', 'jubilate']\n",
      "Synset('lighten.v.03') become more cheerful ['lighten', 'lighten_up', 'buoy_up']\n",
      "Synset('wallow.v.04') be ecstatic with joy ['wallow', 'rejoice', 'triumph']\n",
      "Synset('glory.v.01') rejoice proudly ['glory']\n",
      "Synset('gladden.v.01') make glad or happy ['gladden', 'joy']\n",
      "Synset('overjoy.v.01') cause to feel extremely joyful or happy ['overjoy']\n",
      "['joy', 'joyousness', 'joyfulness', 'elation', 'high_spirits', 'lightness', 'exhilaration', 'excitement', 'exuberance', 'exultation', 'jubilance', 'jubilancy', 'jubilation', 'euphoria', 'euphory', 'bang', 'boot', 'charge', 'rush', 'flush', 'thrill', 'kick', 'intoxication', 'titillation', 'triumph', 'joy', 'delight', 'pleasure', 'rejoice', 'joy', 'cheer', 'cheer_up', 'chirk_up', 'exult', 'walk_on_air', 'be_on_cloud_nine', 'jump_for_joy', 'gladden', 'exuberate', 'exult', 'rejoice', 'triumph', 'jubilate', 'lighten', 'lighten_up', 'buoy_up', 'wallow', 'rejoice', 'triumph', 'glory', 'gladden', 'joy', 'overjoy']\n",
      "44\n"
     ]
    }
   ],
   "source": [
    "## free parameters, seed word and language\n",
    "word = \"joy\"\n",
    "language = \"eng\"\n",
    "\n",
    "##execute\n",
    "list_words, length = generate_word_list(seed_word, language)\n",
    "print(list_words)\n",
    "print(length)"
   ]
  },
  {
   "cell_type": "code",
   "execution_count": 37,
   "metadata": {
    "id": "pbAq5_10KKGE"
   },
   "outputs": [],
   "source": [
    "def generate_word_list(seed_word, language):\n",
    "\n",
    "    ## we create an empty list to store the final word list\n",
    "    list_of_lemmas = []\n",
    "    list_of_meanings = []\n",
    "\n",
    "    ## a function to add a word to a list\n",
    "    add_to_list = lambda list1, item1: list1.append(item1)\n",
    "\n",
    "    ## a function to return the hyponyms of a synset\n",
    "    hypos = lambda s: s.hyponyms()\n",
    "\n",
    "    ## wn.synset obtains the list of synonyms and meanings for that word, in different syntactic categories\n",
    "    meanings = wn.synsets(word, pos=wn.NOUN + wn.VERB + wn.ADJ)\n",
    "\n",
    "    ## loop over set of meanings in synset\n",
    "    for meaning in meanings:\n",
    "\n",
    "        ## print the definition of that meaning\n",
    "        print(\n",
    "            meaning,\n",
    "            meaning.definition(),\n",
    "            [lemma.name() for lemma in meaning.lemmas(language)],\n",
    "        )\n",
    "        list_of_meanings += [\n",
    "            [\n",
    "                meaning,\n",
    "                meaning.definition(),\n",
    "                [lemma.name() for lemma in meaning.lemmas(language)],\n",
    "            ]\n",
    "        ]\n",
    "\n",
    "        ## append all synonyms (lemmas()) of that meaning to the list_of_lemmas\n",
    "        [\n",
    "            add_to_list(list_of_lemmas, lemma.name())\n",
    "            for lemma in meaning.lemmas(language)\n",
    "        ]\n",
    "\n",
    "        ## loop over the list of all possible hyponyms\n",
    "        for hyponym in meaning.closure(hypos):\n",
    "\n",
    "            ## print the definition of each hyponym\n",
    "            print(\n",
    "                hyponym,\n",
    "                hyponym.definition(),\n",
    "                [lemma.name() for lemma in hyponym.lemmas(language)],\n",
    "            )\n",
    "            list_of_meanings += [\n",
    "                [\n",
    "                    hyponym,\n",
    "                    hyponym.definition(),\n",
    "                    [lemma.name() for lemma in hyponym.lemmas(language)],\n",
    "                ]\n",
    "            ]\n",
    "\n",
    "            ## append all synonyms (lemmas()) of that hyponym to the list_of_lemmas\n",
    "            [\n",
    "                add_to_list(list_of_lemmas, lemma.name())\n",
    "                for lemma in hyponym.lemmas(language)\n",
    "            ]\n",
    "\n",
    "    ##eliminate list duplations by applying the set transformation\n",
    "    set_of_lemmas = [*set(list_of_lemmas)]\n",
    "\n",
    "    ## sort alphabetically\n",
    "    set_of_lemmas.sort()\n",
    "\n",
    "    ##length\n",
    "    length = len(set_of_lemmas)\n",
    "\n",
    "    return (list_of_lemmas, length, list_of_meanings)"
   ]
  },
  {
   "cell_type": "code",
   "execution_count": 38,
   "metadata": {
    "id": "qThpYMayK6yH"
   },
   "outputs": [
    {
     "name": "stdout",
     "output_type": "stream",
     "text": [
      "Synset('joy.n.01') the emotion of great happiness ['joy', 'joyousness', 'joyfulness']\n",
      "Synset('elation.n.02') a feeling of joy and pride ['elation', 'high_spirits', 'lightness']\n",
      "Synset('exhilaration.n.01') the feeling of lively and cheerful joy ['exhilaration', 'excitement']\n",
      "Synset('exuberance.n.01') joyful enthusiasm ['exuberance']\n",
      "Synset('exultation.n.01') a feeling of extreme joy ['exultation', 'jubilance', 'jubilancy', 'jubilation']\n",
      "Synset('euphoria.n.01') a feeling of great (usually exaggerated) elation ['euphoria', 'euphory']\n",
      "Synset('bang.n.04') the swift release of a store of affective force ['bang', 'boot', 'charge', 'rush', 'flush', 'thrill', 'kick']\n",
      "Synset('intoxication.n.03') excitement and elation beyond the bounds of sobriety ['intoxication']\n",
      "Synset('titillation.n.01') a tingling feeling of excitement (as from teasing or tickling) ['titillation']\n",
      "Synset('triumph.n.02') the exultation of victory ['triumph']\n",
      "Synset('joy.n.02') something or someone that provides a source of happiness ['joy', 'delight', 'pleasure']\n",
      "Synset('rejoice.v.01') feel happiness or joy ['rejoice', 'joy']\n",
      "Synset('cheer.v.04') become cheerful ['cheer', 'cheer_up', 'chirk_up']\n",
      "Synset('exult.v.01') feel extreme happiness or elation ['exult', 'walk_on_air', 'be_on_cloud_nine', 'jump_for_joy']\n",
      "Synset('gladden.v.02') become glad or happy ['gladden']\n",
      "Synset('exuberate.v.01') to express great joy ['exuberate', 'exult', 'rejoice', 'triumph', 'jubilate']\n",
      "Synset('lighten.v.03') become more cheerful ['lighten', 'lighten_up', 'buoy_up']\n",
      "Synset('wallow.v.04') be ecstatic with joy ['wallow', 'rejoice', 'triumph']\n",
      "Synset('glory.v.01') rejoice proudly ['glory']\n",
      "Synset('gladden.v.01') make glad or happy ['gladden', 'joy']\n",
      "Synset('overjoy.v.01') cause to feel extremely joyful or happy ['overjoy']\n",
      "[[Synset('joy.n.01'), 'the emotion of great happiness', ['joy', 'joyousness', 'joyfulness']], [Synset('elation.n.02'), 'a feeling of joy and pride', ['elation', 'high_spirits', 'lightness']], [Synset('exhilaration.n.01'), 'the feeling of lively and cheerful joy', ['exhilaration', 'excitement']], [Synset('exuberance.n.01'), 'joyful enthusiasm', ['exuberance']], [Synset('exultation.n.01'), 'a feeling of extreme joy', ['exultation', 'jubilance', 'jubilancy', 'jubilation']], [Synset('euphoria.n.01'), 'a feeling of great (usually exaggerated) elation', ['euphoria', 'euphory']], [Synset('bang.n.04'), 'the swift release of a store of affective force', ['bang', 'boot', 'charge', 'rush', 'flush', 'thrill', 'kick']], [Synset('intoxication.n.03'), 'excitement and elation beyond the bounds of sobriety', ['intoxication']], [Synset('titillation.n.01'), 'a tingling feeling of excitement (as from teasing or tickling)', ['titillation']], [Synset('triumph.n.02'), 'the exultation of victory', ['triumph']], [Synset('joy.n.02'), 'something or someone that provides a source of happiness', ['joy', 'delight', 'pleasure']], [Synset('rejoice.v.01'), 'feel happiness or joy', ['rejoice', 'joy']], [Synset('cheer.v.04'), 'become cheerful', ['cheer', 'cheer_up', 'chirk_up']], [Synset('exult.v.01'), 'feel extreme happiness or elation', ['exult', 'walk_on_air', 'be_on_cloud_nine', 'jump_for_joy']], [Synset('gladden.v.02'), 'become glad or happy', ['gladden']], [Synset('exuberate.v.01'), 'to express great joy', ['exuberate', 'exult', 'rejoice', 'triumph', 'jubilate']], [Synset('lighten.v.03'), 'become more cheerful', ['lighten', 'lighten_up', 'buoy_up']], [Synset('wallow.v.04'), 'be ecstatic with joy', ['wallow', 'rejoice', 'triumph']], [Synset('glory.v.01'), 'rejoice proudly', ['glory']], [Synset('gladden.v.01'), 'make glad or happy', ['gladden', 'joy']], [Synset('overjoy.v.01'), 'cause to feel extremely joyful or happy', ['overjoy']]]\n"
     ]
    }
   ],
   "source": [
    "## free parameters, seed word and language\n",
    "word = \"joy\"\n",
    "language = \"eng\"\n",
    "\n",
    "##execute\n",
    "list_words, length, list_meanings = generate_word_list(seed_word, language)\n",
    "print(list_meanings)"
   ]
  },
  {
   "cell_type": "code",
   "execution_count": 39,
   "metadata": {
    "id": "5cOtpmKTPMBf"
   },
   "outputs": [],
   "source": [
    "## decide which meanings to keep and which to remove\n",
    "## this function iterates over the set of meanings\n",
    "## for each meaning we are asked to type 1 if we want to keep the meaning, otherwise is not kept\n",
    "## the input is a list of meanings\n",
    "\n",
    "\n",
    "def select_meanings(list_meanings):\n",
    "\n",
    "    ## an empty list for the final selected words\n",
    "    selected_word_list = []\n",
    "\n",
    "    ## we print the length of the list for reference - how long is it\n",
    "    print(\"the list has:\", len(list_meanings), \"items\")\n",
    "\n",
    "    ## we set a counter to know where in the list we arre\n",
    "    count = 0\n",
    "\n",
    "    ##loop over the list\n",
    "    for item in list_meanings:\n",
    "\n",
    "        ## update the count\n",
    "        count += 1\n",
    "\n",
    "        ## print the count and the item\n",
    "        print(count, item)\n",
    "\n",
    "        ## print an instruction\n",
    "        print(\"type 1 if the meaning is adequate, 0 otherwise\")\n",
    "\n",
    "        ## collect the response using input\n",
    "        x = input()\n",
    "\n",
    "        ##if response is 1, add the words in the item to the final list\n",
    "        if x == \"1\":\n",
    "            selected_word_list += item[2]\n",
    "\n",
    "        ##otherwise continue the loop\n",
    "        else:\n",
    "            continue\n",
    "\n",
    "    return selected_word_list"
   ]
  },
  {
   "cell_type": "code",
   "execution_count": 40,
   "metadata": {
    "id": "5k4RK0z4QLvK"
   },
   "outputs": [
    {
     "name": "stdout",
     "output_type": "stream",
     "text": [
      "the list has: 21 items\n",
      "1 [Synset('joy.n.01'), 'the emotion of great happiness', ['joy', 'joyousness', 'joyfulness']]\n",
      "type 1 if the meaning is adequate, 0 otherwise\n"
     ]
    },
    {
     "name": "stdin",
     "output_type": "stream",
     "text": [
      " 1\n"
     ]
    },
    {
     "name": "stdout",
     "output_type": "stream",
     "text": [
      "2 [Synset('elation.n.02'), 'a feeling of joy and pride', ['elation', 'high_spirits', 'lightness']]\n",
      "type 1 if the meaning is adequate, 0 otherwise\n"
     ]
    },
    {
     "name": "stdin",
     "output_type": "stream",
     "text": [
      " 1\n"
     ]
    },
    {
     "name": "stdout",
     "output_type": "stream",
     "text": [
      "3 [Synset('exhilaration.n.01'), 'the feeling of lively and cheerful joy', ['exhilaration', 'excitement']]\n",
      "type 1 if the meaning is adequate, 0 otherwise\n"
     ]
    },
    {
     "name": "stdin",
     "output_type": "stream",
     "text": [
      " 0\n"
     ]
    },
    {
     "name": "stdout",
     "output_type": "stream",
     "text": [
      "4 [Synset('exuberance.n.01'), 'joyful enthusiasm', ['exuberance']]\n",
      "type 1 if the meaning is adequate, 0 otherwise\n"
     ]
    },
    {
     "name": "stdin",
     "output_type": "stream",
     "text": [
      " 0\n"
     ]
    },
    {
     "name": "stdout",
     "output_type": "stream",
     "text": [
      "5 [Synset('exultation.n.01'), 'a feeling of extreme joy', ['exultation', 'jubilance', 'jubilancy', 'jubilation']]\n",
      "type 1 if the meaning is adequate, 0 otherwise\n"
     ]
    },
    {
     "name": "stdin",
     "output_type": "stream",
     "text": [
      " 1\n"
     ]
    },
    {
     "name": "stdout",
     "output_type": "stream",
     "text": [
      "6 [Synset('euphoria.n.01'), 'a feeling of great (usually exaggerated) elation', ['euphoria', 'euphory']]\n",
      "type 1 if the meaning is adequate, 0 otherwise\n"
     ]
    },
    {
     "name": "stdin",
     "output_type": "stream",
     "text": [
      " 1\n"
     ]
    },
    {
     "name": "stdout",
     "output_type": "stream",
     "text": [
      "7 [Synset('bang.n.04'), 'the swift release of a store of affective force', ['bang', 'boot', 'charge', 'rush', 'flush', 'thrill', 'kick']]\n",
      "type 1 if the meaning is adequate, 0 otherwise\n"
     ]
    },
    {
     "name": "stdin",
     "output_type": "stream",
     "text": [
      " 0\n"
     ]
    },
    {
     "name": "stdout",
     "output_type": "stream",
     "text": [
      "8 [Synset('intoxication.n.03'), 'excitement and elation beyond the bounds of sobriety', ['intoxication']]\n",
      "type 1 if the meaning is adequate, 0 otherwise\n"
     ]
    },
    {
     "name": "stdin",
     "output_type": "stream",
     "text": [
      " 0\n"
     ]
    },
    {
     "name": "stdout",
     "output_type": "stream",
     "text": [
      "9 [Synset('titillation.n.01'), 'a tingling feeling of excitement (as from teasing or tickling)', ['titillation']]\n",
      "type 1 if the meaning is adequate, 0 otherwise\n"
     ]
    },
    {
     "name": "stdin",
     "output_type": "stream",
     "text": [
      " 0\n"
     ]
    },
    {
     "name": "stdout",
     "output_type": "stream",
     "text": [
      "10 [Synset('triumph.n.02'), 'the exultation of victory', ['triumph']]\n",
      "type 1 if the meaning is adequate, 0 otherwise\n"
     ]
    },
    {
     "name": "stdin",
     "output_type": "stream",
     "text": [
      " 0\n"
     ]
    },
    {
     "name": "stdout",
     "output_type": "stream",
     "text": [
      "11 [Synset('joy.n.02'), 'something or someone that provides a source of happiness', ['joy', 'delight', 'pleasure']]\n",
      "type 1 if the meaning is adequate, 0 otherwise\n"
     ]
    },
    {
     "name": "stdin",
     "output_type": "stream",
     "text": [
      " 0\n"
     ]
    },
    {
     "name": "stdout",
     "output_type": "stream",
     "text": [
      "12 [Synset('rejoice.v.01'), 'feel happiness or joy', ['rejoice', 'joy']]\n",
      "type 1 if the meaning is adequate, 0 otherwise\n"
     ]
    },
    {
     "name": "stdin",
     "output_type": "stream",
     "text": [
      " 0\n"
     ]
    },
    {
     "name": "stdout",
     "output_type": "stream",
     "text": [
      "13 [Synset('cheer.v.04'), 'become cheerful', ['cheer', 'cheer_up', 'chirk_up']]\n",
      "type 1 if the meaning is adequate, 0 otherwise\n"
     ]
    },
    {
     "name": "stdin",
     "output_type": "stream",
     "text": [
      " 0\n"
     ]
    },
    {
     "name": "stdout",
     "output_type": "stream",
     "text": [
      "14 [Synset('exult.v.01'), 'feel extreme happiness or elation', ['exult', 'walk_on_air', 'be_on_cloud_nine', 'jump_for_joy']]\n",
      "type 1 if the meaning is adequate, 0 otherwise\n"
     ]
    },
    {
     "name": "stdin",
     "output_type": "stream",
     "text": [
      " 0\n"
     ]
    },
    {
     "name": "stdout",
     "output_type": "stream",
     "text": [
      "15 [Synset('gladden.v.02'), 'become glad or happy', ['gladden']]\n",
      "type 1 if the meaning is adequate, 0 otherwise\n"
     ]
    },
    {
     "name": "stdin",
     "output_type": "stream",
     "text": [
      " 0\n"
     ]
    },
    {
     "name": "stdout",
     "output_type": "stream",
     "text": [
      "16 [Synset('exuberate.v.01'), 'to express great joy', ['exuberate', 'exult', 'rejoice', 'triumph', 'jubilate']]\n",
      "type 1 if the meaning is adequate, 0 otherwise\n"
     ]
    },
    {
     "name": "stdin",
     "output_type": "stream",
     "text": [
      " 0\n"
     ]
    },
    {
     "name": "stdout",
     "output_type": "stream",
     "text": [
      "17 [Synset('lighten.v.03'), 'become more cheerful', ['lighten', 'lighten_up', 'buoy_up']]\n",
      "type 1 if the meaning is adequate, 0 otherwise\n"
     ]
    },
    {
     "name": "stdin",
     "output_type": "stream",
     "text": [
      " 0\n"
     ]
    },
    {
     "name": "stdout",
     "output_type": "stream",
     "text": [
      "18 [Synset('wallow.v.04'), 'be ecstatic with joy', ['wallow', 'rejoice', 'triumph']]\n",
      "type 1 if the meaning is adequate, 0 otherwise\n"
     ]
    },
    {
     "name": "stdin",
     "output_type": "stream",
     "text": [
      " 0\n"
     ]
    },
    {
     "name": "stdout",
     "output_type": "stream",
     "text": [
      "19 [Synset('glory.v.01'), 'rejoice proudly', ['glory']]\n",
      "type 1 if the meaning is adequate, 0 otherwise\n"
     ]
    },
    {
     "name": "stdin",
     "output_type": "stream",
     "text": [
      " 0\n"
     ]
    },
    {
     "name": "stdout",
     "output_type": "stream",
     "text": [
      "20 [Synset('gladden.v.01'), 'make glad or happy', ['gladden', 'joy']]\n",
      "type 1 if the meaning is adequate, 0 otherwise\n"
     ]
    },
    {
     "name": "stdin",
     "output_type": "stream",
     "text": [
      " 0\n"
     ]
    },
    {
     "name": "stdout",
     "output_type": "stream",
     "text": [
      "21 [Synset('overjoy.v.01'), 'cause to feel extremely joyful or happy', ['overjoy']]\n",
      "type 1 if the meaning is adequate, 0 otherwise\n"
     ]
    },
    {
     "name": "stdin",
     "output_type": "stream",
     "text": [
      " 0\n"
     ]
    }
   ],
   "source": [
    "## execture the function\n",
    "filtered_list = select_meanings(list_meanings)"
   ]
  },
  {
   "cell_type": "code",
   "execution_count": 41,
   "metadata": {
    "id": "zxdtGPw0S7Lw"
   },
   "outputs": [
    {
     "name": "stdout",
     "output_type": "stream",
     "text": [
      "['joy', 'joyousness', 'joyfulness', 'elation', 'high_spirits', 'lightness', 'exultation', 'jubilance', 'jubilancy', 'jubilation', 'euphoria', 'euphory']\n"
     ]
    }
   ],
   "source": [
    "## print the final list\n",
    "print(filtered_list)"
   ]
  },
  {
   "cell_type": "code",
   "execution_count": 42,
   "metadata": {
    "id": "Uv23QFKCKJG4"
   },
   "outputs": [],
   "source": [
    "#\n",
    "#\n",
    "#"
   ]
  }
 ],
 "metadata": {
  "colab": {
   "collapsed_sections": [],
   "provenance": []
  },
  "kernelspec": {
   "display_name": "Python 3 (ipykernel)",
   "language": "python",
   "name": "python3"
  },
  "language_info": {
   "codemirror_mode": {
    "name": "ipython",
    "version": 3
   },
   "file_extension": ".py",
   "mimetype": "text/x-python",
   "name": "python",
   "nbconvert_exporter": "python",
   "pygments_lexer": "ipython3",
   "version": "3.9.13"
  }
 },
 "nbformat": 4,
 "nbformat_minor": 4
}
