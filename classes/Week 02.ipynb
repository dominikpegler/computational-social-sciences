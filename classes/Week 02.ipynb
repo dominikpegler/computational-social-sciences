{
 "cells": [
  {
   "cell_type": "markdown",
   "metadata": {
    "id": "wi8jpDEHZ0yo"
   },
   "source": [
    "# Welcome to Colab, an online Python editor, that can be shared with other *people*"
   ]
  },
  {
   "cell_type": "markdown",
   "metadata": {
    "id": "BhJ1K-pMaGxI"
   },
   "source": [
    "## 1. In the first part we will refresh some simple concepts from Python, such as variables, numbers, strings, lists, loops, modules and functions.\n"
   ]
  },
  {
   "cell_type": "markdown",
   "metadata": {
    "id": "jd2AoyUgjI4Y"
   },
   "source": [
    "## 1.1 Numbers\n"
   ]
  },
  {
   "cell_type": "code",
   "execution_count": 1,
   "metadata": {
    "id": "uxyYtZHhasYH"
   },
   "outputs": [
    {
     "name": "stdout",
     "output_type": "stream",
     "text": [
      "12.5\n"
     ]
    }
   ],
   "source": [
    "## numbers\n",
    "\n",
    "n = 12.5\n",
    "\n",
    "print(n)"
   ]
  },
  {
   "cell_type": "code",
   "execution_count": 2,
   "metadata": {
    "id": "d75TIt9UabMZ"
   },
   "outputs": [
    {
     "name": "stdout",
     "output_type": "stream",
     "text": [
      "12\n"
     ]
    }
   ],
   "source": [
    "## integers\n",
    "\n",
    "integer = int(n)\n",
    "\n",
    "print(integer)"
   ]
  },
  {
   "cell_type": "code",
   "execution_count": 3,
   "metadata": {
    "id": "S-sXgebLaPfz"
   },
   "outputs": [
    {
     "name": "stdout",
     "output_type": "stream",
     "text": [
      "this is the rounded number: 12\n"
     ]
    }
   ],
   "source": [
    "## integers\n",
    "\n",
    "integer = int(n)\n",
    "\n",
    "print('this is the rounded number:', integer)"
   ]
  },
  {
   "cell_type": "code",
   "execution_count": 4,
   "metadata": {
    "id": "Sn2xTWJ5aMwf"
   },
   "outputs": [
    {
     "name": "stdout",
     "output_type": "stream",
     "text": [
      "this is the rounded number: 3.1416\n"
     ]
    }
   ],
   "source": [
    "## numbers\n",
    "pi = 3.14159265359\n",
    "\n",
    "rounded_pi = round(pi, 4)\n",
    "\n",
    "print('this is the rounded number:', rounded_pi)"
   ]
  },
  {
   "cell_type": "code",
   "execution_count": 5,
   "metadata": {
    "id": "l-qsSWPfaEsb"
   },
   "outputs": [
    {
     "name": "stdout",
     "output_type": "stream",
     "text": [
      "sum: 15.64159265359\n",
      "subtration: 9.35840734641\n",
      "multiplication: 39.269908169875\n",
      "division: 3.9788735772971213\n",
      "division_floor: 3.0\n",
      "exponent: 2792.829598613804\n"
     ]
    }
   ],
   "source": [
    "## do operations with numbers\n",
    "\n",
    "n = 12.5\n",
    "pi = 3.14159265359\n",
    "\n",
    "\n",
    "sum = n + pi\n",
    "subtration = n - pi\n",
    "multiplication = n * pi\n",
    "division = n / pi\n",
    "division_floor = n // pi\n",
    "exponent = n ** pi\n",
    "\n",
    "print('sum:', sum)\n",
    "print('subtration:', subtration)\n",
    "print('multiplication:', multiplication)\n",
    "print('division:', division)\n",
    "print('division_floor:', division_floor)\n",
    "print('exponent:', exponent)"
   ]
  },
  {
   "cell_type": "code",
   "execution_count": 6,
   "metadata": {
    "id": "aTLNQgOXZuui"
   },
   "outputs": [
    {
     "name": "stdout",
     "output_type": "stream",
     "text": [
      "2 2\n"
     ]
    }
   ],
   "source": [
    "## absolute value\n",
    "\n",
    "positive_number = 2\n",
    "negative_number = -2\n",
    "\n",
    "absolute_1 = abs(positive_number)\n",
    "absolute_2 = abs(negative_number)\n",
    "\n",
    "print(absolute_1, absolute_2)"
   ]
  },
  {
   "cell_type": "code",
   "execution_count": 7,
   "metadata": {
    "id": "r27fZbPnkokz"
   },
   "outputs": [
    {
     "name": "stdout",
     "output_type": "stream",
     "text": [
      "-5.8\n",
      "0.7999999999999998\n"
     ]
    }
   ],
   "source": [
    "## using parentheses to combine operations\n",
    "a = 3.3\n",
    "b = 2.5\n",
    "c =-1\n",
    "\n",
    "division_of_the_sum = (a+b)/c\n",
    "\n",
    "sum_of_the_division = a+(b/c)\n",
    "\n",
    "print(division_of_the_sum)\n",
    "print(sum_of_the_division)"
   ]
  },
  {
   "cell_type": "code",
   "execution_count": 8,
   "metadata": {
    "id": "E54EWTV-mBQ4"
   },
   "outputs": [
    {
     "name": "stdout",
     "output_type": "stream",
     "text": [
      "integer: -5\n"
     ]
    }
   ],
   "source": [
    "## integer of the division of the sum\n",
    "\n",
    "division_of_the_sum = int((a+b)/c)\n",
    "print(\"integer:\",division_of_the_sum)"
   ]
  },
  {
   "cell_type": "code",
   "execution_count": 9,
   "metadata": {
    "id": "coqdV2pHmzPK"
   },
   "outputs": [
    {
     "name": "stdout",
     "output_type": "stream",
     "text": [
      "integer: -6.0\n"
     ]
    }
   ],
   "source": [
    "division_of_the_sum_round = round( (a+b)/c, 0)\n",
    "print(\"integer:\",division_of_the_sum_round)"
   ]
  },
  {
   "cell_type": "markdown",
   "metadata": {
    "id": "ZwOe-Ro_jkNR"
   },
   "source": [
    "*1.1. exercise numbers*\n",
    "\n",
    "compute the absolute value of the division between negative 14.3 and the double of pi using variables"
   ]
  },
  {
   "cell_type": "code",
   "execution_count": 61,
   "metadata": {
    "id": "DAxLb-sokC9b"
   },
   "outputs": [
    {
     "data": {
      "text/plain": [
       "2.2770700636942673"
      ]
     },
     "execution_count": 61,
     "metadata": {},
     "output_type": "execute_result"
    }
   ],
   "source": [
    "abs(-14.3/(2*3.14))"
   ]
  },
  {
   "cell_type": "markdown",
   "metadata": {
    "id": "LhcQN7HWjYpj"
   },
   "source": [
    "## 1.2 strings"
   ]
  },
  {
   "cell_type": "code",
   "execution_count": 10,
   "metadata": {
    "id": "rX4DEh8xfwhu"
   },
   "outputs": [],
   "source": [
    "## operations with strings \n",
    "\n",
    "## Good glossary here https://www.w3schools.com/python/python_ref_string.asp\n",
    "\n",
    "string = \" THis A stRING!!  \""
   ]
  },
  {
   "cell_type": "code",
   "execution_count": 11,
   "metadata": {
    "id": "FsXTYrJmhdeL"
   },
   "outputs": [
    {
     "data": {
      "text/plain": [
       "' this a string!!  '"
      ]
     },
     "execution_count": 11,
     "metadata": {},
     "output_type": "execute_result"
    }
   ],
   "source": [
    "string.lower()"
   ]
  },
  {
   "cell_type": "code",
   "execution_count": 12,
   "metadata": {
    "id": "cz3qgrlehxU7"
   },
   "outputs": [
    {
     "data": {
      "text/plain": [
       "' THIS A STRING!!  '"
      ]
     },
     "execution_count": 12,
     "metadata": {},
     "output_type": "execute_result"
    }
   ],
   "source": [
    "string.upper()"
   ]
  },
  {
   "cell_type": "code",
   "execution_count": 13,
   "metadata": {
    "id": "q686tYISh0ts"
   },
   "outputs": [
    {
     "data": {
      "text/plain": [
       "' THis A stRING!!'"
      ]
     },
     "execution_count": 13,
     "metadata": {},
     "output_type": "execute_result"
    }
   ],
   "source": [
    "string.rstrip()"
   ]
  },
  {
   "cell_type": "code",
   "execution_count": 14,
   "metadata": {
    "id": "FOuoju5jiEcp"
   },
   "outputs": [
    {
     "data": {
      "text/plain": [
       "'THis A stRING!!'"
      ]
     },
     "execution_count": 14,
     "metadata": {},
     "output_type": "execute_result"
    }
   ],
   "source": [
    "string.strip()"
   ]
  },
  {
   "cell_type": "code",
   "execution_count": 15,
   "metadata": {
    "id": "xfZQ4OVIy2Qy"
   },
   "outputs": [
    {
     "data": {
      "text/plain": [
       "'H'"
      ]
     },
     "execution_count": 15,
     "metadata": {},
     "output_type": "execute_result"
    }
   ],
   "source": [
    "string[2]"
   ]
  },
  {
   "cell_type": "code",
   "execution_count": 16,
   "metadata": {
    "id": "-sEwlhg7y_xb"
   },
   "outputs": [
    {
     "data": {
      "text/plain": [
       "'THis'"
      ]
     },
     "execution_count": 16,
     "metadata": {},
     "output_type": "execute_result"
    }
   ],
   "source": [
    "string[1:5]"
   ]
  },
  {
   "cell_type": "markdown",
   "metadata": {
    "id": "ck3JrXOkpOzV"
   },
   "source": [
    "1.2. exercise strings\n",
    "\n",
    "lowercase string without spaces before and after"
   ]
  },
  {
   "cell_type": "code",
   "execution_count": null,
   "metadata": {
    "id": "8hhrF5Y7pfHq"
   },
   "outputs": [],
   "source": []
  },
  {
   "cell_type": "markdown",
   "metadata": {
    "id": "WwMMt53ArPBq"
   },
   "source": [
    "1.3. Operations between numbers and strings"
   ]
  },
  {
   "cell_type": "code",
   "execution_count": 17,
   "metadata": {
    "id": "7mxm-FkcrTgr"
   },
   "outputs": [
    {
     "name": "stdout",
     "output_type": "stream",
     "text": [
      "7\n"
     ]
    }
   ],
   "source": [
    "added_numbers = 3+4\n",
    "print(added_numbers)"
   ]
  },
  {
   "cell_type": "code",
   "execution_count": 18,
   "metadata": {
    "id": "NaT5AZRurpZZ"
   },
   "outputs": [
    {
     "name": "stdout",
     "output_type": "stream",
     "text": [
      "John is nice\n"
     ]
    }
   ],
   "source": [
    "concatenated_strings = 'John is ' + 'nice' \n",
    "print(concatenated_strings)"
   ]
  },
  {
   "cell_type": "code",
   "execution_count": 19,
   "metadata": {
    "id": "BOsFwU0QrjGa"
   },
   "outputs": [
    {
     "name": "stdout",
     "output_type": "stream",
     "text": [
      "34\n"
     ]
    }
   ],
   "source": [
    "added_numbers = str(3) + str(4)\n",
    "print(added_numbers)"
   ]
  },
  {
   "cell_type": "code",
   "execution_count": 22,
   "metadata": {
    "id": "flIpB1J8reYx"
   },
   "outputs": [],
   "source": [
    "num_and_str = 'John is number ' + str(1) "
   ]
  },
  {
   "cell_type": "code",
   "execution_count": 23,
   "metadata": {
    "id": "83JoMkCxsToS"
   },
   "outputs": [
    {
     "name": "stdout",
     "output_type": "stream",
     "text": [
      "John is number 1\n"
     ]
    }
   ],
   "source": [
    "num_and_str = 'John is number ' + str(1) \n",
    "print(num_and_str)"
   ]
  },
  {
   "cell_type": "code",
   "execution_count": 24,
   "metadata": {
    "id": "zGMUvAJ5sdTS"
   },
   "outputs": [
    {
     "name": "stdout",
     "output_type": "stream",
     "text": [
      "John is number 1\n"
     ]
    }
   ],
   "source": [
    "num_and_str = 'John is number ' + '1' \n",
    "print(num_and_str)"
   ]
  },
  {
   "cell_type": "markdown",
   "metadata": {
    "id": "AcgNzNm_qUxO"
   },
   "source": [
    "## 1.4. lists "
   ]
  },
  {
   "cell_type": "code",
   "execution_count": 25,
   "metadata": {
    "id": "PO18RwENqdSE"
   },
   "outputs": [
    {
     "name": "stdout",
     "output_type": "stream",
     "text": [
      "[3, 4, 5, 6, 2]\n"
     ]
    }
   ],
   "source": [
    "list_of_numbers = [3,4,5,6,2]\n",
    "print(list_of_numbers)"
   ]
  },
  {
   "cell_type": "code",
   "execution_count": 26,
   "metadata": {
    "id": "XXID_Wm2qzxR"
   },
   "outputs": [
    {
     "name": "stdout",
     "output_type": "stream",
     "text": [
      "['2', '3', '4', '5', '6']\n"
     ]
    }
   ],
   "source": [
    "list_of_strings = ['2','3','4','5','6']\n",
    "print(list_of_strings)"
   ]
  },
  {
   "cell_type": "code",
   "execution_count": 27,
   "metadata": {
    "id": "Sd8vYDXXum07"
   },
   "outputs": [
    {
     "data": {
      "text/plain": [
       "4"
      ]
     },
     "execution_count": 27,
     "metadata": {},
     "output_type": "execute_result"
    }
   ],
   "source": [
    "## access list elements\n",
    "list_of_numbers = [3,4,5,6,2]\n",
    "list_of_numbers[1]"
   ]
  },
  {
   "cell_type": "code",
   "execution_count": 28,
   "metadata": {
    "id": "UL2QJ_jrzJmR"
   },
   "outputs": [
    {
     "data": {
      "text/plain": [
       "[3, 4, 5]"
      ]
     },
     "execution_count": 28,
     "metadata": {},
     "output_type": "execute_result"
    }
   ],
   "source": [
    "## access list elements\n",
    "list_of_numbers = [3,4,5,6,2]\n",
    "list_of_numbers[:3]"
   ]
  },
  {
   "cell_type": "code",
   "execution_count": 29,
   "metadata": {
    "id": "Y-RihPLcpuZR"
   },
   "outputs": [
    {
     "name": "stdout",
     "output_type": "stream",
     "text": [
      "[3, 4, 5, 6, 2, 7]\n"
     ]
    }
   ],
   "source": [
    "## append\n",
    "new_list = list_of_numbers + [7]\n",
    "print(new_list)"
   ]
  },
  {
   "cell_type": "code",
   "execution_count": 30,
   "metadata": {
    "id": "MC-UIoeUzhEm"
   },
   "outputs": [
    {
     "name": "stdout",
     "output_type": "stream",
     "text": [
      "[2, 3, 4, 5, 6, 7]\n"
     ]
    }
   ],
   "source": [
    "## sort the list\n",
    "new_list.sort()\n",
    "print(new_list)"
   ]
  },
  {
   "cell_type": "code",
   "execution_count": 31,
   "metadata": {
    "id": "bcFedewHsBAt"
   },
   "outputs": [
    {
     "name": "stdout",
     "output_type": "stream",
     "text": [
      "['amazing', 'catharsis', 'outrageous', 'zimbabwe']\n"
     ]
    }
   ],
   "source": [
    "## sort a list of strings\n",
    "\n",
    "new_list1 = ['amazing','zimbabwe', 'outrageous', 'catharsis']\n",
    "\n",
    "new_list1.sort()\n",
    "print(new_list1)"
   ]
  },
  {
   "cell_type": "code",
   "execution_count": 32,
   "metadata": {
    "id": "MqV60OV4vGng"
   },
   "outputs": [
    {
     "name": "stdout",
     "output_type": "stream",
     "text": [
      "this list has 6 elements\n"
     ]
    }
   ],
   "source": [
    "## length len()\n",
    "\n",
    "lst_len= len(new_list)\n",
    "print(\"this list has\", lst_len ,'elements')"
   ]
  },
  {
   "cell_type": "code",
   "execution_count": 33,
   "metadata": {
    "id": "jHAUf5Kr7sHT"
   },
   "outputs": [
    {
     "data": {
      "text/plain": [
       "4"
      ]
     },
     "execution_count": 33,
     "metadata": {},
     "output_type": "execute_result"
    }
   ],
   "source": [
    "## count number of elements\n",
    "\n",
    "list_with_reps= [1,1,2,2,3,3,3,3,4,4,5]\n",
    "\n",
    "list_with_reps.count(3)"
   ]
  },
  {
   "cell_type": "code",
   "execution_count": 34,
   "metadata": {
    "id": "URotQY4e4MXP"
   },
   "outputs": [
    {
     "data": {
      "text/plain": [
       "[1, 2, 3, 4, 5]"
      ]
     },
     "execution_count": 34,
     "metadata": {},
     "output_type": "execute_result"
    }
   ],
   "source": [
    "## eliminate repetitions\n",
    "list_with_reps= [1,1,2,2,3,3,3,3,4,4,5]\n",
    "\n",
    "no_reps = [*set(list_with_reps)]\n",
    "no_reps"
   ]
  },
  {
   "cell_type": "code",
   "execution_count": 35,
   "metadata": {
    "id": "MzJPGmaB8I-b"
   },
   "outputs": [
    {
     "name": "stdout",
     "output_type": "stream",
     "text": [
      "1 5\n"
     ]
    }
   ],
   "source": [
    "## get minimum, max of list\n",
    "no_reps =[1, 2, 3, 4, 5]\n",
    "\n",
    "minimum = min(no_reps)\n",
    "maximum = max(no_reps)\n",
    "\n",
    "print(minimum, maximum)"
   ]
  },
  {
   "cell_type": "code",
   "execution_count": 36,
   "metadata": {
    "id": "RtRPnp8vinv9"
   },
   "outputs": [
    {
     "name": "stdout",
     "output_type": "stream",
     "text": [
      "[[3, 4, 5, 6, 2], [8]]\n"
     ]
    }
   ],
   "source": [
    "## lists of lists\n",
    "new_list = [list_of_numbers] + [[8]]\n",
    "print(new_list)"
   ]
  },
  {
   "cell_type": "code",
   "execution_count": 37,
   "metadata": {
    "id": "PdCZkzRI09jS"
   },
   "outputs": [
    {
     "name": "stdout",
     "output_type": "stream",
     "text": [
      "['author', 'title', 'year', 'frequency of love']\n",
      "['author', 'title', 'year', 'frequency of love', 'john burglar', 'love at first sight', '1970', '0.4']\n",
      "['author', 'title', 'year', 'frequency of love', 'john burglar', 'love at first sight', '1970', '0.4', 'amelia clandestine', 'I had to kill him', '1990', '0.1']\n"
     ]
    }
   ],
   "source": [
    "## create a list and add information sequentially\n",
    "\n",
    "## we create some information\n",
    "text_info = [\"author\",\"title\",\"year\",\"frequency of love\"]\n",
    "text1 = [\"john burglar\",\"love at first sight\",\"1970\",\"0.4\"]\n",
    "text2 = [\"amelia clandestine\",\"I had to kill him\",\"1990\",\"0.1\"]\n",
    "\n",
    "## create an empty list\n",
    "list_of_texts = []\n",
    "\n",
    "# recursion\n",
    "list_of_texts = list_of_texts + text_info\n",
    "print(list_of_texts)\n",
    "list_of_texts = list_of_texts + text1\n",
    "print(list_of_texts)\n",
    "list_of_texts = list_of_texts + text2\n",
    "print(list_of_texts)"
   ]
  },
  {
   "cell_type": "markdown",
   "metadata": {
    "id": "vNxXMMMJ3VKm"
   },
   "source": [
    "# 1.5. loops"
   ]
  },
  {
   "cell_type": "code",
   "execution_count": 38,
   "metadata": {
    "id": "eGXvMRCx3gqr"
   },
   "outputs": [
    {
     "name": "stdout",
     "output_type": "stream",
     "text": [
      "W\n",
      "Wi\n",
      "Wie\n",
      "Wien\n"
     ]
    }
   ],
   "source": [
    "## recursion\n",
    "\n",
    "string = ''\n",
    "\n",
    "string = string + 'W'\n",
    "print(string)\n",
    "string = string + 'i'\n",
    "print(string)\n",
    "string = string + 'e'\n",
    "print(string)\n",
    "string = string + 'n'\n",
    "print(string)\n"
   ]
  },
  {
   "cell_type": "code",
   "execution_count": 39,
   "metadata": {
    "id": "FHc02uX033to"
   },
   "outputs": [
    {
     "name": "stdout",
     "output_type": "stream",
     "text": [
      "W\n",
      "Wi\n",
      "Wie\n",
      "Wien\n"
     ]
    }
   ],
   "source": [
    "## recursion shortcut\n",
    "\n",
    "string = ''\n",
    "\n",
    "string +='W'\n",
    "print(string)\n",
    "string += 'i'\n",
    "print(string)\n",
    "string += 'e'\n",
    "print(string)\n",
    "string += 'n'\n",
    "print(string)\n"
   ]
  },
  {
   "cell_type": "code",
   "execution_count": 58,
   "metadata": {
    "id": "A3zrOrlY3XN6"
   },
   "outputs": [
    {
     "name": "stdout",
     "output_type": "stream",
     "text": [
      "W\n",
      "Wi\n",
      "Wie\n",
      "Wien\n"
     ]
    }
   ],
   "source": [
    "## using a loop\n",
    "\n",
    "list_wien = ['W','i','e','n']\n",
    "\n",
    "string = ''\n",
    "for letter in list_wien:\n",
    "    string += letter\n",
    "    print(string)"
   ]
  },
  {
   "cell_type": "code",
   "execution_count": 42,
   "metadata": {
    "id": "4bwzf0784e06"
   },
   "outputs": [
    {
     "name": "stdout",
     "output_type": "stream",
     "text": [
      "W\n",
      "Wi\n",
      "Wie\n",
      "Wien\n",
      "Wien \n",
      "Wien i\n",
      "Wien is\n",
      "Wien is \n",
      "Wien is n\n",
      "Wien is ni\n",
      "Wien is nic\n",
      "Wien is nice\n"
     ]
    }
   ],
   "source": [
    "## using a loop\n",
    "\n",
    "list_wien = ['W','i','e','n',' ','i','s',' ','n','i','c','e']\n",
    "\n",
    "string = ''\n",
    "for letter in list_wien:\n",
    "    string += letter\n",
    "    print(string)"
   ]
  },
  {
   "cell_type": "code",
   "execution_count": 43,
   "metadata": {
    "id": "_LvOAjqG3UWm"
   },
   "outputs": [
    {
     "data": {
      "text/plain": [
       "['Wien', 'is', 'nice']"
      ]
     },
     "execution_count": 43,
     "metadata": {},
     "output_type": "execute_result"
    }
   ],
   "source": [
    "## string to list\n",
    "\n",
    "string = \"Wien is nice\"\n",
    "string.split(' ')"
   ]
  },
  {
   "cell_type": "code",
   "execution_count": 44,
   "metadata": {
    "id": "lZe9Vri25sUq"
   },
   "outputs": [
    {
     "data": {
      "text/plain": [
       "'Wien is nice'"
      ]
     },
     "execution_count": 44,
     "metadata": {},
     "output_type": "execute_result"
    }
   ],
   "source": [
    "## list to string\n",
    "\n",
    "list1 = ['Wien', 'is', 'nice']\n",
    "' '.join(list1)"
   ]
  },
  {
   "cell_type": "markdown",
   "metadata": {
    "id": "kQZbJ9Dm6MX3"
   },
   "source": [
    "1.5. Exercise: create a list of all individual characters of the sentence \"Wien is nice\", and then put the list back together as a string "
   ]
  },
  {
   "cell_type": "code",
   "execution_count": null,
   "metadata": {
    "id": "wwRmNvrf58ot"
   },
   "outputs": [],
   "source": []
  },
  {
   "cell_type": "markdown",
   "metadata": {
    "id": "gVGCgafI7BSx"
   },
   "source": [
    "## 1.6. Functions"
   ]
  },
  {
   "cell_type": "code",
   "execution_count": 45,
   "metadata": {
    "id": "KBX_tl3o7EV-"
   },
   "outputs": [],
   "source": [
    "## creating a function\n",
    "\n",
    "def sentence_to_letterList(sentence):\n",
    "    list_wien = []\n",
    "\n",
    "    for item in sentence:\n",
    "        list_wien += [item]\n",
    "\n",
    "    return(list_wien)"
   ]
  },
  {
   "cell_type": "code",
   "execution_count": 46,
   "metadata": {
    "id": "e9JtyVAeES2S"
   },
   "outputs": [
    {
     "name": "stdout",
     "output_type": "stream",
     "text": [
      "['I', ' ', 'l', 'o', 'v', 'e', ' ', 'w', 'i', 'e', 'n']\n"
     ]
    }
   ],
   "source": [
    "## executing the function\n",
    "\n",
    "sentence = \"I love wien\"\n",
    "\n",
    "letterList = sentence_to_letterList(sentence)\n",
    "print(letterList)"
   ]
  },
  {
   "cell_type": "code",
   "execution_count": 47,
   "metadata": {
    "id": "BvAOcS--E654"
   },
   "outputs": [
    {
     "name": "stdout",
     "output_type": "stream",
     "text": [
      "['I', ' ', 'l', 'o', 'v', 'e', ' ', 'w', 'i', 'e', 'n']\n",
      "['I', ' ', 'l', 'o', 'v', 'e', ' ', 'c', 'h', 'i', 'c', 'a', 'g', 'o']\n",
      "['I', ' ', 'l', 'o', 'v', 'e', ' ', 'p', 'a', 'r', 'i', 's']\n",
      "['I', ' ', 'l', 'o', 'v', 'e', ' ', 'm', 'u', 'm', 'b', 'a', 'i']\n"
     ]
    }
   ],
   "source": [
    "## now we can use the function in a loop\n",
    "\n",
    "list_of_cities = ['wien','chicago','paris','mumbai']\n",
    "\n",
    "for city in list_of_cities:\n",
    "    sentence1 = 'I love '+ city\n",
    "    letterList = sentence_to_letterList(sentence1)\n",
    "    print(letterList)"
   ]
  },
  {
   "cell_type": "markdown",
   "metadata": {
    "id": "PzkNkr0BHQas"
   },
   "source": [
    "*1.6. exercise*\n",
    "\n",
    "Create a function that calculates the **frequency** of the vowel 'a' in the list of sentences\n",
    "\n",
    "list_of_sentences = ['I am ultrasonic', 'Peter likes to pantomime','I only play the ukulele in the beach','but I love beer anytime','my preferences are orthogonal to my skill']\n",
    "\n",
    "\n",
    "\n"
   ]
  },
  {
   "cell_type": "code",
   "execution_count": 48,
   "metadata": {
    "id": "Pmc_jD27KTRj"
   },
   "outputs": [],
   "source": [
    "#hint: use count, len, combine functions\n",
    "\n",
    "#1. define the variables\n",
    "#2. write the function, which returns elements\n",
    "#3. execute the function"
   ]
  },
  {
   "cell_type": "code",
   "execution_count": 49,
   "metadata": {
    "id": "qu7nhDP8Jsc3"
   },
   "outputs": [],
   "source": [
    "## define list of sentences\n",
    "\n",
    "list_of_sentences = ['I am ultrasonic', 'Peter likes to pantomime','I only play the ukulele in the beach','but I love beer anytime','my preferences are orthogonal to my skill']\n",
    "vowels = 'a'"
   ]
  },
  {
   "cell_type": "markdown",
   "metadata": {
    "id": "2RzUMoVnXwFz"
   },
   "source": [
    "*1.6. exercise*\n",
    "\n",
    "Create a function that calculates the **frequency** of the vowels ['a','e','i','o','u'] in the list of sentences\n",
    "\n",
    "list_of_sentences = ['I am ultrasonic', 'Peter likes to pantomime','I only play the ukulele in the beach','but I love beer anytime','my preferences are orthogonal to my skill']"
   ]
  },
  {
   "cell_type": "code",
   "execution_count": 50,
   "metadata": {
    "id": "gQ9KEL2PXxuA"
   },
   "outputs": [],
   "source": [
    "## define list of sentences\n",
    "\n",
    "list_of_sentences = ['I am ultrasonic', 'Peter likes to pantomime','I only play the ukulele in the beach','but I love beer anytime','my preferences are orthogonal to my skill']\n",
    "vowels = ['a','e','i','o','u']"
   ]
  },
  {
   "cell_type": "markdown",
   "metadata": {
    "id": "l8QbF9Q1ZRh5"
   },
   "source": [
    "1.7 Dictionaries"
   ]
  },
  {
   "cell_type": "code",
   "execution_count": 51,
   "metadata": {
    "id": "9GvSQ5u7ZWBt"
   },
   "outputs": [
    {
     "data": {
      "text/plain": [
       "0.5"
      ]
     },
     "execution_count": 51,
     "metadata": {},
     "output_type": "execute_result"
    }
   ],
   "source": [
    "dictionary_vowels = {'a': 0.2, 'e': 0.3, 'i': 0.0, 'o': 0.8, 'u': 0.5 }\n",
    "\n",
    "dictionary_vowels['u']"
   ]
  },
  {
   "cell_type": "code",
   "execution_count": 52,
   "metadata": {
    "id": "Qm4TT4KUaE_n"
   },
   "outputs": [
    {
     "data": {
      "text/plain": [
       "{}"
      ]
     },
     "execution_count": 52,
     "metadata": {},
     "output_type": "execute_result"
    }
   ],
   "source": [
    "dictionary_vowels = {}\n",
    "dictionary_vowels"
   ]
  },
  {
   "cell_type": "code",
   "execution_count": 53,
   "metadata": {
    "id": "o-bT-nnoal5e"
   },
   "outputs": [
    {
     "data": {
      "text/plain": [
       "{'a': 0.2}"
      ]
     },
     "execution_count": 53,
     "metadata": {},
     "output_type": "execute_result"
    }
   ],
   "source": [
    "dictionary_vowels['a']=0.2\n",
    "dictionary_vowels"
   ]
  },
  {
   "cell_type": "code",
   "execution_count": 54,
   "metadata": {
    "id": "lwskQH7qatE1"
   },
   "outputs": [
    {
     "data": {
      "text/plain": [
       "{'a': 0.2, 'e': 0.3, 'i': 0.0, 'o': 0.8, 'u': 0.5}"
      ]
     },
     "execution_count": 54,
     "metadata": {},
     "output_type": "execute_result"
    }
   ],
   "source": [
    "dictionary_vowels['e']=0.3\n",
    "dictionary_vowels['i']=0.0\n",
    "dictionary_vowels['o']=0.8\n",
    "dictionary_vowels['u']=0.5\n",
    "\n",
    "dictionary_vowels"
   ]
  },
  {
   "cell_type": "markdown",
   "metadata": {
    "id": "bzJgDcM1b0Sc"
   },
   "source": [
    "1.7. exercise\n",
    "Get dictionaries of vowels per sentence"
   ]
  },
  {
   "cell_type": "code",
   "execution_count": 55,
   "metadata": {
    "id": "0CYJtqTrcCzN"
   },
   "outputs": [],
   "source": [
    "## define list of sentences\n",
    "\n",
    "list_of_sentences = ['I am ultrasonic', 'Peter likes to pantomime','I only play the ukulele in the beach','but I love beer anytime','my preferences are orthogonal to my skill']\n",
    "vowels = ['a','e','i','o','u']"
   ]
  },
  {
   "cell_type": "markdown",
   "metadata": {
    "id": "CTLi4HM6dWbP"
   },
   "source": [
    "## 1.8 Modules"
   ]
  },
  {
   "cell_type": "raw",
   "metadata": {
    "id": "7TTD0E2cdhE6"
   },
   "source": [
    "## install and import all natural language tool kit (nltk) functions\n",
    "\n",
    "!pip install nltk \n",
    "import nltk\n",
    "nltk.download('all') "
   ]
  },
  {
   "cell_type": "code",
   "execution_count": 57,
   "metadata": {
    "id": "xfc4DqH0fif6"
   },
   "outputs": [
    {
     "name": "stdout",
     "output_type": "stream",
     "text": [
      "['Hello Mr. Smith, how are you doing today?', 'The weather is great, and city is awesome.', 'The sky is pinkish-blue.', \"You shouldn't eat cardboard\"]\n"
     ]
    }
   ],
   "source": [
    "## function to create a list of sentences\n",
    "\n",
    "text=\"Hello Mr. Smith, how are you doing today? The weather is great, and city is awesome. The sky is pinkish-blue. You shouldn't eat cardboard\"\n",
    "\n",
    "tokenized_text=nltk.sent_tokenize(text)\n",
    "\n",
    "print(tokenized_text)"
   ]
  },
  {
   "cell_type": "code",
   "execution_count": null,
   "metadata": {
    "id": "dFMKoF4lgolj"
   },
   "outputs": [],
   "source": [
    "## function to create a list of words\n",
    "\n",
    "tokenized_word= nltk.word_tokenize(text)\n",
    "\n",
    "print(tokenized_word)"
   ]
  },
  {
   "cell_type": "code",
   "execution_count": null,
   "metadata": {
    "id": "8o7an4WLhT-4"
   },
   "outputs": [],
   "source": [
    "## function to calculate frequency distribution \n",
    "\n",
    "fdist = nltk.FreqDist(tokenized_word)\n",
    "fdist.most_common(2)"
   ]
  },
  {
   "cell_type": "code",
   "execution_count": null,
   "metadata": {
    "id": "Ix1wGGhWoL_A"
   },
   "outputs": [],
   "source": [
    "## Parts of Speech - grammatical categorization of a words in a sentence, input is a sentence\n",
    "\n",
    "sentence = 'this is a sentence'\n",
    "tokenized_word= nltk.word_tokenize(sentence)\n",
    "\n",
    "nltk.pos_tag(tokenized_word)\n",
    "\n"
   ]
  },
  {
   "cell_type": "code",
   "execution_count": null,
   "metadata": {
    "id": "fRZ3bOfQimVf"
   },
   "outputs": [],
   "source": [
    "# Frequency Distribution Plot\n",
    "import matplotlib.pyplot as plt\n",
    "\n",
    "fdist.plot(30,cumulative=False)\n",
    "plt.show()"
   ]
  },
  {
   "cell_type": "code",
   "execution_count": null,
   "metadata": {
    "id": "S2vN1qp2jrEr"
   },
   "outputs": [],
   "source": [
    "## modules for sentiment analysis\n",
    "\n",
    "from nltk.sentiment.vader import SentimentIntensityAnalyzer\n",
    "\n",
    "sid = SentimentIntensityAnalyzer()\n",
    "\n",
    "sid.polarity_scores(\"this sentence is horrible\")"
   ]
  },
  {
   "cell_type": "markdown",
   "metadata": {
    "id": "Y9pZ3-80kr2j"
   },
   "source": [
    "1.8 Exercise:\n",
    "Calculate sentiment scores - compound - of each sentence in the text \"Hello Mr. Smith, how are you doing today? The weather is great, and city is awesome. The sky is pinkish-blue. You shouldn't eat cardboard\""
   ]
  },
  {
   "cell_type": "code",
   "execution_count": null,
   "metadata": {
    "id": "w6C9RUidlLQl"
   },
   "outputs": [],
   "source": [
    "\n"
   ]
  },
  {
   "cell_type": "code",
   "execution_count": null,
   "metadata": {
    "id": "gkxaNV5nk9vl"
   },
   "outputs": [],
   "source": [
    "\n",
    "\n"
   ]
  },
  {
   "cell_type": "markdown",
   "metadata": {
    "id": "QK7hpiLKm3_I"
   },
   "source": [
    "## 2. Dictionary Tools - WordNet "
   ]
  },
  {
   "cell_type": "code",
   "execution_count": null,
   "metadata": {
    "id": "K8u334Qzm7M_"
   },
   "outputs": [],
   "source": [
    "##import the module\n",
    "\n",
    "from nltk.corpus import wordnet as wn\n",
    "nltk.download('wordnet')\n"
   ]
  },
  {
   "cell_type": "code",
   "execution_count": null,
   "metadata": {
    "id": "NjcysBREk7wW"
   },
   "outputs": [],
   "source": [
    "word = 'anger'\n",
    "\n",
    "#synsets are the set possible meanings of the word, this is a function from WordNet (wn)\n",
    "# first we take meanings which can be Part of Speech, Noincs, Verbs, or Adjectives\n",
    "\n",
    "meanings = wn.synsets(word, pos=wn.NOUN+wn.VERB+wn.ADJ)\n",
    "print(meanings)\n",
    "\n",
    "for meaning in meanings:\n",
    "    print(word, meaning, meaning.definition())\n"
   ]
  },
  {
   "cell_type": "code",
   "execution_count": null,
   "metadata": {
    "id": "uktTadBLy-rr"
   },
   "outputs": [],
   "source": [
    "## list of languages\n",
    "\n",
    "wn.langs()\n"
   ]
  },
  {
   "cell_type": "code",
   "execution_count": null,
   "metadata": {
    "id": "5SGwqN1Bkqi4"
   },
   "outputs": [],
   "source": [
    "## synonyms obtained with lemmas()\n",
    "\n",
    "language = 'eng'\n",
    "\n",
    "## here we pick up the first synset of the list in [212].\n",
    "## Note that the output writes capital Synset, but input is with lowercase synset\n",
    "\n",
    "wn.synset('anger.n.01').lemmas(language)\n"
   ]
  },
  {
   "cell_type": "code",
   "execution_count": null,
   "metadata": {
    "id": "I2j3eKRV0Bfu"
   },
   "outputs": [],
   "source": [
    "## access the word of the synonym\n",
    "\n",
    "## here we pick up the first lemma of the list in [218].\n",
    "## Note that the output writes capital Lemma, but input is with lowercase lemma\n",
    "wn.lemma('anger.n.01.anger').name()\n"
   ]
  },
  {
   "cell_type": "code",
   "execution_count": null,
   "metadata": {
    "id": "A3Y2nwZm1IOC"
   },
   "outputs": [],
   "source": [
    "## obtaining hyponyms (words that are semantically lower in the hierarchy)\n",
    "## for example dogs and cats are hyponyms of animals.\n",
    "## below are specific kinds of anger\n",
    "\n",
    "wn.synset('anger.n.01').hyponyms()"
   ]
  },
  {
   "cell_type": "code",
   "execution_count": null,
   "metadata": {
    "id": "c01krzhi9_hb"
   },
   "outputs": [],
   "source": [
    "## obtaining hypernym (words that are semantically higher in the hierarchy)\n",
    "## for example dogs and cats are hyponyms of animals.\n",
    "## below are specific kinds of anger\n",
    "\n",
    "wn.synset('anger.n.01').hypernyms()"
   ]
  },
  {
   "cell_type": "code",
   "execution_count": null,
   "metadata": {
    "id": "qXYVMRge-d8N"
   },
   "outputs": [],
   "source": [
    "## obtaining hypernym (words that are semantically higher in the hierarchy)\n",
    "## for example dogs and cats are hyponyms of animals.\n",
    "## below are specific kinds of anger\n",
    "\n",
    "wn.synset('anger.n.01').root_hypernyms()"
   ]
  },
  {
   "cell_type": "markdown",
   "metadata": {
    "id": "hZFoB9mX5lXm"
   },
   "source": [
    "## 2. Exercise \n",
    "#### Generate a list of all meanings, synonyms and hyponyms for the word 'anger', without repetitions.\n"
   ]
  },
  {
   "cell_type": "code",
   "execution_count": null,
   "metadata": {
    "id": "Qk2ce-Ei6peZ"
   },
   "outputs": [],
   "source": [
    "word = 'anger'\n",
    "\n",
    "meanings = wn.synsets(word, pos=wn.NOUN+wn.VERB+wn.ADJ)\n",
    "list_of_lemmas = []\n",
    "\n",
    "\n",
    "for meaning in meanings:\n",
    "  print(meaning, meaning.definition())\n",
    "\n",
    "  for lemma in meaning.lemmas():\n",
    "    ##convert lemma to synset\n",
    "    print(lemma, lemma.name())\n",
    "    list_of_lemmas += [lemma.name()]\n",
    "\n",
    "  for hyponym in meaning.hyponyms():\n",
    "    print(hyponym, hyponym.definition())\n",
    "\n",
    "    for lemma in hyponym.lemmas():\n",
    "    ##convert lemma to synset\n",
    "      print(lemma, lemma.name())\n",
    "      list_of_lemmas += [lemma.name()]\n"
   ]
  },
  {
   "cell_type": "code",
   "execution_count": null,
   "metadata": {
    "id": "hskvHuu9A2Zz"
   },
   "outputs": [],
   "source": [
    "\n",
    "##eliminate list duplations by applying the set transformation\n",
    "set_of_lemmas= [*set(list_of_lemmas)]\n",
    "\n",
    "## sort alphabetically\n",
    "set_of_lemmas.sort()\n",
    "\n",
    "##print\n",
    "print(set_of_lemmas)"
   ]
  }
 ],
 "metadata": {
  "colab": {
   "collapsed_sections": [],
   "provenance": []
  },
  "kernelspec": {
   "display_name": "Python 3 (ipykernel)",
   "language": "python",
   "name": "python3"
  },
  "language_info": {
   "codemirror_mode": {
    "name": "ipython",
    "version": 3
   },
   "file_extension": ".py",
   "mimetype": "text/x-python",
   "name": "python",
   "nbconvert_exporter": "python",
   "pygments_lexer": "ipython3",
   "version": "3.9.13"
  }
 },
 "nbformat": 4,
 "nbformat_minor": 4
}
