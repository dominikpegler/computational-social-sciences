{
 "cells": [
  {
   "cell_type": "markdown",
   "metadata": {
    "id": "QK7hpiLKm3_I"
   },
   "source": [
    "Dictionary Tools - WordNet\n",
    "===\n",
    "\n",
    "<div class=\"alert alert-info\">If you are a user jump to section <b>Part II: Script</b> (where you simply have to add seed word to the function and obtain the bag of words</div>"
   ]
  },
  {
   "cell_type": "code",
   "execution_count": 15,
   "metadata": {},
   "outputs": [],
   "source": [
    "import jupyter_black\n",
    "\n",
    "jupyter_black.load()"
   ]
  },
  {
   "cell_type": "markdown",
   "metadata": {},
   "source": [
    "## Part I: Tutorial"
   ]
  },
  {
   "cell_type": "code",
   "execution_count": 16,
   "metadata": {
    "colab": {
     "base_uri": "https://localhost:8080/"
    },
    "id": "NjcysBREk7wW",
    "outputId": "4f6fea2a-d2d1-4151-df95-23080e257a7c"
   },
   "outputs": [],
   "source": [
    "import nltk\n",
    "\n",
    "# nltk.download('all')\n",
    "from nltk.corpus import wordnet as wn"
   ]
  },
  {
   "cell_type": "markdown",
   "metadata": {
    "colab": {
     "base_uri": "https://localhost:8080/"
    },
    "id": "NjcysBREk7wW",
    "outputId": "4f6fea2a-d2d1-4151-df95-23080e257a7c"
   },
   "source": [
    "### Synsets\n",
    "Synsets are the set possible **meanings** of the word, this is a function from WordNet (wn). First we take meanings which can be Part of Speech, Nouns, Verbs, or Adjectives"
   ]
  },
  {
   "cell_type": "markdown",
   "metadata": {
    "colab": {
     "base_uri": "https://localhost:8080/"
    },
    "id": "uktTadBLy-rr",
    "outputId": "e45d08ee-0b30-4a80-8bea-720346d0a4b8"
   },
   "source": [
    "#### List of available languages"
   ]
  },
  {
   "cell_type": "code",
   "execution_count": 17,
   "metadata": {
    "colab": {
     "base_uri": "https://localhost:8080/"
    },
    "id": "uktTadBLy-rr",
    "outputId": "e45d08ee-0b30-4a80-8bea-720346d0a4b8"
   },
   "outputs": [
    {
     "data": {
      "text/plain": [
       "dict_keys(['eng', 'als', 'arb', 'bul', 'cmn', 'dan', 'ell', 'fin', 'fra', 'heb', 'hrv', 'isl', 'ita', 'ita_iwn', 'jpn', 'cat', 'eus', 'glg', 'spa', 'ind', 'zsm', 'nld', 'nno', 'nob', 'pol', 'por', 'ron', 'lit', 'slk', 'slv', 'swe', 'tha'])"
      ]
     },
     "execution_count": 17,
     "metadata": {},
     "output_type": "execute_result"
    }
   ],
   "source": [
    "wn.langs()"
   ]
  },
  {
   "cell_type": "code",
   "execution_count": 18,
   "metadata": {
    "colab": {
     "base_uri": "https://localhost:8080/"
    },
    "id": "NjcysBREk7wW",
    "outputId": "4f6fea2a-d2d1-4151-df95-23080e257a7c"
   },
   "outputs": [
    {
     "name": "stdout",
     "output_type": "stream",
     "text": [
      "anger Synset('anger.n.01') a strong emotion; a feeling that is oriented toward some real or supposed grievance\n",
      "anger Synset('anger.n.02') the state of being angry\n",
      "anger Synset('wrath.n.02') belligerence aroused by a real or supposed wrong (personified as one of the deadly sins)\n",
      "anger Synset('anger.v.01') make angry\n",
      "anger Synset('anger.v.02') become angry\n"
     ]
    }
   ],
   "source": [
    "word = \"anger\"\n",
    "language = \"eng\"\n",
    "\n",
    "\n",
    "meanings = wn.synsets(word, pos=wn.NOUN + wn.VERB + wn.ADJ, lang=language)\n",
    "\n",
    "for meaning in meanings:\n",
    "    print(word, meaning, meaning.definition())"
   ]
  },
  {
   "cell_type": "markdown",
   "metadata": {
    "colab": {
     "base_uri": "https://localhost:8080/"
    },
    "id": "5SGwqN1Bkqi4",
    "outputId": "2cfc3076-a32c-4635-f974-f3876745e9d5"
   },
   "source": [
    "### Synonyms obtained with lemmas()"
   ]
  },
  {
   "cell_type": "code",
   "execution_count": 19,
   "metadata": {
    "colab": {
     "base_uri": "https://localhost:8080/"
    },
    "id": "5SGwqN1Bkqi4",
    "outputId": "2cfc3076-a32c-4635-f974-f3876745e9d5"
   },
   "outputs": [
    {
     "name": "stdout",
     "output_type": "stream",
     "text": [
      "anger.n.01\n"
     ]
    },
    {
     "data": {
      "text/plain": [
       "[Lemma('anger.n.01.anger'),\n",
       " Lemma('anger.n.01.choler'),\n",
       " Lemma('anger.n.01.ire')]"
      ]
     },
     "execution_count": 19,
     "metadata": {},
     "output_type": "execute_result"
    }
   ],
   "source": [
    "## here we pick up the first synset of the list.\n",
    "print(meanings[0].name())\n",
    "\n",
    "synonyms = wn.synset(meanings[0].name()).lemmas(language)\n",
    "synonyms"
   ]
  },
  {
   "cell_type": "code",
   "execution_count": 20,
   "metadata": {},
   "outputs": [
    {
     "data": {
      "text/plain": [
       "'ire'"
      ]
     },
     "execution_count": 20,
     "metadata": {},
     "output_type": "execute_result"
    }
   ],
   "source": [
    "## here we pick up the third lemma of the list\n",
    "synonyms[2].name()"
   ]
  },
  {
   "cell_type": "code",
   "execution_count": 21,
   "metadata": {
    "colab": {
     "base_uri": "https://localhost:8080/",
     "height": 35
    },
    "id": "I2j3eKRV0Bfu",
    "outputId": "e1fcf9f0-0af8-44dc-8802-29b22f531ed3"
   },
   "outputs": [
    {
     "data": {
      "text/plain": [
       "'ire'"
      ]
     },
     "execution_count": 21,
     "metadata": {},
     "output_type": "execute_result"
    }
   ],
   "source": [
    "# or like this\n",
    "wn.lemma(\"anger.n.01.ire\").name()"
   ]
  },
  {
   "cell_type": "markdown",
   "metadata": {},
   "source": [
    "### Hyponyms\n",
    "Obtaining hyponyms (words that are semantically lower in the hierarchy) for example dogs and cats are hyponyms of animals. Below are specific kinds of anger"
   ]
  },
  {
   "cell_type": "code",
   "execution_count": 22,
   "metadata": {
    "colab": {
     "base_uri": "https://localhost:8080/"
    },
    "id": "A3Y2nwZm1IOC",
    "outputId": "c3e4c88e-2ce5-4422-97a5-cc765d691672"
   },
   "outputs": [
    {
     "data": {
      "text/plain": [
       "[Synset('annoyance.n.02'),\n",
       " Synset('bad_temper.n.01'),\n",
       " Synset('dander.n.02'),\n",
       " Synset('fury.n.01'),\n",
       " Synset('huffiness.n.01'),\n",
       " Synset('indignation.n.01'),\n",
       " Synset('infuriation.n.01'),\n",
       " Synset('umbrage.n.01')]"
      ]
     },
     "execution_count": 22,
     "metadata": {},
     "output_type": "execute_result"
    }
   ],
   "source": [
    "wn.synset(\"anger.n.01\").hyponyms()"
   ]
  },
  {
   "cell_type": "markdown",
   "metadata": {
    "colab": {
     "base_uri": "https://localhost:8080/"
    },
    "id": "SHrWwG9zIkCu",
    "outputId": "3205f83e-2a00-40ff-c70a-72bdc205ac10"
   },
   "source": [
    "#### Looping down the hierarchy with `.closure()`\n",
    "\n",
    "Like this we can navigate the hierarchy all the way to the bottom"
   ]
  },
  {
   "cell_type": "code",
   "execution_count": 23,
   "metadata": {
    "colab": {
     "base_uri": "https://localhost:8080/"
    },
    "id": "SHrWwG9zIkCu",
    "outputId": "3205f83e-2a00-40ff-c70a-72bdc205ac10"
   },
   "outputs": [
    {
     "name": "stdout",
     "output_type": "stream",
     "text": [
      "Synset('annoyance.n.02')\n",
      "Synset('bad_temper.n.01')\n",
      "Synset('dander.n.02')\n",
      "Synset('fury.n.01')\n",
      "Synset('huffiness.n.01')\n",
      "Synset('indignation.n.01')\n",
      "Synset('infuriation.n.01')\n",
      "Synset('umbrage.n.01')\n",
      "Synset('aggravation.n.01')\n",
      "Synset('displeasure.n.01')\n",
      "Synset('frustration.n.03')\n",
      "Synset('harassment.n.01')\n",
      "Synset('pique.n.02')\n",
      "Synset('fit.n.01')\n",
      "Synset('irascibility.n.01')\n",
      "Synset('lividity.n.01')\n",
      "Synset('wrath.n.01')\n",
      "Synset('dudgeon.n.01')\n"
     ]
    }
   ],
   "source": [
    "meaning = wn.synset(\"anger.n.01\")\n",
    "\n",
    "for item in meaning.closure(lambda s: s.hyponyms()):\n",
    "    print(item)"
   ]
  },
  {
   "cell_type": "markdown",
   "metadata": {
    "colab": {
     "base_uri": "https://localhost:8080/"
    },
    "id": "c01krzhi9_hb",
    "outputId": "af1312a1-49b8-4c6b-fd66-da6b0906ae72"
   },
   "source": [
    "### Hypernyms\n",
    "Obtaining hypernym (words that are semantically higher in the hierarchy). For example dogs and cats are hyponyms of animals. Below are specific kinds of anger"
   ]
  },
  {
   "cell_type": "code",
   "execution_count": 24,
   "metadata": {
    "colab": {
     "base_uri": "https://localhost:8080/"
    },
    "id": "c01krzhi9_hb",
    "outputId": "af1312a1-49b8-4c6b-fd66-da6b0906ae72"
   },
   "outputs": [
    {
     "data": {
      "text/plain": [
       "[Synset('emotion.n.01')]"
      ]
     },
     "execution_count": 24,
     "metadata": {},
     "output_type": "execute_result"
    }
   ],
   "source": [
    "wn.synset(\"anger.n.01\").hypernyms()"
   ]
  },
  {
   "cell_type": "code",
   "execution_count": 25,
   "metadata": {
    "colab": {
     "base_uri": "https://localhost:8080/"
    },
    "id": "qXYVMRge-d8N",
    "outputId": "a328b100-fd40-4e35-ade2-8d2622a9343c"
   },
   "outputs": [
    {
     "data": {
      "text/plain": [
       "[Synset('entity.n.01')]"
      ]
     },
     "execution_count": 25,
     "metadata": {},
     "output_type": "execute_result"
    }
   ],
   "source": [
    "wn.synset(\"anger.n.01\").root_hypernyms()"
   ]
  },
  {
   "cell_type": "markdown",
   "metadata": {
    "id": "hZFoB9mX5lXm"
   },
   "source": [
    "### Generate all synonyms and hyponyms of a word\n"
   ]
  },
  {
   "cell_type": "code",
   "execution_count": 26,
   "metadata": {
    "colab": {
     "base_uri": "https://localhost:8080/"
    },
    "id": "Qk2ce-Ei6peZ",
    "outputId": "924d8133-98fd-402f-d2f1-b8d7dc4877ef"
   },
   "outputs": [
    {
     "name": "stdout",
     "output_type": "stream",
     "text": [
      "Generating all synonyms for: neglect\n",
      "----------------------------------- 1 -----------------------------------\n",
      "- disregard.n.01\n",
      "   - Definition: lack of attention and due care\n",
      "   - Lemmas:\n",
      "     - disregard\n",
      "     - neglect\n",
      "   - Hyponyms:\n",
      "     - omission.n.04\n",
      "        - Definition: neglecting to do something; leaving out or passing over something\n",
      "        - Lemmas:\n",
      "           - omission\n",
      "     - exception.n.01\n",
      "        - Definition: a deliberate act of omission\n",
      "        - Lemmas:\n",
      "           - exception\n",
      "           - exclusion\n",
      "           - elision\n",
      "     - oversight.n.01\n",
      "        - Definition: an unintentional omission resulting from failure to notice something\n",
      "        - Lemmas:\n",
      "           - oversight\n",
      "           - inadvertence\n",
      "     - pretermission.n.01\n",
      "        - Definition: letting pass without notice\n",
      "        - Lemmas:\n",
      "           - pretermission\n",
      "----------------------------------- 2 -----------------------------------\n",
      "- neglect.n.02\n",
      "   - Definition: the state of something that has been unused and neglected\n",
      "   - Lemmas:\n",
      "     - neglect\n",
      "     - disuse\n",
      "   - Hyponyms:\n",
      "     - omission.n.02\n",
      "        - Definition: something that has been omitted\n",
      "        - Lemmas:\n",
      "           - omission\n",
      "----------------------------------- 3 -----------------------------------\n",
      "- disregard.n.02\n",
      "   - Definition: willful lack of care and attention\n",
      "   - Lemmas:\n",
      "     - disregard\n",
      "     - neglect\n",
      "   - Hyponyms:\n",
      "     - despite.n.02\n",
      "        - Definition: contemptuous disregard\n",
      "        - Lemmas:\n",
      "           - despite\n",
      "----------------------------------- 4 -----------------------------------\n",
      "- negligence.n.02\n",
      "   - Definition: the trait of neglecting responsibilities and lacking concern\n",
      "   - Lemmas:\n",
      "     - negligence\n",
      "     - neglect\n",
      "     - neglectfulness\n",
      "   - Hyponyms:\n",
      "     - delinquency.n.02\n",
      "        - Definition: a tendency to be negligent and uncaring\n",
      "        - Lemmas:\n",
      "           - delinquency\n",
      "           - dereliction\n",
      "           - willful_neglect\n",
      "     - laxness.n.01\n",
      "        - Definition: the quality of being lax and neglectful\n",
      "        - Lemmas:\n",
      "           - laxness\n",
      "           - laxity\n",
      "           - remissness\n",
      "           - slackness\n",
      "----------------------------------- 5 -----------------------------------\n",
      "- negligence.n.01\n",
      "   - Definition: failure to act with the prudence that a reasonable person would exercise under the same circumstances\n",
      "   - Lemmas:\n",
      "     - negligence\n",
      "     - carelessness\n",
      "     - neglect\n",
      "     - nonperformance\n",
      "   - Hyponyms:\n",
      "     - comparative_negligence.n.01\n",
      "        - Definition: (law) negligence allocated between the plaintiff and the defendant with a corresponding reduction in damages paid to the plaintiff\n",
      "        - Lemmas:\n",
      "           - comparative_negligence\n",
      "     - concurrent_negligence.n.01\n",
      "        - Definition: (law) negligence of two of more persons acting independently; the plaintiff may sue both together or separately\n",
      "        - Lemmas:\n",
      "           - concurrent_negligence\n",
      "     - contributory_negligence.n.01\n",
      "        - Definition: (law) behavior by the plaintiff that contributes to the harm resulting from the defendant's negligence\n",
      "        - Lemmas:\n",
      "           - contributory_negligence\n",
      "     - criminal_negligence.n.01\n",
      "        - Definition: (law) recklessly acting without reasonable caution and putting another person at risk of injury or death (or failing to do something with the same consequences)\n",
      "        - Lemmas:\n",
      "           - criminal_negligence\n",
      "           - culpable_negligence\n",
      "     - dereliction.n.02\n",
      "        - Definition: willful negligence\n",
      "        - Lemmas:\n",
      "           - dereliction\n",
      "     - evasion.n.03\n",
      "        - Definition: nonperformance of something distasteful (as by deceit or trickery) that you are supposed to do\n",
      "        - Lemmas:\n",
      "           - evasion\n",
      "           - escape\n",
      "           - dodging\n",
      "     - neglect_of_duty.n.01\n",
      "        - Definition: (law) breach of a duty\n",
      "        - Lemmas:\n",
      "           - neglect_of_duty\n",
      "     - nonfeasance.n.01\n",
      "        - Definition: a failure to act when under an obligation to do so; a refusal (without sufficient excuse) to do that which it is your legal duty to do\n",
      "        - Lemmas:\n",
      "           - nonfeasance\n",
      "     - circumvention.n.01\n",
      "        - Definition: the act of evading by going around\n",
      "        - Lemmas:\n",
      "           - circumvention\n",
      "     - escape_mechanism.n.01\n",
      "        - Definition: a form of behavior that evades unpleasant realities\n",
      "        - Lemmas:\n",
      "           - escape_mechanism\n",
      "     - malingering.n.01\n",
      "        - Definition: evading duty or work by pretending to be incapacitated\n",
      "        - Lemmas:\n",
      "           - malingering\n",
      "           - skulking\n",
      "     - shirking.n.01\n",
      "        - Definition: the evasion of work or duty\n",
      "        - Lemmas:\n",
      "           - shirking\n",
      "           - slacking\n",
      "           - soldiering\n",
      "           - goofing_off\n",
      "           - goldbricking\n",
      "----------------------------------- 6 -----------------------------------\n",
      "- neglect.v.01\n",
      "   - Definition: leave undone or leave out\n",
      "   - Lemmas:\n",
      "     - neglect\n",
      "     - pretermit\n",
      "     - omit\n",
      "     - drop\n",
      "     - miss\n",
      "     - leave_out\n",
      "     - overlook\n",
      "     - overleap\n",
      "   - Hyponyms:\n",
      "     - forget.v.03\n",
      "        - Definition: forget to do something\n",
      "        - Lemmas:\n",
      "           - forget\n",
      "     - jump.v.13\n",
      "        - Definition: bypass\n",
      "        - Lemmas:\n",
      "           - jump\n",
      "           - pass_over\n",
      "           - skip\n",
      "           - skip_over\n",
      "----------------------------------- 7 -----------------------------------\n",
      "- fail.v.01\n",
      "   - Definition: fail to do something; leave something undone\n",
      "   - Lemmas:\n",
      "     - fail\n",
      "     - neglect\n",
      "   - Hyponyms:\n",
      "     - choke.v.06\n",
      "        - Definition: fail to perform adequately due to tension or agitation\n",
      "        - Lemmas:\n",
      "           - choke\n",
      "     - default.v.01\n",
      "        - Definition: fail to pay up\n",
      "        - Lemmas:\n",
      "           - default\n",
      "           - default_on\n",
      "     - lose_track.v.01\n",
      "        - Definition: fail to keep informed or aware\n",
      "        - Lemmas:\n",
      "           - lose_track\n",
      "     - miss.v.03\n",
      "        - Definition: fail to attend an event or activity\n",
      "        - Lemmas:\n",
      "           - miss\n",
      "     - muff.v.01\n",
      "        - Definition: fail to catch, as of a ball\n",
      "        - Lemmas:\n",
      "           - muff\n",
      "     - strike_out.v.02\n",
      "        - Definition: put out or be put out by a strikeout\n",
      "        - Lemmas:\n",
      "           - strike_out\n",
      "     - cut.v.11\n",
      "        - Definition: intentionally fail to attend\n",
      "        - Lemmas:\n",
      "           - cut\n",
      "           - skip\n",
      "     - fan.v.01\n",
      "        - Definition: strike out (a batter), (of a pitcher)\n",
      "        - Lemmas:\n",
      "           - fan\n",
      "     - whiff.v.03\n",
      "        - Definition: strike out by swinging and missing the pitch charged as the third\n",
      "        - Lemmas:\n",
      "           - whiff\n",
      "     - bunk_off.v.01\n",
      "        - Definition: play truant from work or school\n",
      "        - Lemmas:\n",
      "           - bunk_off\n",
      "           - play_hooky\n",
      "----------------------------------- 8 -----------------------------------\n",
      "- neglect.v.03\n",
      "   - Definition: fail to attend to\n",
      "   - Lemmas:\n",
      "     - neglect\n",
      "   - Hyponyms:\n",
      "     - slack.v.02\n",
      "        - Definition: be inattentive to, or neglect\n",
      "        - Lemmas:\n",
      "           - slack\n",
      "----------------------------------- 9 -----------------------------------\n",
      "- neglect.v.04\n",
      "   - Definition: give little or no attention to\n",
      "   - Lemmas:\n",
      "     - neglect\n",
      "     - ignore\n",
      "     - disregard\n",
      "   - Hyponyms:\n",
      "     - pretermit.v.01\n",
      "        - Definition: disregard intentionally or let pass\n",
      "        - Lemmas:\n",
      "           - pretermit\n"
     ]
    }
   ],
   "source": [
    "word = \"neglect\"\n",
    "language = \"eng\"\n",
    "\n",
    "print(\"Generating all synonyms for:\", word)\n",
    "\n",
    "meanings = wn.synsets(word, pos=wn.NOUN + wn.VERB + wn.ADJ, lang=language)\n",
    "list_of_lemmas = []\n",
    "\n",
    "for i, meaning in enumerate(meanings):\n",
    "    print(35 * \"-\", i + 1, 35 * \"-\")\n",
    "    print(\"-\", meaning.name())\n",
    "    print(\"   - Definition:\", meaning.definition())\n",
    "    print(\"   - Lemmas:\")\n",
    "\n",
    "    for j, lemma in enumerate(meaning.lemmas(language)):\n",
    "        print(\"     -\", lemma.name())\n",
    "        ## add lemma to list\n",
    "        list_of_lemmas += [lemma.name()]\n",
    "\n",
    "    print(\"   - Hyponyms:\")\n",
    "\n",
    "    for hyponym in meaning.closure(lambda s: s.hyponyms()):\n",
    "        print(\"     -\", hyponym.name())\n",
    "        print(\"        - Definition:\", hyponym.definition())\n",
    "        print(\"        - Lemmas:\")\n",
    "        for lemma in hyponym.lemmas(language):\n",
    "            print(\"           -\", lemma.name())\n",
    "            ## add lemma to list\n",
    "            list_of_lemmas += [lemma.name()]"
   ]
  },
  {
   "cell_type": "code",
   "execution_count": 27,
   "metadata": {
    "colab": {
     "base_uri": "https://localhost:8080/"
    },
    "id": "hskvHuu9A2Zz",
    "outputId": "85239818-be0d-4f9b-9f62-4b751afeeca9"
   },
   "outputs": [
    {
     "name": "stdout",
     "output_type": "stream",
     "text": [
      "The Lemmas we collected in set_of_lemmas:\n",
      "\n",
      " ['bunk_off', 'carelessness', 'choke', 'circumvention', 'comparative_negligence', 'concurrent_negligence', 'contributory_negligence', 'criminal_negligence', 'culpable_negligence', 'cut', 'default', 'default_on', 'delinquency', 'dereliction', 'despite', 'disregard', 'disuse', 'dodging', 'drop', 'elision', 'escape', 'escape_mechanism', 'evasion', 'exception', 'exclusion', 'fail', 'fan', 'forget', 'goldbricking', 'goofing_off', 'ignore', 'inadvertence', 'jump', 'laxity', 'laxness', 'leave_out', 'lose_track', 'malingering', 'miss', 'muff', 'neglect', 'neglect_of_duty', 'neglectfulness', 'negligence', 'nonfeasance', 'nonperformance', 'omission', 'omit', 'overleap', 'overlook', 'oversight', 'pass_over', 'play_hooky', 'pretermission', 'pretermit', 'remissness', 'shirking', 'skip', 'skip_over', 'skulking', 'slack', 'slacking', 'slackness', 'soldiering', 'strike_out', 'whiff', 'willful_neglect']\n",
      "\n",
      "Length: 67\n"
     ]
    }
   ],
   "source": [
    "# remove duplicates & sort alphabetically\n",
    "set_of_lemmas = sorted([*set(list_of_lemmas)])\n",
    "\n",
    "print(\"The Lemmas we collected in set_of_lemmas:\\n\\n\", set_of_lemmas)\n",
    "print(\"\\nLength:\", len(set_of_lemmas))"
   ]
  },
  {
   "cell_type": "markdown",
   "metadata": {
    "id": "hZFoB9mX5lXm"
   },
   "source": [
    "### Generate all synonyms and hyponyms of a word (Re-write)\n",
    "\n",
    "Re-write with simpler loops and filters"
   ]
  },
  {
   "cell_type": "code",
   "execution_count": 28,
   "metadata": {
    "colab": {
     "base_uri": "https://localhost:8080/"
    },
    "id": "jIjJX_Xh8wtw",
    "outputId": "00aebbb1-6544-4b58-a3a8-b95e4fb09c5e"
   },
   "outputs": [
    {
     "name": "stdout",
     "output_type": "stream",
     "text": [
      "----------------------------------- 1 -----------------------------------\n",
      "- disregard.n.01\n",
      "   - Definition: lack of attention and due care\n",
      "   - Lemmas:\n",
      "   - Hyponyms:\n",
      "     - omission.n.04\n",
      "        - Definition: neglecting to do something; leaving out or passing over something\n",
      "     - exception.n.01\n",
      "        - Definition: a deliberate act of omission\n",
      "     - oversight.n.01\n",
      "        - Definition: an unintentional omission resulting from failure to notice something\n",
      "     - pretermission.n.01\n",
      "        - Definition: letting pass without notice\n",
      "----------------------------------- 2 -----------------------------------\n",
      "- neglect.n.02\n",
      "   - Definition: the state of something that has been unused and neglected\n",
      "   - Lemmas:\n",
      "   - Hyponyms:\n",
      "     - omission.n.02\n",
      "        - Definition: something that has been omitted\n",
      "----------------------------------- 3 -----------------------------------\n",
      "- disregard.n.02\n",
      "   - Definition: willful lack of care and attention\n",
      "   - Lemmas:\n",
      "   - Hyponyms:\n",
      "     - despite.n.02\n",
      "        - Definition: contemptuous disregard\n",
      "----------------------------------- 4 -----------------------------------\n",
      "- negligence.n.02\n",
      "   - Definition: the trait of neglecting responsibilities and lacking concern\n",
      "   - Lemmas:\n",
      "   - Hyponyms:\n",
      "     - delinquency.n.02\n",
      "        - Definition: a tendency to be negligent and uncaring\n",
      "     - laxness.n.01\n",
      "        - Definition: the quality of being lax and neglectful\n",
      "----------------------------------- 5 -----------------------------------\n",
      "- negligence.n.01\n",
      "   - Definition: failure to act with the prudence that a reasonable person would exercise under the same circumstances\n",
      "   - Lemmas:\n",
      "   - Hyponyms:\n",
      "     - comparative_negligence.n.01\n",
      "        - Definition: (law) negligence allocated between the plaintiff and the defendant with a corresponding reduction in damages paid to the plaintiff\n",
      "     - concurrent_negligence.n.01\n",
      "        - Definition: (law) negligence of two of more persons acting independently; the plaintiff may sue both together or separately\n",
      "     - contributory_negligence.n.01\n",
      "        - Definition: (law) behavior by the plaintiff that contributes to the harm resulting from the defendant's negligence\n",
      "     - criminal_negligence.n.01\n",
      "        - Definition: (law) recklessly acting without reasonable caution and putting another person at risk of injury or death (or failing to do something with the same consequences)\n",
      "     - dereliction.n.02\n",
      "        - Definition: willful negligence\n",
      "     - evasion.n.03\n",
      "        - Definition: nonperformance of something distasteful (as by deceit or trickery) that you are supposed to do\n",
      "     - neglect_of_duty.n.01\n",
      "        - Definition: (law) breach of a duty\n",
      "     - nonfeasance.n.01\n",
      "        - Definition: a failure to act when under an obligation to do so; a refusal (without sufficient excuse) to do that which it is your legal duty to do\n",
      "     - circumvention.n.01\n",
      "        - Definition: the act of evading by going around\n",
      "     - escape_mechanism.n.01\n",
      "        - Definition: a form of behavior that evades unpleasant realities\n",
      "     - malingering.n.01\n",
      "        - Definition: evading duty or work by pretending to be incapacitated\n",
      "     - shirking.n.01\n",
      "        - Definition: the evasion of work or duty\n",
      "----------------------------------- 6 -----------------------------------\n",
      "- neglect.v.01\n",
      "   - Definition: leave undone or leave out\n",
      "   - Lemmas:\n",
      "   - Hyponyms:\n",
      "     - forget.v.03\n",
      "        - Definition: forget to do something\n",
      "     - jump.v.13\n",
      "        - Definition: bypass\n",
      "----------------------------------- 7 -----------------------------------\n",
      "- fail.v.01\n",
      "   - Definition: fail to do something; leave something undone\n",
      "   - Lemmas:\n",
      "   - Hyponyms:\n",
      "     - choke.v.06\n",
      "        - Definition: fail to perform adequately due to tension or agitation\n",
      "     - default.v.01\n",
      "        - Definition: fail to pay up\n",
      "     - lose_track.v.01\n",
      "        - Definition: fail to keep informed or aware\n",
      "     - miss.v.03\n",
      "        - Definition: fail to attend an event or activity\n",
      "     - muff.v.01\n",
      "        - Definition: fail to catch, as of a ball\n",
      "     - strike_out.v.02\n",
      "        - Definition: put out or be put out by a strikeout\n",
      "     - cut.v.11\n",
      "        - Definition: intentionally fail to attend\n",
      "     - fan.v.01\n",
      "        - Definition: strike out (a batter), (of a pitcher)\n",
      "     - whiff.v.03\n",
      "        - Definition: strike out by swinging and missing the pitch charged as the third\n",
      "     - bunk_off.v.01\n",
      "        - Definition: play truant from work or school\n",
      "----------------------------------- 8 -----------------------------------\n",
      "- neglect.v.03\n",
      "   - Definition: fail to attend to\n",
      "   - Lemmas:\n",
      "   - Hyponyms:\n",
      "     - slack.v.02\n",
      "        - Definition: be inattentive to, or neglect\n",
      "----------------------------------- 9 -----------------------------------\n",
      "- neglect.v.04\n",
      "   - Definition: give little or no attention to\n",
      "   - Lemmas:\n",
      "   - Hyponyms:\n",
      "     - pretermit.v.01\n",
      "        - Definition: disregard intentionally or let pass\n",
      "\n",
      "set_of_lemmas:\n",
      "\n",
      " ['bunk_off', 'carelessness', 'choke', 'circumvention', 'comparative_negligence', 'concurrent_negligence', 'contributory_negligence', 'criminal_negligence', 'culpable_negligence', 'cut', 'default', 'default_on', 'delinquency', 'dereliction', 'despite', 'disregard', 'disuse', 'dodging', 'drop', 'elision', 'escape', 'escape_mechanism', 'evasion', 'exception', 'exclusion', 'fail', 'fan', 'forget', 'goldbricking', 'goofing_off', 'ignore', 'inadvertence', 'jump', 'laxity', 'laxness', 'leave_out', 'lose_track', 'malingering', 'miss', 'muff', 'neglect', 'neglect_of_duty', 'neglectfulness', 'negligence', 'nonfeasance', 'nonperformance', 'omission', 'omit', 'overleap', 'overlook', 'oversight', 'pass_over', 'play_hooky', 'pretermission', 'pretermit', 'remissness', 'shirking', 'skip', 'skip_over', 'skulking', 'slack', 'slacking', 'slackness', 'soldiering', 'strike_out', 'whiff', 'willful_neglect']\n",
      "\n",
      "Length: 67\n"
     ]
    }
   ],
   "source": [
    "list_of_lemmas = []\n",
    "\n",
    "add_to_list = lambda list1, item1: list1.append(item1)\n",
    "hypos = lambda s: s.hyponyms()\n",
    "\n",
    "meanings = wn.synsets(word, pos=wn.NOUN + wn.VERB + wn.ADJ, lang=language)\n",
    "\n",
    "for i, meaning in enumerate(meanings):\n",
    "    print(35 * \"-\", i + 1, 35 * \"-\")\n",
    "    print(\"-\", meaning.name())\n",
    "    print(\"   - Definition:\", meaning.definition())\n",
    "    print(\"   - Lemmas:\")\n",
    "    ## add lemma to list\n",
    "    [add_to_list(list_of_lemmas, lemma.name()) for lemma in meaning.lemmas(language)]\n",
    "\n",
    "    print(\"   - Hyponyms:\")\n",
    "\n",
    "    for hyponym in meaning.closure(hypos):\n",
    "        print(\"     -\", hyponym.name())\n",
    "        print(\"        - Definition:\", hyponym.definition())\n",
    "        [\n",
    "            add_to_list(list_of_lemmas, lemma.name())\n",
    "            for lemma in hyponym.lemmas(language)\n",
    "        ]\n",
    "\n",
    "# remove duplicates & sort alphabetically\n",
    "set_of_lemmas = sorted([*set(list_of_lemmas)])\n",
    "\n",
    "print(\"\\nset_of_lemmas:\\n\\n\", set_of_lemmas)\n",
    "print(\"\\nLength:\", len(set_of_lemmas))"
   ]
  },
  {
   "cell_type": "markdown",
   "metadata": {},
   "source": [
    "<div class=\"alert alert-info\">Main difference to previous approach is that here the lemmas are not printed in-between but at the bottom.</div>"
   ]
  },
  {
   "cell_type": "markdown",
   "metadata": {
    "id": "EJZUfj0XHIFS"
   },
   "source": [
    "### Exercise\n",
    "\n",
    "Write the previous cell as a def function, and use the function to obtain a list of words of all terms related to joy\n",
    "\n",
    "Call should be like `generate_word_list(seed_word, language)`"
   ]
  },
  {
   "cell_type": "markdown",
   "metadata": {},
   "source": [
    "<div class=\"alert alert-warning\">What exactly is the exercise? The function is already defined below (in 2 variations)</div>"
   ]
  },
  {
   "cell_type": "markdown",
   "metadata": {
    "id": "jcmXGg5GVs8m"
   },
   "source": [
    "### Create function `generate_word_list`"
   ]
  },
  {
   "cell_type": "code",
   "execution_count": 29,
   "metadata": {
    "colab": {
     "base_uri": "https://localhost:8080/"
    },
    "id": "Xmqoxv6QMpoO",
    "outputId": "c8bfbca4-a58c-4e18-dda4-28725de5278f"
   },
   "outputs": [],
   "source": [
    "def generate_word_list(seed_word, language):\n",
    "\n",
    "    ## we create an empty list to store the final word list\n",
    "    list_of_lemmas = []\n",
    "\n",
    "    ## a function to add a word to a list\n",
    "    add_to_list = lambda list1, item1: list1.append(item1)\n",
    "\n",
    "    ## a function to return the hyponyms of a synset\n",
    "    hypos = lambda s: s.hyponyms()\n",
    "\n",
    "    ## wn.synset obtains the list of synonyms and meanings for that word, in different syntactic categories\n",
    "    meanings = wn.synsets(seed_word, pos=wn.NOUN + wn.VERB + wn.ADJ)\n",
    "\n",
    "    ## loop over set of meanings in synset\n",
    "    for meaning in meanings:\n",
    "\n",
    "        ## append all synonyms (lemmas()) of that meaning to the list_of_lemmas\n",
    "        [\n",
    "            add_to_list(list_of_lemmas, lemma.name())\n",
    "            for lemma in meaning.lemmas(language)\n",
    "        ]\n",
    "\n",
    "        ## loop over the list of all possible hyponyms\n",
    "        for hyponym in meaning.closure(hypos):\n",
    "\n",
    "            ## append all synonyms (lemmas()) of that hyponym to the list_of_lemmas\n",
    "            [\n",
    "                add_to_list(list_of_lemmas, lemma.name())\n",
    "                for lemma in hyponym.lemmas(language)\n",
    "            ]\n",
    "\n",
    "    ##eliminate list duplations by applying the set transformation\n",
    "    set_of_lemmas = [*set(list_of_lemmas)]\n",
    "\n",
    "    ## sort alphabetically\n",
    "    set_of_lemmas.sort()\n",
    "\n",
    "    ##length\n",
    "    length = len(set_of_lemmas)\n",
    "\n",
    "    return (list_of_lemmas, length)\n",
    "\n",
    "\n",
    "list_of_lemmas, length = generate_word_list(\"anger\", \"eng\")"
   ]
  },
  {
   "cell_type": "markdown",
   "metadata": {},
   "source": [
    "<div class=\"alert-warning alert\">Why is list_of_lemmas (with its potential duplicates) returned and not set_of_lemmas? In the following function I changed it to set_of_lemmas.</div>"
   ]
  },
  {
   "cell_type": "markdown",
   "metadata": {},
   "source": [
    "### Re-write function `generate_word_list`\n",
    "\n",
    "in order to create select a list of meanings, we create a the list of synsets.\n",
    "\n",
    "Difference to previous functions is that this one will additionally return `list_of_meanings`."
   ]
  },
  {
   "cell_type": "code",
   "execution_count": 30,
   "metadata": {
    "colab": {
     "base_uri": "https://localhost:8080/"
    },
    "id": "qThpYMayK6yH",
    "outputId": "d25d9ced-131b-40c4-c43a-bf6000d72079"
   },
   "outputs": [],
   "source": [
    "def generate_word_list(seed_word, language):\n",
    "\n",
    "    ## we create an empty list to store the final word list\n",
    "    list_of_lemmas = []\n",
    "    list_of_meanings = []\n",
    "\n",
    "    add_to_list = lambda list1, item1: list1.append(item1)\n",
    "\n",
    "    ## a function to return the hyponyms of a synset\n",
    "    hypos = lambda s: s.hyponyms()\n",
    "\n",
    "    ## wn.synset obtains the list of synonyms and meanings for that word, in different syntactic categories\n",
    "    meanings = wn.synsets(seed_word, pos=wn.NOUN + wn.VERB + wn.ADJ)\n",
    "\n",
    "    ## loop over set of meanings in synset\n",
    "    for meaning in meanings:\n",
    "\n",
    "        list_of_meanings += [\n",
    "            [\n",
    "                meaning,\n",
    "                meaning.definition(),\n",
    "                [lemma.name() for lemma in meaning.lemmas(language)],\n",
    "            ]\n",
    "        ]\n",
    "\n",
    "        ## append all synonyms (lemmas()) of that meaning to the list_of_lemmas\n",
    "        [\n",
    "            add_to_list(list_of_lemmas, lemma.name())\n",
    "            for lemma in meaning.lemmas(language)\n",
    "        ]\n",
    "\n",
    "        ## loop over the list of all possible hyponyms\n",
    "        for hyponym in meaning.closure(hypos):\n",
    "\n",
    "            list_of_meanings += [\n",
    "                [\n",
    "                    hyponym,\n",
    "                    hyponym.definition(),\n",
    "                    [lemma.name() for lemma in hyponym.lemmas(language)],\n",
    "                ]\n",
    "            ]\n",
    "\n",
    "            ## append all synonyms (lemmas()) of that hyponym to the list_of_lemmas\n",
    "            [\n",
    "                add_to_list(list_of_lemmas, lemma.name())\n",
    "                for lemma in hyponym.lemmas(language)\n",
    "            ]\n",
    "\n",
    "    # remove duplicates and sort\n",
    "    set_of_lemmas = sorted([*set(list_of_lemmas)])\n",
    "\n",
    "    ##length\n",
    "    length = len(set_of_lemmas)\n",
    "\n",
    "    return (set_of_lemmas, length, list_of_meanings)\n",
    "\n",
    "\n",
    "set_of_lemmas, length, list_of_meanings = generate_word_list(word, language)"
   ]
  },
  {
   "cell_type": "markdown",
   "metadata": {},
   "source": [
    "<div class=\"alert alert-warning\">What was a bit confusing here was that initially the function didn't return the set, but the list of lemmas (with potential duplicates). I changed this here so that the function returns the set.</div>"
   ]
  },
  {
   "cell_type": "markdown",
   "metadata": {
    "id": "0H2buv-cWfEY",
    "tags": []
   },
   "source": [
    "### Using `input()` \n",
    "\n",
    "We can use the python built-in function `input()` to collect a keypress from the user and return a behavior:"
   ]
  },
  {
   "cell_type": "code",
   "execution_count": 31,
   "metadata": {},
   "outputs": [
    {
     "name": "stdin",
     "output_type": "stream",
     "text": [
      " y\n"
     ]
    },
    {
     "name": "stdout",
     "output_type": "stream",
     "text": [
      "Keep!\n"
     ]
    }
   ],
   "source": [
    "while True:\n",
    "    x = input()\n",
    "    if x == \"y\":\n",
    "        print(\"Keep!\")\n",
    "        break\n",
    "    if x == \"n\":\n",
    "        print(\"Ditch!\")\n",
    "        break\n",
    "    else:\n",
    "        print(\"Please press y or n!\")"
   ]
  },
  {
   "cell_type": "markdown",
   "metadata": {
    "id": "0H2buv-cWfEY",
    "tags": []
   },
   "source": [
    "### Try the same with `ipywidgets` \n"
   ]
  },
  {
   "cell_type": "code",
   "execution_count": 32,
   "metadata": {},
   "outputs": [
    {
     "data": {
      "application/vnd.jupyter.widget-view+json": {
       "model_id": "0bacebdcc3354e329f924af5e3f0d0ca",
       "version_major": 2,
       "version_minor": 0
      },
      "text/plain": [
       "VBox(children=(Checkbox(value=True, description='Item A', indent=False), Checkbox(value=True, description='Ite…"
      ]
     },
     "metadata": {},
     "output_type": "display_data"
    }
   ],
   "source": [
    "import ipywidgets as widgets\n",
    "from itertools import compress\n",
    "\n",
    "\n",
    "selection_list = [\"Item A\", \"Item B\", \"Item C\", \"Item D\", \"Item E\"]\n",
    "\n",
    "selection_widget = widgets.VBox(\n",
    "    [\n",
    "        widgets.Checkbox(value=True, description=item, disabled=False, indent=False)\n",
    "        for item in selection_list\n",
    "    ]\n",
    ")\n",
    "\n",
    "selection_widget"
   ]
  },
  {
   "cell_type": "code",
   "execution_count": 33,
   "metadata": {},
   "outputs": [
    {
     "data": {
      "text/plain": [
       "['Item A', 'Item B', 'Item C', 'Item D', 'Item E']"
      ]
     },
     "execution_count": 33,
     "metadata": {},
     "output_type": "execute_result"
    }
   ],
   "source": [
    "checked_list = list(\n",
    "    compress(selection_list, [widget.value for widget in selection_widget.children])\n",
    ")\n",
    "\n",
    "checked_list"
   ]
  },
  {
   "cell_type": "markdown",
   "metadata": {},
   "source": [
    "#### Why we need this\n",
    "\n",
    "We use this function to let the user decide which meanings to keep and which to remove. It will iterate over the set of meanings. For each meaning we are asked to type 1 if we want to keep the meaning, otherwise is not kept. The input is a list of meanings"
   ]
  },
  {
   "cell_type": "raw",
   "metadata": {
    "colab": {
     "base_uri": "https://localhost:8080/"
    },
    "id": "5k4RK0z4QLvK",
    "outputId": "82980514-e102-46dc-c212-52615ebadaeb"
   },
   "source": [
    "def select_meanings(list_meanings):\n",
    "\n",
    "    selected_word_list = []\n",
    "\n",
    "    print(\"the list has:\", len(list_meanings), \"items\")\n",
    "\n",
    "    ##loop over the list\n",
    "    for i, item in enumerate(list_meanings):\n",
    "\n",
    "        print(i + 1, item)\n",
    "\n",
    "        print(\"type 1 if the meaning is adequate, 0 otherwise\")\n",
    "\n",
    "        x = input()\n",
    "\n",
    "        if x == \"1\":\n",
    "            selected_word_list += item[2]\n",
    "\n",
    "    return selected_word_list\n",
    "\n",
    "\n",
    "filtered_list = select_meanings(list_of_meanings)"
   ]
  },
  {
   "cell_type": "raw",
   "metadata": {
    "colab": {
     "base_uri": "https://localhost:8080/"
    },
    "id": "zxdtGPw0S7Lw",
    "outputId": "299230f0-8327-4274-fb90-5f30f04b86c2"
   },
   "source": [
    "print(filtered_list)"
   ]
  },
  {
   "cell_type": "markdown",
   "metadata": {},
   "source": [
    "#### Alternative approach with widgets"
   ]
  },
  {
   "cell_type": "code",
   "execution_count": 35,
   "metadata": {},
   "outputs": [
    {
     "data": {
      "application/vnd.jupyter.widget-view+json": {
       "model_id": "84bbdeb39f67479681f62d21d80d25cb",
       "version_major": 2,
       "version_minor": 0
      },
      "text/plain": [
       "VBox(children=(VBox(children=(Checkbox(value=True, description='disregard.n.01', indent=False), Label(value='l…"
      ]
     },
     "metadata": {},
     "output_type": "display_data"
    }
   ],
   "source": [
    "selection_widget = widgets.VBox(\n",
    "    [\n",
    "        widgets.VBox(\n",
    "            [\n",
    "                widgets.Checkbox(\n",
    "                    value=True,\n",
    "                    description=item[0].name(),\n",
    "                    indent=False,\n",
    "                ),\n",
    "                widgets.Label(\n",
    "                    item[1],\n",
    "                    layout=widgets.Layout(\n",
    "                        margin=\"0 0 0 25px\",\n",
    "                    ),\n",
    "                ),\n",
    "                widgets.Label(\n",
    "                    str(item[2]),\n",
    "                    layout=widgets.Layout(\n",
    "                        margin=\"0 0 0 25px\",\n",
    "                    ),\n",
    "                ),\n",
    "            ]\n",
    "        )\n",
    "        for item in list_of_meanings\n",
    "    ]\n",
    ")\n",
    "\n",
    "selection_widget"
   ]
  },
  {
   "cell_type": "markdown",
   "metadata": {},
   "source": [
    "Create final list from checkbox states"
   ]
  },
  {
   "cell_type": "code",
   "execution_count": 36,
   "metadata": {},
   "outputs": [
    {
     "data": {
      "text/plain": [
       "[[Synset('disregard.n.01'),\n",
       "  'lack of attention and due care',\n",
       "  ['disregard', 'neglect']],\n",
       " [Synset('omission.n.04'),\n",
       "  'neglecting to do something; leaving out or passing over something',\n",
       "  ['omission']],\n",
       " [Synset('exception.n.01'),\n",
       "  'a deliberate act of omission',\n",
       "  ['exception', 'exclusion', 'elision']],\n",
       " [Synset('oversight.n.01'),\n",
       "  'an unintentional omission resulting from failure to notice something',\n",
       "  ['oversight', 'inadvertence']],\n",
       " [Synset('pretermission.n.01'),\n",
       "  'letting pass without notice',\n",
       "  ['pretermission']],\n",
       " [Synset('neglect.n.02'),\n",
       "  'the state of something that has been unused and neglected',\n",
       "  ['neglect', 'disuse']],\n",
       " [Synset('omission.n.02'), 'something that has been omitted', ['omission']],\n",
       " [Synset('disregard.n.02'),\n",
       "  'willful lack of care and attention',\n",
       "  ['disregard', 'neglect']],\n",
       " [Synset('despite.n.02'), 'contemptuous disregard', ['despite']],\n",
       " [Synset('negligence.n.02'),\n",
       "  'the trait of neglecting responsibilities and lacking concern',\n",
       "  ['negligence', 'neglect', 'neglectfulness']],\n",
       " [Synset('delinquency.n.02'),\n",
       "  'a tendency to be negligent and uncaring',\n",
       "  ['delinquency', 'dereliction', 'willful_neglect']],\n",
       " [Synset('laxness.n.01'),\n",
       "  'the quality of being lax and neglectful',\n",
       "  ['laxness', 'laxity', 'remissness', 'slackness']],\n",
       " [Synset('negligence.n.01'),\n",
       "  'failure to act with the prudence that a reasonable person would exercise under the same circumstances',\n",
       "  ['negligence', 'carelessness', 'neglect', 'nonperformance']],\n",
       " [Synset('comparative_negligence.n.01'),\n",
       "  '(law) negligence allocated between the plaintiff and the defendant with a corresponding reduction in damages paid to the plaintiff',\n",
       "  ['comparative_negligence']],\n",
       " [Synset('concurrent_negligence.n.01'),\n",
       "  '(law) negligence of two of more persons acting independently; the plaintiff may sue both together or separately',\n",
       "  ['concurrent_negligence']],\n",
       " [Synset('contributory_negligence.n.01'),\n",
       "  \"(law) behavior by the plaintiff that contributes to the harm resulting from the defendant's negligence\",\n",
       "  ['contributory_negligence']],\n",
       " [Synset('criminal_negligence.n.01'),\n",
       "  '(law) recklessly acting without reasonable caution and putting another person at risk of injury or death (or failing to do something with the same consequences)',\n",
       "  ['criminal_negligence', 'culpable_negligence']],\n",
       " [Synset('dereliction.n.02'), 'willful negligence', ['dereliction']],\n",
       " [Synset('evasion.n.03'),\n",
       "  'nonperformance of something distasteful (as by deceit or trickery) that you are supposed to do',\n",
       "  ['evasion', 'escape', 'dodging']],\n",
       " [Synset('neglect_of_duty.n.01'),\n",
       "  '(law) breach of a duty',\n",
       "  ['neglect_of_duty']],\n",
       " [Synset('nonfeasance.n.01'),\n",
       "  'a failure to act when under an obligation to do so; a refusal (without sufficient excuse) to do that which it is your legal duty to do',\n",
       "  ['nonfeasance']],\n",
       " [Synset('circumvention.n.01'),\n",
       "  'the act of evading by going around',\n",
       "  ['circumvention']],\n",
       " [Synset('escape_mechanism.n.01'),\n",
       "  'a form of behavior that evades unpleasant realities',\n",
       "  ['escape_mechanism']],\n",
       " [Synset('malingering.n.01'),\n",
       "  'evading duty or work by pretending to be incapacitated',\n",
       "  ['malingering', 'skulking']],\n",
       " [Synset('shirking.n.01'),\n",
       "  'the evasion of work or duty',\n",
       "  ['shirking', 'slacking', 'soldiering', 'goofing_off', 'goldbricking']],\n",
       " [Synset('neglect.v.01'),\n",
       "  'leave undone or leave out',\n",
       "  ['neglect',\n",
       "   'pretermit',\n",
       "   'omit',\n",
       "   'drop',\n",
       "   'miss',\n",
       "   'leave_out',\n",
       "   'overlook',\n",
       "   'overleap']],\n",
       " [Synset('forget.v.03'), 'forget to do something', ['forget']],\n",
       " [Synset('jump.v.13'), 'bypass', ['jump', 'pass_over', 'skip', 'skip_over']],\n",
       " [Synset('fail.v.01'),\n",
       "  'fail to do something; leave something undone',\n",
       "  ['fail', 'neglect']],\n",
       " [Synset('choke.v.06'),\n",
       "  'fail to perform adequately due to tension or agitation',\n",
       "  ['choke']],\n",
       " [Synset('default.v.01'), 'fail to pay up', ['default', 'default_on']],\n",
       " [Synset('lose_track.v.01'), 'fail to keep informed or aware', ['lose_track']],\n",
       " [Synset('miss.v.03'), 'fail to attend an event or activity', ['miss']],\n",
       " [Synset('muff.v.01'), 'fail to catch, as of a ball', ['muff']],\n",
       " [Synset('strike_out.v.02'),\n",
       "  'put out or be put out by a strikeout',\n",
       "  ['strike_out']],\n",
       " [Synset('cut.v.11'), 'intentionally fail to attend', ['cut', 'skip']],\n",
       " [Synset('fan.v.01'), 'strike out (a batter), (of a pitcher)', ['fan']],\n",
       " [Synset('whiff.v.03'),\n",
       "  'strike out by swinging and missing the pitch charged as the third',\n",
       "  ['whiff']],\n",
       " [Synset('bunk_off.v.01'),\n",
       "  'play truant from work or school',\n",
       "  ['bunk_off', 'play_hooky']],\n",
       " [Synset('neglect.v.03'), 'fail to attend to', ['neglect']],\n",
       " [Synset('slack.v.02'), 'be inattentive to, or neglect', ['slack']],\n",
       " [Synset('neglect.v.04'),\n",
       "  'give little or no attention to',\n",
       "  ['neglect', 'ignore', 'disregard']],\n",
       " [Synset('pretermit.v.01'),\n",
       "  'disregard intentionally or let pass',\n",
       "  ['pretermit']]]"
      ]
     },
     "execution_count": 36,
     "metadata": {},
     "output_type": "execute_result"
    }
   ],
   "source": [
    "filtered_list = list(\n",
    "    compress(\n",
    "        list_of_meanings,\n",
    "        [widget.children[0].value for widget in selection_widget.children],\n",
    "    )\n",
    ")\n",
    "\n",
    "filtered_list"
   ]
  },
  {
   "cell_type": "markdown",
   "metadata": {
    "id": "bsPl3XFmRCCu"
   },
   "source": [
    "## Part II: Script to generate bag of words\n",
    "\n",
    "Let's put all together so that we can basically input a seed word and have the pipeline run automatically "
   ]
  },
  {
   "cell_type": "markdown",
   "metadata": {},
   "source": [
    "<div class=\"alert alert-info\">Define functions and import again</div>"
   ]
  },
  {
   "cell_type": "code",
   "execution_count": 39,
   "metadata": {
    "id": "bgMw5a8_RO5C"
   },
   "outputs": [],
   "source": [
    "import nltk\n",
    "\n",
    "# nltk.download(\"all\")\n",
    "from nltk.corpus import wordnet as wn\n",
    "\n",
    "\n",
    "def generate_word_list(seed_word, language):\n",
    "    \"\"\"Returns a list of meanings\"\"\"\n",
    "\n",
    "    ## we create an empty list to store the final word list\n",
    "    list_of_lemmas = []\n",
    "    list_of_meanings = []\n",
    "\n",
    "    ## a function to add a word to a list\n",
    "    add_to_list = lambda list1, item1: list1.append(item1)\n",
    "\n",
    "    ## a function to return the hyponyms of a synset\n",
    "    hypos = lambda s: s.hyponyms()\n",
    "\n",
    "    ## wn.synset obtains the list of synonyms and meanings for that word, in different syntactic categories\n",
    "    meanings = wn.synsets(seed_word, pos=wn.NOUN + wn.VERB + wn.ADJ)\n",
    "\n",
    "    ## loop over set of meanings in synset\n",
    "    for meaning in meanings:\n",
    "\n",
    "        ## print the definition of that meaning\n",
    "        # print(meaning, meaning.definition(), [lemma.name() for lemma in meaning.lemmas(language)])\n",
    "        list_of_meanings += [\n",
    "            [\n",
    "                meaning,\n",
    "                meaning.definition(),\n",
    "                [lemma.name() for lemma in meaning.lemmas(language)],\n",
    "            ]\n",
    "        ]\n",
    "\n",
    "        ## append all synonyms (lemmas()) of that meaning to the list_of_lemmas\n",
    "        [\n",
    "            add_to_list(list_of_lemmas, lemma.name())\n",
    "            for lemma in meaning.lemmas(language)\n",
    "        ]\n",
    "\n",
    "        ## loop over the list of all possible hyponyms\n",
    "        for hyponym in meaning.closure(hypos):\n",
    "\n",
    "            ## print the definition of each hyponym\n",
    "            # print(hyponym, hyponym.definition(), [lemma.name() for lemma in hyponym.lemmas(language)])\n",
    "            list_of_meanings += [\n",
    "                [\n",
    "                    hyponym,\n",
    "                    hyponym.definition(),\n",
    "                    [lemma.name() for lemma in hyponym.lemmas(language)],\n",
    "                ]\n",
    "            ]\n",
    "\n",
    "            ## append all synonyms (lemmas()) of that hyponym to the list_of_lemmas\n",
    "            [\n",
    "                add_to_list(list_of_lemmas, lemma.name())\n",
    "                for lemma in hyponym.lemmas(language)\n",
    "            ]\n",
    "\n",
    "    ##eliminate list duplations by applying the set transformation\n",
    "    set_of_lemmas = [*set(list_of_lemmas)]\n",
    "\n",
    "    ## sort alphabetically\n",
    "    set_of_lemmas.sort()\n",
    "\n",
    "    ##length\n",
    "    length = len(set_of_lemmas)\n",
    "\n",
    "    return (list_of_lemmas, length, list_of_meanings)\n",
    "\n",
    "\n",
    "def select_meanings(list_meanings):\n",
    "    \"\"\"\n",
    "    Function to decide which meanings to keep and which to remove.\n",
    "    This function iterates over the set of meanings for each meaning\n",
    "    we are asked to type 1 if we want to keep the meaning, otherwise is not kept\n",
    "    the input is a list of meanings\n",
    "    \"\"\"\n",
    "\n",
    "    selected_word_list = []\n",
    "\n",
    "    print(\"the list has:\", len(list_meanings), \"items\")\n",
    "\n",
    "    count = 0\n",
    "\n",
    "    for item in list_meanings:\n",
    "\n",
    "        count += 1\n",
    "        print(count, item)\n",
    "        print(\"type 1 if the meaning is adequate, 0 otherwise\")\n",
    "\n",
    "        x = input()\n",
    "\n",
    "        if x == \"1\":\n",
    "            try:\n",
    "                selected_word_list += item[2]\n",
    "            except TypeError:\n",
    "                continue\n",
    "\n",
    "        else:\n",
    "            continue\n",
    "\n",
    "    selected_word_list = sorted([*set(selected_word_list)])\n",
    "\n",
    "    return selected_word_list\n",
    "\n",
    "\n",
    "def generate_and_filter(seed_word, language):\n",
    "    \"\"\"Wrapper function\"\"\"\n",
    "\n",
    "    list_of_synsets = generate_word_list(seed_word, language)[2]\n",
    "    filtered_list = select_meanings(list_of_synsets)\n",
    "\n",
    "    return filtered_list"
   ]
  },
  {
   "cell_type": "markdown",
   "metadata": {},
   "source": [
    "Run it with some some seed word"
   ]
  },
  {
   "cell_type": "code",
   "execution_count": 40,
   "metadata": {},
   "outputs": [
    {
     "data": {
      "application/vnd.jupyter.widget-view+json": {
       "model_id": "db6dde987f6f48dabf32e5e73543706a",
       "version_major": 2,
       "version_minor": 0
      },
      "text/plain": [
       "VBox(children=(VBox(children=(Checkbox(value=True, description='disregard.n.01', indent=False), Label(value='l…"
      ]
     },
     "metadata": {},
     "output_type": "display_data"
    }
   ],
   "source": [
    "selection_widget = widgets.VBox(\n",
    "    [\n",
    "        widgets.VBox(\n",
    "            [\n",
    "                widgets.Checkbox(\n",
    "                    value=True,\n",
    "                    description=item[0].name(),\n",
    "                    indent=False,\n",
    "                ),\n",
    "                widgets.Label(\n",
    "                    item[1],\n",
    "                    layout=widgets.Layout(\n",
    "                        margin=\"0 0 0 25px\",\n",
    "                    ),\n",
    "                ),\n",
    "                widgets.Label(\n",
    "                    str(item[2]),\n",
    "                    layout=widgets.Layout(\n",
    "                        margin=\"0 0 0 25px\",\n",
    "                    ),\n",
    "                ),\n",
    "            ]\n",
    "        )\n",
    "        for item in list_of_meanings\n",
    "    ]\n",
    ")\n",
    "\n",
    "selection_widget"
   ]
  },
  {
   "cell_type": "markdown",
   "metadata": {},
   "source": [
    "Create final list from checkbox states"
   ]
  },
  {
   "cell_type": "code",
   "execution_count": 44,
   "metadata": {},
   "outputs": [
    {
     "data": {
      "text/plain": [
       "[[Synset('disregard.n.01'),\n",
       "  'lack of attention and due care',\n",
       "  ['disregard', 'neglect']],\n",
       " [Synset('omission.n.04'),\n",
       "  'neglecting to do something; leaving out or passing over something',\n",
       "  ['omission']],\n",
       " [Synset('exception.n.01'),\n",
       "  'a deliberate act of omission',\n",
       "  ['exception', 'exclusion', 'elision']],\n",
       " [Synset('oversight.n.01'),\n",
       "  'an unintentional omission resulting from failure to notice something',\n",
       "  ['oversight', 'inadvertence']],\n",
       " [Synset('pretermission.n.01'),\n",
       "  'letting pass without notice',\n",
       "  ['pretermission']],\n",
       " [Synset('neglect.n.02'),\n",
       "  'the state of something that has been unused and neglected',\n",
       "  ['neglect', 'disuse']],\n",
       " [Synset('omission.n.02'), 'something that has been omitted', ['omission']],\n",
       " [Synset('disregard.n.02'),\n",
       "  'willful lack of care and attention',\n",
       "  ['disregard', 'neglect']],\n",
       " [Synset('despite.n.02'), 'contemptuous disregard', ['despite']],\n",
       " [Synset('negligence.n.02'),\n",
       "  'the trait of neglecting responsibilities and lacking concern',\n",
       "  ['negligence', 'neglect', 'neglectfulness']],\n",
       " [Synset('delinquency.n.02'),\n",
       "  'a tendency to be negligent and uncaring',\n",
       "  ['delinquency', 'dereliction', 'willful_neglect']],\n",
       " [Synset('laxness.n.01'),\n",
       "  'the quality of being lax and neglectful',\n",
       "  ['laxness', 'laxity', 'remissness', 'slackness']],\n",
       " [Synset('negligence.n.01'),\n",
       "  'failure to act with the prudence that a reasonable person would exercise under the same circumstances',\n",
       "  ['negligence', 'carelessness', 'neglect', 'nonperformance']],\n",
       " [Synset('comparative_negligence.n.01'),\n",
       "  '(law) negligence allocated between the plaintiff and the defendant with a corresponding reduction in damages paid to the plaintiff',\n",
       "  ['comparative_negligence']],\n",
       " [Synset('concurrent_negligence.n.01'),\n",
       "  '(law) negligence of two of more persons acting independently; the plaintiff may sue both together or separately',\n",
       "  ['concurrent_negligence']],\n",
       " [Synset('contributory_negligence.n.01'),\n",
       "  \"(law) behavior by the plaintiff that contributes to the harm resulting from the defendant's negligence\",\n",
       "  ['contributory_negligence']],\n",
       " [Synset('criminal_negligence.n.01'),\n",
       "  '(law) recklessly acting without reasonable caution and putting another person at risk of injury or death (or failing to do something with the same consequences)',\n",
       "  ['criminal_negligence', 'culpable_negligence']],\n",
       " [Synset('dereliction.n.02'), 'willful negligence', ['dereliction']],\n",
       " [Synset('evasion.n.03'),\n",
       "  'nonperformance of something distasteful (as by deceit or trickery) that you are supposed to do',\n",
       "  ['evasion', 'escape', 'dodging']],\n",
       " [Synset('neglect_of_duty.n.01'),\n",
       "  '(law) breach of a duty',\n",
       "  ['neglect_of_duty']],\n",
       " [Synset('nonfeasance.n.01'),\n",
       "  'a failure to act when under an obligation to do so; a refusal (without sufficient excuse) to do that which it is your legal duty to do',\n",
       "  ['nonfeasance']],\n",
       " [Synset('circumvention.n.01'),\n",
       "  'the act of evading by going around',\n",
       "  ['circumvention']],\n",
       " [Synset('escape_mechanism.n.01'),\n",
       "  'a form of behavior that evades unpleasant realities',\n",
       "  ['escape_mechanism']],\n",
       " [Synset('malingering.n.01'),\n",
       "  'evading duty or work by pretending to be incapacitated',\n",
       "  ['malingering', 'skulking']],\n",
       " [Synset('shirking.n.01'),\n",
       "  'the evasion of work or duty',\n",
       "  ['shirking', 'slacking', 'soldiering', 'goofing_off', 'goldbricking']],\n",
       " [Synset('neglect.v.01'),\n",
       "  'leave undone or leave out',\n",
       "  ['neglect',\n",
       "   'pretermit',\n",
       "   'omit',\n",
       "   'drop',\n",
       "   'miss',\n",
       "   'leave_out',\n",
       "   'overlook',\n",
       "   'overleap']],\n",
       " [Synset('forget.v.03'), 'forget to do something', ['forget']],\n",
       " [Synset('jump.v.13'), 'bypass', ['jump', 'pass_over', 'skip', 'skip_over']],\n",
       " [Synset('fail.v.01'),\n",
       "  'fail to do something; leave something undone',\n",
       "  ['fail', 'neglect']],\n",
       " [Synset('choke.v.06'),\n",
       "  'fail to perform adequately due to tension or agitation',\n",
       "  ['choke']],\n",
       " [Synset('default.v.01'), 'fail to pay up', ['default', 'default_on']],\n",
       " [Synset('lose_track.v.01'), 'fail to keep informed or aware', ['lose_track']],\n",
       " [Synset('miss.v.03'), 'fail to attend an event or activity', ['miss']],\n",
       " [Synset('muff.v.01'), 'fail to catch, as of a ball', ['muff']],\n",
       " [Synset('strike_out.v.02'),\n",
       "  'put out or be put out by a strikeout',\n",
       "  ['strike_out']],\n",
       " [Synset('cut.v.11'), 'intentionally fail to attend', ['cut', 'skip']],\n",
       " [Synset('fan.v.01'), 'strike out (a batter), (of a pitcher)', ['fan']],\n",
       " [Synset('whiff.v.03'),\n",
       "  'strike out by swinging and missing the pitch charged as the third',\n",
       "  ['whiff']],\n",
       " [Synset('bunk_off.v.01'),\n",
       "  'play truant from work or school',\n",
       "  ['bunk_off', 'play_hooky']],\n",
       " [Synset('neglect.v.03'), 'fail to attend to', ['neglect']],\n",
       " [Synset('slack.v.02'), 'be inattentive to, or neglect', ['slack']],\n",
       " [Synset('neglect.v.04'),\n",
       "  'give little or no attention to',\n",
       "  ['neglect', 'ignore', 'disregard']],\n",
       " [Synset('pretermit.v.01'),\n",
       "  'disregard intentionally or let pass',\n",
       "  ['pretermit']]]"
      ]
     },
     "execution_count": 44,
     "metadata": {},
     "output_type": "execute_result"
    }
   ],
   "source": [
    "bag_of_words = list(\n",
    "    compress(\n",
    "        list_of_meanings,\n",
    "        [widget.children[0].value for widget in selection_widget.children],\n",
    "    )\n",
    ")\n",
    "\n",
    "bag_of_words"
   ]
  },
  {
   "cell_type": "markdown",
   "metadata": {
    "id": "Uv23QFKCKJG4"
   },
   "source": [
    "---\n",
    "## Find and count words in a given text that are also in the bag of words\n",
    "\n",
    "<div class=\"alert alert-info\">Just for illustration, you can jump directly to the next heading \"Exercise: Function to calculate the frequency ...\"</div>"
   ]
  },
  {
   "cell_type": "code",
   "execution_count": 45,
   "metadata": {
    "colab": {
     "base_uri": "https://localhost:8080/"
    },
    "id": "3W8DqiCqhGgY",
    "outputId": "69c7ea4b-1fc4-450c-e0cf-34b591fb2577"
   },
   "outputs": [
    {
     "name": "stdout",
     "output_type": "stream",
     "text": [
      "bag of words:\n",
      " [[Synset('disregard.n.01'), 'lack of attention and due care', ['disregard', 'neglect']], [Synset('omission.n.04'), 'neglecting to do something; leaving out or passing over something', ['omission']], [Synset('exception.n.01'), 'a deliberate act of omission', ['exception', 'exclusion', 'elision']], [Synset('oversight.n.01'), 'an unintentional omission resulting from failure to notice something', ['oversight', 'inadvertence']], [Synset('pretermission.n.01'), 'letting pass without notice', ['pretermission']], [Synset('neglect.n.02'), 'the state of something that has been unused and neglected', ['neglect', 'disuse']], [Synset('omission.n.02'), 'something that has been omitted', ['omission']], [Synset('disregard.n.02'), 'willful lack of care and attention', ['disregard', 'neglect']], [Synset('despite.n.02'), 'contemptuous disregard', ['despite']], [Synset('negligence.n.02'), 'the trait of neglecting responsibilities and lacking concern', ['negligence', 'neglect', 'neglectfulness']], [Synset('delinquency.n.02'), 'a tendency to be negligent and uncaring', ['delinquency', 'dereliction', 'willful_neglect']], [Synset('laxness.n.01'), 'the quality of being lax and neglectful', ['laxness', 'laxity', 'remissness', 'slackness']], [Synset('negligence.n.01'), 'failure to act with the prudence that a reasonable person would exercise under the same circumstances', ['negligence', 'carelessness', 'neglect', 'nonperformance']], [Synset('comparative_negligence.n.01'), '(law) negligence allocated between the plaintiff and the defendant with a corresponding reduction in damages paid to the plaintiff', ['comparative_negligence']], [Synset('concurrent_negligence.n.01'), '(law) negligence of two of more persons acting independently; the plaintiff may sue both together or separately', ['concurrent_negligence']], [Synset('contributory_negligence.n.01'), \"(law) behavior by the plaintiff that contributes to the harm resulting from the defendant's negligence\", ['contributory_negligence']], [Synset('criminal_negligence.n.01'), '(law) recklessly acting without reasonable caution and putting another person at risk of injury or death (or failing to do something with the same consequences)', ['criminal_negligence', 'culpable_negligence']], [Synset('dereliction.n.02'), 'willful negligence', ['dereliction']], [Synset('evasion.n.03'), 'nonperformance of something distasteful (as by deceit or trickery) that you are supposed to do', ['evasion', 'escape', 'dodging']], [Synset('neglect_of_duty.n.01'), '(law) breach of a duty', ['neglect_of_duty']], [Synset('nonfeasance.n.01'), 'a failure to act when under an obligation to do so; a refusal (without sufficient excuse) to do that which it is your legal duty to do', ['nonfeasance']], [Synset('circumvention.n.01'), 'the act of evading by going around', ['circumvention']], [Synset('escape_mechanism.n.01'), 'a form of behavior that evades unpleasant realities', ['escape_mechanism']], [Synset('malingering.n.01'), 'evading duty or work by pretending to be incapacitated', ['malingering', 'skulking']], [Synset('shirking.n.01'), 'the evasion of work or duty', ['shirking', 'slacking', 'soldiering', 'goofing_off', 'goldbricking']], [Synset('neglect.v.01'), 'leave undone or leave out', ['neglect', 'pretermit', 'omit', 'drop', 'miss', 'leave_out', 'overlook', 'overleap']], [Synset('forget.v.03'), 'forget to do something', ['forget']], [Synset('jump.v.13'), 'bypass', ['jump', 'pass_over', 'skip', 'skip_over']], [Synset('fail.v.01'), 'fail to do something; leave something undone', ['fail', 'neglect']], [Synset('choke.v.06'), 'fail to perform adequately due to tension or agitation', ['choke']], [Synset('default.v.01'), 'fail to pay up', ['default', 'default_on']], [Synset('lose_track.v.01'), 'fail to keep informed or aware', ['lose_track']], [Synset('miss.v.03'), 'fail to attend an event or activity', ['miss']], [Synset('muff.v.01'), 'fail to catch, as of a ball', ['muff']], [Synset('strike_out.v.02'), 'put out or be put out by a strikeout', ['strike_out']], [Synset('cut.v.11'), 'intentionally fail to attend', ['cut', 'skip']], [Synset('fan.v.01'), 'strike out (a batter), (of a pitcher)', ['fan']], [Synset('whiff.v.03'), 'strike out by swinging and missing the pitch charged as the third', ['whiff']], [Synset('bunk_off.v.01'), 'play truant from work or school', ['bunk_off', 'play_hooky']], [Synset('neglect.v.03'), 'fail to attend to', ['neglect']], [Synset('slack.v.02'), 'be inattentive to, or neglect', ['slack']], [Synset('neglect.v.04'), 'give little or no attention to', ['neglect', 'ignore', 'disregard']], [Synset('pretermit.v.01'), 'disregard intentionally or let pass', ['pretermit']]]\n"
     ]
    }
   ],
   "source": [
    "print(\"bag of words:\\n\", bag_of_words)"
   ]
  },
  {
   "cell_type": "markdown",
   "metadata": {},
   "source": [
    "Text to analyze"
   ]
  },
  {
   "cell_type": "code",
   "execution_count": 46,
   "metadata": {
    "colab": {
     "base_uri": "https://localhost:8080/"
    },
    "id": "A_6YCMwPiW3s",
    "outputId": "0b2d830e-81e0-428e-9c93-ed634ccf2bf3"
   },
   "outputs": [
    {
     "name": "stdout",
     "output_type": "stream",
     "text": [
      "word counts:\n",
      " [('towards', 2), ('john', 1), ('threw', 1), ('a', 1), ('tantrum', 1), ('so', 1), ('big', 1), ('that', 1), ('made', 1), ('his', 1), ('mother', 1), ('explode', 1), ('with', 1), ('fury', 1), (',', 1), ('not', 1), ('only', 1), ('him', 1), ('but', 1), ('also', 1), ('the', 1), ('exasperating', 1), ('gods', 1), ('who', 1), ('angered', 1), ('her', 1), ('every', 1), ('day', 1)]\n"
     ]
    }
   ],
   "source": [
    "text = \"\"\"\n",
    "            john threw a tantrum so big that made his mother explode with fury, not only\n",
    "            towards him but also towards the exasperating gods who angered her every day\n",
    "       \"\"\"\n",
    "\n",
    "tokenized_text = nltk.word_tokenize(text)\n",
    "\n",
    "# get frequency distributions\n",
    "freqs = nltk.FreqDist(tokenized_text)\n",
    "\n",
    "# get counts of each word in text1\n",
    "word_counts = freqs.most_common()\n",
    "\n",
    "print(\"word counts:\\n\", word_counts)"
   ]
  },
  {
   "cell_type": "code",
   "execution_count": 47,
   "metadata": {
    "colab": {
     "base_uri": "https://localhost:8080/"
    },
    "id": "A6BahnBOhTib",
    "outputId": "4d16c5b5-4c4a-48cb-a12a-d00f91b4f812"
   },
   "outputs": [
    {
     "name": "stdout",
     "output_type": "stream",
     "text": [
      "0\n"
     ]
    }
   ],
   "source": [
    "bag_of_words_count = 0\n",
    "\n",
    "## loop over the words in the frequency distribution list of the text\n",
    "for wc in word_counts:\n",
    "    word = wc[0]\n",
    "    count = wc[1]\n",
    "\n",
    "    ##if the word is in bag of words, add the count of words to the counter\n",
    "    if word in bag_of_words:\n",
    "\n",
    "        print(word)\n",
    "        bag_of_words_count += count\n",
    "\n",
    "print(bag_of_words_count)"
   ]
  },
  {
   "cell_type": "markdown",
   "metadata": {
    "id": "nr7eizAEmWBp"
   },
   "source": [
    "## Exercise: Function to calculate the frequency of any bag of words in any text"
   ]
  },
  {
   "cell_type": "code",
   "execution_count": 48,
   "metadata": {},
   "outputs": [],
   "source": [
    "def get_bag_of_words_count(text, bow):\n",
    "    \"\"\"\n",
    "    Returns the frequency of a given bag of words in a given text\n",
    "    \"\"\"\n",
    "\n",
    "    tokenized_text = nltk.word_tokenize(text)\n",
    "    freqs = nltk.FreqDist(tokenized_text)\n",
    "    word_counts = freqs.most_common()\n",
    "\n",
    "    bow_count = 0\n",
    "\n",
    "    for wc in word_counts:\n",
    "        word = wc[0]\n",
    "        count = wc[1]\n",
    "\n",
    "        if word in bow:\n",
    "            bow_count += count\n",
    "\n",
    "    return bow_count"
   ]
  },
  {
   "cell_type": "markdown",
   "metadata": {},
   "source": [
    "Run function with some text"
   ]
  },
  {
   "cell_type": "code",
   "execution_count": 49,
   "metadata": {},
   "outputs": [
    {
     "name": "stdout",
     "output_type": "stream",
     "text": [
      "The text contains 0 words from the bag of words.\n"
     ]
    }
   ],
   "source": [
    "text = \"\"\"\n",
    "            john threw a tantrum so big that made his mother explode with fury, not only\n",
    "            towards him but also towards the exasperating gods who angered her every day\n",
    "       \"\"\"\n",
    "\n",
    "print(\n",
    "    \"The text contains\",\n",
    "    get_bag_of_words_count(text, bag_of_words),\n",
    "    \"words from the bag of words.\",\n",
    ")"
   ]
  },
  {
   "cell_type": "code",
   "execution_count": 50,
   "metadata": {},
   "outputs": [
    {
     "name": "stdout",
     "output_type": "stream",
     "text": [
      "The text contains 0 words from the bag of words.\n"
     ]
    }
   ],
   "source": [
    "text = \"\"\"\n",
    "            at first, the bright day made him feel alive, and then dead, then alive again,\n",
    "            ultimately all was an illusion, including the inappropriate love that he now\n",
    "            felt for his sister\n",
    "        \"\"\"\n",
    "\n",
    "print(\n",
    "    \"The text contains\",\n",
    "    get_bag_of_words_count(text, bag_of_words),\n",
    "    \"words from the bag of words.\",\n",
    ")"
   ]
  },
  {
   "cell_type": "markdown",
   "metadata": {
    "id": "H_LoT97JI0KP"
   },
   "source": [
    "# Gold standard tool to perform bag of words approach\n",
    "\n",
    "https://www.liwc.app/\n"
   ]
  },
  {
   "cell_type": "markdown",
   "metadata": {},
   "source": [
    "<div class=\"alert alert-warning\">Unfortunately, the demo on the page doesn't seem to work.</div>"
   ]
  }
 ],
 "metadata": {
  "colab": {
   "collapsed_sections": [],
   "provenance": []
  },
  "kernelspec": {
   "display_name": "Python 3 (ipykernel)",
   "language": "python",
   "name": "python3"
  },
  "language_info": {
   "codemirror_mode": {
    "name": "ipython",
    "version": 3
   },
   "file_extension": ".py",
   "mimetype": "text/x-python",
   "name": "python",
   "nbconvert_exporter": "python",
   "pygments_lexer": "ipython3",
   "version": "3.9.13"
  }
 },
 "nbformat": 4,
 "nbformat_minor": 4
}
