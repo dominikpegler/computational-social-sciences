{
 "cells": [
  {
   "cell_type": "markdown",
   "id": "a717ea9a-d5ea-4d55-bea8-260a40e1076d",
   "metadata": {},
   "source": [
    "Assignment 2 - Extract the reviews from Dune 2021 using IMDB API\n",
    "===\n",
    "\n",
    "*Due: December 6 2022*\n",
    "\n",
    "Assess which sentiment analysis method (AFINN, VADER, TEXTBLOB) and input (Raw, Preprocessed without stop words, Preprocessed with stop words) correlates better with the user rating from IMDB."
   ]
  },
  {
   "cell_type": "markdown",
   "id": "7072d51e-0cbb-4017-8f90-f2f4685f74d6",
   "metadata": {},
   "source": [
    "<img src=\"https://external-content.duckduckgo.com/iu/?u=https%3A%2F%2Fi0.wp.com%2Fnerdmuch.com%2Fwp-content%2Fuploads%2F2019%2F07%2Fdune-movie.jpg&f=1&nofb=1&ipt=9aca5a0f374877be1b804400befe5665f7e3dea66a3e0327f993b70573d47ece&ipo=images\" style=\"width:800px;\"/>"
   ]
  },
  {
   "cell_type": "markdown",
   "id": "9baae249-325c-4a76-ba2d-d6439dffa6ac",
   "metadata": {},
   "source": [
    "## Imports"
   ]
  },
  {
   "cell_type": "code",
   "execution_count": 59,
   "id": "c8deea9d-17f2-48d0-9cd4-80aab43a22b7",
   "metadata": {},
   "outputs": [],
   "source": [
    "import jupyter_black\n",
    "\n",
    "jupyter_black.load()\n",
    "\n",
    "import os\n",
    "import pandas as pd\n",
    "import contractions\n",
    "\n",
    "import regex as re\n",
    "import nltk\n",
    "from nltk.corpus import stopwords\n",
    "from nltk.stem import WordNetLemmatizer\n",
    "import inflect\n",
    "from afinn import Afinn\n",
    "from nltk.sentiment.vader import SentimentIntensityAnalyzer\n",
    "from textblob import TextBlob\n",
    "\n",
    "\n",
    "p = inflect.engine()\n",
    "stop_words = set(stopwords.words(\"english\"))\n",
    "lemma = WordNetLemmatizer()\n",
    "\n",
    "vader_sia = SentimentIntensityAnalyzer()\n",
    "afinn = Afinn()\n",
    "\n",
    "\n",
    "data_path = \"data/\"\n",
    "\n",
    "movie = \"dune_2021\""
   ]
  },
  {
   "cell_type": "markdown",
   "id": "17920411-b6b7-4633-84f4-e4a82ab9470e",
   "metadata": {},
   "source": [
    "## Functions"
   ]
  },
  {
   "cell_type": "code",
   "execution_count": 57,
   "id": "182a8eb4-5104-4ede-b62e-9a44ce90649d",
   "metadata": {},
   "outputs": [],
   "source": [
    "def clean_url(input):\n",
    "    output = re.sub(r\"http\\S+\", \"\", input)\n",
    "    return output\n",
    "\n",
    "\n",
    "def fix_contraction(input):\n",
    "    output = contractions.fix(input)\n",
    "    return output\n",
    "\n",
    "\n",
    "def clean_non_alphanumeric(input):\n",
    "    output = re.sub(r\"[^a-zA-Z0-9]\", \" \", input)\n",
    "    return output\n",
    "\n",
    "\n",
    "def clean_tokenization(input):\n",
    "    output = nltk.word_tokenize(input)\n",
    "    return output\n",
    "\n",
    "\n",
    "def clean_stopwords(input):\n",
    "    output = [item for item in input if item not in stop_words]\n",
    "    return output\n",
    "\n",
    "\n",
    "def numbers_to_words(input):\n",
    "    output = []\n",
    "    for item in input:\n",
    "        if item.isnumeric() == True:\n",
    "            output += [p.number_to_words(item)]\n",
    "        else:\n",
    "            output += [item]\n",
    "    return output\n",
    "\n",
    "\n",
    "def clean_lowercase(input):\n",
    "    output = str(input).lower()\n",
    "    return output\n",
    "\n",
    "\n",
    "def clean_lemmatization(input):\n",
    "    output = [lemma.lemmatize(word=w, pos=\"v\") for w in input]\n",
    "    return output\n",
    "\n",
    "\n",
    "def clean_length(input):\n",
    "    output = [word for word in input if len(word) > 2]\n",
    "    return output\n",
    "\n",
    "\n",
    "def convert_to_string(input):\n",
    "    output = \" \".join(input)\n",
    "    return output\n",
    "\n",
    "\n",
    "def preprocessing(text, remove_stopwords=True):\n",
    "    \"\"\"\n",
    "    Preprocessing pipeline.\n",
    "    \"\"\"\n",
    "    text = clean_url(text)\n",
    "    text = fix_contraction(text)\n",
    "    text = clean_non_alphanumeric(text)\n",
    "    text = clean_lowercase(text)\n",
    "    text = clean_tokenization(text)\n",
    "    text = numbers_to_words(text)\n",
    "    if remove_stopwords:\n",
    "        text = clean_stopwords(text)\n",
    "    text = clean_lemmatization(text)\n",
    "    text = clean_length(text)\n",
    "    text = convert_to_string(text)\n",
    "    return text"
   ]
  },
  {
   "cell_type": "markdown",
   "id": "8c98b53d-e0ca-4685-be73-563551bc043b",
   "metadata": {
    "tags": []
   },
   "source": [
    "## Load reviews from disk\n",
    "\n",
    "Download in Assignment 1"
   ]
  },
  {
   "cell_type": "code",
   "execution_count": 63,
   "id": "199651f6-10d4-491e-9fd2-675d301b9191",
   "metadata": {},
   "outputs": [
    {
     "name": "stdout",
     "output_type": "stream",
     "text": [
      "   rating                                                raw\n",
      "0     4.5  Movie definitely is one of the greatest films ...\n",
      "1     2.0  Like the score that crescendoes throughout, th...\n",
      "2     4.0  So much like star wars and Lord of the rings m...\n",
      "3     5.0  The best movie score ever composed! With the b...\n",
      "4     4.5  If you like science fiction films, this is pre...\n",
      "8780 total\n"
     ]
    }
   ],
   "source": [
    "df = pd.read_csv(data_path + movie + \".csv\")[[\"rating\", \"review\"]].rename(\n",
    "    columns={\"review\": \"raw\"}\n",
    ")\n",
    "\n",
    "print(df.head())\n",
    "print(len(df), \"total\")"
   ]
  },
  {
   "cell_type": "markdown",
   "id": "3f06664b-8d1b-4d4e-b968-3bc7d62b325f",
   "metadata": {},
   "source": [
    "## Add preprocessed reviews"
   ]
  },
  {
   "cell_type": "code",
   "execution_count": 64,
   "id": "83da18fe-622b-43c0-9cf7-4e910387a1b8",
   "metadata": {},
   "outputs": [],
   "source": [
    "df[\"pp\"] = df.raw.apply(lambda x: preprocessing(x, False))\n",
    "df[\"pp_no_stop\"] = df.raw.apply(lambda x: preprocessing(x, True))"
   ]
  },
  {
   "cell_type": "markdown",
   "id": "ac805b8d-c1c4-408d-a082-227569085ed2",
   "metadata": {
    "tags": []
   },
   "source": [
    "## Add sentiment scores"
   ]
  },
  {
   "cell_type": "code",
   "execution_count": 65,
   "id": "fcc0b495-32ae-4a53-93d5-0f50618d9ba3",
   "metadata": {},
   "outputs": [],
   "source": [
    "df[\"afinn_raw\"] = df.raw.apply(lambda x: afinn.score(x))\n",
    "df[\"vader_raw\"] = df.raw.apply(lambda x: vader_sia.polarity_scores(x)[\"compound\"])\n",
    "df[\"textblob_raw\"] = df.raw.apply(lambda x: TextBlob(x).sentiment.polarity)\n",
    "df[\"afinn_pp\"] = df.pp.apply(lambda x: afinn.score(x))\n",
    "df[\"vader_pp\"] = df.pp.apply(lambda x: vader_sia.polarity_scores(x)[\"compound\"])\n",
    "df[\"textblob_pp\"] = df.pp.apply(lambda x: TextBlob(x).sentiment.polarity)\n",
    "df[\"afinn_pp_no_stop\"] = df.pp_no_stop.apply(lambda x: afinn.score(x))\n",
    "df[\"vader_pp_no_stop\"] = df.pp_no_stop.apply(\n",
    "    lambda x: vader_sia.polarity_scores(x)[\"compound\"]\n",
    ")\n",
    "df[\"textblob_pp_no_stop\"] = df.pp_no_stop.apply(\n",
    "    lambda x: TextBlob(x).sentiment.polarity\n",
    ")"
   ]
  },
  {
   "cell_type": "code",
   "execution_count": 66,
   "id": "b6d5088f-de04-41ed-84a3-6f370f7a6452",
   "metadata": {},
   "outputs": [
    {
     "data": {
      "text/html": [
       "<div>\n",
       "<style scoped>\n",
       "    .dataframe tbody tr th:only-of-type {\n",
       "        vertical-align: middle;\n",
       "    }\n",
       "\n",
       "    .dataframe tbody tr th {\n",
       "        vertical-align: top;\n",
       "    }\n",
       "\n",
       "    .dataframe thead th {\n",
       "        text-align: right;\n",
       "    }\n",
       "</style>\n",
       "<table border=\"1\" class=\"dataframe\">\n",
       "  <thead>\n",
       "    <tr style=\"text-align: right;\">\n",
       "      <th></th>\n",
       "      <th>rating</th>\n",
       "      <th>raw</th>\n",
       "      <th>pp</th>\n",
       "      <th>pp_no_stop</th>\n",
       "      <th>afinn_raw</th>\n",
       "      <th>vader_raw</th>\n",
       "      <th>textblob_raw</th>\n",
       "      <th>afinn_pp</th>\n",
       "      <th>vader_pp</th>\n",
       "      <th>textblob_pp</th>\n",
       "      <th>afinn_pp_no_stop</th>\n",
       "      <th>vader_pp_no_stop</th>\n",
       "      <th>textblob_pp_no_stop</th>\n",
       "    </tr>\n",
       "  </thead>\n",
       "  <tbody>\n",
       "    <tr>\n",
       "      <th>0</th>\n",
       "      <td>4.5</td>\n",
       "      <td>Movie definitely is one of the greatest films ...</td>\n",
       "      <td>movie definitely one the greatest film the dec...</td>\n",
       "      <td>movie definitely one greatest film decade surp...</td>\n",
       "      <td>3.0</td>\n",
       "      <td>0.7083</td>\n",
       "      <td>0.145312</td>\n",
       "      <td>3.0</td>\n",
       "      <td>0.7083</td>\n",
       "      <td>0.173214</td>\n",
       "      <td>3.0</td>\n",
       "      <td>0.8316</td>\n",
       "      <td>0.242500</td>\n",
       "    </tr>\n",
       "    <tr>\n",
       "      <th>1</th>\n",
       "      <td>2.0</td>\n",
       "      <td>Like the score that crescendoes throughout, th...</td>\n",
       "      <td>like the score that crescendo throughout this ...</td>\n",
       "      <td>like score crescendo throughout movie overwrou...</td>\n",
       "      <td>-1.0</td>\n",
       "      <td>0.1655</td>\n",
       "      <td>0.075000</td>\n",
       "      <td>-1.0</td>\n",
       "      <td>0.1655</td>\n",
       "      <td>0.075000</td>\n",
       "      <td>-1.0</td>\n",
       "      <td>0.5994</td>\n",
       "      <td>0.075000</td>\n",
       "    </tr>\n",
       "    <tr>\n",
       "      <th>2</th>\n",
       "      <td>4.0</td>\n",
       "      <td>So much like star wars and Lord of the rings m...</td>\n",
       "      <td>much like star war and lord the ring make this...</td>\n",
       "      <td>much like star war lord ring make movie amaze</td>\n",
       "      <td>6.0</td>\n",
       "      <td>0.4549</td>\n",
       "      <td>0.400000</td>\n",
       "      <td>2.0</td>\n",
       "      <td>0.2732</td>\n",
       "      <td>0.200000</td>\n",
       "      <td>2.0</td>\n",
       "      <td>0.2732</td>\n",
       "      <td>0.200000</td>\n",
       "    </tr>\n",
       "    <tr>\n",
       "      <th>3</th>\n",
       "      <td>5.0</td>\n",
       "      <td>The best movie score ever composed! With the b...</td>\n",
       "      <td>the best movie score ever compose with the bes...</td>\n",
       "      <td>best movie score ever compose best edit ever m...</td>\n",
       "      <td>21.0</td>\n",
       "      <td>0.9879</td>\n",
       "      <td>0.800000</td>\n",
       "      <td>21.0</td>\n",
       "      <td>0.9867</td>\n",
       "      <td>0.780000</td>\n",
       "      <td>21.0</td>\n",
       "      <td>0.9867</td>\n",
       "      <td>0.780000</td>\n",
       "    </tr>\n",
       "    <tr>\n",
       "      <th>4</th>\n",
       "      <td>4.5</td>\n",
       "      <td>If you like science fiction films, this is pre...</td>\n",
       "      <td>you like science fiction film this pretty much...</td>\n",
       "      <td>like science fiction film pretty much must see...</td>\n",
       "      <td>11.0</td>\n",
       "      <td>0.9208</td>\n",
       "      <td>0.234621</td>\n",
       "      <td>11.0</td>\n",
       "      <td>0.9410</td>\n",
       "      <td>0.238083</td>\n",
       "      <td>11.0</td>\n",
       "      <td>0.9623</td>\n",
       "      <td>0.185648</td>\n",
       "    </tr>\n",
       "  </tbody>\n",
       "</table>\n",
       "</div>"
      ],
      "text/plain": [
       "   rating                                                raw  \\\n",
       "0     4.5  Movie definitely is one of the greatest films ...   \n",
       "1     2.0  Like the score that crescendoes throughout, th...   \n",
       "2     4.0  So much like star wars and Lord of the rings m...   \n",
       "3     5.0  The best movie score ever composed! With the b...   \n",
       "4     4.5  If you like science fiction films, this is pre...   \n",
       "\n",
       "                                                  pp  \\\n",
       "0  movie definitely one the greatest film the dec...   \n",
       "1  like the score that crescendo throughout this ...   \n",
       "2  much like star war and lord the ring make this...   \n",
       "3  the best movie score ever compose with the bes...   \n",
       "4  you like science fiction film this pretty much...   \n",
       "\n",
       "                                          pp_no_stop  afinn_raw  vader_raw  \\\n",
       "0  movie definitely one greatest film decade surp...        3.0     0.7083   \n",
       "1  like score crescendo throughout movie overwrou...       -1.0     0.1655   \n",
       "2      much like star war lord ring make movie amaze        6.0     0.4549   \n",
       "3  best movie score ever compose best edit ever m...       21.0     0.9879   \n",
       "4  like science fiction film pretty much must see...       11.0     0.9208   \n",
       "\n",
       "   textblob_raw  afinn_pp  vader_pp  textblob_pp  afinn_pp_no_stop  \\\n",
       "0      0.145312       3.0    0.7083     0.173214               3.0   \n",
       "1      0.075000      -1.0    0.1655     0.075000              -1.0   \n",
       "2      0.400000       2.0    0.2732     0.200000               2.0   \n",
       "3      0.800000      21.0    0.9867     0.780000              21.0   \n",
       "4      0.234621      11.0    0.9410     0.238083              11.0   \n",
       "\n",
       "   vader_pp_no_stop  textblob_pp_no_stop  \n",
       "0            0.8316             0.242500  \n",
       "1            0.5994             0.075000  \n",
       "2            0.2732             0.200000  \n",
       "3            0.9867             0.780000  \n",
       "4            0.9623             0.185648  "
      ]
     },
     "execution_count": 66,
     "metadata": {},
     "output_type": "execute_result"
    }
   ],
   "source": [
    "df.head()"
   ]
  },
  {
   "cell_type": "markdown",
   "id": "b327b40b-5aaf-47c0-b67d-54d36e7a1b9e",
   "metadata": {
    "tags": []
   },
   "source": [
    "## Compute correlations with ratings"
   ]
  },
  {
   "cell_type": "code",
   "execution_count": 75,
   "id": "9e7436bd-7593-4c15-9c9c-83b6a86cea37",
   "metadata": {},
   "outputs": [
    {
     "data": {
      "text/plain": [
       "textblob_raw           0.526556\n",
       "vader_raw              0.510415\n",
       "vader_pp               0.481346\n",
       "vader_pp_no_stop       0.445480\n",
       "textblob_pp            0.426193\n",
       "textblob_pp_no_stop    0.420752\n",
       "afinn_raw              0.290606\n",
       "afinn_pp               0.270597\n",
       "afinn_pp_no_stop       0.267969\n",
       "Name: rating, dtype: float64"
      ]
     },
     "execution_count": 75,
     "metadata": {},
     "output_type": "execute_result"
    }
   ],
   "source": [
    "df.corr().sort_values(\"rating\", ascending=False).iloc[1:, 0]"
   ]
  }
 ],
 "metadata": {
  "kernelspec": {
   "display_name": "Python 3 (ipykernel)",
   "language": "python",
   "name": "python3"
  },
  "language_info": {
   "codemirror_mode": {
    "name": "ipython",
    "version": 3
   },
   "file_extension": ".py",
   "mimetype": "text/x-python",
   "name": "python",
   "nbconvert_exporter": "python",
   "pygments_lexer": "ipython3",
   "version": "3.9.13"
  }
 },
 "nbformat": 4,
 "nbformat_minor": 5
}
