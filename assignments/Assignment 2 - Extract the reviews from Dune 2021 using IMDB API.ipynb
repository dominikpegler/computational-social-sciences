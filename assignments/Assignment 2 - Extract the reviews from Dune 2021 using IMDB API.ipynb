{
 "cells": [
  {
   "cell_type": "markdown",
   "id": "a717ea9a-d5ea-4d55-bea8-260a40e1076d",
   "metadata": {},
   "source": [
    "Assignment 2 - Extract the reviews from Dune 2021 using IMDB API\n",
    "===\n",
    "\n",
    "*Due: December 6 2022*\n",
    "\n",
    "Assess which sentiment analysis method (AFINN, VADER, TEXTBLOB) and input (Raw, Preprocessed without stop words, Preprocessed with stop words) correlates better with the user rating from IMDB."
   ]
  },
  {
   "cell_type": "code",
   "execution_count": 1,
   "id": "199651f6-10d4-491e-9fd2-675d301b9191",
   "metadata": {},
   "outputs": [],
   "source": [
    "#\n",
    "#\n",
    "#"
   ]
  }
 ],
 "metadata": {
  "kernelspec": {
   "display_name": "Python 3 (ipykernel)",
   "language": "python",
   "name": "python3"
  },
  "language_info": {
   "codemirror_mode": {
    "name": "ipython",
    "version": 3
   },
   "file_extension": ".py",
   "mimetype": "text/x-python",
   "name": "python",
   "nbconvert_exporter": "python",
   "pygments_lexer": "ipython3",
   "version": "3.9.13"
  }
 },
 "nbformat": 4,
 "nbformat_minor": 5
}
