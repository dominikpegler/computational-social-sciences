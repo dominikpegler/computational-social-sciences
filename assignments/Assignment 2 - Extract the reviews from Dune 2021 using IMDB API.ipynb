{
 "cells": [
  {
   "cell_type": "markdown",
   "id": "a717ea9a-d5ea-4d55-bea8-260a40e1076d",
   "metadata": {},
   "source": [
    "Assignment 2 - Extract the reviews from Dune 2021 using IMDB API\n",
    "===\n",
    "\n",
    "*Due: December 6 2022*\n",
    "\n",
    "Assess which sentiment analysis method (AFINN, VADER, TEXTBLOB) and input (Raw, Preprocessed without stop words, Preprocessed with stop words) correlates better with the user rating from IMDB."
   ]
  },
  {
   "cell_type": "markdown",
   "id": "9baae249-325c-4a76-ba2d-d6439dffa6ac",
   "metadata": {},
   "source": [
    "## Imports and functions"
   ]
  },
  {
   "cell_type": "code",
   "execution_count": 59,
   "id": "60918097-1e36-4bf1-83cf-da9fb76d82eb",
   "metadata": {},
   "outputs": [],
   "source": [
    "import jupyter_black\n",
    "import os\n",
    "import json\n",
    "import pandas as pd\n",
    "import contractions\n",
    "from afinn import Afinn\n",
    "from nltk.sentiment.vader import SentimentIntensityAnalyzer\n",
    "\n",
    "\n",
    "vader_sia = SentimentIntensityAnalyzer()\n",
    "afinn = Afinn()\n",
    "\n",
    "\n",
    "jupyter_black.load()\n",
    "\n",
    "\n",
    "data_path = \"data/01_data.json\"\n",
    "\n",
    "movie = \"dune_2021\"\n",
    "\n",
    "\n",
    "def create_wordstrings(df):\n",
    "    \"\"\"\n",
    "    returns a clean wordstring\n",
    "    \"\"\"\n",
    "\n",
    "    word_strings = df.quotes.str.lower().map(lambda x: contractions.fix(x))\n",
    "\n",
    "    return word_strings"
   ]
  },
  {
   "cell_type": "markdown",
   "id": "8c98b53d-e0ca-4685-be73-563551bc043b",
   "metadata": {
    "tags": []
   },
   "source": [
    "## Load reviews from disk\n",
    "\n",
    "Download in Assignment 1"
   ]
  },
  {
   "cell_type": "code",
   "execution_count": 60,
   "id": "199651f6-10d4-491e-9fd2-675d301b9191",
   "metadata": {},
   "outputs": [
    {
     "name": "stdout",
     "output_type": "stream",
     "text": [
      "Reviews loaded.\n"
     ]
    }
   ],
   "source": [
    "if os.path.exists(data_path):\n",
    "\n",
    "    with open(data_path) as fp:\n",
    "        data = json.load(fp)\n",
    "\n",
    "    if movie in data.keys():\n",
    "        print(\"Reviews loaded.\")\n",
    "        df = pd.json_normalize(data[movie])\n",
    "        df[\"quoteClean\"] = create_wordstrings(df)\n",
    "\n",
    "    else:\n",
    "        print(\"Movie not downloaded. Go to assignment 1 to download it.\")\n",
    "else:\n",
    "    print(\"No data file available. Go to assignment 1.\")"
   ]
  },
  {
   "cell_type": "markdown",
   "id": "ac805b8d-c1c4-408d-a082-227569085ed2",
   "metadata": {
    "tags": []
   },
   "source": [
    "## Add sentiment scores"
   ]
  },
  {
   "cell_type": "code",
   "execution_count": 68,
   "id": "fcc0b495-32ae-4a53-93d5-0f50618d9ba3",
   "metadata": {},
   "outputs": [],
   "source": [
    "df[\"afinn\"] = df.quoteClean.apply(lambda x: afinn.score(x))\n",
    "df[\"vader\"] = df.quoteClean.apply(lambda x: vader_sia.polarity_scores(x)[\"compound\"])\n",
    "# TEXTBLOB missing"
   ]
  },
  {
   "cell_type": "markdown",
   "id": "e18b272a-71b2-48ae-925c-09ff5956d604",
   "metadata": {},
   "source": [
    "<div class=\"alert alert-warning\">Textblob scores still missing</div>"
   ]
  },
  {
   "cell_type": "markdown",
   "id": "b327b40b-5aaf-47c0-b67d-54d36e7a1b9e",
   "metadata": {
    "tags": []
   },
   "source": [
    "## Compute correlations with ratings"
   ]
  },
  {
   "cell_type": "markdown",
   "id": "05ba4339-16fd-42d2-852a-c00b7b5d9239",
   "metadata": {},
   "source": [
    "How do the ratings look like?"
   ]
  },
  {
   "cell_type": "code",
   "execution_count": 73,
   "id": "a3981628-a36e-4b57-8396-221231db65c6",
   "metadata": {},
   "outputs": [
    {
     "data": {
      "text/plain": [
       "array(['4/5', '5/5', '9/10', 'B+', '8/10', nan, 'B-', '2/5', 'A', '3.5/5',\n",
       "       'D', '4/4', '3/5', '7/10', '10/10', '3/4', '8.5/10', '3.5',\n",
       "       '4.5/5', '3.5/4', '', '1.5/4', '2.5/5', 'A-', '2.5/4', '6.5/10',\n",
       "       'C', 'B', 'C-', '2/4', '4', '6/10', 'C+', '5.5/10', 'A+',\n",
       "       '2.5 out of 5', '7.5/10', '1/4', '4.5/10', '89/100', '7',\n",
       "       '2.5/4.0', '9.5/10', '4.84458/10', '4/10', '3.5/4.0', '3',\n",
       "       'B-plus', '50/100', '7.2/10'], dtype=object)"
      ]
     },
     "execution_count": 73,
     "metadata": {},
     "output_type": "execute_result"
    }
   ],
   "source": [
    "df.scoreOri.unique()"
   ]
  },
  {
   "cell_type": "markdown",
   "id": "e62293e4-194e-4ac9-b6dd-20c0711fd465",
   "metadata": {},
   "source": [
    "<div class=\"alert alert-warning\">This looks pretty messy.</div>"
   ]
  }
 ],
 "metadata": {
  "kernelspec": {
   "display_name": "Python 3 (ipykernel)",
   "language": "python",
   "name": "python3"
  },
  "language_info": {
   "codemirror_mode": {
    "name": "ipython",
    "version": 3
   },
   "file_extension": ".py",
   "mimetype": "text/x-python",
   "name": "python",
   "nbconvert_exporter": "python",
   "pygments_lexer": "ipython3",
   "version": "3.9.13"
  }
 },
 "nbformat": 4,
 "nbformat_minor": 5
}
