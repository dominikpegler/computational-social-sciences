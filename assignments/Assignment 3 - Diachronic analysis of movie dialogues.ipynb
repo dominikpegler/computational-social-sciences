{
 "cells": [
  {
   "cell_type": "markdown",
   "id": "a717ea9a-d5ea-4d55-bea8-260a40e1076d",
   "metadata": {},
   "source": [
    "Assignment 3 - Diachronic analysis of movie dialogues\n",
    "===\n",
    "\n",
    "*Due: January 1 2023*\n",
    "\n",
    "In this assignment you will analyze how the expression of Hope in movie dialogues changed with time."
   ]
  },
  {
   "cell_type": "markdown",
   "id": "57c4f04c-b0ca-42ef-a96e-3839bcd32438",
   "metadata": {},
   "source": [
    "## Imports"
   ]
  },
  {
   "cell_type": "raw",
   "id": "c54703c9-b552-4692-b33a-f261c0ebd218",
   "metadata": {},
   "source": [
    "import jupyter_black\n",
    "\n",
    "jupyter_black.load()"
   ]
  },
  {
   "cell_type": "code",
   "execution_count": 2,
   "id": "0a66a017-7a31-460c-a74a-2fff691e7332",
   "metadata": {},
   "outputs": [],
   "source": [
    "import os\n",
    "from nltk.corpus import wordnet as wn\n",
    "import pandas as pd\n",
    "import ipywidgets as widgets\n",
    "import itertools\n",
    "import nltk\n",
    "import regex as re\n",
    "import contractions\n",
    "from nltk.corpus import stopwords\n",
    "from nltk.stem import WordNetLemmatizer\n",
    "from gensim.models.word2vec import Word2Vec\n",
    "import ast\n",
    "from glob import glob\n",
    "import collections\n",
    "from scipy import stats\n",
    "import numpy as np\n",
    "\n",
    "\n",
    "lemma = WordNetLemmatizer()\n",
    "stop_words = set(stopwords.words(\"english\"))\n",
    "layout = widgets.Layout(width=\"auto\")\n",
    "lang = \"eng\"\n",
    "data_path = \"data/dialogs_preprocessed2/\""
   ]
  },
  {
   "cell_type": "markdown",
   "id": "0ea52e22-c3ff-4f6d-a89b-12c6262efe35",
   "metadata": {},
   "source": [
    "## Functions"
   ]
  },
  {
   "cell_type": "markdown",
   "id": "62cfe477-ef86-43ee-97f9-eb24de4683dd",
   "metadata": {},
   "source": [
    "### Functions for text preprocessing"
   ]
  },
  {
   "cell_type": "code",
   "execution_count": 3,
   "id": "a65279c8-3780-4777-8ba8-e193159d62ce",
   "metadata": {},
   "outputs": [],
   "source": [
    "def clean_url(input):\n",
    "    output = re.sub(r\"http\\S+\", \"\", input)\n",
    "    return output\n",
    "\n",
    "\n",
    "def fix_contraction(input):\n",
    "    output = contractions.fix(input)\n",
    "    return output\n",
    "\n",
    "\n",
    "def clean_non_alphanumeric(input):\n",
    "    output = re.sub(r\"[^a-zA-Z0-9]\", \" \", input)\n",
    "    return output\n",
    "\n",
    "\n",
    "def clean_tokenization(input):\n",
    "    output = nltk.word_tokenize(input)\n",
    "    return output\n",
    "\n",
    "\n",
    "def clean_stopwords(input):\n",
    "    output = [item for item in input if item not in stop_words]\n",
    "    return output\n",
    "\n",
    "\n",
    "def numbers_to_words(input):\n",
    "    output = []\n",
    "    for item in input:\n",
    "        if item.isnumeric() == True:\n",
    "            output += [p.number_to_words(item)]\n",
    "        else:\n",
    "            output += [item]\n",
    "    return output\n",
    "\n",
    "\n",
    "def clean_lowercase(input):\n",
    "    output = str(input).lower()\n",
    "    return output\n",
    "\n",
    "\n",
    "def clean_lemmatization(input):\n",
    "    output = [lemma.lemmatize(word=w, pos=\"v\") for w in input]\n",
    "    return output\n",
    "\n",
    "\n",
    "def clean_length(input):\n",
    "    output = [word for word in input if len(word) > 2]\n",
    "    return output\n",
    "\n",
    "\n",
    "def convert_to_string(input):\n",
    "    output = \" \".join(input)\n",
    "    return output\n",
    "\n",
    "\n",
    "def preprocessing(text, remove_stopwords=True):\n",
    "    \"\"\"\n",
    "    Preprocessing pipeline.\n",
    "    \"\"\"\n",
    "    text = clean_url(text)\n",
    "    text = fix_contraction(text)\n",
    "    text = clean_non_alphanumeric(text)\n",
    "    text = clean_lowercase(text)\n",
    "    text = clean_tokenization(text)\n",
    "    text = numbers_to_words(text)\n",
    "    if remove_stopwords:\n",
    "        text = clean_stopwords(text)\n",
    "    text = clean_lemmatization(text)\n",
    "    text = clean_length(text)\n",
    "    text = convert_to_string(text)\n",
    "    return text"
   ]
  },
  {
   "cell_type": "markdown",
   "id": "bec1ed30-89b9-4f73-9d36-2b30a2115ecc",
   "metadata": {},
   "source": [
    "### Functions for wordnet"
   ]
  },
  {
   "cell_type": "code",
   "execution_count": 4,
   "id": "95f3c87e-4e4f-4ba1-8600-f0923cc2c122",
   "metadata": {},
   "outputs": [],
   "source": [
    "def generate_word_list(seed_word, language):\n",
    "    \"\"\"\n",
    "    Takes in a single seed word and returns\n",
    "    a word list, the length and a list of synsets\n",
    "    \"\"\"\n",
    "\n",
    "    ## we create an empty list to store the final word list\n",
    "    list_of_lemmas = []\n",
    "    list_of_meanings = []\n",
    "\n",
    "    ## a function to add a word to a list\n",
    "    add_to_list = lambda list1, item1: list1.append(item1)\n",
    "\n",
    "    ## a function to return the hyponyms of a synset\n",
    "    hypos = lambda s: s.hyponyms()\n",
    "\n",
    "    ## wn.synset obtains the list of synonyms and meanings for that word, in different syntactic categories\n",
    "    meanings = wn.synsets(seed_word, pos=wn.NOUN + wn.VERB + wn.ADJ)\n",
    "\n",
    "    ## loop over set of meanings in synset\n",
    "    for meaning in meanings:\n",
    "\n",
    "        ## add synset, definition, and a list of all associated lemmas into the list_of_meanings\n",
    "        list_of_meanings += [\n",
    "            [\n",
    "                meaning,\n",
    "                meaning.definition(),\n",
    "                [lemma.name() for lemma in meaning.lemmas(language)],\n",
    "            ]\n",
    "        ]\n",
    "\n",
    "        ## append all synonyms (lemmas()) of that meaning to the list_of_lemmas\n",
    "        [\n",
    "            add_to_list(list_of_lemmas, lemma.name())\n",
    "            for lemma in meaning.lemmas(language)\n",
    "        ]\n",
    "\n",
    "        ## loop over the list of all possible hyponyms\n",
    "        for hyponym in meaning.closure(hypos):\n",
    "\n",
    "            ## add synsets, definition, and a list of all associated lemmas into the list_of_meanings\n",
    "            list_of_meanings += [\n",
    "                [\n",
    "                    hyponym,\n",
    "                    hyponym.definition(),\n",
    "                    [lemma.name() for lemma in hyponym.lemmas(language)],\n",
    "                ]\n",
    "            ]\n",
    "\n",
    "            ## append all synonyms (lemmas()) of that hyponym to the list_of_lemmas\n",
    "            [\n",
    "                add_to_list(list_of_lemmas, lemma.name())\n",
    "                for lemma in hyponym.lemmas(language)\n",
    "            ]\n",
    "\n",
    "    ##eliminate list duplications by applying the set transformation\n",
    "    set_of_lemmas = [*set(list_of_lemmas)]\n",
    "\n",
    "    ## sort alphabetically\n",
    "    set_of_lemmas.sort()\n",
    "\n",
    "    ##length\n",
    "    length = len(set_of_lemmas)\n",
    "\n",
    "    return (set_of_lemmas, length, list_of_meanings)\n",
    "\n",
    "\n",
    "def prune_list(w, syn_list):\n",
    "    \"\"\"\n",
    "    Takes in a container checkbox widget,\n",
    "    a list with synsets and returns\n",
    "    a filtered word list.\n",
    "    \"\"\"\n",
    "\n",
    "    filtered_meanings = list(\n",
    "        itertools.compress(syn_list, [widget.value for widget in w.children])\n",
    "    )\n",
    "\n",
    "    filtered_list = [word for lemmas in filtered_meanings for word in lemmas[2]]\n",
    "\n",
    "    filtered_list = sorted([*set(filtered_list)])\n",
    "\n",
    "    return filtered_list\n",
    "\n",
    "\n",
    "def expand_meanings(seed_words, language):\n",
    "    \"\"\"\n",
    "    Takes in a list of seed words and returns all synsets.\n",
    "    \"\"\"\n",
    "\n",
    "    list_meanings = []\n",
    "\n",
    "    for sw in seed_words:\n",
    "        _, _, meanings = generate_word_list(sw, language)\n",
    "        list_meanings += meanings\n",
    "\n",
    "    list_meanings.sort()\n",
    "\n",
    "    # groupby also eliminates duplications\n",
    "    list(list_meanings for list_meanings, _ in itertools.groupby(list_meanings))\n",
    "\n",
    "    return list_meanings"
   ]
  },
  {
   "cell_type": "markdown",
   "id": "caeca517-484d-4943-9e15-306782c8e44c",
   "metadata": {},
   "source": [
    "### Functions for vec2word"
   ]
  },
  {
   "cell_type": "code",
   "execution_count": 5,
   "id": "795a3782-5b77-4a6d-9f68-b7c16618b4d9",
   "metadata": {},
   "outputs": [],
   "source": [
    "def create_word2vec_input(root_folder):\n",
    "    \"\"\"\n",
    "\n",
    "    Function to select .txt files and store them as a list of paragraphs,\n",
    "    each a list of words, to use as input to the function WordVec.\n",
    "\n",
    "    This function was originally named \"literary_words_list\".\n",
    "\n",
    "    Parameters\n",
    "    ----------\n",
    "    root_folder : a file path where .txt files are located\n",
    "    e.g. '~/home/user/text_analyses'\n",
    "\n",
    "    Returns\n",
    "    -------\n",
    "    A list of the paragraphs, each paragraph a list of words\n",
    "\n",
    "    \"\"\"\n",
    "\n",
    "    word2vec_input = []\n",
    "\n",
    "    for path, subdirs, files in os.walk(root_folder):\n",
    "        for file in files:\n",
    "            if \".txt\" in file and \"model\" not in file:\n",
    "                # print(file)\n",
    "                name = os.path.join(path, file)\n",
    "                file_text = open(name, encoding=\"utf-8\").read()\n",
    "                text_list_paragraphs = file_text.split(\"\\n\")\n",
    "\n",
    "                for paragraph in text_list_paragraphs:\n",
    "                    paragraph = paragraph.replace(\"\\r\", \"\")\n",
    "                    list_of_sentences = nltk.sent_tokenize(paragraph)\n",
    "\n",
    "                    for sentence in list_of_sentences:\n",
    "                        word2vec_input += [preprocessing(sentence)]\n",
    "\n",
    "    # remove empty strings and split sentences into lists\n",
    "    word2vec_input = [s.split() for s in word2vec_input if s != \"\"]\n",
    "\n",
    "    return word2vec_input\n",
    "\n",
    "\n",
    "def get_word2vec_list(word_list, model):\n",
    "    \"\"\"\n",
    "    Function to use word2vec to inquiry about the 10 most similar semantically\n",
    "    words to each seed word in word_list. Uses a pre-trained model to get the\n",
    "    most similar words within the text.\n",
    "\n",
    "    \"\"\"\n",
    "\n",
    "    list_of_word2vec_lists = []\n",
    "    for word in word_list:\n",
    "        try:\n",
    "\n",
    "            ##\n",
    "            list_vects = model.wv.most_similar([word], topn=10)\n",
    "\n",
    "            new_list = []\n",
    "            new_list += [word]\n",
    "            for item in list_vects:\n",
    "                word1 = item[0]\n",
    "                new_list += [word1]\n",
    "\n",
    "            # print(new_list)\n",
    "            # print('\\n')\n",
    "            list_of_word2vec_lists += [new_list]\n",
    "\n",
    "        except KeyError:\n",
    "            continue\n",
    "\n",
    "    return list_of_word2vec_lists"
   ]
  },
  {
   "cell_type": "markdown",
   "id": "414557b0-1601-42d4-be81-ea9541ecbf48",
   "metadata": {},
   "source": [
    "### Functions for word frequency"
   ]
  },
  {
   "cell_type": "code",
   "execution_count": 6,
   "id": "4bb3c6fd-ac13-48f0-894a-536c72eea9bb",
   "metadata": {},
   "outputs": [],
   "source": [
    "def compute_frequencies(list_string, list_of_categories):\n",
    "    \"\"\"\n",
    "    Function to calculate word frequencies.\n",
    "\n",
    "    \"\"\"\n",
    "\n",
    "    global apply_counter1\n",
    "\n",
    "    tokenized_text = ast.literal_eval(list_string)\n",
    "    word_counter = collections.Counter(tokenized_text)\n",
    "    total_words = len(tokenized_text)\n",
    "\n",
    "    list_of_category_frequencies = []\n",
    "    for category in list_of_categories:\n",
    "        category_count = 0.0\n",
    "\n",
    "        for word in category:\n",
    "            category_count += int(word_counter[word])\n",
    "\n",
    "        if total_words != 0 and category_count > 0:\n",
    "            category_frequency = category_count / total_words\n",
    "        else:\n",
    "            category_frequency = float(\"nan\")\n",
    "        list_of_category_frequencies += [category_frequency]\n",
    "\n",
    "    apply_counter1 += 1\n",
    "\n",
    "    return list_of_category_frequencies"
   ]
  },
  {
   "cell_type": "markdown",
   "id": "9e6b785f-9684-40e5-8889-ebf4445ed480",
   "metadata": {},
   "source": [
    "## 0. Expression of interest: Hope"
   ]
  },
  {
   "cell_type": "code",
   "execution_count": 7,
   "id": "39dad581-fd7b-40e5-9fe6-3bb2bdbd18ad",
   "metadata": {},
   "outputs": [],
   "source": [
    "seed_word = \"hope\""
   ]
  },
  {
   "cell_type": "markdown",
   "id": "fceb5fae-a31f-4366-b5c0-28e022f84e5c",
   "metadata": {},
   "source": [
    "## 1. Control measure: Desire\n",
    "\n",
    "Find control measure to contrast with \"Hope\""
   ]
  },
  {
   "cell_type": "code",
   "execution_count": 8,
   "id": "8e82b40c-d2eb-42d4-8673-148e1a204b37",
   "metadata": {},
   "outputs": [],
   "source": [
    "ctrl_seed_word = \"desire\""
   ]
  },
  {
   "cell_type": "markdown",
   "id": "60c6644d-9455-4e26-b1f1-d70891d552ce",
   "metadata": {},
   "source": [
    "## 2. Initial bags of seeds\n",
    "\n",
    "Find psychometric tools or equivalent to generate initial bags of seeds, for both Hope and the control condition"
   ]
  },
  {
   "cell_type": "code",
   "execution_count": 9,
   "id": "6de92a90-55d3-4305-be65-b338ad64d84f",
   "metadata": {},
   "outputs": [
    {
     "name": "stdout",
     "output_type": "stream",
     "text": [
      "Length of lemma list is 16\n"
     ]
    }
   ],
   "source": [
    "seed_list = generate_word_list(seed_word, lang)\n",
    "print(f\"Length of lemma list is {seed_list[1]}\")"
   ]
  },
  {
   "cell_type": "code",
   "execution_count": 10,
   "id": "60bdecc2-4306-4b51-b2b2-74c6adc1eee9",
   "metadata": {},
   "outputs": [
    {
     "name": "stdout",
     "output_type": "stream",
     "text": [
      "Length of lemma list is 131\n"
     ]
    }
   ],
   "source": [
    "ctrl_seed_list = generate_word_list(ctrl_seed_word, lang)\n",
    "print(f\"Length of lemma list is {ctrl_seed_list[1]}\")"
   ]
  },
  {
   "cell_type": "markdown",
   "id": "2957f916-3bd7-4849-857c-fbab3bb1b60f",
   "metadata": {},
   "source": [
    "## 3. Expand bag of seeds and get synonyms and hyponyms\n",
    "\n",
    "Use WordNet tools to expand your bag of seeds and get synonyms and hyponyms, and start excluding words with unrelated meanings using the filters available."
   ]
  },
  {
   "cell_type": "markdown",
   "id": "e2c7cb75-0a2d-45ac-9d64-8d4c8b357be8",
   "metadata": {},
   "source": [
    "### Hope"
   ]
  },
  {
   "cell_type": "code",
   "execution_count": 11,
   "id": "e4ac8433-af75-4810-a93d-47dbdfa67eb4",
   "metadata": {},
   "outputs": [
    {
     "data": {
      "application/vnd.jupyter.widget-view+json": {
       "model_id": "121f032618da485c8bde51deaee21506",
       "version_major": 2,
       "version_minor": 0
      },
      "text/plain": [
       "VBox(children=(Checkbox(value=True, description=\"[Synset('hope.n.01'), 'a specific instance of feeling hopeful…"
      ]
     },
     "metadata": {},
     "output_type": "display_data"
    }
   ],
   "source": [
    "selection_widget = widgets.VBox(\n",
    "    [\n",
    "        widgets.Checkbox(\n",
    "            value=True,\n",
    "            description=str(item),\n",
    "            disabled=False,\n",
    "            indent=False,\n",
    "            layout=layout,\n",
    "        )\n",
    "        for item in seed_list[2]\n",
    "    ]\n",
    ")\n",
    "\n",
    "selection_widget"
   ]
  },
  {
   "cell_type": "code",
   "execution_count": 12,
   "id": "ecf67084-2bdd-4881-b063-4aaa30a010ae",
   "metadata": {},
   "outputs": [
    {
     "name": "stdout",
     "output_type": "stream",
     "text": [
      "['desire', 'encouragement', 'go_for', 'great_white_hope', 'hope', 'hopefulness', 'optimism', 'promise', 'rainbow', 'sanguineness', 'sanguinity', 'trust', 'white_hope']\n"
     ]
    }
   ],
   "source": [
    "seed_words = prune_list(selection_widget, seed_list[2])\n",
    "\n",
    "print(seed_words)"
   ]
  },
  {
   "cell_type": "markdown",
   "id": "f88eead8-5666-4925-bcd2-a86b532af393",
   "metadata": {},
   "source": [
    "#### Extend"
   ]
  },
  {
   "cell_type": "code",
   "execution_count": 13,
   "id": "b5d81585-685f-4079-8cc9-ddb87281d048",
   "metadata": {},
   "outputs": [
    {
     "data": {
      "text/plain": [
       "300"
      ]
     },
     "execution_count": 13,
     "metadata": {},
     "output_type": "execute_result"
    }
   ],
   "source": [
    "synsets = expand_meanings(seed_words, lang)\n",
    "len(synsets)"
   ]
  },
  {
   "cell_type": "code",
   "execution_count": 14,
   "id": "c493ba2f-d55a-409d-b354-2ead1b402b7a",
   "metadata": {},
   "outputs": [
    {
     "data": {
      "text/plain": [
       "[[Synset('abetment.n.01'),\n",
       "  'the verbal act of urging on',\n",
       "  ['abetment', 'abettal', 'instigation']],\n",
       " [Synset('accept.v.03'),\n",
       "  'give an affirmative reply to; respond favorably to',\n",
       "  ['accept', 'consent', 'go_for']],\n",
       " [Synset('accept.v.07'),\n",
       "  'tolerate or accommodate oneself to',\n",
       "  ['accept', 'live_with', 'swallow']]]"
      ]
     },
     "execution_count": 14,
     "metadata": {},
     "output_type": "execute_result"
    }
   ],
   "source": [
    "synsets[:3]"
   ]
  },
  {
   "cell_type": "markdown",
   "id": "6f3137d9-0c48-4cca-8d7b-d8a846e612b9",
   "metadata": {},
   "source": [
    "### Desire"
   ]
  },
  {
   "cell_type": "code",
   "execution_count": 15,
   "id": "d094686c-080c-4994-84f1-299a239047e2",
   "metadata": {},
   "outputs": [
    {
     "data": {
      "application/vnd.jupyter.widget-view+json": {
       "model_id": "b7cb0d6350a44289bc09976054a9f17f",
       "version_major": 2,
       "version_minor": 0
      },
      "text/plain": [
       "VBox(children=(Checkbox(value=True, description=\"[Synset('desire.n.01'), 'the feeling that accompanies an unsa…"
      ]
     },
     "metadata": {},
     "output_type": "display_data"
    }
   ],
   "source": [
    "ctrl_selection_widget = widgets.VBox(\n",
    "    [\n",
    "        widgets.Checkbox(\n",
    "            value=True,\n",
    "            description=str(item),\n",
    "            disabled=False,\n",
    "            indent=False,\n",
    "            layout=layout,\n",
    "        )\n",
    "        for item in ctrl_seed_list[2]\n",
    "    ]\n",
    ")\n",
    "\n",
    "ctrl_selection_widget"
   ]
  },
  {
   "cell_type": "code",
   "execution_count": 16,
   "id": "89196891-0a0f-4da5-8eef-7f3c11f0ef1b",
   "metadata": {},
   "outputs": [
    {
     "name": "stdout",
     "output_type": "stream",
     "text": [
      "['American_Dream', 'ache', 'acquisitiveness', 'addiction', 'amativeness', 'ambition', 'amorousness', 'aphrodisia', 'appetence', 'appetency', 'appetite', 'aspiration', 'bloodlust', 'caprice', 'care', 'carnality', 'concupiscence', 'craving', 'desire', 'die', 'discontent', 'discontentedness', 'discontentment', 'dream', 'drool', 'emulation', 'eros', 'erotic_love', 'eroticism', 'erotism', 'fetish', 'greed', 'hanker', 'hankering', 'hunger', 'hungriness', 'impulse', 'itch', 'languish', 'lasciviousness', 'lech_after', 'lecherousness', 'libido', 'like', 'long', 'longing', 'love', 'lovesickness', 'lubricity', 'lust', 'lust_after', 'lustfulness', 'nymphomania', 'passion', 'physical_attraction', 'pine', 'pining', 'please', 'prurience', 'pruriency', 'quest', 'rage', 'salivate', 'satyriasis', 'seek', 'sensualism', 'sensuality', 'sensualness', 'sexiness', 'sexual_desire', 'sexual_love', 'spoil', 'temptation', 'the_hots', 'thirst', 'thirstiness', 'urge', 'want', 'whim', 'wish', 'wish_well', 'wishing', 'yearn', 'yearning', 'yen']\n"
     ]
    }
   ],
   "source": [
    "ctrl_seed_words = prune_list(ctrl_selection_widget, ctrl_seed_list[2])\n",
    "\n",
    "print(ctrl_seed_words)"
   ]
  },
  {
   "cell_type": "markdown",
   "id": "5d49b4fc-fd8a-470a-aab8-e919a5def6d2",
   "metadata": {},
   "source": [
    "#### Extend"
   ]
  },
  {
   "cell_type": "code",
   "execution_count": 17,
   "id": "fa501637-8bcb-47bf-aaa5-1f579c8b59f7",
   "metadata": {},
   "outputs": [
    {
     "data": {
      "text/plain": [
       "1213"
      ]
     },
     "execution_count": 17,
     "metadata": {},
     "output_type": "execute_result"
    }
   ],
   "source": [
    "ctrl_synsets = expand_meanings(ctrl_seed_words, lang)\n",
    "len(ctrl_synsets)"
   ]
  },
  {
   "cell_type": "code",
   "execution_count": 18,
   "id": "40712a7c-4ea5-43c2-993a-71aa3eb536e0",
   "metadata": {},
   "outputs": [
    {
     "data": {
      "text/plain": [
       "[[Synset('abience.n.01'),\n",
       "  '(psychology) an urge to withdraw or avoid a situation or an object',\n",
       "  ['abience']],\n",
       " [Synset('abience.n.01'),\n",
       "  '(psychology) an urge to withdraw or avoid a situation or an object',\n",
       "  ['abience']],\n",
       " [Synset('abort.v.02'), 'cease development, die, and be aborted', ['abort']]]"
      ]
     },
     "execution_count": 18,
     "metadata": {},
     "output_type": "execute_result"
    }
   ],
   "source": [
    "ctrl_synsets[:3]"
   ]
  },
  {
   "cell_type": "markdown",
   "id": "e1b376a7-4250-4b7a-ad75-5b7e5be69341",
   "metadata": {},
   "source": [
    "## 4. Train semantic vector space model\n",
    "\n",
    "Train a semantic vector space model using word2vec"
   ]
  },
  {
   "cell_type": "markdown",
   "id": "00c3f13b-4758-4cbc-92be-a865102d3a76",
   "metadata": {},
   "source": [
    "### Create input for vec2word from folder with textfiles"
   ]
  },
  {
   "cell_type": "code",
   "execution_count": 19,
   "id": "8cad7d78-4dcb-46ee-8025-6771c7f5c763",
   "metadata": {},
   "outputs": [],
   "source": [
    "word2vec_input = create_word2vec_input(data_path)"
   ]
  },
  {
   "cell_type": "markdown",
   "id": "300a68f5-c10b-4e94-a5c9-8733dea1bee4",
   "metadata": {},
   "source": [
    "### Train and save the model"
   ]
  },
  {
   "cell_type": "code",
   "execution_count": 20,
   "id": "c8789cfc-7e34-4f3f-a3db-43211ead41fa",
   "metadata": {},
   "outputs": [],
   "source": [
    "word2vec_output = Word2Vec(word2vec_input, min_count=1)\n",
    "\n",
    "## Save vector space\n",
    "word2vec_output.save(\"data/w2v_model.txt\")"
   ]
  },
  {
   "cell_type": "markdown",
   "id": "2aa57503-f4ed-46cb-9d4d-19e104643ef2",
   "metadata": {},
   "source": [
    "### Load the model"
   ]
  },
  {
   "cell_type": "code",
   "execution_count": 21,
   "id": "8932d3fb-27ae-4bdf-adf9-8bc30c6a9572",
   "metadata": {},
   "outputs": [],
   "source": [
    "model = Word2Vec.load(\"data/w2v_model.txt\")"
   ]
  },
  {
   "cell_type": "markdown",
   "id": "edb3485b-43b7-48f4-b842-088287935746",
   "metadata": {},
   "source": [
    "## 5. Semantic clouds\n",
    "\n",
    "Use your vector space model to find out the semantic clouds of each word in your bag of seeds, and select only the words with semantically meaningful clouds"
   ]
  },
  {
   "cell_type": "markdown",
   "id": "bec2d758-b848-4562-909c-1cd052d155ef",
   "metadata": {},
   "source": [
    "### Hope"
   ]
  },
  {
   "cell_type": "code",
   "execution_count": 22,
   "id": "ddca6110-2e4e-4b15-89cf-e79c847672b5",
   "metadata": {},
   "outputs": [],
   "source": [
    "vector_space = get_word2vec_list(seed_words, model)"
   ]
  },
  {
   "cell_type": "code",
   "execution_count": 23,
   "id": "7afb0ac0-34cd-4e48-b010-3d8f93d8328f",
   "metadata": {},
   "outputs": [
    {
     "data": {
      "text/plain": [
       "'hopefulness'"
      ]
     },
     "execution_count": 23,
     "metadata": {},
     "output_type": "execute_result"
    }
   ],
   "source": [
    "seed_words[5]"
   ]
  },
  {
   "cell_type": "code",
   "execution_count": 24,
   "id": "354b8c52-cf80-4da1-812a-e8be9e480b57",
   "metadata": {},
   "outputs": [
    {
     "data": {
      "text/plain": [
       "['hopefulness',\n",
       " 'poppa',\n",
       " 'actin',\n",
       " 'legoland',\n",
       " 'mopey',\n",
       " 'feelin',\n",
       " 'yeast',\n",
       " 'wuz',\n",
       " 'transvestite',\n",
       " 'hobby',\n",
       " 'raisine']"
      ]
     },
     "execution_count": 24,
     "metadata": {},
     "output_type": "execute_result"
    }
   ],
   "source": [
    "vector_space[3]"
   ]
  },
  {
   "cell_type": "markdown",
   "id": "a6c0a740-8aad-4868-be0e-32252b848037",
   "metadata": {},
   "source": [
    "### Desire"
   ]
  },
  {
   "cell_type": "code",
   "execution_count": 25,
   "id": "cd555758-543f-4f6c-9d14-7f3fc59a64b4",
   "metadata": {},
   "outputs": [],
   "source": [
    "ctrl_vector_space = get_word2vec_list(ctrl_seed_words, model)"
   ]
  },
  {
   "cell_type": "code",
   "execution_count": 26,
   "id": "dce1b321-88de-42d8-9f88-4f451b5817d6",
   "metadata": {},
   "outputs": [
    {
     "data": {
      "text/plain": [
       "'ambition'"
      ]
     },
     "execution_count": 26,
     "metadata": {},
     "output_type": "execute_result"
    }
   ],
   "source": [
    "ctrl_seed_words[5]"
   ]
  },
  {
   "cell_type": "code",
   "execution_count": 27,
   "id": "e3f6a4a8-ca47-4578-90a3-c059beb8679b",
   "metadata": {},
   "outputs": [
    {
     "data": {
      "text/plain": [
       "['aphrodisia',\n",
       " 'inuit',\n",
       " 'kobe',\n",
       " 'ragnarok',\n",
       " 'oink',\n",
       " 'cumbaya',\n",
       " 'bulgaria',\n",
       " 'redmon',\n",
       " 'eastwood',\n",
       " 'bouncy',\n",
       " 'fuente']"
      ]
     },
     "execution_count": 27,
     "metadata": {},
     "output_type": "execute_result"
    }
   ],
   "source": [
    "ctrl_vector_space[3]"
   ]
  },
  {
   "cell_type": "markdown",
   "id": "65a44741-d1a4-4dd3-af12-7a0850f5695f",
   "metadata": {},
   "source": [
    "## 6. Final bag of words and word frequencies\n",
    "\n",
    "Take the final Bag of Words, prune it further if necessary, and use the second script to calculate word frequencies (don't forget to upload the text files)"
   ]
  },
  {
   "cell_type": "markdown",
   "id": "4d733b78-7776-4ebb-9db3-6e324260f3fa",
   "metadata": {},
   "source": [
    "### Hope"
   ]
  },
  {
   "cell_type": "code",
   "execution_count": 28,
   "id": "f3640fc8-cb08-4011-ac7c-d97721423c97",
   "metadata": {},
   "outputs": [
    {
     "data": {
      "application/vnd.jupyter.widget-view+json": {
       "model_id": "cecbff17433243dd9b90891212902a35",
       "version_major": 2,
       "version_minor": 0
      },
      "text/plain": [
       "VBox(children=(Checkbox(value=True, description=\"['desire', 'belief', 'painful', 'guilt', 'fate', 'wisdom', 'a…"
      ]
     },
     "metadata": {},
     "output_type": "display_data"
    }
   ],
   "source": [
    "layout = widgets.Layout(width=\"auto\")\n",
    "\n",
    "selection_widget_2 = widgets.VBox(\n",
    "    [\n",
    "        widgets.Checkbox(\n",
    "            value=True,\n",
    "            description=str(item),\n",
    "            disabled=False,\n",
    "            indent=False,\n",
    "            layout=layout,\n",
    "        )\n",
    "        for item in vector_space\n",
    "    ]\n",
    ")\n",
    "\n",
    "selection_widget_2"
   ]
  },
  {
   "cell_type": "code",
   "execution_count": 30,
   "id": "ff098d1d-ddc6-497a-9340-770da167cf9d",
   "metadata": {},
   "outputs": [
    {
     "data": {
      "text/plain": [
       "53"
      ]
     },
     "execution_count": 30,
     "metadata": {},
     "output_type": "execute_result"
    }
   ],
   "source": [
    "filtered_word2vec = list(\n",
    "    itertools.compress(\n",
    "        vector_space, [widget.value for widget in selection_widget_2.children]\n",
    "    )\n",
    ")\n",
    "\n",
    "## now we extract just the words\n",
    "flat_list = [word for lists in filtered_word2vec for word in lists]\n",
    "\n",
    "## eliminate duplications, and sort alphabetically\n",
    "flat_list = sorted([*set(flat_list)])\n",
    "\n",
    "len(flat_list)"
   ]
  },
  {
   "cell_type": "markdown",
   "id": "32a48509-016d-4066-93a6-df1098de102e",
   "metadata": {},
   "source": [
    "And a final check"
   ]
  },
  {
   "cell_type": "code",
   "execution_count": 31,
   "id": "3e728748-d250-4ce9-af81-1d0627ca594f",
   "metadata": {},
   "outputs": [
    {
     "data": {
      "application/vnd.jupyter.widget-view+json": {
       "model_id": "9f95cca1a4684b0393d095b0c1a92fb7",
       "version_major": 2,
       "version_minor": 0
      },
      "text/plain": [
       "VBox(children=(Checkbox(value=True, description='actin', indent=False, layout=Layout(width='auto')), Checkbox(…"
      ]
     },
     "metadata": {},
     "output_type": "display_data"
    }
   ],
   "source": [
    "selection_widget_3 = widgets.VBox(\n",
    "    [\n",
    "        widgets.Checkbox(\n",
    "            value=True,\n",
    "            description=str(item),\n",
    "            disabled=False,\n",
    "            indent=False,\n",
    "            layout=layout,\n",
    "        )\n",
    "        for item in flat_list\n",
    "    ]\n",
    ")\n",
    "\n",
    "selection_widget_3"
   ]
  },
  {
   "cell_type": "code",
   "execution_count": 32,
   "id": "969e9ae6-c270-4129-b4a0-c1c07059ed07",
   "metadata": {},
   "outputs": [
    {
     "data": {
      "text/plain": [
       "9"
      ]
     },
     "execution_count": 32,
     "metadata": {},
     "output_type": "execute_result"
    }
   ],
   "source": [
    "final_list = list(\n",
    "    itertools.compress(\n",
    "        flat_list, [widget.value for widget in selection_widget_3.children]\n",
    "    )\n",
    ")\n",
    "\n",
    "len(final_list)"
   ]
  },
  {
   "cell_type": "markdown",
   "id": "7c5bb6a8-db43-4bd1-bd03-07f89000334d",
   "metadata": {},
   "source": [
    "### Desire"
   ]
  },
  {
   "cell_type": "code",
   "execution_count": 33,
   "id": "358ba04c-c358-4310-afd2-544655e3f7ad",
   "metadata": {},
   "outputs": [
    {
     "data": {
      "application/vnd.jupyter.widget-view+json": {
       "model_id": "baf0541df458464199479ea513734a21",
       "version_major": 2,
       "version_minor": 0
      },
      "text/plain": [
       "VBox(children=(Checkbox(value=True, description=\"['ache', 'ninas', 'numb', 'dartagnans', 'blomkvists', 'gash',…"
      ]
     },
     "metadata": {},
     "output_type": "display_data"
    }
   ],
   "source": [
    "ctrl_selection_widget_2 = widgets.VBox(\n",
    "    [\n",
    "        widgets.Checkbox(\n",
    "            value=True,\n",
    "            description=str(item),\n",
    "            disabled=False,\n",
    "            indent=False,\n",
    "            layout=layout,\n",
    "        )\n",
    "        for item in ctrl_vector_space\n",
    "    ]\n",
    ")\n",
    "\n",
    "ctrl_selection_widget_2"
   ]
  },
  {
   "cell_type": "code",
   "execution_count": 34,
   "id": "c87552b2-bc9e-4a34-a318-69b426f85521",
   "metadata": {},
   "outputs": [
    {
     "data": {
      "text/plain": [
       "269"
      ]
     },
     "execution_count": 34,
     "metadata": {},
     "output_type": "execute_result"
    }
   ],
   "source": [
    "ctrl_filtered_word2vec = list(\n",
    "    itertools.compress(\n",
    "        ctrl_vector_space, [widget.value for widget in ctrl_selection_widget_2.children]\n",
    "    )\n",
    ")\n",
    "\n",
    "## now we extract just the words\n",
    "ctrl_flat_list = [word for lists in ctrl_filtered_word2vec for word in lists]\n",
    "\n",
    "## eliminate duplications, and sort alphabetically\n",
    "ctrl_flat_list = sorted([*set(ctrl_flat_list)])\n",
    "\n",
    "len(ctrl_flat_list)"
   ]
  },
  {
   "cell_type": "markdown",
   "id": "3e0bf37d-2e84-4ef2-8469-32e1f2ba5ffd",
   "metadata": {},
   "source": [
    "And a final check"
   ]
  },
  {
   "cell_type": "code",
   "execution_count": 35,
   "id": "e23efab7-cc20-4242-af75-9a1d9ab9179c",
   "metadata": {},
   "outputs": [
    {
     "data": {
      "application/vnd.jupyter.widget-view+json": {
       "model_id": "5ced46d712474c0880a8a5be9a18db25",
       "version_major": 2,
       "version_minor": 0
      },
      "text/plain": [
       "VBox(children=(Checkbox(value=True, description='aberration', indent=False, layout=Layout(width='auto')), Chec…"
      ]
     },
     "metadata": {},
     "output_type": "display_data"
    }
   ],
   "source": [
    "ctrl_selection_widget_3 = widgets.VBox(\n",
    "    [\n",
    "        widgets.Checkbox(\n",
    "            value=True,\n",
    "            description=str(item),\n",
    "            disabled=False,\n",
    "            indent=False,\n",
    "            layout=layout,\n",
    "        )\n",
    "        for item in ctrl_flat_list\n",
    "    ]\n",
    ")\n",
    "\n",
    "ctrl_selection_widget_3"
   ]
  },
  {
   "cell_type": "code",
   "execution_count": 36,
   "id": "af28595a-6d15-4956-b5ec-b99bf5c2be1b",
   "metadata": {},
   "outputs": [
    {
     "data": {
      "text/plain": [
       "19"
      ]
     },
     "execution_count": 36,
     "metadata": {},
     "output_type": "execute_result"
    }
   ],
   "source": [
    "ctrl_final_list = list(\n",
    "    itertools.compress(\n",
    "        ctrl_flat_list, [widget.value for widget in ctrl_selection_widget_3.children]\n",
    "    )\n",
    ")\n",
    "\n",
    "len(ctrl_final_list)"
   ]
  },
  {
   "cell_type": "markdown",
   "id": "894e2451-afb2-4269-b813-5ecf18476ba8",
   "metadata": {},
   "source": [
    "Save final lists to file"
   ]
  },
  {
   "cell_type": "code",
   "execution_count": 63,
   "id": "ad329a9c-645d-4153-8349-48907c6cd6bd",
   "metadata": {},
   "outputs": [],
   "source": [
    "file = open(\"data/final_list.txt\", \"w\")\n",
    "[file.writelines([x + \"\\n\"]) for x in final_list]\n",
    "file.close()\n",
    "\n",
    "file = open(\"data/ctrl_final_list.txt\", \"w\")\n",
    "[file.writelines([x + \"\\n\"]) for x in ctrl_final_list]\n",
    "file.close()"
   ]
  },
  {
   "cell_type": "markdown",
   "id": "d35abd24-581c-449c-9832-e06d1217f2af",
   "metadata": {},
   "source": [
    "Load final lists from file"
   ]
  },
  {
   "cell_type": "code",
   "execution_count": 103,
   "id": "6d40ec62-d49b-435f-8857-92dd9a4609b9",
   "metadata": {},
   "outputs": [],
   "source": [
    "file = open(\"data/final_list.txt\", \"r\")\n",
    "final_list = file.read().splitlines()\n",
    "file.close()\n",
    "\n",
    "file = open(\"data/ctrl_final_list.txt\", \"r\")\n",
    "ctrl_final_list = file.read().splitlines()\n",
    "file.close()"
   ]
  },
  {
   "cell_type": "code",
   "execution_count": 104,
   "id": "2125d1bf-77b0-4b6e-9ba1-9c2a1f4ab623",
   "metadata": {},
   "outputs": [],
   "source": [
    "list_of_categories = [final_list, ctrl_final_list]"
   ]
  },
  {
   "cell_type": "markdown",
   "id": "d1d0ac76-fa8b-44c2-9650-b732098ed51a",
   "metadata": {},
   "source": [
    "### Frequencies"
   ]
  },
  {
   "cell_type": "markdown",
   "id": "ed5bf64f-3900-444c-bd41-4c7e0b8925e6",
   "metadata": {},
   "source": [
    "<div class=\"alert alert-warning\">Is this correct? I was not sure what does the input need to look like. And from where does it need to come from? A string that looks like a list of strings???</div>"
   ]
  },
  {
   "cell_type": "code",
   "execution_count": 105,
   "id": "306242fc-800c-44a5-a7f8-76d54917a90f",
   "metadata": {},
   "outputs": [
    {
     "data": {
      "text/html": [
       "<div>\n",
       "<style scoped>\n",
       "    .dataframe tbody tr th:only-of-type {\n",
       "        vertical-align: middle;\n",
       "    }\n",
       "\n",
       "    .dataframe tbody tr th {\n",
       "        vertical-align: top;\n",
       "    }\n",
       "\n",
       "    .dataframe thead th {\n",
       "        text-align: right;\n",
       "    }\n",
       "</style>\n",
       "<table border=\"1\" class=\"dataframe\">\n",
       "  <thead>\n",
       "    <tr style=\"text-align: right;\">\n",
       "      <th></th>\n",
       "      <th>movies</th>\n",
       "      <th>path</th>\n",
       "      <th>text</th>\n",
       "    </tr>\n",
       "  </thead>\n",
       "  <tbody>\n",
       "    <tr>\n",
       "      <th>0</th>\n",
       "      <td>donniebrasco_dialog.txt</td>\n",
       "      <td>data/dialogs_preprocessed2/donniebrasco_dialog...</td>\n",
       "      <td>['paul', 'attanasio', 'base', 'book', 'donnie'...</td>\n",
       "    </tr>\n",
       "    <tr>\n",
       "      <th>1</th>\n",
       "      <td>shiningthe_dialog.txt</td>\n",
       "      <td>data/dialogs_preprocessed2/shiningthe_dialog.txt</td>\n",
       "      <td>['post', 'production', 'script', 'july', 'get'...</td>\n",
       "    </tr>\n",
       "    <tr>\n",
       "      <th>2</th>\n",
       "      <td>idesofmarchthe_dialog.txt</td>\n",
       "      <td>data/dialogs_preprocessed2/idesofmarchthe_dial...</td>\n",
       "      <td>['write', 'george', 'clooney', 'grant', 'heslo...</td>\n",
       "    </tr>\n",
       "    <tr>\n",
       "      <th>3</th>\n",
       "      <td>hangoverthe_dialog.txt</td>\n",
       "      <td>data/dialogs_preprocessed2/hangoverthe_dialog.txt</td>\n",
       "      <td>['write', 'jon', 'lucas', 'scott', 'moore', 's...</td>\n",
       "    </tr>\n",
       "    <tr>\n",
       "      <th>4</th>\n",
       "      <td>bringingoutthedead_dialog.txt</td>\n",
       "      <td>data/dialogs_preprocessed2/bringingoutthedead_...</td>\n",
       "      <td>['first', 'draft', 'paul', 'schrader', 'novel'...</td>\n",
       "    </tr>\n",
       "  </tbody>\n",
       "</table>\n",
       "</div>"
      ],
      "text/plain": [
       "                          movies  \\\n",
       "0        donniebrasco_dialog.txt   \n",
       "1          shiningthe_dialog.txt   \n",
       "2      idesofmarchthe_dialog.txt   \n",
       "3         hangoverthe_dialog.txt   \n",
       "4  bringingoutthedead_dialog.txt   \n",
       "\n",
       "                                                path  \\\n",
       "0  data/dialogs_preprocessed2/donniebrasco_dialog...   \n",
       "1   data/dialogs_preprocessed2/shiningthe_dialog.txt   \n",
       "2  data/dialogs_preprocessed2/idesofmarchthe_dial...   \n",
       "3  data/dialogs_preprocessed2/hangoverthe_dialog.txt   \n",
       "4  data/dialogs_preprocessed2/bringingoutthedead_...   \n",
       "\n",
       "                                                text  \n",
       "0  ['paul', 'attanasio', 'base', 'book', 'donnie'...  \n",
       "1  ['post', 'production', 'script', 'july', 'get'...  \n",
       "2  ['write', 'george', 'clooney', 'grant', 'heslo...  \n",
       "3  ['write', 'jon', 'lucas', 'scott', 'moore', 's...  \n",
       "4  ['first', 'draft', 'paul', 'schrader', 'novel'...  "
      ]
     },
     "execution_count": 105,
     "metadata": {},
     "output_type": "execute_result"
    }
   ],
   "source": [
    "df = pd.DataFrame(glob(data_path + \"/*.txt\"), columns=[\"movies\"])\n",
    "df[\"path\"] = df[\"movies\"]\n",
    "df[\"movies\"] = df[\"movies\"].str.replace(\"^\" + data_path, \"\", regex=True)\n",
    "\n",
    "\n",
    "df[\"text\"] = df[\"path\"].apply(lambda path: open(path, encoding=\"utf-8\").read())\n",
    "df[\"text\"] = df[\"text\"].apply(lambda raw_txt: preprocessing(raw_txt))\n",
    "df[\"text\"] = df[\"text\"].apply(lambda txt: str(txt.split(\" \")))\n",
    "\n",
    "df.head()"
   ]
  },
  {
   "cell_type": "code",
   "execution_count": 106,
   "id": "268ecb5f-b78e-4576-b243-7ef43e47f6ec",
   "metadata": {},
   "outputs": [
    {
     "data": {
      "text/html": [
       "<div>\n",
       "<style scoped>\n",
       "    .dataframe tbody tr th:only-of-type {\n",
       "        vertical-align: middle;\n",
       "    }\n",
       "\n",
       "    .dataframe tbody tr th {\n",
       "        vertical-align: top;\n",
       "    }\n",
       "\n",
       "    .dataframe thead th {\n",
       "        text-align: right;\n",
       "    }\n",
       "</style>\n",
       "<table border=\"1\" class=\"dataframe\">\n",
       "  <thead>\n",
       "    <tr style=\"text-align: right;\">\n",
       "      <th></th>\n",
       "      <th>movies</th>\n",
       "      <th>path</th>\n",
       "      <th>text</th>\n",
       "      <th>hope</th>\n",
       "      <th>desire</th>\n",
       "    </tr>\n",
       "  </thead>\n",
       "  <tbody>\n",
       "    <tr>\n",
       "      <th>0</th>\n",
       "      <td>donniebrasco_dialog.txt</td>\n",
       "      <td>data/dialogs_preprocessed2/donniebrasco_dialog...</td>\n",
       "      <td>['paul', 'attanasio', 'base', 'book', 'donnie'...</td>\n",
       "      <td>0.000808</td>\n",
       "      <td>0.008541</td>\n",
       "    </tr>\n",
       "    <tr>\n",
       "      <th>1</th>\n",
       "      <td>shiningthe_dialog.txt</td>\n",
       "      <td>data/dialogs_preprocessed2/shiningthe_dialog.txt</td>\n",
       "      <td>['post', 'production', 'script', 'july', 'get'...</td>\n",
       "      <td>0.002630</td>\n",
       "      <td>0.008417</td>\n",
       "    </tr>\n",
       "    <tr>\n",
       "      <th>2</th>\n",
       "      <td>idesofmarchthe_dialog.txt</td>\n",
       "      <td>data/dialogs_preprocessed2/idesofmarchthe_dial...</td>\n",
       "      <td>['write', 'george', 'clooney', 'grant', 'heslo...</td>\n",
       "      <td>0.001065</td>\n",
       "      <td>0.017252</td>\n",
       "    </tr>\n",
       "    <tr>\n",
       "      <th>3</th>\n",
       "      <td>hangoverthe_dialog.txt</td>\n",
       "      <td>data/dialogs_preprocessed2/hangoverthe_dialog.txt</td>\n",
       "      <td>['write', 'jon', 'lucas', 'scott', 'moore', 's...</td>\n",
       "      <td>0.002161</td>\n",
       "      <td>0.008884</td>\n",
       "    </tr>\n",
       "    <tr>\n",
       "      <th>4</th>\n",
       "      <td>bringingoutthedead_dialog.txt</td>\n",
       "      <td>data/dialogs_preprocessed2/bringingoutthedead_...</td>\n",
       "      <td>['first', 'draft', 'paul', 'schrader', 'novel'...</td>\n",
       "      <td>0.001349</td>\n",
       "      <td>0.014610</td>\n",
       "    </tr>\n",
       "  </tbody>\n",
       "</table>\n",
       "</div>"
      ],
      "text/plain": [
       "                          movies  \\\n",
       "0        donniebrasco_dialog.txt   \n",
       "1          shiningthe_dialog.txt   \n",
       "2      idesofmarchthe_dialog.txt   \n",
       "3         hangoverthe_dialog.txt   \n",
       "4  bringingoutthedead_dialog.txt   \n",
       "\n",
       "                                                path  \\\n",
       "0  data/dialogs_preprocessed2/donniebrasco_dialog...   \n",
       "1   data/dialogs_preprocessed2/shiningthe_dialog.txt   \n",
       "2  data/dialogs_preprocessed2/idesofmarchthe_dial...   \n",
       "3  data/dialogs_preprocessed2/hangoverthe_dialog.txt   \n",
       "4  data/dialogs_preprocessed2/bringingoutthedead_...   \n",
       "\n",
       "                                                text      hope    desire  \n",
       "0  ['paul', 'attanasio', 'base', 'book', 'donnie'...  0.000808  0.008541  \n",
       "1  ['post', 'production', 'script', 'july', 'get'...  0.002630  0.008417  \n",
       "2  ['write', 'george', 'clooney', 'grant', 'heslo...  0.001065  0.017252  \n",
       "3  ['write', 'jon', 'lucas', 'scott', 'moore', 's...  0.002161  0.008884  \n",
       "4  ['first', 'draft', 'paul', 'schrader', 'novel'...  0.001349  0.014610  "
      ]
     },
     "execution_count": 106,
     "metadata": {},
     "output_type": "execute_result"
    }
   ],
   "source": [
    "apply_counter1 = 0\n",
    "\n",
    "df[\"frequencies\"] = df[\"text\"].apply(\n",
    "    compute_frequencies, list_of_categories=list_of_categories\n",
    ")\n",
    "\n",
    "final_list2 = []\n",
    "ctrl_final_list2 = []\n",
    "list_of_categories2 = [final_list2, ctrl_final_list2]\n",
    "\n",
    "\n",
    "for index, row in df.iterrows():\n",
    "    list_of_frequencies = row[\"frequencies\"]\n",
    "\n",
    "    for category, frequency in zip(list_of_categories2, list_of_frequencies):\n",
    "        category += [frequency]\n",
    "\n",
    "# ... and then we write each list to a column\n",
    "list_of_category_names = [seed_word, ctrl_seed_word]\n",
    "\n",
    "for cat_name, cat_freqs in zip(list_of_category_names, list_of_categories2):\n",
    "    df[cat_name] = cat_freqs\n",
    "\n",
    "del df[\"frequencies\"]\n",
    "\n",
    "df.head()"
   ]
  },
  {
   "cell_type": "markdown",
   "id": "f47fcf9c-ea49-44a6-911d-5802d2f6043b",
   "metadata": {},
   "source": [
    "Add column for movie years"
   ]
  },
  {
   "cell_type": "code",
   "execution_count": 107,
   "id": "d64fd9d7-5aa2-4dc9-aec5-e82d30322161",
   "metadata": {},
   "outputs": [],
   "source": [
    "df_years = pd.read_csv(\"data/movie_years.csv\", index_col=0)\n",
    "df = df.merge(df_years, on=\"movies\")\n",
    "df[\"year\"] = pd.to_numeric(df[\"year\"], errors=\"coerce\", downcast=\"integer\")\n",
    "\n",
    "df.movies = df.movies.str.replace(\"_dialog.txt$\", \"\", regex=True)"
   ]
  },
  {
   "cell_type": "markdown",
   "id": "0a177aa3-3bee-496f-bd7e-7b2915577327",
   "metadata": {},
   "source": [
    "Save dataframe"
   ]
  },
  {
   "cell_type": "code",
   "execution_count": 108,
   "id": "a5176e5b-4c8e-4808-bcc5-0e5a06f7a417",
   "metadata": {},
   "outputs": [],
   "source": [
    "df.to_csv(\n",
    "    f\"data/frequencies_{list_of_category_names[0]}_{list_of_category_names[1]}.csv\",\n",
    "    index=False,\n",
    ")"
   ]
  },
  {
   "cell_type": "markdown",
   "id": "4c6c173f-3fbd-4363-beae-65332c5874b0",
   "metadata": {},
   "source": [
    "Load dataframe"
   ]
  },
  {
   "cell_type": "code",
   "execution_count": 109,
   "id": "d503e2a0-e52e-46cc-a6cd-f60763d6098b",
   "metadata": {},
   "outputs": [
    {
     "data": {
      "text/html": [
       "<div>\n",
       "<style scoped>\n",
       "    .dataframe tbody tr th:only-of-type {\n",
       "        vertical-align: middle;\n",
       "    }\n",
       "\n",
       "    .dataframe tbody tr th {\n",
       "        vertical-align: top;\n",
       "    }\n",
       "\n",
       "    .dataframe thead th {\n",
       "        text-align: right;\n",
       "    }\n",
       "</style>\n",
       "<table border=\"1\" class=\"dataframe\">\n",
       "  <thead>\n",
       "    <tr style=\"text-align: right;\">\n",
       "      <th></th>\n",
       "      <th>movies</th>\n",
       "      <th>path</th>\n",
       "      <th>text</th>\n",
       "      <th>hope</th>\n",
       "      <th>desire</th>\n",
       "      <th>year</th>\n",
       "    </tr>\n",
       "  </thead>\n",
       "  <tbody>\n",
       "    <tr>\n",
       "      <th>0</th>\n",
       "      <td>donniebrasco</td>\n",
       "      <td>data/dialogs_preprocessed2/donniebrasco_dialog...</td>\n",
       "      <td>['paul', 'attanasio', 'base', 'book', 'donnie'...</td>\n",
       "      <td>0.000808</td>\n",
       "      <td>0.008541</td>\n",
       "      <td>1997</td>\n",
       "    </tr>\n",
       "    <tr>\n",
       "      <th>1</th>\n",
       "      <td>shiningthe</td>\n",
       "      <td>data/dialogs_preprocessed2/shiningthe_dialog.txt</td>\n",
       "      <td>['post', 'production', 'script', 'july', 'get'...</td>\n",
       "      <td>0.002630</td>\n",
       "      <td>0.008417</td>\n",
       "      <td>1980</td>\n",
       "    </tr>\n",
       "    <tr>\n",
       "      <th>2</th>\n",
       "      <td>idesofmarchthe</td>\n",
       "      <td>data/dialogs_preprocessed2/idesofmarchthe_dial...</td>\n",
       "      <td>['write', 'george', 'clooney', 'grant', 'heslo...</td>\n",
       "      <td>0.001065</td>\n",
       "      <td>0.017252</td>\n",
       "      <td>2011</td>\n",
       "    </tr>\n",
       "    <tr>\n",
       "      <th>3</th>\n",
       "      <td>hangoverthe</td>\n",
       "      <td>data/dialogs_preprocessed2/hangoverthe_dialog.txt</td>\n",
       "      <td>['write', 'jon', 'lucas', 'scott', 'moore', 's...</td>\n",
       "      <td>0.002161</td>\n",
       "      <td>0.008884</td>\n",
       "      <td>2009</td>\n",
       "    </tr>\n",
       "    <tr>\n",
       "      <th>4</th>\n",
       "      <td>bringingoutthedead</td>\n",
       "      <td>data/dialogs_preprocessed2/bringingoutthedead_...</td>\n",
       "      <td>['first', 'draft', 'paul', 'schrader', 'novel'...</td>\n",
       "      <td>0.001349</td>\n",
       "      <td>0.014610</td>\n",
       "      <td>1999</td>\n",
       "    </tr>\n",
       "  </tbody>\n",
       "</table>\n",
       "</div>"
      ],
      "text/plain": [
       "               movies                                               path  \\\n",
       "0        donniebrasco  data/dialogs_preprocessed2/donniebrasco_dialog...   \n",
       "1          shiningthe   data/dialogs_preprocessed2/shiningthe_dialog.txt   \n",
       "2      idesofmarchthe  data/dialogs_preprocessed2/idesofmarchthe_dial...   \n",
       "3         hangoverthe  data/dialogs_preprocessed2/hangoverthe_dialog.txt   \n",
       "4  bringingoutthedead  data/dialogs_preprocessed2/bringingoutthedead_...   \n",
       "\n",
       "                                                text      hope    desire  year  \n",
       "0  ['paul', 'attanasio', 'base', 'book', 'donnie'...  0.000808  0.008541  1997  \n",
       "1  ['post', 'production', 'script', 'july', 'get'...  0.002630  0.008417  1980  \n",
       "2  ['write', 'george', 'clooney', 'grant', 'heslo...  0.001065  0.017252  2011  \n",
       "3  ['write', 'jon', 'lucas', 'scott', 'moore', 's...  0.002161  0.008884  2009  \n",
       "4  ['first', 'draft', 'paul', 'schrader', 'novel'...  0.001349  0.014610  1999  "
      ]
     },
     "execution_count": 109,
     "metadata": {},
     "output_type": "execute_result"
    }
   ],
   "source": [
    "df = pd.read_csv(\n",
    "    f\"data/frequencies_{list_of_category_names[0]}_{list_of_category_names[1]}.csv\"\n",
    ")\n",
    "\n",
    "df.head()"
   ]
  },
  {
   "cell_type": "markdown",
   "id": "1775c265-894e-47d7-9b78-71d19c71e9ac",
   "metadata": {},
   "source": [
    "## 7. Relevant ratio, visualization of time series\n",
    "\n",
    "Calculate your psychological relevant ratio, build a dataframe and plot a time series using Seaborn"
   ]
  },
  {
   "cell_type": "markdown",
   "id": "f778c672-44d3-4cdf-bb25-a8db6ce75b22",
   "metadata": {},
   "source": [
    "### Ratio hope vs. rage"
   ]
  },
  {
   "cell_type": "markdown",
   "id": "3ab488a7-53bf-4906-96bf-fbe5d4aa5c65",
   "metadata": {},
   "source": [
    "`ratio1`"
   ]
  },
  {
   "cell_type": "markdown",
   "id": "0e886bad-d477-420d-8520-2170bb9101bd",
   "metadata": {},
   "source": [
    "<div class=\"alert alert-warning\">What kind of ratio is this (relative difference)?</div>"
   ]
  },
  {
   "cell_type": "code",
   "execution_count": 112,
   "id": "d3537078-024a-45cc-a700-92f99a65f743",
   "metadata": {},
   "outputs": [
    {
     "data": {
      "text/html": [
       "<div>\n",
       "<style scoped>\n",
       "    .dataframe tbody tr th:only-of-type {\n",
       "        vertical-align: middle;\n",
       "    }\n",
       "\n",
       "    .dataframe tbody tr th {\n",
       "        vertical-align: top;\n",
       "    }\n",
       "\n",
       "    .dataframe thead th {\n",
       "        text-align: right;\n",
       "    }\n",
       "</style>\n",
       "<table border=\"1\" class=\"dataframe\">\n",
       "  <thead>\n",
       "    <tr style=\"text-align: right;\">\n",
       "      <th></th>\n",
       "      <th>movies</th>\n",
       "      <th>path</th>\n",
       "      <th>text</th>\n",
       "      <th>hope</th>\n",
       "      <th>desire</th>\n",
       "      <th>year</th>\n",
       "      <th>ratio_hope_desire</th>\n",
       "      <th>z_hope</th>\n",
       "      <th>z_desire</th>\n",
       "      <th>z_ratio_hope_desire</th>\n",
       "    </tr>\n",
       "  </thead>\n",
       "  <tbody>\n",
       "    <tr>\n",
       "      <th>0</th>\n",
       "      <td>donniebrasco</td>\n",
       "      <td>data/dialogs_preprocessed2/donniebrasco_dialog...</td>\n",
       "      <td>['paul', 'attanasio', 'base', 'book', 'donnie'...</td>\n",
       "      <td>0.000808</td>\n",
       "      <td>0.008541</td>\n",
       "      <td>1997</td>\n",
       "      <td>-0.827160</td>\n",
       "      <td>-0.992950</td>\n",
       "      <td>-0.917050</td>\n",
       "      <td>-0.782860</td>\n",
       "    </tr>\n",
       "    <tr>\n",
       "      <th>1</th>\n",
       "      <td>shiningthe</td>\n",
       "      <td>data/dialogs_preprocessed2/shiningthe_dialog.txt</td>\n",
       "      <td>['post', 'production', 'script', 'july', 'get'...</td>\n",
       "      <td>0.002630</td>\n",
       "      <td>0.008417</td>\n",
       "      <td>1980</td>\n",
       "      <td>-0.523810</td>\n",
       "      <td>0.225646</td>\n",
       "      <td>-0.939987</td>\n",
       "      <td>1.154097</td>\n",
       "    </tr>\n",
       "    <tr>\n",
       "      <th>2</th>\n",
       "      <td>idesofmarchthe</td>\n",
       "      <td>data/dialogs_preprocessed2/idesofmarchthe_dial...</td>\n",
       "      <td>['write', 'george', 'clooney', 'grant', 'heslo...</td>\n",
       "      <td>0.001065</td>\n",
       "      <td>0.017252</td>\n",
       "      <td>2011</td>\n",
       "      <td>-0.883721</td>\n",
       "      <td>-0.821072</td>\n",
       "      <td>0.688311</td>\n",
       "      <td>-1.144010</td>\n",
       "    </tr>\n",
       "    <tr>\n",
       "      <th>3</th>\n",
       "      <td>hangoverthe</td>\n",
       "      <td>data/dialogs_preprocessed2/hangoverthe_dialog.txt</td>\n",
       "      <td>['write', 'jon', 'lucas', 'scott', 'moore', 's...</td>\n",
       "      <td>0.002161</td>\n",
       "      <td>0.008884</td>\n",
       "      <td>2009</td>\n",
       "      <td>-0.608696</td>\n",
       "      <td>-0.088209</td>\n",
       "      <td>-0.853939</td>\n",
       "      <td>0.612082</td>\n",
       "    </tr>\n",
       "    <tr>\n",
       "      <th>4</th>\n",
       "      <td>bringingoutthedead</td>\n",
       "      <td>data/dialogs_preprocessed2/bringingoutthedead_...</td>\n",
       "      <td>['first', 'draft', 'paul', 'schrader', 'novel'...</td>\n",
       "      <td>0.001349</td>\n",
       "      <td>0.014610</td>\n",
       "      <td>1999</td>\n",
       "      <td>-0.830986</td>\n",
       "      <td>-0.631383</td>\n",
       "      <td>0.201363</td>\n",
       "      <td>-0.807286</td>\n",
       "    </tr>\n",
       "  </tbody>\n",
       "</table>\n",
       "</div>"
      ],
      "text/plain": [
       "               movies                                               path  \\\n",
       "0        donniebrasco  data/dialogs_preprocessed2/donniebrasco_dialog...   \n",
       "1          shiningthe   data/dialogs_preprocessed2/shiningthe_dialog.txt   \n",
       "2      idesofmarchthe  data/dialogs_preprocessed2/idesofmarchthe_dial...   \n",
       "3         hangoverthe  data/dialogs_preprocessed2/hangoverthe_dialog.txt   \n",
       "4  bringingoutthedead  data/dialogs_preprocessed2/bringingoutthedead_...   \n",
       "\n",
       "                                                text      hope    desire  \\\n",
       "0  ['paul', 'attanasio', 'base', 'book', 'donnie'...  0.000808  0.008541   \n",
       "1  ['post', 'production', 'script', 'july', 'get'...  0.002630  0.008417   \n",
       "2  ['write', 'george', 'clooney', 'grant', 'heslo...  0.001065  0.017252   \n",
       "3  ['write', 'jon', 'lucas', 'scott', 'moore', 's...  0.002161  0.008884   \n",
       "4  ['first', 'draft', 'paul', 'schrader', 'novel'...  0.001349  0.014610   \n",
       "\n",
       "   year  ratio_hope_desire    z_hope  z_desire  z_ratio_hope_desire  \n",
       "0  1997          -0.827160 -0.992950 -0.917050            -0.782860  \n",
       "1  1980          -0.523810  0.225646 -0.939987             1.154097  \n",
       "2  2011          -0.883721 -0.821072  0.688311            -1.144010  \n",
       "3  2009          -0.608696 -0.088209 -0.853939             0.612082  \n",
       "4  1999          -0.830986 -0.631383  0.201363            -0.807286  "
      ]
     },
     "execution_count": 112,
     "metadata": {},
     "output_type": "execute_result"
    }
   ],
   "source": [
    "df[\"ratio_\" + seed_word + \"_\" + ctrl_seed_word] = (\n",
    "    df[seed_word] - df[ctrl_seed_word]\n",
    ") / (df[seed_word] + df[ctrl_seed_word])\n",
    "\n",
    "df.head()"
   ]
  },
  {
   "cell_type": "markdown",
   "id": "a2270fc3-d844-4927-9b9c-53e7b4bae681",
   "metadata": {},
   "source": [
    "### z-scores"
   ]
  },
  {
   "cell_type": "code",
   "execution_count": 111,
   "id": "99487407-42f4-4e02-aeb1-2ee040323820",
   "metadata": {},
   "outputs": [
    {
     "data": {
      "text/html": [
       "<div>\n",
       "<style scoped>\n",
       "    .dataframe tbody tr th:only-of-type {\n",
       "        vertical-align: middle;\n",
       "    }\n",
       "\n",
       "    .dataframe tbody tr th {\n",
       "        vertical-align: top;\n",
       "    }\n",
       "\n",
       "    .dataframe thead th {\n",
       "        text-align: right;\n",
       "    }\n",
       "</style>\n",
       "<table border=\"1\" class=\"dataframe\">\n",
       "  <thead>\n",
       "    <tr style=\"text-align: right;\">\n",
       "      <th></th>\n",
       "      <th>movies</th>\n",
       "      <th>path</th>\n",
       "      <th>text</th>\n",
       "      <th>hope</th>\n",
       "      <th>desire</th>\n",
       "      <th>year</th>\n",
       "      <th>ratio_hope_desire</th>\n",
       "      <th>z_hope</th>\n",
       "      <th>z_desire</th>\n",
       "      <th>z_ratio_hope_desire</th>\n",
       "    </tr>\n",
       "  </thead>\n",
       "  <tbody>\n",
       "    <tr>\n",
       "      <th>0</th>\n",
       "      <td>donniebrasco</td>\n",
       "      <td>data/dialogs_preprocessed2/donniebrasco_dialog...</td>\n",
       "      <td>['paul', 'attanasio', 'base', 'book', 'donnie'...</td>\n",
       "      <td>0.000808</td>\n",
       "      <td>0.008541</td>\n",
       "      <td>1997</td>\n",
       "      <td>-0.827160</td>\n",
       "      <td>-0.992950</td>\n",
       "      <td>-0.917050</td>\n",
       "      <td>-0.782860</td>\n",
       "    </tr>\n",
       "    <tr>\n",
       "      <th>1</th>\n",
       "      <td>shiningthe</td>\n",
       "      <td>data/dialogs_preprocessed2/shiningthe_dialog.txt</td>\n",
       "      <td>['post', 'production', 'script', 'july', 'get'...</td>\n",
       "      <td>0.002630</td>\n",
       "      <td>0.008417</td>\n",
       "      <td>1980</td>\n",
       "      <td>-0.523810</td>\n",
       "      <td>0.225646</td>\n",
       "      <td>-0.939987</td>\n",
       "      <td>1.154097</td>\n",
       "    </tr>\n",
       "    <tr>\n",
       "      <th>2</th>\n",
       "      <td>idesofmarchthe</td>\n",
       "      <td>data/dialogs_preprocessed2/idesofmarchthe_dial...</td>\n",
       "      <td>['write', 'george', 'clooney', 'grant', 'heslo...</td>\n",
       "      <td>0.001065</td>\n",
       "      <td>0.017252</td>\n",
       "      <td>2011</td>\n",
       "      <td>-0.883721</td>\n",
       "      <td>-0.821072</td>\n",
       "      <td>0.688311</td>\n",
       "      <td>-1.144010</td>\n",
       "    </tr>\n",
       "    <tr>\n",
       "      <th>3</th>\n",
       "      <td>hangoverthe</td>\n",
       "      <td>data/dialogs_preprocessed2/hangoverthe_dialog.txt</td>\n",
       "      <td>['write', 'jon', 'lucas', 'scott', 'moore', 's...</td>\n",
       "      <td>0.002161</td>\n",
       "      <td>0.008884</td>\n",
       "      <td>2009</td>\n",
       "      <td>-0.608696</td>\n",
       "      <td>-0.088209</td>\n",
       "      <td>-0.853939</td>\n",
       "      <td>0.612082</td>\n",
       "    </tr>\n",
       "    <tr>\n",
       "      <th>4</th>\n",
       "      <td>bringingoutthedead</td>\n",
       "      <td>data/dialogs_preprocessed2/bringingoutthedead_...</td>\n",
       "      <td>['first', 'draft', 'paul', 'schrader', 'novel'...</td>\n",
       "      <td>0.001349</td>\n",
       "      <td>0.014610</td>\n",
       "      <td>1999</td>\n",
       "      <td>-0.830986</td>\n",
       "      <td>-0.631383</td>\n",
       "      <td>0.201363</td>\n",
       "      <td>-0.807286</td>\n",
       "    </tr>\n",
       "  </tbody>\n",
       "</table>\n",
       "</div>"
      ],
      "text/plain": [
       "               movies                                               path  \\\n",
       "0        donniebrasco  data/dialogs_preprocessed2/donniebrasco_dialog...   \n",
       "1          shiningthe   data/dialogs_preprocessed2/shiningthe_dialog.txt   \n",
       "2      idesofmarchthe  data/dialogs_preprocessed2/idesofmarchthe_dial...   \n",
       "3         hangoverthe  data/dialogs_preprocessed2/hangoverthe_dialog.txt   \n",
       "4  bringingoutthedead  data/dialogs_preprocessed2/bringingoutthedead_...   \n",
       "\n",
       "                                                text      hope    desire  \\\n",
       "0  ['paul', 'attanasio', 'base', 'book', 'donnie'...  0.000808  0.008541   \n",
       "1  ['post', 'production', 'script', 'july', 'get'...  0.002630  0.008417   \n",
       "2  ['write', 'george', 'clooney', 'grant', 'heslo...  0.001065  0.017252   \n",
       "3  ['write', 'jon', 'lucas', 'scott', 'moore', 's...  0.002161  0.008884   \n",
       "4  ['first', 'draft', 'paul', 'schrader', 'novel'...  0.001349  0.014610   \n",
       "\n",
       "   year  ratio_hope_desire    z_hope  z_desire  z_ratio_hope_desire  \n",
       "0  1997          -0.827160 -0.992950 -0.917050            -0.782860  \n",
       "1  1980          -0.523810  0.225646 -0.939987             1.154097  \n",
       "2  2011          -0.883721 -0.821072  0.688311            -1.144010  \n",
       "3  2009          -0.608696 -0.088209 -0.853939             0.612082  \n",
       "4  1999          -0.830986 -0.631383  0.201363            -0.807286  "
      ]
     },
     "execution_count": 111,
     "metadata": {},
     "output_type": "execute_result"
    }
   ],
   "source": [
    "# the newly crated ratio column is now part of it and needs to be translated as well\n",
    "list_of_category_names.append(\"ratio_\" + seed_word + \"_\" + ctrl_seed_word)\n",
    "\n",
    "for cat_name in list_of_category_names:\n",
    "    cat_name_z = \"z_\" + cat_name\n",
    "    df[cat_name_z] = stats.zscore(df[cat_name], nan_policy=\"omit\")\n",
    "\n",
    "df.head()"
   ]
  },
  {
   "cell_type": "markdown",
   "id": "187dfaec-09f3-4fb9-ab31-0ae4d4509a3a",
   "metadata": {},
   "source": [
    "### outlier removal\n",
    "\n",
    "outliers masked as NaNs. Later we will be using a dataframe called `df_clean` which iwill have all NaNs removed."
   ]
  },
  {
   "cell_type": "code",
   "execution_count": 114,
   "id": "586420de-e984-461a-8e41-7286877188a4",
   "metadata": {},
   "outputs": [
    {
     "data": {
      "text/html": [
       "<div>\n",
       "<style scoped>\n",
       "    .dataframe tbody tr th:only-of-type {\n",
       "        vertical-align: middle;\n",
       "    }\n",
       "\n",
       "    .dataframe tbody tr th {\n",
       "        vertical-align: top;\n",
       "    }\n",
       "\n",
       "    .dataframe thead th {\n",
       "        text-align: right;\n",
       "    }\n",
       "</style>\n",
       "<table border=\"1\" class=\"dataframe\">\n",
       "  <thead>\n",
       "    <tr style=\"text-align: right;\">\n",
       "      <th></th>\n",
       "      <th>movies</th>\n",
       "      <th>path</th>\n",
       "      <th>text</th>\n",
       "      <th>hope</th>\n",
       "      <th>desire</th>\n",
       "      <th>year</th>\n",
       "      <th>ratio_hope_desire</th>\n",
       "      <th>z_hope</th>\n",
       "      <th>z_desire</th>\n",
       "      <th>z_ratio_hope_desire</th>\n",
       "      <th>z_hope_out</th>\n",
       "      <th>z_desire_out</th>\n",
       "      <th>z_ratio_hope_desire_out</th>\n",
       "    </tr>\n",
       "  </thead>\n",
       "  <tbody>\n",
       "    <tr>\n",
       "      <th>0</th>\n",
       "      <td>donniebrasco</td>\n",
       "      <td>data/dialogs_preprocessed2/donniebrasco_dialog...</td>\n",
       "      <td>['paul', 'attanasio', 'base', 'book', 'donnie'...</td>\n",
       "      <td>0.000808</td>\n",
       "      <td>0.008541</td>\n",
       "      <td>1997</td>\n",
       "      <td>-0.827160</td>\n",
       "      <td>-0.992950</td>\n",
       "      <td>-0.917050</td>\n",
       "      <td>-0.782860</td>\n",
       "      <td>-0.992950</td>\n",
       "      <td>-0.917050</td>\n",
       "      <td>-0.782860</td>\n",
       "    </tr>\n",
       "    <tr>\n",
       "      <th>1</th>\n",
       "      <td>shiningthe</td>\n",
       "      <td>data/dialogs_preprocessed2/shiningthe_dialog.txt</td>\n",
       "      <td>['post', 'production', 'script', 'july', 'get'...</td>\n",
       "      <td>0.002630</td>\n",
       "      <td>0.008417</td>\n",
       "      <td>1980</td>\n",
       "      <td>-0.523810</td>\n",
       "      <td>0.225646</td>\n",
       "      <td>-0.939987</td>\n",
       "      <td>1.154097</td>\n",
       "      <td>0.225646</td>\n",
       "      <td>-0.939987</td>\n",
       "      <td>1.154097</td>\n",
       "    </tr>\n",
       "    <tr>\n",
       "      <th>2</th>\n",
       "      <td>idesofmarchthe</td>\n",
       "      <td>data/dialogs_preprocessed2/idesofmarchthe_dial...</td>\n",
       "      <td>['write', 'george', 'clooney', 'grant', 'heslo...</td>\n",
       "      <td>0.001065</td>\n",
       "      <td>0.017252</td>\n",
       "      <td>2011</td>\n",
       "      <td>-0.883721</td>\n",
       "      <td>-0.821072</td>\n",
       "      <td>0.688311</td>\n",
       "      <td>-1.144010</td>\n",
       "      <td>-0.821072</td>\n",
       "      <td>0.688311</td>\n",
       "      <td>-1.144010</td>\n",
       "    </tr>\n",
       "    <tr>\n",
       "      <th>3</th>\n",
       "      <td>hangoverthe</td>\n",
       "      <td>data/dialogs_preprocessed2/hangoverthe_dialog.txt</td>\n",
       "      <td>['write', 'jon', 'lucas', 'scott', 'moore', 's...</td>\n",
       "      <td>0.002161</td>\n",
       "      <td>0.008884</td>\n",
       "      <td>2009</td>\n",
       "      <td>-0.608696</td>\n",
       "      <td>-0.088209</td>\n",
       "      <td>-0.853939</td>\n",
       "      <td>0.612082</td>\n",
       "      <td>-0.088209</td>\n",
       "      <td>-0.853939</td>\n",
       "      <td>0.612082</td>\n",
       "    </tr>\n",
       "    <tr>\n",
       "      <th>4</th>\n",
       "      <td>bringingoutthedead</td>\n",
       "      <td>data/dialogs_preprocessed2/bringingoutthedead_...</td>\n",
       "      <td>['first', 'draft', 'paul', 'schrader', 'novel'...</td>\n",
       "      <td>0.001349</td>\n",
       "      <td>0.014610</td>\n",
       "      <td>1999</td>\n",
       "      <td>-0.830986</td>\n",
       "      <td>-0.631383</td>\n",
       "      <td>0.201363</td>\n",
       "      <td>-0.807286</td>\n",
       "      <td>-0.631383</td>\n",
       "      <td>0.201363</td>\n",
       "      <td>-0.807286</td>\n",
       "    </tr>\n",
       "  </tbody>\n",
       "</table>\n",
       "</div>"
      ],
      "text/plain": [
       "               movies                                               path  \\\n",
       "0        donniebrasco  data/dialogs_preprocessed2/donniebrasco_dialog...   \n",
       "1          shiningthe   data/dialogs_preprocessed2/shiningthe_dialog.txt   \n",
       "2      idesofmarchthe  data/dialogs_preprocessed2/idesofmarchthe_dial...   \n",
       "3         hangoverthe  data/dialogs_preprocessed2/hangoverthe_dialog.txt   \n",
       "4  bringingoutthedead  data/dialogs_preprocessed2/bringingoutthedead_...   \n",
       "\n",
       "                                                text      hope    desire  \\\n",
       "0  ['paul', 'attanasio', 'base', 'book', 'donnie'...  0.000808  0.008541   \n",
       "1  ['post', 'production', 'script', 'july', 'get'...  0.002630  0.008417   \n",
       "2  ['write', 'george', 'clooney', 'grant', 'heslo...  0.001065  0.017252   \n",
       "3  ['write', 'jon', 'lucas', 'scott', 'moore', 's...  0.002161  0.008884   \n",
       "4  ['first', 'draft', 'paul', 'schrader', 'novel'...  0.001349  0.014610   \n",
       "\n",
       "   year  ratio_hope_desire    z_hope  z_desire  z_ratio_hope_desire  \\\n",
       "0  1997          -0.827160 -0.992950 -0.917050            -0.782860   \n",
       "1  1980          -0.523810  0.225646 -0.939987             1.154097   \n",
       "2  2011          -0.883721 -0.821072  0.688311            -1.144010   \n",
       "3  2009          -0.608696 -0.088209 -0.853939             0.612082   \n",
       "4  1999          -0.830986 -0.631383  0.201363            -0.807286   \n",
       "\n",
       "   z_hope_out  z_desire_out  z_ratio_hope_desire_out  \n",
       "0   -0.992950     -0.917050                -0.782860  \n",
       "1    0.225646     -0.939987                 1.154097  \n",
       "2   -0.821072      0.688311                -1.144010  \n",
       "3   -0.088209     -0.853939                 0.612082  \n",
       "4   -0.631383      0.201363                -0.807286  "
      ]
     },
     "execution_count": 114,
     "metadata": {},
     "output_type": "execute_result"
    }
   ],
   "source": [
    "for cat_name in list_of_category_names:\n",
    "    cat_name_z = \"z_\" + cat_name\n",
    "    cat_name_no_outliers_z = cat_name_z + \"_out\"\n",
    "\n",
    "    df[cat_name_no_outliers_z] = df[cat_name_z].mask(df[cat_name_z] > 2, np.nan)\n",
    "    df[cat_name_no_outliers_z] = df[cat_name_no_outliers_z].mask(\n",
    "        df[cat_name_no_outliers_z] < -2, np.nan\n",
    "    )\n",
    "\n",
    "df.head()"
   ]
  },
  {
   "cell_type": "code",
   "execution_count": 115,
   "id": "95c67d9d-c9a5-41dd-97b6-bccec33d9db4",
   "metadata": {},
   "outputs": [
    {
     "data": {
      "text/plain": [
       "961"
      ]
     },
     "execution_count": 115,
     "metadata": {},
     "output_type": "execute_result"
    }
   ],
   "source": [
    "len(df)"
   ]
  },
  {
   "cell_type": "markdown",
   "id": "3be0f6e5-670d-47ab-9997-d9ce9183471c",
   "metadata": {},
   "source": [
    "`ratio2`"
   ]
  },
  {
   "cell_type": "markdown",
   "id": "1c850651-beab-4349-9ae0-bcdd2a62fc39",
   "metadata": {},
   "source": [
    "<div class=\"alert alert-warning\">What kind of ratio is this (delta)?</div>"
   ]
  },
  {
   "cell_type": "code",
   "execution_count": 130,
   "id": "eda1aba2-8293-4bed-a648-3f902b23981c",
   "metadata": {},
   "outputs": [
    {
     "data": {
      "text/html": [
       "<div>\n",
       "<style scoped>\n",
       "    .dataframe tbody tr th:only-of-type {\n",
       "        vertical-align: middle;\n",
       "    }\n",
       "\n",
       "    .dataframe tbody tr th {\n",
       "        vertical-align: top;\n",
       "    }\n",
       "\n",
       "    .dataframe thead th {\n",
       "        text-align: right;\n",
       "    }\n",
       "</style>\n",
       "<table border=\"1\" class=\"dataframe\">\n",
       "  <thead>\n",
       "    <tr style=\"text-align: right;\">\n",
       "      <th></th>\n",
       "      <th>movies</th>\n",
       "      <th>path</th>\n",
       "      <th>text</th>\n",
       "      <th>hope</th>\n",
       "      <th>desire</th>\n",
       "      <th>year</th>\n",
       "      <th>ratio_hope_desire</th>\n",
       "      <th>z_hope</th>\n",
       "      <th>z_desire</th>\n",
       "      <th>z_ratio_hope_desire</th>\n",
       "      <th>z_hope_out</th>\n",
       "      <th>z_desire_out</th>\n",
       "      <th>z_ratio_hope_desire_out</th>\n",
       "      <th>ratio_hope_desire2</th>\n",
       "      <th>ratio_hope_desire2_out</th>\n",
       "      <th>z_ratio_hope_desire2</th>\n",
       "    </tr>\n",
       "  </thead>\n",
       "  <tbody>\n",
       "    <tr>\n",
       "      <th>0</th>\n",
       "      <td>donniebrasco</td>\n",
       "      <td>data/dialogs_preprocessed2/donniebrasco_dialog...</td>\n",
       "      <td>['paul', 'attanasio', 'base', 'book', 'donnie'...</td>\n",
       "      <td>0.000808</td>\n",
       "      <td>0.008541</td>\n",
       "      <td>1997</td>\n",
       "      <td>-0.827160</td>\n",
       "      <td>-0.992950</td>\n",
       "      <td>-0.917050</td>\n",
       "      <td>-0.782860</td>\n",
       "      <td>-0.992950</td>\n",
       "      <td>-0.917050</td>\n",
       "      <td>-0.782860</td>\n",
       "      <td>-0.075900</td>\n",
       "      <td>-0.075900</td>\n",
       "      <td>-0.075900</td>\n",
       "    </tr>\n",
       "    <tr>\n",
       "      <th>1</th>\n",
       "      <td>shiningthe</td>\n",
       "      <td>data/dialogs_preprocessed2/shiningthe_dialog.txt</td>\n",
       "      <td>['post', 'production', 'script', 'july', 'get'...</td>\n",
       "      <td>0.002630</td>\n",
       "      <td>0.008417</td>\n",
       "      <td>1980</td>\n",
       "      <td>-0.523810</td>\n",
       "      <td>0.225646</td>\n",
       "      <td>-0.939987</td>\n",
       "      <td>1.154097</td>\n",
       "      <td>0.225646</td>\n",
       "      <td>-0.939987</td>\n",
       "      <td>1.154097</td>\n",
       "      <td>1.165633</td>\n",
       "      <td>1.165633</td>\n",
       "      <td>1.165633</td>\n",
       "    </tr>\n",
       "    <tr>\n",
       "      <th>2</th>\n",
       "      <td>idesofmarchthe</td>\n",
       "      <td>data/dialogs_preprocessed2/idesofmarchthe_dial...</td>\n",
       "      <td>['write', 'george', 'clooney', 'grant', 'heslo...</td>\n",
       "      <td>0.001065</td>\n",
       "      <td>0.017252</td>\n",
       "      <td>2011</td>\n",
       "      <td>-0.883721</td>\n",
       "      <td>-0.821072</td>\n",
       "      <td>0.688311</td>\n",
       "      <td>-1.144010</td>\n",
       "      <td>-0.821072</td>\n",
       "      <td>0.688311</td>\n",
       "      <td>-1.144010</td>\n",
       "      <td>-1.509383</td>\n",
       "      <td>-1.509383</td>\n",
       "      <td>-1.509383</td>\n",
       "    </tr>\n",
       "    <tr>\n",
       "      <th>3</th>\n",
       "      <td>hangoverthe</td>\n",
       "      <td>data/dialogs_preprocessed2/hangoverthe_dialog.txt</td>\n",
       "      <td>['write', 'jon', 'lucas', 'scott', 'moore', 's...</td>\n",
       "      <td>0.002161</td>\n",
       "      <td>0.008884</td>\n",
       "      <td>2009</td>\n",
       "      <td>-0.608696</td>\n",
       "      <td>-0.088209</td>\n",
       "      <td>-0.853939</td>\n",
       "      <td>0.612082</td>\n",
       "      <td>-0.088209</td>\n",
       "      <td>-0.853939</td>\n",
       "      <td>0.612082</td>\n",
       "      <td>0.765729</td>\n",
       "      <td>0.765729</td>\n",
       "      <td>0.765729</td>\n",
       "    </tr>\n",
       "    <tr>\n",
       "      <th>4</th>\n",
       "      <td>bringingoutthedead</td>\n",
       "      <td>data/dialogs_preprocessed2/bringingoutthedead_...</td>\n",
       "      <td>['first', 'draft', 'paul', 'schrader', 'novel'...</td>\n",
       "      <td>0.001349</td>\n",
       "      <td>0.014610</td>\n",
       "      <td>1999</td>\n",
       "      <td>-0.830986</td>\n",
       "      <td>-0.631383</td>\n",
       "      <td>0.201363</td>\n",
       "      <td>-0.807286</td>\n",
       "      <td>-0.631383</td>\n",
       "      <td>0.201363</td>\n",
       "      <td>-0.807286</td>\n",
       "      <td>-0.832746</td>\n",
       "      <td>-0.832746</td>\n",
       "      <td>-0.832746</td>\n",
       "    </tr>\n",
       "  </tbody>\n",
       "</table>\n",
       "</div>"
      ],
      "text/plain": [
       "               movies                                               path  \\\n",
       "0        donniebrasco  data/dialogs_preprocessed2/donniebrasco_dialog...   \n",
       "1          shiningthe   data/dialogs_preprocessed2/shiningthe_dialog.txt   \n",
       "2      idesofmarchthe  data/dialogs_preprocessed2/idesofmarchthe_dial...   \n",
       "3         hangoverthe  data/dialogs_preprocessed2/hangoverthe_dialog.txt   \n",
       "4  bringingoutthedead  data/dialogs_preprocessed2/bringingoutthedead_...   \n",
       "\n",
       "                                                text      hope    desire  \\\n",
       "0  ['paul', 'attanasio', 'base', 'book', 'donnie'...  0.000808  0.008541   \n",
       "1  ['post', 'production', 'script', 'july', 'get'...  0.002630  0.008417   \n",
       "2  ['write', 'george', 'clooney', 'grant', 'heslo...  0.001065  0.017252   \n",
       "3  ['write', 'jon', 'lucas', 'scott', 'moore', 's...  0.002161  0.008884   \n",
       "4  ['first', 'draft', 'paul', 'schrader', 'novel'...  0.001349  0.014610   \n",
       "\n",
       "   year  ratio_hope_desire    z_hope  z_desire  z_ratio_hope_desire  \\\n",
       "0  1997          -0.827160 -0.992950 -0.917050            -0.782860   \n",
       "1  1980          -0.523810  0.225646 -0.939987             1.154097   \n",
       "2  2011          -0.883721 -0.821072  0.688311            -1.144010   \n",
       "3  2009          -0.608696 -0.088209 -0.853939             0.612082   \n",
       "4  1999          -0.830986 -0.631383  0.201363            -0.807286   \n",
       "\n",
       "   z_hope_out  z_desire_out  z_ratio_hope_desire_out  ratio_hope_desire2  \\\n",
       "0   -0.992950     -0.917050                -0.782860           -0.075900   \n",
       "1    0.225646     -0.939987                 1.154097            1.165633   \n",
       "2   -0.821072      0.688311                -1.144010           -1.509383   \n",
       "3   -0.088209     -0.853939                 0.612082            0.765729   \n",
       "4   -0.631383      0.201363                -0.807286           -0.832746   \n",
       "\n",
       "   ratio_hope_desire2_out  z_ratio_hope_desire2  \n",
       "0               -0.075900             -0.075900  \n",
       "1                1.165633              1.165633  \n",
       "2               -1.509383             -1.509383  \n",
       "3                0.765729              0.765729  \n",
       "4               -0.832746             -0.832746  "
      ]
     },
     "execution_count": 130,
     "metadata": {},
     "output_type": "execute_result"
    }
   ],
   "source": [
    "# here is another way to calculate normalized ratios, based on z-scores\n",
    "\n",
    "df[\"z_ratio_\" + seed_word + \"_\" + ctrl_seed_word + \"2\"] = (\n",
    "    df[\"z_\" + seed_word + \"_out\"] - df[\"z_\" + ctrl_seed_word + \"_out\"]\n",
    ")\n",
    "\n",
    "df.head()"
   ]
  },
  {
   "cell_type": "code",
   "execution_count": 140,
   "id": "0d6ed0fc-6d87-40d3-953d-dd5485042bff",
   "metadata": {},
   "outputs": [
    {
     "data": {
      "text/html": [
       "<div>\n",
       "<style scoped>\n",
       "    .dataframe tbody tr th:only-of-type {\n",
       "        vertical-align: middle;\n",
       "    }\n",
       "\n",
       "    .dataframe tbody tr th {\n",
       "        vertical-align: top;\n",
       "    }\n",
       "\n",
       "    .dataframe thead th {\n",
       "        text-align: right;\n",
       "    }\n",
       "</style>\n",
       "<table border=\"1\" class=\"dataframe\">\n",
       "  <thead>\n",
       "    <tr style=\"text-align: right;\">\n",
       "      <th></th>\n",
       "      <th>movies</th>\n",
       "      <th>path</th>\n",
       "      <th>text</th>\n",
       "      <th>hope</th>\n",
       "      <th>desire</th>\n",
       "      <th>year</th>\n",
       "      <th>ratio_hope_desire</th>\n",
       "      <th>z_hope</th>\n",
       "      <th>z_desire</th>\n",
       "      <th>z_ratio_hope_desire</th>\n",
       "      <th>z_hope_out</th>\n",
       "      <th>z_desire_out</th>\n",
       "      <th>z_ratio_hope_desire_out</th>\n",
       "      <th>ratio_hope_desire2</th>\n",
       "      <th>ratio_hope_desire2_out</th>\n",
       "      <th>z_ratio_hope_desire2</th>\n",
       "      <th>z_ratio_hope_desire2_out</th>\n",
       "    </tr>\n",
       "  </thead>\n",
       "  <tbody>\n",
       "    <tr>\n",
       "      <th>0</th>\n",
       "      <td>donniebrasco</td>\n",
       "      <td>data/dialogs_preprocessed2/donniebrasco_dialog...</td>\n",
       "      <td>['paul', 'attanasio', 'base', 'book', 'donnie'...</td>\n",
       "      <td>0.000808</td>\n",
       "      <td>0.008541</td>\n",
       "      <td>1997</td>\n",
       "      <td>-0.827160</td>\n",
       "      <td>-0.992950</td>\n",
       "      <td>-0.917050</td>\n",
       "      <td>-0.782860</td>\n",
       "      <td>-0.992950</td>\n",
       "      <td>-0.917050</td>\n",
       "      <td>-0.782860</td>\n",
       "      <td>-0.075900</td>\n",
       "      <td>-0.075900</td>\n",
       "      <td>-0.075900</td>\n",
       "      <td>-0.075900</td>\n",
       "    </tr>\n",
       "    <tr>\n",
       "      <th>1</th>\n",
       "      <td>shiningthe</td>\n",
       "      <td>data/dialogs_preprocessed2/shiningthe_dialog.txt</td>\n",
       "      <td>['post', 'production', 'script', 'july', 'get'...</td>\n",
       "      <td>0.002630</td>\n",
       "      <td>0.008417</td>\n",
       "      <td>1980</td>\n",
       "      <td>-0.523810</td>\n",
       "      <td>0.225646</td>\n",
       "      <td>-0.939987</td>\n",
       "      <td>1.154097</td>\n",
       "      <td>0.225646</td>\n",
       "      <td>-0.939987</td>\n",
       "      <td>1.154097</td>\n",
       "      <td>1.165633</td>\n",
       "      <td>1.165633</td>\n",
       "      <td>1.165633</td>\n",
       "      <td>1.165633</td>\n",
       "    </tr>\n",
       "    <tr>\n",
       "      <th>2</th>\n",
       "      <td>idesofmarchthe</td>\n",
       "      <td>data/dialogs_preprocessed2/idesofmarchthe_dial...</td>\n",
       "      <td>['write', 'george', 'clooney', 'grant', 'heslo...</td>\n",
       "      <td>0.001065</td>\n",
       "      <td>0.017252</td>\n",
       "      <td>2011</td>\n",
       "      <td>-0.883721</td>\n",
       "      <td>-0.821072</td>\n",
       "      <td>0.688311</td>\n",
       "      <td>-1.144010</td>\n",
       "      <td>-0.821072</td>\n",
       "      <td>0.688311</td>\n",
       "      <td>-1.144010</td>\n",
       "      <td>-1.509383</td>\n",
       "      <td>-1.509383</td>\n",
       "      <td>-1.509383</td>\n",
       "      <td>-1.509383</td>\n",
       "    </tr>\n",
       "    <tr>\n",
       "      <th>3</th>\n",
       "      <td>hangoverthe</td>\n",
       "      <td>data/dialogs_preprocessed2/hangoverthe_dialog.txt</td>\n",
       "      <td>['write', 'jon', 'lucas', 'scott', 'moore', 's...</td>\n",
       "      <td>0.002161</td>\n",
       "      <td>0.008884</td>\n",
       "      <td>2009</td>\n",
       "      <td>-0.608696</td>\n",
       "      <td>-0.088209</td>\n",
       "      <td>-0.853939</td>\n",
       "      <td>0.612082</td>\n",
       "      <td>-0.088209</td>\n",
       "      <td>-0.853939</td>\n",
       "      <td>0.612082</td>\n",
       "      <td>0.765729</td>\n",
       "      <td>0.765729</td>\n",
       "      <td>0.765729</td>\n",
       "      <td>0.765729</td>\n",
       "    </tr>\n",
       "    <tr>\n",
       "      <th>4</th>\n",
       "      <td>bringingoutthedead</td>\n",
       "      <td>data/dialogs_preprocessed2/bringingoutthedead_...</td>\n",
       "      <td>['first', 'draft', 'paul', 'schrader', 'novel'...</td>\n",
       "      <td>0.001349</td>\n",
       "      <td>0.014610</td>\n",
       "      <td>1999</td>\n",
       "      <td>-0.830986</td>\n",
       "      <td>-0.631383</td>\n",
       "      <td>0.201363</td>\n",
       "      <td>-0.807286</td>\n",
       "      <td>-0.631383</td>\n",
       "      <td>0.201363</td>\n",
       "      <td>-0.807286</td>\n",
       "      <td>-0.832746</td>\n",
       "      <td>-0.832746</td>\n",
       "      <td>-0.832746</td>\n",
       "      <td>-0.832746</td>\n",
       "    </tr>\n",
       "  </tbody>\n",
       "</table>\n",
       "</div>"
      ],
      "text/plain": [
       "               movies                                               path  \\\n",
       "0        donniebrasco  data/dialogs_preprocessed2/donniebrasco_dialog...   \n",
       "1          shiningthe   data/dialogs_preprocessed2/shiningthe_dialog.txt   \n",
       "2      idesofmarchthe  data/dialogs_preprocessed2/idesofmarchthe_dial...   \n",
       "3         hangoverthe  data/dialogs_preprocessed2/hangoverthe_dialog.txt   \n",
       "4  bringingoutthedead  data/dialogs_preprocessed2/bringingoutthedead_...   \n",
       "\n",
       "                                                text      hope    desire  \\\n",
       "0  ['paul', 'attanasio', 'base', 'book', 'donnie'...  0.000808  0.008541   \n",
       "1  ['post', 'production', 'script', 'july', 'get'...  0.002630  0.008417   \n",
       "2  ['write', 'george', 'clooney', 'grant', 'heslo...  0.001065  0.017252   \n",
       "3  ['write', 'jon', 'lucas', 'scott', 'moore', 's...  0.002161  0.008884   \n",
       "4  ['first', 'draft', 'paul', 'schrader', 'novel'...  0.001349  0.014610   \n",
       "\n",
       "   year  ratio_hope_desire    z_hope  z_desire  z_ratio_hope_desire  \\\n",
       "0  1997          -0.827160 -0.992950 -0.917050            -0.782860   \n",
       "1  1980          -0.523810  0.225646 -0.939987             1.154097   \n",
       "2  2011          -0.883721 -0.821072  0.688311            -1.144010   \n",
       "3  2009          -0.608696 -0.088209 -0.853939             0.612082   \n",
       "4  1999          -0.830986 -0.631383  0.201363            -0.807286   \n",
       "\n",
       "   z_hope_out  z_desire_out  z_ratio_hope_desire_out  ratio_hope_desire2  \\\n",
       "0   -0.992950     -0.917050                -0.782860           -0.075900   \n",
       "1    0.225646     -0.939987                 1.154097            1.165633   \n",
       "2   -0.821072      0.688311                -1.144010           -1.509383   \n",
       "3   -0.088209     -0.853939                 0.612082            0.765729   \n",
       "4   -0.631383      0.201363                -0.807286           -0.832746   \n",
       "\n",
       "   ratio_hope_desire2_out  z_ratio_hope_desire2  z_ratio_hope_desire2_out  \n",
       "0               -0.075900             -0.075900                 -0.075900  \n",
       "1                1.165633              1.165633                  1.165633  \n",
       "2               -1.509383             -1.509383                 -1.509383  \n",
       "3                0.765729              0.765729                  0.765729  \n",
       "4               -0.832746             -0.832746                 -0.832746  "
      ]
     },
     "execution_count": 140,
     "metadata": {},
     "output_type": "execute_result"
    }
   ],
   "source": [
    "## eliminate outliers at the ratio level\n",
    "\n",
    "list_of_category_names2 = [\"z_ratio_\" + seed_word + \"_\" + ctrl_seed_word + \"2\"]\n",
    "\n",
    "for cat_name in list_of_category_names2:\n",
    "    cat_name_z = cat_name\n",
    "    cat_name_no_outliers_z = cat_name_z + \"_out\"\n",
    "\n",
    "    df[cat_name_no_outliers_z] = df[cat_name_z].mask(df[cat_name_z] > 2, np.nan)\n",
    "    df[cat_name_no_outliers_z] = df[cat_name_no_outliers_z].mask(\n",
    "        df[cat_name_no_outliers_z] < -2, np.nan\n",
    "    )\n",
    "\n",
    "df.head()"
   ]
  },
  {
   "cell_type": "code",
   "execution_count": 141,
   "id": "094c8003-13ac-404f-9f6d-e36ba0061dd2",
   "metadata": {},
   "outputs": [
    {
     "data": {
      "text/plain": [
       "961"
      ]
     },
     "execution_count": 141,
     "metadata": {},
     "output_type": "execute_result"
    }
   ],
   "source": [
    "len(df)"
   ]
  },
  {
   "cell_type": "markdown",
   "id": "93915a32-c96b-4384-847e-aa8449afd801",
   "metadata": {},
   "source": [
    "Save dataframe"
   ]
  },
  {
   "cell_type": "code",
   "execution_count": 142,
   "id": "de22ba79-1e30-49a4-a3df-c27c99dca4e5",
   "metadata": {},
   "outputs": [],
   "source": [
    "df.to_csv(\"data/2.1_output_frequencies_zscore.csv\", index=False)"
   ]
  },
  {
   "cell_type": "markdown",
   "id": "e2b6735c-a2b9-4494-901b-dbb6ab07f5e4",
   "metadata": {},
   "source": [
    "Load dataframe"
   ]
  },
  {
   "cell_type": "code",
   "execution_count": 143,
   "id": "95506e41-d7d3-4ff0-a790-e92d84ead3a2",
   "metadata": {},
   "outputs": [],
   "source": [
    "df = pd.read_csv(\"data/2.1_output_frequencies_zscore.csv\")"
   ]
  },
  {
   "cell_type": "markdown",
   "id": "ab56bf6b-7eee-4eaa-806e-ffd5b722d4f3",
   "metadata": {},
   "source": [
    "### Time series\n",
    "\n",
    "#### With Linear Regression"
   ]
  },
  {
   "cell_type": "code",
   "execution_count": 144,
   "id": "f0d77b2c-5ec8-4e18-81df-44ef9602c940",
   "metadata": {},
   "outputs": [
    {
     "name": "stdout",
     "output_type": "stream",
     "text": [
      "Regression result:\n",
      "\n",
      "intercept: 11.314539144525199\n",
      "slope: -0.005705732038469984\n",
      "p: 0.002486954136809044\n"
     ]
    }
   ],
   "source": [
    "import seaborn as sns\n",
    "import matplotlib.pyplot as plt\n",
    "\n",
    "\n",
    "# all outliers removed\n",
    "df_clean = df.copy().dropna()\n",
    "\n",
    "reg = stats.linregress(\n",
    "    df_clean[\"year\"], df_clean[\"z_ratio_\" + seed_word + \"_\" + ctrl_seed_word + \"_out\"]\n",
    ")\n",
    "\n",
    "print(\"Regression result:\\n\")\n",
    "print(\"intercept:\", reg.intercept)\n",
    "print(\"slope:\", reg.slope)\n",
    "print(\"p:\", reg.pvalue)"
   ]
  },
  {
   "cell_type": "code",
   "execution_count": 150,
   "id": "6e886a63-c45a-401d-b916-d869305f1cf2",
   "metadata": {},
   "outputs": [
    {
     "data": {
      "image/png": "[encoded data removed]",
      "text/plain": [
       "<Figure size 1200x600 with 3 Axes>"
      ]
     },
     "metadata": {},
     "output_type": "display_data"
    }
   ],
   "source": [
    "title = \"Ratio 1\"\n",
    "\n",
    "\n",
    "g = sns.JointGrid(\n",
    "    x=df_clean.year,\n",
    "    y=df_clean[\"z_ratio_\" + seed_word + \"_\" + ctrl_seed_word + \"_out\"],\n",
    "    xlim=(-5 + min(df_clean.year), 5 + max(df_clean.year)),\n",
    ")\n",
    "\n",
    "regplot = g.plot_joint(\n",
    "    sns.regplot,\n",
    "    scatter_kws=dict(alpha=0.2, color=\"steelblue\"),\n",
    "    line_kws=dict(color=\"steelblue\", lw=1.2, label=\"linear trend\", linestyle=\"-\"),\n",
    "    label=\"movies\",\n",
    "    # lowess=True\n",
    ")\n",
    "\n",
    "g.plot_marginals(sns.kdeplot, fill=True, color=\"steelblue\")\n",
    "# g.ax_marg_y.set_visible(False)\n",
    "\n",
    "g.fig.figure.set_figheight(6)\n",
    "g.fig.figure.set_figwidth(12)\n",
    "\n",
    "\n",
    "lplot = sns.lineplot(\n",
    "    df_clean.groupby(\"year\")[\n",
    "        \"z_ratio_\" + seed_word + \"_\" + ctrl_seed_word + \"_out\"\n",
    "    ].mean(),\n",
    "    lw=1.2,\n",
    "    linestyle=\":\",\n",
    "    marker=\"s\",\n",
    "    markersize=6,\n",
    "    markeredgecolor=\"black\",\n",
    "    color=\"black\",\n",
    "    markeredgewidth=1,\n",
    "    markerfacecolor=\"white\",\n",
    "    ax=g.ax_joint,\n",
    "    label=\"mean per year\",\n",
    "    legend=False,\n",
    ")\n",
    "g.ax_joint.tick_params(right=True, labelright=True, grid_color=\"black\")\n",
    "g.fig.legend(loc=\"upper center\", bbox_to_anchor=(0.5, 0), ncol=3)\n",
    "g.fig.suptitle(\n",
    "    title,\n",
    "    x=0,\n",
    "    fontsize=12,\n",
    "    verticalalignment=\"bottom\",\n",
    "    horizontalalignment=\"left\",\n",
    ")\n",
    "g.fig.tight_layout()"
   ]
  },
  {
   "cell_type": "markdown",
   "id": "68bb6ad6-ab1a-4eba-b6fd-fb63c9cadd24",
   "metadata": {},
   "source": [
    "#### Distributions both ratios"
   ]
  },
  {
   "cell_type": "code",
   "execution_count": 146,
   "id": "68993b70-b1b6-4964-b100-9be5461fdc7a",
   "metadata": {
    "colab": {
     "base_uri": "https://localhost:8080/",
     "height": 344
    },
    "id": "vxuO8zMgZwaP",
    "outputId": "ead50783-0fab-4508-da00-3b112eab73bd"
   },
   "outputs": [
    {
     "data": {
      "text/plain": [
       "<matplotlib.legend.Legend at 0x7fcaf8d0ba00>"
      ]
     },
     "execution_count": 146,
     "metadata": {},
     "output_type": "execute_result"
    },
    {
     "data": {
      "image/png": "[encoded data removed]",
      "text/plain": [
       "<Figure size 640x480 with 1 Axes>"
      ]
     },
     "metadata": {},
     "output_type": "display_data"
    }
   ],
   "source": [
    "sns.kdeplot(\n",
    "    df_clean[\"z_ratio_\" + seed_word + \"_\" + ctrl_seed_word + \"_out\"],\n",
    "    color=\"steelblue\",\n",
    "    alpha=0.5,\n",
    "    label=\"ratio1\",\n",
    "    fill=True,\n",
    ")\n",
    "sns.kdeplot(\n",
    "    df_clean[\"z_ratio_\" + seed_word + \"_\" + ctrl_seed_word + \"2_out\"],\n",
    "    color=\"salmon\",\n",
    "    alpha=0.5,\n",
    "    label=\"ratio2\",\n",
    "    fill=True,\n",
    ")\n",
    "plt.xlabel(\"ratios\")\n",
    "plt.legend()"
   ]
  },
  {
   "cell_type": "markdown",
   "id": "52a8eed4-e1e7-4e1b-a9e3-b172edf5c07a",
   "metadata": {},
   "source": [
    "#### LOESS Regression both ratios"
   ]
  },
  {
   "cell_type": "code",
   "execution_count": 148,
   "id": "0947c183-6fb5-42d9-8a3e-0a9fa2d8db2f",
   "metadata": {},
   "outputs": [
    {
     "name": "stdout",
     "output_type": "stream",
     "text": [
      "Output Summary\n",
      "--------------\n",
      "Number of Observations         : 760\n",
      "Fit flag                       : 1\n",
      "Equivalent Number of Parameters: 4.1\n",
      "Residual Standard Error        : 0.7563 \n",
      "\n",
      "Output Summary\n",
      "--------------\n",
      "Number of Observations         : 760\n",
      "Fit flag                       : 1\n",
      "Equivalent Number of Parameters: 4.1\n",
      "Residual Standard Error        : 0.8215\n"
     ]
    },
    {
     "data": {
      "image/png": "[encoded data removed]",
      "text/plain": [
       "<Figure size 1200x600 with 1 Axes>"
      ]
     },
     "metadata": {},
     "output_type": "display_data"
    }
   ],
   "source": [
    "#!pip install scikit-misc\n",
    "\n",
    "from skmisc.loess import loess, loess_confidence_intervals\n",
    "\n",
    "fig, ax = plt.subplots(figsize=(12, 6))\n",
    "\n",
    "\n",
    "def loess_plot(df, x_var, y_var, ax, color, label):\n",
    "\n",
    "    loess_model = loess(df_clean[x_var], df_clean[y_var])\n",
    "    # Unweighted fit (=default; all the weights are 1).\n",
    "    y_fit = loess_model.outputs.fitted_values\n",
    "    y_fit_lower_ci = loess_confidence_intervals(\n",
    "        loess_model.predict(df_clean[x_var], stderror=True), 0.05\n",
    "    ).lower\n",
    "\n",
    "    y_fit_upper_ci = loess_confidence_intervals(\n",
    "        loess_model.predict(df_clean[x_var], stderror=True), 0.05\n",
    "    ).upper\n",
    "\n",
    "    df_clean[\"loess_fitted_values\"] = loess_model.outputs.fitted_values\n",
    "\n",
    "    sns.lineplot(\n",
    "        data=df_clean,\n",
    "        x=x_var,\n",
    "        y=\"loess_fitted_values\",\n",
    "        ax=ax,\n",
    "        color=color,\n",
    "        linewidth=1,\n",
    "    )\n",
    "\n",
    "    sns.scatterplot(\n",
    "        data=df_clean,\n",
    "        x=x_var,\n",
    "        y=y_var,\n",
    "        ax=ax,\n",
    "        alpha=0.3,\n",
    "        s=50,\n",
    "        color=color,\n",
    "        label=label,\n",
    "    )\n",
    "\n",
    "    ci_band = pd.DataFrame(columns=[\"x\", \"y_upper\", \"y_lower\"])\n",
    "\n",
    "    ci_band[\"x\"] = df_clean[x_var]\n",
    "    ci_band[\"y_upper\"] = y_fit_upper_ci\n",
    "    ci_band[\"y_lower\"] = y_fit_lower_ci\n",
    "    ci_band = ci_band.sort_values(\"x\")\n",
    "    ax.fill_between(\n",
    "        x=ci_band[\"x\"],\n",
    "        y1=ci_band[\"y_upper\"],\n",
    "        y2=ci_band[\"y_lower\"],\n",
    "        alpha=0.3,\n",
    "        linewidth=0.5,\n",
    "        color=color,\n",
    "    )\n",
    "    ax.set_title(\"Local Regression (LOESS)\")\n",
    "    ax.set_ylabel(y_var)\n",
    "    plt.legend()\n",
    "\n",
    "    return loess_model.output_summary()\n",
    "\n",
    "\n",
    "summary1 = loess_plot(\n",
    "    df_clean,\n",
    "    \"year\",\n",
    "    \"z_ratio_\" + seed_word + \"_\" + ctrl_seed_word + \"_out\",\n",
    "    ax,\n",
    "    color=\"steelblue\",\n",
    "    label=\"ratio1\",\n",
    ")\n",
    "summary2 = loess_plot(\n",
    "    df_clean,\n",
    "    \"year\",\n",
    "    \"z_ratio_\" + seed_word + \"_\" + ctrl_seed_word + \"2_out\",\n",
    "    ax,\n",
    "    color=\"salmon\",\n",
    "    label=\"ratio2\",\n",
    ")\n",
    "\n",
    "print(summary1, \"\\n\")\n",
    "print(summary2)\n",
    "\n",
    "plt.ylabel(f\"ratios {seed_word} vs. {ctrl_seed_word}\")\n",
    "plt.savefig(\"fig_ratio_loess.png\", dpi=300)"
   ]
  },
  {
   "cell_type": "markdown",
   "id": "d13447b6-d5e0-44ee-86f7-c82f122f5257",
   "metadata": {},
   "source": [
    "<div class=\"alert alert-warning\">What value does this comparison of two such different kind of \"ratios\" give us?</div>"
   ]
  }
 ],
 "metadata": {
  "kernelspec": {
   "display_name": "Python 3 (ipykernel)",
   "language": "python",
   "name": "python3"
  },
  "language_info": {
   "codemirror_mode": {
    "name": "ipython",
    "version": 3
   },
   "file_extension": ".py",
   "mimetype": "text/x-python",
   "name": "python",
   "nbconvert_exporter": "python",
   "pygments_lexer": "ipython3",
   "version": "3.9.13"
  }
 },
 "nbformat": 4,
 "nbformat_minor": 5
}
