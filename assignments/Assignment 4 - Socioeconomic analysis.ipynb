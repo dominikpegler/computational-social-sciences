{
 "cells": [
  {
   "cell_type": "markdown",
   "id": "a717ea9a-d5ea-4d55-bea8-260a40e1076d",
   "metadata": {},
   "source": [
    "Assignment 4 - Socioeconomic analysis\n",
    "===\n",
    "\n",
    "*Due: January 17 2023*\n",
    "\n",
    "You will analyze a set of movies dialogues and calculate their sentiment scores (using Vader, text Blob, or Naive Bayes).\n",
    "\n",
    "Then you will analyze how the positivity (or negativity) of sentiment score expressed in movie dialogues changes through time and is affected by socioeconomic and historical events.\n",
    "\n",
    "In particular, you will use the provided R scripts to test how sentiment scores in movies are affected by GDP per capita, Life expectancy and the political cycle (Republican or Democrat president)."
   ]
  },
  {
   "cell_type": "markdown",
   "id": "f99ade62-5fcd-48b6-aeb8-5ddb11321159",
   "metadata": {},
   "source": [
    "## Import"
   ]
  },
  {
   "cell_type": "raw",
   "id": "536ccb27-1d55-4b69-8c20-301b18073de8",
   "metadata": {},
   "source": [
    "import jupyter_black\n",
    "\n",
    "jupyter_black.load()"
   ]
  },
  {
   "cell_type": "code",
   "execution_count": 13,
   "id": "1db4683b-d2db-466d-bdbb-13af7051b03e",
   "metadata": {},
   "outputs": [],
   "source": [
    "import os\n",
    "import pandas as pd\n",
    "import regex as re\n",
    "import contractions\n",
    "import nltk\n",
    "from nltk.corpus import stopwords\n",
    "from textblob import TextBlob\n",
    "from glob import glob\n",
    "from nltk.stem import WordNetLemmatizer\n",
    "\n",
    "\n",
    "lemma = WordNetLemmatizer()\n",
    "\n",
    "stop_words = set(stopwords.words(\"english\"))\n",
    "lang = \"eng\"\n",
    "data_path = \"data/dialogs_preprocessed2/\""
   ]
  },
  {
   "cell_type": "markdown",
   "id": "29f77202-71ef-4db2-a187-c61b4e62fd45",
   "metadata": {},
   "source": [
    "## Functions"
   ]
  },
  {
   "cell_type": "markdown",
   "id": "bef46586-ee1a-45d1-8c79-5bde4ebdf504",
   "metadata": {},
   "source": [
    "### Functions for text preprocessing"
   ]
  },
  {
   "cell_type": "code",
   "execution_count": 9,
   "id": "8f14539b-26e9-4f63-bae7-e00729fc9ecd",
   "metadata": {},
   "outputs": [],
   "source": [
    "def clean_url(input):\n",
    "    output = re.sub(r\"http\\S+\", \"\", input)\n",
    "    return output\n",
    "\n",
    "\n",
    "def fix_contraction(input):\n",
    "    output = contractions.fix(input)\n",
    "    return output\n",
    "\n",
    "\n",
    "def clean_non_alphanumeric(input):\n",
    "    output = re.sub(r\"[^a-zA-Z0-9]\", \" \", input)\n",
    "    return output\n",
    "\n",
    "\n",
    "def clean_tokenization(input):\n",
    "    output = nltk.word_tokenize(input)\n",
    "    return output\n",
    "\n",
    "\n",
    "def clean_stopwords(input):\n",
    "    output = [item for item in input if item not in stop_words]\n",
    "    return output\n",
    "\n",
    "\n",
    "def numbers_to_words(input):\n",
    "    output = []\n",
    "    for item in input:\n",
    "        if item.isnumeric() == True:\n",
    "            output += [p.number_to_words(item)]\n",
    "        else:\n",
    "            output += [item]\n",
    "    return output\n",
    "\n",
    "\n",
    "def clean_lowercase(input):\n",
    "    output = str(input).lower()\n",
    "    return output\n",
    "\n",
    "\n",
    "def clean_lemmatization(input):\n",
    "    output = [lemma.lemmatize(word=w, pos=\"v\") for w in input]\n",
    "    return output\n",
    "\n",
    "\n",
    "def clean_length(input):\n",
    "    output = [word for word in input if len(word) > 2]\n",
    "    return output\n",
    "\n",
    "\n",
    "def convert_to_string(input):\n",
    "    output = \" \".join(input)\n",
    "    return output\n",
    "\n",
    "\n",
    "def preprocessing(text, remove_stopwords=True):\n",
    "    \"\"\"\n",
    "    Preprocessing pipeline.\n",
    "    \"\"\"\n",
    "    text = clean_url(text)\n",
    "    text = fix_contraction(text)\n",
    "    text = clean_non_alphanumeric(text)\n",
    "    text = clean_lowercase(text)\n",
    "    text = clean_tokenization(text)\n",
    "    text = numbers_to_words(text)\n",
    "    if remove_stopwords:\n",
    "        text = clean_stopwords(text)\n",
    "    text = clean_lemmatization(text)\n",
    "    text = clean_length(text)\n",
    "    text = convert_to_string(text)\n",
    "    return text"
   ]
  },
  {
   "cell_type": "markdown",
   "id": "a7844a54-209e-4a11-b7aa-1af1bac81ef1",
   "metadata": {
    "tags": []
   },
   "source": [
    "## Load movie dialogs and preprocess them"
   ]
  },
  {
   "cell_type": "code",
   "execution_count": 14,
   "id": "5d08a5a6-0243-4983-9c27-67414348b7f0",
   "metadata": {},
   "outputs": [
    {
     "data": {
      "text/html": [
       "<div>\n",
       "<style scoped>\n",
       "    .dataframe tbody tr th:only-of-type {\n",
       "        vertical-align: middle;\n",
       "    }\n",
       "\n",
       "    .dataframe tbody tr th {\n",
       "        vertical-align: top;\n",
       "    }\n",
       "\n",
       "    .dataframe thead th {\n",
       "        text-align: right;\n",
       "    }\n",
       "</style>\n",
       "<table border=\"1\" class=\"dataframe\">\n",
       "  <thead>\n",
       "    <tr style=\"text-align: right;\">\n",
       "      <th></th>\n",
       "      <th>movie</th>\n",
       "      <th>path</th>\n",
       "      <th>text</th>\n",
       "    </tr>\n",
       "  </thead>\n",
       "  <tbody>\n",
       "    <tr>\n",
       "      <th>0</th>\n",
       "      <td>donniebrasco</td>\n",
       "      <td>data/dialogs_preprocessed2/donniebrasco_dialog...</td>\n",
       "      <td>paul attanasio base book donnie brasco joseph ...</td>\n",
       "    </tr>\n",
       "    <tr>\n",
       "      <th>1</th>\n",
       "      <td>shiningthe</td>\n",
       "      <td>data/dialogs_preprocessed2/shiningthe_dialog.txt</td>\n",
       "      <td>post production script july get appointment ul...</td>\n",
       "    </tr>\n",
       "    <tr>\n",
       "      <th>2</th>\n",
       "      <td>idesofmarchthe</td>\n",
       "      <td>data/dialogs_preprocessed2/idesofmarchthe_dial...</td>\n",
       "      <td>write george clooney grant heslov beau willimo...</td>\n",
       "    </tr>\n",
       "    <tr>\n",
       "      <th>3</th>\n",
       "      <td>hangoverthe</td>\n",
       "      <td>data/dialogs_preprocessed2/hangoverthe_dialog.txt</td>\n",
       "      <td>write jon lucas scott moore september word dou...</td>\n",
       "    </tr>\n",
       "    <tr>\n",
       "      <th>4</th>\n",
       "      <td>bringingoutthedead</td>\n",
       "      <td>data/dialogs_preprocessed2/bringingoutthedead_...</td>\n",
       "      <td>first draft paul schrader novel joseph connell...</td>\n",
       "    </tr>\n",
       "  </tbody>\n",
       "</table>\n",
       "</div>"
      ],
      "text/plain": [
       "                movie                                               path  \\\n",
       "0        donniebrasco  data/dialogs_preprocessed2/donniebrasco_dialog...   \n",
       "1          shiningthe   data/dialogs_preprocessed2/shiningthe_dialog.txt   \n",
       "2      idesofmarchthe  data/dialogs_preprocessed2/idesofmarchthe_dial...   \n",
       "3         hangoverthe  data/dialogs_preprocessed2/hangoverthe_dialog.txt   \n",
       "4  bringingoutthedead  data/dialogs_preprocessed2/bringingoutthedead_...   \n",
       "\n",
       "                                                text  \n",
       "0  paul attanasio base book donnie brasco joseph ...  \n",
       "1  post production script july get appointment ul...  \n",
       "2  write george clooney grant heslov beau willimo...  \n",
       "3  write jon lucas scott moore september word dou...  \n",
       "4  first draft paul schrader novel joseph connell...  "
      ]
     },
     "execution_count": 14,
     "metadata": {},
     "output_type": "execute_result"
    }
   ],
   "source": [
    "df = pd.DataFrame(glob(data_path + \"/*.txt\"), columns=[\"movie\"])\n",
    "df[\"path\"] = df[\"movie\"]\n",
    "df[\"movie\"] = (\n",
    "    df[\"movie\"]\n",
    "    .str.replace(\"^\" + data_path, \"\", regex=True)\n",
    "    .str.replace(\"_dialog.txt$\", \"\", regex=True)\n",
    ")\n",
    "\n",
    "\n",
    "df[\"text\"] = df[\"path\"].apply(lambda path: open(path, encoding=\"utf-8\").read())\n",
    "df[\"text\"] = df[\"text\"].apply(lambda raw_txt: preprocessing(raw_txt))\n",
    "\n",
    "df.head()"
   ]
  },
  {
   "cell_type": "markdown",
   "id": "ef6f5e4a-1610-41f6-b8b7-f30744267eb1",
   "metadata": {
    "tags": []
   },
   "source": [
    "## Add sentiment scores"
   ]
  },
  {
   "cell_type": "code",
   "execution_count": 17,
   "id": "bde897f9-32ca-4188-bda9-0366f74c91b5",
   "metadata": {},
   "outputs": [
    {
     "data": {
      "text/html": [
       "<div>\n",
       "<style scoped>\n",
       "    .dataframe tbody tr th:only-of-type {\n",
       "        vertical-align: middle;\n",
       "    }\n",
       "\n",
       "    .dataframe tbody tr th {\n",
       "        vertical-align: top;\n",
       "    }\n",
       "\n",
       "    .dataframe thead th {\n",
       "        text-align: right;\n",
       "    }\n",
       "</style>\n",
       "<table border=\"1\" class=\"dataframe\">\n",
       "  <thead>\n",
       "    <tr style=\"text-align: right;\">\n",
       "      <th></th>\n",
       "      <th>movie</th>\n",
       "      <th>path</th>\n",
       "      <th>text</th>\n",
       "      <th>textblob</th>\n",
       "    </tr>\n",
       "  </thead>\n",
       "  <tbody>\n",
       "    <tr>\n",
       "      <th>0</th>\n",
       "      <td>donniebrasco</td>\n",
       "      <td>data/dialogs_preprocessed2/donniebrasco_dialog...</td>\n",
       "      <td>paul attanasio base book donnie brasco joseph ...</td>\n",
       "      <td>-0.011833</td>\n",
       "    </tr>\n",
       "    <tr>\n",
       "      <th>1</th>\n",
       "      <td>shiningthe</td>\n",
       "      <td>data/dialogs_preprocessed2/shiningthe_dialog.txt</td>\n",
       "      <td>post production script july get appointment ul...</td>\n",
       "      <td>0.158831</td>\n",
       "    </tr>\n",
       "    <tr>\n",
       "      <th>2</th>\n",
       "      <td>idesofmarchthe</td>\n",
       "      <td>data/dialogs_preprocessed2/idesofmarchthe_dial...</td>\n",
       "      <td>write george clooney grant heslov beau willimo...</td>\n",
       "      <td>0.097131</td>\n",
       "    </tr>\n",
       "    <tr>\n",
       "      <th>3</th>\n",
       "      <td>hangoverthe</td>\n",
       "      <td>data/dialogs_preprocessed2/hangoverthe_dialog.txt</td>\n",
       "      <td>write jon lucas scott moore september word dou...</td>\n",
       "      <td>0.156580</td>\n",
       "    </tr>\n",
       "    <tr>\n",
       "      <th>4</th>\n",
       "      <td>bringingoutthedead</td>\n",
       "      <td>data/dialogs_preprocessed2/bringingoutthedead_...</td>\n",
       "      <td>first draft paul schrader novel joseph connell...</td>\n",
       "      <td>0.013822</td>\n",
       "    </tr>\n",
       "  </tbody>\n",
       "</table>\n",
       "</div>"
      ],
      "text/plain": [
       "                movie                                               path  \\\n",
       "0        donniebrasco  data/dialogs_preprocessed2/donniebrasco_dialog...   \n",
       "1          shiningthe   data/dialogs_preprocessed2/shiningthe_dialog.txt   \n",
       "2      idesofmarchthe  data/dialogs_preprocessed2/idesofmarchthe_dial...   \n",
       "3         hangoverthe  data/dialogs_preprocessed2/hangoverthe_dialog.txt   \n",
       "4  bringingoutthedead  data/dialogs_preprocessed2/bringingoutthedead_...   \n",
       "\n",
       "                                                text  textblob  \n",
       "0  paul attanasio base book donnie brasco joseph ... -0.011833  \n",
       "1  post production script july get appointment ul...  0.158831  \n",
       "2  write george clooney grant heslov beau willimo...  0.097131  \n",
       "3  write jon lucas scott moore september word dou...  0.156580  \n",
       "4  first draft paul schrader novel joseph connell...  0.013822  "
      ]
     },
     "execution_count": 17,
     "metadata": {},
     "output_type": "execute_result"
    }
   ],
   "source": [
    "df[\"textblob\"] = df.text.apply(lambda x: TextBlob(x).sentiment.polarity)\n",
    "\n",
    "df.head()"
   ]
  },
  {
   "cell_type": "markdown",
   "id": "7081e40b-8792-43dd-818c-5acbe2717b39",
   "metadata": {},
   "source": [
    "## Time series"
   ]
  },
  {
   "cell_type": "markdown",
   "id": "101fd970-413e-4042-af88-0d328e75e73e",
   "metadata": {},
   "source": [
    "<div class=\"alert alert-warning\">For this we would need the years of the movies</div>"
   ]
  },
  {
   "cell_type": "code",
   "execution_count": 355,
   "id": "61ec8195-fffe-4f82-a5a0-f2c629412ad9",
   "metadata": {},
   "outputs": [],
   "source": [
    "#\n",
    "#\n",
    "#"
   ]
  }
 ],
 "metadata": {
  "kernelspec": {
   "display_name": "Python 3 (ipykernel)",
   "language": "python",
   "name": "python3"
  },
  "language_info": {
   "codemirror_mode": {
    "name": "ipython",
    "version": 3
   },
   "file_extension": ".py",
   "mimetype": "text/x-python",
   "name": "python",
   "nbconvert_exporter": "python",
   "pygments_lexer": "ipython3",
   "version": "3.9.13"
  }
 },
 "nbformat": 4,
 "nbformat_minor": 5
}
