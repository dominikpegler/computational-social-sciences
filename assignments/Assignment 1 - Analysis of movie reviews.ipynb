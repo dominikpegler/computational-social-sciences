{
 "cells": [
  {
   "cell_type": "markdown",
   "id": "a717ea9a-d5ea-4d55-bea8-260a40e1076d",
   "metadata": {},
   "source": [
    "Assignment 1 - analysis of movie reviews\n",
    "===\n",
    "\n",
    "*Due: November 29 2022*\n",
    "\n",
    "In this assignment you will use web scraping tools to extract the reviews of 2 movies - Dune and Interstellar  - from Rotten Tomatoes.\n",
    "\n",
    "You will save these reviews as text - strings - in a database that you will save as a CSV file.\n",
    "\n",
    "After obtaining a dataset of Dune and Interstellar reviews, for each movie you will obtain:\n",
    "\n",
    "- Wordclouds\n",
    "\n",
    "- Word Frequency Barplots with the 20 most-frequent words: frequency as Y-axis and words as X-axis\n",
    "\n",
    "- Sentiment scores for each movie using AFINN"
   ]
  },
  {
   "cell_type": "markdown",
   "id": "51e4468c-325d-46bc-ae0a-964e0bfcd1c2",
   "metadata": {},
   "source": [
    "## Define function to download reviews"
   ]
  },
  {
   "cell_type": "markdown",
   "id": "0c2f9851-681b-4ee4-bdc7-0f534087351a",
   "metadata": {},
   "source": [
    "Code take from [this](https://stackoverflow.com/questions/69963743/scraping-all-reviews-of-a-movie-from-rotten-tomato-using-soup) stackoverflow question:"
   ]
  },
  {
   "cell_type": "raw",
   "id": "eadcd2ea-02fb-4473-9287-403a6a8e0483",
   "metadata": {},
   "source": [
    "import jupyter_black\n",
    "\n",
    "jupyter_black.load()"
   ]
  },
  {
   "cell_type": "code",
   "execution_count": 208,
   "id": "cd0ffa42-a75a-40bc-8715-075547e9a02a",
   "metadata": {},
   "outputs": [],
   "source": [
    "import pandas as pd\n",
    "import requests\n",
    "import re\n",
    "import time\n",
    "import html\n",
    "import regex as re\n",
    "import json, os\n",
    "import matplotlib.pyplot as plt\n",
    "\n",
    "\n",
    "headers = {\n",
    "    \"Referer\": \"https://www.rottentomatoes.com/m/notebook/reviews?type=user\",\n",
    "    \"User-Agent\": \"Mozilla/5.0 (Windows NT 10.0; Win64; x64) AppleWebKit/537.36 (KHTML, like Gecko) Chrome/74.0.3729.108 Safari/537.36\",\n",
    "    \"X-Requested-With\": \"XMLHttpRequest\",\n",
    "}\n",
    "\n",
    "s = requests.Session()\n",
    "\n",
    "\n",
    "def get_reviews(url):\n",
    "    r = requests.get(url)\n",
    "    movie_id = re.findall(r'(?<=movieId\":\")(.*)(?=\",\"type)', r.text)[0]\n",
    "\n",
    "    api_url = f\"https://www.rottentomatoes.com/napi/movie/{movie_id}/criticsReviews/all\"  # use reviews/userfor user reviews\n",
    "\n",
    "    payload = {\n",
    "        \"direction\": \"next\",\n",
    "        \"endCursor\": \"\",\n",
    "        \"startCursor\": \"\",\n",
    "    }\n",
    "\n",
    "    review_data = []\n",
    "\n",
    "    while True:\n",
    "        r = s.get(api_url, headers=headers, params=payload)\n",
    "        data = r.json()\n",
    "\n",
    "        global data_x\n",
    "        data_x = data\n",
    "\n",
    "        # unescape html\n",
    "        for i, review in enumerate(data[\"reviews\"]):\n",
    "            data[\"reviews\"][i][\"quotes\"] = html.unescape(review[\"quote\"])\n",
    "\n",
    "        if not data[\"pageInfo\"][\"hasNextPage\"]:\n",
    "            break\n",
    "\n",
    "        payload[\"endCursor\"] = data[\"pageInfo\"][\"endCursor\"]\n",
    "        payload[\"startCursor\"] = (\n",
    "            data[\"pageInfo\"][\"startCursor\"]\n",
    "            if data[\"pageInfo\"].get(\"startCursor\")\n",
    "            else \"\"\n",
    "        )\n",
    "\n",
    "        review_data.extend(data[\"reviews\"])\n",
    "        time.sleep(1)\n",
    "\n",
    "    return review_data"
   ]
  },
  {
   "cell_type": "markdown",
   "id": "7662d3f7-c529-4506-962a-c5a3ac6f6258",
   "metadata": {},
   "source": [
    "## Download reviews"
   ]
  },
  {
   "cell_type": "code",
   "execution_count": 209,
   "id": "99d51246-756b-4119-9cdd-ba85cbe79dff",
   "metadata": {},
   "outputs": [
    {
     "name": "stdout",
     "output_type": "stream",
     "text": [
      "It's all there!\n",
      "\n",
      "CPU times: user 8.03 ms, sys: 110 µs, total: 8.14 ms\n",
      "Wall time: 7.27 ms\n"
     ]
    }
   ],
   "source": [
    "%%time\n",
    "\n",
    "\n",
    "movies = [\"interstellar_2014\", \"dune_2021\", \"shining\", \"one_flew_over_the_cuckoos_nest\"]\n",
    "\n",
    "\n",
    "data_path = \"data/01_data.json\"\n",
    "\n",
    "if os.path.exists(data_path):\n",
    "\n",
    "    with open(data_path) as fp:\n",
    "        data = json.load(fp)\n",
    "        missing = set(movies) - set(data.keys())\n",
    "        if len(missing) > 0:\n",
    "            print(\"Downloading:\", \", \".join(list(missing)), \"\\n\")\n",
    "\n",
    "            for movie in missing:\n",
    "                data[movie] = get_reviews(\n",
    "                    \"https://www.rottentomatoes.com/m/\" + movie + \"/reviews\"\n",
    "                )\n",
    "\n",
    "            # save to disk\n",
    "            with open(data_path, \"w\", encoding=\"utf8\") as fp:\n",
    "                json.dump(data, fp)\n",
    "\n",
    "        else:\n",
    "            print(\"It's all there!\\n\")\n",
    "\n",
    "\n",
    "else:\n",
    "\n",
    "    data = {}\n",
    "    print(\"Downloading reviews:\\n\")\n",
    "    for movie in movies:\n",
    "        print(movie, \"...\")\n",
    "        data[movie] = get_reviews(\n",
    "            \"https://www.rottentomatoes.com/m/\" + movie + \"/reviews\"\n",
    "        )\n",
    "\n",
    "    # save to disk\n",
    "    with open(data_path, \"w\", encoding=\"utf8\") as fp:\n",
    "        json.dump(data, fp)"
   ]
  },
  {
   "cell_type": "markdown",
   "id": "a1aa56f0-5b9d-4831-b0f7-943332d49d1d",
   "metadata": {},
   "source": [
    "### Interstellar"
   ]
  },
  {
   "cell_type": "code",
   "execution_count": 210,
   "id": "1ceb17a5-84d1-42f1-a969-5de897c86352",
   "metadata": {},
   "outputs": [],
   "source": [
    "df_interstellar = pd.json_normalize(data[\"interstellar_2014\"])"
   ]
  },
  {
   "cell_type": "markdown",
   "id": "60d37c5f-4882-4db3-8992-76e536c7fac5",
   "metadata": {
    "tags": []
   },
   "source": [
    "#### Word clouds"
   ]
  },
  {
   "cell_type": "code",
   "execution_count": 211,
   "id": "92ac6d1d-d1de-423c-87a1-bc454ce81e37",
   "metadata": {},
   "outputs": [],
   "source": [
    "#\n",
    "#\n",
    "#"
   ]
  },
  {
   "cell_type": "markdown",
   "id": "a6c0ec05-b0fc-4701-b06b-410460b2bc72",
   "metadata": {},
   "source": [
    "#### Word frequency"
   ]
  },
  {
   "cell_type": "code",
   "execution_count": 253,
   "id": "a5b8dace-5cd8-4b8a-858e-a3beaa4a7b7d",
   "metadata": {},
   "outputs": [],
   "source": [
    "def create_df_wordcount(df):\n",
    "    \"\"\"\n",
    "    Returns dataframe with word count\n",
    "    \"\"\"\n",
    "\n",
    "    # One long string\n",
    "    word_string = \" \".join(list(df.quotes))\n",
    "\n",
    "    # To lower case\n",
    "    word_string = word_string.lower()\n",
    "\n",
    "    # Replace \"it's\" by \"it is\" etc.\n",
    "    # is\n",
    "    word_string = re.sub(\"it’s|it's\", \"it is\", word_string)\n",
    "    word_string = re.sub(\" its \", \" it is \", word_string)\n",
    "    word_string = re.sub(\" thats \", \" that is \", word_string)\n",
    "    word_string = re.sub(\"that’s|that's\", \"that is\", word_string)\n",
    "    word_string = re.sub(\"he’s|he's\", \"he is\", word_string)  # includes she\n",
    "    word_string = re.sub(\"we’re|we're\", \"we are\", word_string)\n",
    "    word_string = re.sub(\"they’re|they're\", \"they are\", word_string)\n",
    "    word_string = re.sub(\"you’re|you're\", \"you are\", word_string)\n",
    "    # has\n",
    "    word_string = re.sub(\"we’ve|we've\", \"we have\", word_string)\n",
    "    word_string = re.sub(\"they’ve|they've\", \"they have\", word_string)\n",
    "    word_string = re.sub(\"you’ve|you've\", \"you have\", word_string)\n",
    "    word_string = re.sub(\"i’ve|i've\", \"i have\", word_string)\n",
    "    # can't\n",
    "    word_string = re.sub(\"can’t|can't\", \"can not\", word_string)\n",
    "    word_string = re.sub(\"cannot\", \"can not\", word_string)\n",
    "    # isn't\n",
    "    word_string = re.sub(\"isn’t|isn't\", \"is not\", word_string)\n",
    "    word_string = re.sub(\"doesn’t|doesn't\", \"does not\", word_string)\n",
    "    word_string = re.sub(\"don’t|don't\", \"do not\", word_string)\n",
    "    # hasn't\n",
    "    word_string = re.sub(\"hasn’t|hasn't\", \"has not\", word_string)\n",
    "    word_string = re.sub(\"haven’t|haven't\", \"have not\", word_string)\n",
    "    # there's\n",
    "    word_string = re.sub(\"there’s|there's\", \"there is\", word_string)\n",
    "    # y'all\n",
    "    word_string = re.sub(\"y’all|y'all\", \"you all\", word_string)\n",
    "\n",
    "    # Replace dots, exclamation marks and so on ... with space\n",
    "    word_string = re.sub(\",|\\.|--|!|\\?|:|\\\"|\\(|\\)|\\[|\\]|\\s-\\s|/|'s|'\", \" \", word_string)\n",
    "\n",
    "    # Split into list of words\n",
    "\n",
    "    word_list = word_string.split(\" \")\n",
    "\n",
    "    word_set = set(word_list)\n",
    "\n",
    "    # Create dataframe with word and count\n",
    "\n",
    "    word_count = [\n",
    "        (word, word_list.count(word)) for word in list(word_set) if word != \"\"\n",
    "    ]\n",
    "\n",
    "    df_word_count = (\n",
    "        pd.DataFrame(word_count, columns=[\"word\", \"count\"])\n",
    "        .sort_values(\"count\", ascending=False)\n",
    "        .reset_index(drop=True)\n",
    "    )\n",
    "\n",
    "    return df_word_count"
   ]
  },
  {
   "cell_type": "code",
   "execution_count": 254,
   "id": "ab05d750-40f1-4a19-ae2c-1af32d45b38a",
   "metadata": {},
   "outputs": [],
   "source": [
    "df_word_count = create_df_wordcount(df_interstellar)"
   ]
  },
  {
   "cell_type": "markdown",
   "id": "c83a54f6-5a3c-4c1e-a724-e7aed1ae54e8",
   "metadata": {},
   "source": [
    "Plot"
   ]
  },
  {
   "cell_type": "code",
   "execution_count": 255,
   "id": "dffd4a62-9654-4db8-96eb-21ef1009d2e6",
   "metadata": {},
   "outputs": [
    {
     "data": {
      "image/png": "[encoded data removed]",
      "text/plain": [
       "<Figure size 640x480 with 1 Axes>"
      ]
     },
     "metadata": {},
     "output_type": "display_data"
    }
   ],
   "source": [
    "# limit to the 20 most frequent words\n",
    "\n",
    "df_pl = df_word_count.iloc[0:20, :]\n",
    "\n",
    "plt.bar(x=df_pl[\"word\"], height=df_pl[\"count\"])\n",
    "plt.xticks(rotation=90);"
   ]
  },
  {
   "cell_type": "markdown",
   "id": "8cddee47-ef76-4ef2-8043-32ecd8c658e9",
   "metadata": {},
   "source": [
    "#### Sentiment score"
   ]
  },
  {
   "cell_type": "code",
   "execution_count": 40,
   "id": "195a2ce9-4e02-4c15-9f7b-6eb7fb228474",
   "metadata": {},
   "outputs": [],
   "source": [
    "#\n",
    "#\n",
    "#"
   ]
  },
  {
   "cell_type": "markdown",
   "id": "57447c23-06da-439c-bc22-844013a7670b",
   "metadata": {},
   "source": [
    "### Dune"
   ]
  },
  {
   "cell_type": "code",
   "execution_count": 256,
   "id": "048400ff-43d7-4041-b02b-7b0958169190",
   "metadata": {},
   "outputs": [],
   "source": [
    "df_dune = pd.json_normalize(data[\"dune_2021\"])"
   ]
  },
  {
   "cell_type": "markdown",
   "id": "8e0c6fdb-f8fa-4485-86b8-a0c08e3820f3",
   "metadata": {
    "tags": []
   },
   "source": [
    "#### Word clouds"
   ]
  },
  {
   "cell_type": "code",
   "execution_count": 257,
   "id": "ca47d165-cdb0-4537-9838-a264df5e652c",
   "metadata": {},
   "outputs": [],
   "source": [
    "#\n",
    "#\n",
    "#"
   ]
  },
  {
   "cell_type": "markdown",
   "id": "7e5b7e9f-e310-485c-ae0d-cfad15543adf",
   "metadata": {},
   "source": [
    "#### Word frequency"
   ]
  },
  {
   "cell_type": "code",
   "execution_count": 258,
   "id": "c4f4ca36-afb5-49b9-bb38-5ec96b0f4074",
   "metadata": {},
   "outputs": [],
   "source": [
    "df_word_count = create_df_wordcount(df_dune)"
   ]
  },
  {
   "cell_type": "markdown",
   "id": "4fda1b19-a0b0-4081-bbf0-78f794335d94",
   "metadata": {},
   "source": [
    "Plot"
   ]
  },
  {
   "cell_type": "code",
   "execution_count": 259,
   "id": "d6835706-1e92-4287-a3e7-616a80997e11",
   "metadata": {},
   "outputs": [
    {
     "data": {
      "image/png": "[encoded data removed]",
      "text/plain": [
       "<Figure size 640x480 with 1 Axes>"
      ]
     },
     "metadata": {},
     "output_type": "display_data"
    }
   ],
   "source": [
    "# limit to the 20 most frequent words\n",
    "\n",
    "df_pl = df_word_count.iloc[0:20, :]\n",
    "\n",
    "plt.bar(x=df_pl[\"word\"], height=df_pl[\"count\"])\n",
    "plt.xticks(rotation=90);"
   ]
  },
  {
   "cell_type": "markdown",
   "id": "842def8b-7b6d-4c6f-be84-2e651d4e3986",
   "metadata": {},
   "source": [
    "#### Sentiment score"
   ]
  },
  {
   "cell_type": "code",
   "execution_count": 40,
   "id": "692279e8-96b2-4078-9922-a74a923a7e53",
   "metadata": {},
   "outputs": [],
   "source": [
    "#\n",
    "#\n",
    "#"
   ]
  },
  {
   "cell_type": "code",
   "execution_count": null,
   "id": "4ee6f44e-d938-4e3c-95c8-419cb91cc84c",
   "metadata": {},
   "outputs": [],
   "source": []
  }
 ],
 "metadata": {
  "kernelspec": {
   "display_name": "Python 3 (ipykernel)",
   "language": "python",
   "name": "python3"
  },
  "language_info": {
   "codemirror_mode": {
    "name": "ipython",
    "version": 3
   },
   "file_extension": ".py",
   "mimetype": "text/x-python",
   "name": "python",
   "nbconvert_exporter": "python",
   "pygments_lexer": "ipython3",
   "version": "3.9.13"
  }
 },
 "nbformat": 4,
 "nbformat_minor": 5
}
