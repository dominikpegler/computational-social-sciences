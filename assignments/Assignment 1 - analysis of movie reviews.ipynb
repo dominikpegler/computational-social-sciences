{
 "cells": [
  {
   "cell_type": "markdown",
   "id": "a717ea9a-d5ea-4d55-bea8-260a40e1076d",
   "metadata": {},
   "source": [
    "Assignment 1 - analysis of movie reviews\n",
    "===\n",
    "\n",
    "*Due: November 29 2022*\n",
    "\n",
    "In this assignment you will use web scrapping tools to extract the reviews of 2 movies - Dune and Interstellar  - from Rotten Tomatoes.\n",
    "\n",
    "You will save these reviews as text - strings - in a database that you will save as a CSV file.\n",
    "\n",
    "After obtaining a dataset of Dune and Interstellar reviews, for each movie you will obtain:\n",
    "\n",
    "- Wordclouds\n",
    "\n",
    "- Word Frequency Barplots with the 20 most-frequent words: frequency as Y-axis and words as X-axis\n",
    "\n",
    "- Sentiment scores for each movie using AFINN"
   ]
  },
  {
   "cell_type": "code",
   "execution_count": 1,
   "id": "cd0ffa42-a75a-40bc-8715-075547e9a02a",
   "metadata": {},
   "outputs": [],
   "source": [
    "#\n",
    "#\n",
    "#"
   ]
  }
 ],
 "metadata": {
  "kernelspec": {
   "display_name": "Python 3 (ipykernel)",
   "language": "python",
   "name": "python3"
  },
  "language_info": {
   "codemirror_mode": {
    "name": "ipython",
    "version": 3
   },
   "file_extension": ".py",
   "mimetype": "text/x-python",
   "name": "python",
   "nbconvert_exporter": "python",
   "pygments_lexer": "ipython3",
   "version": "3.9.13"
  }
 },
 "nbformat": 4,
 "nbformat_minor": 5
}
